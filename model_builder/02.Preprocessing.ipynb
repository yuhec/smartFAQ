{
  "cells": [
    {
      "cell_type": "markdown",
      "source": "# PREPROCESSING \n---\n## IMPORT ",
      "metadata": {
        "cell_id": "00000-a70a5a8c-d183-40ec-badc-2b6148f37ec6",
        "tags": [],
        "deepnote_cell_type": "markdown"
      }
    },
    {
      "cell_type": "code",
      "metadata": {
        "cell_id": "00001-eff6abcf-6d08-4eb3-b666-18cf1a3c68c3",
        "tags": [],
        "deepnote_to_be_reexecuted": false,
        "source_hash": "afbead54",
        "execution_start": 1615136766040,
        "execution_millis": 1248,
        "deepnote_cell_type": "code"
      },
      "source": "import os\nimport pandas as pd \nimport numpy as np \nimport pickle\nfrom sklearn.model_selection import train_test_split",
      "execution_count": 1,
      "outputs": []
    },
    {
      "cell_type": "markdown",
      "source": "## Get Data ",
      "metadata": {
        "cell_id": "00002-4e35426f-7788-45e4-a3c3-3ce2d4bfdacb",
        "tags": [],
        "deepnote_cell_type": "markdown"
      }
    },
    {
      "cell_type": "code",
      "metadata": {
        "cell_id": "00003-c54d6eb9-b2e8-4712-be5c-5facd823e7a4",
        "deepnote_to_be_reexecuted": false,
        "source_hash": "fcfb71b8",
        "execution_start": 1615136767291,
        "execution_millis": 20658,
        "deepnote_cell_type": "code"
      },
      "source": "df_answers = pd.read_csv('../data/Answers.csv', encoding='latin-1')\ndf_questions = pd.read_csv('../data/Questions.csv', encoding='latin-1')",
      "execution_count": 2,
      "outputs": []
    },
    {
      "cell_type": "code",
      "metadata": {
        "cell_id": "00004-a92492e8-9662-4792-be61-bd1fa22f9962",
        "deepnote_to_be_reexecuted": false,
        "source_hash": "915ba2a7",
        "execution_start": 1615136787949,
        "execution_millis": 1235,
        "deepnote_cell_type": "code"
      },
      "source": "df_train = df_answers.merge(df_questions, how='inner', left_on='ParentId', right_on='Id')\ndf_train = df_train.drop(['ParentId'], axis=1)",
      "execution_count": 3,
      "outputs": []
    },
    {
      "cell_type": "code",
      "metadata": {
        "cell_id": "00005-c5f0af71-b243-4897-9ec1-256501d8d337",
        "deepnote_to_be_reexecuted": false,
        "source_hash": "5e2a9c26",
        "execution_start": 1615136789211,
        "execution_millis": 22,
        "deepnote_cell_type": "code"
      },
      "source": "df_train.head()",
      "execution_count": 4,
      "outputs": [
        {
          "output_type": "execute_result",
          "execution_count": 4,
          "data": {
            "application/vnd.deepnote.dataframe.v2+json": {
              "row_count": 5,
              "column_count": 11,
              "columns": [
                {
                  "name": "Id_x",
                  "dtype": "int64",
                  "stats": {
                    "unique_count": 5,
                    "nan_count": 0,
                    "min": 497,
                    "max": 195170,
                    "histogram": [
                      {
                        "bin_start": 497,
                        "bin_end": 19964.3,
                        "count": 4
                      },
                      {
                        "bin_start": 19964.3,
                        "bin_end": 39431.6,
                        "count": 0
                      },
                      {
                        "bin_start": 39431.6,
                        "bin_end": 58898.899999999994,
                        "count": 0
                      },
                      {
                        "bin_start": 58898.899999999994,
                        "bin_end": 78366.2,
                        "count": 0
                      },
                      {
                        "bin_start": 78366.2,
                        "bin_end": 97833.5,
                        "count": 0
                      },
                      {
                        "bin_start": 97833.5,
                        "bin_end": 117300.79999999999,
                        "count": 0
                      },
                      {
                        "bin_start": 117300.79999999999,
                        "bin_end": 136768.1,
                        "count": 0
                      },
                      {
                        "bin_start": 136768.1,
                        "bin_end": 156235.4,
                        "count": 0
                      },
                      {
                        "bin_start": 156235.4,
                        "bin_end": 175702.69999999998,
                        "count": 0
                      },
                      {
                        "bin_start": 175702.69999999998,
                        "bin_end": 195170,
                        "count": 1
                      }
                    ]
                  }
                },
                {
                  "name": "OwnerUserId_x",
                  "dtype": "float64",
                  "stats": {
                    "unique_count": 5,
                    "nan_count": 0,
                    "min": 50,
                    "max": 745,
                    "histogram": [
                      {
                        "bin_start": 50,
                        "bin_end": 119.5,
                        "count": 1
                      },
                      {
                        "bin_start": 119.5,
                        "bin_end": 189,
                        "count": 2
                      },
                      {
                        "bin_start": 189,
                        "bin_end": 258.5,
                        "count": 0
                      },
                      {
                        "bin_start": 258.5,
                        "bin_end": 328,
                        "count": 0
                      },
                      {
                        "bin_start": 328,
                        "bin_end": 397.5,
                        "count": 0
                      },
                      {
                        "bin_start": 397.5,
                        "bin_end": 467,
                        "count": 1
                      },
                      {
                        "bin_start": 467,
                        "bin_end": 536.5,
                        "count": 0
                      },
                      {
                        "bin_start": 536.5,
                        "bin_end": 606,
                        "count": 0
                      },
                      {
                        "bin_start": 606,
                        "bin_end": 675.5,
                        "count": 0
                      },
                      {
                        "bin_start": 675.5,
                        "bin_end": 745,
                        "count": 1
                      }
                    ]
                  }
                },
                {
                  "name": "CreationDate_x",
                  "dtype": "object",
                  "stats": {
                    "unique_count": 5,
                    "nan_count": 0,
                    "categories": [
                      {
                        "name": "2008-08-02T16:56:53Z",
                        "count": 1
                      },
                      {
                        "name": "2008-08-02T17:42:28Z",
                        "count": 1
                      },
                      {
                        "name": "3 others",
                        "count": 3
                      }
                    ]
                  }
                },
                {
                  "name": "Score_x",
                  "dtype": "int64",
                  "stats": {
                    "unique_count": 5,
                    "nan_count": 0,
                    "min": 1,
                    "max": 12,
                    "histogram": [
                      {
                        "bin_start": 1,
                        "bin_end": 2.1,
                        "count": 2
                      },
                      {
                        "bin_start": 2.1,
                        "bin_end": 3.2,
                        "count": 0
                      },
                      {
                        "bin_start": 3.2,
                        "bin_end": 4.300000000000001,
                        "count": 1
                      },
                      {
                        "bin_start": 4.300000000000001,
                        "bin_end": 5.4,
                        "count": 0
                      },
                      {
                        "bin_start": 5.4,
                        "bin_end": 6.5,
                        "count": 0
                      },
                      {
                        "bin_start": 6.5,
                        "bin_end": 7.6000000000000005,
                        "count": 0
                      },
                      {
                        "bin_start": 7.6000000000000005,
                        "bin_end": 8.700000000000001,
                        "count": 0
                      },
                      {
                        "bin_start": 8.700000000000001,
                        "bin_end": 9.8,
                        "count": 1
                      },
                      {
                        "bin_start": 9.8,
                        "bin_end": 10.9,
                        "count": 0
                      },
                      {
                        "bin_start": 10.9,
                        "bin_end": 12,
                        "count": 1
                      }
                    ]
                  }
                },
                {
                  "name": "Body_x",
                  "dtype": "object",
                  "stats": {
                    "unique_count": 5,
                    "nan_count": 0,
                    "categories": [
                      {
                        "name": "<p>open up a terminal (Applications-&gt;Utilities-&gt;Terminal) and type this in:</p>\r\n\r\n<pre><code>locate InsertFontHere<br></code></pre>\r\n\r\n<p>This will spit out every file that has the name you want.</p>\r\n\r\n<p>Warning: there may be alot to wade through.</p>",
                        "count": 1
                      },
                      {
                        "name": "<p>I haven't been able to find anything that does this directly.  I think you'll have to iterate through the various font folders on the system: <code>/System/Library/Fonts</code>, <code>/Library/Fonts</code>, and there can probably be a user-level directory as well <code>~/Library/Fonts</code>.</p>\n",
                        "count": 1
                      },
                      {
                        "name": "3 others",
                        "count": 3
                      }
                    ]
                  }
                },
                {
                  "name": "Id_y",
                  "dtype": "int64",
                  "stats": {
                    "unique_count": 2,
                    "nan_count": 0,
                    "min": 469,
                    "max": 502,
                    "histogram": [
                      {
                        "bin_start": 469,
                        "bin_end": 472.3,
                        "count": 4
                      },
                      {
                        "bin_start": 472.3,
                        "bin_end": 475.6,
                        "count": 0
                      },
                      {
                        "bin_start": 475.6,
                        "bin_end": 478.9,
                        "count": 0
                      },
                      {
                        "bin_start": 478.9,
                        "bin_end": 482.2,
                        "count": 0
                      },
                      {
                        "bin_start": 482.2,
                        "bin_end": 485.5,
                        "count": 0
                      },
                      {
                        "bin_start": 485.5,
                        "bin_end": 488.8,
                        "count": 0
                      },
                      {
                        "bin_start": 488.8,
                        "bin_end": 492.1,
                        "count": 0
                      },
                      {
                        "bin_start": 492.1,
                        "bin_end": 495.4,
                        "count": 0
                      },
                      {
                        "bin_start": 495.4,
                        "bin_end": 498.7,
                        "count": 0
                      },
                      {
                        "bin_start": 498.7,
                        "bin_end": 502,
                        "count": 1
                      }
                    ]
                  }
                },
                {
                  "name": "OwnerUserId_y",
                  "dtype": "float64",
                  "stats": {
                    "unique_count": 1,
                    "nan_count": 0,
                    "min": 147,
                    "max": 147,
                    "histogram": [
                      {
                        "bin_start": 146.5,
                        "bin_end": 146.6,
                        "count": 0
                      },
                      {
                        "bin_start": 146.6,
                        "bin_end": 146.7,
                        "count": 0
                      },
                      {
                        "bin_start": 146.7,
                        "bin_end": 146.8,
                        "count": 0
                      },
                      {
                        "bin_start": 146.8,
                        "bin_end": 146.9,
                        "count": 0
                      },
                      {
                        "bin_start": 146.9,
                        "bin_end": 147,
                        "count": 0
                      },
                      {
                        "bin_start": 147,
                        "bin_end": 147.1,
                        "count": 5
                      },
                      {
                        "bin_start": 147.1,
                        "bin_end": 147.2,
                        "count": 0
                      },
                      {
                        "bin_start": 147.2,
                        "bin_end": 147.3,
                        "count": 0
                      },
                      {
                        "bin_start": 147.3,
                        "bin_end": 147.4,
                        "count": 0
                      },
                      {
                        "bin_start": 147.4,
                        "bin_end": 147.5,
                        "count": 0
                      }
                    ]
                  }
                },
                {
                  "name": "CreationDate_y",
                  "dtype": "object",
                  "stats": {
                    "unique_count": 2,
                    "nan_count": 0,
                    "categories": [
                      {
                        "name": "2008-08-02T15:11:16Z",
                        "count": 4
                      },
                      {
                        "name": "2008-08-02T17:01:58Z",
                        "count": 1
                      }
                    ]
                  }
                },
                {
                  "name": "Score_y",
                  "dtype": "int64",
                  "stats": {
                    "unique_count": 2,
                    "nan_count": 0,
                    "min": 21,
                    "max": 27,
                    "histogram": [
                      {
                        "bin_start": 21,
                        "bin_end": 21.6,
                        "count": 4
                      },
                      {
                        "bin_start": 21.6,
                        "bin_end": 22.2,
                        "count": 0
                      },
                      {
                        "bin_start": 22.2,
                        "bin_end": 22.8,
                        "count": 0
                      },
                      {
                        "bin_start": 22.8,
                        "bin_end": 23.4,
                        "count": 0
                      },
                      {
                        "bin_start": 23.4,
                        "bin_end": 24,
                        "count": 0
                      },
                      {
                        "bin_start": 24,
                        "bin_end": 24.6,
                        "count": 0
                      },
                      {
                        "bin_start": 24.6,
                        "bin_end": 25.2,
                        "count": 0
                      },
                      {
                        "bin_start": 25.2,
                        "bin_end": 25.8,
                        "count": 0
                      },
                      {
                        "bin_start": 25.8,
                        "bin_end": 26.4,
                        "count": 0
                      },
                      {
                        "bin_start": 26.4,
                        "bin_end": 27,
                        "count": 1
                      }
                    ]
                  }
                },
                {
                  "name": "Title",
                  "dtype": "object",
                  "stats": {
                    "unique_count": 2,
                    "nan_count": 0,
                    "categories": [
                      {
                        "name": "How can I find the full path to a font from its display name on a Mac?",
                        "count": 4
                      },
                      {
                        "name": "Get a preview JPEG of a PDF on Windows?",
                        "count": 1
                      }
                    ]
                  }
                },
                {
                  "name": "Body_y",
                  "dtype": "object",
                  "stats": {
                    "unique_count": 2,
                    "nan_count": 0,
                    "categories": [
                      {
                        "name": "<p>I am using the Photoshop's javascript API to find the fonts in a given PSD.</p>\n\n<p>Given a font name returned by the API, I want to find the actual physical font file that that font name corresponds to on the disc.</p>\n\n<p>This is all happening in a python program running on OSX so I guess I'm looking for one of:</p>\n\n<ul>\n<li>Some Photoshop javascript</li>\n<li>A Python function</li>\n<li>An OSX API that I can call from python</li>\n</ul>\n",
                        "count": 4
                      },
                      {
                        "name": "<p>I have a cross-platform (Python) application which needs to generate a JPEG preview of the first page of a PDF.</p>\n\n<p>On the Mac I am spawning <a href=\"http://developer.apple.com/documentation/Darwin/Reference/ManPages/man1/sips.1.html\">sips</a>.  Is there something similarly simple I can do on Windows?</p>\n",
                        "count": 1
                      }
                    ]
                  }
                },
                {
                  "name": "_deepnote_index_column",
                  "dtype": "int64"
                }
              ],
              "rows_top": [
                {
                  "Id_x": 497,
                  "OwnerUserId_x": 50,
                  "CreationDate_x": "2008-08-02T16:56:53Z",
                  "Score_x": 4,
                  "Body_x": "<p>open up a terminal (Applications-&gt;Utilities-&gt;Terminal) and type this in:</p>\r\n\r\n<pre><code>locate InsertFontHere<br></code></pre>\r\n\r\n<p>This will spit out every file that has the name you want.</p>\r\n\r\n<p>Warning: there may be alot to wade through.</p>",
                  "Id_y": 469,
                  "OwnerUserId_y": 147,
                  "CreationDate_y": "2008-08-02T15:11:16Z",
                  "Score_y": 21,
                  "Title": "How can I find the full path to a font from its display name on a Mac?",
                  "Body_y": "<p>I am using the Photoshop's javascript API to find the fonts in a given PSD.</p>\n\n<p>Given a font name returned by the API, I want to find the actual physical font file that that font name corresponds to on the disc.</p>\n\n<p>This is all happening in a python program running on OSX so I guess I'm looking for one of:</p>\n\n<ul>\n<li>Some Photoshop javascript</li>\n<li>A Python function</li>\n<li>An OSX API that I can call from python</li>\n</ul>\n",
                  "_deepnote_index_column": 0
                },
                {
                  "Id_x": 518,
                  "OwnerUserId_x": 153,
                  "CreationDate_x": "2008-08-02T17:42:28Z",
                  "Score_x": 2,
                  "Body_x": "<p>I haven't been able to find anything that does this directly.  I think you'll have to iterate through the various font folders on the system: <code>/System/Library/Fonts</code>, <code>/Library/Fonts</code>, and there can probably be a user-level directory as well <code>~/Library/Fonts</code>.</p>\n",
                  "Id_y": 469,
                  "OwnerUserId_y": 147,
                  "CreationDate_y": "2008-08-02T15:11:16Z",
                  "Score_y": 21,
                  "Title": "How can I find the full path to a font from its display name on a Mac?",
                  "Body_y": "<p>I am using the Photoshop's javascript API to find the fonts in a given PSD.</p>\n\n<p>Given a font name returned by the API, I want to find the actual physical font file that that font name corresponds to on the disc.</p>\n\n<p>This is all happening in a python program running on OSX so I guess I'm looking for one of:</p>\n\n<ul>\n<li>Some Photoshop javascript</li>\n<li>A Python function</li>\n<li>An OSX API that I can call from python</li>\n</ul>\n",
                  "_deepnote_index_column": 1
                },
                {
                  "Id_x": 3040,
                  "OwnerUserId_x": 457,
                  "CreationDate_x": "2008-08-06T03:01:23Z",
                  "Score_x": 12,
                  "Body_x": "<p>Unfortunately the only API that isn't deprecated is located in the ApplicationServices framework, which doesn't have a bridge support file, and thus isn't available in the bridge. If you're wanting to use ctypes, you can use ATSFontGetFileReference after looking up the ATSFontRef.</p>\r\n\r\n<p>Cocoa doesn't have any native support, at least as of 10.5, for getting the location of a font.</p>",
                  "Id_y": 469,
                  "OwnerUserId_y": 147,
                  "CreationDate_y": "2008-08-02T15:11:16Z",
                  "Score_y": 21,
                  "Title": "How can I find the full path to a font from its display name on a Mac?",
                  "Body_y": "<p>I am using the Photoshop's javascript API to find the fonts in a given PSD.</p>\n\n<p>Given a font name returned by the API, I want to find the actual physical font file that that font name corresponds to on the disc.</p>\n\n<p>This is all happening in a python program running on OSX so I guess I'm looking for one of:</p>\n\n<ul>\n<li>Some Photoshop javascript</li>\n<li>A Python function</li>\n<li>An OSX API that I can call from python</li>\n</ul>\n",
                  "_deepnote_index_column": 2
                },
                {
                  "Id_x": 195170,
                  "OwnerUserId_x": 745,
                  "CreationDate_x": "2008-10-12T07:02:40Z",
                  "Score_x": 1,
                  "Body_x": "<p>There must be a method in Cocoa to get a list of fonts, then you would have to use the PyObjC bindings to call it..</p>\n\n<p>Depending on what you need them for, you could probably just use something like the following..</p>\n\n<pre><code>import os\ndef get_font_list():\n    fonts = []\n    for font_path in [\"/Library/Fonts\", os.path.expanduser(\"~/Library/Fonts\")]:\n        if os.path.isdir(font_path):\n            fonts.extend(\n                [os.path.join(font_path, cur_font) \n                 for cur_font in os.listdir(font_path)\n                ]\n            )\n    return fonts\n</code></pre>\n",
                  "Id_y": 469,
                  "OwnerUserId_y": 147,
                  "CreationDate_y": "2008-08-02T15:11:16Z",
                  "Score_y": 21,
                  "Title": "How can I find the full path to a font from its display name on a Mac?",
                  "Body_y": "<p>I am using the Photoshop's javascript API to find the fonts in a given PSD.</p>\n\n<p>Given a font name returned by the API, I want to find the actual physical font file that that font name corresponds to on the disc.</p>\n\n<p>This is all happening in a python program running on OSX so I guess I'm looking for one of:</p>\n\n<ul>\n<li>Some Photoshop javascript</li>\n<li>A Python function</li>\n<li>An OSX API that I can call from python</li>\n</ul>\n",
                  "_deepnote_index_column": 3
                },
                {
                  "Id_x": 536,
                  "OwnerUserId_x": 161,
                  "CreationDate_x": "2008-08-02T18:49:07Z",
                  "Score_x": 9,
                  "Body_x": "<p>You can use ImageMagick's convert utility for this, see some examples in <a href=\"https://web.archive.org/web/20120413111338/http://studio.imagemagick.org/pipermail/magick-users/2002-May/002636.html\" rel=\"nofollow\">http://studio.imagemagick.org/pipermail/magick-users/2002-May/002636.html</a>\n:</p>\n\n<blockquote>\n<pre><code>Convert taxes.pdf taxes.jpg \n</code></pre>\n  \n  <p>Will convert a two page PDF file into [2] jpeg files: taxes.jpg.0,\n  taxes.jpg.1</p>\n  \n  <p>I can also convert these JPEGS to a thumbnail as follows:</p>\n\n<pre><code>convert -size 120x120 taxes.jpg.0 -geometry 120x120 +profile '*' thumbnail.jpg\n</code></pre>\n  \n  <p>I can even convert the PDF directly to a jpeg thumbnail as follows:</p>\n\n<pre><code>convert -size 120x120 taxes.pdf -geometry 120x120 +profile '*' thumbnail.jpg\n</code></pre>\n  \n  <p>This will result in a thumbnail.jpg.0 and thumbnail.jpg.1 for the two\n  pages.</p>\n</blockquote>\n",
                  "Id_y": 502,
                  "OwnerUserId_y": 147,
                  "CreationDate_y": "2008-08-02T17:01:58Z",
                  "Score_y": 27,
                  "Title": "Get a preview JPEG of a PDF on Windows?",
                  "Body_y": "<p>I have a cross-platform (Python) application which needs to generate a JPEG preview of the first page of a PDF.</p>\n\n<p>On the Mac I am spawning <a href=\"http://developer.apple.com/documentation/Darwin/Reference/ManPages/man1/sips.1.html\">sips</a>.  Is there something similarly simple I can do on Windows?</p>\n",
                  "_deepnote_index_column": 4
                }
              ],
              "rows_bottom": null
            },
            "text/plain": "     Id_x  OwnerUserId_x        CreationDate_x  Score_x  \\\n0     497           50.0  2008-08-02T16:56:53Z        4   \n1     518          153.0  2008-08-02T17:42:28Z        2   \n2    3040          457.0  2008-08-06T03:01:23Z       12   \n3  195170          745.0  2008-10-12T07:02:40Z        1   \n4     536          161.0  2008-08-02T18:49:07Z        9   \n\n                                              Body_x  Id_y  OwnerUserId_y  \\\n0  <p>open up a terminal (Applications-&gt;Utilit...   469          147.0   \n1  <p>I haven't been able to find anything that d...   469          147.0   \n2  <p>Unfortunately the only API that isn't depre...   469          147.0   \n3  <p>There must be a method in Cocoa to get a li...   469          147.0   \n4  <p>You can use ImageMagick's convert utility f...   502          147.0   \n\n         CreationDate_y  Score_y  \\\n0  2008-08-02T15:11:16Z       21   \n1  2008-08-02T15:11:16Z       21   \n2  2008-08-02T15:11:16Z       21   \n3  2008-08-02T15:11:16Z       21   \n4  2008-08-02T17:01:58Z       27   \n\n                                               Title  \\\n0  How can I find the full path to a font from it...   \n1  How can I find the full path to a font from it...   \n2  How can I find the full path to a font from it...   \n3  How can I find the full path to a font from it...   \n4            Get a preview JPEG of a PDF on Windows?   \n\n                                              Body_y  \n0  <p>I am using the Photoshop's javascript API t...  \n1  <p>I am using the Photoshop's javascript API t...  \n2  <p>I am using the Photoshop's javascript API t...  \n3  <p>I am using the Photoshop's javascript API t...  \n4  <p>I have a cross-platform (Python) applicatio...  ",
            "text/html": "<div>\n<style scoped>\n    .dataframe tbody tr th:only-of-type {\n        vertical-align: middle;\n    }\n\n    .dataframe tbody tr th {\n        vertical-align: top;\n    }\n\n    .dataframe thead th {\n        text-align: right;\n    }\n</style>\n<table border=\"1\" class=\"dataframe\">\n  <thead>\n    <tr style=\"text-align: right;\">\n      <th></th>\n      <th>Id_x</th>\n      <th>OwnerUserId_x</th>\n      <th>CreationDate_x</th>\n      <th>Score_x</th>\n      <th>Body_x</th>\n      <th>Id_y</th>\n      <th>OwnerUserId_y</th>\n      <th>CreationDate_y</th>\n      <th>Score_y</th>\n      <th>Title</th>\n      <th>Body_y</th>\n    </tr>\n  </thead>\n  <tbody>\n    <tr>\n      <th>0</th>\n      <td>497</td>\n      <td>50.0</td>\n      <td>2008-08-02T16:56:53Z</td>\n      <td>4</td>\n      <td>&lt;p&gt;open up a terminal (Applications-&amp;gt;Utilit...</td>\n      <td>469</td>\n      <td>147.0</td>\n      <td>2008-08-02T15:11:16Z</td>\n      <td>21</td>\n      <td>How can I find the full path to a font from it...</td>\n      <td>&lt;p&gt;I am using the Photoshop's javascript API t...</td>\n    </tr>\n    <tr>\n      <th>1</th>\n      <td>518</td>\n      <td>153.0</td>\n      <td>2008-08-02T17:42:28Z</td>\n      <td>2</td>\n      <td>&lt;p&gt;I haven't been able to find anything that d...</td>\n      <td>469</td>\n      <td>147.0</td>\n      <td>2008-08-02T15:11:16Z</td>\n      <td>21</td>\n      <td>How can I find the full path to a font from it...</td>\n      <td>&lt;p&gt;I am using the Photoshop's javascript API t...</td>\n    </tr>\n    <tr>\n      <th>2</th>\n      <td>3040</td>\n      <td>457.0</td>\n      <td>2008-08-06T03:01:23Z</td>\n      <td>12</td>\n      <td>&lt;p&gt;Unfortunately the only API that isn't depre...</td>\n      <td>469</td>\n      <td>147.0</td>\n      <td>2008-08-02T15:11:16Z</td>\n      <td>21</td>\n      <td>How can I find the full path to a font from it...</td>\n      <td>&lt;p&gt;I am using the Photoshop's javascript API t...</td>\n    </tr>\n    <tr>\n      <th>3</th>\n      <td>195170</td>\n      <td>745.0</td>\n      <td>2008-10-12T07:02:40Z</td>\n      <td>1</td>\n      <td>&lt;p&gt;There must be a method in Cocoa to get a li...</td>\n      <td>469</td>\n      <td>147.0</td>\n      <td>2008-08-02T15:11:16Z</td>\n      <td>21</td>\n      <td>How can I find the full path to a font from it...</td>\n      <td>&lt;p&gt;I am using the Photoshop's javascript API t...</td>\n    </tr>\n    <tr>\n      <th>4</th>\n      <td>536</td>\n      <td>161.0</td>\n      <td>2008-08-02T18:49:07Z</td>\n      <td>9</td>\n      <td>&lt;p&gt;You can use ImageMagick's convert utility f...</td>\n      <td>502</td>\n      <td>147.0</td>\n      <td>2008-08-02T17:01:58Z</td>\n      <td>27</td>\n      <td>Get a preview JPEG of a PDF on Windows?</td>\n      <td>&lt;p&gt;I have a cross-platform (Python) applicatio...</td>\n    </tr>\n  </tbody>\n</table>\n</div>"
          },
          "metadata": {}
        }
      ]
    },
    {
      "cell_type": "code",
      "metadata": {
        "cell_id": "00006-11879c07-7e23-4edb-be5a-598749c8ca44",
        "deepnote_to_be_reexecuted": false,
        "source_hash": "6857ccc5",
        "execution_start": 1615136789237,
        "execution_millis": 152,
        "deepnote_cell_type": "code"
      },
      "source": "df_train = df_train[['Id_x', 'Body_x', 'Score_x', 'Title', 'Body_y']]\ndf_train.columns= ['id', 'answer', 'target', 'question', 'question_body']\ndf_train = df_train[['id', 'question', 'question_body', 'answer', 'target']]\nstr_cols = ['answer', 'question', 'question_body']",
      "execution_count": 5,
      "outputs": []
    },
    {
      "cell_type": "markdown",
      "source": "## Split data train/validation",
      "metadata": {
        "cell_id": "00007-c032bdb2-54dc-4b21-85c2-575aa1c3f554",
        "deepnote_cell_type": "markdown"
      }
    },
    {
      "cell_type": "code",
      "metadata": {
        "cell_id": "00008-da6501f4-9314-4bf9-aab5-0a1466382a43",
        "deepnote_to_be_reexecuted": false,
        "source_hash": "c35fe1a",
        "execution_start": 1615136789392,
        "execution_millis": 530,
        "deepnote_cell_type": "code"
      },
      "source": "X_train, X_val, y_train, y_val = train_test_split(df_train[['id', 'question', 'question_body', 'answer']], df_train['target'], test_size=0.2, random_state=0)",
      "execution_count": 6,
      "outputs": []
    },
    {
      "cell_type": "code",
      "metadata": {
        "cell_id": "00009-1fb57b5c-f88f-403c-8992-3d5c0e49df23",
        "deepnote_to_be_reexecuted": false,
        "source_hash": "9811875f",
        "execution_start": 1615136789926,
        "execution_millis": 3,
        "deepnote_cell_type": "code"
      },
      "source": "X_train = X_train.iloc[:10000]\nX_val = X_val.iloc[:10000]\ny_train = y_train.iloc[:10000]\ny_val = y_val.iloc[:10000]",
      "execution_count": 7,
      "outputs": []
    },
    {
      "cell_type": "code",
      "metadata": {
        "cell_id": "00010-47215228-8d97-4ae1-942a-bd837e5e2bf1",
        "deepnote_to_be_reexecuted": false,
        "source_hash": "38f368cd",
        "execution_start": 1615136789953,
        "execution_millis": 9,
        "deepnote_cell_type": "code"
      },
      "source": "X_train.shape",
      "execution_count": 8,
      "outputs": [
        {
          "output_type": "execute_result",
          "execution_count": 8,
          "data": {
            "text/plain": "(10000, 4)"
          },
          "metadata": {}
        }
      ]
    },
    {
      "cell_type": "code",
      "metadata": {
        "cell_id": "00011-d8388c47-38b6-408f-ace1-bc8e3ca85ec8",
        "deepnote_to_be_reexecuted": false,
        "source_hash": "7c234d23",
        "execution_start": 1615136789954,
        "execution_millis": 8,
        "deepnote_cell_type": "code"
      },
      "source": "X_train.head()",
      "execution_count": 9,
      "outputs": [
        {
          "output_type": "execute_result",
          "execution_count": 9,
          "data": {
            "application/vnd.deepnote.dataframe.v2+json": {
              "row_count": 5,
              "column_count": 4,
              "columns": [
                {
                  "name": "id",
                  "dtype": "int64",
                  "stats": {
                    "unique_count": 5,
                    "nan_count": 0,
                    "min": 2185875,
                    "max": 34022443,
                    "histogram": [
                      {
                        "bin_start": 2185875,
                        "bin_end": 5369531.8,
                        "count": 1
                      },
                      {
                        "bin_start": 5369531.8,
                        "bin_end": 8553188.6,
                        "count": 1
                      },
                      {
                        "bin_start": 8553188.6,
                        "bin_end": 11736845.399999999,
                        "count": 0
                      },
                      {
                        "bin_start": 11736845.399999999,
                        "bin_end": 14920502.2,
                        "count": 1
                      },
                      {
                        "bin_start": 14920502.2,
                        "bin_end": 18104159,
                        "count": 0
                      },
                      {
                        "bin_start": 18104159,
                        "bin_end": 21287815.799999997,
                        "count": 1
                      },
                      {
                        "bin_start": 21287815.799999997,
                        "bin_end": 24471472.599999998,
                        "count": 0
                      },
                      {
                        "bin_start": 24471472.599999998,
                        "bin_end": 27655129.4,
                        "count": 0
                      },
                      {
                        "bin_start": 27655129.4,
                        "bin_end": 30838786.2,
                        "count": 0
                      },
                      {
                        "bin_start": 30838786.2,
                        "bin_end": 34022443,
                        "count": 1
                      }
                    ]
                  }
                },
                {
                  "name": "question",
                  "dtype": "object",
                  "stats": {
                    "unique_count": 5,
                    "nan_count": 0,
                    "categories": [
                      {
                        "name": "Deleting multiple indexes from a list at once - python",
                        "count": 1
                      },
                      {
                        "name": "Django Grappelli_Nested Inlines cannot create new nested lines after initial load",
                        "count": 1
                      },
                      {
                        "name": "3 others",
                        "count": 3
                      }
                    ]
                  }
                },
                {
                  "name": "question_body",
                  "dtype": "object",
                  "stats": {
                    "unique_count": 5,
                    "nan_count": 0,
                    "categories": [
                      {
                        "name": "<p>My problem is I have a list\neg.   </p>\n\n<pre><code>lst = [2, 5, 7, 12, 13]\n\n\nlst.pop(3) #12\nlst.pop(4) #13\n</code></pre>\n\n<p>Because lst[3] has been removed lst[4] is no longer there (out of range). This gives me an error. Now I know you could say change your code to this:...</p>\n\n<pre><code>lst.pop(4) #13\nlst.pop(3) #12\n</code></pre>\n\n<p>...and it ill fix the error, but my problem is my actual code is 'popping' random numbers so it needs to be done all at the same time to avoid error. </p>\n\n<p>Is there any method of 'popping' at the same time?...like something similar to this:</p>\n\n<pre><code>lst.pop(3, 4) #12 and 13 at once\n</code></pre>\n\n<p>Thanks for any answers.</p>\n",
                        "count": 1
                      },
                      {
                        "name": "<p>I am looking for a way to create a new nested row, before saving the \"owner\"-row.\nBy way of django ticket 9025 I found <a href=\"https://github.com/datahub/grappelli-nested-inlines\" rel=\"nofollow\">Grappelli-Nested-Inlines</a> which I have been using. </p>\n\n<p>I have a test project set up based on the instructions found at that link:</p>\n\n<pre><code>from django.contrib import admin\nfrom grappelli_nested.admin import NestedModelAdmin, NestedStackedInline, NestedTabularInline\nfrom .models import *\n\nclass MyNestedInline(NestedTabularInline):\nmodel = C\nextra = 0\n\nclass MyInline(NestedStackedInline):\nmodel = B\nextra = 0\ninlines = [MyNestedInline,]\n\nclass MyAdmin(NestedModelAdmin):\ninlines = [MyInline,]\n\nadmin.site.register(A, MyAdmin)\n</code></pre>\n\n<p>My issue is based in the fact that I cannot create a child object before saving the parent. That is to say, the \"add another c\"-button has no functionality before saving B </p>\n\n<p>Is there a way to achieve this?</p>\n\n<p>I have read through all the posts regarding this that I could find, but I have to say that if the answer is included anywhere, then I didnÂ´t understand it, so please be patient with me.</p>\n\n<p>I should also note, that because of the production code, grappelli is a requirement, so anything that clashes with that will not work.</p>\n",
                        "count": 1
                      },
                      {
                        "name": "3 others",
                        "count": 3
                      }
                    ]
                  }
                },
                {
                  "name": "answer",
                  "dtype": "object",
                  "stats": {
                    "unique_count": 5,
                    "nan_count": 0,
                    "categories": [
                      {
                        "name": "<p>You can use a list comprehension to rebuild the list:</p>\n\n<pre><code>indices = {3, 4}\nnewlist = [v for i, v in enumerate(oldlist) if i not in indices]\n</code></pre>\n\n<p>I used a set for the indices here, as set membership testing is faster than with a list.</p>\n\n<p>Note that a delete (best done with <code>del lst[index]</code>) partially rebuilds the list as well; doing so with one loop in a list comprehension can be more efficient.</p>\n\n<p>Demo:</p>\n\n<pre><code>&gt;&gt;&gt; oldlist = [2, 5, 7, 12, 13]\n&gt;&gt;&gt; indices = {3, 4}\n&gt;&gt;&gt; [v for i, v in enumerate(oldlist) if i not in indices]\n[2, 5, 7]\n</code></pre>\n",
                        "count": 1
                      },
                      {
                        "name": "<p>What i did was to take the templates that django-grappelli-inline provides and use them for use as a template in django-nested-inlines.</p>\n\n<pre><code>class NestedStackedInline(NestedInline):\n    template = 'admin/edit_inline/stacked.html'\n\nclass NestedTabularInline(NestedInline):\n    template = 'admin/edit_inline/tabular.html'\n</code></pre>\n\n<p>Where the templates are the ones from django-grappelli-inline</p>\n",
                        "count": 1
                      },
                      {
                        "name": "3 others",
                        "count": 3
                      }
                    ]
                  }
                },
                {
                  "name": "_deepnote_index_column",
                  "dtype": "int64"
                }
              ],
              "rows_top": [
                {
                  "id": 21032057,
                  "question": "Deleting multiple indexes from a list at once - python",
                  "question_body": "<p>My problem is I have a list\neg.   </p>\n\n<pre><code>lst = [2, 5, 7, 12, 13]\n\n\nlst.pop(3) #12\nlst.pop(4) #13\n</code></pre>\n\n<p>Because lst[3] has been removed lst[4] is no longer there (out of range). This gives me an error. Now I know you could say change your code to this:...</p>\n\n<pre><code>lst.pop(4) #13\nlst.pop(3) #12\n</code></pre>\n\n<p>...and it ill fix the error, but my problem is my actual code is 'popping' random numbers so it needs to be done all at the same time to avoid error. </p>\n\n<p>Is there any method of 'popping' at the same time?...like something similar to this:</p>\n\n<pre><code>lst.pop(3, 4) #12 and 13 at once\n</code></pre>\n\n<p>Thanks for any answers.</p>\n",
                  "answer": "<p>You can use a list comprehension to rebuild the list:</p>\n\n<pre><code>indices = {3, 4}\nnewlist = [v for i, v in enumerate(oldlist) if i not in indices]\n</code></pre>\n\n<p>I used a set for the indices here, as set membership testing is faster than with a list.</p>\n\n<p>Note that a delete (best done with <code>del lst[index]</code>) partially rebuilds the list as well; doing so with one loop in a list comprehension can be more efficient.</p>\n\n<p>Demo:</p>\n\n<pre><code>&gt;&gt;&gt; oldlist = [2, 5, 7, 12, 13]\n&gt;&gt;&gt; indices = {3, 4}\n&gt;&gt;&gt; [v for i, v in enumerate(oldlist) if i not in indices]\n[2, 5, 7]\n</code></pre>\n",
                  "_deepnote_index_column": 490144
                },
                {
                  "id": 34022443,
                  "question": "Django Grappelli_Nested Inlines cannot create new nested lines after initial load",
                  "question_body": "<p>I am looking for a way to create a new nested row, before saving the \"owner\"-row.\nBy way of django ticket 9025 I found <a href=\"https://github.com/datahub/grappelli-nested-inlines\" rel=\"nofollow\">Grappelli-Nested-Inlines</a> which I have been using. </p>\n\n<p>I have a test project set up based on the instructions found at that link:</p>\n\n<pre><code>from django.contrib import admin\nfrom grappelli_nested.admin import NestedModelAdmin, NestedStackedInline, NestedTabularInline\nfrom .models import *\n\nclass MyNestedInline(NestedTabularInline):\nmodel = C\nextra = 0\n\nclass MyInline(NestedStackedInline):\nmodel = B\nextra = 0\ninlines = [MyNestedInline,]\n\nclass MyAdmin(NestedModelAdmin):\ninlines = [MyInline,]\n\nadmin.site.register(A, MyAdmin)\n</code></pre>\n\n<p>My issue is based in the fact that I cannot create a child object before saving the parent. That is to say, the \"add another c\"-button has no functionality before saving B </p>\n\n<p>Is there a way to achieve this?</p>\n\n<p>I have read through all the posts regarding this that I could find, but I have to say that if the answer is included anywhere, then I didnÂ´t understand it, so please be patient with me.</p>\n\n<p>I should also note, that because of the production code, grappelli is a requirement, so anything that clashes with that will not work.</p>\n",
                  "answer": "<p>What i did was to take the templates that django-grappelli-inline provides and use them for use as a template in django-nested-inlines.</p>\n\n<pre><code>class NestedStackedInline(NestedInline):\n    template = 'admin/edit_inline/stacked.html'\n\nclass NestedTabularInline(NestedInline):\n    template = 'admin/edit_inline/tabular.html'\n</code></pre>\n\n<p>Where the templates are the ones from django-grappelli-inline</p>\n",
                  "_deepnote_index_column": 815071
                },
                {
                  "id": 2185875,
                  "question": "Expanding elements in a list",
                  "question_body": "<p>I'm looking for a \"nice\" way to process a list where some elements need to be expanded into more elements (only once, no expansion on the results).</p>\n\n<p>Standard iterative way would be to do:</p>\n\n<pre><code>i=0\nwhile i &lt; len(l):\n   if needs_expanding(l[i]):\n      new_is = expand(l[i])\n      l[i:i] = new_is\n      i += len(new_is)\n   else:\n      i += 1\n</code></pre>\n\n<p>which is pretty ugly. I could rewrite the contents into a new list with:</p>\n\n<pre><code>nl = []\nfor x in l:\n   if needs_expanding(x):\n      nl += expand(x)\n   else:\n      nl.append(x)\n</code></pre>\n\n<p>But they both seem too long. Or I could simply do 2 passes and flatten the list later:</p>\n\n<pre><code>flatten(expand(x) if needs_expanding(x) else x for x in l)\n# or\ndef try_expanding(x)....\nflatten(try_expanding(x) for x in l)\n</code></pre>\n\n<p>but this doesn't feel \"right\" either.</p>\n\n<p>Are there any other clear ways of doing this?</p>\n",
                  "answer": "<p>The last one is probably your most pythonic, but you could try an implied loop (or in py3, generator) with map:</p>\n\n<pre><code>flatten(map(lambda x: expand(x) if needs_expanding(x) else x, l))\nflatten(map(try_expanding, l))\n</code></pre>\n",
                  "_deepnote_index_column": 62146
                },
                {
                  "id": 12626260,
                  "question": "UnicodeDecodeError while processing filenames",
                  "question_body": "<p>I'm using Python 2.7.3 on Ubuntu 12 x64.</p>\n\n<p>I have about 200,000 files in a folder on my filesystem. The file names of some of the files contain html encoded and escaped characters because the files were originally downloaded from a website. Here are examples:</p>\n\n<blockquote>\n  <p>Jamaica%2008%20114.jpg<br>\n  thai_trip_%E8%B0%83%E6%95%B4%E5%A4%A7%E5%B0%8F%20RAY_5313.jpg</p>\n</blockquote>\n\n<p>I wrote a simple Python script that goes through the folder and renames all of the files with encoded characters in the filename. The new filename is achieved by simply decoding the string that makes up the filename.</p>\n\n<p>The script works for most of the files, but, for some of the files Python chokes and spits out the following error:</p>\n\n<pre><code>UnicodeDecodeError: 'ascii' codec can't decode byte 0xe2 in position 11: ordinal not in range(128)\nTraceback (most recent call last):\n  File \"./download.py\", line 53, in downloadGalleries\n    numDownloaded = downloadGallery(opener, galleryLink)\n  File \"./download.py\", line 75, in downloadGallery\n    filePathPrefix = getFilePath(content)\n  File \"./download.py\", line 90, in getFilePath\n    return cleanupString(match.group(1).strip()) + '/' + cleanupString(match.group(2).strip())\n  File \"/home/abc/XYZ/common.py\", line 22, in cleanupString\n    return HTMLParser.HTMLParser().unescape(string)\n  File \"/usr/lib/python2.7/HTMLParser.py\", line 472, in unescape\n    return re.sub(r\"&amp;(#?[xX]?(?:[0-9a-fA-F]+|\\w{1,8}));\", replaceEntities, s)\n  File \"/usr/lib/python2.7/re.py\", line 151, in sub\n    return _compile(pattern, flags).sub(repl, string, count)\n</code></pre>\n\n<p>Here is the contents of my cleanupString function:</p>\n\n<pre><code>def cleanupString(string):\n    string = urllib2.unquote(string)\n\n    return HTMLParser.HTMLParser().unescape(string)\n</code></pre>\n\n<p>And here's the snippet of code that calls the cleanupString function (this code is not the same code in the traceback above but it produces the same error):</p>\n\n<pre><code>rootFolder = sys.argv[1]\npattern = r'.*\\.jpg\\s*$|.*\\.jpeg\\s*$'\nreobj = re.compile(pattern, re.IGNORECASE)\nimgs = []\n\nfor root, dirs, files in os.walk(rootFolder):\n    for filename in files:\n        foundFile = os.path.join(root, filename)\n\n        if reobj.match(foundFile):\n            imgs.append(foundFile)\n\nfor img in imgs :\n    print 'Checking file: ' + img\n    newImg = cleanupString(img) #Code blows up here for some files\n</code></pre>\n\n<p>Can anyone provide me with a way to get around this error? I've already tried adding </p>\n\n<pre><code># -*- coding: utf-8 -*-\n</code></pre>\n\n<p>to the top of the script but that has no effect.</p>\n\n<p>Thanks.</p>\n",
                  "answer": "<p>Your filenames are byte strings that contain UTF-8 bytes representing unicode characters. The HTML parser normally works with unicode data instead of byte strings, particularly when it encounters a ampersand escape, so Python is automatically trying to decode the value for you, but it by default uses <code>ASCII</code> for that decoding. This fails for UTF-8 data as it contains bytes that fall outside of the ASCII range.</p>\n\n<p>You need to explicitly decode your string to a unicode object:</p>\n\n<pre><code>def cleanupString(string):\n    string = urllib2.unquote(string).decode('utf8')\n\n    return HTMLParser.HTMLParser().unescape(string)\n</code></pre>\n\n<p>Your next problem will be that you now have unicode filenames, but your filesystem will need some kind of encoding to work with these filenames. You can check what that encoding is with <code>sys.getfilesystemencoding()</code>; use this to re-encode your filenames:</p>\n\n<pre><code>def cleanupString(string):\n    string = urllib2.unquote(string).decode('utf8')\n\n    return HTMLParser.HTMLParser().unescape(string).encode(sys.getfilesystemencoding())\n</code></pre>\n\n<p>You can read up on how Python deals with Unicode in the <a href=\"http://docs.python.org/howto/unicode.html\">Unicode HOWTO</a>.</p>\n",
                  "_deepnote_index_column": 304024
                },
                {
                  "id": 7288407,
                  "question": "Python string manipulation -- performance problems",
                  "question_body": "<p>I have the following piece of code that I execute around 2 million times in my application to parse that many records. This part seems to be the bottleneck and I was wondering if anyone could help me by suggesting some nifty tricks that could make these simple string manipulations faster.</p>\n\n<pre><code>try:\n    data = []\n    start = 0\n    end = 0\n    for info in self.Columns():\n        end = start + (info.columnLength)\n        slice = line[start:end]\n        if slice == '' or len(slice) != info.columnLength:\n            raise 'Wrong Input'\n        if info.hasSignage:\n            if(slice[0:1].strip() != '+' and slice[0:1].strip() != '-'):\n                raise 'Wrong Input'\n        if not info.skipColumn:\n            data.append(slice)\n        start = end \n    parsedLine = data\nexcept:\n    parsedLine = False\n</code></pre>\n",
                  "answer": "<p>EDIT: I'm changing this answer a bit.  I'll leave the original answer below.</p>\n\n<p>In my other answer I commented that the best thing would be to find a built-in Python module that would do the unpacking.  I couldn't think of one, but perhaps I should have Google searched for one.  @John Machin provided an answer that showed how to do it: use the Python <code>struct</code> module.  Since that is written in C, it should be faster than my pure Python solution.  (I haven't actually measured anything so it is a guess.)</p>\n\n<p>I do agree that the logic in the original code is \"un-Pythonic\".  Returning a sentinel value isn't best; it's better to either return a valid value or raise an exception.  The other way to do it is to return a list of valid values, plus another list of invalid values.  Since @John Machin offered code to yield up valid values, I thought I'd write a version here that returns two lists.</p>\n\n<p>NOTE: Perhaps the best possible answer would be to take @John Machin's answer and modify it to save the invalid values to a file for possible later review.  His answer yields up answers one at a time, so there is no need to build a large list of parsed records; and saving the bad lines to disk means there is no need to build a possibly-large list of bad lines.</p>\n\n<pre><code>import struct\n\ndef parse_records(self):\n    \"\"\"\n    returns a tuple: (good, bad)\n    good is a list of valid records (as tuples)\n    bad is a list of tuples: (line_num, line, err)\n    \"\"\"\n\n    cols = self.Columns()\n    unpack_fmt = \"\"\n    sign_checks = []\n    start = 0\n    for colx, info in enumerate(cols, 1):\n        clen = info.columnLength\n        if clen &lt; 1:\n            raise ValueError(\"Column %d: Bad columnLength %r\" % (colx, clen))\n        if info.skipColumn:\n            unpack_fmt += str(clen) + \"x\"\n        else:\n            unpack_fmt += str(clen) + \"s\"\n            if info.hasSignage:\n                sign_checks.append(start)\n        start += clen\n    expected_len = start\n    unpack = struct.Struct(unpack_fmt).unpack\n\n    good = []\n    bad = []\n    for line_num, line in enumerate(self.whatever_the_list_of_lines_is, 1):\n        if len(line) != expected_len:\n            bad.append((line_num, line, \"bad length\"))\n            continue\n        if not all(line[i] in '+-' for i in sign_checks):\n            bad.append((line_num, line, \"sign check failed\"))\n            continue\n        good.append(unpack(line))\n\n    return good, bad\n</code></pre>\n\n<p>ORIGINAL ANSWER TEXT:\nThis answer should be a lot faster if the <code>self.Columns()</code> information is identical over all the records.  We do the processing of the <code>self.Columns()</code> information one time, and build a couple of lists that contain just what we need to process a record.</p>\n\n<p>This code shows how to compute <code>parsedList</code> but doesn't actually yield it up or return it or do anything with it.  Obviously you would need to change that.</p>\n\n<pre><code>def parse_records(self):\n    cols = self.Columns()\n\n    slices = []\n    sign_checks = []\n    start = 0\n    for info in cols:\n        if info.columnLength &lt; 1:\n            raise ValueError, \"bad columnLength\"\n        end = start + info.columnLength\n        if not info.skipColumn:\n            tup = (start, end)\n            slices.append(tup)   \n            if info.hasSignage:\n                sign_checks.append(start)\n\n    expected_len = end # or use (end - 1) to not count a newline\n\n    try:\n        for line in self.whatever_the_list_of_lines_is:\n            if len(line) != expected_len:\n                raise ValueError, \"wrong length\"\n            if not all(line[i] in '+-' for i in sign_checks):\n                raise ValueError, \"wrong input\"\n            parsedLine = [line[s:e] for s, e in slices]\n\n    except ValueError:\n        parsedLine = False\n</code></pre>\n",
                  "_deepnote_index_column": 187856
                }
              ],
              "rows_bottom": null
            },
            "text/plain": "              id                                           question  \\\n490144  21032057  Deleting multiple indexes from a list at once ...   \n815071  34022443  Django Grappelli_Nested Inlines cannot create ...   \n62146    2185875                       Expanding elements in a list   \n304024  12626260      UnicodeDecodeError while processing filenames   \n187856   7288407  Python string manipulation -- performance prob...   \n\n                                            question_body  \\\n490144  <p>My problem is I have a list\\neg.   </p>\\n\\n...   \n815071  <p>I am looking for a way to create a new nest...   \n62146   <p>I'm looking for a \"nice\" way to process a l...   \n304024  <p>I'm using Python 2.7.3 on Ubuntu 12 x64.</p...   \n187856  <p>I have the following piece of code that I e...   \n\n                                                   answer  \n490144  <p>You can use a list comprehension to rebuild...  \n815071  <p>What i did was to take the templates that d...  \n62146   <p>The last one is probably your most pythonic...  \n304024  <p>Your filenames are byte strings that contai...  \n187856  <p>EDIT: I'm changing this answer a bit.  I'll...  ",
            "text/html": "<div>\n<style scoped>\n    .dataframe tbody tr th:only-of-type {\n        vertical-align: middle;\n    }\n\n    .dataframe tbody tr th {\n        vertical-align: top;\n    }\n\n    .dataframe thead th {\n        text-align: right;\n    }\n</style>\n<table border=\"1\" class=\"dataframe\">\n  <thead>\n    <tr style=\"text-align: right;\">\n      <th></th>\n      <th>id</th>\n      <th>question</th>\n      <th>question_body</th>\n      <th>answer</th>\n    </tr>\n  </thead>\n  <tbody>\n    <tr>\n      <th>490144</th>\n      <td>21032057</td>\n      <td>Deleting multiple indexes from a list at once ...</td>\n      <td>&lt;p&gt;My problem is I have a list\\neg.   &lt;/p&gt;\\n\\n...</td>\n      <td>&lt;p&gt;You can use a list comprehension to rebuild...</td>\n    </tr>\n    <tr>\n      <th>815071</th>\n      <td>34022443</td>\n      <td>Django Grappelli_Nested Inlines cannot create ...</td>\n      <td>&lt;p&gt;I am looking for a way to create a new nest...</td>\n      <td>&lt;p&gt;What i did was to take the templates that d...</td>\n    </tr>\n    <tr>\n      <th>62146</th>\n      <td>2185875</td>\n      <td>Expanding elements in a list</td>\n      <td>&lt;p&gt;I'm looking for a \"nice\" way to process a l...</td>\n      <td>&lt;p&gt;The last one is probably your most pythonic...</td>\n    </tr>\n    <tr>\n      <th>304024</th>\n      <td>12626260</td>\n      <td>UnicodeDecodeError while processing filenames</td>\n      <td>&lt;p&gt;I'm using Python 2.7.3 on Ubuntu 12 x64.&lt;/p...</td>\n      <td>&lt;p&gt;Your filenames are byte strings that contai...</td>\n    </tr>\n    <tr>\n      <th>187856</th>\n      <td>7288407</td>\n      <td>Python string manipulation -- performance prob...</td>\n      <td>&lt;p&gt;I have the following piece of code that I e...</td>\n      <td>&lt;p&gt;EDIT: I'm changing this answer a bit.  I'll...</td>\n    </tr>\n  </tbody>\n</table>\n</div>"
          },
          "metadata": {}
        }
      ]
    },
    {
      "cell_type": "markdown",
      "source": "## Launch preproc\nbrief_cleaning : remove HTML code, characters other than letters and stop words",
      "metadata": {
        "cell_id": "00012-d32e241f-3b27-4d73-b69a-e3633328d5aa",
        "deepnote_cell_type": "markdown"
      }
    },
    {
      "cell_type": "code",
      "metadata": {
        "cell_id": "00013-e684bc35-8f47-46a5-8108-b4754a052572",
        "deepnote_to_be_reexecuted": false,
        "source_hash": "f1c1e93a",
        "execution_start": 1615136789960,
        "execution_millis": 1256,
        "deepnote_cell_type": "code"
      },
      "source": "import sys\nsys.path.append('../..')\nfrom smartFAQ.src.cleanTxt import brief_cleaning",
      "execution_count": 10,
      "outputs": [
        {
          "name": "stderr",
          "text": "[nltk_data] Downloading package punkt to /root/nltk_data...\n[nltk_data]   Unzipping tokenizers/punkt.zip.\n[nltk_data] Downloading package stopwords to /root/nltk_data...\n[nltk_data]   Unzipping corpora/stopwords.zip.\n",
          "output_type": "stream"
        }
      ]
    },
    {
      "cell_type": "code",
      "metadata": {
        "cell_id": "00014-e45a7c2c-88c0-4514-ac1a-d9e351a08b67",
        "deepnote_to_be_reexecuted": false,
        "source_hash": "dae95052",
        "execution_start": 1615136791212,
        "execution_millis": 39070,
        "deepnote_cell_type": "code"
      },
      "source": "X_train = brief_cleaning(X_train, str_cols)\nX_val = brief_cleaning(X_val, str_cols)",
      "execution_count": 11,
      "outputs": [
        {
          "name": "stdout",
          "text": "Time to clean up everything: 0.32 mins\nTime to clean up everything: 0.33 mins\n",
          "output_type": "stream"
        }
      ]
    },
    {
      "cell_type": "code",
      "metadata": {
        "cell_id": "00015-ed798e2d-9226-45dd-94b8-171d694660ba",
        "deepnote_to_be_reexecuted": false,
        "source_hash": "7c234d23",
        "execution_start": 1615136830281,
        "execution_millis": 46,
        "deepnote_cell_type": "code"
      },
      "source": "X_train.head()",
      "execution_count": 12,
      "outputs": [
        {
          "output_type": "execute_result",
          "execution_count": 12,
          "data": {
            "application/vnd.deepnote.dataframe.v2+json": {
              "row_count": 5,
              "column_count": 4,
              "columns": [
                {
                  "name": "id",
                  "dtype": "int64",
                  "stats": {
                    "unique_count": 5,
                    "nan_count": 0,
                    "min": 2185875,
                    "max": 34022443,
                    "histogram": [
                      {
                        "bin_start": 2185875,
                        "bin_end": 5369531.8,
                        "count": 1
                      },
                      {
                        "bin_start": 5369531.8,
                        "bin_end": 8553188.6,
                        "count": 1
                      },
                      {
                        "bin_start": 8553188.6,
                        "bin_end": 11736845.399999999,
                        "count": 0
                      },
                      {
                        "bin_start": 11736845.399999999,
                        "bin_end": 14920502.2,
                        "count": 1
                      },
                      {
                        "bin_start": 14920502.2,
                        "bin_end": 18104159,
                        "count": 0
                      },
                      {
                        "bin_start": 18104159,
                        "bin_end": 21287815.799999997,
                        "count": 1
                      },
                      {
                        "bin_start": 21287815.799999997,
                        "bin_end": 24471472.599999998,
                        "count": 0
                      },
                      {
                        "bin_start": 24471472.599999998,
                        "bin_end": 27655129.4,
                        "count": 0
                      },
                      {
                        "bin_start": 27655129.4,
                        "bin_end": 30838786.2,
                        "count": 0
                      },
                      {
                        "bin_start": 30838786.2,
                        "bin_end": 34022443,
                        "count": 1
                      }
                    ]
                  }
                },
                {
                  "name": "question",
                  "dtype": "object",
                  "stats": {
                    "unique_count": 5,
                    "nan_count": 0,
                    "categories": [
                      {
                        "name": "Deleting multiple indexes list python",
                        "count": 1
                      },
                      {
                        "name": "Django Grappelli Nested Inlines create new nested lines initial load",
                        "count": 1
                      },
                      {
                        "name": "3 others",
                        "count": 3
                      }
                    ]
                  }
                },
                {
                  "name": "question_body",
                  "dtype": "object",
                  "stats": {
                    "unique_count": 5,
                    "nan_count": 0,
                    "categories": [
                      {
                        "name": "My problem I list eg lst lst pop lst pop Because lst removed lst longer range This gives error Now I know could say change code lst pop lst pop ill fix error problem actual code 'popping ' random numbers needs done time avoid error Is method 'popping ' time like something similar lst pop Thanks answers",
                        "count": 1
                      },
                      {
                        "name": "I looking way create new nested row saving owner row By way django ticket I found Grappelli Nested Inlines I using I test project set based instructions found link django contrib import admin grappelli nested admin import NestedModelAdmin NestedStackedInline NestedTabularInline models import class MyNestedInline NestedTabularInline model C extra class MyInline NestedStackedInline model B extra inlines MyNestedInline class MyAdmin NestedModelAdmin inlines MyInline admin site register A MyAdmin My issue based fact I create child object saving parent That say add another c button functionality saving B Is way achieve I read posts regarding I could find I say answer included anywhere I understand please patient I also note production code grappelli requirement anything clashes work",
                        "count": 1
                      },
                      {
                        "name": "3 others",
                        "count": 3
                      }
                    ]
                  }
                },
                {
                  "name": "answer",
                  "dtype": "object",
                  "stats": {
                    "unique_count": 5,
                    "nan_count": 0,
                    "categories": [
                      {
                        "name": "You use list comprehension rebuild list indices newlist v v enumerate oldlist indices I used set indices set membership testing faster list Note delete best done del lst index partially rebuilds list well one loop list comprehension efficient Demo gt gt gt oldlist gt gt gt indices gt gt gt v v enumerate oldlist indices",
                        "count": 1
                      },
                      {
                        "name": "What take templates django grappelli inline provides use use template django nested inlines class NestedStackedInline NestedInline template 'admin edit inline stacked html ' class NestedTabularInline NestedInline template 'admin edit inline tabular html ' Where templates ones django grappelli inline",
                        "count": 1
                      },
                      {
                        "name": "3 others",
                        "count": 3
                      }
                    ]
                  }
                },
                {
                  "name": "_deepnote_index_column",
                  "dtype": "int64"
                }
              ],
              "rows_top": [
                {
                  "id": 21032057,
                  "question": "Deleting multiple indexes list python",
                  "question_body": "My problem I list eg lst lst pop lst pop Because lst removed lst longer range This gives error Now I know could say change code lst pop lst pop ill fix error problem actual code 'popping ' random numbers needs done time avoid error Is method 'popping ' time like something similar lst pop Thanks answers",
                  "answer": "You use list comprehension rebuild list indices newlist v v enumerate oldlist indices I used set indices set membership testing faster list Note delete best done del lst index partially rebuilds list well one loop list comprehension efficient Demo gt gt gt oldlist gt gt gt indices gt gt gt v v enumerate oldlist indices",
                  "_deepnote_index_column": 490144
                },
                {
                  "id": 34022443,
                  "question": "Django Grappelli Nested Inlines create new nested lines initial load",
                  "question_body": "I looking way create new nested row saving owner row By way django ticket I found Grappelli Nested Inlines I using I test project set based instructions found link django contrib import admin grappelli nested admin import NestedModelAdmin NestedStackedInline NestedTabularInline models import class MyNestedInline NestedTabularInline model C extra class MyInline NestedStackedInline model B extra inlines MyNestedInline class MyAdmin NestedModelAdmin inlines MyInline admin site register A MyAdmin My issue based fact I create child object saving parent That say add another c button functionality saving B Is way achieve I read posts regarding I could find I say answer included anywhere I understand please patient I also note production code grappelli requirement anything clashes work",
                  "answer": "What take templates django grappelli inline provides use use template django nested inlines class NestedStackedInline NestedInline template 'admin edit inline stacked html ' class NestedTabularInline NestedInline template 'admin edit inline tabular html ' Where templates ones django grappelli inline",
                  "_deepnote_index_column": 815071
                },
                {
                  "id": 2185875,
                  "question": "Expanding elements list",
                  "question_body": "I 'm looking nice way process list elements need expanded elements expansion results Standard iterative way would lt len l needs expanding l new expand l l new len new else pretty ugly I could rewrite contents new list nl x l needs expanding x nl expand x else nl append x But seem long Or I could simply passes flatten list later flatten expand x needs expanding x else x x l def try expanding x flatten try expanding x x l n't feel right either Are clear ways",
                  "answer": "The last one probably pythonic could try implied loop py generator map flatten map lambda x expand x needs expanding x else x l flatten map try expanding l",
                  "_deepnote_index_column": 62146
                },
                {
                  "id": 12626260,
                  "question": "UnicodeDecodeError processing filenames",
                  "question_body": "I 'm using Python Ubuntu x I files folder filesystem The file names files contain html encoded escaped characters files originally downloaded website Here examples Jamaica jpg thai trip E B E B E A A E B F RAY jpg I wrote simple Python script goes folder renames files encoded characters filename The new filename achieved simply decoding string makes filename The script works files files Python chokes spits following error UnicodeDecodeError 'ascii ' codec ca n't decode byte xe position ordinal range Traceback recent call last File download py line downloadGalleries numDownloaded downloadGallery opener galleryLink File download py line downloadGallery filePathPrefix getFilePath content File download py line getFilePath return cleanupString match group strip ' ' cleanupString match group strip File home abc XYZ common py line cleanupString return HTMLParser HTMLParser unescape string File usr lib python HTMLParser py line unescape return sub r amp xX fA F w replaceEntities File usr lib python py line sub return compile pattern flags sub repl string count Here contents cleanupString function def cleanupString string string urllib unquote string return HTMLParser HTMLParser unescape string And 's snippet code calls cleanupString function code code traceback produces error rootFolder sys argv pattern r ' jpg jpeg ' reobj compile pattern IGNORECASE imgs root dirs files os walk rootFolder filename files foundFile os path join root filename reobj match foundFile imgs append foundFile img imgs print 'Checking file ' img newImg cleanupString img Code blows files Can anyone provide way get around error I 've already tried adding coding utf top script effect Thanks",
                  "answer": "Your filenames byte strings contain UTF bytes representing unicode characters The HTML parser normally works unicode data instead byte strings particularly encounters ampersand escape Python automatically trying decode value default uses ASCII decoding This fails UTF data contains bytes fall outside ASCII range You need explicitly decode string unicode object def cleanupString string string urllib unquote string decode 'utf ' return HTMLParser HTMLParser unescape string Your next problem unicode filenames filesystem need kind encoding work filenames You check encoding sys getfilesystemencoding use encode filenames def cleanupString string string urllib unquote string decode 'utf ' return HTMLParser HTMLParser unescape string encode sys getfilesystemencoding You read Python deals Unicode Unicode HOWTO",
                  "_deepnote_index_column": 304024
                },
                {
                  "id": 7288407,
                  "question": "Python string manipulation performance problems",
                  "question_body": "I following piece code I execute around million times application parse many records This part seems bottleneck I wondering anyone could help suggesting nifty tricks could make simple string manipulations faster try data start end info self Columns end start info columnLength slice line start end slice `` len slice info columnLength raise 'Wrong Input ' info hasSignage slice strip ' ' slice strip ' ' raise 'Wrong Input ' info skipColumn data append slice start end parsedLine data except parsedLine False",
                  "answer": "EDIT I 'm changing answer bit I 'll leave original answer In answer I commented best thing would find built Python module would unpacking I could n't think one perhaps I Google searched one John Machin provided answer showed use Python struct module Since written C faster pure Python solution I n't actually measured anything guess I agree logic original code un Pythonic Returning sentinel value n't best 's better either return valid value raise exception The way return list valid values plus another list invalid values Since John Machin offered code yield valid values I thought I 'd write version returns two lists NOTE Perhaps best possible answer would take John Machin 's answer modify save invalid values file possible later review His answer yields answers one time need build large list parsed records saving bad lines disk means need build possibly large list bad lines import struct def parse records self returns tuple good bad good list valid records tuples bad list tuples line num line err cols self Columns unpack fmt sign checks start colx info enumerate cols clen info columnLength clen lt raise ValueError Column Bad columnLength r colx clen info skipColumn unpack fmt str clen x else unpack fmt str clen info hasSignage sign checks append start start clen expected len start unpack struct Struct unpack fmt unpack good bad line num line enumerate self whatever list lines len line expected len bad append line num line bad length continue line ' ' sign checks bad append line num line sign check failed continue good append unpack line return good bad ORIGINAL ANSWER TEXT This answer lot faster self Columns information identical records We processing self Columns information one time build couple lists contain need process record This code shows compute parsedList n't actually yield return anything Obviously would need change def parse records self cols self Columns slices sign checks start info cols info columnLength lt raise ValueError bad columnLength end start info columnLength info skipColumn tup start end slices append tup info hasSignage sign checks append start expected len end use end count newline try line self whatever list lines len line expected len raise ValueError wrong length line ' ' sign checks raise ValueError wrong input parsedLine line e e slices except ValueError parsedLine False",
                  "_deepnote_index_column": 187856
                }
              ],
              "rows_bottom": null
            },
            "text/plain": "              id                                           question  \\\n490144  21032057              Deleting multiple indexes list python   \n815071  34022443  Django Grappelli Nested Inlines create new nes...   \n62146    2185875                            Expanding elements list   \n304024  12626260            UnicodeDecodeError processing filenames   \n187856   7288407    Python string manipulation performance problems   \n\n                                            question_body  \\\n490144  My problem I list eg lst lst pop lst pop Becau...   \n815071  I looking way create new nested row saving own...   \n62146   I 'm looking nice way process list elements ne...   \n304024  I 'm using Python Ubuntu x I files folder file...   \n187856  I following piece code I execute around millio...   \n\n                                                   answer  \n490144  You use list comprehension rebuild list indice...  \n815071  What take templates django grappelli inline pr...  \n62146   The last one probably pythonic could try impli...  \n304024  Your filenames byte strings contain UTF bytes ...  \n187856  EDIT I 'm changing answer bit I 'll leave orig...  ",
            "text/html": "<div>\n<style scoped>\n    .dataframe tbody tr th:only-of-type {\n        vertical-align: middle;\n    }\n\n    .dataframe tbody tr th {\n        vertical-align: top;\n    }\n\n    .dataframe thead th {\n        text-align: right;\n    }\n</style>\n<table border=\"1\" class=\"dataframe\">\n  <thead>\n    <tr style=\"text-align: right;\">\n      <th></th>\n      <th>id</th>\n      <th>question</th>\n      <th>question_body</th>\n      <th>answer</th>\n    </tr>\n  </thead>\n  <tbody>\n    <tr>\n      <th>490144</th>\n      <td>21032057</td>\n      <td>Deleting multiple indexes list python</td>\n      <td>My problem I list eg lst lst pop lst pop Becau...</td>\n      <td>You use list comprehension rebuild list indice...</td>\n    </tr>\n    <tr>\n      <th>815071</th>\n      <td>34022443</td>\n      <td>Django Grappelli Nested Inlines create new nes...</td>\n      <td>I looking way create new nested row saving own...</td>\n      <td>What take templates django grappelli inline pr...</td>\n    </tr>\n    <tr>\n      <th>62146</th>\n      <td>2185875</td>\n      <td>Expanding elements list</td>\n      <td>I 'm looking nice way process list elements ne...</td>\n      <td>The last one probably pythonic could try impli...</td>\n    </tr>\n    <tr>\n      <th>304024</th>\n      <td>12626260</td>\n      <td>UnicodeDecodeError processing filenames</td>\n      <td>I 'm using Python Ubuntu x I files folder file...</td>\n      <td>Your filenames byte strings contain UTF bytes ...</td>\n    </tr>\n    <tr>\n      <th>187856</th>\n      <td>7288407</td>\n      <td>Python string manipulation performance problems</td>\n      <td>I following piece code I execute around millio...</td>\n      <td>EDIT I 'm changing answer bit I 'll leave orig...</td>\n    </tr>\n  </tbody>\n</table>\n</div>"
          },
          "metadata": {}
        }
      ]
    },
    {
      "cell_type": "markdown",
      "source": "## Save data cleaned",
      "metadata": {
        "cell_id": "00016-d5785521-489a-4599-83c0-374758d32086",
        "deepnote_cell_type": "markdown"
      }
    },
    {
      "cell_type": "code",
      "metadata": {
        "cell_id": "00017-c8266a31-5481-42b4-b292-0be7d79d3000",
        "deepnote_to_be_reexecuted": false,
        "source_hash": "fc34e8d7",
        "execution_start": 1615136830323,
        "execution_millis": 11,
        "deepnote_cell_type": "code"
      },
      "source": "with open('../data/x_train.pickle', 'wb') as handle:\n    pickle.dump(X_train, handle, protocol=pickle.HIGHEST_PROTOCOL)\nwith open('../data/y_train.pickle', 'wb') as handle:\n    pickle.dump(y_train, handle, protocol=pickle.HIGHEST_PROTOCOL)",
      "execution_count": 13,
      "outputs": []
    },
    {
      "cell_type": "code",
      "metadata": {
        "cell_id": "00018-5b00335d-9ba2-4959-9651-3b0f5be1659c",
        "deepnote_to_be_reexecuted": false,
        "source_hash": "c279fe41",
        "execution_start": 1615136830339,
        "execution_millis": 46,
        "deepnote_cell_type": "code"
      },
      "source": "with open('../data/x_val.pickle', 'wb') as handle:\n    pickle.dump(X_val, handle, protocol=pickle.HIGHEST_PROTOCOL)\nwith open('../data/y_val.pickle', 'wb') as handle:\n    pickle.dump(y_val, handle, protocol=pickle.HIGHEST_PROTOCOL)",
      "execution_count": 14,
      "outputs": []
    },
    {
      "cell_type": "code",
      "metadata": {
        "cell_id": "00019-144c9b70-22db-476d-a9ed-18859f1c4bf5",
        "deepnote_to_be_reexecuted": false,
        "source_hash": "b623e53d",
        "execution_start": 1615136830388,
        "execution_millis": 2,
        "deepnote_cell_type": "code"
      },
      "source": "",
      "execution_count": 14,
      "outputs": []
    },
    {
      "cell_type": "markdown",
      "source": "<a style='text-decoration:none;line-height:16px;display:flex;color:#5B5B62;padding:10px;justify-content:end;' href='https://deepnote.com?utm_source=created-in-deepnote-cell&projectId=e80043e2-6875-4b65-a196-a0ffb97a1282' target=\"_blank\">\n<img style='display:inline;max-height:16px;margin:0px;margin-right:7.5px;' src='data:image/svg+xml;base64,PD94bWwgdmVyc2lvbj0iMS4wIiBlbmNvZGluZz0iVVRGLTgiPz4KPHN2ZyB3aWR0aD0iODBweCIgaGVpZ2h0PSI4MHB4IiB2aWV3Qm94PSIwIDAgODAgODAiIHZlcnNpb249IjEuMSIgeG1sbnM9Imh0dHA6Ly93d3cudzMub3JnLzIwMDAvc3ZnIiB4bWxuczp4bGluaz0iaHR0cDovL3d3dy53My5vcmcvMTk5OS94bGluayI+CiAgICA8IS0tIEdlbmVyYXRvcjogU2tldGNoIDU0LjEgKDc2NDkwKSAtIGh0dHBzOi8vc2tldGNoYXBwLmNvbSAtLT4KICAgIDx0aXRsZT5Hcm91cCAzPC90aXRsZT4KICAgIDxkZXNjPkNyZWF0ZWQgd2l0aCBTa2V0Y2guPC9kZXNjPgogICAgPGcgaWQ9IkxhbmRpbmciIHN0cm9rZT0ibm9uZSIgc3Ryb2tlLXdpZHRoPSIxIiBmaWxsPSJub25lIiBmaWxsLXJ1bGU9ImV2ZW5vZGQiPgogICAgICAgIDxnIGlkPSJBcnRib2FyZCIgdHJhbnNmb3JtPSJ0cmFuc2xhdGUoLTEyMzUuMDAwMDAwLCAtNzkuMDAwMDAwKSI+CiAgICAgICAgICAgIDxnIGlkPSJHcm91cC0zIiB0cmFuc2Zvcm09InRyYW5zbGF0ZSgxMjM1LjAwMDAwMCwgNzkuMDAwMDAwKSI+CiAgICAgICAgICAgICAgICA8cG9seWdvbiBpZD0iUGF0aC0yMCIgZmlsbD0iIzAyNjVCNCIgcG9pbnRzPSIyLjM3NjIzNzYyIDgwIDM4LjA0NzY2NjcgODAgNTcuODIxNzgyMiA3My44MDU3NTkyIDU3LjgyMTc4MjIgMzIuNzU5MjczOSAzOS4xNDAyMjc4IDMxLjY4MzE2ODMiPjwvcG9seWdvbj4KICAgICAgICAgICAgICAgIDxwYXRoIGQ9Ik0zNS4wMDc3MTgsODAgQzQyLjkwNjIwMDcsNzYuNDU0OTM1OCA0Ny41NjQ5MTY3LDcxLjU0MjI2NzEgNDguOTgzODY2LDY1LjI2MTk5MzkgQzUxLjExMjI4OTksNTUuODQxNTg0MiA0MS42NzcxNzk1LDQ5LjIxMjIyODQgMjUuNjIzOTg0Niw0OS4yMTIyMjg0IEMyNS40ODQ5Mjg5LDQ5LjEyNjg0NDggMjkuODI2MTI5Niw0My4yODM4MjQ4IDM4LjY0NzU4NjksMzEuNjgzMTY4MyBMNzIuODcxMjg3MSwzMi41NTQ0MjUgTDY1LjI4MDk3Myw2Ny42NzYzNDIxIEw1MS4xMTIyODk5LDc3LjM3NjE0NCBMMzUuMDA3NzE4LDgwIFoiIGlkPSJQYXRoLTIyIiBmaWxsPSIjMDAyODY4Ij48L3BhdGg+CiAgICAgICAgICAgICAgICA8cGF0aCBkPSJNMCwzNy43MzA0NDA1IEwyNy4xMTQ1MzcsMC4yNTcxMTE0MzYgQzYyLjM3MTUxMjMsLTEuOTkwNzE3MDEgODAsMTAuNTAwMzkyNyA4MCwzNy43MzA0NDA1IEM4MCw2NC45NjA0ODgyIDY0Ljc3NjUwMzgsNzkuMDUwMzQxNCAzNC4zMjk1MTEzLDgwIEM0Ny4wNTUzNDg5LDc3LjU2NzA4MDggNTMuNDE4MjY3Nyw3MC4zMTM2MTAzIDUzLjQxODI2NzcsNTguMjM5NTg4NSBDNTMuNDE4MjY3Nyw0MC4xMjg1NTU3IDM2LjMwMzk1NDQsMzcuNzMwNDQwNSAyNS4yMjc0MTcsMzcuNzMwNDQwNSBDMTcuODQzMDU4NiwzNy43MzA0NDA1IDkuNDMzOTE5NjYsMzcuNzMwNDQwNSAwLDM3LjczMDQ0MDUgWiIgaWQ9IlBhdGgtMTkiIGZpbGw9IiMzNzkzRUYiPjwvcGF0aD4KICAgICAgICAgICAgPC9nPgogICAgICAgIDwvZz4KICAgIDwvZz4KPC9zdmc+' > </img>\nCreated in <span style='font-weight:600;margin-left:4px;'>Deepnote</span></a>",
      "metadata": {
        "tags": [],
        "created_in_deepnote_cell": true,
        "deepnote_cell_type": "markdown"
      }
    }
  ],
  "nbformat": 4,
  "nbformat_minor": 2,
  "metadata": {
    "deepnote": {},
    "deepnote_execution_queue": [],
    "deepnote_notebook_id": "15d927f3-d2b7-47d4-b6b6-c8b1e6e5e580",
    "kernelspec": {
      "display_name": "Python 3",
      "language": "python",
      "name": "python3"
    },
    "language_info": {
      "codemirror_mode": {
        "name": "ipython",
        "version": 3
      },
      "file_extension": ".py",
      "mimetype": "text/x-python",
      "name": "python",
      "nbconvert_exporter": "python",
      "pygments_lexer": "ipython3",
      "version": "3.6.9"
    }
  }
}