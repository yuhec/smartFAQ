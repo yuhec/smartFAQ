{
 "cells": [
  {
   "cell_type": "markdown",
   "metadata": {
    "cell_id": "00000-a70a5a8c-d183-40ec-badc-2b6148f37ec6",
    "deepnote_cell_type": "markdown",
    "tags": []
   },
   "source": [
    "# PREPROCESSING \n",
    "---\n",
    "## IMPORT "
   ]
  },
  {
   "cell_type": "code",
   "execution_count": 15,
   "metadata": {
    "cell_id": "00001-eff6abcf-6d08-4eb3-b666-18cf1a3c68c3",
    "deepnote_cell_type": "code",
    "tags": []
   },
   "outputs": [],
   "source": [
    "import os\n",
    "import pandas as pd \n",
    "import numpy as np \n",
    "import pickle\n",
    "from sklearn.model_selection import train_test_split"
   ]
  },
  {
   "cell_type": "markdown",
   "metadata": {
    "cell_id": "00002-4e35426f-7788-45e4-a3c3-3ce2d4bfdacb",
    "deepnote_cell_type": "markdown",
    "tags": []
   },
   "source": [
    "## Get Data "
   ]
  },
  {
   "cell_type": "code",
   "execution_count": 16,
   "metadata": {},
   "outputs": [],
   "source": [
    "df_answers = pd.read_csv('../data/Answers.csv', encoding='latin-1')\n",
    "df_questions = pd.read_csv('../data/Questions.csv', encoding='latin-1')"
   ]
  },
  {
   "cell_type": "code",
   "execution_count": 17,
   "metadata": {},
   "outputs": [],
   "source": [
    "df_train = df_answers.merge(df_questions, how='inner', left_on='ParentId', right_on='Id')\n",
    "df_train = df_train.drop(['ParentId'], axis=1)"
   ]
  },
  {
   "cell_type": "code",
   "execution_count": 18,
   "metadata": {},
   "outputs": [
    {
     "data": {
      "text/html": [
       "<div>\n",
       "<style scoped>\n",
       "    .dataframe tbody tr th:only-of-type {\n",
       "        vertical-align: middle;\n",
       "    }\n",
       "\n",
       "    .dataframe tbody tr th {\n",
       "        vertical-align: top;\n",
       "    }\n",
       "\n",
       "    .dataframe thead th {\n",
       "        text-align: right;\n",
       "    }\n",
       "</style>\n",
       "<table border=\"1\" class=\"dataframe\">\n",
       "  <thead>\n",
       "    <tr style=\"text-align: right;\">\n",
       "      <th></th>\n",
       "      <th>Id_x</th>\n",
       "      <th>OwnerUserId_x</th>\n",
       "      <th>CreationDate_x</th>\n",
       "      <th>Score_x</th>\n",
       "      <th>Body_x</th>\n",
       "      <th>Id_y</th>\n",
       "      <th>OwnerUserId_y</th>\n",
       "      <th>CreationDate_y</th>\n",
       "      <th>Score_y</th>\n",
       "      <th>Title</th>\n",
       "      <th>Body_y</th>\n",
       "    </tr>\n",
       "  </thead>\n",
       "  <tbody>\n",
       "    <tr>\n",
       "      <th>0</th>\n",
       "      <td>497</td>\n",
       "      <td>50.0</td>\n",
       "      <td>2008-08-02T16:56:53Z</td>\n",
       "      <td>4</td>\n",
       "      <td>&lt;p&gt;open up a terminal (Applications-&amp;gt;Utilit...</td>\n",
       "      <td>469</td>\n",
       "      <td>147.0</td>\n",
       "      <td>2008-08-02T15:11:16Z</td>\n",
       "      <td>21</td>\n",
       "      <td>How can I find the full path to a font from it...</td>\n",
       "      <td>&lt;p&gt;I am using the Photoshop's javascript API t...</td>\n",
       "    </tr>\n",
       "    <tr>\n",
       "      <th>1</th>\n",
       "      <td>518</td>\n",
       "      <td>153.0</td>\n",
       "      <td>2008-08-02T17:42:28Z</td>\n",
       "      <td>2</td>\n",
       "      <td>&lt;p&gt;I haven't been able to find anything that d...</td>\n",
       "      <td>469</td>\n",
       "      <td>147.0</td>\n",
       "      <td>2008-08-02T15:11:16Z</td>\n",
       "      <td>21</td>\n",
       "      <td>How can I find the full path to a font from it...</td>\n",
       "      <td>&lt;p&gt;I am using the Photoshop's javascript API t...</td>\n",
       "    </tr>\n",
       "    <tr>\n",
       "      <th>2</th>\n",
       "      <td>3040</td>\n",
       "      <td>457.0</td>\n",
       "      <td>2008-08-06T03:01:23Z</td>\n",
       "      <td>12</td>\n",
       "      <td>&lt;p&gt;Unfortunately the only API that isn't depre...</td>\n",
       "      <td>469</td>\n",
       "      <td>147.0</td>\n",
       "      <td>2008-08-02T15:11:16Z</td>\n",
       "      <td>21</td>\n",
       "      <td>How can I find the full path to a font from it...</td>\n",
       "      <td>&lt;p&gt;I am using the Photoshop's javascript API t...</td>\n",
       "    </tr>\n",
       "    <tr>\n",
       "      <th>3</th>\n",
       "      <td>195170</td>\n",
       "      <td>745.0</td>\n",
       "      <td>2008-10-12T07:02:40Z</td>\n",
       "      <td>1</td>\n",
       "      <td>&lt;p&gt;There must be a method in Cocoa to get a li...</td>\n",
       "      <td>469</td>\n",
       "      <td>147.0</td>\n",
       "      <td>2008-08-02T15:11:16Z</td>\n",
       "      <td>21</td>\n",
       "      <td>How can I find the full path to a font from it...</td>\n",
       "      <td>&lt;p&gt;I am using the Photoshop's javascript API t...</td>\n",
       "    </tr>\n",
       "    <tr>\n",
       "      <th>4</th>\n",
       "      <td>536</td>\n",
       "      <td>161.0</td>\n",
       "      <td>2008-08-02T18:49:07Z</td>\n",
       "      <td>9</td>\n",
       "      <td>&lt;p&gt;You can use ImageMagick's convert utility f...</td>\n",
       "      <td>502</td>\n",
       "      <td>147.0</td>\n",
       "      <td>2008-08-02T17:01:58Z</td>\n",
       "      <td>27</td>\n",
       "      <td>Get a preview JPEG of a PDF on Windows?</td>\n",
       "      <td>&lt;p&gt;I have a cross-platform (Python) applicatio...</td>\n",
       "    </tr>\n",
       "  </tbody>\n",
       "</table>\n",
       "</div>"
      ],
      "text/plain": [
       "     Id_x  OwnerUserId_x        CreationDate_x  Score_x  \\\n",
       "0     497           50.0  2008-08-02T16:56:53Z        4   \n",
       "1     518          153.0  2008-08-02T17:42:28Z        2   \n",
       "2    3040          457.0  2008-08-06T03:01:23Z       12   \n",
       "3  195170          745.0  2008-10-12T07:02:40Z        1   \n",
       "4     536          161.0  2008-08-02T18:49:07Z        9   \n",
       "\n",
       "                                              Body_x  Id_y  OwnerUserId_y  \\\n",
       "0  <p>open up a terminal (Applications-&gt;Utilit...   469          147.0   \n",
       "1  <p>I haven't been able to find anything that d...   469          147.0   \n",
       "2  <p>Unfortunately the only API that isn't depre...   469          147.0   \n",
       "3  <p>There must be a method in Cocoa to get a li...   469          147.0   \n",
       "4  <p>You can use ImageMagick's convert utility f...   502          147.0   \n",
       "\n",
       "         CreationDate_y  Score_y  \\\n",
       "0  2008-08-02T15:11:16Z       21   \n",
       "1  2008-08-02T15:11:16Z       21   \n",
       "2  2008-08-02T15:11:16Z       21   \n",
       "3  2008-08-02T15:11:16Z       21   \n",
       "4  2008-08-02T17:01:58Z       27   \n",
       "\n",
       "                                               Title  \\\n",
       "0  How can I find the full path to a font from it...   \n",
       "1  How can I find the full path to a font from it...   \n",
       "2  How can I find the full path to a font from it...   \n",
       "3  How can I find the full path to a font from it...   \n",
       "4            Get a preview JPEG of a PDF on Windows?   \n",
       "\n",
       "                                              Body_y  \n",
       "0  <p>I am using the Photoshop's javascript API t...  \n",
       "1  <p>I am using the Photoshop's javascript API t...  \n",
       "2  <p>I am using the Photoshop's javascript API t...  \n",
       "3  <p>I am using the Photoshop's javascript API t...  \n",
       "4  <p>I have a cross-platform (Python) applicatio...  "
      ]
     },
     "execution_count": 18,
     "metadata": {},
     "output_type": "execute_result"
    }
   ],
   "source": [
    "df_train.head()"
   ]
  },
  {
   "cell_type": "code",
   "execution_count": 19,
   "metadata": {},
   "outputs": [],
   "source": [
    "df_train = df_train[['Id_x', 'Body_x', 'Score_x', 'Title', 'Body_y']]\n",
    "df_train.columns= ['id', 'answer', 'target', 'question', 'question_body']\n",
    "df_train = df_train[['id', 'question', 'question_body', 'answer', 'target']]\n",
    "str_cols = ['answer', 'question', 'question_body']"
   ]
  },
  {
   "cell_type": "markdown",
   "metadata": {},
   "source": [
    "## Split data train/validation"
   ]
  },
  {
   "cell_type": "code",
   "execution_count": 20,
   "metadata": {},
   "outputs": [],
   "source": [
    "X_train, X_val, y_train, y_val = train_test_split(df_train[['id', 'question', 'question_body', 'answer']], df_train['target'], test_size=0.2, random_state=0)"
   ]
  },
  {
   "cell_type": "code",
   "execution_count": 21,
   "metadata": {},
   "outputs": [],
   "source": [
    "X_train = X_train.iloc[:10000]\n",
    "X_val = X_val.iloc[:10000]\n",
    "y_train = y_train.iloc[:10000]\n",
    "y_val = y_val.iloc[:10000]"
   ]
  },
  {
   "cell_type": "code",
   "execution_count": 22,
   "metadata": {},
   "outputs": [
    {
     "data": {
      "text/plain": [
       "(10000, 4)"
      ]
     },
     "execution_count": 22,
     "metadata": {},
     "output_type": "execute_result"
    }
   ],
   "source": [
    "X_train.shape"
   ]
  },
  {
   "cell_type": "code",
   "execution_count": 23,
   "metadata": {},
   "outputs": [
    {
     "data": {
      "text/html": [
       "<div>\n",
       "<style scoped>\n",
       "    .dataframe tbody tr th:only-of-type {\n",
       "        vertical-align: middle;\n",
       "    }\n",
       "\n",
       "    .dataframe tbody tr th {\n",
       "        vertical-align: top;\n",
       "    }\n",
       "\n",
       "    .dataframe thead th {\n",
       "        text-align: right;\n",
       "    }\n",
       "</style>\n",
       "<table border=\"1\" class=\"dataframe\">\n",
       "  <thead>\n",
       "    <tr style=\"text-align: right;\">\n",
       "      <th></th>\n",
       "      <th>id</th>\n",
       "      <th>question</th>\n",
       "      <th>question_body</th>\n",
       "      <th>answer</th>\n",
       "    </tr>\n",
       "  </thead>\n",
       "  <tbody>\n",
       "    <tr>\n",
       "      <th>490144</th>\n",
       "      <td>21032057</td>\n",
       "      <td>Deleting multiple indexes from a list at once ...</td>\n",
       "      <td>&lt;p&gt;My problem is I have a list\\neg.   &lt;/p&gt;\\n\\n...</td>\n",
       "      <td>&lt;p&gt;You can use a list comprehension to rebuild...</td>\n",
       "    </tr>\n",
       "    <tr>\n",
       "      <th>815071</th>\n",
       "      <td>34022443</td>\n",
       "      <td>Django Grappelli_Nested Inlines cannot create ...</td>\n",
       "      <td>&lt;p&gt;I am looking for a way to create a new nest...</td>\n",
       "      <td>&lt;p&gt;What i did was to take the templates that d...</td>\n",
       "    </tr>\n",
       "    <tr>\n",
       "      <th>62146</th>\n",
       "      <td>2185875</td>\n",
       "      <td>Expanding elements in a list</td>\n",
       "      <td>&lt;p&gt;I'm looking for a \"nice\" way to process a l...</td>\n",
       "      <td>&lt;p&gt;The last one is probably your most pythonic...</td>\n",
       "    </tr>\n",
       "    <tr>\n",
       "      <th>304024</th>\n",
       "      <td>12626260</td>\n",
       "      <td>UnicodeDecodeError while processing filenames</td>\n",
       "      <td>&lt;p&gt;I'm using Python 2.7.3 on Ubuntu 12 x64.&lt;/p...</td>\n",
       "      <td>&lt;p&gt;Your filenames are byte strings that contai...</td>\n",
       "    </tr>\n",
       "    <tr>\n",
       "      <th>187856</th>\n",
       "      <td>7288407</td>\n",
       "      <td>Python string manipulation -- performance prob...</td>\n",
       "      <td>&lt;p&gt;I have the following piece of code that I e...</td>\n",
       "      <td>&lt;p&gt;EDIT: I'm changing this answer a bit.  I'll...</td>\n",
       "    </tr>\n",
       "  </tbody>\n",
       "</table>\n",
       "</div>"
      ],
      "text/plain": [
       "              id                                           question  \\\n",
       "490144  21032057  Deleting multiple indexes from a list at once ...   \n",
       "815071  34022443  Django Grappelli_Nested Inlines cannot create ...   \n",
       "62146    2185875                       Expanding elements in a list   \n",
       "304024  12626260      UnicodeDecodeError while processing filenames   \n",
       "187856   7288407  Python string manipulation -- performance prob...   \n",
       "\n",
       "                                            question_body  \\\n",
       "490144  <p>My problem is I have a list\\neg.   </p>\\n\\n...   \n",
       "815071  <p>I am looking for a way to create a new nest...   \n",
       "62146   <p>I'm looking for a \"nice\" way to process a l...   \n",
       "304024  <p>I'm using Python 2.7.3 on Ubuntu 12 x64.</p...   \n",
       "187856  <p>I have the following piece of code that I e...   \n",
       "\n",
       "                                                   answer  \n",
       "490144  <p>You can use a list comprehension to rebuild...  \n",
       "815071  <p>What i did was to take the templates that d...  \n",
       "62146   <p>The last one is probably your most pythonic...  \n",
       "304024  <p>Your filenames are byte strings that contai...  \n",
       "187856  <p>EDIT: I'm changing this answer a bit.  I'll...  "
      ]
     },
     "execution_count": 23,
     "metadata": {},
     "output_type": "execute_result"
    }
   ],
   "source": [
    "X_train.head()"
   ]
  },
  {
   "cell_type": "markdown",
   "metadata": {},
   "source": [
    "## Launch preproc\n",
    "brief_cleaning : remove HTML code, characters other than letters and stop words"
   ]
  },
  {
   "cell_type": "code",
   "execution_count": 24,
   "metadata": {},
   "outputs": [],
   "source": [
    "import sys\n",
    "sys.path.append('../..')\n",
    "from smartFAQ.src.cleanTxt import brief_cleaning"
   ]
  },
  {
   "cell_type": "code",
   "execution_count": 25,
   "metadata": {},
   "outputs": [
    {
     "name": "stdout",
     "output_type": "stream",
     "text": [
      "Time to clean up everything: 0.39 mins\n",
      "Time to clean up everything: 0.39 mins\n"
     ]
    }
   ],
   "source": [
    "X_train = brief_cleaning(X_train, str_cols)\n",
    "X_val = brief_cleaning(X_val, str_cols)"
   ]
  },
  {
   "cell_type": "code",
   "execution_count": 26,
   "metadata": {},
   "outputs": [
    {
     "data": {
      "text/html": [
       "<div>\n",
       "<style scoped>\n",
       "    .dataframe tbody tr th:only-of-type {\n",
       "        vertical-align: middle;\n",
       "    }\n",
       "\n",
       "    .dataframe tbody tr th {\n",
       "        vertical-align: top;\n",
       "    }\n",
       "\n",
       "    .dataframe thead th {\n",
       "        text-align: right;\n",
       "    }\n",
       "</style>\n",
       "<table border=\"1\" class=\"dataframe\">\n",
       "  <thead>\n",
       "    <tr style=\"text-align: right;\">\n",
       "      <th></th>\n",
       "      <th>id</th>\n",
       "      <th>question</th>\n",
       "      <th>question_body</th>\n",
       "      <th>answer</th>\n",
       "    </tr>\n",
       "  </thead>\n",
       "  <tbody>\n",
       "    <tr>\n",
       "      <th>490144</th>\n",
       "      <td>21032057</td>\n",
       "      <td>Deleting multiple indexes list python</td>\n",
       "      <td>My problem I list eg lst lst pop lst pop Becau...</td>\n",
       "      <td>You use list comprehension rebuild list indice...</td>\n",
       "    </tr>\n",
       "    <tr>\n",
       "      <th>815071</th>\n",
       "      <td>34022443</td>\n",
       "      <td>Django Grappelli Nested Inlines create new nes...</td>\n",
       "      <td>I looking way create new nested row saving own...</td>\n",
       "      <td>What take templates django grappelli inline pr...</td>\n",
       "    </tr>\n",
       "    <tr>\n",
       "      <th>62146</th>\n",
       "      <td>2185875</td>\n",
       "      <td>Expanding elements list</td>\n",
       "      <td>I 'm looking nice way process list elements ne...</td>\n",
       "      <td>The last one probably pythonic could try impli...</td>\n",
       "    </tr>\n",
       "    <tr>\n",
       "      <th>304024</th>\n",
       "      <td>12626260</td>\n",
       "      <td>UnicodeDecodeError processing filenames</td>\n",
       "      <td>I 'm using Python Ubuntu x I files folder file...</td>\n",
       "      <td>Your filenames byte strings contain UTF bytes ...</td>\n",
       "    </tr>\n",
       "    <tr>\n",
       "      <th>187856</th>\n",
       "      <td>7288407</td>\n",
       "      <td>Python string manipulation performance problems</td>\n",
       "      <td>I following piece code I execute around millio...</td>\n",
       "      <td>EDIT I 'm changing answer bit I 'll leave orig...</td>\n",
       "    </tr>\n",
       "  </tbody>\n",
       "</table>\n",
       "</div>"
      ],
      "text/plain": [
       "              id                                           question  \\\n",
       "490144  21032057              Deleting multiple indexes list python   \n",
       "815071  34022443  Django Grappelli Nested Inlines create new nes...   \n",
       "62146    2185875                            Expanding elements list   \n",
       "304024  12626260            UnicodeDecodeError processing filenames   \n",
       "187856   7288407    Python string manipulation performance problems   \n",
       "\n",
       "                                            question_body  \\\n",
       "490144  My problem I list eg lst lst pop lst pop Becau...   \n",
       "815071  I looking way create new nested row saving own...   \n",
       "62146   I 'm looking nice way process list elements ne...   \n",
       "304024  I 'm using Python Ubuntu x I files folder file...   \n",
       "187856  I following piece code I execute around millio...   \n",
       "\n",
       "                                                   answer  \n",
       "490144  You use list comprehension rebuild list indice...  \n",
       "815071  What take templates django grappelli inline pr...  \n",
       "62146   The last one probably pythonic could try impli...  \n",
       "304024  Your filenames byte strings contain UTF bytes ...  \n",
       "187856  EDIT I 'm changing answer bit I 'll leave orig...  "
      ]
     },
     "execution_count": 26,
     "metadata": {},
     "output_type": "execute_result"
    }
   ],
   "source": [
    "X_train.head()"
   ]
  },
  {
   "cell_type": "markdown",
   "metadata": {},
   "source": [
    "## Save data cleaned"
   ]
  },
  {
   "cell_type": "code",
   "execution_count": 27,
   "metadata": {},
   "outputs": [],
   "source": [
    "with open('../data/x_train.pickle', 'wb') as handle:\n",
    "    pickle.dump(X_train, handle, protocol=pickle.HIGHEST_PROTOCOL)\n",
    "with open('../data/y_train.pickle', 'wb') as handle:\n",
    "    pickle.dump(y_train, handle, protocol=pickle.HIGHEST_PROTOCOL)"
   ]
  },
  {
   "cell_type": "code",
   "execution_count": 28,
   "metadata": {},
   "outputs": [],
   "source": [
    "with open('../data/x_val.pickle', 'wb') as handle:\n",
    "    pickle.dump(X_val, handle, protocol=pickle.HIGHEST_PROTOCOL)\n",
    "with open('../data/y_val.pickle', 'wb') as handle:\n",
    "    pickle.dump(y_val, handle, protocol=pickle.HIGHEST_PROTOCOL)"
   ]
  },
  {
   "cell_type": "code",
   "execution_count": null,
   "metadata": {},
   "outputs": [],
   "source": []
  },
  {
   "cell_type": "markdown",
   "metadata": {
    "created_in_deepnote_cell": true,
    "deepnote_cell_type": "markdown",
    "tags": []
   },
   "source": [
    "<a style='text-decoration:none;line-height:16px;display:flex;color:#5B5B62;padding:10px;justify-content:end;' href='https://deepnote.com?utm_source=created-in-deepnote-cell&projectId=e80043e2-6875-4b65-a196-a0ffb97a1282' target=\"_blank\">\n",
    "<img style='display:inline;max-height:16px;margin:0px;margin-right:7.5px;' src='data:image/svg+xml;base64,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' > </img>\n",
    "Created in <span style='font-weight:600;margin-left:4px;'>Deepnote</span></a>"
   ]
  }
 ],
 "metadata": {
  "deepnote": {},
  "deepnote_execution_queue": [],
  "deepnote_notebook_id": "15d927f3-d2b7-47d4-b6b6-c8b1e6e5e580",
  "kernelspec": {
   "display_name": "Python 3",
   "language": "python",
   "name": "python3"
  },
  "language_info": {
   "codemirror_mode": {
    "name": "ipython",
    "version": 3
   },
   "file_extension": ".py",
   "mimetype": "text/x-python",
   "name": "python",
   "nbconvert_exporter": "python",
   "pygments_lexer": "ipython3",
   "version": "3.6.9"
  }
 },
 "nbformat": 4,
 "nbformat_minor": 2
}
