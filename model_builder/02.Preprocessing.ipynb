{
 "cells": [
  {
   "cell_type": "markdown",
   "metadata": {
    "cell_id": "00000-a70a5a8c-d183-40ec-badc-2b6148f37ec6",
    "deepnote_cell_type": "markdown",
    "tags": []
   },
   "source": [
    "# PREPROCESSING \n",
    "\n",
    "Ce notebook a pour objectif de rassembler les tables et d'offrir un premier nettoyage aux données.\n",
    "\n",
    "---\n",
    "## IMPORT "
   ]
  },
  {
   "cell_type": "code",
   "execution_count": 3,
   "metadata": {
    "cell_id": "00001-eff6abcf-6d08-4eb3-b666-18cf1a3c68c3",
    "deepnote_cell_type": "code",
    "deepnote_to_be_reexecuted": false,
    "execution_millis": 1248,
    "execution_start": 1615136766040,
    "source_hash": "afbead54",
    "tags": []
   },
   "outputs": [],
   "source": [
    "import os\n",
    "import pandas as pd \n",
    "import numpy as np \n",
    "import pickle\n",
    "from sklearn.model_selection import train_test_split"
   ]
  },
  {
   "cell_type": "markdown",
   "metadata": {
    "cell_id": "00002-4e35426f-7788-45e4-a3c3-3ce2d4bfdacb",
    "deepnote_cell_type": "markdown",
    "tags": []
   },
   "source": [
    "## Get Data "
   ]
  },
  {
   "cell_type": "code",
   "execution_count": 4,
   "metadata": {
    "cell_id": "00003-c54d6eb9-b2e8-4712-be5c-5facd823e7a4",
    "deepnote_cell_type": "code",
    "deepnote_to_be_reexecuted": false,
    "execution_millis": 20658,
    "execution_start": 1615136767291,
    "source_hash": "fcfb71b8"
   },
   "outputs": [],
   "source": [
    "df_answers = pd.read_csv('../data/Answers.csv', encoding='latin-1')\n",
    "df_questions = pd.read_csv('../data/Questions.csv', encoding='latin-1')"
   ]
  },
  {
   "cell_type": "code",
   "execution_count": 5,
   "metadata": {
    "cell_id": "00004-a92492e8-9662-4792-be61-bd1fa22f9962",
    "deepnote_cell_type": "code",
    "deepnote_to_be_reexecuted": false,
    "execution_millis": 1235,
    "execution_start": 1615136787949,
    "source_hash": "915ba2a7"
   },
   "outputs": [],
   "source": [
    "df_train = df_answers.merge(df_questions, how='inner', left_on='ParentId', right_on='Id')\n",
    "df_train = df_train.drop(['ParentId'], axis=1)"
   ]
  },
  {
   "cell_type": "code",
   "execution_count": 6,
   "metadata": {
    "cell_id": "00005-c5f0af71-b243-4897-9ec1-256501d8d337",
    "deepnote_cell_type": "code",
    "deepnote_to_be_reexecuted": false,
    "execution_millis": 22,
    "execution_start": 1615136789211,
    "source_hash": "5e2a9c26"
   },
   "outputs": [
    {
     "data": {
      "text/html": [
       "<div>\n",
       "<style scoped>\n",
       "    .dataframe tbody tr th:only-of-type {\n",
       "        vertical-align: middle;\n",
       "    }\n",
       "\n",
       "    .dataframe tbody tr th {\n",
       "        vertical-align: top;\n",
       "    }\n",
       "\n",
       "    .dataframe thead th {\n",
       "        text-align: right;\n",
       "    }\n",
       "</style>\n",
       "<table border=\"1\" class=\"dataframe\">\n",
       "  <thead>\n",
       "    <tr style=\"text-align: right;\">\n",
       "      <th></th>\n",
       "      <th>Id_x</th>\n",
       "      <th>OwnerUserId_x</th>\n",
       "      <th>CreationDate_x</th>\n",
       "      <th>Score_x</th>\n",
       "      <th>Body_x</th>\n",
       "      <th>Id_y</th>\n",
       "      <th>OwnerUserId_y</th>\n",
       "      <th>CreationDate_y</th>\n",
       "      <th>Score_y</th>\n",
       "      <th>Title</th>\n",
       "      <th>Body_y</th>\n",
       "    </tr>\n",
       "  </thead>\n",
       "  <tbody>\n",
       "    <tr>\n",
       "      <th>0</th>\n",
       "      <td>497</td>\n",
       "      <td>50.0</td>\n",
       "      <td>2008-08-02T16:56:53Z</td>\n",
       "      <td>4</td>\n",
       "      <td>&lt;p&gt;open up a terminal (Applications-&amp;gt;Utilit...</td>\n",
       "      <td>469</td>\n",
       "      <td>147.0</td>\n",
       "      <td>2008-08-02T15:11:16Z</td>\n",
       "      <td>21</td>\n",
       "      <td>How can I find the full path to a font from it...</td>\n",
       "      <td>&lt;p&gt;I am using the Photoshop's javascript API t...</td>\n",
       "    </tr>\n",
       "    <tr>\n",
       "      <th>1</th>\n",
       "      <td>518</td>\n",
       "      <td>153.0</td>\n",
       "      <td>2008-08-02T17:42:28Z</td>\n",
       "      <td>2</td>\n",
       "      <td>&lt;p&gt;I haven't been able to find anything that d...</td>\n",
       "      <td>469</td>\n",
       "      <td>147.0</td>\n",
       "      <td>2008-08-02T15:11:16Z</td>\n",
       "      <td>21</td>\n",
       "      <td>How can I find the full path to a font from it...</td>\n",
       "      <td>&lt;p&gt;I am using the Photoshop's javascript API t...</td>\n",
       "    </tr>\n",
       "    <tr>\n",
       "      <th>2</th>\n",
       "      <td>3040</td>\n",
       "      <td>457.0</td>\n",
       "      <td>2008-08-06T03:01:23Z</td>\n",
       "      <td>12</td>\n",
       "      <td>&lt;p&gt;Unfortunately the only API that isn't depre...</td>\n",
       "      <td>469</td>\n",
       "      <td>147.0</td>\n",
       "      <td>2008-08-02T15:11:16Z</td>\n",
       "      <td>21</td>\n",
       "      <td>How can I find the full path to a font from it...</td>\n",
       "      <td>&lt;p&gt;I am using the Photoshop's javascript API t...</td>\n",
       "    </tr>\n",
       "    <tr>\n",
       "      <th>3</th>\n",
       "      <td>195170</td>\n",
       "      <td>745.0</td>\n",
       "      <td>2008-10-12T07:02:40Z</td>\n",
       "      <td>1</td>\n",
       "      <td>&lt;p&gt;There must be a method in Cocoa to get a li...</td>\n",
       "      <td>469</td>\n",
       "      <td>147.0</td>\n",
       "      <td>2008-08-02T15:11:16Z</td>\n",
       "      <td>21</td>\n",
       "      <td>How can I find the full path to a font from it...</td>\n",
       "      <td>&lt;p&gt;I am using the Photoshop's javascript API t...</td>\n",
       "    </tr>\n",
       "    <tr>\n",
       "      <th>4</th>\n",
       "      <td>536</td>\n",
       "      <td>161.0</td>\n",
       "      <td>2008-08-02T18:49:07Z</td>\n",
       "      <td>9</td>\n",
       "      <td>&lt;p&gt;You can use ImageMagick's convert utility f...</td>\n",
       "      <td>502</td>\n",
       "      <td>147.0</td>\n",
       "      <td>2008-08-02T17:01:58Z</td>\n",
       "      <td>27</td>\n",
       "      <td>Get a preview JPEG of a PDF on Windows?</td>\n",
       "      <td>&lt;p&gt;I have a cross-platform (Python) applicatio...</td>\n",
       "    </tr>\n",
       "  </tbody>\n",
       "</table>\n",
       "</div>"
      ],
      "text/plain": [
       "     Id_x  OwnerUserId_x        CreationDate_x  Score_x  \\\n",
       "0     497           50.0  2008-08-02T16:56:53Z        4   \n",
       "1     518          153.0  2008-08-02T17:42:28Z        2   \n",
       "2    3040          457.0  2008-08-06T03:01:23Z       12   \n",
       "3  195170          745.0  2008-10-12T07:02:40Z        1   \n",
       "4     536          161.0  2008-08-02T18:49:07Z        9   \n",
       "\n",
       "                                              Body_x  Id_y  OwnerUserId_y  \\\n",
       "0  <p>open up a terminal (Applications-&gt;Utilit...   469          147.0   \n",
       "1  <p>I haven't been able to find anything that d...   469          147.0   \n",
       "2  <p>Unfortunately the only API that isn't depre...   469          147.0   \n",
       "3  <p>There must be a method in Cocoa to get a li...   469          147.0   \n",
       "4  <p>You can use ImageMagick's convert utility f...   502          147.0   \n",
       "\n",
       "         CreationDate_y  Score_y  \\\n",
       "0  2008-08-02T15:11:16Z       21   \n",
       "1  2008-08-02T15:11:16Z       21   \n",
       "2  2008-08-02T15:11:16Z       21   \n",
       "3  2008-08-02T15:11:16Z       21   \n",
       "4  2008-08-02T17:01:58Z       27   \n",
       "\n",
       "                                               Title  \\\n",
       "0  How can I find the full path to a font from it...   \n",
       "1  How can I find the full path to a font from it...   \n",
       "2  How can I find the full path to a font from it...   \n",
       "3  How can I find the full path to a font from it...   \n",
       "4            Get a preview JPEG of a PDF on Windows?   \n",
       "\n",
       "                                              Body_y  \n",
       "0  <p>I am using the Photoshop's javascript API t...  \n",
       "1  <p>I am using the Photoshop's javascript API t...  \n",
       "2  <p>I am using the Photoshop's javascript API t...  \n",
       "3  <p>I am using the Photoshop's javascript API t...  \n",
       "4  <p>I have a cross-platform (Python) applicatio...  "
      ]
     },
     "execution_count": 6,
     "metadata": {},
     "output_type": "execute_result"
    }
   ],
   "source": [
    "df_train.head()"
   ]
  },
  {
   "cell_type": "code",
   "execution_count": 7,
   "metadata": {
    "cell_id": "00006-11879c07-7e23-4edb-be5a-598749c8ca44",
    "deepnote_cell_type": "code",
    "deepnote_to_be_reexecuted": false,
    "execution_millis": 152,
    "execution_start": 1615136789237,
    "source_hash": "6857ccc5"
   },
   "outputs": [],
   "source": [
    "df_train = df_train[['Id_x', 'Body_x', 'Score_x', 'Title', 'Body_y']]\n",
    "df_train.columns= ['id', 'answer', 'target', 'question', 'question_body']\n",
    "df_train = df_train[['id', 'question', 'question_body', 'answer', 'target']]\n",
    "str_cols = ['answer', 'question', 'question_body']"
   ]
  },
  {
   "cell_type": "markdown",
   "metadata": {
    "cell_id": "00007-c032bdb2-54dc-4b21-85c2-575aa1c3f554",
    "deepnote_cell_type": "markdown"
   },
   "source": [
    "## Split data train/validation\n",
    "Pour faciliter les entrainements, nous avons décidé de travailler sur 50 000 lignes de données, découpées comme suit: 60% d'entrainement, 28% de validation, 12% de test."
   ]
  },
  {
   "cell_type": "code",
   "execution_count": null,
   "metadata": {},
   "outputs": [],
   "source": [
    "df_train = df_train.iloc[:50000]"
   ]
  },
  {
   "cell_type": "code",
   "execution_count": 13,
   "metadata": {
    "cell_id": "00008-da6501f4-9314-4bf9-aab5-0a1466382a43",
    "deepnote_cell_type": "code",
    "deepnote_to_be_reexecuted": false,
    "execution_millis": 530,
    "execution_start": 1615136789392,
    "source_hash": "c35fe1a"
   },
   "outputs": [],
   "source": [
    "X_train, X_val, y_train, y_val = train_test_split(df_train[['id', 'question', 'question_body', 'answer']], df_train['target'], test_size=0.4, random_state=0)"
   ]
  },
  {
   "cell_type": "code",
   "execution_count": 14,
   "metadata": {},
   "outputs": [],
   "source": [
    "X_val, X_test, y_val, y_test = train_test_split(X_val[['id', 'question', 'question_body', 'answer']], y_val, test_size=0.3, random_state=0)"
   ]
  },
  {
   "cell_type": "code",
   "execution_count": 15,
   "metadata": {
    "cell_id": "00010-47215228-8d97-4ae1-942a-bd837e5e2bf1",
    "deepnote_cell_type": "code",
    "deepnote_to_be_reexecuted": false,
    "execution_millis": 9,
    "execution_start": 1615136789953,
    "source_hash": "38f368cd"
   },
   "outputs": [
    {
     "name": "stdout",
     "output_type": "stream",
     "text": [
      "X_train shape : (30000, 4)\n",
      "X_val shape : (14000, 4)\n",
      "X_test shape : (6000, 4)\n"
     ]
    }
   ],
   "source": [
    "print('X_train shape :', X_train.shape)\n",
    "print('X_val shape :', X_val.shape)\n",
    "print('X_test shape :', X_test.shape)"
   ]
  },
  {
   "cell_type": "code",
   "execution_count": 16,
   "metadata": {
    "cell_id": "00011-d8388c47-38b6-408f-ace1-bc8e3ca85ec8",
    "deepnote_cell_type": "code",
    "deepnote_to_be_reexecuted": false,
    "execution_millis": 8,
    "execution_start": 1615136789954,
    "source_hash": "7c234d23"
   },
   "outputs": [
    {
     "data": {
      "text/html": [
       "<div>\n",
       "<style scoped>\n",
       "    .dataframe tbody tr th:only-of-type {\n",
       "        vertical-align: middle;\n",
       "    }\n",
       "\n",
       "    .dataframe tbody tr th {\n",
       "        vertical-align: top;\n",
       "    }\n",
       "\n",
       "    .dataframe thead th {\n",
       "        text-align: right;\n",
       "    }\n",
       "</style>\n",
       "<table border=\"1\" class=\"dataframe\">\n",
       "  <thead>\n",
       "    <tr style=\"text-align: right;\">\n",
       "      <th></th>\n",
       "      <th>id</th>\n",
       "      <th>question</th>\n",
       "      <th>question_body</th>\n",
       "      <th>answer</th>\n",
       "    </tr>\n",
       "  </thead>\n",
       "  <tbody>\n",
       "    <tr>\n",
       "      <th>11331</th>\n",
       "      <td>431460</td>\n",
       "      <td>Restarting a Python Interpreter Quietly</td>\n",
       "      <td>&lt;p&gt;I have a python interpreter embedded inside...</td>\n",
       "      <td>&lt;p&gt;One very hacky and bug prone approach might...</td>\n",
       "    </tr>\n",
       "    <tr>\n",
       "      <th>43118</th>\n",
       "      <td>1553478</td>\n",
       "      <td>Most efficient way to add new keys or append t...</td>\n",
       "      <td>&lt;p&gt;Here's a common situation when compiling da...</td>\n",
       "      <td>&lt;p&gt;Use &lt;a href=\"http://docs.python.org/3.1/lib...</td>\n",
       "    </tr>\n",
       "    <tr>\n",
       "      <th>13881</th>\n",
       "      <td>514054</td>\n",
       "      <td>How to split a string by using [] in Python</td>\n",
       "      <td>&lt;p&gt;So from this string:&lt;/p&gt;\\n\\n&lt;p&gt;\"name[id]\"&lt;/...</td>\n",
       "      <td>&lt;p&gt;Yes, the delimiter is the whole string argu...</td>\n",
       "    </tr>\n",
       "    <tr>\n",
       "      <th>23536</th>\n",
       "      <td>855511</td>\n",
       "      <td>referenced before assignment error in python</td>\n",
       "      <td>&lt;p&gt;In Python I'm getting the following error:&lt;...</td>\n",
       "      <td>&lt;p&gt;I think you are using 'global' incorrectly....</td>\n",
       "    </tr>\n",
       "    <tr>\n",
       "      <th>33095</th>\n",
       "      <td>1187029</td>\n",
       "      <td>How do I control number formatting in the pyth...</td>\n",
       "      <td>&lt;p&gt;I often use the python interpreter for doin...</td>\n",
       "      <td>&lt;p&gt;Hm... It's not a 100% solution, but this ha...</td>\n",
       "    </tr>\n",
       "  </tbody>\n",
       "</table>\n",
       "</div>"
      ],
      "text/plain": [
       "            id                                           question  \\\n",
       "11331   431460            Restarting a Python Interpreter Quietly   \n",
       "43118  1553478  Most efficient way to add new keys or append t...   \n",
       "13881   514054        How to split a string by using [] in Python   \n",
       "23536   855511       referenced before assignment error in python   \n",
       "33095  1187029  How do I control number formatting in the pyth...   \n",
       "\n",
       "                                           question_body  \\\n",
       "11331  <p>I have a python interpreter embedded inside...   \n",
       "43118  <p>Here's a common situation when compiling da...   \n",
       "13881  <p>So from this string:</p>\\n\\n<p>\"name[id]\"</...   \n",
       "23536  <p>In Python I'm getting the following error:<...   \n",
       "33095  <p>I often use the python interpreter for doin...   \n",
       "\n",
       "                                                  answer  \n",
       "11331  <p>One very hacky and bug prone approach might...  \n",
       "43118  <p>Use <a href=\"http://docs.python.org/3.1/lib...  \n",
       "13881  <p>Yes, the delimiter is the whole string argu...  \n",
       "23536  <p>I think you are using 'global' incorrectly....  \n",
       "33095  <p>Hm... It's not a 100% solution, but this ha...  "
      ]
     },
     "execution_count": 16,
     "metadata": {},
     "output_type": "execute_result"
    }
   ],
   "source": [
    "X_train.head()"
   ]
  },
  {
   "cell_type": "markdown",
   "metadata": {
    "cell_id": "00012-d32e241f-3b27-4d73-b69a-e3633328d5aa",
    "deepnote_cell_type": "markdown"
   },
   "source": [
    "## Launch preproc\n",
    "\n",
    "Le nettoyage consiste à :\n",
    "- supprimer les balises HTML des textes \n",
    "- supprimer les caractères autres que les lettres (la ponctuation)\n",
    "- supprimer les stopwords"
   ]
  },
  {
   "cell_type": "code",
   "execution_count": 17,
   "metadata": {
    "cell_id": "00013-e684bc35-8f47-46a5-8108-b4754a052572",
    "deepnote_cell_type": "code",
    "deepnote_to_be_reexecuted": false,
    "execution_millis": 1256,
    "execution_start": 1615136789960,
    "source_hash": "f1c1e93a"
   },
   "outputs": [
    {
     "name": "stderr",
     "output_type": "stream",
     "text": [
      "[nltk_data] Downloading package punkt to /root/nltk_data...\n",
      "[nltk_data]   Package punkt is already up-to-date!\n",
      "[nltk_data] Downloading package stopwords to /root/nltk_data...\n",
      "[nltk_data]   Package stopwords is already up-to-date!\n"
     ]
    }
   ],
   "source": [
    "import sys\n",
    "sys.path.append('../..')\n",
    "from smartFAQ.src.cleanTxt import brief_cleaning"
   ]
  },
  {
   "cell_type": "code",
   "execution_count": 23,
   "metadata": {
    "cell_id": "00014-e45a7c2c-88c0-4514-ac1a-d9e351a08b67",
    "deepnote_cell_type": "code",
    "deepnote_to_be_reexecuted": false,
    "execution_millis": 39070,
    "execution_start": 1615136791212,
    "source_hash": "dae95052"
   },
   "outputs": [
    {
     "name": "stdout",
     "output_type": "stream",
     "text": [
      "Time to clean up everything: 0.83 mins\n",
      "Time to clean up everything: 0.38 mins\n",
      "Time to clean up everything: 0.21 mins\n"
     ]
    }
   ],
   "source": [
    "X_train = brief_cleaning(X_train, str_cols)\n",
    "X_val = brief_cleaning(X_val, str_cols)\n",
    "x_test = brief_cleaning(X_test, str_cols)"
   ]
  },
  {
   "cell_type": "code",
   "execution_count": 24,
   "metadata": {
    "cell_id": "00015-ed798e2d-9226-45dd-94b8-171d694660ba",
    "deepnote_cell_type": "code",
    "deepnote_to_be_reexecuted": false,
    "execution_millis": 46,
    "execution_start": 1615136830281,
    "source_hash": "7c234d23"
   },
   "outputs": [
    {
     "data": {
      "text/html": [
       "<div>\n",
       "<style scoped>\n",
       "    .dataframe tbody tr th:only-of-type {\n",
       "        vertical-align: middle;\n",
       "    }\n",
       "\n",
       "    .dataframe tbody tr th {\n",
       "        vertical-align: top;\n",
       "    }\n",
       "\n",
       "    .dataframe thead th {\n",
       "        text-align: right;\n",
       "    }\n",
       "</style>\n",
       "<table border=\"1\" class=\"dataframe\">\n",
       "  <thead>\n",
       "    <tr style=\"text-align: right;\">\n",
       "      <th></th>\n",
       "      <th>id</th>\n",
       "      <th>question</th>\n",
       "      <th>question_body</th>\n",
       "      <th>answer</th>\n",
       "    </tr>\n",
       "  </thead>\n",
       "  <tbody>\n",
       "    <tr>\n",
       "      <th>11331</th>\n",
       "      <td>431460</td>\n",
       "      <td>Restarting Python Interpreter Quietly</td>\n",
       "      <td>I python interpreter embedded inside applicati...</td>\n",
       "      <td>One hacky bug prone approach might c module si...</td>\n",
       "    </tr>\n",
       "    <tr>\n",
       "      <th>43118</th>\n",
       "      <td>1553478</td>\n",
       "      <td>Most efficient way add new keys append old key...</td>\n",
       "      <td>Here 's common situation compiling data dictio...</td>\n",
       "      <td>Use collections defaultdict default value new ...</td>\n",
       "    </tr>\n",
       "    <tr>\n",
       "      <th>13881</th>\n",
       "      <td>514054</td>\n",
       "      <td>How split string using Python</td>\n",
       "      <td>So string name id I need id I used str split '...</td>\n",
       "      <td>Yes delimiter whole string argument passed spl...</td>\n",
       "    </tr>\n",
       "    <tr>\n",
       "      <th>23536</th>\n",
       "      <td>855511</td>\n",
       "      <td>referenced assignment error python</td>\n",
       "      <td>In Python I 'm getting following error Unbound...</td>\n",
       "      <td>I think using 'global ' incorrectly See Python...</td>\n",
       "    </tr>\n",
       "    <tr>\n",
       "      <th>33095</th>\n",
       "      <td>1187029</td>\n",
       "      <td>How I control number formatting python interpr...</td>\n",
       "      <td>I often use python interpreter quick numerical...</td>\n",
       "      <td>Hm It 's solution come mind How defining subcl...</td>\n",
       "    </tr>\n",
       "  </tbody>\n",
       "</table>\n",
       "</div>"
      ],
      "text/plain": [
       "            id                                           question  \\\n",
       "11331   431460              Restarting Python Interpreter Quietly   \n",
       "43118  1553478  Most efficient way add new keys append old key...   \n",
       "13881   514054                      How split string using Python   \n",
       "23536   855511                 referenced assignment error python   \n",
       "33095  1187029  How I control number formatting python interpr...   \n",
       "\n",
       "                                           question_body  \\\n",
       "11331  I python interpreter embedded inside applicati...   \n",
       "43118  Here 's common situation compiling data dictio...   \n",
       "13881  So string name id I need id I used str split '...   \n",
       "23536  In Python I 'm getting following error Unbound...   \n",
       "33095  I often use python interpreter quick numerical...   \n",
       "\n",
       "                                                  answer  \n",
       "11331  One hacky bug prone approach might c module si...  \n",
       "43118  Use collections defaultdict default value new ...  \n",
       "13881  Yes delimiter whole string argument passed spl...  \n",
       "23536  I think using 'global ' incorrectly See Python...  \n",
       "33095  Hm It 's solution come mind How defining subcl...  "
      ]
     },
     "execution_count": 24,
     "metadata": {},
     "output_type": "execute_result"
    }
   ],
   "source": [
    "X_train.head()"
   ]
  },
  {
   "cell_type": "markdown",
   "metadata": {
    "cell_id": "00016-d5785521-489a-4599-83c0-374758d32086",
    "deepnote_cell_type": "markdown"
   },
   "source": [
    "## Save data cleaned\n",
    "On sauvegarde ces données de façon à réutiliser le même jeu de données pour pouvoir comparer les différents modèles testés"
   ]
  },
  {
   "cell_type": "code",
   "execution_count": 25,
   "metadata": {
    "cell_id": "00017-c8266a31-5481-42b4-b292-0be7d79d3000",
    "deepnote_cell_type": "code",
    "deepnote_to_be_reexecuted": false,
    "execution_millis": 11,
    "execution_start": 1615136830323,
    "source_hash": "fc34e8d7"
   },
   "outputs": [],
   "source": [
    "with open('../data/x_train.pickle', 'wb') as handle:\n",
    "    pickle.dump(X_train, handle, protocol=pickle.HIGHEST_PROTOCOL)\n",
    "with open('../data/y_train.pickle', 'wb') as handle:\n",
    "    pickle.dump(y_train, handle, protocol=pickle.HIGHEST_PROTOCOL)"
   ]
  },
  {
   "cell_type": "code",
   "execution_count": 26,
   "metadata": {
    "cell_id": "00018-5b00335d-9ba2-4959-9651-3b0f5be1659c",
    "deepnote_cell_type": "code",
    "deepnote_to_be_reexecuted": false,
    "execution_millis": 46,
    "execution_start": 1615136830339,
    "source_hash": "c279fe41"
   },
   "outputs": [],
   "source": [
    "with open('../data/x_val.pickle', 'wb') as handle:\n",
    "    pickle.dump(X_val, handle, protocol=pickle.HIGHEST_PROTOCOL)\n",
    "with open('../data/y_val.pickle', 'wb') as handle:\n",
    "    pickle.dump(y_val, handle, protocol=pickle.HIGHEST_PROTOCOL)"
   ]
  },
  {
   "cell_type": "code",
   "execution_count": 27,
   "metadata": {
    "cell_id": "00019-144c9b70-22db-476d-a9ed-18859f1c4bf5",
    "deepnote_cell_type": "code",
    "deepnote_to_be_reexecuted": false,
    "execution_millis": 2,
    "execution_start": 1615136830388,
    "source_hash": "b623e53d"
   },
   "outputs": [],
   "source": [
    "with open('../data/x_test.pickle', 'wb') as handle:\n",
    "    pickle.dump(x_test, handle, protocol=pickle.HIGHEST_PROTOCOL)\n",
    "with open('../data/y_test.pickle', 'wb') as handle:\n",
    "    pickle.dump(y_test, handle, protocol=pickle.HIGHEST_PROTOCOL)"
   ]
  },
  {
   "cell_type": "code",
   "execution_count": null,
   "metadata": {},
   "outputs": [],
   "source": [
    "# © Laëtitia CONSTANTIN 2021"
   ]
  },
  {
   "cell_type": "markdown",
   "metadata": {
    "created_in_deepnote_cell": true,
    "deepnote_cell_type": "markdown",
    "tags": []
   },
   "source": [
    "<a style='text-decoration:none;line-height:16px;display:flex;color:#5B5B62;padding:10px;justify-content:end;' href='https://deepnote.com?utm_source=created-in-deepnote-cell&projectId=e80043e2-6875-4b65-a196-a0ffb97a1282' target=\"_blank\">\n",
    "<img style='display:inline;max-height:16px;margin:0px;margin-right:7.5px;' src='data:image/svg+xml;base64,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' > </img>\n",
    "Created in <span style='font-weight:600;margin-left:4px;'>Deepnote</span></a>"
   ]
  }
 ],
 "metadata": {
  "deepnote": {},
  "deepnote_execution_queue": [],
  "deepnote_notebook_id": "15d927f3-d2b7-47d4-b6b6-c8b1e6e5e580",
  "kernelspec": {
   "display_name": "Python 3",
   "language": "python",
   "name": "python3"
  },
  "language_info": {
   "codemirror_mode": {
    "name": "ipython",
    "version": 3
   },
   "file_extension": ".py",
   "mimetype": "text/x-python",
   "name": "python",
   "nbconvert_exporter": "python",
   "pygments_lexer": "ipython3",
   "version": "3.6.9"
  }
 },
 "nbformat": 4,
 "nbformat_minor": 2
}
