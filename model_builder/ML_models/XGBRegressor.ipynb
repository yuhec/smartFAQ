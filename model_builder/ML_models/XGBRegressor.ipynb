{
  "cells": [
    {
      "cell_type": "markdown",
      "source": "# XGBOOST",
      "metadata": {
        "cell_id": "00000-fb603e02-80b1-4fbb-9481-9ef137e61495",
        "deepnote_cell_type": "markdown"
      }
    },
    {
      "cell_type": "markdown",
      "source": "## IMPORT PACKAGES ",
      "metadata": {
        "cell_id": "00001-8b0ffafd-e135-41b0-a4ad-1b8aa548495d",
        "deepnote_cell_type": "markdown"
      }
    },
    {
      "cell_type": "code",
      "metadata": {
        "cell_id": "00003-892f110d-445d-4f0b-beb0-6f51b97292b1",
        "deepnote_to_be_reexecuted": false,
        "source_hash": "a8b5e42a",
        "execution_millis": 2,
        "execution_start": 1615556151013,
        "deepnote_cell_type": "code"
      },
      "source": "import os \nimport pandas as pd\nimport numpy as np \nimport matplotlib.pyplot as plt\nimport seaborn as sns\n%matplotlib inline\n\nimport pickle\nimport xgboost as xgb\n\nfrom sklearn.model_selection import cross_validate,GridSearchCV\nfrom sklearn.metrics import confusion_matrix , accuracy_score\nfrom xgboost import XGBRegressor\n\nfrom sklearn.model_selection import train_test_split\nfrom sklearn.metrics import mean_absolute_error\nfrom sklearn.preprocessing import OneHotEncoder\n",
      "execution_count": 15,
      "outputs": []
    },
    {
      "cell_type": "markdown",
      "source": "## GET DATA ",
      "metadata": {
        "cell_id": "00004-e11e12d1-0806-44da-afc7-28ae9c4d690b",
        "deepnote_cell_type": "markdown"
      }
    },
    {
      "cell_type": "code",
      "metadata": {
        "tags": [],
        "cell_id": "00004-2bffc6d4-8995-4909-b853-45f4ba4d8b42",
        "deepnote_to_be_reexecuted": false,
        "source_hash": "ae4879e",
        "execution_millis": 3,
        "execution_start": 1615556092060,
        "deepnote_cell_type": "code"
      },
      "source": "#df_answers = pd.read_csv('../data/Answers.csv', encoding='latin-1')\n#df_questions = pd.read_csv('../data/Questions.csv', encoding='latin-1')\n#df_tags = pd.read_csv('../data/Tags.csv', encoding='latin-1')",
      "execution_count": 3,
      "outputs": []
    },
    {
      "cell_type": "code",
      "metadata": {
        "tags": [],
        "cell_id": "00005-9a0cb109-33d1-4b81-8fec-aa992dab0857",
        "deepnote_to_be_reexecuted": false,
        "source_hash": "42e5c1ea",
        "execution_millis": 1,
        "execution_start": 1615556092090,
        "deepnote_cell_type": "code"
      },
      "source": "#df_train = df_train[['Id_x', 'Body_x', 'Score_x', 'Title', 'Body_y']]\n#df_train.columns= ['id', 'answer', 'target', 'question', 'question_body']\n#df_train = df_train[['id', 'question', 'question_body', 'answer', 'target']]\n#str_cols = ['answer', 'question', 'question_body']",
      "execution_count": 4,
      "outputs": []
    },
    {
      "cell_type": "code",
      "metadata": {
        "tags": [],
        "cell_id": "00006-f9b4a1f3-d0d6-473c-a092-7b636774d34a",
        "deepnote_to_be_reexecuted": false,
        "source_hash": "a1725404",
        "execution_millis": 2,
        "execution_start": 1615556094616,
        "deepnote_cell_type": "code"
      },
      "source": "#X_train, X_val, y_train, y_val = train_test_split(df_train[['id', 'question', 'question_body', 'answer']], df_train['target'], test_size=0.2, random_state=0)",
      "execution_count": 5,
      "outputs": []
    },
    {
      "cell_type": "code",
      "metadata": {
        "tags": [],
        "cell_id": "00007-2e068016-6f75-4646-9670-8061d0c931bc",
        "deepnote_to_be_reexecuted": false,
        "source_hash": "bda3a4b1",
        "execution_millis": 3,
        "execution_start": 1615556094905,
        "deepnote_cell_type": "code"
      },
      "source": "#X_train = X_train.iloc[:10000]\n#X_val = X_val.iloc[:10000]\n#y_train = y_train.iloc[:10000]\n#y_val = y_val.iloc[:10000]",
      "execution_count": 6,
      "outputs": []
    },
    {
      "cell_type": "code",
      "metadata": {
        "cell_id": "00005-b65d7a38-4361-44bd-aa57-0819e6031fcb",
        "deepnote_to_be_reexecuted": false,
        "source_hash": "4f3b8700",
        "execution_millis": 42,
        "execution_start": 1615556095253,
        "deepnote_cell_type": "code"
      },
      "source": "with open('../../data/x_train.pickle', 'rb') as handle:\n    X_train = pickle.load(handle)\nwith open('../../data/y_train.pickle', 'rb') as handle:\n    y_train = pickle.load(handle)\nwith open('../../data/x_val.pickle', 'rb') as handle:\n    X_val = pickle.load(handle)\nwith open('../../data/y_val.pickle', 'rb') as handle:\n    y_val = pickle.load(handle)",
      "execution_count": 7,
      "outputs": []
    },
    {
      "cell_type": "code",
      "metadata": {
        "cell_id": "00006-ef671817-cd90-4844-9d08-e7b547d8ab8b",
        "deepnote_to_be_reexecuted": false,
        "source_hash": "38f368cd",
        "execution_millis": 29,
        "execution_start": 1615556097241,
        "deepnote_cell_type": "code"
      },
      "source": "X_train.shape",
      "execution_count": 8,
      "outputs": [
        {
          "output_type": "execute_result",
          "execution_count": 8,
          "data": {
            "text/plain": "(10000, 4)"
          },
          "metadata": {}
        }
      ]
    },
    {
      "cell_type": "code",
      "metadata": {
        "cell_id": "00007-67bd5a26-2cf2-4023-81c9-1173ff4c0f4f",
        "deepnote_to_be_reexecuted": false,
        "source_hash": "7c234d23",
        "execution_millis": 55,
        "execution_start": 1615556099503,
        "deepnote_cell_type": "code"
      },
      "source": "X_train.head()",
      "execution_count": 9,
      "outputs": [
        {
          "output_type": "execute_result",
          "execution_count": 9,
          "data": {
            "application/vnd.deepnote.dataframe.v2+json": {
              "row_count": 5,
              "column_count": 4,
              "columns": [
                {
                  "name": "id",
                  "dtype": "int64",
                  "stats": {
                    "unique_count": 5,
                    "nan_count": 0,
                    "min": 2185875,
                    "max": 34022443,
                    "histogram": [
                      {
                        "bin_start": 2185875,
                        "bin_end": 5369531.8,
                        "count": 1
                      },
                      {
                        "bin_start": 5369531.8,
                        "bin_end": 8553188.6,
                        "count": 1
                      },
                      {
                        "bin_start": 8553188.6,
                        "bin_end": 11736845.399999999,
                        "count": 0
                      },
                      {
                        "bin_start": 11736845.399999999,
                        "bin_end": 14920502.2,
                        "count": 1
                      },
                      {
                        "bin_start": 14920502.2,
                        "bin_end": 18104159,
                        "count": 0
                      },
                      {
                        "bin_start": 18104159,
                        "bin_end": 21287815.799999997,
                        "count": 1
                      },
                      {
                        "bin_start": 21287815.799999997,
                        "bin_end": 24471472.599999998,
                        "count": 0
                      },
                      {
                        "bin_start": 24471472.599999998,
                        "bin_end": 27655129.4,
                        "count": 0
                      },
                      {
                        "bin_start": 27655129.4,
                        "bin_end": 30838786.2,
                        "count": 0
                      },
                      {
                        "bin_start": 30838786.2,
                        "bin_end": 34022443,
                        "count": 1
                      }
                    ]
                  }
                },
                {
                  "name": "question",
                  "dtype": "object",
                  "stats": {
                    "unique_count": 5,
                    "nan_count": 0,
                    "categories": [
                      {
                        "name": "Deleting multiple indexes list python",
                        "count": 1
                      },
                      {
                        "name": "Django Grappelli Nested Inlines create new nested lines initial load",
                        "count": 1
                      },
                      {
                        "name": "3 others",
                        "count": 3
                      }
                    ]
                  }
                },
                {
                  "name": "question_body",
                  "dtype": "object",
                  "stats": {
                    "unique_count": 5,
                    "nan_count": 0,
                    "categories": [
                      {
                        "name": "My problem I list eg lst lst pop lst pop Because lst removed lst longer range This gives error Now I know could say change code lst pop lst pop ill fix error problem actual code 'popping ' random numbers needs done time avoid error Is method 'popping ' time like something similar lst pop Thanks answers",
                        "count": 1
                      },
                      {
                        "name": "I looking way create new nested row saving owner row By way django ticket I found Grappelli Nested Inlines I using I test project set based instructions found link django contrib import admin grappelli nested admin import NestedModelAdmin NestedStackedInline NestedTabularInline models import class MyNestedInline NestedTabularInline model C extra class MyInline NestedStackedInline model B extra inlines MyNestedInline class MyAdmin NestedModelAdmin inlines MyInline admin site register A MyAdmin My issue based fact I create child object saving parent That say add another c button functionality saving B Is way achieve I read posts regarding I could find I say answer included anywhere I understand please patient I also note production code grappelli requirement anything clashes work",
                        "count": 1
                      },
                      {
                        "name": "3 others",
                        "count": 3
                      }
                    ]
                  }
                },
                {
                  "name": "answer",
                  "dtype": "object",
                  "stats": {
                    "unique_count": 5,
                    "nan_count": 0,
                    "categories": [
                      {
                        "name": "You use list comprehension rebuild list indices newlist v v enumerate oldlist indices I used set indices set membership testing faster list Note delete best done del lst index partially rebuilds list well one loop list comprehension efficient Demo gt gt gt oldlist gt gt gt indices gt gt gt v v enumerate oldlist indices",
                        "count": 1
                      },
                      {
                        "name": "What take templates django grappelli inline provides use use template django nested inlines class NestedStackedInline NestedInline template 'admin edit inline stacked html ' class NestedTabularInline NestedInline template 'admin edit inline tabular html ' Where templates ones django grappelli inline",
                        "count": 1
                      },
                      {
                        "name": "3 others",
                        "count": 3
                      }
                    ]
                  }
                },
                {
                  "name": "_deepnote_index_column",
                  "dtype": "int64"
                }
              ],
              "rows_top": [
                {
                  "id": 21032057,
                  "question": "Deleting multiple indexes list python",
                  "question_body": "My problem I list eg lst lst pop lst pop Because lst removed lst longer range This gives error Now I know could say change code lst pop lst pop ill fix error problem actual code 'popping ' random numbers needs done time avoid error Is method 'popping ' time like something similar lst pop Thanks answers",
                  "answer": "You use list comprehension rebuild list indices newlist v v enumerate oldlist indices I used set indices set membership testing faster list Note delete best done del lst index partially rebuilds list well one loop list comprehension efficient Demo gt gt gt oldlist gt gt gt indices gt gt gt v v enumerate oldlist indices",
                  "_deepnote_index_column": 490144
                },
                {
                  "id": 34022443,
                  "question": "Django Grappelli Nested Inlines create new nested lines initial load",
                  "question_body": "I looking way create new nested row saving owner row By way django ticket I found Grappelli Nested Inlines I using I test project set based instructions found link django contrib import admin grappelli nested admin import NestedModelAdmin NestedStackedInline NestedTabularInline models import class MyNestedInline NestedTabularInline model C extra class MyInline NestedStackedInline model B extra inlines MyNestedInline class MyAdmin NestedModelAdmin inlines MyInline admin site register A MyAdmin My issue based fact I create child object saving parent That say add another c button functionality saving B Is way achieve I read posts regarding I could find I say answer included anywhere I understand please patient I also note production code grappelli requirement anything clashes work",
                  "answer": "What take templates django grappelli inline provides use use template django nested inlines class NestedStackedInline NestedInline template 'admin edit inline stacked html ' class NestedTabularInline NestedInline template 'admin edit inline tabular html ' Where templates ones django grappelli inline",
                  "_deepnote_index_column": 815071
                },
                {
                  "id": 2185875,
                  "question": "Expanding elements list",
                  "question_body": "I 'm looking nice way process list elements need expanded elements expansion results Standard iterative way would lt len l needs expanding l new expand l l new len new else pretty ugly I could rewrite contents new list nl x l needs expanding x nl expand x else nl append x But seem long Or I could simply passes flatten list later flatten expand x needs expanding x else x x l def try expanding x flatten try expanding x x l n't feel right either Are clear ways",
                  "answer": "The last one probably pythonic could try implied loop py generator map flatten map lambda x expand x needs expanding x else x l flatten map try expanding l",
                  "_deepnote_index_column": 62146
                },
                {
                  "id": 12626260,
                  "question": "UnicodeDecodeError processing filenames",
                  "question_body": "I 'm using Python Ubuntu x I files folder filesystem The file names files contain html encoded escaped characters files originally downloaded website Here examples Jamaica jpg thai trip E B E B E A A E B F RAY jpg I wrote simple Python script goes folder renames files encoded characters filename The new filename achieved simply decoding string makes filename The script works files files Python chokes spits following error UnicodeDecodeError 'ascii ' codec ca n't decode byte xe position ordinal range Traceback recent call last File download py line downloadGalleries numDownloaded downloadGallery opener galleryLink File download py line downloadGallery filePathPrefix getFilePath content File download py line getFilePath return cleanupString match group strip ' ' cleanupString match group strip File home abc XYZ common py line cleanupString return HTMLParser HTMLParser unescape string File usr lib python HTMLParser py line unescape return sub r amp xX fA F w replaceEntities File usr lib python py line sub return compile pattern flags sub repl string count Here contents cleanupString function def cleanupString string string urllib unquote string return HTMLParser HTMLParser unescape string And 's snippet code calls cleanupString function code code traceback produces error rootFolder sys argv pattern r ' jpg jpeg ' reobj compile pattern IGNORECASE imgs root dirs files os walk rootFolder filename files foundFile os path join root filename reobj match foundFile imgs append foundFile img imgs print 'Checking file ' img newImg cleanupString img Code blows files Can anyone provide way get around error I 've already tried adding coding utf top script effect Thanks",
                  "answer": "Your filenames byte strings contain UTF bytes representing unicode characters The HTML parser normally works unicode data instead byte strings particularly encounters ampersand escape Python automatically trying decode value default uses ASCII decoding This fails UTF data contains bytes fall outside ASCII range You need explicitly decode string unicode object def cleanupString string string urllib unquote string decode 'utf ' return HTMLParser HTMLParser unescape string Your next problem unicode filenames filesystem need kind encoding work filenames You check encoding sys getfilesystemencoding use encode filenames def cleanupString string string urllib unquote string decode 'utf ' return HTMLParser HTMLParser unescape string encode sys getfilesystemencoding You read Python deals Unicode Unicode HOWTO",
                  "_deepnote_index_column": 304024
                },
                {
                  "id": 7288407,
                  "question": "Python string manipulation performance problems",
                  "question_body": "I following piece code I execute around million times application parse many records This part seems bottleneck I wondering anyone could help suggesting nifty tricks could make simple string manipulations faster try data start end info self Columns end start info columnLength slice line start end slice `` len slice info columnLength raise 'Wrong Input ' info hasSignage slice strip ' ' slice strip ' ' raise 'Wrong Input ' info skipColumn data append slice start end parsedLine data except parsedLine False",
                  "answer": "EDIT I 'm changing answer bit I 'll leave original answer In answer I commented best thing would find built Python module would unpacking I could n't think one perhaps I Google searched one John Machin provided answer showed use Python struct module Since written C faster pure Python solution I n't actually measured anything guess I agree logic original code un Pythonic Returning sentinel value n't best 's better either return valid value raise exception The way return list valid values plus another list invalid values Since John Machin offered code yield valid values I thought I 'd write version returns two lists NOTE Perhaps best possible answer would take John Machin 's answer modify save invalid values file possible later review His answer yields answers one time need build large list parsed records saving bad lines disk means need build possibly large list bad lines import struct def parse records self returns tuple good bad good list valid records tuples bad list tuples line num line err cols self Columns unpack fmt sign checks start colx info enumerate cols clen info columnLength clen lt raise ValueError Column Bad columnLength r colx clen info skipColumn unpack fmt str clen x else unpack fmt str clen info hasSignage sign checks append start start clen expected len start unpack struct Struct unpack fmt unpack good bad line num line enumerate self whatever list lines len line expected len bad append line num line bad length continue line ' ' sign checks bad append line num line sign check failed continue good append unpack line return good bad ORIGINAL ANSWER TEXT This answer lot faster self Columns information identical records We processing self Columns information one time build couple lists contain need process record This code shows compute parsedList n't actually yield return anything Obviously would need change def parse records self cols self Columns slices sign checks start info cols info columnLength lt raise ValueError bad columnLength end start info columnLength info skipColumn tup start end slices append tup info hasSignage sign checks append start expected len end use end count newline try line self whatever list lines len line expected len raise ValueError wrong length line ' ' sign checks raise ValueError wrong input parsedLine line e e slices except ValueError parsedLine False",
                  "_deepnote_index_column": 187856
                }
              ],
              "rows_bottom": null
            },
            "text/plain": "              id                                           question  \\\n490144  21032057              Deleting multiple indexes list python   \n815071  34022443  Django Grappelli Nested Inlines create new nes...   \n62146    2185875                            Expanding elements list   \n304024  12626260            UnicodeDecodeError processing filenames   \n187856   7288407    Python string manipulation performance problems   \n\n                                            question_body  \\\n490144  My problem I list eg lst lst pop lst pop Becau...   \n815071  I looking way create new nested row saving own...   \n62146   I 'm looking nice way process list elements ne...   \n304024  I 'm using Python Ubuntu x I files folder file...   \n187856  I following piece code I execute around millio...   \n\n                                                   answer  \n490144  You use list comprehension rebuild list indice...  \n815071  What take templates django grappelli inline pr...  \n62146   The last one probably pythonic could try impli...  \n304024  Your filenames byte strings contain UTF bytes ...  \n187856  EDIT I 'm changing answer bit I 'll leave orig...  ",
            "text/html": "<div>\n<style scoped>\n    .dataframe tbody tr th:only-of-type {\n        vertical-align: middle;\n    }\n\n    .dataframe tbody tr th {\n        vertical-align: top;\n    }\n\n    .dataframe thead th {\n        text-align: right;\n    }\n</style>\n<table border=\"1\" class=\"dataframe\">\n  <thead>\n    <tr style=\"text-align: right;\">\n      <th></th>\n      <th>id</th>\n      <th>question</th>\n      <th>question_body</th>\n      <th>answer</th>\n    </tr>\n  </thead>\n  <tbody>\n    <tr>\n      <th>490144</th>\n      <td>21032057</td>\n      <td>Deleting multiple indexes list python</td>\n      <td>My problem I list eg lst lst pop lst pop Becau...</td>\n      <td>You use list comprehension rebuild list indice...</td>\n    </tr>\n    <tr>\n      <th>815071</th>\n      <td>34022443</td>\n      <td>Django Grappelli Nested Inlines create new nes...</td>\n      <td>I looking way create new nested row saving own...</td>\n      <td>What take templates django grappelli inline pr...</td>\n    </tr>\n    <tr>\n      <th>62146</th>\n      <td>2185875</td>\n      <td>Expanding elements list</td>\n      <td>I 'm looking nice way process list elements ne...</td>\n      <td>The last one probably pythonic could try impli...</td>\n    </tr>\n    <tr>\n      <th>304024</th>\n      <td>12626260</td>\n      <td>UnicodeDecodeError processing filenames</td>\n      <td>I 'm using Python Ubuntu x I files folder file...</td>\n      <td>Your filenames byte strings contain UTF bytes ...</td>\n    </tr>\n    <tr>\n      <th>187856</th>\n      <td>7288407</td>\n      <td>Python string manipulation performance problems</td>\n      <td>I following piece code I execute around millio...</td>\n      <td>EDIT I 'm changing answer bit I 'll leave orig...</td>\n    </tr>\n  </tbody>\n</table>\n</div>"
          },
          "metadata": {}
        }
      ]
    },
    {
      "cell_type": "code",
      "metadata": {
        "cell_id": "00008-27a5ab61-bc87-4d8c-add0-eed0d53fb7dc",
        "deepnote_to_be_reexecuted": false,
        "source_hash": "5961b97a",
        "execution_millis": 4,
        "execution_start": 1615556104398,
        "deepnote_cell_type": "code"
      },
      "source": "enc = OneHotEncoder(handle_unknown='ignore')",
      "execution_count": 11,
      "outputs": []
    },
    {
      "cell_type": "code",
      "metadata": {
        "tags": [],
        "cell_id": "00012-53c4aad4-7a40-41d1-8a1e-282a161d44f5",
        "deepnote_to_be_reexecuted": false,
        "source_hash": "e5c2121f",
        "execution_millis": 231,
        "execution_start": 1615556105219,
        "deepnote_cell_type": "code"
      },
      "source": "x_train_enc = enc.fit_transform(X_train)\nx_val_enc = enc.transform(X_val)",
      "execution_count": 12,
      "outputs": []
    },
    {
      "cell_type": "code",
      "metadata": {
        "tags": [],
        "cell_id": "00013-32d643db-4b8d-4ae7-bfd6-0e955aac9586",
        "deepnote_to_be_reexecuted": false,
        "source_hash": "cecc7ade",
        "execution_millis": 18,
        "execution_start": 1615556105838,
        "deepnote_cell_type": "code"
      },
      "source": "x_train_enc.shape",
      "execution_count": 13,
      "outputs": [
        {
          "output_type": "execute_result",
          "execution_count": 13,
          "data": {
            "text/plain": "(10000, 39819)"
          },
          "metadata": {}
        }
      ]
    },
    {
      "cell_type": "markdown",
      "source": "## MODEL XGBClassifier",
      "metadata": {
        "tags": [],
        "cell_id": "00008-ff540796-9fa2-42ff-9fa5-bbb89472c733",
        "deepnote_cell_type": "markdown"
      }
    },
    {
      "cell_type": "code",
      "metadata": {
        "tags": [],
        "cell_id": "00010-15197878-e01b-4391-b9d0-2203529e5ef1",
        "deepnote_to_be_reexecuted": false,
        "source_hash": "efde7fe0",
        "execution_millis": 0,
        "execution_start": 1615556157761,
        "deepnote_cell_type": "code"
      },
      "source": "my_model = XGBRegressor(n_estimators=1000, learning_rate=0.05)",
      "execution_count": 16,
      "outputs": []
    },
    {
      "cell_type": "markdown",
      "source": "## TRAIN my_model",
      "metadata": {
        "tags": [],
        "cell_id": "00010-a6b0b7a1-2a5c-45cc-804e-b669e27f6e97",
        "deepnote_cell_type": "markdown"
      }
    },
    {
      "cell_type": "code",
      "metadata": {
        "tags": [],
        "cell_id": "00011-85e18708-7a91-4ce3-a2fb-f1006adc8d2e",
        "deepnote_to_be_reexecuted": false,
        "source_hash": "9baec4bc",
        "execution_millis": 50844,
        "execution_start": 1615556176053,
        "deepnote_cell_type": "code"
      },
      "source": "my_model.fit(x_train_enc, y_train, \n             early_stopping_rounds=10, \n             eval_set=[(x_val_enc, y_val)], \n             verbose=True)",
      "execution_count": 19,
      "outputs": [
        {
          "name": "stdout",
          "text": "[0]\tvalidation_0-rmse:12.02245\n[1]\tvalidation_0-rmse:12.00425\n[2]\tvalidation_0-rmse:11.98743\n[3]\tvalidation_0-rmse:11.97237\n[4]\tvalidation_0-rmse:11.95863\n[5]\tvalidation_0-rmse:11.94622\n[6]\tvalidation_0-rmse:11.93482\n[7]\tvalidation_0-rmse:11.92426\n[8]\tvalidation_0-rmse:11.91494\n[9]\tvalidation_0-rmse:11.90633\n[10]\tvalidation_0-rmse:11.89849\n[11]\tvalidation_0-rmse:11.89133\n[12]\tvalidation_0-rmse:11.88490\n[13]\tvalidation_0-rmse:11.87887\n[14]\tvalidation_0-rmse:11.87343\n[15]\tvalidation_0-rmse:11.86843\n[16]\tvalidation_0-rmse:11.86395\n[17]\tvalidation_0-rmse:11.85984\n[18]\tvalidation_0-rmse:11.85607\n[19]\tvalidation_0-rmse:11.85266\n[20]\tvalidation_0-rmse:11.84954\n[21]\tvalidation_0-rmse:11.84666\n[22]\tvalidation_0-rmse:11.84399\n[23]\tvalidation_0-rmse:11.84156\n[24]\tvalidation_0-rmse:11.83931\n[25]\tvalidation_0-rmse:11.83730\n[26]\tvalidation_0-rmse:11.83535\n[27]\tvalidation_0-rmse:11.83379\n[28]\tvalidation_0-rmse:11.83218\n[29]\tvalidation_0-rmse:11.83067\n[30]\tvalidation_0-rmse:11.82939\n[31]\tvalidation_0-rmse:11.82811\n[32]\tvalidation_0-rmse:11.82706\n[33]\tvalidation_0-rmse:11.82593\n[34]\tvalidation_0-rmse:11.82512\n[35]\tvalidation_0-rmse:11.82409\n[36]\tvalidation_0-rmse:11.82331\n[37]\tvalidation_0-rmse:11.82265\n[38]\tvalidation_0-rmse:11.82197\n[39]\tvalidation_0-rmse:11.82125\n[40]\tvalidation_0-rmse:11.82067\n[41]\tvalidation_0-rmse:11.82015\n[42]\tvalidation_0-rmse:11.81955\n[43]\tvalidation_0-rmse:11.81911\n[44]\tvalidation_0-rmse:11.81878\n[45]\tvalidation_0-rmse:11.81835\n[46]\tvalidation_0-rmse:11.81792\n[47]\tvalidation_0-rmse:11.81758\n[48]\tvalidation_0-rmse:11.81722\n[49]\tvalidation_0-rmse:11.81695\n[50]\tvalidation_0-rmse:11.81663\n[51]\tvalidation_0-rmse:11.81640\n[52]\tvalidation_0-rmse:11.81619\n[53]\tvalidation_0-rmse:11.81589\n[54]\tvalidation_0-rmse:11.81575\n[55]\tvalidation_0-rmse:11.81552\n[56]\tvalidation_0-rmse:11.81550\n[57]\tvalidation_0-rmse:11.81531\n[58]\tvalidation_0-rmse:11.81511\n[59]\tvalidation_0-rmse:11.81498\n[60]\tvalidation_0-rmse:11.81486\n[61]\tvalidation_0-rmse:11.81469\n[62]\tvalidation_0-rmse:11.81462\n[63]\tvalidation_0-rmse:11.81441\n[64]\tvalidation_0-rmse:11.81448\n[65]\tvalidation_0-rmse:11.81430\n[66]\tvalidation_0-rmse:11.81427\n[67]\tvalidation_0-rmse:11.81414\n[68]\tvalidation_0-rmse:11.81408\n[69]\tvalidation_0-rmse:11.81409\n[70]\tvalidation_0-rmse:11.81397\n[71]\tvalidation_0-rmse:11.81383\n[72]\tvalidation_0-rmse:11.81374\n[73]\tvalidation_0-rmse:11.81378\n[74]\tvalidation_0-rmse:11.81381\n[75]\tvalidation_0-rmse:11.81370\n[76]\tvalidation_0-rmse:11.81364\n[77]\tvalidation_0-rmse:11.81372\n[78]\tvalidation_0-rmse:11.81364\n[79]\tvalidation_0-rmse:11.81359\n[80]\tvalidation_0-rmse:11.81355\n[81]\tvalidation_0-rmse:11.81349\n[82]\tvalidation_0-rmse:11.81347\n[83]\tvalidation_0-rmse:11.81343\n[84]\tvalidation_0-rmse:11.81340\n[85]\tvalidation_0-rmse:11.81339\n[86]\tvalidation_0-rmse:11.81338\n[87]\tvalidation_0-rmse:11.81336\n[88]\tvalidation_0-rmse:11.81335\n[89]\tvalidation_0-rmse:11.81334\n[90]\tvalidation_0-rmse:11.81334\n[91]\tvalidation_0-rmse:11.81334\n[92]\tvalidation_0-rmse:11.81334\n[93]\tvalidation_0-rmse:11.81335\n[94]\tvalidation_0-rmse:11.81336\n[95]\tvalidation_0-rmse:11.81338\n[96]\tvalidation_0-rmse:11.81338\n[97]\tvalidation_0-rmse:11.81341\n[98]\tvalidation_0-rmse:11.81343\n[99]\tvalidation_0-rmse:11.81344\n[100]\tvalidation_0-rmse:11.81346\n[101]\tvalidation_0-rmse:11.81347\n",
          "output_type": "stream"
        },
        {
          "output_type": "execute_result",
          "execution_count": 19,
          "data": {
            "text/plain": "XGBRegressor(base_score=0.5, booster='gbtree', colsample_bylevel=1,\n             colsample_bynode=1, colsample_bytree=1, gamma=0, gpu_id=-1,\n             importance_type='gain', interaction_constraints='',\n             learning_rate=0.05, max_delta_step=0, max_depth=6,\n             min_child_weight=1, missing=nan, monotone_constraints='()',\n             n_estimators=1000, n_jobs=4, num_parallel_tree=1, random_state=0,\n             reg_alpha=0, reg_lambda=1, scale_pos_weight=1, subsample=1,\n             tree_method='exact', validate_parameters=1, verbosity=None)"
          },
          "metadata": {}
        }
      ]
    },
    {
      "cell_type": "markdown",
      "source": "## PREDICTION my_model",
      "metadata": {
        "tags": [],
        "cell_id": "00010-4128836b-5503-4435-8594-fc742bb15aba",
        "deepnote_cell_type": "markdown"
      }
    },
    {
      "cell_type": "code",
      "metadata": {
        "tags": [],
        "cell_id": "00010-17a56be2-dbec-4549-949d-0fbeeae30a34",
        "deepnote_to_be_reexecuted": false,
        "source_hash": "3a3e8d",
        "execution_millis": 4,
        "execution_start": 1615556315773,
        "deepnote_cell_type": "code"
      },
      "source": "# Get the prediction \npred = my_model.predict(x_val_enc)\n\n# Calculate MAE\nmae = mean_absolute_error(y_val, pred) \nprint('MAE (Mean Absolute Error) : ', mae)",
      "execution_count": 21,
      "outputs": [
        {
          "name": "stdout",
          "text": "MAE (Mean Absolute Error) :  3.0697285415649413\n",
          "output_type": "stream"
        }
      ]
    },
    {
      "cell_type": "markdown",
      "source": "<a style='text-decoration:none;line-height:16px;display:flex;color:#5B5B62;padding:10px;justify-content:end;' href='https://deepnote.com?utm_source=created-in-deepnote-cell&projectId=e80043e2-6875-4b65-a196-a0ffb97a1282' target=\"_blank\">\n<img style='display:inline;max-height:16px;margin:0px;margin-right:7.5px;' src='data:image/svg+xml;base64,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' > </img>\nCreated in <span style='font-weight:600;margin-left:4px;'>Deepnote</span></a>",
      "metadata": {
        "tags": [],
        "created_in_deepnote_cell": true,
        "deepnote_cell_type": "markdown"
      }
    }
  ],
  "nbformat": 4,
  "nbformat_minor": 4,
  "metadata": {
    "kernelspec": {
      "display_name": "Python 3",
      "language": "python",
      "name": "python3"
    },
    "language_info": {
      "codemirror_mode": {
        "name": "ipython",
        "version": 3
      },
      "file_extension": ".py",
      "mimetype": "text/x-python",
      "name": "python",
      "nbconvert_exporter": "python",
      "pygments_lexer": "ipython3",
      "version": "3.6.9"
    },
    "deepnote_notebook_id": "073c01ac-eb54-4f4d-b73b-20b507b5a7ee",
    "deepnote": {},
    "deepnote_execution_queue": []
  }
}