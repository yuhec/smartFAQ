{
 "cells": [
  {
   "cell_type": "markdown",
   "metadata": {
    "cell_id": "00000-fb603e02-80b1-4fbb-9481-9ef137e61495",
    "deepnote_cell_type": "markdown"
   },
   "source": [
    "# XGBOOST"
   ]
  },
  {
   "cell_type": "markdown",
   "metadata": {
    "cell_id": "00001-8b0ffafd-e135-41b0-a4ad-1b8aa548495d",
    "deepnote_cell_type": "markdown"
   },
   "source": [
    "## IMPORT PACKAGES "
   ]
  },
  {
   "cell_type": "code",
   "execution_count": 23,
   "metadata": {
    "cell_id": "00003-892f110d-445d-4f0b-beb0-6f51b97292b1",
    "deepnote_cell_type": "code",
    "deepnote_to_be_reexecuted": false,
    "execution_millis": 2,
    "execution_start": 1615556151013,
    "source_hash": "a8b5e42a"
   },
   "outputs": [],
   "source": [
    "import os \n",
    "import pandas as pd\n",
    "import pickle\n",
    "\n",
    "from xgboost import XGBRegressor\n",
    "\n",
    "from sklearn.model_selection import train_test_split\n",
    "from sklearn.metrics import mean_absolute_error, mean_absolute_error, mean_absolute_percentage_error, mean_squared_error\n",
    "from sklearn.preprocessing import OneHotEncoder"
   ]
  },
  {
   "cell_type": "markdown",
   "metadata": {
    "cell_id": "00004-e11e12d1-0806-44da-afc7-28ae9c4d690b",
    "deepnote_cell_type": "markdown"
   },
   "source": [
    "## GET DATA "
   ]
  },
  {
   "cell_type": "code",
   "execution_count": 12,
   "metadata": {
    "cell_id": "00005-b65d7a38-4361-44bd-aa57-0819e6031fcb",
    "deepnote_cell_type": "code",
    "deepnote_to_be_reexecuted": false,
    "execution_millis": 42,
    "execution_start": 1615556095253,
    "source_hash": "4f3b8700"
   },
   "outputs": [],
   "source": [
    "with open('../../data/x_train.pickle', 'rb') as handle:\n",
    "    X_train = pickle.load(handle)\n",
    "with open('../../data/y_train.pickle', 'rb') as handle:\n",
    "    y_train = pickle.load(handle)\n",
    "with open('../../data/x_val.pickle', 'rb') as handle:\n",
    "    X_val = pickle.load(handle)\n",
    "with open('../../data/y_val.pickle', 'rb') as handle:\n",
    "    y_val = pickle.load(handle)"
   ]
  },
  {
   "cell_type": "code",
   "execution_count": 13,
   "metadata": {
    "cell_id": "00006-ef671817-cd90-4844-9d08-e7b547d8ab8b",
    "deepnote_cell_type": "code",
    "deepnote_to_be_reexecuted": false,
    "execution_millis": 29,
    "execution_start": 1615556097241,
    "source_hash": "38f368cd"
   },
   "outputs": [
    {
     "data": {
      "text/plain": [
       "(30000, 4)"
      ]
     },
     "execution_count": 13,
     "metadata": {},
     "output_type": "execute_result"
    }
   ],
   "source": [
    "X_train.shape"
   ]
  },
  {
   "cell_type": "code",
   "execution_count": 14,
   "metadata": {
    "cell_id": "00007-67bd5a26-2cf2-4023-81c9-1173ff4c0f4f",
    "deepnote_cell_type": "code",
    "deepnote_to_be_reexecuted": false,
    "execution_millis": 55,
    "execution_start": 1615556099503,
    "source_hash": "7c234d23"
   },
   "outputs": [
    {
     "data": {
      "text/html": [
       "<div>\n",
       "<style scoped>\n",
       "    .dataframe tbody tr th:only-of-type {\n",
       "        vertical-align: middle;\n",
       "    }\n",
       "\n",
       "    .dataframe tbody tr th {\n",
       "        vertical-align: top;\n",
       "    }\n",
       "\n",
       "    .dataframe thead th {\n",
       "        text-align: right;\n",
       "    }\n",
       "</style>\n",
       "<table border=\"1\" class=\"dataframe\">\n",
       "  <thead>\n",
       "    <tr style=\"text-align: right;\">\n",
       "      <th></th>\n",
       "      <th>id</th>\n",
       "      <th>question</th>\n",
       "      <th>question_body</th>\n",
       "      <th>answer</th>\n",
       "    </tr>\n",
       "  </thead>\n",
       "  <tbody>\n",
       "    <tr>\n",
       "      <th>11331</th>\n",
       "      <td>431460</td>\n",
       "      <td>Restarting Python Interpreter Quietly</td>\n",
       "      <td>I python interpreter embedded inside applicati...</td>\n",
       "      <td>One hacky bug prone approach might c module si...</td>\n",
       "    </tr>\n",
       "    <tr>\n",
       "      <th>43118</th>\n",
       "      <td>1553478</td>\n",
       "      <td>Most efficient way add new keys append old key...</td>\n",
       "      <td>Here 's common situation compiling data dictio...</td>\n",
       "      <td>Use collections defaultdict default value new ...</td>\n",
       "    </tr>\n",
       "    <tr>\n",
       "      <th>13881</th>\n",
       "      <td>514054</td>\n",
       "      <td>How split string using Python</td>\n",
       "      <td>So string name id I need id I used str split '...</td>\n",
       "      <td>Yes delimiter whole string argument passed spl...</td>\n",
       "    </tr>\n",
       "    <tr>\n",
       "      <th>23536</th>\n",
       "      <td>855511</td>\n",
       "      <td>referenced assignment error python</td>\n",
       "      <td>In Python I 'm getting following error Unbound...</td>\n",
       "      <td>I think using 'global ' incorrectly See Python...</td>\n",
       "    </tr>\n",
       "    <tr>\n",
       "      <th>33095</th>\n",
       "      <td>1187029</td>\n",
       "      <td>How I control number formatting python interpr...</td>\n",
       "      <td>I often use python interpreter quick numerical...</td>\n",
       "      <td>Hm It 's solution come mind How defining subcl...</td>\n",
       "    </tr>\n",
       "  </tbody>\n",
       "</table>\n",
       "</div>"
      ],
      "text/plain": [
       "            id                                           question  \\\n",
       "11331   431460              Restarting Python Interpreter Quietly   \n",
       "43118  1553478  Most efficient way add new keys append old key...   \n",
       "13881   514054                      How split string using Python   \n",
       "23536   855511                 referenced assignment error python   \n",
       "33095  1187029  How I control number formatting python interpr...   \n",
       "\n",
       "                                           question_body  \\\n",
       "11331  I python interpreter embedded inside applicati...   \n",
       "43118  Here 's common situation compiling data dictio...   \n",
       "13881  So string name id I need id I used str split '...   \n",
       "23536  In Python I 'm getting following error Unbound...   \n",
       "33095  I often use python interpreter quick numerical...   \n",
       "\n",
       "                                                  answer  \n",
       "11331  One hacky bug prone approach might c module si...  \n",
       "43118  Use collections defaultdict default value new ...  \n",
       "13881  Yes delimiter whole string argument passed spl...  \n",
       "23536  I think using 'global ' incorrectly See Python...  \n",
       "33095  Hm It 's solution come mind How defining subcl...  "
      ]
     },
     "execution_count": 14,
     "metadata": {},
     "output_type": "execute_result"
    }
   ],
   "source": [
    "X_train.head()"
   ]
  },
  {
   "cell_type": "code",
   "execution_count": 15,
   "metadata": {
    "cell_id": "00008-27a5ab61-bc87-4d8c-add0-eed0d53fb7dc",
    "deepnote_cell_type": "code",
    "deepnote_to_be_reexecuted": false,
    "execution_millis": 4,
    "execution_start": 1615556104398,
    "source_hash": "5961b97a"
   },
   "outputs": [],
   "source": [
    "enc = OneHotEncoder(handle_unknown='ignore')"
   ]
  },
  {
   "cell_type": "code",
   "execution_count": 16,
   "metadata": {
    "cell_id": "00012-53c4aad4-7a40-41d1-8a1e-282a161d44f5",
    "deepnote_cell_type": "code",
    "deepnote_to_be_reexecuted": false,
    "execution_millis": 231,
    "execution_start": 1615556105219,
    "source_hash": "e5c2121f",
    "tags": []
   },
   "outputs": [],
   "source": [
    "x_train_enc = enc.fit_transform(X_train)\n",
    "x_val_enc = enc.transform(X_val)"
   ]
  },
  {
   "cell_type": "code",
   "execution_count": 17,
   "metadata": {
    "cell_id": "00013-32d643db-4b8d-4ae7-bfd6-0e955aac9586",
    "deepnote_cell_type": "code",
    "deepnote_to_be_reexecuted": false,
    "execution_millis": 18,
    "execution_start": 1615556105838,
    "source_hash": "cecc7ade",
    "tags": []
   },
   "outputs": [
    {
     "data": {
      "text/plain": [
       "(30000, 82053)"
      ]
     },
     "execution_count": 17,
     "metadata": {},
     "output_type": "execute_result"
    }
   ],
   "source": [
    "x_train_enc.shape"
   ]
  },
  {
   "cell_type": "markdown",
   "metadata": {
    "cell_id": "00008-ff540796-9fa2-42ff-9fa5-bbb89472c733",
    "deepnote_cell_type": "markdown",
    "tags": []
   },
   "source": [
    "## MODEL XGBClassifier"
   ]
  },
  {
   "cell_type": "code",
   "execution_count": 18,
   "metadata": {
    "cell_id": "00010-15197878-e01b-4391-b9d0-2203529e5ef1",
    "deepnote_cell_type": "code",
    "deepnote_to_be_reexecuted": false,
    "execution_millis": 0,
    "execution_start": 1615556157761,
    "source_hash": "efde7fe0",
    "tags": []
   },
   "outputs": [],
   "source": [
    "my_model = XGBRegressor(n_estimators=1000, learning_rate=0.05)"
   ]
  },
  {
   "cell_type": "markdown",
   "metadata": {
    "cell_id": "00010-a6b0b7a1-2a5c-45cc-804e-b669e27f6e97",
    "deepnote_cell_type": "markdown",
    "tags": []
   },
   "source": [
    "## TRAIN my_model"
   ]
  },
  {
   "cell_type": "code",
   "execution_count": 19,
   "metadata": {
    "cell_id": "00011-85e18708-7a91-4ce3-a2fb-f1006adc8d2e",
    "deepnote_cell_type": "code",
    "deepnote_to_be_reexecuted": false,
    "execution_millis": 50844,
    "execution_start": 1615556176053,
    "source_hash": "9baec4bc",
    "tags": []
   },
   "outputs": [
    {
     "name": "stdout",
     "output_type": "stream",
     "text": [
      "[0]\tvalidation_0-rmse:70.24339\n",
      "[1]\tvalidation_0-rmse:70.16581\n",
      "[2]\tvalidation_0-rmse:70.09546\n",
      "[3]\tvalidation_0-rmse:70.03163\n",
      "[4]\tvalidation_0-rmse:69.97379\n",
      "[5]\tvalidation_0-rmse:69.92130\n",
      "[6]\tvalidation_0-rmse:69.87369\n",
      "[7]\tvalidation_0-rmse:69.83028\n",
      "[8]\tvalidation_0-rmse:69.79102\n",
      "[9]\tvalidation_0-rmse:69.75538\n",
      "[10]\tvalidation_0-rmse:69.72302\n",
      "[11]\tvalidation_0-rmse:69.69358\n",
      "[12]\tvalidation_0-rmse:69.66675\n",
      "[13]\tvalidation_0-rmse:69.64254\n",
      "[14]\tvalidation_0-rmse:69.62038\n",
      "[15]\tvalidation_0-rmse:69.60039\n",
      "[16]\tvalidation_0-rmse:69.58202\n",
      "[17]\tvalidation_0-rmse:69.56545\n",
      "[18]\tvalidation_0-rmse:69.55024\n",
      "[19]\tvalidation_0-rmse:69.53648\n",
      "[20]\tvalidation_0-rmse:69.52392\n",
      "[21]\tvalidation_0-rmse:69.51253\n",
      "[22]\tvalidation_0-rmse:69.50204\n",
      "[23]\tvalidation_0-rmse:69.49253\n",
      "[24]\tvalidation_0-rmse:69.48395\n",
      "[25]\tvalidation_0-rmse:69.47592\n",
      "[26]\tvalidation_0-rmse:69.46877\n",
      "[27]\tvalidation_0-rmse:69.46205\n",
      "[28]\tvalidation_0-rmse:69.45599\n",
      "[29]\tvalidation_0-rmse:69.45052\n",
      "[30]\tvalidation_0-rmse:69.44543\n",
      "[31]\tvalidation_0-rmse:69.44079\n",
      "[32]\tvalidation_0-rmse:69.43645\n",
      "[33]\tvalidation_0-rmse:69.43270\n",
      "[34]\tvalidation_0-rmse:69.42917\n",
      "[35]\tvalidation_0-rmse:69.42577\n",
      "[36]\tvalidation_0-rmse:69.42281\n",
      "[37]\tvalidation_0-rmse:69.42011\n",
      "[38]\tvalidation_0-rmse:69.41751\n",
      "[39]\tvalidation_0-rmse:69.41524\n",
      "[40]\tvalidation_0-rmse:69.41299\n",
      "[41]\tvalidation_0-rmse:69.41106\n",
      "[42]\tvalidation_0-rmse:69.40936\n",
      "[43]\tvalidation_0-rmse:69.40775\n",
      "[44]\tvalidation_0-rmse:69.40604\n",
      "[45]\tvalidation_0-rmse:69.40466\n",
      "[46]\tvalidation_0-rmse:69.40332\n",
      "[47]\tvalidation_0-rmse:69.40205\n",
      "[48]\tvalidation_0-rmse:69.40095\n",
      "[49]\tvalidation_0-rmse:69.40005\n",
      "[50]\tvalidation_0-rmse:69.39891\n",
      "[51]\tvalidation_0-rmse:69.39816\n",
      "[52]\tvalidation_0-rmse:69.39743\n",
      "[53]\tvalidation_0-rmse:69.39655\n",
      "[54]\tvalidation_0-rmse:69.39577\n",
      "[55]\tvalidation_0-rmse:69.39517\n",
      "[56]\tvalidation_0-rmse:69.39444\n",
      "[57]\tvalidation_0-rmse:69.39394\n",
      "[58]\tvalidation_0-rmse:69.39346\n",
      "[59]\tvalidation_0-rmse:69.39306\n",
      "[60]\tvalidation_0-rmse:69.39253\n",
      "[61]\tvalidation_0-rmse:69.39214\n",
      "[62]\tvalidation_0-rmse:69.39185\n",
      "[63]\tvalidation_0-rmse:69.39140\n",
      "[64]\tvalidation_0-rmse:69.39107\n",
      "[65]\tvalidation_0-rmse:69.39080\n",
      "[66]\tvalidation_0-rmse:69.39053\n",
      "[67]\tvalidation_0-rmse:69.39014\n",
      "[68]\tvalidation_0-rmse:69.39003\n",
      "[69]\tvalidation_0-rmse:69.38976\n",
      "[70]\tvalidation_0-rmse:69.38966\n",
      "[71]\tvalidation_0-rmse:69.38913\n",
      "[72]\tvalidation_0-rmse:69.38919\n",
      "[73]\tvalidation_0-rmse:69.38899\n",
      "[74]\tvalidation_0-rmse:69.38879\n",
      "[75]\tvalidation_0-rmse:69.38873\n",
      "[76]\tvalidation_0-rmse:69.38856\n",
      "[77]\tvalidation_0-rmse:69.38841\n",
      "[78]\tvalidation_0-rmse:69.38824\n",
      "[79]\tvalidation_0-rmse:69.38821\n",
      "[80]\tvalidation_0-rmse:69.38812\n",
      "[81]\tvalidation_0-rmse:69.38809\n",
      "[82]\tvalidation_0-rmse:69.38798\n",
      "[83]\tvalidation_0-rmse:69.38779\n",
      "[84]\tvalidation_0-rmse:69.38784\n",
      "[85]\tvalidation_0-rmse:69.38779\n",
      "[86]\tvalidation_0-rmse:69.38775\n",
      "[87]\tvalidation_0-rmse:69.38769\n",
      "[88]\tvalidation_0-rmse:69.38766\n",
      "[89]\tvalidation_0-rmse:69.38753\n",
      "[90]\tvalidation_0-rmse:69.38760\n",
      "[91]\tvalidation_0-rmse:69.38759\n",
      "[92]\tvalidation_0-rmse:69.38752\n",
      "[93]\tvalidation_0-rmse:69.38755\n",
      "[94]\tvalidation_0-rmse:69.38752\n",
      "[95]\tvalidation_0-rmse:69.38750\n",
      "[96]\tvalidation_0-rmse:69.38747\n",
      "[97]\tvalidation_0-rmse:69.38749\n",
      "[98]\tvalidation_0-rmse:69.38747\n",
      "[99]\tvalidation_0-rmse:69.38750\n",
      "[100]\tvalidation_0-rmse:69.38753\n",
      "[101]\tvalidation_0-rmse:69.38757\n",
      "[102]\tvalidation_0-rmse:69.38752\n",
      "[103]\tvalidation_0-rmse:69.38757\n",
      "[104]\tvalidation_0-rmse:69.38758\n",
      "[105]\tvalidation_0-rmse:69.38651\n",
      "[106]\tvalidation_0-rmse:69.38655\n",
      "[107]\tvalidation_0-rmse:69.38648\n",
      "[108]\tvalidation_0-rmse:69.38657\n",
      "[109]\tvalidation_0-rmse:69.38656\n",
      "[110]\tvalidation_0-rmse:69.38663\n",
      "[111]\tvalidation_0-rmse:69.38663\n",
      "[112]\tvalidation_0-rmse:69.38670\n",
      "[113]\tvalidation_0-rmse:69.38670\n",
      "[114]\tvalidation_0-rmse:69.38451\n",
      "[115]\tvalidation_0-rmse:69.38453\n",
      "[116]\tvalidation_0-rmse:69.38461\n",
      "[117]\tvalidation_0-rmse:69.38463\n",
      "[118]\tvalidation_0-rmse:69.38462\n",
      "[119]\tvalidation_0-rmse:69.38473\n",
      "[120]\tvalidation_0-rmse:69.38440\n",
      "[121]\tvalidation_0-rmse:69.38456\n",
      "[122]\tvalidation_0-rmse:69.38438\n",
      "[123]\tvalidation_0-rmse:69.38453\n",
      "[124]\tvalidation_0-rmse:69.38448\n",
      "[125]\tvalidation_0-rmse:69.38455\n",
      "[126]\tvalidation_0-rmse:69.38461\n",
      "[127]\tvalidation_0-rmse:69.38471\n",
      "[128]\tvalidation_0-rmse:69.38480\n",
      "[129]\tvalidation_0-rmse:69.38477\n",
      "[130]\tvalidation_0-rmse:69.38486\n",
      "[131]\tvalidation_0-rmse:69.38489\n",
      "[132]\tvalidation_0-rmse:69.38489\n"
     ]
    },
    {
     "data": {
      "text/plain": [
       "XGBRegressor(base_score=0.5, booster='gbtree', colsample_bylevel=1,\n",
       "             colsample_bynode=1, colsample_bytree=1, gamma=0, gpu_id=-1,\n",
       "             importance_type='gain', interaction_constraints='',\n",
       "             learning_rate=0.05, max_delta_step=0, max_depth=6,\n",
       "             min_child_weight=1, missing=nan, monotone_constraints='()',\n",
       "             n_estimators=1000, n_jobs=12, num_parallel_tree=1, random_state=0,\n",
       "             reg_alpha=0, reg_lambda=1, scale_pos_weight=1, subsample=1,\n",
       "             tree_method='exact', validate_parameters=1, verbosity=None)"
      ]
     },
     "execution_count": 19,
     "metadata": {},
     "output_type": "execute_result"
    }
   ],
   "source": [
    "my_model.fit(x_train_enc, y_train, \n",
    "             early_stopping_rounds=10, \n",
    "             eval_set=[(x_val_enc, y_val)], \n",
    "             verbose=True)"
   ]
  },
  {
   "cell_type": "markdown",
   "metadata": {
    "cell_id": "00010-4128836b-5503-4435-8594-fc742bb15aba",
    "deepnote_cell_type": "markdown",
    "tags": []
   },
   "source": [
    "## PREDICTION my_model"
   ]
  },
  {
   "cell_type": "code",
   "execution_count": 20,
   "metadata": {
    "cell_id": "00010-17a56be2-dbec-4549-949d-0fbeeae30a34",
    "deepnote_cell_type": "code",
    "deepnote_to_be_reexecuted": false,
    "execution_millis": 4,
    "execution_start": 1615556315773,
    "source_hash": "3a3e8d",
    "tags": []
   },
   "outputs": [
    {
     "name": "stdout",
     "output_type": "stream",
     "text": [
      "MAE (Mean Absolute Error) :  15.198276537554605\n"
     ]
    }
   ],
   "source": [
    "# Get the prediction \n",
    "pred = my_model.predict(x_val_enc)\n",
    "\n",
    "# Calculate MAE\n",
    "mae = mean_absolute_error(y_val, pred) \n",
    "print('MAE (Mean Absolute Error) : ', mae)"
   ]
  },
  {
   "cell_type": "code",
   "execution_count": 24,
   "metadata": {},
   "outputs": [
    {
     "name": "stdout",
     "output_type": "stream",
     "text": [
      "mean_squared_error:  4814.200980289323\n",
      "mean_absolute_error:  15.198276537554605\n",
      "mean_absolute_percentage_error:  9530180285762186.0\n"
     ]
    }
   ],
   "source": [
    "\n",
    "print('mean_squared_error: ', mean_squared_error(y_val, pred))\n",
    "\n",
    "print('mean_absolute_error: ', mean_absolute_error(y_val, pred))\n",
    "print('mean_absolute_percentage_error: ', mean_absolute_percentage_error(y_val, pred))"
   ]
  },
  {
   "cell_type": "markdown",
   "metadata": {
    "created_in_deepnote_cell": true,
    "deepnote_cell_type": "markdown",
    "tags": []
   },
   "source": [
    "<a style='text-decoration:none;line-height:16px;display:flex;color:#5B5B62;padding:10px;justify-content:end;' href='https://deepnote.com?utm_source=created-in-deepnote-cell&projectId=e80043e2-6875-4b65-a196-a0ffb97a1282' target=\"_blank\">\n",
    "<img style='display:inline;max-height:16px;margin:0px;margin-right:7.5px;' src='data:image/svg+xml;base64,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' > </img>\n",
    "Created in <span style='font-weight:600;margin-left:4px;'>Deepnote</span></a>"
   ]
  }
 ],
 "metadata": {
  "deepnote": {},
  "deepnote_execution_queue": [],
  "deepnote_notebook_id": "073c01ac-eb54-4f4d-b73b-20b507b5a7ee",
  "kernelspec": {
   "display_name": "Python 3",
   "language": "python",
   "name": "python3"
  },
  "language_info": {
   "codemirror_mode": {
    "name": "ipython",
    "version": 3
   },
   "file_extension": ".py",
   "mimetype": "text/x-python",
   "name": "python",
   "nbconvert_exporter": "python",
   "pygments_lexer": "ipython3",
   "version": "3.6.9"
  }
 },
 "nbformat": 4,
 "nbformat_minor": 4
}
