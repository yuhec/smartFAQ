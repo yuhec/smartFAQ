{
 "cells": [
  {
   "cell_type": "markdown",
   "metadata": {
    "cell_id": "00000-fb603e02-80b1-4fbb-9481-9ef137e61495",
    "deepnote_cell_type": "markdown"
   },
   "source": [
    "# XGBOOST"
   ]
  },
  {
   "cell_type": "markdown",
   "metadata": {
    "cell_id": "00001-8b0ffafd-e135-41b0-a4ad-1b8aa548495d",
    "deepnote_cell_type": "markdown"
   },
   "source": [
    "## IMPORT PACKAGES "
   ]
  },
  {
   "cell_type": "code",
   "execution_count": 3,
   "metadata": {
    "cell_id": "00003-892f110d-445d-4f0b-beb0-6f51b97292b1",
    "deepnote_cell_type": "code",
    "deepnote_to_be_reexecuted": false,
    "execution_millis": 2,
    "execution_start": 1615556151013,
    "source_hash": "a8b5e42a"
   },
   "outputs": [],
   "source": [
    "import os \n",
    "import pandas as pd\n",
    "import pickle\n",
    "\n",
    "from xgboost import XGBRegressor\n",
    "\n",
    "from sklearn.model_selection import train_test_split\n",
    "from sklearn.metrics import mean_absolute_error, mean_absolute_error, mean_absolute_percentage_error, mean_squared_error\n",
    "from sklearn.preprocessing import OneHotEncoder\n",
    "import sys\n",
    "sys.path.append('../../..')\n",
    "from smartFAQ.src.metrics import evaluation"
   ]
  },
  {
   "cell_type": "markdown",
   "metadata": {
    "cell_id": "00004-e11e12d1-0806-44da-afc7-28ae9c4d690b",
    "deepnote_cell_type": "markdown"
   },
   "source": [
    "## GET DATA "
   ]
  },
  {
   "cell_type": "code",
   "execution_count": 4,
   "metadata": {
    "cell_id": "00005-b65d7a38-4361-44bd-aa57-0819e6031fcb",
    "deepnote_cell_type": "code",
    "deepnote_to_be_reexecuted": false,
    "execution_millis": 42,
    "execution_start": 1615556095253,
    "source_hash": "4f3b8700"
   },
   "outputs": [],
   "source": [
    "with open('../../data/x_train.pickle', 'rb') as handle:\n",
    "    X_train = pickle.load(handle)\n",
    "with open('../../data/y_train.pickle', 'rb') as handle:\n",
    "    y_train = pickle.load(handle)\n",
    "with open('../../data/x_val.pickle', 'rb') as handle:\n",
    "    X_val = pickle.load(handle)\n",
    "with open('../../data/y_val.pickle', 'rb') as handle:\n",
    "    y_val = pickle.load(handle)"
   ]
  },
  {
   "cell_type": "code",
   "execution_count": 5,
   "metadata": {
    "cell_id": "00006-ef671817-cd90-4844-9d08-e7b547d8ab8b",
    "deepnote_cell_type": "code",
    "deepnote_to_be_reexecuted": false,
    "execution_millis": 29,
    "execution_start": 1615556097241,
    "source_hash": "38f368cd"
   },
   "outputs": [
    {
     "data": {
      "text/plain": [
       "(10000, 4)"
      ]
     },
     "execution_count": 5,
     "metadata": {},
     "output_type": "execute_result"
    }
   ],
   "source": [
    "X_train.shape"
   ]
  },
  {
   "cell_type": "code",
   "execution_count": 6,
   "metadata": {
    "cell_id": "00007-67bd5a26-2cf2-4023-81c9-1173ff4c0f4f",
    "deepnote_cell_type": "code",
    "deepnote_to_be_reexecuted": false,
    "execution_millis": 55,
    "execution_start": 1615556099503,
    "source_hash": "7c234d23"
   },
   "outputs": [
    {
     "data": {
      "text/html": [
       "<div>\n",
       "<style scoped>\n",
       "    .dataframe tbody tr th:only-of-type {\n",
       "        vertical-align: middle;\n",
       "    }\n",
       "\n",
       "    .dataframe tbody tr th {\n",
       "        vertical-align: top;\n",
       "    }\n",
       "\n",
       "    .dataframe thead th {\n",
       "        text-align: right;\n",
       "    }\n",
       "</style>\n",
       "<table border=\"1\" class=\"dataframe\">\n",
       "  <thead>\n",
       "    <tr style=\"text-align: right;\">\n",
       "      <th></th>\n",
       "      <th>id</th>\n",
       "      <th>question</th>\n",
       "      <th>question_body</th>\n",
       "      <th>answer</th>\n",
       "    </tr>\n",
       "  </thead>\n",
       "  <tbody>\n",
       "    <tr>\n",
       "      <th>490144</th>\n",
       "      <td>21032057</td>\n",
       "      <td>Deleting multiple indexes list python</td>\n",
       "      <td>My problem I list eg lst lst pop lst pop Becau...</td>\n",
       "      <td>You use list comprehension rebuild list indice...</td>\n",
       "    </tr>\n",
       "    <tr>\n",
       "      <th>815071</th>\n",
       "      <td>34022443</td>\n",
       "      <td>Django Grappelli Nested Inlines create new nes...</td>\n",
       "      <td>I looking way create new nested row saving own...</td>\n",
       "      <td>What take templates django grappelli inline pr...</td>\n",
       "    </tr>\n",
       "    <tr>\n",
       "      <th>62146</th>\n",
       "      <td>2185875</td>\n",
       "      <td>Expanding elements list</td>\n",
       "      <td>I 'm looking nice way process list elements ne...</td>\n",
       "      <td>The last one probably pythonic could try impli...</td>\n",
       "    </tr>\n",
       "    <tr>\n",
       "      <th>304024</th>\n",
       "      <td>12626260</td>\n",
       "      <td>UnicodeDecodeError processing filenames</td>\n",
       "      <td>I 'm using Python Ubuntu x I files folder file...</td>\n",
       "      <td>Your filenames byte strings contain UTF bytes ...</td>\n",
       "    </tr>\n",
       "    <tr>\n",
       "      <th>187856</th>\n",
       "      <td>7288407</td>\n",
       "      <td>Python string manipulation performance problems</td>\n",
       "      <td>I following piece code I execute around millio...</td>\n",
       "      <td>EDIT I 'm changing answer bit I 'll leave orig...</td>\n",
       "    </tr>\n",
       "  </tbody>\n",
       "</table>\n",
       "</div>"
      ],
      "text/plain": [
       "              id                                           question  \\\n",
       "490144  21032057              Deleting multiple indexes list python   \n",
       "815071  34022443  Django Grappelli Nested Inlines create new nes...   \n",
       "62146    2185875                            Expanding elements list   \n",
       "304024  12626260            UnicodeDecodeError processing filenames   \n",
       "187856   7288407    Python string manipulation performance problems   \n",
       "\n",
       "                                            question_body  \\\n",
       "490144  My problem I list eg lst lst pop lst pop Becau...   \n",
       "815071  I looking way create new nested row saving own...   \n",
       "62146   I 'm looking nice way process list elements ne...   \n",
       "304024  I 'm using Python Ubuntu x I files folder file...   \n",
       "187856  I following piece code I execute around millio...   \n",
       "\n",
       "                                                   answer  \n",
       "490144  You use list comprehension rebuild list indice...  \n",
       "815071  What take templates django grappelli inline pr...  \n",
       "62146   The last one probably pythonic could try impli...  \n",
       "304024  Your filenames byte strings contain UTF bytes ...  \n",
       "187856  EDIT I 'm changing answer bit I 'll leave orig...  "
      ]
     },
     "execution_count": 6,
     "metadata": {},
     "output_type": "execute_result"
    }
   ],
   "source": [
    "X_train.head()"
   ]
  },
  {
   "cell_type": "code",
   "execution_count": 7,
   "metadata": {
    "cell_id": "00008-27a5ab61-bc87-4d8c-add0-eed0d53fb7dc",
    "deepnote_cell_type": "code",
    "deepnote_to_be_reexecuted": false,
    "execution_millis": 4,
    "execution_start": 1615556104398,
    "source_hash": "5961b97a"
   },
   "outputs": [],
   "source": [
    "enc = OneHotEncoder(handle_unknown='ignore')"
   ]
  },
  {
   "cell_type": "code",
   "execution_count": 8,
   "metadata": {
    "cell_id": "00012-53c4aad4-7a40-41d1-8a1e-282a161d44f5",
    "deepnote_cell_type": "code",
    "deepnote_to_be_reexecuted": false,
    "execution_millis": 231,
    "execution_start": 1615556105219,
    "source_hash": "e5c2121f",
    "tags": []
   },
   "outputs": [],
   "source": [
    "x_train_enc = enc.fit_transform(X_train)\n",
    "x_val_enc = enc.transform(X_val)"
   ]
  },
  {
   "cell_type": "code",
   "execution_count": 9,
   "metadata": {
    "cell_id": "00013-32d643db-4b8d-4ae7-bfd6-0e955aac9586",
    "deepnote_cell_type": "code",
    "deepnote_to_be_reexecuted": false,
    "execution_millis": 18,
    "execution_start": 1615556105838,
    "source_hash": "cecc7ade",
    "tags": []
   },
   "outputs": [
    {
     "data": {
      "text/plain": [
       "(10000, 39819)"
      ]
     },
     "execution_count": 9,
     "metadata": {},
     "output_type": "execute_result"
    }
   ],
   "source": [
    "x_train_enc.shape"
   ]
  },
  {
   "cell_type": "markdown",
   "metadata": {
    "cell_id": "00008-ff540796-9fa2-42ff-9fa5-bbb89472c733",
    "deepnote_cell_type": "markdown",
    "tags": []
   },
   "source": [
    "## MODEL XGBClassifier"
   ]
  },
  {
   "cell_type": "code",
   "execution_count": 10,
   "metadata": {
    "cell_id": "00010-15197878-e01b-4391-b9d0-2203529e5ef1",
    "deepnote_cell_type": "code",
    "deepnote_to_be_reexecuted": false,
    "execution_millis": 0,
    "execution_start": 1615556157761,
    "source_hash": "efde7fe0",
    "tags": []
   },
   "outputs": [],
   "source": [
    "my_model = XGBRegressor(n_estimators=1000, learning_rate=0.05)"
   ]
  },
  {
   "cell_type": "markdown",
   "metadata": {
    "cell_id": "00010-a6b0b7a1-2a5c-45cc-804e-b669e27f6e97",
    "deepnote_cell_type": "markdown",
    "tags": []
   },
   "source": [
    "## TRAIN my_model"
   ]
  },
  {
   "cell_type": "code",
   "execution_count": 11,
   "metadata": {
    "cell_id": "00011-85e18708-7a91-4ce3-a2fb-f1006adc8d2e",
    "deepnote_cell_type": "code",
    "deepnote_to_be_reexecuted": false,
    "execution_millis": 50844,
    "execution_start": 1615556176053,
    "source_hash": "9baec4bc",
    "tags": []
   },
   "outputs": [
    {
     "name": "stdout",
     "output_type": "stream",
     "text": [
      "[0]\tvalidation_0-rmse:12.02245\n",
      "[1]\tvalidation_0-rmse:12.00425\n",
      "[2]\tvalidation_0-rmse:11.98743\n",
      "[3]\tvalidation_0-rmse:11.97237\n",
      "[4]\tvalidation_0-rmse:11.95863\n",
      "[5]\tvalidation_0-rmse:11.94622\n",
      "[6]\tvalidation_0-rmse:11.93482\n",
      "[7]\tvalidation_0-rmse:11.92426\n",
      "[8]\tvalidation_0-rmse:11.91494\n",
      "[9]\tvalidation_0-rmse:11.90633\n",
      "[10]\tvalidation_0-rmse:11.89849\n",
      "[11]\tvalidation_0-rmse:11.89133\n",
      "[12]\tvalidation_0-rmse:11.88490\n",
      "[13]\tvalidation_0-rmse:11.87887\n",
      "[14]\tvalidation_0-rmse:11.87343\n",
      "[15]\tvalidation_0-rmse:11.86843\n",
      "[16]\tvalidation_0-rmse:11.86395\n",
      "[17]\tvalidation_0-rmse:11.85984\n",
      "[18]\tvalidation_0-rmse:11.85607\n",
      "[19]\tvalidation_0-rmse:11.85266\n",
      "[20]\tvalidation_0-rmse:11.84954\n",
      "[21]\tvalidation_0-rmse:11.84666\n",
      "[22]\tvalidation_0-rmse:11.84399\n",
      "[23]\tvalidation_0-rmse:11.84156\n",
      "[24]\tvalidation_0-rmse:11.83931\n",
      "[25]\tvalidation_0-rmse:11.83730\n",
      "[26]\tvalidation_0-rmse:11.83535\n",
      "[27]\tvalidation_0-rmse:11.83379\n",
      "[28]\tvalidation_0-rmse:11.83218\n",
      "[29]\tvalidation_0-rmse:11.83067\n",
      "[30]\tvalidation_0-rmse:11.82939\n",
      "[31]\tvalidation_0-rmse:11.82811\n",
      "[32]\tvalidation_0-rmse:11.82706\n",
      "[33]\tvalidation_0-rmse:11.82593\n",
      "[34]\tvalidation_0-rmse:11.82512\n",
      "[35]\tvalidation_0-rmse:11.82409\n",
      "[36]\tvalidation_0-rmse:11.82331\n",
      "[37]\tvalidation_0-rmse:11.82265\n",
      "[38]\tvalidation_0-rmse:11.82197\n",
      "[39]\tvalidation_0-rmse:11.82125\n",
      "[40]\tvalidation_0-rmse:11.82067\n",
      "[41]\tvalidation_0-rmse:11.82015\n",
      "[42]\tvalidation_0-rmse:11.81955\n",
      "[43]\tvalidation_0-rmse:11.81911\n",
      "[44]\tvalidation_0-rmse:11.81878\n",
      "[45]\tvalidation_0-rmse:11.81835\n",
      "[46]\tvalidation_0-rmse:11.81792\n",
      "[47]\tvalidation_0-rmse:11.81758\n",
      "[48]\tvalidation_0-rmse:11.81722\n",
      "[49]\tvalidation_0-rmse:11.81695\n",
      "[50]\tvalidation_0-rmse:11.81663\n",
      "[51]\tvalidation_0-rmse:11.81640\n",
      "[52]\tvalidation_0-rmse:11.81619\n",
      "[53]\tvalidation_0-rmse:11.81589\n",
      "[54]\tvalidation_0-rmse:11.81575\n",
      "[55]\tvalidation_0-rmse:11.81552\n",
      "[56]\tvalidation_0-rmse:11.81550\n",
      "[57]\tvalidation_0-rmse:11.81531\n",
      "[58]\tvalidation_0-rmse:11.81511\n",
      "[59]\tvalidation_0-rmse:11.81498\n",
      "[60]\tvalidation_0-rmse:11.81486\n",
      "[61]\tvalidation_0-rmse:11.81469\n",
      "[62]\tvalidation_0-rmse:11.81462\n",
      "[63]\tvalidation_0-rmse:11.81441\n",
      "[64]\tvalidation_0-rmse:11.81448\n",
      "[65]\tvalidation_0-rmse:11.81430\n",
      "[66]\tvalidation_0-rmse:11.81427\n",
      "[67]\tvalidation_0-rmse:11.81414\n",
      "[68]\tvalidation_0-rmse:11.81408\n",
      "[69]\tvalidation_0-rmse:11.81409\n",
      "[70]\tvalidation_0-rmse:11.81397\n",
      "[71]\tvalidation_0-rmse:11.81383\n",
      "[72]\tvalidation_0-rmse:11.81374\n",
      "[73]\tvalidation_0-rmse:11.81378\n",
      "[74]\tvalidation_0-rmse:11.81381\n",
      "[75]\tvalidation_0-rmse:11.81370\n",
      "[76]\tvalidation_0-rmse:11.81364\n",
      "[77]\tvalidation_0-rmse:11.81372\n",
      "[78]\tvalidation_0-rmse:11.81364\n",
      "[79]\tvalidation_0-rmse:11.81359\n",
      "[80]\tvalidation_0-rmse:11.81355\n",
      "[81]\tvalidation_0-rmse:11.81349\n",
      "[82]\tvalidation_0-rmse:11.81347\n",
      "[83]\tvalidation_0-rmse:11.81343\n",
      "[84]\tvalidation_0-rmse:11.81340\n",
      "[85]\tvalidation_0-rmse:11.81339\n",
      "[86]\tvalidation_0-rmse:11.81338\n",
      "[87]\tvalidation_0-rmse:11.81336\n",
      "[88]\tvalidation_0-rmse:11.81335\n",
      "[89]\tvalidation_0-rmse:11.81334\n",
      "[90]\tvalidation_0-rmse:11.81334\n",
      "[91]\tvalidation_0-rmse:11.81334\n",
      "[92]\tvalidation_0-rmse:11.81334\n",
      "[93]\tvalidation_0-rmse:11.81335\n",
      "[94]\tvalidation_0-rmse:11.81336\n",
      "[95]\tvalidation_0-rmse:11.81338\n",
      "[96]\tvalidation_0-rmse:11.81338\n",
      "[97]\tvalidation_0-rmse:11.81341\n",
      "[98]\tvalidation_0-rmse:11.81343\n",
      "[99]\tvalidation_0-rmse:11.81344\n",
      "[100]\tvalidation_0-rmse:11.81346\n"
     ]
    },
    {
     "data": {
      "text/plain": [
       "XGBRegressor(base_score=0.5, booster='gbtree', colsample_bylevel=1,\n",
       "             colsample_bynode=1, colsample_bytree=1, gamma=0, gpu_id=-1,\n",
       "             importance_type='gain', interaction_constraints='',\n",
       "             learning_rate=0.05, max_delta_step=0, max_depth=6,\n",
       "             min_child_weight=1, missing=nan, monotone_constraints='()',\n",
       "             n_estimators=1000, n_jobs=4, num_parallel_tree=1, random_state=0,\n",
       "             reg_alpha=0, reg_lambda=1, scale_pos_weight=1, subsample=1,\n",
       "             tree_method='exact', validate_parameters=1, verbosity=None)"
      ]
     },
     "execution_count": 11,
     "metadata": {},
     "output_type": "execute_result"
    }
   ],
   "source": [
    "my_model.fit(x_train_enc, y_train, \n",
    "             early_stopping_rounds=10, \n",
    "             eval_set=[(x_val_enc, y_val)], \n",
    "             verbose=True)"
   ]
  },
  {
   "cell_type": "markdown",
   "metadata": {
    "cell_id": "00010-4128836b-5503-4435-8594-fc742bb15aba",
    "deepnote_cell_type": "markdown",
    "tags": []
   },
   "source": [
    "## PREDICTION my_model"
   ]
  },
  {
   "cell_type": "code",
   "execution_count": 12,
   "metadata": {
    "cell_id": "00010-17a56be2-dbec-4549-949d-0fbeeae30a34",
    "deepnote_cell_type": "code",
    "deepnote_to_be_reexecuted": false,
    "execution_millis": 4,
    "execution_start": 1615556315773,
    "source_hash": "3a3e8d",
    "tags": []
   },
   "outputs": [
    {
     "name": "stdout",
     "output_type": "stream",
     "text": [
      "MAE (Mean Absolute Error) :  3.0697285415649413\n"
     ]
    }
   ],
   "source": [
    "# Get the prediction \n",
    "pred = my_model.predict(x_val_enc)\n",
    "\n",
    "# Calculate MAE\n",
    "mae = mean_absolute_error(y_val, pred) \n",
    "print('MAE (Mean Absolute Error) : ', mae)"
   ]
  },
  {
   "cell_type": "code",
   "execution_count": 14,
   "metadata": {
    "cell_id": "00016-5ac1c02f-945e-474b-b6bf-df625f625ec1",
    "deepnote_cell_type": "code"
   },
   "outputs": [
    {
     "name": "stdout",
     "output_type": "stream",
     "text": [
      "mean_squared_error:  139.55786225605988\n",
      "mean_absolute_error:  3.0697285415649413\n",
      "mean_absolute_percentage_error:  3670362408439775.0\n",
      "Custom metrique : Le résultat doit être le plus proche de 0: 3.0697285415649413\n"
     ]
    }
   ],
   "source": [
    "\n",
    "print('mean_squared_error: ', mean_squared_error(y_val, pred))\n",
    "\n",
    "print('mean_absolute_error: ', mean_absolute_error(y_val, pred))\n",
    "print('mean_absolute_percentage_error: ', mean_absolute_percentage_error(y_val, pred))\n",
    "print('Custom metrique :', evaluation(y_val, pred))"
   ]
  },
  {
   "cell_type": "code",
   "execution_count": null,
   "metadata": {
    "cell_id": "00017-ecccd2c6-7c9f-4efb-9a74-15a74a10187a",
    "deepnote_cell_type": "code",
    "tags": []
   },
   "outputs": [],
   "source": [
    "# © Axel CHENU 2021"
   ]
  },
  {
   "cell_type": "markdown",
   "metadata": {
    "created_in_deepnote_cell": true,
    "deepnote_cell_type": "markdown",
    "tags": []
   },
   "source": [
    "<a style='text-decoration:none;line-height:16px;display:flex;color:#5B5B62;padding:10px;justify-content:end;' href='https://deepnote.com?utm_source=created-in-deepnote-cell&projectId=e80043e2-6875-4b65-a196-a0ffb97a1282' target=\"_blank\">\n",
    "<img style='display:inline;max-height:16px;margin:0px;margin-right:7.5px;' src='data:image/svg+xml;base64,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' > </img>\n",
    "Created in <span style='font-weight:600;margin-left:4px;'>Deepnote</span></a>"
   ]
  }
 ],
 "metadata": {
  "deepnote": {},
  "deepnote_execution_queue": [],
  "deepnote_notebook_id": "073c01ac-eb54-4f4d-b73b-20b507b5a7ee",
  "kernelspec": {
   "display_name": "Python 3",
   "language": "python",
   "name": "python3"
  },
  "language_info": {
   "codemirror_mode": {
    "name": "ipython",
    "version": 3
   },
   "file_extension": ".py",
   "mimetype": "text/x-python",
   "name": "python",
   "nbconvert_exporter": "python",
   "pygments_lexer": "ipython3",
   "version": "3.8.7"
  }
 },
 "nbformat": 4,
 "nbformat_minor": 4
}
