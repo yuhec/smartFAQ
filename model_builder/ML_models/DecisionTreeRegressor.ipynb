{
 "cells": [
  {
   "cell_type": "code",
   "execution_count": 25,
   "metadata": {},
   "outputs": [],
   "source": [
    "import pandas as pd\n",
    "import pickle\n",
    "from sklearn.preprocessing import OneHotEncoder\n",
    "from sklearn.tree import DecisionTreeRegressor\n",
    "from sklearn.metrics import r2_score\n",
    "from sklearn.metrics import explained_variance_score"
   ]
  },
  {
   "cell_type": "markdown",
   "metadata": {},
   "source": [
    "# Load Data"
   ]
  },
  {
   "cell_type": "code",
   "execution_count": 5,
   "metadata": {},
   "outputs": [],
   "source": [
    "with open('../../data/x_train.pickle', 'rb') as handle:\n",
    "    X_train = pickle.load(handle)\n",
    "with open('../../data/y_train.pickle', 'rb') as handle:\n",
    "    y_train = pickle.load(handle)\n",
    "with open('../../data/x_val.pickle', 'rb') as handle:\n",
    "    X_val = pickle.load(handle)\n",
    "with open('../../data/y_val.pickle', 'rb') as handle:\n",
    "    y_val = pickle.load(handle)"
   ]
  },
  {
   "cell_type": "code",
   "execution_count": 6,
   "metadata": {},
   "outputs": [
    {
     "data": {
      "text/html": [
       "<div>\n",
       "<style scoped>\n",
       "    .dataframe tbody tr th:only-of-type {\n",
       "        vertical-align: middle;\n",
       "    }\n",
       "\n",
       "    .dataframe tbody tr th {\n",
       "        vertical-align: top;\n",
       "    }\n",
       "\n",
       "    .dataframe thead th {\n",
       "        text-align: right;\n",
       "    }\n",
       "</style>\n",
       "<table border=\"1\" class=\"dataframe\">\n",
       "  <thead>\n",
       "    <tr style=\"text-align: right;\">\n",
       "      <th></th>\n",
       "      <th>id</th>\n",
       "      <th>question</th>\n",
       "      <th>question_body</th>\n",
       "      <th>answer</th>\n",
       "    </tr>\n",
       "  </thead>\n",
       "  <tbody>\n",
       "    <tr>\n",
       "      <th>490144</th>\n",
       "      <td>21032057</td>\n",
       "      <td>Deleting multiple indexes list python</td>\n",
       "      <td>My problem I list eg lst lst pop lst pop Becau...</td>\n",
       "      <td>You use list comprehension rebuild list indice...</td>\n",
       "    </tr>\n",
       "    <tr>\n",
       "      <th>815071</th>\n",
       "      <td>34022443</td>\n",
       "      <td>Django Grappelli Nested Inlines create new nes...</td>\n",
       "      <td>I looking way create new nested row saving own...</td>\n",
       "      <td>What take templates django grappelli inline pr...</td>\n",
       "    </tr>\n",
       "    <tr>\n",
       "      <th>62146</th>\n",
       "      <td>2185875</td>\n",
       "      <td>Expanding elements list</td>\n",
       "      <td>I 'm looking nice way process list elements ne...</td>\n",
       "      <td>The last one probably pythonic could try impli...</td>\n",
       "    </tr>\n",
       "    <tr>\n",
       "      <th>304024</th>\n",
       "      <td>12626260</td>\n",
       "      <td>UnicodeDecodeError processing filenames</td>\n",
       "      <td>I 'm using Python Ubuntu x I files folder file...</td>\n",
       "      <td>Your filenames byte strings contain UTF bytes ...</td>\n",
       "    </tr>\n",
       "    <tr>\n",
       "      <th>187856</th>\n",
       "      <td>7288407</td>\n",
       "      <td>Python string manipulation performance problems</td>\n",
       "      <td>I following piece code I execute around millio...</td>\n",
       "      <td>EDIT I 'm changing answer bit I 'll leave orig...</td>\n",
       "    </tr>\n",
       "  </tbody>\n",
       "</table>\n",
       "</div>"
      ],
      "text/plain": [
       "              id                                           question  \\\n",
       "490144  21032057              Deleting multiple indexes list python   \n",
       "815071  34022443  Django Grappelli Nested Inlines create new nes...   \n",
       "62146    2185875                            Expanding elements list   \n",
       "304024  12626260            UnicodeDecodeError processing filenames   \n",
       "187856   7288407    Python string manipulation performance problems   \n",
       "\n",
       "                                            question_body  \\\n",
       "490144  My problem I list eg lst lst pop lst pop Becau...   \n",
       "815071  I looking way create new nested row saving own...   \n",
       "62146   I 'm looking nice way process list elements ne...   \n",
       "304024  I 'm using Python Ubuntu x I files folder file...   \n",
       "187856  I following piece code I execute around millio...   \n",
       "\n",
       "                                                   answer  \n",
       "490144  You use list comprehension rebuild list indice...  \n",
       "815071  What take templates django grappelli inline pr...  \n",
       "62146   The last one probably pythonic could try impli...  \n",
       "304024  Your filenames byte strings contain UTF bytes ...  \n",
       "187856  EDIT I 'm changing answer bit I 'll leave orig...  "
      ]
     },
     "execution_count": 6,
     "metadata": {},
     "output_type": "execute_result"
    }
   ],
   "source": [
    "X_train.head()"
   ]
  },
  {
   "cell_type": "code",
   "execution_count": 7,
   "metadata": {},
   "outputs": [
    {
     "data": {
      "text/plain": [
       "(10000, 4)"
      ]
     },
     "execution_count": 7,
     "metadata": {},
     "output_type": "execute_result"
    }
   ],
   "source": [
    "X_train.shape"
   ]
  },
  {
   "cell_type": "markdown",
   "metadata": {},
   "source": [
    "## Encode str with oneHotEncoder"
   ]
  },
  {
   "cell_type": "code",
   "execution_count": 12,
   "metadata": {},
   "outputs": [],
   "source": [
    "enc = OneHotEncoder(handle_unknown='ignore')"
   ]
  },
  {
   "cell_type": "code",
   "execution_count": 14,
   "metadata": {},
   "outputs": [],
   "source": [
    "x_train_enc = enc.fit_transform(X_train)\n",
    "x_val_enc = enc.transform(X_val)"
   ]
  },
  {
   "cell_type": "code",
   "execution_count": 28,
   "metadata": {},
   "outputs": [
    {
     "data": {
      "text/plain": [
       "(10000, 39819)"
      ]
     },
     "execution_count": 28,
     "metadata": {},
     "output_type": "execute_result"
    }
   ],
   "source": [
    "x_train_enc.shape\n",
    "# nb col > nb lines ... "
   ]
  },
  {
   "cell_type": "markdown",
   "metadata": {},
   "source": [
    "## Create model"
   ]
  },
  {
   "cell_type": "code",
   "execution_count": 16,
   "metadata": {},
   "outputs": [],
   "source": [
    "model = DecisionTreeRegressor(splitter='random', random_state=0) "
   ]
  },
  {
   "cell_type": "markdown",
   "metadata": {},
   "source": [
    "## Train model"
   ]
  },
  {
   "cell_type": "code",
   "execution_count": 17,
   "metadata": {},
   "outputs": [
    {
     "data": {
      "text/plain": [
       "DecisionTreeRegressor(random_state=0, splitter='random')"
      ]
     },
     "execution_count": 17,
     "metadata": {},
     "output_type": "execute_result"
    }
   ],
   "source": [
    "model.fit(x_train_enc, y_train)"
   ]
  },
  {
   "cell_type": "markdown",
   "metadata": {},
   "source": [
    "## Prediction"
   ]
  },
  {
   "cell_type": "code",
   "execution_count": 22,
   "metadata": {},
   "outputs": [],
   "source": [
    "y_val_pred = model.predict(x_val_enc)\n",
    "y_val_pred = pd.DataFrame(y_val_pred)"
   ]
  },
  {
   "cell_type": "code",
   "execution_count": 26,
   "metadata": {},
   "outputs": [
    {
     "name": "stdout",
     "output_type": "stream",
     "text": [
      "Coefficient of determination:  -0.05863092965279959\n",
      "explained_variance_score:  -0.001347619024735458\n"
     ]
    }
   ],
   "source": [
    "print('Coefficient of determination: ', r2_score(y_val, y_val_pred))\n",
    "print('explained_variance_score: ', explained_variance_score(y_val, y_val_pred))"
   ]
  },
  {
   "cell_type": "code",
   "execution_count": null,
   "metadata": {},
   "outputs": [],
   "source": []
  }
 ],
 "metadata": {
  "kernelspec": {
   "display_name": "Python 3",
   "language": "python",
   "name": "python3"
  },
  "language_info": {
   "codemirror_mode": {
    "name": "ipython",
    "version": 3
   },
   "file_extension": ".py",
   "mimetype": "text/x-python",
   "name": "python",
   "nbconvert_exporter": "python",
   "pygments_lexer": "ipython3",
   "version": "3.6.9"
  }
 },
 "nbformat": 4,
 "nbformat_minor": 4
}
