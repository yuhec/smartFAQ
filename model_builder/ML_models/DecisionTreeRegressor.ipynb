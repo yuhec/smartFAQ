{
  "cells": [
    {
      "cell_type": "code",
      "metadata": {
        "cell_id": "00000-6ec8ae94-65f0-4204-9f8e-81c3773c9c6a",
        "deepnote_to_be_reexecuted": false,
        "source_hash": "5dec8f21",
        "execution_start": 1615136858082,
        "execution_millis": 1414,
        "deepnote_cell_type": "code"
      },
      "source": "import pandas as pd\nimport pickle\nfrom sklearn.preprocessing import OneHotEncoder\nfrom sklearn.tree import DecisionTreeRegressor\nfrom sklearn.metrics import r2_score\nfrom sklearn.metrics import explained_variance_score",
      "execution_count": 1,
      "outputs": []
    },
    {
      "cell_type": "markdown",
      "source": "# Load Data",
      "metadata": {
        "cell_id": "00001-ec7ce120-0bc8-4b88-9f6d-17a73f24d57b",
        "deepnote_cell_type": "markdown"
      }
    },
    {
      "cell_type": "code",
      "metadata": {
        "cell_id": "00002-2d63962a-efd5-4d82-ab57-09b27c3d4689",
        "deepnote_to_be_reexecuted": false,
        "source_hash": "4f3b8700",
        "execution_start": 1615136859500,
        "execution_millis": 60,
        "deepnote_cell_type": "code"
      },
      "source": "with open('../../data/x_train.pickle', 'rb') as handle:\n    X_train = pickle.load(handle)\nwith open('../../data/y_train.pickle', 'rb') as handle:\n    y_train = pickle.load(handle)\nwith open('../../data/x_val.pickle', 'rb') as handle:\n    X_val = pickle.load(handle)\nwith open('../../data/y_val.pickle', 'rb') as handle:\n    y_val = pickle.load(handle)",
      "execution_count": 2,
      "outputs": []
    },
    {
      "cell_type": "code",
      "metadata": {
        "cell_id": "00003-8338c292-70b6-4628-b885-99447ef2b61d",
        "deepnote_to_be_reexecuted": false,
        "source_hash": "7c234d23",
        "execution_start": 1615136859575,
        "execution_millis": 18,
        "deepnote_cell_type": "code"
      },
      "source": "X_train.head()",
      "execution_count": 3,
      "outputs": [
        {
          "output_type": "execute_result",
          "execution_count": 3,
          "data": {
            "application/vnd.deepnote.dataframe.v2+json": {
              "row_count": 5,
              "column_count": 4,
              "columns": [
                {
                  "name": "id",
                  "dtype": "int64",
                  "stats": {
                    "unique_count": 5,
                    "nan_count": 0,
                    "min": 2185875,
                    "max": 34022443,
                    "histogram": [
                      {
                        "bin_start": 2185875,
                        "bin_end": 5369531.8,
                        "count": 1
                      },
                      {
                        "bin_start": 5369531.8,
                        "bin_end": 8553188.6,
                        "count": 1
                      },
                      {
                        "bin_start": 8553188.6,
                        "bin_end": 11736845.399999999,
                        "count": 0
                      },
                      {
                        "bin_start": 11736845.399999999,
                        "bin_end": 14920502.2,
                        "count": 1
                      },
                      {
                        "bin_start": 14920502.2,
                        "bin_end": 18104159,
                        "count": 0
                      },
                      {
                        "bin_start": 18104159,
                        "bin_end": 21287815.799999997,
                        "count": 1
                      },
                      {
                        "bin_start": 21287815.799999997,
                        "bin_end": 24471472.599999998,
                        "count": 0
                      },
                      {
                        "bin_start": 24471472.599999998,
                        "bin_end": 27655129.4,
                        "count": 0
                      },
                      {
                        "bin_start": 27655129.4,
                        "bin_end": 30838786.2,
                        "count": 0
                      },
                      {
                        "bin_start": 30838786.2,
                        "bin_end": 34022443,
                        "count": 1
                      }
                    ]
                  }
                },
                {
                  "name": "question",
                  "dtype": "object",
                  "stats": {
                    "unique_count": 5,
                    "nan_count": 0,
                    "categories": [
                      {
                        "name": "Deleting multiple indexes list python",
                        "count": 1
                      },
                      {
                        "name": "Django Grappelli Nested Inlines create new nested lines initial load",
                        "count": 1
                      },
                      {
                        "name": "3 others",
                        "count": 3
                      }
                    ]
                  }
                },
                {
                  "name": "question_body",
                  "dtype": "object",
                  "stats": {
                    "unique_count": 5,
                    "nan_count": 0,
                    "categories": [
                      {
                        "name": "My problem I list eg lst lst pop lst pop Because lst removed lst longer range This gives error Now I know could say change code lst pop lst pop ill fix error problem actual code 'popping ' random numbers needs done time avoid error Is method 'popping ' time like something similar lst pop Thanks answers",
                        "count": 1
                      },
                      {
                        "name": "I looking way create new nested row saving owner row By way django ticket I found Grappelli Nested Inlines I using I test project set based instructions found link django contrib import admin grappelli nested admin import NestedModelAdmin NestedStackedInline NestedTabularInline models import class MyNestedInline NestedTabularInline model C extra class MyInline NestedStackedInline model B extra inlines MyNestedInline class MyAdmin NestedModelAdmin inlines MyInline admin site register A MyAdmin My issue based fact I create child object saving parent That say add another c button functionality saving B Is way achieve I read posts regarding I could find I say answer included anywhere I understand please patient I also note production code grappelli requirement anything clashes work",
                        "count": 1
                      },
                      {
                        "name": "3 others",
                        "count": 3
                      }
                    ]
                  }
                },
                {
                  "name": "answer",
                  "dtype": "object",
                  "stats": {
                    "unique_count": 5,
                    "nan_count": 0,
                    "categories": [
                      {
                        "name": "You use list comprehension rebuild list indices newlist v v enumerate oldlist indices I used set indices set membership testing faster list Note delete best done del lst index partially rebuilds list well one loop list comprehension efficient Demo gt gt gt oldlist gt gt gt indices gt gt gt v v enumerate oldlist indices",
                        "count": 1
                      },
                      {
                        "name": "What take templates django grappelli inline provides use use template django nested inlines class NestedStackedInline NestedInline template 'admin edit inline stacked html ' class NestedTabularInline NestedInline template 'admin edit inline tabular html ' Where templates ones django grappelli inline",
                        "count": 1
                      },
                      {
                        "name": "3 others",
                        "count": 3
                      }
                    ]
                  }
                },
                {
                  "name": "_deepnote_index_column",
                  "dtype": "int64"
                }
              ],
              "rows_top": [
                {
                  "id": 21032057,
                  "question": "Deleting multiple indexes list python",
                  "question_body": "My problem I list eg lst lst pop lst pop Because lst removed lst longer range This gives error Now I know could say change code lst pop lst pop ill fix error problem actual code 'popping ' random numbers needs done time avoid error Is method 'popping ' time like something similar lst pop Thanks answers",
                  "answer": "You use list comprehension rebuild list indices newlist v v enumerate oldlist indices I used set indices set membership testing faster list Note delete best done del lst index partially rebuilds list well one loop list comprehension efficient Demo gt gt gt oldlist gt gt gt indices gt gt gt v v enumerate oldlist indices",
                  "_deepnote_index_column": 490144
                },
                {
                  "id": 34022443,
                  "question": "Django Grappelli Nested Inlines create new nested lines initial load",
                  "question_body": "I looking way create new nested row saving owner row By way django ticket I found Grappelli Nested Inlines I using I test project set based instructions found link django contrib import admin grappelli nested admin import NestedModelAdmin NestedStackedInline NestedTabularInline models import class MyNestedInline NestedTabularInline model C extra class MyInline NestedStackedInline model B extra inlines MyNestedInline class MyAdmin NestedModelAdmin inlines MyInline admin site register A MyAdmin My issue based fact I create child object saving parent That say add another c button functionality saving B Is way achieve I read posts regarding I could find I say answer included anywhere I understand please patient I also note production code grappelli requirement anything clashes work",
                  "answer": "What take templates django grappelli inline provides use use template django nested inlines class NestedStackedInline NestedInline template 'admin edit inline stacked html ' class NestedTabularInline NestedInline template 'admin edit inline tabular html ' Where templates ones django grappelli inline",
                  "_deepnote_index_column": 815071
                },
                {
                  "id": 2185875,
                  "question": "Expanding elements list",
                  "question_body": "I 'm looking nice way process list elements need expanded elements expansion results Standard iterative way would lt len l needs expanding l new expand l l new len new else pretty ugly I could rewrite contents new list nl x l needs expanding x nl expand x else nl append x But seem long Or I could simply passes flatten list later flatten expand x needs expanding x else x x l def try expanding x flatten try expanding x x l n't feel right either Are clear ways",
                  "answer": "The last one probably pythonic could try implied loop py generator map flatten map lambda x expand x needs expanding x else x l flatten map try expanding l",
                  "_deepnote_index_column": 62146
                },
                {
                  "id": 12626260,
                  "question": "UnicodeDecodeError processing filenames",
                  "question_body": "I 'm using Python Ubuntu x I files folder filesystem The file names files contain html encoded escaped characters files originally downloaded website Here examples Jamaica jpg thai trip E B E B E A A E B F RAY jpg I wrote simple Python script goes folder renames files encoded characters filename The new filename achieved simply decoding string makes filename The script works files files Python chokes spits following error UnicodeDecodeError 'ascii ' codec ca n't decode byte xe position ordinal range Traceback recent call last File download py line downloadGalleries numDownloaded downloadGallery opener galleryLink File download py line downloadGallery filePathPrefix getFilePath content File download py line getFilePath return cleanupString match group strip ' ' cleanupString match group strip File home abc XYZ common py line cleanupString return HTMLParser HTMLParser unescape string File usr lib python HTMLParser py line unescape return sub r amp xX fA F w replaceEntities File usr lib python py line sub return compile pattern flags sub repl string count Here contents cleanupString function def cleanupString string string urllib unquote string return HTMLParser HTMLParser unescape string And 's snippet code calls cleanupString function code code traceback produces error rootFolder sys argv pattern r ' jpg jpeg ' reobj compile pattern IGNORECASE imgs root dirs files os walk rootFolder filename files foundFile os path join root filename reobj match foundFile imgs append foundFile img imgs print 'Checking file ' img newImg cleanupString img Code blows files Can anyone provide way get around error I 've already tried adding coding utf top script effect Thanks",
                  "answer": "Your filenames byte strings contain UTF bytes representing unicode characters The HTML parser normally works unicode data instead byte strings particularly encounters ampersand escape Python automatically trying decode value default uses ASCII decoding This fails UTF data contains bytes fall outside ASCII range You need explicitly decode string unicode object def cleanupString string string urllib unquote string decode 'utf ' return HTMLParser HTMLParser unescape string Your next problem unicode filenames filesystem need kind encoding work filenames You check encoding sys getfilesystemencoding use encode filenames def cleanupString string string urllib unquote string decode 'utf ' return HTMLParser HTMLParser unescape string encode sys getfilesystemencoding You read Python deals Unicode Unicode HOWTO",
                  "_deepnote_index_column": 304024
                },
                {
                  "id": 7288407,
                  "question": "Python string manipulation performance problems",
                  "question_body": "I following piece code I execute around million times application parse many records This part seems bottleneck I wondering anyone could help suggesting nifty tricks could make simple string manipulations faster try data start end info self Columns end start info columnLength slice line start end slice `` len slice info columnLength raise 'Wrong Input ' info hasSignage slice strip ' ' slice strip ' ' raise 'Wrong Input ' info skipColumn data append slice start end parsedLine data except parsedLine False",
                  "answer": "EDIT I 'm changing answer bit I 'll leave original answer In answer I commented best thing would find built Python module would unpacking I could n't think one perhaps I Google searched one John Machin provided answer showed use Python struct module Since written C faster pure Python solution I n't actually measured anything guess I agree logic original code un Pythonic Returning sentinel value n't best 's better either return valid value raise exception The way return list valid values plus another list invalid values Since John Machin offered code yield valid values I thought I 'd write version returns two lists NOTE Perhaps best possible answer would take John Machin 's answer modify save invalid values file possible later review His answer yields answers one time need build large list parsed records saving bad lines disk means need build possibly large list bad lines import struct def parse records self returns tuple good bad good list valid records tuples bad list tuples line num line err cols self Columns unpack fmt sign checks start colx info enumerate cols clen info columnLength clen lt raise ValueError Column Bad columnLength r colx clen info skipColumn unpack fmt str clen x else unpack fmt str clen info hasSignage sign checks append start start clen expected len start unpack struct Struct unpack fmt unpack good bad line num line enumerate self whatever list lines len line expected len bad append line num line bad length continue line ' ' sign checks bad append line num line sign check failed continue good append unpack line return good bad ORIGINAL ANSWER TEXT This answer lot faster self Columns information identical records We processing self Columns information one time build couple lists contain need process record This code shows compute parsedList n't actually yield return anything Obviously would need change def parse records self cols self Columns slices sign checks start info cols info columnLength lt raise ValueError bad columnLength end start info columnLength info skipColumn tup start end slices append tup info hasSignage sign checks append start expected len end use end count newline try line self whatever list lines len line expected len raise ValueError wrong length line ' ' sign checks raise ValueError wrong input parsedLine line e e slices except ValueError parsedLine False",
                  "_deepnote_index_column": 187856
                }
              ],
              "rows_bottom": null
            },
            "text/plain": "              id                                           question  \\\n490144  21032057              Deleting multiple indexes list python   \n815071  34022443  Django Grappelli Nested Inlines create new nes...   \n62146    2185875                            Expanding elements list   \n304024  12626260            UnicodeDecodeError processing filenames   \n187856   7288407    Python string manipulation performance problems   \n\n                                            question_body  \\\n490144  My problem I list eg lst lst pop lst pop Becau...   \n815071  I looking way create new nested row saving own...   \n62146   I 'm looking nice way process list elements ne...   \n304024  I 'm using Python Ubuntu x I files folder file...   \n187856  I following piece code I execute around millio...   \n\n                                                   answer  \n490144  You use list comprehension rebuild list indice...  \n815071  What take templates django grappelli inline pr...  \n62146   The last one probably pythonic could try impli...  \n304024  Your filenames byte strings contain UTF bytes ...  \n187856  EDIT I 'm changing answer bit I 'll leave orig...  ",
            "text/html": "<div>\n<style scoped>\n    .dataframe tbody tr th:only-of-type {\n        vertical-align: middle;\n    }\n\n    .dataframe tbody tr th {\n        vertical-align: top;\n    }\n\n    .dataframe thead th {\n        text-align: right;\n    }\n</style>\n<table border=\"1\" class=\"dataframe\">\n  <thead>\n    <tr style=\"text-align: right;\">\n      <th></th>\n      <th>id</th>\n      <th>question</th>\n      <th>question_body</th>\n      <th>answer</th>\n    </tr>\n  </thead>\n  <tbody>\n    <tr>\n      <th>490144</th>\n      <td>21032057</td>\n      <td>Deleting multiple indexes list python</td>\n      <td>My problem I list eg lst lst pop lst pop Becau...</td>\n      <td>You use list comprehension rebuild list indice...</td>\n    </tr>\n    <tr>\n      <th>815071</th>\n      <td>34022443</td>\n      <td>Django Grappelli Nested Inlines create new nes...</td>\n      <td>I looking way create new nested row saving own...</td>\n      <td>What take templates django grappelli inline pr...</td>\n    </tr>\n    <tr>\n      <th>62146</th>\n      <td>2185875</td>\n      <td>Expanding elements list</td>\n      <td>I 'm looking nice way process list elements ne...</td>\n      <td>The last one probably pythonic could try impli...</td>\n    </tr>\n    <tr>\n      <th>304024</th>\n      <td>12626260</td>\n      <td>UnicodeDecodeError processing filenames</td>\n      <td>I 'm using Python Ubuntu x I files folder file...</td>\n      <td>Your filenames byte strings contain UTF bytes ...</td>\n    </tr>\n    <tr>\n      <th>187856</th>\n      <td>7288407</td>\n      <td>Python string manipulation performance problems</td>\n      <td>I following piece code I execute around millio...</td>\n      <td>EDIT I 'm changing answer bit I 'll leave orig...</td>\n    </tr>\n  </tbody>\n</table>\n</div>"
          },
          "metadata": {}
        }
      ]
    },
    {
      "cell_type": "code",
      "metadata": {
        "cell_id": "00004-e70bed7a-e148-44f2-b3a2-8ef7c822d977",
        "deepnote_to_be_reexecuted": false,
        "source_hash": "38f368cd",
        "execution_start": 1615136859590,
        "execution_millis": 9,
        "deepnote_cell_type": "code"
      },
      "source": "X_train.shape",
      "execution_count": 4,
      "outputs": [
        {
          "output_type": "execute_result",
          "execution_count": 4,
          "data": {
            "text/plain": "(10000, 4)"
          },
          "metadata": {}
        }
      ]
    },
    {
      "cell_type": "markdown",
      "source": "## Encode str with oneHotEncoder",
      "metadata": {
        "cell_id": "00005-ed419977-27d8-4eb3-9e2b-309c860c29f0",
        "deepnote_cell_type": "markdown"
      }
    },
    {
      "cell_type": "code",
      "metadata": {
        "cell_id": "00006-49037e4f-b998-4105-ad1a-ba9134ddc469",
        "deepnote_to_be_reexecuted": false,
        "source_hash": "5961b97a",
        "execution_start": 1615136859639,
        "execution_millis": 0,
        "deepnote_cell_type": "code"
      },
      "source": "enc = OneHotEncoder(handle_unknown='ignore')",
      "execution_count": 5,
      "outputs": []
    },
    {
      "cell_type": "code",
      "metadata": {
        "cell_id": "00007-7061ccad-a5c7-4e85-94d1-2f8a9e3e076e",
        "deepnote_to_be_reexecuted": false,
        "source_hash": "e5c2121f",
        "execution_start": 1615136859639,
        "execution_millis": 187,
        "deepnote_cell_type": "code"
      },
      "source": "x_train_enc = enc.fit_transform(X_train)\nx_val_enc = enc.transform(X_val)",
      "execution_count": 6,
      "outputs": []
    },
    {
      "cell_type": "code",
      "metadata": {
        "cell_id": "00008-aa6e8c38-0836-426c-abc6-f245d9f25869",
        "deepnote_to_be_reexecuted": false,
        "source_hash": "396773ea",
        "execution_start": 1615136859830,
        "execution_millis": 10,
        "deepnote_cell_type": "code"
      },
      "source": "x_train_enc.shape\n# nb col > nb lines ... ",
      "execution_count": 7,
      "outputs": [
        {
          "output_type": "execute_result",
          "execution_count": 7,
          "data": {
            "text/plain": "(10000, 39819)"
          },
          "metadata": {}
        }
      ]
    },
    {
      "cell_type": "markdown",
      "source": "## Create model",
      "metadata": {
        "cell_id": "00009-57345ec9-7227-4f77-9797-f7b17ea309aa",
        "deepnote_cell_type": "markdown"
      }
    },
    {
      "cell_type": "code",
      "metadata": {
        "cell_id": "00010-9e3ed3f7-c3f3-40f2-bb62-ec4694c1a49a",
        "deepnote_to_be_reexecuted": false,
        "source_hash": "9357fe67",
        "execution_start": 1615136859879,
        "execution_millis": 0,
        "deepnote_cell_type": "code"
      },
      "source": "model = DecisionTreeRegressor(splitter='random', random_state=0) ",
      "execution_count": 8,
      "outputs": []
    },
    {
      "cell_type": "markdown",
      "source": "## Train model",
      "metadata": {
        "cell_id": "00011-613f724d-f7d4-40bf-b206-e8b336c7477e",
        "deepnote_cell_type": "markdown"
      }
    },
    {
      "cell_type": "code",
      "metadata": {
        "cell_id": "00012-0c66d5af-f320-4f2d-add9-4e9bc0ce8d36",
        "deepnote_to_be_reexecuted": false,
        "source_hash": "27d33246",
        "execution_start": 1615136859880,
        "execution_millis": 21414,
        "deepnote_cell_type": "code"
      },
      "source": "model.fit(x_train_enc, y_train)",
      "execution_count": 9,
      "outputs": [
        {
          "output_type": "execute_result",
          "execution_count": 9,
          "data": {
            "text/plain": "DecisionTreeRegressor(random_state=0, splitter='random')"
          },
          "metadata": {}
        }
      ]
    },
    {
      "cell_type": "markdown",
      "source": "## Prediction",
      "metadata": {
        "cell_id": "00013-768c249a-185c-477a-8e42-e136c0cc16b6",
        "deepnote_cell_type": "markdown"
      }
    },
    {
      "cell_type": "code",
      "metadata": {
        "cell_id": "00014-f0f20085-00bd-474d-a7e3-747510f356f5",
        "deepnote_to_be_reexecuted": false,
        "source_hash": "85639e40",
        "execution_start": 1615136881290,
        "execution_millis": 224,
        "deepnote_cell_type": "code"
      },
      "source": "y_val_pred = model.predict(x_val_enc)\ny_val_pred = pd.DataFrame(y_val_pred)",
      "execution_count": 10,
      "outputs": []
    },
    {
      "cell_type": "code",
      "metadata": {
        "cell_id": "00015-ac238bec-44d2-4c6e-ba9c-aa560cbc828b",
        "deepnote_to_be_reexecuted": false,
        "source_hash": "44ba167f",
        "execution_start": 1615136881518,
        "execution_millis": 23,
        "deepnote_cell_type": "code"
      },
      "source": "print('Coefficient of determination: ', r2_score(y_val, y_val_pred))\nprint('explained_variance_score: ', explained_variance_score(y_val, y_val_pred))",
      "execution_count": 11,
      "outputs": [
        {
          "name": "stdout",
          "text": "Coefficient of determination:  -0.05863092965279959\nexplained_variance_score:  -0.001347619024735458\n",
          "output_type": "stream"
        }
      ]
    },
    {
      "cell_type": "code",
      "metadata": {
        "cell_id": "00016-ded7b087-0ead-4733-8a57-4cb90c38dfa0",
        "deepnote_to_be_reexecuted": false,
        "source_hash": "b623e53d",
        "execution_start": 1615136881526,
        "execution_millis": 1,
        "deepnote_cell_type": "code"
      },
      "source": "",
      "execution_count": 11,
      "outputs": []
    },
    {
      "cell_type": "markdown",
      "source": "<a style='text-decoration:none;line-height:16px;display:flex;color:#5B5B62;padding:10px;justify-content:end;' href='https://deepnote.com?utm_source=created-in-deepnote-cell&projectId=e80043e2-6875-4b65-a196-a0ffb97a1282' target=\"_blank\">\n<img style='display:inline;max-height:16px;margin:0px;margin-right:7.5px;' src='data:image/svg+xml;base64,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' > </img>\nCreated in <span style='font-weight:600;margin-left:4px;'>Deepnote</span></a>",
      "metadata": {
        "tags": [],
        "created_in_deepnote_cell": true,
        "deepnote_cell_type": "markdown"
      }
    }
  ],
  "nbformat": 4,
  "nbformat_minor": 4,
  "metadata": {
    "kernelspec": {
      "display_name": "Python 3",
      "language": "python",
      "name": "python3"
    },
    "language_info": {
      "codemirror_mode": {
        "name": "ipython",
        "version": 3
      },
      "file_extension": ".py",
      "mimetype": "text/x-python",
      "name": "python",
      "nbconvert_exporter": "python",
      "pygments_lexer": "ipython3",
      "version": "3.6.9"
    },
    "deepnote_notebook_id": "df6cba75-0af0-44a9-8af6-f8a9741695ad",
    "deepnote": {},
    "deepnote_execution_queue": []
  }
}