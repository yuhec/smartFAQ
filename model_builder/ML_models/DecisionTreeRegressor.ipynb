{
  "cells": [
    {
      "cell_type": "code",
      "metadata": {
        "cell_id": "00000-6ec8ae94-65f0-4204-9f8e-81c3773c9c6a",
        "deepnote_to_be_reexecuted": false,
        "execution_millis": 1414,
        "execution_start": 1615136858082,
        "source_hash": "5dec8f21",
        "deepnote_cell_type": "code"
      },
      "source": "import pandas as pd\nimport pickle\nfrom sklearn.preprocessing import OneHotEncoder\nfrom sklearn.tree import DecisionTreeRegressor\nfrom sklearn.metrics import mean_squared_error, mean_absolute_error, mean_absolute_percentage_error",
      "execution_count": 1,
      "outputs": []
    },
    {
      "cell_type": "markdown",
      "source": "# Load Data",
      "metadata": {
        "cell_id": "00001-ec7ce120-0bc8-4b88-9f6d-17a73f24d57b",
        "deepnote_cell_type": "markdown"
      }
    },
    {
      "cell_type": "code",
      "metadata": {
        "cell_id": "00002-2d63962a-efd5-4d82-ab57-09b27c3d4689",
        "deepnote_to_be_reexecuted": false,
        "execution_millis": 60,
        "execution_start": 1615136859500,
        "source_hash": "4f3b8700",
        "deepnote_cell_type": "code"
      },
      "source": "with open('../../data/x_train.pickle', 'rb') as handle:\n    X_train = pickle.load(handle)\nwith open('../../data/y_train.pickle', 'rb') as handle:\n    y_train = pickle.load(handle)\nwith open('../../data/x_val.pickle', 'rb') as handle:\n    X_val = pickle.load(handle)\nwith open('../../data/y_val.pickle', 'rb') as handle:\n    y_val = pickle.load(handle)",
      "execution_count": 2,
      "outputs": []
    },
    {
      "cell_type": "code",
      "metadata": {
        "cell_id": "00003-8338c292-70b6-4628-b885-99447ef2b61d",
        "deepnote_to_be_reexecuted": false,
        "execution_millis": 18,
        "execution_start": 1615136859575,
        "source_hash": "7c234d23",
        "deepnote_cell_type": "code"
      },
      "source": "X_train.head()",
      "execution_count": 3,
      "outputs": [
        {
          "data": {
            "text/html": "<div>\n<style scoped>\n    .dataframe tbody tr th:only-of-type {\n        vertical-align: middle;\n    }\n\n    .dataframe tbody tr th {\n        vertical-align: top;\n    }\n\n    .dataframe thead th {\n        text-align: right;\n    }\n</style>\n<table border=\"1\" class=\"dataframe\">\n  <thead>\n    <tr style=\"text-align: right;\">\n      <th></th>\n      <th>id</th>\n      <th>question</th>\n      <th>question_body</th>\n      <th>answer</th>\n    </tr>\n  </thead>\n  <tbody>\n    <tr>\n      <th>11331</th>\n      <td>431460</td>\n      <td>Restarting Python Interpreter Quietly</td>\n      <td>I python interpreter embedded inside applicati...</td>\n      <td>One hacky bug prone approach might c module si...</td>\n    </tr>\n    <tr>\n      <th>43118</th>\n      <td>1553478</td>\n      <td>Most efficient way add new keys append old key...</td>\n      <td>Here 's common situation compiling data dictio...</td>\n      <td>Use collections defaultdict default value new ...</td>\n    </tr>\n    <tr>\n      <th>13881</th>\n      <td>514054</td>\n      <td>How split string using Python</td>\n      <td>So string name id I need id I used str split '...</td>\n      <td>Yes delimiter whole string argument passed spl...</td>\n    </tr>\n    <tr>\n      <th>23536</th>\n      <td>855511</td>\n      <td>referenced assignment error python</td>\n      <td>In Python I 'm getting following error Unbound...</td>\n      <td>I think using 'global ' incorrectly See Python...</td>\n    </tr>\n    <tr>\n      <th>33095</th>\n      <td>1187029</td>\n      <td>How I control number formatting python interpr...</td>\n      <td>I often use python interpreter quick numerical...</td>\n      <td>Hm It 's solution come mind How defining subcl...</td>\n    </tr>\n  </tbody>\n</table>\n</div>",
            "text/plain": "            id                                           question  \\\n11331   431460              Restarting Python Interpreter Quietly   \n43118  1553478  Most efficient way add new keys append old key...   \n13881   514054                      How split string using Python   \n23536   855511                 referenced assignment error python   \n33095  1187029  How I control number formatting python interpr...   \n\n                                           question_body  \\\n11331  I python interpreter embedded inside applicati...   \n43118  Here 's common situation compiling data dictio...   \n13881  So string name id I need id I used str split '...   \n23536  In Python I 'm getting following error Unbound...   \n33095  I often use python interpreter quick numerical...   \n\n                                                  answer  \n11331  One hacky bug prone approach might c module si...  \n43118  Use collections defaultdict default value new ...  \n13881  Yes delimiter whole string argument passed spl...  \n23536  I think using 'global ' incorrectly See Python...  \n33095  Hm It 's solution come mind How defining subcl...  "
          },
          "execution_count": 3,
          "metadata": {},
          "output_type": "execute_result"
        }
      ]
    },
    {
      "cell_type": "code",
      "metadata": {
        "cell_id": "00004-e70bed7a-e148-44f2-b3a2-8ef7c822d977",
        "deepnote_to_be_reexecuted": false,
        "execution_millis": 9,
        "execution_start": 1615136859590,
        "source_hash": "38f368cd",
        "deepnote_cell_type": "code"
      },
      "source": "X_train.shape",
      "execution_count": 4,
      "outputs": [
        {
          "data": {
            "text/plain": "(30000, 4)"
          },
          "execution_count": 4,
          "metadata": {},
          "output_type": "execute_result"
        }
      ]
    },
    {
      "cell_type": "markdown",
      "source": "## Encode str with oneHotEncoder",
      "metadata": {
        "cell_id": "00005-ed419977-27d8-4eb3-9e2b-309c860c29f0",
        "deepnote_cell_type": "markdown"
      }
    },
    {
      "cell_type": "code",
      "metadata": {
        "cell_id": "00006-49037e4f-b998-4105-ad1a-ba9134ddc469",
        "deepnote_to_be_reexecuted": false,
        "execution_millis": 0,
        "execution_start": 1615136859639,
        "source_hash": "5961b97a",
        "deepnote_cell_type": "code"
      },
      "source": "enc = OneHotEncoder(handle_unknown='ignore')",
      "execution_count": 5,
      "outputs": []
    },
    {
      "cell_type": "code",
      "metadata": {
        "cell_id": "00007-7061ccad-a5c7-4e85-94d1-2f8a9e3e076e",
        "deepnote_to_be_reexecuted": false,
        "execution_millis": 187,
        "execution_start": 1615136859639,
        "source_hash": "e5c2121f",
        "deepnote_cell_type": "code"
      },
      "source": "x_train_enc = enc.fit_transform(X_train)\nx_val_enc = enc.transform(X_val)",
      "execution_count": 6,
      "outputs": []
    },
    {
      "cell_type": "code",
      "metadata": {
        "cell_id": "00008-aa6e8c38-0836-426c-abc6-f245d9f25869",
        "deepnote_to_be_reexecuted": false,
        "execution_millis": 10,
        "execution_start": 1615136859830,
        "source_hash": "396773ea",
        "deepnote_cell_type": "code"
      },
      "source": "x_train_enc.shape\n# nb col > nb lines ... ",
      "execution_count": 7,
      "outputs": [
        {
          "data": {
            "text/plain": "(30000, 82053)"
          },
          "execution_count": 7,
          "metadata": {},
          "output_type": "execute_result"
        }
      ]
    },
    {
      "cell_type": "markdown",
      "source": "## Create model",
      "metadata": {
        "cell_id": "00009-57345ec9-7227-4f77-9797-f7b17ea309aa",
        "deepnote_cell_type": "markdown"
      }
    },
    {
      "cell_type": "code",
      "metadata": {
        "cell_id": "00010-9e3ed3f7-c3f3-40f2-bb62-ec4694c1a49a",
        "deepnote_to_be_reexecuted": false,
        "execution_millis": 0,
        "execution_start": 1615136859879,
        "source_hash": "9357fe67",
        "deepnote_cell_type": "code"
      },
      "source": "model = DecisionTreeRegressor(\n    criterion='mse', \n    splitter='random', \n    max_depth=1000,\n    max_features=\"auto\",\n    random_state=0\n) ",
      "execution_count": 8,
      "outputs": []
    },
    {
      "cell_type": "markdown",
      "source": "## Train model",
      "metadata": {
        "cell_id": "00011-613f724d-f7d4-40bf-b206-e8b336c7477e",
        "deepnote_cell_type": "markdown"
      }
    },
    {
      "cell_type": "code",
      "metadata": {
        "cell_id": "00012-0c66d5af-f320-4f2d-add9-4e9bc0ce8d36",
        "deepnote_to_be_reexecuted": false,
        "execution_millis": 21414,
        "execution_start": 1615136859880,
        "source_hash": "27d33246",
        "deepnote_cell_type": "code"
      },
      "source": "model.fit(x_train_enc, y_train)",
      "execution_count": 9,
      "outputs": [
        {
          "data": {
            "text/plain": "DecisionTreeRegressor(max_depth=1000, max_features='auto', random_state=0,\n                      splitter='random')"
          },
          "execution_count": 9,
          "metadata": {},
          "output_type": "execute_result"
        }
      ]
    },
    {
      "cell_type": "markdown",
      "source": "## Prediction",
      "metadata": {
        "cell_id": "00013-768c249a-185c-477a-8e42-e136c0cc16b6",
        "deepnote_cell_type": "markdown"
      }
    },
    {
      "cell_type": "code",
      "metadata": {
        "cell_id": "00014-f0f20085-00bd-474d-a7e3-747510f356f5",
        "deepnote_to_be_reexecuted": false,
        "execution_millis": 224,
        "execution_start": 1615136881290,
        "source_hash": "85639e40",
        "deepnote_cell_type": "code"
      },
      "source": "y_val_pred = model.predict(x_val_enc)\ny_val_pred = pd.DataFrame(y_val_pred)",
      "execution_count": 10,
      "outputs": []
    },
    {
      "cell_type": "code",
      "metadata": {
        "cell_id": "00015-ac238bec-44d2-4c6e-ba9c-aa560cbc828b",
        "deepnote_to_be_reexecuted": false,
        "execution_millis": 23,
        "execution_start": 1615136881518,
        "source_hash": "44ba167f",
        "deepnote_cell_type": "code"
      },
      "source": "print('mean_squared_error: ', mean_squared_error(y_val, y_val_pred))\nprint('mean_absolute_error: ', mean_absolute_error(y_val, y_val_pred))\nprint('mean_absolute_percentage_error: ', mean_absolute_percentage_error(y_val, y_val_pred))",
      "execution_count": 11,
      "outputs": [
        {
          "name": "stdout",
          "output_type": "stream",
          "text": "mean_squared_error:  4870.879890253056\nmean_absolute_error:  12.106058315900874\nmean_absolute_percentage_error:  4524096686149616.0\n"
        }
      ]
    },
    {
      "cell_type": "code",
      "metadata": {
        "cell_id": "00016-0702ffdf-a854-48de-812f-45a4b86c9e83",
        "deepnote_cell_type": "code"
      },
      "source": "with open('../../data/decision_tree_model.pickle', 'wb') as handle:\n    pickle.dump(model, handle, protocol=pickle.HIGHEST_PROTOCOL)\nwith open('../../data/decision_tree_enc.pickle', 'wb') as handle:\n    pickle.dump(enc, handle, protocol=pickle.HIGHEST_PROTOCOL)",
      "execution_count": 14,
      "outputs": []
    },
    {
      "cell_type": "code",
      "metadata": {
        "cell_id": "00016-ded7b087-0ead-4733-8a57-4cb90c38dfa0",
        "deepnote_to_be_reexecuted": false,
        "execution_millis": 1,
        "execution_start": 1615136881526,
        "source_hash": "b623e53d",
        "deepnote_cell_type": "code"
      },
      "source": "# © Laëtitia CONSTANTIN 2021",
      "execution_count": 13,
      "outputs": []
    },
    {
      "cell_type": "markdown",
      "source": "<a style='text-decoration:none;line-height:16px;display:flex;color:#5B5B62;padding:10px;justify-content:end;' href='https://deepnote.com?utm_source=created-in-deepnote-cell&projectId=e80043e2-6875-4b65-a196-a0ffb97a1282' target=\"_blank\">\n<img style='display:inline;max-height:16px;margin:0px;margin-right:7.5px;' src='data:image/svg+xml;base64,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' > </img>\nCreated in <span style='font-weight:600;margin-left:4px;'>Deepnote</span></a>",
      "metadata": {
        "tags": [],
        "created_in_deepnote_cell": true,
        "deepnote_cell_type": "markdown"
      }
    }
  ],
  "nbformat": 4,
  "nbformat_minor": 4,
  "metadata": {
    "deepnote": {},
    "deepnote_execution_queue": [],
    "deepnote_notebook_id": "df6cba75-0af0-44a9-8af6-f8a9741695ad",
    "kernelspec": {
      "display_name": "Python 3",
      "language": "python",
      "name": "python3"
    },
    "language_info": {
      "codemirror_mode": {
        "name": "ipython",
        "version": 3
      },
      "file_extension": ".py",
      "mimetype": "text/x-python",
      "name": "python",
      "nbconvert_exporter": "python",
      "pygments_lexer": "ipython3",
      "version": "3.6.9"
    }
  }
}