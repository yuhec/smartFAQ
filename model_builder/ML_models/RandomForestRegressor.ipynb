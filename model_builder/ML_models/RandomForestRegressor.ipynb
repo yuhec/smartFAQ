{
  "cells": [
    {
      "cell_type": "code",
      "metadata": {
        "cell_id": "00000-9a58d884-7a8e-420b-8c28-1e5399ed6c32",
        "deepnote_to_be_reexecuted": false,
        "execution_millis": 0,
        "execution_start": 1615558514057,
        "source_hash": "5f7f6341",
        "tags": [],
        "deepnote_cell_type": "code"
      },
      "source": "import pandas as pd\nimport pickle\nfrom sklearn.ensemble import RandomForestRegressor\nfrom sklearn.metrics import mean_squared_error, mean_absolute_error, mean_absolute_percentage_error\nfrom sklearn.metrics import r2_score",
      "execution_count": 1,
      "outputs": []
    },
    {
      "cell_type": "code",
      "metadata": {
        "cell_id": "00001-e6d35a23-80ea-4db3-9689-56ebb0d0b90b",
        "deepnote_to_be_reexecuted": false,
        "execution_millis": 34,
        "execution_start": 1615557714382,
        "source_hash": "4b51e598",
        "tags": [],
        "deepnote_cell_type": "code"
      },
      "source": "with open('../../data/x_train.pickle', 'rb') as handle:\n    df_X_train = pickle.load(handle)\nwith open('../../data/y_train.pickle', 'rb') as handle:\n    y_train = pickle.load(handle)\nwith open('../../data/x_val.pickle', 'rb') as handle:\n    df_X_val = pickle.load(handle)\nwith open('../../data/y_val.pickle', 'rb') as handle:\n    y_val = pickle.load(handle)",
      "execution_count": 2,
      "outputs": []
    },
    {
      "cell_type": "code",
      "metadata": {
        "cell_id": "00002-61224aa3-8766-4cb8-b571-eea5fed565a2",
        "deepnote_to_be_reexecuted": false,
        "execution_millis": 113,
        "execution_start": 1615557965949,
        "source_hash": "91a022ba",
        "tags": [],
        "deepnote_cell_type": "code"
      },
      "source": "df_X_val",
      "execution_count": 3,
      "outputs": [
        {
          "data": {
            "text/html": "<div>\n<style scoped>\n    .dataframe tbody tr th:only-of-type {\n        vertical-align: middle;\n    }\n\n    .dataframe tbody tr th {\n        vertical-align: top;\n    }\n\n    .dataframe thead th {\n        text-align: right;\n    }\n</style>\n<table border=\"1\" class=\"dataframe\">\n  <thead>\n    <tr style=\"text-align: right;\">\n      <th></th>\n      <th>id</th>\n      <th>question</th>\n      <th>question_body</th>\n      <th>answer</th>\n    </tr>\n  </thead>\n  <tbody>\n    <tr>\n      <th>6619</th>\n      <td>34984200</td>\n      <td>Play audio Python</td>\n      <td>How I play audio would like second sound Pytho...</td>\n      <td>Aaron 's answer appears x complicated necessar...</td>\n    </tr>\n    <tr>\n      <th>15187</th>\n      <td>557148</td>\n      <td>Where I post python code</td>\n      <td>Today I needed parse data xlsx file Office ope...</td>\n      <td>GitHub would also great place post Especially ...</td>\n    </tr>\n    <tr>\n      <th>22670</th>\n      <td>826308</td>\n      <td>How I convert string bytes long integer python</td>\n      <td>I python program I 've inherited trying extend...</td>\n      <td>You convert characters character code ord add ...</td>\n    </tr>\n    <tr>\n      <th>31946</th>\n      <td>1145862</td>\n      <td>Simulating Pointers Python</td>\n      <td>I 'm trying cross compile house language ihl P...</td>\n      <td>This goofy thought Change operations like b am...</td>\n    </tr>\n    <tr>\n      <th>45228</th>\n      <td>8819223</td>\n      <td>locale getlocale problems OSX</td>\n      <td>I need get system locale number things ultimat...</td>\n      <td>Addmittedly horrible hack I inserted import pl...</td>\n    </tr>\n    <tr>\n      <th>...</th>\n      <td>...</td>\n      <td>...</td>\n      <td>...</td>\n      <td>...</td>\n    </tr>\n    <tr>\n      <th>66</th>\n      <td>1479</td>\n      <td>How express binary literals Python</td>\n      <td>How express integer binary number Python liter...</td>\n      <td>I pretty sure one things due change Python per...</td>\n    </tr>\n    <tr>\n      <th>40919</th>\n      <td>1480696</td>\n      <td>submit query aspx page python</td>\n      <td>I need scrape query results aspx web page http...</td>\n      <td>As overview need perform four main tasks submi...</td>\n    </tr>\n    <tr>\n      <th>43783</th>\n      <td>1581937</td>\n      <td>How check task already python Queue</td>\n      <td>I 'm writing simple crawler Python using threa...</td>\n      <td>If n't care order items processed I 'd try sub...</td>\n    </tr>\n    <tr>\n      <th>46801</th>\n      <td>1687179</td>\n      <td>Why str lstrip strips extra character</td>\n      <td>Python trunk M Oct GCC Apple Computer Inc buil...</td>\n      <td>lstrip character based removes characters left...</td>\n    </tr>\n    <tr>\n      <th>7520</th>\n      <td>292502</td>\n      <td>Short Description Scoping Rules</td>\n      <td>What exactly Python scoping rules If I code co...</td>\n      <td>Actually concise rule Python Scope resolution ...</td>\n    </tr>\n  </tbody>\n</table>\n<p>14000 rows × 4 columns</p>\n</div>",
            "text/plain": "             id                                        question  \\\n6619   34984200                               Play audio Python   \n15187    557148                        Where I post python code   \n22670    826308  How I convert string bytes long integer python   \n31946   1145862                      Simulating Pointers Python   \n45228   8819223                   locale getlocale problems OSX   \n...         ...                                             ...   \n66         1479              How express binary literals Python   \n40919   1480696                   submit query aspx page python   \n43783   1581937             How check task already python Queue   \n46801   1687179           Why str lstrip strips extra character   \n7520     292502                 Short Description Scoping Rules   \n\n                                           question_body  \\\n6619   How I play audio would like second sound Pytho...   \n15187  Today I needed parse data xlsx file Office ope...   \n22670  I python program I 've inherited trying extend...   \n31946  I 'm trying cross compile house language ihl P...   \n45228  I need get system locale number things ultimat...   \n...                                                  ...   \n66     How express integer binary number Python liter...   \n40919  I need scrape query results aspx web page http...   \n43783  I 'm writing simple crawler Python using threa...   \n46801  Python trunk M Oct GCC Apple Computer Inc buil...   \n7520   What exactly Python scoping rules If I code co...   \n\n                                                  answer  \n6619   Aaron 's answer appears x complicated necessar...  \n15187  GitHub would also great place post Especially ...  \n22670  You convert characters character code ord add ...  \n31946  This goofy thought Change operations like b am...  \n45228  Addmittedly horrible hack I inserted import pl...  \n...                                                  ...  \n66     I pretty sure one things due change Python per...  \n40919  As overview need perform four main tasks submi...  \n43783  If n't care order items processed I 'd try sub...  \n46801  lstrip character based removes characters left...  \n7520   Actually concise rule Python Scope resolution ...  \n\n[14000 rows x 4 columns]"
          },
          "execution_count": 3,
          "metadata": {},
          "output_type": "execute_result"
        }
      ]
    },
    {
      "cell_type": "markdown",
      "source": "## Split Train/Test",
      "metadata": {
        "cell_id": "00005-b2848e46-815f-497c-8559-31578aeaf34c",
        "tags": [],
        "deepnote_cell_type": "markdown"
      }
    },
    {
      "cell_type": "code",
      "metadata": {
        "cell_id": "00004-999b3e95-f8c4-4246-b7ad-bf359031127b",
        "deepnote_to_be_reexecuted": false,
        "execution_millis": 0,
        "execution_start": 1615558109069,
        "source_hash": "78c5652",
        "tags": [],
        "deepnote_cell_type": "code"
      },
      "source": "X_train = df_X_train['question_body']\nX_val = df_X_val['question_body']",
      "execution_count": 4,
      "outputs": []
    },
    {
      "cell_type": "code",
      "metadata": {
        "cell_id": "00005-430d75f2-c6ff-4b0a-8114-a04b16f0e3d5",
        "deepnote_to_be_reexecuted": false,
        "execution_millis": 27,
        "execution_start": 1615558110296,
        "source_hash": "9febb000",
        "tags": [],
        "deepnote_cell_type": "code"
      },
      "source": "X_val = X_val.values.reshape(-1,1)\nX_val",
      "execution_count": 5,
      "outputs": [
        {
          "data": {
            "text/plain": "array([[\"How I play audio would like second sound Python script It would best platform independent firstly needs work Mac I know I could execute afplay file mp command within Python possible raw Python I would also better n't rely external libraries\"],\n       [\"Today I needed parse data xlsx file Office open XML Spreadsheet I could opened files openoffice exported csv However I need reimport data spreadsheet later I wanted eliminate manual operation I searched net xlsx parser I found stackoverflow question asking thing http stackoverflow com questions parsing generating microsoft office files docx xlsx pptx So I rolled It 's lines code parsing accessing spreadsheet lines code unit tests This course tested file I needed aside 's used unit tests documentation It uses zipfile minidom unittest perfectly portable platform independent Since I n't blog I n't desire turn python library OfficeOpen XML I stuck wondering I post code I solved problem I sure others get future So I want post code public domain somewhere anyone copy paste app adjust fix problem The implementation simple quick overview features workbook Workbook filename open file sheet workbook pass iterate worksheets workbook sheetname access sheet name also possible index sheet A Access cell sheet A Access column sheet Access row cell value Cell value tested ints strings Thanks replies I going hoste activestate page kept crashing sending activation mail So I ca n't activate code post My second choice codeproject I wrote nice article file Sadly page crashes I try submit post So I put github see branch http github com staale python xlsx tree master I n't want work python project hosting 's Accepting git answer thing worked And git rocks Edit Gah lost entire post codeproject I nice writeup Screw I spent time trying share took coding So I calling done part Unless I decide tweak later\"],\n       [\"I python program I 've inherited trying extend I extracted two byte long string string called pS pS st byte x second x decimal value I 've trying get value integer I 've used lines form x int pS fat fingered back read get message ValueError invalid literal int base ' x ' Another C programmer I googling trying get work day Suggestions please\"],\n       ...,\n       [\"I 'm writing simple crawler Python using threading Queue modules I fetch page check links put queue certain thread finished processing page grabs next one queue I 'm using array pages I 've already visited filter links I add queue one threads get links different pages put duplicate links queue So I find whether url already queue avoid putting\"],\n       [\"Python trunk M Oct GCC Apple Computer Inc build darwin Type help copyright credits license information gt gt gt path Volumes Users gt gt gt path lstrip ' Volume ' 's Users ' gt gt gt path lstrip ' Volumes ' 'Users ' gt gt gt I expecting output path lstrip ' Volumes ' Users\"],\n       [\"What exactly Python scoping rules If I code code class Foo code def spam code code code x Where x found Some possible choices include list In enclosing source file In class namespace In function definition In loop index variable Inside loop Also context execution function spam passed somewhere else And maybe lambda functions pass bit differently There must simple reference algorithm somewhere It 's confusing world intermediate Python programmers\"]],\n      dtype=object)"
          },
          "execution_count": 5,
          "metadata": {},
          "output_type": "execute_result"
        }
      ]
    },
    {
      "cell_type": "code",
      "metadata": {
        "cell_id": "00005-f4f040ba-b1e7-4019-bb9e-92bb6a5bfdb1",
        "deepnote_to_be_reexecuted": false,
        "execution_millis": 11,
        "execution_start": 1615558112846,
        "source_hash": "d48ee18b",
        "tags": [],
        "deepnote_cell_type": "code"
      },
      "source": "X_train = X_train.values.reshape(-1, 1)\nX_train",
      "execution_count": 6,
      "outputs": [
        {
          "data": {
            "text/plain": "array([[\"I python interpreter embedded inside application The application takes long time start I ability restart interpreter without restarting whole application What I would like essentially save state interpreter return state easily I started storing names modules sys modules python interpreter started deleting new modules sys modules requested This appears make interpreter prepared import modules even though already imported However n't seem work situations using singleton classes static methods etc I 'd rather embed another interpreter inside interpreter avoided ease able use applications API lost well including slight speed hit I imagine So anyone know way I could store interpreter 's state return cope situations Thanks Dan\"],\n       [\"Here 's common situation compiling data dictionaries different sources Say dictionary stores lists things things I like likes 'colors ' 'blue ' 'red ' 'purple ' 'foods ' 'apples ' 'oranges ' second dictionary related values favorites 'colors ' 'yellow ' 'desserts ' 'ice cream ' You want iterate favorites object either append items object list appropriate key likes dictionary add new key value list containing value favorites There several ways key favorites key likes likes key append favorites key else likes key list favorites key key favorites try likes key append favorites key except KeyError likes key list favorites key And many well I generally use first syntax feels pythonic better ways I 'd love know Thanks\"],\n       [\"So string name id I need id I used str split ' ' n't work Does take single delimiter\"],\n       ...,\n       [\"I n't understand single underscore means Is magic variable I ca n't see locals globals gt gt gt 'abc ' 'abc ' gt gt gt len gt gt gt\"],\n       ['I array timestamps format HH MM SS mmmmmm another array floating point numbers corresponding value timestamp array Can I plot time x axis numbers axis using Matplotlib I trying somehow accepting arrays floats How I get plot time Do I modify format way'],\n       [\"I Tix ComboBox editable text field How I force variable holding value text update Let give concrete explanation I combo box button When I click button pops message box value combo box Let 's say combo box text field currently value thing If I type new box click button mouse pops message thing If I type new box tab focus away combo box click button pop message says new Ho I force combo box update 's value new without requiring I tab away combo box I included sample code import Tix import tkMessageBox class App object def init self window window winfo toplevel wm title test self window window self combo Tix ComboBox window self combo insert Tix END 'thing ' self combo insert Tix END 'thing ' self combo entry 'state ' normal self combo 'editable ' True self combo pack button Tix Button window button 'text ' Go button 'command ' self go button pack def go self tkMessageBox showinfo 'info ' self combo 'value ' name ' main ' root Tix Tk App root root mainloop\"]],\n      dtype=object)"
          },
          "execution_count": 6,
          "metadata": {},
          "output_type": "execute_result"
        }
      ]
    },
    {
      "cell_type": "markdown",
      "source": "## Preproc",
      "metadata": {
        "cell_id": "00005-666d2fb5-9019-4c6b-9908-ff69c89e7158",
        "tags": [],
        "deepnote_cell_type": "markdown"
      }
    },
    {
      "cell_type": "code",
      "metadata": {
        "cell_id": "00006-e8107f01-4fc7-45f4-9e6a-a180d5166c3c",
        "deepnote_to_be_reexecuted": false,
        "execution_millis": 0,
        "execution_start": 1615558354181,
        "source_hash": "abbfcd27",
        "tags": [],
        "deepnote_cell_type": "code"
      },
      "source": "from sklearn.preprocessing import OneHotEncoder\nenc = OneHotEncoder(handle_unknown='ignore')\n\nX_train_onehot = enc.fit_transform(X_train)\nX_val_onehot = enc.transform(X_val)",
      "execution_count": 7,
      "outputs": []
    },
    {
      "cell_type": "code",
      "metadata": {
        "cell_id": "00006-e55c60e1-add8-46b3-9229-3469cc46e07f",
        "deepnote_to_be_reexecuted": false,
        "execution_millis": 12,
        "execution_start": 1615558355441,
        "source_hash": "aed5c39",
        "tags": [],
        "deepnote_cell_type": "code"
      },
      "source": "X_train_onehot.shape",
      "execution_count": 8,
      "outputs": [
        {
          "data": {
            "text/plain": "(30000, 11036)"
          },
          "execution_count": 8,
          "metadata": {},
          "output_type": "execute_result"
        }
      ]
    },
    {
      "cell_type": "code",
      "metadata": {
        "cell_id": "00009-ec8e9f2a-a713-4bf0-b831-eedb144b71c4",
        "deepnote_to_be_reexecuted": false,
        "execution_millis": 9,
        "execution_start": 1615558360487,
        "source_hash": "8d0cf0c7",
        "tags": [],
        "deepnote_cell_type": "code"
      },
      "source": "X_val_onehot.shape",
      "execution_count": 9,
      "outputs": [
        {
          "data": {
            "text/plain": "(14000, 11036)"
          },
          "execution_count": 9,
          "metadata": {},
          "output_type": "execute_result"
        }
      ]
    },
    {
      "cell_type": "markdown",
      "source": "## Create Model",
      "metadata": {
        "cell_id": "00005-80f0eb0e-61b3-4af8-82c3-74a925a397cb",
        "tags": [],
        "deepnote_cell_type": "markdown"
      }
    },
    {
      "cell_type": "code",
      "metadata": {
        "cell_id": "00006-3737ee2b-51fe-4e2c-8b2a-1212a8d3777e",
        "deepnote_to_be_reexecuted": false,
        "execution_millis": 5,
        "execution_start": 1615558362489,
        "source_hash": "d770c8a9",
        "tags": [],
        "deepnote_cell_type": "code"
      },
      "source": "regr = RandomForestRegressor(max_depth=2, random_state=0)\nregr.fit(X_train_onehot, y_train)\ny_pred = regr.predict(X_val_onehot)",
      "execution_count": 10,
      "outputs": []
    },
    {
      "cell_type": "markdown",
      "source": "## Evaluate model",
      "metadata": {
        "cell_id": "00013-7c06450a-af15-4dd8-b17a-ba5e489ca6a8",
        "tags": [],
        "deepnote_cell_type": "markdown"
      }
    },
    {
      "cell_type": "code",
      "metadata": {
        "cell_id": "00015-b2c47b62-30f7-498d-a04b-7e00540c029d",
        "deepnote_to_be_reexecuted": false,
        "execution_millis": 44,
        "execution_start": 1615558532283,
        "source_hash": "47c38446",
        "tags": [],
        "deepnote_cell_type": "code"
      },
      "source": "print('Coefficient of determination: ', r2_score(y_val, y_pred))\nprint('mean_squared_error: ', mean_squared_error(y_val, y_pred))\n\nprint('mean_absolute_error: ', mean_absolute_error(y_val, y_pred))\nprint('mean_absolute_percentage_error: ', mean_absolute_percentage_error(y_val, y_pred))",
      "execution_count": 13,
      "outputs": [
        {
          "name": "stdout",
          "output_type": "stream",
          "text": "Coefficient of determination:  -0.006109286136543268\nmean_squared_error:  4842.657227729736\nmean_absolute_error:  15.814743544861672\nmean_absolute_percentage_error:  1.0023923171614366e+16\n"
        }
      ]
    },
    {
      "cell_type": "code",
      "source": "# © Mouna DAHAMANI 2021",
      "metadata": {
        "tags": [],
        "cell_id": "00015-b539beae-da1e-412b-87a9-638420799cea",
        "deepnote_cell_type": "code"
      },
      "outputs": [],
      "execution_count": null
    },
    {
      "cell_type": "markdown",
      "source": "<a style='text-decoration:none;line-height:16px;display:flex;color:#5B5B62;padding:10px;justify-content:end;' href='https://deepnote.com?utm_source=created-in-deepnote-cell&projectId=e80043e2-6875-4b65-a196-a0ffb97a1282' target=\"_blank\">\n<img style='display:inline;max-height:16px;margin:0px;margin-right:7.5px;' src='data:image/svg+xml;base64,PD94bWwgdmVyc2lvbj0iMS4wIiBlbmNvZGluZz0iVVRGLTgiPz4KPHN2ZyB3aWR0aD0iODBweCIgaGVpZ2h0PSI4MHB4IiB2aWV3Qm94PSIwIDAgODAgODAiIHZlcnNpb249IjEuMSIgeG1sbnM9Imh0dHA6Ly93d3cudzMub3JnLzIwMDAvc3ZnIiB4bWxuczp4bGluaz0iaHR0cDovL3d3dy53My5vcmcvMTk5OS94bGluayI+CiAgICA8IS0tIEdlbmVyYXRvcjogU2tldGNoIDU0LjEgKDc2NDkwKSAtIGh0dHBzOi8vc2tldGNoYXBwLmNvbSAtLT4KICAgIDx0aXRsZT5Hcm91cCAzPC90aXRsZT4KICAgIDxkZXNjPkNyZWF0ZWQgd2l0aCBTa2V0Y2guPC9kZXNjPgogICAgPGcgaWQ9IkxhbmRpbmciIHN0cm9rZT0ibm9uZSIgc3Ryb2tlLXdpZHRoPSIxIiBmaWxsPSJub25lIiBmaWxsLXJ1bGU9ImV2ZW5vZGQiPgogICAgICAgIDxnIGlkPSJBcnRib2FyZCIgdHJhbnNmb3JtPSJ0cmFuc2xhdGUoLTEyMzUuMDAwMDAwLCAtNzkuMDAwMDAwKSI+CiAgICAgICAgICAgIDxnIGlkPSJHcm91cC0zIiB0cmFuc2Zvcm09InRyYW5zbGF0ZSgxMjM1LjAwMDAwMCwgNzkuMDAwMDAwKSI+CiAgICAgICAgICAgICAgICA8cG9seWdvbiBpZD0iUGF0aC0yMCIgZmlsbD0iIzAyNjVCNCIgcG9pbnRzPSIyLjM3NjIzNzYyIDgwIDM4LjA0NzY2NjcgODAgNTcuODIxNzgyMiA3My44MDU3NTkyIDU3LjgyMTc4MjIgMzIuNzU5MjczOSAzOS4xNDAyMjc4IDMxLjY4MzE2ODMiPjwvcG9seWdvbj4KICAgICAgICAgICAgICAgIDxwYXRoIGQ9Ik0zNS4wMDc3MTgsODAgQzQyLjkwNjIwMDcsNzYuNDU0OTM1OCA0Ny41NjQ5MTY3LDcxLjU0MjI2NzEgNDguOTgzODY2LDY1LjI2MTk5MzkgQzUxLjExMjI4OTksNTUuODQxNTg0MiA0MS42NzcxNzk1LDQ5LjIxMjIyODQgMjUuNjIzOTg0Niw0OS4yMTIyMjg0IEMyNS40ODQ5Mjg5LDQ5LjEyNjg0NDggMjkuODI2MTI5Niw0My4yODM4MjQ4IDM4LjY0NzU4NjksMzEuNjgzMTY4MyBMNzIuODcxMjg3MSwzMi41NTQ0MjUgTDY1LjI4MDk3Myw2Ny42NzYzNDIxIEw1MS4xMTIyODk5LDc3LjM3NjE0NCBMMzUuMDA3NzE4LDgwIFoiIGlkPSJQYXRoLTIyIiBmaWxsPSIjMDAyODY4Ij48L3BhdGg+CiAgICAgICAgICAgICAgICA8cGF0aCBkPSJNMCwzNy43MzA0NDA1IEwyNy4xMTQ1MzcsMC4yNTcxMTE0MzYgQzYyLjM3MTUxMjMsLTEuOTkwNzE3MDEgODAsMTAuNTAwMzkyNyA4MCwzNy43MzA0NDA1IEM4MCw2NC45NjA0ODgyIDY0Ljc3NjUwMzgsNzkuMDUwMzQxNCAzNC4zMjk1MTEzLDgwIEM0Ny4wNTUzNDg5LDc3LjU2NzA4MDggNTMuNDE4MjY3Nyw3MC4zMTM2MTAzIDUzLjQxODI2NzcsNTguMjM5NTg4NSBDNTMuNDE4MjY3Nyw0MC4xMjg1NTU3IDM2LjMwMzk1NDQsMzcuNzMwNDQwNSAyNS4yMjc0MTcsMzcuNzMwNDQwNSBDMTcuODQzMDU4NiwzNy43MzA0NDA1IDkuNDMzOTE5NjYsMzcuNzMwNDQwNSAwLDM3LjczMDQ0MDUgWiIgaWQ9IlBhdGgtMTkiIGZpbGw9IiMzNzkzRUYiPjwvcGF0aD4KICAgICAgICAgICAgPC9nPgogICAgICAgIDwvZz4KICAgIDwvZz4KPC9zdmc+' > </img>\nCreated in <span style='font-weight:600;margin-left:4px;'>Deepnote</span></a>",
      "metadata": {
        "tags": [],
        "created_in_deepnote_cell": true,
        "deepnote_cell_type": "markdown"
      }
    }
  ],
  "nbformat": 4,
  "nbformat_minor": 2,
  "metadata": {
    "deepnote": {},
    "deepnote_execution_queue": [],
    "deepnote_notebook_id": "a8ae3cee-4e70-46e4-8657-83f0da8c8844",
    "kernelspec": {
      "display_name": "Python 3",
      "language": "python",
      "name": "python3"
    },
    "language_info": {
      "codemirror_mode": {
        "name": "ipython",
        "version": 3
      },
      "file_extension": ".py",
      "mimetype": "text/x-python",
      "name": "python",
      "nbconvert_exporter": "python",
      "pygments_lexer": "ipython3",
      "version": "3.6.9"
    }
  }
}