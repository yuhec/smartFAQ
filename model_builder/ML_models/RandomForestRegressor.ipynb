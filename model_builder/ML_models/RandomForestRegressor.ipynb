{
  "cells": [
    {
      "cell_type": "code",
      "metadata": {
        "tags": [],
        "cell_id": "00000-9a58d884-7a8e-420b-8c28-1e5399ed6c32",
        "deepnote_to_be_reexecuted": false,
        "source_hash": "5f7f6341",
        "execution_millis": 0,
        "execution_start": 1615558514057,
        "deepnote_cell_type": "code"
      },
      "source": "import pandas as pd\nimport pickle\nfrom sklearn.ensemble import RandomForestRegressor\nfrom sklearn.model_selection import train_test_split\nfrom sklearn.metrics import mean_squared_error\nfrom sklearn.preprocessing import OneHotEncoder\nfrom sklearn.metrics import r2_score\nfrom sklearn.metrics import mean_squared_error",
      "execution_count": 127,
      "outputs": []
    },
    {
      "cell_type": "code",
      "metadata": {
        "tags": [],
        "cell_id": "00001-e6d35a23-80ea-4db3-9689-56ebb0d0b90b",
        "deepnote_to_be_reexecuted": false,
        "source_hash": "4b51e598",
        "execution_millis": 34,
        "execution_start": 1615557714382,
        "deepnote_cell_type": "code"
      },
      "source": "with open('../../data/x_train.pickle', 'rb') as handle:\n    df_X_train = pickle.load(handle)\nwith open('../../data/y_train.pickle', 'rb') as handle:\n    y_train = pickle.load(handle)\nwith open('../../data/x_val.pickle', 'rb') as handle:\n    df_X_val = pickle.load(handle)\nwith open('../../data/y_val.pickle', 'rb') as handle:\n    y_val = pickle.load(handle)",
      "execution_count": 65,
      "outputs": []
    },
    {
      "cell_type": "code",
      "metadata": {
        "tags": [],
        "cell_id": "00002-61224aa3-8766-4cb8-b571-eea5fed565a2",
        "deepnote_to_be_reexecuted": false,
        "source_hash": "91a022ba",
        "execution_millis": 113,
        "execution_start": 1615557965949,
        "deepnote_cell_type": "code"
      },
      "source": "df_X_val",
      "execution_count": 79,
      "outputs": [
        {
          "output_type": "execute_result",
          "execution_count": 79,
          "data": {
            "application/vnd.deepnote.dataframe.v2+json": {
              "row_count": 10000,
              "column_count": 4,
              "columns": [
                {
                  "name": "id",
                  "dtype": "int64",
                  "stats": {
                    "unique_count": 10000,
                    "nan_count": 0,
                    "min": 4978,
                    "max": 40136593,
                    "histogram": [
                      {
                        "bin_start": 4978,
                        "bin_end": 4018139.5,
                        "count": 935
                      },
                      {
                        "bin_start": 4018139.5,
                        "bin_end": 8031301,
                        "count": 830
                      },
                      {
                        "bin_start": 8031301,
                        "bin_end": 12044462.5,
                        "count": 883
                      },
                      {
                        "bin_start": 12044462.5,
                        "bin_end": 16057624,
                        "count": 822
                      },
                      {
                        "bin_start": 16057624,
                        "bin_end": 20070785.5,
                        "count": 971
                      },
                      {
                        "bin_start": 20070785.5,
                        "bin_end": 24083947,
                        "count": 946
                      },
                      {
                        "bin_start": 24083947,
                        "bin_end": 28097108.5,
                        "count": 998
                      },
                      {
                        "bin_start": 28097108.5,
                        "bin_end": 32110270,
                        "count": 1079
                      },
                      {
                        "bin_start": 32110270,
                        "bin_end": 36123431.5,
                        "count": 1276
                      },
                      {
                        "bin_start": 36123431.5,
                        "bin_end": 40136593,
                        "count": 1260
                      }
                    ]
                  }
                },
                {
                  "name": "question",
                  "dtype": "object",
                  "stats": {
                    "unique_count": 9899,
                    "nan_count": 0,
                    "categories": [
                      {
                        "name": "How I perform HTML decoding encoding using Python Django",
                        "count": 3
                      },
                      {
                        "name": "Change signs elements matrix rows contain least one negative element",
                        "count": 3
                      },
                      {
                        "name": "9897 others",
                        "count": 9994
                      }
                    ]
                  }
                },
                {
                  "name": "question_body",
                  "dtype": "object",
                  "stats": {
                    "unique_count": 9900,
                    "nan_count": 0,
                    "categories": [
                      {
                        "name": "I string html encoded amp lt img class amp quot size medium wp image amp quot style amp quot margin left px amp quot title amp quot su amp quot src amp quot http blah org wp content uploads su x jpg amp quot alt amp quot amp quot width amp quot amp quot height amp quot amp quot amp gt I want change lt img class size medium wp image style margin left px title su src http blah org wp content uploads su x jpg alt width height gt I want register HTML rendered image browser instead displayed text I 've found C Python Can someone help Thanks Edit Someone asked strings stored like It 's I using web scraping tool scans web page gets certain content The tool BeautifulSoup returns string format Related Convert XML HTML Entities Unicode String Python",
                        "count": 3
                      },
                      {
                        "name": "I want check rows matrix contain least one negative element If change signs elements matrix Here attempt way changes sign negative elements matrix range len matrix j range len matrix matrix j lt print matrix j",
                        "count": 3
                      },
                      {
                        "name": "9898 others",
                        "count": 9994
                      }
                    ]
                  }
                },
                {
                  "name": "answer",
                  "dtype": "object",
                  "stats": {
                    "unique_count": 9999,
                    "nan_count": 0,
                    "categories": [
                      {
                        "name": "This link explains Python Freeze utility detail http wiki python org moin Freeze In nutshell creates portable version python script carries built interpreter basically like binary executable run machines without python",
                        "count": 2
                      },
                      {
                        "name": "Tkinter import class Application Frame def init self master None Frame init self master self pack self createWidgets def createWidgets self sv StringVar sv trace w lambda name index mode sv sv self entryUpdateEndHour sv self endHourEntry Entry self textvariable sv self endHourEntry pack print x x dir self endHourEntry 'set ' x def entryUpdateEndHour self sv digits filter str isdigit sv get sv set ' ' format digits digits digits self endHourEntry icursor END root Tk app Application master root app mainloop Issue cursor always go end I good idea",
                        "count": 1
                      },
                      {
                        "name": "9997 others",
                        "count": 9997
                      }
                    ]
                  }
                },
                {
                  "name": "_deepnote_index_column",
                  "dtype": "int64"
                }
              ],
              "rows_top": [
                {
                  "id": 17215239,
                  "question": "Tkinter Format Text Entry",
                  "question_body": "Formatting Text Time Format user Types I 'm trying format text standard time format Tk Entry textbox user types numbers I understand Tkinter easiest best optimized framework format text user types I 've managed get far Tkinter import class Application Frame def init self master None Frame init self master self pack self createWidgets def createWidgets self sv StringVar sv trace w lambda name index mode sv sv self entryUpdateEndHour sv endHourEntry Entry self textvariable sv endHourEntry pack def entryUpdateEndHour self sv global x x sv get ' ' x sv get ' ' z sv get sv set z root Tk app Application master root app mainloop This prints exactly I want live formatting bad For example typing two numbers I get textbox skips every rd number I type since replaces I would grateful someone work arounds solutions answer Thanks advance",
                  "answer": "Tkinter import class Application Frame def init self master None Frame init self master self pack self createWidgets def createWidgets self sv StringVar sv trace w lambda name index mode sv sv self entryUpdateEndHour sv self endHourEntry Entry self textvariable sv self endHourEntry pack print x x dir self endHourEntry 'set ' x def entryUpdateEndHour self sv digits filter str isdigit sv get sv set ' ' format digits digits digits self endHourEntry icursor END root Tk app Application master root app mainloop Issue cursor always go end I good idea",
                  "_deepnote_index_column": 402052
                },
                {
                  "id": 34956474,
                  "question": "Turning single argument function generator function",
                  "question_body": "In David Beazley 's talk generators shows create generator function single argument function thus def generate func def gen func item yield func item return gen func illustrates math sqrt gen sqrt generate math sqrt x gen sqrt xrange print x So gen sum generate sum x gen sum print x produce TypeError Traceback recent call last lt ipython input ef f bbfc gt lt module gt gen sum generate sum gt x gen sum print x lt ipython input c ba c gt gen func def generate func def gen func closure gt item yield func item return gen func TypeError 'int ' object iterable Is accurate say function single argument function necessary insufficient condition approach work And necessary condition single argument must single item sequence",
                  "answer": "generate generator version map map lambda x x range It takes input range applies function element range generate n't return list It yields result transformation Now take look example What would first result sum But sum expects list integer hence error message",
                  "_deepnote_index_column": 840653
                },
                {
                  "id": 38346428,
                  "question": "Binary search Python list",
                  "question_body": "I trying perform binary search list python List created using command line arguments User inputs number wants look array returned index element For reason program outputs None Code Any help extremely appreciated import sys def search list target min max len list avg min max min lt max list avg target return avg elif list avg lt target return search list avg target else return search list avg target print The location number array avg The command line argument create list strings This list used numeric comparisions This list converted list ints def main number input Please enter number want search array index int number list x sys argv list append int x print The list search list print search list index name ' main ' main CL Anuvrats MacBook Air Python anuvrattiku python binary search py Please enter number want search array The list search Anuvrats MacBook Air Python anuvrattiku",
                  "answer": "In Python Python use bisect written comments Replace search following bisect import bisect left def search alist item 'Locate leftmost value exactly equal item ' bisect left alist item len alist alist item return raise ValueError alist x alist sort bisect works sorted lists print index x prints position sorted list Also AS SortedCollection Python recipe could useful The following code performs binary search returns position item found def binarySearch alist item first last len alist found False first lt last found pos midpoint first last alist midpoint item pos midpoint found True else item lt alist midpoint last midpoint else first midpoint return pos found Will return True used example",
                  "_deepnote_index_column": 936066
                },
                {
                  "id": 15792990,
                  "question": "opencv python Multi Threading Video Capture",
                  "question_body": "I trying read Video Files show separate Windows Simultaneously This code import threading import cv threadLock threading Lock class myThread threading Thread maxRetries def init self threadID name video url threading Thread init self self threadID threadID self name name self video url video url def attemptRead self cvVideo threadLock acquire isRead cvImage cvVideo read threadLock release isRead False count isRead False count lt myThread maxRetries threadLock acquire isRead cvImage cvVideo read threadLock release print self name ' try ' count count return isRead cvImage def run self print Starting self name windowName self name cv namedWindow windowName cvVideo cv VideoCapture self video url True isRead cvImage self attemptRead cvVideo isRead False break cv imshow windowName cvImage key cv waitKey key break cv destroyWindow windowName print self name Exiting def main thread myThread Thread ' C Traffic Pics Videos Panjim Capture mp ' thread myThread Thread ' C Traffic Pics Videos Miramar Capture mp ' thread start thread start print Exiting Main Thread name ' main ' main What 's happening Thread Window showing Thread exits attempting read video beyond max retries limit case The problem although I create separate cvVideo objects I ca n't seem use simultaneously What could problem",
                  "answer": "edit I 'll leave code I guess codec problem I installed xvid codec sample Megamind avi encoded program works fine either threads running megamind video Can get megamind video run single threaded version Here SO post opencv video codecs case helps Here xvid download I used k lite n't work The code wrote basically works For anyone else wants try I following applied PEP recommendations removed unnecessary read attempt code also removes misleading thread read warnings last frame working video used video file perhaps everyone opencv removed thread locking n't seem matter opencv least system moved little things around There may errors come VideoCapture read would make read attempt method worthwhile I could find two errors docs mention For returns false code already tests import os import threading import cv opencv path C opencv video path os path join opencv path samples cpp tutorial code HighGUI video input psnr ssim video Megamind avi video path os path join opencv path samples c tree avi assert os path isfile video path assert os path isfile video path class MyThread threading Thread maxRetries def init self thread id name video url thread lock threading Thread init self self thread id thread id self name name self video url video url self thread lock thread lock def run self print Starting self name window name self name cv namedWindow window name video cv VideoCapture self video url True self thread lock acquire These n't seem necessary got frame image video read self thread lock release got frame error video source last frame finished break cv imshow window name image key cv waitKey key break cv destroyWindow window name print self name Exiting def main thread lock threading Lock thread MyThread Thread video path thread lock thread MyThread Thread video path thread lock thread start thread start print Exiting Main Thread name ' main ' main",
                  "_deepnote_index_column": 370840
                },
                {
                  "id": 12984221,
                  "question": "How I run python script file UNIX",
                  "question_body": "Basically I want make file called doPython file I want command python myFile py data txt I 've tried Googling making scripts I ca n't seem get work It says No file directory I try usr bin env python python myFile py data txt",
                  "answer": "usr bin env python says script run Python interpreter You need call sh bash bin sh python myFile py data txt",
                  "_deepnote_index_column": 311412
                },
                {
                  "id": 7719145,
                  "question": "I problems setting django pagination",
                  "question_body": "I 'm making template Django site 's quote database I wan na Digg like pagination Altough author application made pagination unfortunately without page numering previous next links So I 've installed django pagination I ca n't use site I 'm completly new Django even programming I 'm simple webdesigner OK go There original script https bitbucket org fleg fqdb The first thing problem template context processors My settings py n't section I added exactly like django pagination documentation When I run site I get error Put 'django contrib auth context processors auth ' TEMPLATE CONTEXT PROCESSORS setting order use admin application So I order A second problem template I use exactly like screencast extends fqdb base html load pagination tags block title title endblock block content lt h gt title lt h gt quotes autopaginate quotes quote quotes include 'fqdb quote body html ' endfor paginate else lt p gt Brak cytat w lt p gt endif endblock But I get Template error Caught KeyError rendering request But Seriously I n't know 's wrong code There paginated view quote list It work without pagination I n't think 's problem maybe def list paged request page order title reverse name hash get ip hash request lista Quote objects filter accepted True order order returnDict 'quotes ' lista 'title ' title 'hash ' hash 'sidebar ' get sidebar return render response 'fqdb quote list html ' 'quotes ' get quotes quotes context instance RequestContext request I modified paginating 's django pagination task You find original view Bitbucket Maybe know better pagination solutions",
                  "answer": "It looks like need add django contrib auth context processors auth django core context processors request context processors TEMPLATE CONTEXT PROCESSORS setting Before defined TEMPLATE CONTEXT PROCESSORS django would used default It looks code requires auth processor hence first error message The KeyError looks require request processor Try following settings file TEMPLATE CONTEXT PROCESSORS django contrib auth context processors auth django core context processors debug django core context processors n django core context processors media django core context processors static django contrib messages context processors messages django core context processors request I 've used default list given Django request context docs added request processor commented ones n't seem need The order template context processors usually matter long define overlapping variable names",
                  "_deepnote_index_column": 196902
                },
                {
                  "id": 39510154,
                  "question": "Can access custom method Odoo Qweb report template",
                  "question_body": "I 'm starting Odoo Qweb Report I followed tutorial create first custom report http blog emiprotechnologies com create qweb report odoo parser class import time openerp osv import osv openerp report import report sxw class sale quotation report report sxw rml parse def init self cr uid name context super sale quotation report self init cr uid name context context self localcontext update 'time ' time 'get total ' self get total def get total self lines field total line lines total line product uom qty return total class report saleorderqweb osv AbstractModel name 'sale report sale custom report qweb ' inherit 'report abstract report ' template 'sale report sale custom report qweb ' wrapped report class sale quotation report Report View lt xml version encoding utf gt lt openerp gt lt data gt lt template id sale custom report qweb gt lt call report html container gt lt foreach docs gt lt div class page gt lt div class oe structure gt lt div class row gt lt table style font name 'Helvetica ' width gt lt tr colspan style font size px font weight bold gt lt td align center gt lt strong gt lt p field partner id name gt lt strong gt lt td gt lt tr gt lt tr colspan style font size px gt lt td align center gt QUOTE NO lt strong gt lt span field name gt lt strong gt QUOTE DATE lt strong gt lt span field date order gt lt strong gt SALES PERSON lt span field user id partner id name gt lt td gt lt tr gt lt table gt lt div gt lt br gt lt table class table condensed style font size px gt lt thead gt lt tr style border bottom px solid black gt lt th gt lt strong gt Name lt strong gt lt th gt lt th gt lt strong gt Qty lt strong gt lt th gt lt tr gt lt thead gt lt tbody gt lt tr foreach order line line style border bottom px solid black gt lt td gt lt span field line product id name gt lt td gt lt td gt lt span field line product uom qty gt lt td gt lt tr gt lt tr gt lt td gt lt td gt lt Print total product uom qty gt lt strong gt lt span esc get total order line gt lt strong gt lt td gt lt tr gt lt tbody gt lt table gt lt div gt lt gt lt gt lt template gt lt data gt lt openerp gt When I print report throws error File home user workspace lcdv trunk server openerp tools safe eval py line safe eval return eval c globals dict locals dict File line lt module gt QWebException 'NoneType ' object callable evaluating 'get total order line '",
                  "answer": "Check indentation get total part sale quotation report class throw following error message QWebException get total takes exactly arguments given evaluating 'get total order line ' You calculate total QWEB lt tbody gt lt First line gt lt set 'total ' value ' ' gt lt tr foreach order line line style border bottom px solid black gt lt td gt lt span field line product id name gt lt td gt lt td gt lt span field line product uom qty gt lt td gt lt Second line gt lt set 'total ' value 'total line product uom qty ' gt lt tr gt lt tr gt lt td gt lt td gt lt Print total product uom qty gt lt strong gt lt Third line gt lt span esc total gt lt strong gt lt td gt lt tr gt lt tbody gt I know 's late answer I hope someone find helpful",
                  "_deepnote_index_column": 654349
                },
                {
                  "id": 7477890,
                  "question": "using asymptote program completion",
                  "question_body": "This question could answered language agnostic fashion I using python fyi I running infinite loop needs terminate last minute lt new objects discovered Eg True newobjs dig objects obj less newobjs discovered last minute break EDIT The question How I implement line less newobjs discovered last minute",
                  "answer": "Here 's rough stab depending nature dig objects may need adjust condition import time results True mark time time newobjs dig objects obj elapsed time time mark results append newobjs elapsed count threshhold objs elapsed results count len objs dig objects returns one time threshhold elapsed threshhold gt count lt break",
                  "_deepnote_index_column": 191753
                },
                {
                  "id": 8311376,
                  "question": "How count number files directory using Python",
                  "question_body": "I need count number files directory using Python I guess easiest way len glob glob ' ' also counts directory file Is way count files directory",
                  "answer": "import os path dirs files os walk usr lib next file count len files",
                  "_deepnote_index_column": 74858
                },
                {
                  "id": 22767719,
                  "question": "Python pymysql Select Where query returning boolean desired value",
                  "question_body": "I using pymysql Python access database MySQLdb yet available newer releases python This query cur db cursor cur execute SELECT ingredientID FROM Ingredients WHERE ingredientName onions However instead returning ingredientID boolean returned stating recipe found I worked mySQL php issue occur past Thanks advance suggestions",
                  "answer": "You need somehow fetch result query cur db cursor cur execute SELECT ingredientID FROM Ingredients WHERE ingredientName onions print cur fetchone Fetch one row print cur fetchall Fetch rows",
                  "_deepnote_index_column": 531126
                },
                {
                  "id": 38699304,
                  "question": "Create XML file Python using minidom one parented element",
                  "question_body": "I 'm currently attempting create double parented XML file within Python using minidom however I 'm struggling get work struggling I mean 's I 'm trying create something like lt xml version gt lt twitter gt lt account gt lt name gt Triple J lt name gt lt handle gt triplejplays lt handle gt lt format gt artist title time lt format gt lt account gt lt account gt lt name gt BBC Radio lt name gt lt handle gt BBCR MusicBot lt handle gt lt format gt Now Playing artist title lt format gt lt account gt lt twitter gt Using code def createXML Define document xmlFile Document Create base element baseElement xmlFile createElement twitter Create account element accountElement xmlFile createElement account Append account element base element baseElement appendChild accountElement Create elements content account nameElement xmlFile createElement name nameContent xmlFile createTextNode Triple J nameContent appendChild nameElement nameElement appendChild accountElement handleElement xmlFile createElement handle handleContent xmlFile createTextNode triplejplays handleContent appendChild handleElement handleElement appendChild accountElement formatElement xmlFile createElement format formatContent xmlFile createTextNode artist title time formatContent appendChild formatElement formatElement appendChild formatElement print doc toxml encoding 'utf ' createXML But I get error Text nodes children Is way make work Thanks advance",
                  "answer": "Instead e g nameContent appendChild nameElement need e g nameElement appendChild nameContent need append text node create element node created earlier",
                  "_deepnote_index_column": 945858
                },
                {
                  "id": 11161629,
                  "question": "Can Import Python Package",
                  "question_body": "I trouble importing python packages running python cmdline console However using pydev everything seems work fine I following filesystem MarketData Parser Parser py init py IO init py MarketSocket py Currently Parser IO defined python packages init py files although code Parser init py file I trying run following line code MarketSocket py Parser import Parser Which import module 'Parser ' within package 'Parser ' however I get following error ImportError No Module Named Parser Any help would appreciated This work according similar issues stackOverflow odd reason n't",
                  "answer": "MarketSocket py directory IO Therefore possible find package Parser The best way resolve relative imports Parser import Parser But might work start script like python MarketSocket py To use would also add init py MarketData directory If n't work extend sys path like import sys sys path append ' ' With addition Python searches also paths want If I I would also think restructuring project In opinion executables time top working tree also like Python works",
                  "_deepnote_index_column": 271355
                },
                {
                  "id": 5408685,
                  "question": "How read make sense PHP serialised data string python",
                  "question_body": "A legacy database I 'm accessing via Django table column stores serialised data following string format Is way I use python python library change list friendly python data type processing individual values Note These values written database via PHP",
                  "answer": "phpserialize port serialize unserialize functions php python This module implements python serialization interface eg provides dumps loads similar functions",
                  "_deepnote_index_column": 146270
                },
                {
                  "id": 29769548,
                  "question": "Get registered algorithms jwt",
                  "question_body": "I want know algorithm already registered python JWT app throws error trying twice I tried register ES runtime workaround exception thrown upgrading PyJWT like jwt register algorithm ALGO ES ECAlgorithm ECAlgorithm SHA This works perfectly Now I call script happens got Exception I register twice I thought evaluating already registered values registering new one found algorithms contained jwt api jwt global obj How I access global object I 'd like something like ALGO ES jwt api jwt global obj jwt register algorithm ALGO ES ECAlgorithm ECAlgorithm SHA But keeps telling find referece api",
                  "answer": "In cases algorithm already registered key E g cryptography module installed You unregister existing algorithm first make sure uses old one everytime jwt api import jwt global obj jwt contrib algorithms py ecdsa import ECAlgorithm ALGO ES jwt global obj algorithms jwt unregister algorithm ALGO ES jwt register algorithm ALGO ES ECAlgorithm ECAlgorithm SHA",
                  "_deepnote_index_column": 699223
                },
                {
                  "id": 38862698,
                  "question": "XML creation Dictionary Python",
                  "question_body": "I quite new XML well Python please overlook I trying unpack dictionary straight XML format My Code Fragment follows xml dom minidom import Document def make xml dictionary doc Document result doc createElement 'result ' doc appendChild result key dictionary attrib doc createElement key result appendChild attrib value doc createTextNode dictionary key attrib appendChild value print doc I expected answer format lt xml gt lt result gt lt attrib gt value lt attrib gt However I getting lt xml dom minidom Document instance x BE gt Please help",
                  "answer": "You always use library like xmler easily takes python dictionary converts xml Full disclosure I created package I feel like probably need Also feel free take look source",
                  "_deepnote_index_column": 169207
                },
                {
                  "id": 24263773,
                  "question": "Enabling Beaker SessionMiddleware Bottle Google App Engine",
                  "question_body": "I trying use beaker session handling bottle based GAE app The problem I need run app app session opts 'session type ' 'ext google ' 'session auto ' True app beaker middleware SessionMiddleware bottle app session opts call bottle run app app I ca n't says example bottle app Note We n't need call run since application embedded within App Engine WSGI application server So question I run server beaker session middleware",
                  "answer": "Okay I found cause problem thanks getting think Gianni Basically I url script main bottle means GAE treats bottle variable main py app So I instead bottle import app route hook session opts 'session type ' 'ext google ' 'session auto ' True bottle beaker middleware SessionMiddleware app session opts It worked treat Guess 'll teach reading app engine docs enough",
                  "_deepnote_index_column": 564665
                },
                {
                  "id": 13151884,
                  "question": "Django foreign key object image template",
                  "question_body": "Ok I know thousand people asked I looked site success also google models py VENUE IMAGE PATH os path join 'images ' 'venue profiles Y ' class Venue models Model name models CharField max length address models CharField max length city models CharField max length class VenueImage models Model venue models ForeignKey Venue related name venue image models ImageField upload VENUE IMAGE PATH max length Here views py def list request venues Venue objects images VenueImage objects return render response 'venues list html ' 'venues ' venues 'images ' images context instance RequestContext request template v venues lt href ' ' gt v name lt gt lt href url edit v id style position relative left px gt edit lt gt images lt img class 'venue image ' src 'images venue profiles images url ' alt `` gt endif endfor Now I tried images images url images url MEDIA URL images venue profiles Y image url I also tried images url endfor I also tried without 'images venue profiles ' prefix nothing seems work Can someone please help see I wrong",
                  "answer": "In models py class Venue models Model name models CharField max length images models ForeignKey VenueImage class VenueImage models Model image models ImageField upload VENUE IMAGE PATH In views py def list request venues Venue objects return render request 'venues list html ' 'venues ' venues ' In template venue venues lt href ' ' gt venue name lt gt image venue images lt img class 'venue image ' src `` image url ' alt `` gt endfor endfor",
                  "_deepnote_index_column": 315217
                },
                {
                  "id": 11792553,
                  "question": "Best way full Python install cygwin XP",
                  "question_body": "Pythons installed WinXP dirs like DLLs DOC include etc python installed cygwin bare python exe My motivation asking 'things ' XP n't seem finding 'other things ' cygwin vice versa I want start developing Qt I like shells I like MS I thought I got components one roof I could finally start scripts find executables could find files Can I simply copy contents XP installation cygwin tree Is XP flavor Python different cygwin flavor Same CPU pointed naively Someone must work full fledged snakes feathers Python within cygwin done Disclaimer I never compiled anything XP cygwin hoped go hence python first place Disclaimer sorry ServerFault question seemed system people case lowly desktop",
                  "answer": "I accidentally stumbled If I launch Cygwin Cygwin bat file present directly main folder I get access Python version installed Cygwin e If I instead launch Cygwin bash exe bin directory C Cygwin bin bash exe running Python V shows I access version Python installed Windows So I guess",
                  "_deepnote_index_column": 31459
                },
                {
                  "id": 24023485,
                  "question": "prompt input user using variable",
                  "question_body": "Is possible recall continue exit variable else following code continue exit input 'Would like continue exit ' continue exit 'continue ' task word lines clueslistl clueslists clues elif continue exit 'exit ' quit else If another way preferably without need function",
                  "answer": "You could use loop instead statements True continue exit input 'Would like continue exit ' continue exit 'continue ' task word lines clueslistl clueslists clues elif continue exit 'exit ' break else print Input recognized please try n quit This keep looping asking input user chooses exit although untested",
                  "_deepnote_index_column": 559373
                },
                {
                  "id": 327612,
                  "question": "Suggestion implement text Menu without switch case",
                  "question_body": "I 'm giving first steps Python I saw n't switch case statement I would guys implement text Menu python Thanks",
                  "answer": "Generally elif fine lots cases please consider using dict actions doSomething doSomethingElse actions get n doDefaultThing",
                  "_deepnote_index_column": 8546
                },
                {
                  "id": 6611628,
                  "question": "Running py file browser",
                  "question_body": "I want run python file browser I installed apache configured httd conf file I created test py file I tried running test py browser typing htt localhost test py When I I get following error Internal Server Error The server encountered internal error misconfiguration unable complete request Please contact server administrator lohith pinto primefocusworld com inform time error occurred anything might done may caused error More information error may available server error log In error log Thu Jul error client OS The system find file specified could n't create child process test py Thu Jul error client OS The system find file specified could n't spawn child process C Program Files x Apache Software Foundation Apache htdocs test py What could problem",
                  "answer": "I would change url likely one first instance ie http localhost test py rather one quoted htt localhost test py",
                  "_deepnote_index_column": 172892
                },
                {
                  "id": 36377725,
                  "question": "Python remove duplicates multi dimensional array",
                  "question_body": "In Python numpy unique remove duplicates D array efficiently How remove duplicate rows columns D array How nD arrays",
                  "answer": "The numpy indexed package solves problem n dimensional case disclaimer I author Infact solving problem motivation starting package grown include lot related functionality import numpy indexed npi np random randint print npi unique print npi unique axis print npi unique axis",
                  "_deepnote_index_column": 335619
                },
                {
                  "id": 7558849,
                  "question": "wsgi processing unicode characters post",
                  "question_body": "python raw ' C BE C A C B C B ' string wsgi post data raw uni raw replace ' ' r ' x ' raw uni gives ' xC xBE xC xA xC xB xC xB ' print raw uni gives ' xC xBE xC xA xC xB xC xB ' uni unicode raw uni 'utf ' uni gives u ' xC xBE xC xA xC xB xC xB xC xA g ' print uni gives xC xBE xC xA xC xB xC xB xC xA g However I change raw uni raw uni ' xC xBE xC xA xC xB xC xB ' uni unicode raw uni 'utf ' uni gives u ' xfe xe xf xf ' print uni gives I want I get rid extra ' ' raw uni take advantage fact 's repr version string More point unicode raw uni 'utf ' use repr version string thanks",
                  "answer": "You using urllib unquote manual replace gt gt gt import urllib gt gt gt raw ' C BE C A C B C B ' gt gt gt urllib unquote raw ' xc xbe xc xa xc xb xc xb ' gt gt gt unicode urllib unquote raw 'utf ' u ' xfe xe xf xf ' The underlying issue fundamental misunderstanding hex escapes The repr non printable character expressed hex escape looks like single backslash followed ' x ' followed two hex characters This also would type characters string literal still single character Your replace line turn original string hex escapes replaces ' ' literal backslash character followed ' x ' Consider following examples gt gt gt len ' xC ' hex escape one character gt gt gt len r ' xC ' four characters ' ' ' x ' ' C ' ' ' gt gt gt r ' xC ' ' xC ' raw strings escape backslashes True If reason ca n't use urllib unquote following work raw uni sub ' w ' lambda chr int group raw",
                  "_deepnote_index_column": 193445
                },
                {
                  "id": 20329606,
                  "question": "What difference dict items dict iteritems",
                  "question_body": "Are applicable differences dict items dict iteritems From Python docs dict items Return copy dictionary list key value pairs dict iteritems Return iterator dictionary key value pairs If I run code seems return reference object Are subtle differences I missing usr bin python 'one ' 'two ' 'three ' print 'd items ' k v items k v print ' tthey object ' else print ' tthey different ' print 'd iteritems ' k v iteritems k v print ' tthey object ' else print ' tthey different ' Output items object object object iteritems object object object",
                  "answer": "In Py x The commands dict items dict keys dict values return copy dictionary 's list k v pair keys values This could take lot memory copied list large The commands dict iteritems dict iterkeys dict itervalues return iterator dictionary k v pair keys values The commands dict viewitems dict viewkeys dict viewvalues return view objects reflect dictionary 's changes I e del item add k v pair dictionary view object automatically change time python gt gt gt 'one ' 'two ' gt gt gt type items lt type 'list ' gt gt gt gt type keys lt type 'list ' gt gt gt gt gt gt gt gt gt gt type iteritems lt type 'dictionary itemiterator ' gt gt gt gt type iterkeys lt type 'dictionary keyiterator ' gt gt gt gt gt gt gt gt gt gt type viewitems lt type 'dict items ' gt gt gt gt type viewkeys lt type 'dict keys ' gt While Py x In Py x things clean since dict items dict keys dict values available return view objects dict viewitems Py x But Just lvc noted view object n't iterator want return iterator Py x could use iter dictview python gt gt gt 'one ' ' ' 'two ' ' ' gt gt gt type items lt class 'dict items ' gt gt gt gt gt gt gt type keys lt class 'dict keys ' gt gt gt gt gt gt gt gt gt gt ii iter items gt gt gt type ii lt class 'dict itemiterator ' gt gt gt gt gt gt gt ik iter keys gt gt gt type ik lt class 'dict keyiterator ' gt",
                  "_deepnote_index_column": 255712
                },
                {
                  "id": 18307609,
                  "question": "Loading large arrays file numpy slower list appending Where bottle neck",
                  "question_body": "I large data dat file I loading list numpy array The file contains columns values last column multiplier number times value loaded array Thus loading second sub loop needs ran take account This done make total file size smaller getting well Gb cases I testing numpy pre allocated zeros arrays vs appending simply list found appending faster Although numerous postings case Where bottle neck True startTime time clock Numpy way load data dataAry np zeros TotalSamples multiColAry np loadtxt filename skiprows usecols columNum lastColLoc latestLoc range multiColAry shape curData multiColAry timesBeenHere int multiColAry j range timesBeenHere dataAry latestLoc curData latestLoc endTime time clock totalTime endTime startTime seconds totalTimeString timeString totalTime True Old string parsing directly version startTime time clock totalAccepted f open filename ' r ' dataAry line 'asdf ' line `` line f readline line `` dataLineCols line split dataValue float dataLineCols columNum timesBeenHere float dataLineCols j range int timesBeenHere totalAccepted dataAry append dataValue f close endTime time clock totalTime endTime startTime seconds totalTimeString timeString totalTime Thanks comments suggestions",
                  "answer": "I believe replace loop numpy repeat multiColAry multiColAry make pretty big difference Also numpy arrays generally index array j k instead array j k case results cases latter actually give wrong result In either case former faster Lastly element wise operations loops discouraged programming numpy Instead array wise vectorized code encouraged In paradigm express program operations arrays instead operations elements Numpy optimized kind programing I know unfamiliar people coming lower level languages like C Java 's similar scientific programing languages like Matlab IDL",
                  "_deepnote_index_column": 427042
                },
                {
                  "id": 39865328,
                  "question": "Merging rows pandas",
                  "question_body": "Say I dataframe looks something like Line VarA VarB Something abc Something def Something ghi Something jkl Something mno Something pqr Something stu Something vwx How I turn dataframe something looks like VarA VarB Something abcghimnostu Something defjklpqrvwx",
                  "answer": "You groupby sum print df groupby 'VarA ' 'VarB ' sum VarA something abcghimnostu something defjklpqrvwx Name VarB dtype object",
                  "_deepnote_index_column": 979063
                },
                {
                  "id": 29095120,
                  "question": "Find integer nearest neighbour dict",
                  "question_body": "I dict takes integer keys I would like able take nearest neighbour asking return return return Is pythonic way I imagine done looping dict 's probably elegant solution Same question double index integers well b b b b b b I would like able get b b e nearest neighboor D plane",
                  "answer": "Here come one pythonic solution rely mainly map filter operations class NeirestSearchDictionnary D dict An extended dictionnary returns value nearest requested key As 's key distance defined simple number values trying add keys throw error def init self Constructor dictionnary It allow initialze empty dict dict init self def keyDistance self key key returns distance dic keys return abs key key def setitem self key value override addition couple dict type checking isinstance key int isinstance key float raise TypeError The key type self must simple numerical value else dict setitem self key value def getitem self key Override getting item operation compute minial distance minimalDistance min map lambda x self keyDistance key x self keys get list key minimize distance resultSetKeys filter lambda x self keyDistance key x lt minimalDistance self keys return values binded keys minimizing distances return list map lambda x dict getitem self x resultSetKeys name main dic NeirestSearchDictionnary D dic dic dic dic print entire dict dic print dic ' ' dic print dic ' ' dic Obviously extends D dimension little work",
                  "_deepnote_index_column": 681425
                },
                {
                  "id": 31079164,
                  "question": "How conditionally make python 's argparse module require additional arguments",
                  "question_body": "Basic intended usage framework create Project title path project OR framework create Project title ie use current working directory OR framework update ie update framework rather creating new project I know I make name optional providing default reality name optional provided user entered create first argument Best solution I 've come use default value name argument name equals default value throw error But 's way make argparse work I 'd rather learn Writing two scripts framework create framework update n't appeal aesthetically usr bin env python import argparse import os import shutil subprocess import call template path usr local klibs template parser argparse ArgumentParser MY FRAMEWORK CLI description 'Creates new MY FRAMEWORK project updates MY FRAMEWORK ' parser add argument 'action ' choices 'create ' 'update ' type str help ' lt help text gt ' parser add argument 'name ' type str help ' lt help text gt ' parser add argument 'path ' default os getcwd nargs type str help ' lt help text gt ' args parser parse args args action create create stuff args action update update stuff",
                  "answer": "The best way subparser An example docs gt gt gt parser argparse ArgumentParser gt gt gt subparsers parser add subparsers title 'subcommands ' description 'valid subcommands ' help 'additional help ' gt gt gt subparsers add parser 'foo ' gt gt gt subparsers add parser 'bar ' gt gt gt parser parse args ' h ' usage h foo bar optional arguments h help show help message exit subcommands valid subcommands foo bar additional help In case would create update separate subparsers Example def create args create stuff print args def update args update stuff print args parser argparse ArgumentParser subparsers parser add subparsers title 'subcommands ' description 'valid subcommands ' help 'additional help ' create parser subparsers add parser 'create ' create parser add argument 'name ' type str create parser set defaults func create update parser subparsers add parser 'update ' update parser set defaults func update",
                  "_deepnote_index_column": 734578
                },
                {
                  "id": 21856623,
                  "question": "How check float string",
                  "question_body": "I list consists irregular words float numbers I 'd like delete float numbers list first I need find way detect I know str isdigit discriminate numbers ca n't work float numbers How My code like list 'fun ' ' ' ' ' 'cool ' ' ' 'go ' 'foo ' ' ' list isdigit True list pop Ca n't work isdigit returns False",
                  "answer": "As I understand OP function remove floats If integers stay consider solution def float x try return int float x lt float x except ValueError return False list 'fun ' ' ' 'cool ' ' ' 'go ' 'foo ' ' ' list int 'fun ' ' ' 'cool ' ' ' 'go ' 'foo ' ' ' ' ' print item item list float item print item item list int float item Output 'fun ' 'cool ' 'go ' 'foo ' 'fun ' 'cool ' 'go ' 'foo ' ' '",
                  "_deepnote_index_column": 509062
                },
                {
                  "id": 6195797,
                  "question": "Why I get thread error",
                  "question_body": "I code import urllib import thread def workers silva urllib urlopen 'http en dilandau eu download music said whale ' str ' html ' si silva read 'var playlist ' si print break thread start new thread workers print ' ' I get error Unhandled exception thread started lt function workers x B FDD gt Does anyone know I get error",
                  "answer": "You 're assigning function defaults local function The exception may UnboundLocalError local variable ' ' referenced assignment",
                  "_deepnote_index_column": 163951
                },
                {
                  "id": 20652567,
                  "question": "How extract files names read written python script without executing script",
                  "question_body": "I want analyse collection python files These files project read file write file Now certain files run running file since takes output previous file input I want visualize dependancies To I would like extract input file name output file name given file without executing file How best accomplish task To get concrete I python files statements base dir os path join ' bla bla infiles ' file open os path join base dir 'input json ' file open os path join base dir 'output json ' ' w ' I need scan file get variables ones seem file names print evaluated values thank help",
                  "answer": "You simply import files question read variables put functionality function make sure nothing run use main directive able execute shell import os import sys base dir os path join ' bla bla infiles ' def hest args print args name main hest sys argv import python script access base dir function hest run If run script shell hest run To make even prettier wrap class I think",
                  "_deepnote_index_column": 481611
                },
                {
                  "id": 28973263,
                  "question": "Large select query hangs using Python unixODBC connecting SQL Server",
                  "question_body": "We run number large select queries SQL Server CentOS boxes On two servers using pretty bland select statement rate data returned SQL Server starts fast slowing receiving bursts data every seconds On two servers query runs consistently finishes less minutes The configuration boxes unixODBC msodbcsql exactly Example code causing problem import datetime import pyodbc db connection string ' lt connection string info gt ' print datetime datetime 'Connecting db ' db connection pyodbc connect db connection string autocommit True print datetime datetime ' connected ' cursor db connection cursor try sql statement 'SELECT data FROM table ' num print datetime datetime 'Iterating cursor ' row cursor execute sql statement num num print datetime datetime num print datetime datetime num print datetime datetime ' iteration completed ' finally cursor close db connection close This uses unixODBC msodbc The servers CentOS Python We tried Monitoring system resources spikes memory CPU usage except data processed strace process also shows changes data processed SQL Server Python server seem hanging waiting something Monitoring network traffic also shows spikes packages dropped errors scp sftp'ing files servers servers problem Connecting different database type query issues Rewriting code Java running issues problem servers ran fine good servers Any ideas help track issue would appreciated",
                  "answer": "The issue appears driver interactions SQL Server playing well CentOS Changing driver settings preventing queries hanging although results still returned x faster best performing server compared others The lesson seems weird driver interactions probably come trying use combination MS Linux systems",
                  "_deepnote_index_column": 678225
                },
                {
                  "id": 14968629,
                  "question": "trac windows authentication",
                  "question_body": "I wish use trac defect tracking windows nice integration svn also windows I got installed winpy version using python able get standalone server running however I idea configure logins As per instructions I created passwords file md encrypted passwords referenced I ran standalone server Any ideas get running authentication Thanks",
                  "answer": "One easiest ways manage accounts using AccountManager plugin On fresh Trac install 's set Run trac admin path projenv permission add anonymous TRAC ADMIN command give admin privileges Install plugin Create new admin account graphically Give admin account TRAC ADMIN permissions Log using admin account Revoke TRAC ADMIN permission anonymous account Create user accounts needed The website plugin lists additional information examples regarding install configure",
                  "_deepnote_index_column": 353830
                },
                {
                  "id": 36437149,
                  "question": "Python dictionary vague key search",
                  "question_body": "I wondering 's way I vague key search python dictionary For example I dictionary like data Google com value StackOverFlow value I string name Google name google even name gooogle I want access value whose key Google com dictionary I I know I iterate keys list string processing I multiple names I wan na vague search 's gon na O n right Is efficient way Suppose data dictionary large Hope question clear",
                  "answer": "If want fuzzy searching 'll effectively come hashing algorithm Or create variant dictionary override getitem associated methods Here example jellyfish import soundex data soundex 'google ' 'google com ' soundex 'stackoverflow ' 'stackoverflow com ' print data soundex 'gooooogle ' Should print google com soundex pretty much ignores vowels Or alternative jellyfish import soundex class SoundexDict dict init repr left exercise reader def getitem self key return super getitem soundex key def setitem self key value super setitem soundex key value mydict SoundexDict mydict 'google ' 'google com ' print mydict 'gewgle ' prints 'google com '",
                  "_deepnote_index_column": 883474
                },
                {
                  "id": 12877829,
                  "question": "Counting vowels string using recursion",
                  "question_body": "I understand recursion function calls however I ca n't figure exactly get function call self get desired results I need simply count vowels string given function def recVowelCount 'return number vowels using recursive computation ' vowelcount vowels aEiou lower vowels vowelcount else I came end thanks insight def recVowelCount 'return number vowels using recursive computation ' vowels aeiouAEIOU return elif vowels return recVowelCount else return recVowelCount",
                  "answer": "Try 's simple solution def recVowelCount return return 'aeiouAEIOU ' else recVowelCount It takes account case vowels either uppercase lowercase It might efficient way traverse recursively string recursive call creates new sliced string 's easy understand Base case string empty zero vowels Recursive step first character vowel add solution otherwise add Either way advance recursion removing first character continue traversing rest string The second step eventually reduce string zero length therefore ending recursion Alternatively procedure implemented using tail recursion makes difference regarding performance given CPython n't implement tail recursion elimination def recVowelCount def loop acc return acc return loop 'aeiouAEIOU ' else acc loop Just fun remove restriction solution recursive I 'd solve def iterVowelCount vowels frozenset 'aeiouAEIOU ' return sum c c vowels Anyway works recVowelCount 'murcielago ' gt iterVowelCount 'murcielago ' gt",
                  "_deepnote_index_column": 309214
                },
                {
                  "id": 1492746,
                  "question": "How shutdown cherrypy within",
                  "question_body": "I developing cherrypy I start python script For better development I wonder correct way stop cherrypy within main process outside ctrl c SIGTERM I assume I register callback function main application able stop cherrypy main process worker thread But I stop main process within",
                  "answer": "import sys class MyCherryPyApplication object def default self sys exit default exposed True cherrypy quickstart MyCherryPyApplication Putting sys exit request handler exits whole server I would expected terminates current thread terminates whole server That 's I wanted",
                  "_deepnote_index_column": 41314
                },
                {
                  "id": 19228714,
                  "question": "Find ordered vector numpy array",
                  "question_body": "I need find vector numpy array For example I np array named e I want find vector e meaning I would like index vector inside matrix apparently programm see vector even present The code I use built e following import numpy np faces np array e np zeros k range len faces faces k faces k b faces k faces k c faces k faces k faces k faces k e k np array b c print ' e ' e clue solve",
                  "answer": "Try e np e np array axis Brief explanation e np array returns array e np axis returns Boolean array True False otherwise things become False Finally slice e To get index 's may multiple sub vector np argwhere np e array axis",
                  "_deepnote_index_column": 447150
                },
                {
                  "id": 24254106,
                  "question": "searching google images python",
                  "question_body": "usr bin env python import urllib import mechanize bs import BeautifulSoup urlparse import urlparse def getPic search search search replace try browser mechanize Browser browser set handle robots False browser addheaders 'User Agent ' 'Mozilla ' htmltext browser open https www google com search site amp tbm isch amp source hp amp biw amp bih amp q search amp oq search img url formatted images soup BeautifulSoup htmltext results soup findAll r results try imgres imgurl r 'href ' img url append r 'href ' except im img url refer url urlparse str img url return refer url query split amp replace imgurl return formatted images except print error print getPic occupy wall street Instead getting link image output I 'm getting output Can someone figure 's problem code",
                  "answer": "Google sends imgres imgurl browser JavaScript mechanize Browser like browser without JavaScript Turn JavaScript browser see HTML send Google",
                  "_deepnote_index_column": 564506
                },
                {
                  "id": 10803166,
                  "question": "Comparing two large files",
                  "question_body": "I need write program write file difference two files The program loop MB file lines check grep returns true another file write result onto another file I wrote quick test records took hour 'm guessing approach could take hours Do recommendations make faster Any particular language use I planning bash python Thanks lot advance EDIT Sorry say difference two files mean diff The result file different format The logic bit like File A lines File B million lines I pick current line read FILE A grep FILE B line present File B write result file By way File A File B different formats Result file format File A EDIT I asked work create bash solution ideally n't install python machines run This curent implementation bin bash LAST TTP ls ltr TTP txt tail awk ' print ' LAST EXP ls ltr SSMT tail awk ' print ' read r line MATCH grep line LAST EXP echo line line match MATCH empty z MATCH echo MATCH gt gt result fi done lt LAST TTP This bash approach taking hours complete Do suggestions make efficient bash Thanks lot advance",
                  "answer": "I would consider comm command It faster grep work sorted data grep always linear search comm lt sort file lt sort file",
                  "_deepnote_index_column": 263147
                },
                {
                  "id": 36489183,
                  "question": "Convert list tuple add tuple list python",
                  "question_body": "Hi I want output add sizes 'hello ' 'world ' gt 'hello ' 'world ' I 'm getting add sizes 'hello ' 'world ' gt 'hello ' 'hello ' 'helloworld ' My code def add sizes strings strings x c enumerate list x append c l str `` join l append print Any suggestion would appreciated thanks",
                  "answer": "Someone already gave complete solution I 'll post mine def add sizes strings l string strings l append string len string return l def add sizes strings return len strings",
                  "_deepnote_index_column": 884877
                },
                {
                  "id": 5864723,
                  "question": "Reverse string Python two characters time Network byte order",
                  "question_body": "Say string ABCDEFGH And want reverse becomes GHEFCDAB What would efficient pythonic solution I 've tried different things look horrible Thanks advance Update In case anyone 's interested n't homework I script processing data network capture returning string hex bytes The problem data still network order Due way app written I n't want go back try use say socket htons I wanted reverse string Unfortunately attempts seemed hideous I knew must better way pythonic solution hence question",
                  "answer": "If anybody interested timing answers EDIT got wrong first time import timeit import struct string ABCDEFGH Expected resutlt gt GHEFCDAB def rev new x range len new x x return new def rev return join reversed range len def rev return join map str add def rev return join map join reversed zip iter def rev n len fmt ' dh ' n return struct pack fmt reversed struct unpack fmt def rev return join x x x range len print Greg Hewgill f timeit Timer rev string main import rev string timeit print gnibbler f timeit Timer rev string main import rev string timeit print gnibbler second f timeit Timer rev string main import rev string timeit print Alok f timeit Timer rev string main import rev struct string timeit print elliot f timeit Timer rev string main import rev struct string timeit print f timeit Timer rev string main import rev string timeit results string ABCDEFGH Greg Hewgill gnibbler gnibbler second Alok elliot results string ABCDEFGH Greg Hewgill gnibbler gnibbler second Alok elliot results string ABCDEFGH Greg Hewgill gnibbler gnibbler second Alok elliot results string ABCDEFGH Greg Hewgill gnibbler gnibbler second Alok elliot Sorry Lacrymology could make 's work",
                  "_deepnote_index_column": 156689
                },
                {
                  "id": 30629004,
                  "question": "Intersections values two dictionaries python",
                  "question_body": "I csv file contains trade data countries The data format follows rep par commodity value USA GER USA GER USA GER USA GER USA GER GER USA GER USA GER USA GER USA GER UK UK USA UK USA UK GER UK GER I intend make new dictionary using created dictionary calculate total value common traded commodities countries For example consider trade USA GER I intend check whether GER USA data exists values common commodities summed countries The dictionary like Dic c c producs 'USA ' 'GER ' ' ' ' ' ' ' ' ' ' ' ' ' ' ' ' ' ' ' ' ' 'GER ' 'USA ' ' ' ' ' ' ' ' ' ' ' ' ' ' ' ' ' 'GER ' 'UK ' ' ' ' ' 'UK ' 'USA ' ' ' ' ' ' ' ' ' 'UK ' 'GER ' ' ' ' ' ' ' ' ' As see USA GER GER USA commodities common value goods For pairs USA UK UK USA common commodities total trade well For GER UK UK GER commodity common total trade At end I want something like Dic c c summation 'USA ' 'GER ' 'GER ' 'UK ' 'UK ' 'USA ' Any help would appreciated In addition post I written following lines collections import defaultdict rfile csv reader open filepath ' r ' rfile next dic c c products defaultdict set dic c products country set row rfile c row c row p row country add c country dic c products set rfile csv reader open filepath rfile next rfile c c p v dic c products c add p v dic c c products key c c dic c c products c c set dic c c products c c add p v else dic c c products c c add p v c list dic c products keys dic c c productsummation set dic c c products keys dic c c products key p v dic c c products p v dic c c products p p summation v v dic c c productsum keys dic c c productsum p summation else dic c c productsum add p summation else dic c c productsn",
                  "answer": "save data file called data import pandas pd data pd read csv 'data ' delim whitespace True data 'par rep ' data apply lambda x ' ' join sorted x 'par ' x 'rep ' axis result data groupby 'par rep ' 'commodity ' filter lambda x len x gt groupby 'par rep ' 'value ' sum dict end result 'GER UK ' 'GER USA '",
                  "_deepnote_index_column": 722416
                },
                {
                  "id": 21356963,
                  "question": "Moving column around python",
                  "question_body": "never used python school unit think learn cypher text break thanks help gotten brute force attack transosition work want try next instead trying possible grid sizes also want try different column variations well ICBKAOREMDERAEAA code breaker crack hand set x grid I C B K A O R E M D E R A E A A achieve code ICBKAOREMDERAEAA range len range n't include upper bound rows x x x range len print ' n ' join rows columns list zip rows print columns want try every column combination would also try C B K I O R E A D E R M E A A A would move front column back etc would need add code complete task Thanks guys",
                  "answer": "Use string slicing get separate lists import math encoded txt ICBKAOREMDERAEAA GRIDSIZE int math sqrt len encoded txt columns encoded txt GRIDSIZE range GRIDSIZE gt gt gt columns 'IAMA ' 'CODE ' 'BREA ' 'KERA ' Then use itertools find permutations gt gt gt import itertools gt gt gt permutation itertools permutations columns print `` join permutation IAMACODEBREAKERA IAMACODEKERABREA IAMABREACODEKERA IAMABREAKERACODE IAMAKERACODEBREA IAMAKERABREACODE CODEIAMABREAKERA CODEIAMAKERABREA CODEBREAIAMAKERA CODEBREAKERAIAMA CODEKERAIAMABREA CODEKERABREAIAMA BREAIAMACODEKERA BREAIAMAKERACODE BREACODEIAMAKERA BREACODEKERAIAMA BREAKERAIAMACODE BREAKERACODEIAMA KERAIAMACODEBREA KERAIAMABREACODE KERACODEIAMABREA KERACODEBREAIAMA KERABREAIAMACODE KERABREACODEIAMA Now want get permutations still column order I 'd write new bit code def orderedpermutations lst copy import copy possibly deepcopy unnecessary implementation new list copy lst range len new list new list append new list pop yield new list Then use generator permutation orderedpermutations columns print permutation",
                  "_deepnote_index_column": 498005
                },
                {
                  "id": 20252488,
                  "question": "django output empty csv",
                  "question_body": "I 'm using django I 'm trying export CSV data list csv file Below csv py coding utf django http import HttpResponse django template import loader Context demo views import CSV data def output request filename response HttpResponse mimetype 'text csv ' response 'Content Disposition ' 'attachment filename csv ' filename loader get template 'csv txt ' c Context 'data ' CSV data response write render c return response CSV data variable views py I tried print template value ok u ' ' ' ' ' ' ' ' ' ' ' ' ' ' ' ' ' ' ' ' ' ' ' ' ' ' ' ' ' ' ' ' ' ' ' ' ' ' ' ' ' ' ' ' ' ' ' ' ' ' ' ' However generated csv always empty I tried add CSV data definition csv py file like coding utf django http import HttpResponse django template import loader Context CSV data u ' ' ' ' ' ' ' ' ' ' ' ' ' ' ' ' ' ' ' ' ' ' ' ' ' ' ' ' ' ' ' ' ' ' ' ' ' ' ' ' ' ' ' ' ' ' ' ' ' ' ' ' def output request filename response HttpResponse mimetype 'text csv ' response 'Content Disposition ' 'attachment filename csv ' filename loader get template 'csv txt ' c Context 'data ' CSV data response write render c return response Then output csv empty So I guess 's something wrong import CSV data views py The problem I 've tested CSV data value views correct So could go wrong UPDATE original code views py like CSV data def part usage result request details omit usageDictWeek helper getResultByWeek modelName spareCode start end returns list CSV data usageDictWeek I change CSV data def part usage result request details omit usageDictWeek helper getResultByWeek modelName spareCode start end returns list usageDictWeek CSV data append Now content csv correct Still n't know happens",
                  "answer": "try keyword content type instead mimetype",
                  "_deepnote_index_column": 472322
                },
                {
                  "id": 22888928,
                  "question": "Best way split every nth string element merge array",
                  "question_body": "Sorry vague title 's hard explain concisely Basically imagine I list Python looks like ' ' ' b ' ' c nd ' ' e ' ' f ng ' ' h ' ' ' From I want get ' ' ' b ' ' c ' 'd ' ' e ' ' f ' ' g ' ' h ' ' ' One way I thinking using reduce like reduce lambda x x split ' n ' lst But I n't think efficient since n't take advantage fact know every nth element separator Any suggestions Edit background array constructed may problem I text form Ignorable line Field name Field name Field name Field name Value Value Value Value Value Value Value Value Where arbitrary amount field names always equal number values field names line Note new lines values We know separated ' ' So could Value This long value extends multiple lines Value Value How I currently split ' n ' get field names string values string Then splitting values ' ' get list form I originally mentioned",
                  "answer": "You ' n ' join lst split get nd list In timeit reduce lambda x x split ' n ' lst loops best per loop In timeit ' n ' join lst split loops best per loop Thanks Joran Beasley suggesting split split ' n ' Edit Now I see updated question I think avoid getting situation beginning see using In L findall ' ' `` join ' ' item ' ' item count ' ' else item item S split ' n ' ' ' In zip L range number fields Out 'Field name ' 'Field name ' 'Field name ' 'Field name ' 'Value ' 'Value ' 'Value ' 'Value ' 'Value ' 'This longvalue extends multiplelines ' 'Value ' 'Value ' Looks like dataset SAS initially I right",
                  "_deepnote_index_column": 534207
                },
                {
                  "id": 36874034,
                  "question": "python str index time complexity",
                  "question_body": "For finding position substring inside string naive algorithm take O n time However using efficient algorithms eg KMP algorithm achieved O n time 'saurabh ' w 'au ' def get table j append append lt len w w w j append j j else append j return def get word get table j j lt len w j j j len w return j else j gt j j j j else return name ' main ' print get word However 'saurabh ' index 'ra ' internally uses efficient algorithm compute O n uses naive algorithm complexity O n",
                  "answer": "Sometimes get quick answer trying gt gt gt timeit timeit ' x index ra ' setup ' x ra ' gt gt gt timeit timeit ' x index ra ' setup ' x ra ' gt gt gt timeit timeit ' x index ra ' setup ' x ra ' gt gt gt timeit timeit ' x index ra ' setup ' x ra ' gt gt gt timeit timeit ' x index ra ' setup ' x ra '",
                  "_deepnote_index_column": 895630
                },
                {
                  "id": 35404911,
                  "question": "Converting pandas series string list leaves brackets string",
                  "question_body": "I series generated dataframe groupby getting unique values I want end list string values unit group df groupby 'Unit ' unit list unit group 'Unit ' unique unit list series index Unit Unit UnitA UnitA UnitB UnitB What want end unit list 'UnitA ' 'UnitB ' Using tolist many forms gives unit list ' 'UnitA ' ' ' 'UnitB ' ' I could strip brackets 'd like know 'm getting wrong values first place",
                  "answer": "There many ways could use itertools chain iterable Say use 've using create series uniques import pandas pd df pd DataFrame ' ' ' b ' uniques df b groupby df unique Then make single flattened list import itertools list itertools chain iterable uniques values",
                  "_deepnote_index_column": 853704
                },
                {
                  "id": 3399159,
                  "question": "Modify bound variables closure Python",
                  "question_body": "Is way modify bound value one variables inside closure Look example understand better def foo var var b def closure x return var var b x return closure localClosure foo Local closure return x localClosure DO SOME MAGIC HERE TO TURN var closure magic Is even possible Local closure return x b localClosure",
                  "answer": "We 've done following I think 's simpler solutions class State pass def foo st State st var st var b def closure x return st var st var b x def set st var return closure set localClosure localSetA foo Local closure return x localClosure DO SOME MAGIC HERE TO TURN var closure localSetA Local closure return x b localClosure print b",
                  "_deepnote_index_column": 10309
                },
                {
                  "id": 39767656,
                  "question": "Looping slice copy list",
                  "question_body": "I trying understand difference looping list looping slice copy list So example following list element whose length greater appended beginning list words 'cat ' 'window ' 'blahblah ' word words len word gt words insert word print words words 'blahblah ' 'cat ' 'window ' 'blahblah ' I run following see correct way interpreter freezes I exit Why happen I simply appending something start list allowed since lists mutable word words len word gt words insert word Could someone please help understand last bit stops program",
                  "answer": "words means new copy words length fixed So iterating fixed list But second situation iterating extending list makes infinity words 'cat ' 'window ' 'blahblah ' new words words len gt print new words",
                  "_deepnote_index_column": 976143
                },
                {
                  "id": 11450280,
                  "question": "BeautifulSoup fails parsing hits unescaped bracket",
                  "question_body": "I 'm trouble loading page literal unescaped email tag lt html gt lt head gt lt title gt Testing lt title gt lt head gt lt body gt lt p gt Testing testing lt p gt lt p gt This email address lt joe somewhere com gt lt p gt lt body gt lt html gt Parsing fails hits block File tools oss packages x rhel python lib python HTMLParser py line error raise HTMLParseError message self getpos HTMLParseError malformed start tag line column I ca n't believe I 'm first one hit I ca n't immediately find help useful documentation Am I missing something obvious Thanks Paul",
                  "answer": "This common issue BeautifulSoup It n't handle malformed tags since uses regex detect tags Try lxml python It worth considering similar BeautifulSoup http lxml de elementsoup html PS Updating BeautifulSoup also might help",
                  "_deepnote_index_column": 278148
                },
                {
                  "id": 9740075,
                  "question": "Python Small Change Huge File",
                  "question_body": "This theoretical question I n't actual problem I got wondering If I huge file say many gigs long I wanted change single byte I knew offset byte could I efficiently Is way without rewriting entire file writing single byte I 'm seeing anything Python file api would let write particular offset file",
                  "answer": "Here good tutorial might want http diveintopython ep io files html read 'seek ' method find byte want The link talks cautions need take",
                  "_deepnote_index_column": 239695
                },
                {
                  "id": 26567757,
                  "question": "Unable freeze application vispy scipy use",
                  "question_body": "I application I added module plots data using vispy scipy Delaunay It works fine I run within Python x Windows interpreter frozen using cx freeze It give error message simply run quietly Here cx freeze script buildOptions dict packages 'osgeo gdal ' 'scipy sparse csgraph validation ' import sys base 'Win GUI ' sys platform 'win ' else None executables Executable 'main py ' base base targetName 'myApp exe ' icon 'ico myApp ico ' setup name 'MyApp ' version ' ' description 'My fancy app ' author 'xxxx xxxx xxx ' options dict build exe buildOptions executables executables I add 'scipy sparse csgraph validation ' fix previous missing inclusion suggested scipy py exe Looking DLL issues I already attempted Dependency Walker without luck If I comment module vispy plot everything works fine Any hint",
                  "answer": "I attempted freeze module problem adding main QApplication display QWigdet vispy app canvas This helped I got useful backtrace error related vispy app backends pyside After explicitly adding posted cx freeze script frozen application works packages 'osgeo gdal ' 'vispy app backends pyside ' 'scipy sparse csgraph validation ' The difference I found build directory presence QtOpenGL dll PySide QtOpenGL pyd They without explicit package inclusion application already using PySide",
                  "_deepnote_index_column": 617659
                },
                {
                  "id": 2401650,
                  "question": "open file w mode IOError Errno No file directory",
                  "question_body": "When I try open file write mode following code packetFile open mol dir dir dir file w Gives following error IOError Errno No file directory 'dir dir dir file mol ' The w mode create file n't exist right So error ever occur",
                  "answer": "Since n't 'starting ' slash python script looking file relative current working directory root filesystem Also note directories leading file must exist And use os path join combine elements path e g os path join dir dir dir myfile ext",
                  "_deepnote_index_column": 68422
                },
                {
                  "id": 9764261,
                  "question": "What PEP 's status structure mean",
                  "question_body": "What PEP status ' structure mean These days I try write python interpreter But I n't know comparison operator lt arise python It python Figure PEP The official declarations future compatibility import future somewhat Something confusing status April Fool April Fool Ref http www python org dev peps pep http mail python org pipermail python list April html",
                  "answer": "The linked PEP status suggests April Fool 's joke real PEP There distinct lt gt operator however Python interpreter read lt gt synonym In Python lt gt syntax error",
                  "_deepnote_index_column": 240315
                },
                {
                  "id": 31500809,
                  "question": "Python remove specific words list",
                  "question_body": "I list like defaultdict lt class 'list ' gt 'Web ' 'site www domain com ' 'Phone ' ' ' ' ' 'VAT ' ' ' 'Fax ' ' ' ' ' ' E mail ' 'adress mail domain com ' 'address mail domain com ' 'ID ' 'number ' I want clean words like site adress number Output defaultdict lt class 'list ' gt 'Web ' 'www domain com ' 'Phone ' ' ' ' ' 'VAT ' ' ' 'Fax ' ' ' ' ' ' E mail ' 'mail domain com ' 'mail domain com ' 'ID ' ' ' I know I remove words specific list item like em E mail print em replace address I 'm looking something would clean whole list",
                  "answer": "em dict dict em dict em split remove print Try code",
                  "_deepnote_index_column": 746288
                },
                {
                  "id": 18422529,
                  "question": "script working spyder console",
                  "question_body": "I everybody I usually use spyder write python I write simple lines code plotting graph I ca n't understand n't work properly I run I copy paste lines python console works perfetly This code import matplotlib pyplot plt import numpy np z np arange f z np append z z f z np append f z z plt plot z f z I like understand I problem thank help",
                  "answer": "Division Python lt works differently may expect used instance Matlab So standard Python console get dividing integers results integer gt gt gt This changed Python To get new behaviour put future import division imports script Alternatively could force floating point behaviour follows gt gt gt The reason code works Spyder console already import automatically",
                  "_deepnote_index_column": 429355
                },
                {
                  "id": 38569339,
                  "question": "How I invert key value RDD Python pyspark",
                  "question_body": "This works Python Python returns SyntaxError invalid syntax I 'm sure fact tuple unpacking removed Python I read another post different issue rddInverted rdd map lambda x x",
                  "answer": "Try something like rddInverted rdd map lambda x x x I hope work",
                  "_deepnote_index_column": 942113
                },
                {
                  "id": 39673317,
                  "question": "How Python keep generating random list numbers equals certain made list",
                  "question_body": "Background I trying create code would make Python generate pattern x grid dots dot chosen next dot adjacent dot used twice The following code input Python generating dot pattern x grid import random x arr arr def addTolist n x arr append arr append n grid rows dots top bottom dot random choice range random dot grid chosen range j range dot grid j x j break num dot range loop times print 'dot ' dot every time empty list neighbours x arr arr choosing adjacent numbers neighbours current dot gt neighbours append grid x addTolist x x lt neighbours append grid x addTolist x x gt neighbours append grid x addTolist x x gt neighbours append grid x addTolist x lt neighbours append grid x addTolist x lt neighbours append grid x addTolist x x lt neighbours append grid x addTolist x x lt neighbours append grid x addTolist x dot random choice neighbours dot num dot random choice neighbours num append dot position neighbours index dot x x arr position arr position Output 'dot ' 'dot ' 'dot ' 'dot ' 'dot ' Is way I keep generating patterns without repetition equals pattern find many trials took get pattern I assume I would get output single list first I struggling Any help greatly appreciated",
                  "answer": "Try I think would work import random x arr arr index pattern def addTolist n x arr append arr append n grid rows dots top bottom dot random choice range random dot grid chosen guess dot pattern index print Wrong guess dot guess dot random choice range range j range dot grid j x j break num dot print 'dot ' dot range index every time empty list neighbours x arr arr choosing adjacent numbers neighbours current dot gt neighbours append grid x addTolist x x lt neighbours append grid x addTolist x x gt neighbours append grid x addTolist x x gt neighbours append grid x addTolist x lt neighbours append grid x addTolist x lt neighbours append grid x addTolist x x lt neighbours append grid x addTolist x x lt neighbours append grid x addTolist x pattern index neighbours wrong Pattern entered print Wrong Pattern generate pattern index After pattern index break dot random choice neighbours guess dot pattern index checking pattern print Wrong guess dot dot random choice neighbours guess print 'dot ' dot num append dot position neighbours index dot x x arr position arr position print Total guess guess Output Wrong guess Wrong guess Wrong guess Wrong guess Wrong guess Wrong guess dot dot Wrong guess Wrong guess Wrong guess Wrong guess Wrong guess dot Wrong guess Wrong guess dot dot Total guess Modifications Instead checking unique variable I checking pattern So I take pattern list I checking range instead st number already generated waste computing th random number even printing I take guess variable keep track number guesses Note I checking pattern wrong print wrong pattern For example pattern give output Wrong guess Wrong guess dot Wrong guess Wrong guess Wrong guess dot Wrong guess dot Wrong Pattern generate After Total guess Updated If want count whole sequence one guess import random x arr arr index pattern def addTolist n x arr append arr append n guess True grid rows dots top bottom dot random choice range random dot grid chosen range j range dot grid j x j break num dot range every time empty list neighbours x arr arr choosing adjacent numbers neighbours current dot gt neighbours append grid x addTolist x x lt neighbours append grid x addTolist x x gt neighbours append grid x addTolist x x gt neighbours append grid x addTolist x lt neighbours append grid x addTolist x lt neighbours append grid x addTolist x x lt neighbours append grid x addTolist x x lt neighbours append grid x addTolist x dot random choice neighbours dot num dot random choice neighbours num append dot position neighbours index dot x x arr position arr position guess num pattern break print Total guess guess Output Total guess Note I n't recommended use method sometimes gives total guess times gives timeout random may happen required sequence may never gets generated running time exceeded SO try put limit guesses like instead True use c range range give And timeout coming run code number times till gives answer I tried times I got output Hope help",
                  "_deepnote_index_column": 973605
                },
                {
                  "id": 26895849,
                  "question": "How add function call list",
                  "question_body": "I Python code uses following functions def func arguments b c def func arguments e f def func arguments g h Each functions configures CLI command product In addition functions de init function deletes CLI command def de init func arguments x z def de init func arguments l n def de init func arguments q r Suppose I script configures lots CLI commands using functions func func func script completes script remove CLI commands configured For happen time func invoked I need add equivalent de init func CALL list end script I iterate list invoke de init methods one one How I add func arguments call list without invoking adding list If I add func arguments call string func arguments I iterate list I able invoke function calls interpreter refer list items strings function calls",
                  "answer": "I think use class funcx contructor init de init funcx destructor del class Class def init self arguments b c def del self arguments x z",
                  "_deepnote_index_column": 625577
                },
                {
                  "id": 30958772,
                  "question": "Pandas map DataFrame dictionary",
                  "question_body": "I currently mapping renaming various string values columns pandas via function df fundbenchmark df name map lambda x American Express AXP x else Apple AAPL x else Google GOOG x else I however several columns many different renamings Here another column identical content would repetitive add companies also df subclass df name map lambda x American Express AXP x else Apple AAPL x else Google GOOG x else As I would like maintain dictionary like companies AXP American Express AAPL Apple GOOG Google call instances I need map company names How I make map matches companies instead lambda x Current DataFrame Name BULL AXP UN X VON BEAR AXP UN X VON BULL GOOG UN X VON BEAR GOOG UN X VON BEAR ABC X CBZ Desired output Name Fundbenchmark Subclass BULL AXP UN X VON American Express American Express BEAR AXP UN X VON American Express American Express BULL GOOG UN X VON Google Google BEAR GOOG UN X VON Google Google BEAR ABC X CBZ BEAR ABC X CBZ BEAR ABC X CBZ Not Dictionary Dictionary companies AXP American Express GOOG Google So abbreviation exists dictionary write name columns Or abbreviation dictionary duplicate whole cell",
                  "answer": "Use Replace http pandas pydata org pandas docs dev generated pandas DataFrame replace html df pd DataFrame ' A ' 'string ' 'string ' 'string ' ' B ' 'StringA ' 'StringB ' 'StringC ' Creates A B string StringA string StringB string StringC Then map replacements dictionary replace 'string ' 'replace ' 'StringC ' 'replaceC ' Then replace df replace replace A B replace StringA string StringB string replaceC",
                  "_deepnote_index_column": 731240
                },
                {
                  "id": 7001717,
                  "question": "Lightweight DBAL python",
                  "question_body": "somebody please recomend python DBAL library best suit requirements I would like write sql statements directly logics db stored procedures postgresql I need invoke db procedures pass arguments fetch results The library help quoting preventing sql inject I played sqlalchemy think quoting helper writing sql statement directly engine execute method Thank",
                  "answer": "You given sqlalchemy deeper look It fine job quoting placeholders gt gt gt engine sqlalchemy create engine sqlite memory gt gt gt engine execute select fetchall gt gt gt engine execute select drop table users fetchall u ' drop table users '",
                  "_deepnote_index_column": 181577
                },
                {
                  "id": 38099317,
                  "question": "Swap values variables without using third variable python",
                  "question_body": "So friend mine asked python programming coming I said I learning lot coming along nicely Then friend math snob asks Can swap value variables without using third variable temporary placeholder",
                  "answer": "x x x becomes x becomes x x x becomes This main snippet code This friend meant",
                  "_deepnote_index_column": 578044
                },
                {
                  "id": 20426890,
                  "question": "use arbitrary function wrapper function Python",
                  "question_body": "I want create wrapper function something like following def functionWrapper function kwargs This function requires input function dictionary named arguments function results function kwargs print results def multiply multiplicand multiplicand return multiplicand multiplicand def main functionWrapper multiply 'multiplicand ' 'multiplicand ' name main main I running difficulties implementation TypeError functionWrapper takes exactly argument given How I address problem Is use arbitrary function wrapper function function kwargs reasonable Thanks help EDIT fixed error specification dictionary",
                  "answer": "Just change kwargs kwargs function defenition def functionWrapper function kwargs What double star star python parameters",
                  "_deepnote_index_column": 476372
                },
                {
                  "id": 2608141,
                  "question": "What 's right way use idlestartup python",
                  "question_body": "Idlestartup analogous pythonstartup variable IDLE instead command line But seems work properly I 'm using python Windows I following script assigned pprint import pprint import sys newPath ' C Python test ' sys path append newPath print initial config loaded Both variables Idlestartup pythonstartup assigned file script When running IDLE pprint sys NOT available final message NOT printed newPath added sys path Running command line pprint sys available final message printed newPath added sys path Is bug Am I something wrong Thanks",
                  "answer": "sys stdout may final state time idlestartup 's getting loaded 's quite possible print tries go original standard output immediately standard output redirected idle 's command window effects print never seen In words bugs I think 's obvious idlestartup may guaranteed send important message user delivery message must guaranteed message example big deal important ones I 'd look Tk ways delivering guaranteed way Edit making sure certain names added main namespace latter 's named main without idle adding code statements sys modules ' main ' pprint pprint amp c work",
                  "_deepnote_index_column": 74236
                },
                {
                  "id": 20575302,
                  "question": "Automatically setting getter setter deleter python",
                  "question_body": "Ok I 've reading using property decorator Python rather specific methods getting setting deleting Some example code shown class Person object def init self self firstName None self lastName None self age None property def firstName self return self firstName firstName setter def firstName self val self firstName val firstName deleter def firstName self del self firstName property def lastName self return self lastName lastName setter def lastName self val self lastName val lastName deleter def lastName self del self lastName property def age self return self age age setter def age self val self age val age deleter def age self del self age Peter Person Peter firstName 'Peter ' Peter lastName 'Smith ' Peter age print ' ' join Peter firstName Peter lastName As see majority code example devoted defining methods My question whether way automatically assign getter setter deleter variables In actual code I lot variables seems like lot repetitive code setting method I realise simple cases may strictly necessary however I 'd prefer code methods case I ever decide increase complexity class",
                  "answer": "Keep simple If functions like use publicly accessible variable That class Person object def init self self firstName None self lastName None self age None perfectly fine A better approach given usage require data part constructor thus class Person object def init self firstName lastName age self firstName firstName self lastName lastName self age None person Person 'Peter ' 'Smith ' If concerned name always specific person Person firstName 'Peter ' lastName 'Smith ' age In future need make complex add getters setters needed Another consideration given constructor create string conversion function Person object def str self return ' ' join self firstName self lastName This allows use like person Person firstName 'Peter ' lastName 'Smith ' age print person n't need know implemented internally Another consideration Chinese Japanese names place surname first people multiple last names esp Spain middle names",
                  "_deepnote_index_column": 480015
                },
                {
                  "id": 29661470,
                  "question": "What 's wrong solution Max Counters codility challenge",
                  "question_body": "So I 've going tests codility got bit stuck Max Counters one link https codility com demo take sample test max counters My first obvious solution following one def solution N A counters N A lt lt N counters elif N counters N max counters return counters works fine takes much time due fact call max counters fills entire array So I came following solution seems work ok small inputs randomly provides incorrect results medium large ones def solution N A counters N current max last update A lt lt N counters counters lt last update counters last update counters gt current max current max counters elif N last update current max xrange len counters counters lt last update counters last update return counters I ca n't seem figure 's wrong Edit Result http codility com demo results demoQA BVQ NQT",
                  "answer": "Javascript function solution N A var j len A length lastBase max counters n N j j lt N j counters j initArray j j lt len j A j lt n counters A j lt lastBase counters A j lastBase counters A j max lt counters A j max counters A j else lastBase max j j lt N j counters j lt lastBase counters j lastBase return counters",
                  "_deepnote_index_column": 478501
                },
                {
                  "id": 36622349,
                  "question": "Check presence sublist Python",
                  "question_body": "I want write function determines sublist exists larger list list list Should return true sublistExists list Should return false sublistExists list Is Python function",
                  "answer": "def sublistExists x occ enumerate x b occ x b b len print 'YES SUBLIST ' b return True len occ occ index b print 'NO SUBLIST ' return False list list return True sublistExists list Should return False sublistExists list",
                  "_deepnote_index_column": 92829
                },
                {
                  "id": 12589309,
                  "question": "Newline one python string",
                  "question_body": "I post str Please input following information nDescription n Last Name context 'post str ' post str return render response 'contact contact html ' context context instance RequestContext request It prints like Please input following information Description Last Name But I 'd like print Please input following information Description Last Name I thought I using correctly How I get newline successfully produce I need Thanks help advance",
                  "answer": "Newlines n't anything HTML Use lt br gt instead",
                  "_deepnote_index_column": 303275
                },
                {
                  "id": 6269972,
                  "question": "What ' b ' character front string literal",
                  "question_body": "Apparently following valid syntax string b'The string ' I would like know What b character infront string mean What effects using What appropriate situations use I found related question right SO question PHP though states b used indicate string binary opposed unicode needed code compatible version PHP lt migrating PHP I n't think applies Python I find documentation python site using u character syntax specify string unicode Unfortunately n't mention b character anywhere document Also curiosity symbols b u things",
                  "answer": "The b denotes byte string Bytes actual data Strings abstraction If multi character string object took single character would string might byte size depending encoding If took byte byte string 'd get single bit value might represent complete character characters due encoding byte TBH I 'd use strings unless I specific low level reason use bytes",
                  "_deepnote_index_column": 165494
                },
                {
                  "id": 23356595,
                  "question": "Get list unique multi sets",
                  "question_body": "How I uniquify following list Python ways Desired output e I need get rid tuples set numbers different order I tried set ways transpose elements And I list map set ways things getting worse In words I need convert inner tuple collection allows multiple equal items set suitable permutations elements n't change collection kinda like C 's multiset",
                  "answer": "Use collections Counter identify unique multisets gt gt gt collections import Counter gt gt gt ways gt gt gt result gt gt gt seen set gt gt gt tup ways key tuple sorted Counter tup items unique signature key seen result append tup seen add key gt gt gt result",
                  "_deepnote_index_column": 545404
                },
                {
                  "id": 5565592,
                  "question": "Methods class Python",
                  "question_body": "In python know methods class Ex import datetime module date class And print datetime date today yield todays date How know methods class help datetime dir datetime way",
                  "answer": "In python called Introspection see examples",
                  "_deepnote_index_column": 149965
                },
                {
                  "id": 40114823,
                  "question": "How de embed words TensorFlow",
                  "question_body": "I trying follow tutorial Language Modeling TensorFlow site I see runs cost goes working great I see way actually get predictions model I tried following instructions answer tensors returned session run floating point values like dictionary maps words integers work How I get predicted word tensorflow model Edit I found explanation searching around I sure x would context example They n't seem use conventions example explanation",
                  "answer": "So going bunch similar posts I figured First code explained documentation code GitHub repository The current code works initializing models data inside instead passing data model goes along So basically accomplish I trying I reverted code commit f also reader py Then I followed steps taken post get probabilities tensor run epoch function Additionally I followed answer pass vocabulary main function From I inverted dict using vocabulary v k k v vocabulary items passed run epoch Finally get predicted word run epoch running current word vocabulary np argmax prob prob tensor returned session run Edit Reverting code permanent solution I definitely recommend using Prophecies answer get probabilities tensor However want get word mapping need pass vocabulary I",
                  "_deepnote_index_column": 985785
                },
                {
                  "id": 25090069,
                  "question": "Python calling stop mock patch class decorator",
                  "question_body": "The Mock documentation describes simple elegant way applying patches tests method inside TestCase patch 'foo bar ' patch 'foo baz ' patch 'foo quux ' patch 'foo narf ' class FooTest TestCase def test foo self bar baz quux narf foo self assertTrue False However one issue I 've encountered method I 'd like call stop one patches inside one test methods n't appear anyway getting reference patcher object thing passed method mock objects case bar baz quux narf The way I 've found solve problem move pattern described Mock docs patchers instantiated started inside setUp method TestCase stopped inside tearDown method This fits purpose adds lot extra boilerplate n't elegant class decorator approach Is another way solve problem",
                  "answer": "Say want temporarily restore foo narf method foo narf context decorated function MagicMock object This object mock wraps attribute invoked mock called So top module narf foo narf test case foo narf mock wraps narf The catch pass real function actually swap back means test cases fail e g rely function object actually And mock attributes could interfere I n't tested much passthrough call mock wraps comes bottom method first considers properties mock The patch decorator involves patcher separate copies per method added list called patchings field method I e access list self test foo patchings go find one want However start stop actually called use patch decorator behavior gets tricky start reaching changing So I wrote context manager class unpatch def init self name method compare patch name self patcher next p p method patchings p target compare getter p attribute compare attribute None self patcher None raise ValueError name def enter self self patcher exit def exit self exc info self patcher enter Inside test case use like unpatch 'foo narf ' self test foo foo narf Disclaimer hacks",
                  "_deepnote_index_column": 584079
                },
                {
                  "id": 1326289,
                  "question": "take file like object file python",
                  "question_body": "filename fileobject read want transfer assign whole data object within file",
                  "answer": "You almost correctly already code read filecontent fileobject read read arguments read whole data e whole file content The file name nothing",
                  "_deepnote_index_column": 36806
                },
                {
                  "id": 1607629,
                  "question": "Python How I make subclass superclass",
                  "question_body": "In Python make subclass superclass",
                  "answer": "class Class object pass class Class Class pass Class sub class Class",
                  "_deepnote_index_column": 44590
                },
                {
                  "id": 3233356,
                  "question": "Update value nested dictionary varying depth",
                  "question_body": "I 'm looking way update dict dictionary contents dict update wihout overwriting levelA dictionary 'level ' 'level ' 'levelA ' 'levelB ' update 'level ' 'level ' 'levelB ' dictionary update update print dictionary 'level ' 'level ' 'levelB ' I know update deletes values level 's updating lowest key level How could I tackle given dictionary update length",
                  "answer": "FM 's answer right general idea e recursive solution somewhat peculiar coding least one bug I 'd recommend instead Python import collections def update u k v u iteritems isinstance v collections Mapping r update get k v k r else k u k return Python import collections def update u k v u items isinstance v collections Mapping r update get k v k r else k u k return The bug shows update k v item v dict k originally key dictionary updated FM 's code skips part update performs empty new dict n't saved returned anywhere lost recursive call returns My changes minor reason else construct get job faster cleaner isinstance best applied abstract base classes concrete ones generality",
                  "_deepnote_index_column": 90558
                },
                {
                  "id": 7106528,
                  "question": "two question python regular expressions",
                  "question_body": "Q use word boundary back reference without using r start regex e g ' b z b ' works r ' b z b ' works Q python support variable length negative look behind assertions supports variable length negative look ahead assertion c support think excellent feature also variable length negative look behind python please clear two concepts thanks",
                  "answer": "It work without raw strings ' b z b ' You need double escape special chars actually escape backslashes Variable length assertions one features implementations support n't Check regex module PyPI version features better unicode support may eventually replace standard library Edit To make version comment work without raw strings use sub ' z ' ' ' string Again Python interprets backslashes thinks means byte value If actually mean need escape backslash use raw strings Edit Adding link Nate 's comment list Python escape sequences",
                  "_deepnote_index_column": 184059
                },
                {
                  "id": 5453906,
                  "question": "override builtin",
                  "question_body": "primitive overridden instance If I try something like class foo def self return bar gets outputted gt gt foo gt gt foo 'bar ' intuition built overridden n't overridden cause confusion I guess function n't changed n't need since behaves like def self bool self return self else return",
                  "answer": "Boolean ca n't overridden Python It true special behavior short circuiting operands always evaluated something overrideable However IMHO whole story In fact Python could provide facility supports short circuiting still allowing operators overridden simply This may deliberate choice keep things simple may things Python developers think would useful developers working instead However choice part Python 's designers law nature",
                  "_deepnote_index_column": 147358
                },
                {
                  "id": 13327815,
                  "question": "Dealing high volume query params python",
                  "question_body": "We api consumes around query params Currently handler takes params sets attributes Meta object Something like meta Meta meta param param get 'param ' 'somedefault ' meta param param get 'param ' 'someotherdefault ' My question better way handle loooong list assigns handler My current idea break helper function meta self get meta param Any ideas updated example",
                  "answer": "This seems like something mapping instead Unless need filter parameters sounds like bad idea So 'll something like class Meta IterableUserDict pass meta Meta meta update param",
                  "_deepnote_index_column": 318945
                },
                {
                  "id": 33633680,
                  "question": "Reshaping array square array Python",
                  "question_body": "I array numbers whose shape I would like reshape array shape chunks becomes something like",
                  "answer": "A little ugly 's one liner small example able modify full size one In itertools import chain In np array list chain np arange reshape xrange Out array EDIT Here 's generalized version function Uglier code function takes array number segments 'd like end In def break arr arr chunks take arr shape chunks return np array list chain arr take xrange x take x take take axis x xrange chunks In arr np arange reshape In break arr arr Out array In break arr arr Out array",
                  "_deepnote_index_column": 803920
                },
                {
                  "id": 10613662,
                  "question": "PyQt custom widget uic loaded added layout invisible",
                  "question_body": "I 've created custom widget pyqt I 've worked tested ready load main window Since n't show designer I need manually add main window manually My widget uses uic load ui file instead converting py file 's quicker less hassle far looks something like class widgetWindow QtGui QWidget def init self parent None super widgetWindow self init parent self ui uic loadUi widget ui everything else main class example brevity I create layout add widget layout add main widget class main QtGui QMainWindow def init self parent None super main self init parent self ui uic loadUi testWindow ui mainlayout QtGui QVBoxLayout window widgetWindow self mainlayout addWidget window centerWidget QtGui QWidget centerWidget setLayout mainlayout self ui setCentralWidget centerWidget There errors thrown make space widget simply wo n't show anything adding line window ui show pop open new window overtop space occupying main window What I missing",
                  "answer": "Try add parent argument loadUi statements self ui uic loadUi widget ui parent self ui uic loadUi testWindow ui self And try following line end main class self setCentralWidget centerWidget",
                  "_deepnote_index_column": 259093
                },
                {
                  "id": 19040684,
                  "question": "I get WordPress running local mode Windows using GAE",
                  "question_body": "There nice article https developers google com appengine articles wordpress get wordpress running google app engine I running Windows Bit I followed steps installed Python PHP used MySQL instance I running added wp user described I verified helloworld app runs GAE locally I verified Mysql running wordpress db exists wp user connect described article I created wp config php described php ini php installation I uncommented lines extension php mysql dll When I run described hit localhost I get Your PHP installation appears missing MySQL extension required WordPress extension php mysqli dll I tried installing http wordpress org plugins mysqli putting db php wp content localhost says php failure stdout X Powered By PHP Content type text html stderr Stdout command line says ERROR root php failure stdout X Powered By PHP Content type text html OK I stuck someone gotten running windows I see troubleshooting information newbie PHP Wordpress I using political reasons Can anyone offer help",
                  "answer": "I problem well much trial error I realized I needed specify full path php ini Although tutorial includes line google app engine enable functions php sapi name gc enabled need add extension PATH line PATH full path php installation e g google app engine enable functions php sapi name gc enabled extension C Users YOUR php ext php mysqli dll",
                  "_deepnote_index_column": 441082
                },
                {
                  "id": 4309963,
                  "question": "How read string one letter time python",
                  "question_body": "I need convert string inputed user morse code The way professor wants us read morseCode txt file seperate letters morseCode two lists convert letter morse code inserting new line space I beginning What reads morseCode txt file seperates letters list A B Z codes list ' n ' ' n ' We n't learned sets yet I ca n't use How would I take string inputed go letter letter convert morse code I 'm bit caught Here 's I right much EDIT completed program open morseCode txt file read morseCodeFile open 'morseCode txt ' ' r ' format lt letter gt lt morse code translation gt lt n gt create empty list letters letterList create empty list morse codes codeList read first line morseCode txt line morseCodeFile readline line empty line `` strip n end line line line rstrip append first character line letterList letterList append line append rd last character line codeList codeList append line read next line line morseCodeFile readline close file morseCodeFile close try get user input print Enter string convert morse code press lt enter gt quit userInput input user inputs something continue userInput strip spaces input userInput userInput replace ' ' `` convert uppercase userInput userInput upper set string accumulator accumulateLetters `` go letter word x userInput get index letterList using x index letterList index x get morse code value codeList using index found value codeList index accumulate letter found accumulateLetters value print letters print accumulateLetters input try lt enter gt quit print Try press lt enter gt quit userInput input except ValueError print Error input Only alphanumeric characters comma period allowed main",
                  "answer": "I ca n't leave question state final code question hanging dan 's much neater shorter version code It would good idea look done code way future I realise probably need code learning good idea Some things note There two comments even second really necessary someone familiar Python 'll realise NL stripped Only write comments adds value The statement recommended another answer removes bother closing file context handler Use dictionary instead two lists A generator comprehension x z used translation one line Wrap little code try except block reduce probability catching exception n't mean Use input argument rather print ing first Use ' n ' get new line want Do n't write code across multiple lines intermediate variables like sake b c b x c b Instead write constructs like chaining calls perfectly valid b c c x code open 'morseCode txt ' ' r ' morse code file line format lt letter gt lt morse code translation gt line morse code file line line rstrip Remove NL code line line user input input Enter string convert morse code press lt enter gt quit n user input try print `` join code x x user input replace ' ' `` upper except KeyError print Error input Only alphanumeric characters comma period allowed user input input Try press lt enter gt quit n",
                  "_deepnote_index_column": 74923
                },
                {
                  "id": 92778,
                  "question": "How I highlight text Scintilla",
                  "question_body": "I writing editor using Scintilla I already using lexer automatic syntax highlighting I would like mark search results If I want mark one hit I set selection however I would like mark e g yellow background hits I writing Perl suggestions languages would cool well",
                  "answer": "Have read Markers reference Scintilla doc This reference bit obscure I advise take look source code SciTE well This text editor originally testbed Scintilla It grown full fledged editor still good implementation reference things Scintilla In particular case Mark All button Find dialog You find implementation SciTEBase MarkAll method This method loops search results loops first search result puts bookmark found lines optionally set indicator found items The found line gotten using SCI LINEFROMPOSITION posFound bookmark call SCI MARKERADD lineno markerBookmark Note mark symbol margin associated margin highlight whole line HTH",
                  "_deepnote_index_column": 2146
                },
                {
                  "id": 13320347,
                  "question": "Django Template Error 'unicode ' object attribute 'year '",
                  "question_body": "I fetched tweets twitter In template tweets loop I tried print long ago tweet created So I tried lt li class twitter feed block content gt tweet text lt span class gt tweet created timesince lt span gt lt li gt tweet text printing correctly However I add next line tweet created timesince I get following error Exception Value 'unicode ' object attribute 'year ' Exception Location REMOVED BY ME lib python site packages django utils timesince py timesince line Python Executable REMOVED BY ME bin python Python Version The tweet created string Is reason I convert works seamless timesince filter Thanks advance",
                  "answer": "Convert DateTime object using python strptime datetime obj datetime strptime Y",
                  "_deepnote_index_column": 318759
                },
                {
                  "id": 40136593,
                  "question": "python filter array chunk data",
                  "question_body": "import numpy np data np array I following array lets called fields b c order column b like id I wish delete cells doesnt atlist appearance number column cells number column b id filtering following results rows b b deleted data sum I see answers doesnt fit look chunks data b column complete chunk data doesnt even one appearance number column delete rows b item following example see chunk data b b id id appearances number column thats gets deleted data",
                  "answer": "Untested since hurry work import numpy indexed npi g npi group data ids valid g data result data valid g inverse",
                  "_deepnote_index_column": 986816
                },
                {
                  "id": 29057929,
                  "question": "Unexpected result operation list dict python",
                  "question_body": "I would like generate list dict two layer loop At outer loop generated dict appended list But output expected inf infdic keys 't ' 't ' 't ' 't ' 't ' c range c range value c c key keys c infdic key value inf append infdic print c inf The result code 't ' 't ' 't ' 't ' 't ' 't ' 't ' 't ' 't ' 't ' 't ' 't ' 't ' 't ' 't ' But want 't ' 't ' 't ' 't ' 't ' 't ' 't ' 't ' 't ' 't ' 't ' 't ' 't ' 't ' 't ' It looks list inf pointed infdic always changes I little confused could happen fix Thanks lot",
                  "answer": "It looks list inf pointed infdic always changes Yep 's exactly code says lo behold Python precisely tell Fix make new infdic time around c range infdic c range",
                  "_deepnote_index_column": 680423
                },
                {
                  "id": 12118621,
                  "question": "Python 'str ' object attribute 'close '",
                  "question_body": "Hi everyone I great time trying figure n't need closing attribute lines code I wrote sys import argv os path import exists script file file argv file content open file read new file open file ' w ' write file content new file close file content close I read things people 's posts scripts lot complicated I 'm currently learning I could n't figure I Learning Python Hard Way would appreciate help Thank advance",
                  "answer": "file content string variable contains contents file relation file The file descriptor open open file closed automatically file sessions closed file objects exit scope case immediately read",
                  "_deepnote_index_column": 293436
                },
                {
                  "id": 6231440,
                  "question": "Check Cheetah Template Dict key",
                  "question_body": "I trying come base template application one goals would remove unnecessary js css pages I want something cheetah template like dict key 'datepicker ' lt link rel stylesheet href datepicker type text css gt end I think would also help errors like namemap key 'datepicker ' current error I getting using WSGIHandler TypeError descriptor 'has key ' requires 'dict ' object received 'str ' I feel like casting return handler str shouldnt template parsed gets str Template file WORKSPACE PATH tmpl posts html searchList tmpldict self response body str encode 'utf ' return str",
                  "answer": "The bug dict key 'datepicker ' dict class expects first argument dict key instance dict You 're passing string instead dict object Basically key k equivalent dict key k latter",
                  "_deepnote_index_column": 164716
                },
                {
                  "id": 14589005,
                  "question": "send tab key python subprocess 's stdin",
                  "question_body": "Background I Python subprocess connects shell like application uses readline library handle input app TAB complete routine command input like bash The child process spawned like def get cli subprocess handle return subprocess Popen ' bin myshell ' shell False stdin subprocess PIPE stdout subprocess PIPE stderr subprocess STDOUT Everything works great except tab complete Whenever Python program passes tab character ' ' subprocess I get spaces STDIN instead triggering readline library 's tab complete routine Question What I send subprocess 's STDIN trigger child 's tab complete function Maybe asked another way How I send TAB key opposed TAB character even possible Related Unanswered Derailed trigger tab completion python batch process built around readline",
                  "answer": "Based isedev 's answer I modified code follows import os pty def get cli subprocess handle masterPTY slaveTTY pty openpty return masterPTY slaveTTY subprocess Popen ' bin myshell ' shell False stdin slaveTTY stdout slaveTTY stderr slaveTTY Using returned tuple I able perform select select masterPTY os read masterPTY needed I wrote master pty function similar private method pty module source def write masterPTY data Successively write data file descriptor data chars written os write masterPTY data data data chars written return data Thanks good solutions Hope example helps someone else",
                  "_deepnote_index_column": 345208
                },
                {
                  "id": 35312892,
                  "question": "Check login status flask",
                  "question_body": "I 'm creating website login system 'm dealing I two routes The first one login page code app route ' login ' def login return render template 'login html ' app route ' login ' methods 'POST ' def login submit error None request form 'username ' 'khoa programmer ' request form 'password ' 'HotnCold ' request form 'actions ' 'add post ' return redirect ' admin addpost ' else error 'Wrong info ' return render template 'login html ' error error second one addpost route redirected user logged The problem n't know check user logged successfully I want prevent people type url access page without permission simply show message redirect login page Please help Sorry english",
                  "answer": "I feel looking pass authenticated user requests use session Please read http flask pocoo org docs api flask session flask import session session 'user ' way getting authenticated user retrieve user another view user session 'user ' redirect login using url login page user mismatch None Please note need set secret key app using session flask import Flask app Flask name app secret key yoursecret My way would decorate secret views using login required decorator specified http flask pocoo org docs patterns viewdecorators login required decorator Here example given using g object",
                  "_deepnote_index_column": 850800
                },
                {
                  "id": 33086929,
                  "question": "C decode public key pem format",
                  "question_body": "I wrote code decoding public key decode My converted base public key Convert FromBase String MCgCIQCWeC U lLF JCJePjZpK rd TOsqbT TT WL kuFwIDAQAB input DecodeX PublicKey function The key generated python rsa module python code pub prv rsa newkeys pub pem pub save pkcs format 'PEM ' pub pem replace ' BEGIN RSA PUBLIC KEY n ' `` replace ' END RSA PUBLIC KEY n ' `` C code Parses binary asn X SubjectPublicKeyInfo returns RSACryptoServiceProvider public static RSACryptoServiceProvider DecodeX PublicKey byte x key encoded OID sequence PKCS rsaEncryption szOID RSA RSA byte SeqOID x x D x x x A x x x xF x D x x x x x byte seq new byte Set stream read asn encoded SubjectPublicKeyInfo blob MemoryStream mem new MemoryStream x key BinaryReader binr new BinaryReader mem wrap Memory Stream BinaryReader easy reading byte bt ushort twobytes try twobytes binr ReadUInt twobytes x data read little endian order actual data order Sequence binr ReadByte advance byte else twobytes x binr ReadInt advance bytes else return null seq binr ReadBytes read Sequence OID CompareBytearrays seq SeqOID make sure Sequence OID correct return null twobytes binr ReadUInt twobytes x data read little endian order actual data order Bit String binr ReadByte advance byte else twobytes x binr ReadInt advance bytes else return null bt binr ReadByte bt x expect null byte next return null twobytes binr ReadUInt twobytes x data read little endian order actual data order Sequence binr ReadByte advance byte else twobytes x binr ReadInt advance bytes else return null twobytes binr ReadUInt byte lowbyte x byte highbyte x twobytes x data read little endian order actual data order Integer lowbyte binr ReadByte read next bytes bytes modulus else twobytes x highbyte binr ReadByte advance bytes lowbyte binr ReadByte else return null byte modint lowbyte highbyte x x reverse byte order since asn key uses big endian order int modsize BitConverter ToInt modint byte firstbyte binr ReadByte binr BaseStream Seek SeekOrigin Current firstbyte x first byte highest order modulus zero n't include binr ReadByte skip null byte modsize reduce modulus buffer size byte modulus binr ReadBytes modsize read modulus bytes binr ReadByte x expect Integer exponent data return null int expbytes int binr ReadByte need one byte actual exponent data useful values byte exponent binr ReadBytes expbytes Console WriteLine nExponent exponent Console WriteLine nModulus modulus create RSACryptoServiceProvider instance initialize public key RSACryptoServiceProvider RSA new RSACryptoServiceProvider RSAParameters RSAKeyInfo new RSAParameters RSAKeyInfo Modulus modulus RSAKeyInfo Exponent exponent RSA ImportParameters RSAKeyInfo return RSA catch Exception return null finally binr Close Why DecodeX PublicKey function decode public key",
                  "answer": "You created test public key bit size bits That 's way small useful Now issue BER encodes length byte size value field lt bytes length bytes size value field lt bytes XX XX length unsigned number represented hex bytes size value field lt bytes XX YY XX YY length unsigned big endian encoded number represented hex Of course value small first byte length start Note e g XX YY also valid representation sometimes Three ways handling implement one byte length modulus quick fix test RSA keys bit higher always good idea use BER decoder even full fledged ASN library also always good idea Personally I would combine",
                  "_deepnote_index_column": 788639
                },
                {
                  "id": 31058927,
                  "question": "SAS macro rerun loop arg n't appear function running SAS",
                  "question_body": "I charge converting series SAS files antiquated Oracle SAS environment Python scripts While I understand enough SAS perform conversions I 'm unfamiliar methods performing macros SAS I found SAS file I 'm converting right macro rerun loop wtn proc sql noprint Very large Oracle SQL Query proc append base tablename data tablename run mend rerun loop rerun loop n't appear universal documented SAS macro function I ca n't seem find used means I 'm also confused converting loop Python Unlike SAS macros n't specify form iteration long looping I n't know Python equivalent One note I 'm confused rerun loop wtn wtn appears argument In programming languages I 'm familiar wtn would variable passed argument argument name However SAS file variable defined anywhere wtn appears pulled previous CREATE TABLE SELECT SQL statement code placed variables stored anywhere Apart references SQL queries earlier never mentioned sent argument rerun loop Can someone please shed light means deal Thanks",
                  "answer": "That 's simple macro definition It 's function analogies When called open code copy text macro definition execution stream substitute parameter 'd typed code program So might macro rerun loop wtn proc sql create table waiter amp wtn select oralib table waitername amp wtn uses wtn parameter amp precedes optionally afterwards quit proc append base waiter append waiter amp wtn run mend rerun loop rerun loop John rerun loop Mark rerun loop Brenda rerun loop Alice This would run four times four different parameters In 'real ' environment probably would generate calls programmatically You turn options mprint symbolgen running line open code SAS log show times macro run actually run The text loop name part name 's relevant syntax",
                  "_deepnote_index_column": 734038
                },
                {
                  "id": 2915153,
                  "question": "How optimize Python code",
                  "question_body": "def maxVote nLabels count maxList maxCount nLabel nLabels nLabel count count nLabel else count nLabel Check count max count nLabel gt maxCount maxCount count nLabel maxList nLabel elif count nLabel maxCount maxList append nLabel return random choice maxList nLabels contains list integers The function returns integer highest frequency one frequency randomly selected integer returned E g maxVote",
                  "answer": "import random import collections def maxvote nlabels cnt collections defaultdict int nlabels cnt maxv max cnt itervalues return random choice k k v cnt iteritems v maxv print maxvote",
                  "_deepnote_index_column": 82003
                },
                {
                  "id": 28254305,
                  "question": "UnicodeEncodeError encode xml tree parsed ElementTree",
                  "question_body": "I XML file structure lt doc gt lt content gt lt one gt Title lt one gt lt two gt bla bla bla bla lt two gt lt content gt lt content gt lt one gt Title lt one gt lt two gt bla bla bla bla lt two gt lt content gt lt doc gt I read file python nltk package parse tree ElementTree like xml etree ElementTree import ElementTree wow nltk data find ' path file xml ' tree ElementTree parse wow Then I try print something 'two ' elements like content enumerate tree findall 'content ' two content findall 'two ' 'keyword ' str two text print two text And I get infamous error Traceback recent call last File lt stdin gt line lt module gt UnicodeEncodeError 'ascii ' codec ca n't encode character u ' xe ' position ordinal range I know due incompatibility problems ascii UTF encodings The XML encoding UTF I tried several solutions found stackoverflow mainly I tried adding encode 'UTF ' decode 'UTF ' also encoding 'utf ' added data find examples I found quite different mine I n't manage adapt answers case imagine I new python How I avoid error print content I need Thanks",
                  "answer": "So two text Unicode string want print check u'keyword ' two text appropriate print two text without laborious stringification If terminal properly set tell Python encoding use send bytes properly representing string display purposes It 's usually best work uniformly Unicode 's str become unicode Python decode input encode output often I O systems handle decoding encoding quite transparently Depending version Python n't tell us may need explicit encoding soon possible late day E g 're stuck Python wow Unicode string depends version nltk I think tree ElementTree parse wow encode 'utf ' might work better wow already utf encoded byte string comes nltk obviously wo n't need encode To remove doubts print repr wow thereabouts tell And print sys version tell version Python turn tell us people appear even though 's often absolutely crucial info",
                  "_deepnote_index_column": 659627
                },
                {
                  "id": 1478134,
                  "question": "Python chat delete variables clean memory functions",
                  "question_body": "I 'm creating chat daemon python twisted framework And I 'm wondering I delete every variable create functions save memory long run multiple users connected variable automatically clear Here 's strip version code illustrate point class Chat LineOnlyReceiver LineOnlyReceiver MAX LENGTH def lineReceived self data self sendMessage data def sendMessage self data try message data split None except IndexError return self factory sendAll message QUESTION delete message date del message del data class ChatFactory Factory protocol Chat def init self self clients def addClient self newclient self clients append newclient def delClient self client self clients remove client def sendAll self message client self clients client transport write message n",
                  "answer": "C Python reference implementation uses reference counting garbage collection When count references object decrease automatically reclaimed The garbage collection normally reclaims objects refer objects thus reclaimed reference counting Thus cases local variables reclaimed end function exit function objects cease referenced anywhere So del statements completely unnecessary Python anyway",
                  "_deepnote_index_column": 40847
                },
                {
                  "id": 8727665,
                  "question": "Replacing built types complex types Python",
                  "question_body": "I want create replacement class built type set constructed exactly like set Inheritance must used functions removed trigger method found exceptions This class also used find places might implicit type conversions built python collection types class SetFacade def init self iterable self lst list iterable allowed member functions The problem constructor definition I cant call constructor SetFacade without arguments How I create constructor behaves exactly like built set Thus must allow SetFacade c b SetFacade SetFacade",
                  "answer": "Define exactly The best way create set like class derive collections Set You 'll need implement len iter contains To able add element derive collections MutableSet instead implement add discard",
                  "_deepnote_index_column": 217872
                },
                {
                  "id": 1388842,
                  "question": "How I compare two lists python return matches",
                  "question_body": "I want take two lists find values appear b returnMatches b would return instance",
                  "answer": "Use set intersection 's fast readable gt gt gt set intersection b set",
                  "_deepnote_index_column": 38268
                },
                {
                  "id": 32418957,
                  "question": "ASCII spaces character removal",
                  "question_body": "I write program takes three inputs uses determine display ASCII word art font defined text file I getting output almost correct however program incorrectly deals spaces totally omitting things like HOW DO This code hi input 'Height ' wi input 'Width ' tx input 'Text ' hi int hi output range hi open font txt fi lines fi readlines character tx offset int cd character start offset hi end start hi letter lines start end outputline letterline zip output letter outputline append letterline rstrip ' n ' line output print `` join line And output Height Width Text APPLE STORES ARE BAD FOR YOUR HEALTH Note space size characters appear",
                  "answer": "For looking solution still character tx offset int cd character start offset hi end start hi character ' ' lines start end ' ' int wi range int hi letter lines start end",
                  "_deepnote_index_column": 770674
                },
                {
                  "id": 7194789,
                  "question": "Descriptor lazy loading",
                  "question_body": "I wanted implement lazy loading variables I seem misunderstand descriptors bit I 'd like object variables first access call obj load function initialize variables real value I wrote class ToLoad object def init self loader name load self loader name loader name def get self obj type hasattr obj loaded obj loaded obj loaded True getattr obj self loader name return None class Test object x ToLoad def init self self def load self print Loading format self self x self Test Test print A x print B x print C x fails return actual value loading least first time Could someone suggest another way solve problem I 'm sure return correct value get since point I know attribute called x Any way DAMN ca n't answer question So EDIT Thanks input However load function return variable since loads many different variables And I want minimize notation using lazy loading So I came decorator class load def init self vars loader load self vars vars self loader loader def call self cls def getattr obj attr attr self vars getattr obj self loader return getattr obj attr else raise AttributeError cls getattr getattr return cls load b class Test def load self print Loading self self b Test print Starting print print b print c Is OK I 'm sure I 'm breaking things",
                  "answer": "What want probably like class Test object def init self self def getattr self attr return self load attr def load self attr print Loading format attr ie Loading x get value attr somewhere always self val self store object avoid reloading setattr self attr val return val Test Test print A x print B x print C x To make code work need return class ToLoad object def init self loader name load self loader name loader name def get self obj type hasattr obj loaded obj loaded obj loaded True return getattr obj self loader name return None class Test object x ToLoad def init self self def load self print Loading format self self x self return self x Test Test print A x print B x print C x Descriptors know object stored n't know attribute You want intercept access attribute change returned value want getattr instead descriptors",
                  "_deepnote_index_column": 186009
                },
                {
                  "id": 3531568,
                  "question": "Capture Image Array Python OpenCV",
                  "question_body": "I 've seen sample display image webcam I get image captured array import cv capture cv CaptureFromCAM img cv QueryFrame capture img tostring gives weird caracters Thanks adv",
                  "answer": "According docs QueryFrame returns IplImage IplImage treated arbitrary array It looks like 'll want use Get set functions access array elements",
                  "_deepnote_index_column": 98892
                },
                {
                  "id": 19727714,
                  "question": "Remove nested newline characters delimited file",
                  "question_body": "I caret delimited file The carets file delimiters none text Several fields free text fields contain embedded newline characters This makes parsing file difficult I need newline characters end records I need remove fields text This open source maritime piracy data Global Integrated Shipping Information System Here three records preceded header row In first boat name NORMANNIA second Unkown third KOTA BINTANG ship name ship flag tonnage date time imo num ship type ship released time zone incident position coastal state area lat lon incident details crew ship cargo conseq incident location ship status attacked num involved attack crew conseq weapons used attackers ship parts raided lives lost crew wounded crew missing crew hostage kidnapped assaulted ransom master crew action taken reported coastal authority reported coastal authority reporting state reporting intl org coastal state action taken NORMANNIA Liberia Bulk carrier Off Pulau Mangkai South China Sea ' N ' E Eight pirates armed long knives crowbars boarded ship underway They broke O cabin tied hands threatened long knife throat Pirates forced O call Master While pirates waiting next Master door seized C E tied hands The pirates rushed inside Master cabin opened They threatened long knives crowbars demanded money Master hands tied forced aft station The pirates jumped long wooden skiff ship cash crew personal belongings escaped C E O managed free raised alarm Pirates tied hands Master C E O The pirates stole ship cash master C E O cash personal belongings In international waters Steaming persons Threat violence crew Knives SSAS activated reported owners Liberian Authority ICC IMB Piracy Reporting Centre Kuala Lumpur Unkown Marshall Islands General cargo ship Cam Pha Port Viet Nam South China Sea ' N ' E While anchor six robbers boarded vessel anchor chain cut opened padlock door forecastle store They removed turnbuckle lashing forecastle store 's rope hatch The robbers escaped upon hearing alarm activated sighted nd officer turn duty watch keepers There injury crew however padlock door forecastle store rope hatch cut opened Two centre shackles one end shackle stolen In port area At anchor persons None stated Main deck Viet Nam ReCAAP ISC via ReCAAP Focal Point Vietnam ReCAAP ISC via Focal Point Singapore KOTA BINTANG Singapore Bulk carrier UTC South China Sea Seven robbers armed long knives boarded ship underway They broke open accommodation door held hostage crew member forced Master open cabin door They tied Master crew member forced back onto poop deck robbers jumped overboard escaped unlit boat Master cadet assaulted Cash crew belongings ship 's cash stolen In territorial waters Steaming persons Actual violence crew Knives Yes SAR Djakarta Indonesian Naval Headquarters informed ICC IMB PRC Kuala Lumpur You 'll notice first third records fine easy parse The second record Unkown nested newline characters How I go removing nested newline characters end records python script otherwise 's easier way I import data SAS",
                  "answer": "I solved problem counting number delimiters encountered manually switching new record I reached number associated single record I stripped newline characters wrote data back new file In essence 's original file newline characters stripped fields newline character end record Here 's code f open events csv r carets per record final file temp file temp str `` temp cnt building False line enumerate f If carets line building string line count ' ' building True If building string set temp str equal line building False temp str line else temp str temp str line Count number carets line temp cnt temp str count ' ' If proper number carets building temp cnt lt carets per record building True If proper number carets finished push line list elif temp cnt carets per record building False temp file append temp str Strip embedded newline characters temp file item enumerate temp file final file append temp file replace ' n ' `` Write final file list csv final file g open new events csv wb Write lines back file item enumerate final file item tuple get content part append new line g write item ' n ' Close files working f close g close",
                  "_deepnote_index_column": 455978
                },
                {
                  "id": 32934885,
                  "question": "Object Creation Python What happenes modified variable",
                  "question_body": "After getting touch deeper workings Python I 've come understanding assigning variable equals creation new object specific address regardless variable name assigned object In case though makes wonder happens object created modified later Does sit consumes memory The scenarion mind looks something like Creates object id random numbers x Creates object id using value object x What happens object id Out curiosity objects need ID AND refrence variable name would n't better assign address variable name I apologize advance gringe question might invoke someone",
                  "answer": "Here great talk given PyCon Ned Batchelder year Python manages variables https www youtube com watch v AEJHKGk ns I think help clear confusion",
                  "_deepnote_index_column": 784161
                },
                {
                  "id": 29732789,
                  "question": "Iterating Pandas Data Frame conditions",
                  "question_body": "I trying iterate large data frame However I ca n't figure include conditions Below example data frame chr R chr R chr R chr R chr R I want iterate rows find row difference column x row column row less If difference x row row less select values column rows x put list I want iterate condition data frame make list lists values column I tried using iterrows I go entire data frame get nothing Thanks Rodrigo",
                  "answer": "This done without using iterrows All work Another approach use np package numpy This example Pl modify per requirement import numpy np df 'newcol ' np df df iloc lt df dfList df 'newcol ' tolist",
                  "_deepnote_index_column": 698237
                },
                {
                  "id": 3527110,
                  "question": "redirecting standard output print messages gui instead terminal",
                  "question_body": "usr bin python import wx import os import sys class MyFrame wx Frame def init self parent id title wx Frame init self parent id title size self panel MyPanel self self Centre self Show True setstd print 'test ' syncall class MyPanel wx Panel def init self parent id wx Panel init self parent id self text wx StaticText self `` class MyText def write string label frame panel text GetLabel frame panel text SetLabel string def setstd sys stdout MyText sys stderr MyText app wx App frame MyFrame None 'DropBox log ' app MainLoop Without print 'test ' even runs print 'test ' n't run redirect output How redirect standard output print messages gui instead terminal",
                  "answer": "I finally found http www velocityreviews com forums wxpython redirect stdout textctrl html",
                  "_deepnote_index_column": 98785
                },
                {
                  "id": 3860745,
                  "question": "Decorators applied class definition Python",
                  "question_body": "Compared decorators applied function 's easy understand decorators applied class foo class Bar object def init self x self x x def spam self statements What 's use case decorators class How use",
                  "answer": "One use case I think want wrap methods class one function decorator Say following decorator def logit f def res args kwargs print Calling f name return f args kwargs return res And following class gt gt gt class Pointless def foo self print 'foo ' def bar self print 'bar ' def baz self print 'baz ' gt gt gt p Pointless gt gt gt p foo p bar p baz foo bar baz You decorate methods gt gt gt class Pointless logit def foo self print 'foo ' logit def bar self print 'bar ' logit def baz self print 'baz ' gt gt gt p Pointless gt gt gt p foo p bar p baz Calling foo foo Calling bar bar Calling baz baz But LAME Instead gt gt gt def logall cls dir cls callable getattr cls setattr cls logit getattr cls return cls gt gt gt logall class Pointless def foo self print 'foo ' def bar self print 'bar ' def baz self print 'baz ' gt gt gt p Pointless gt gt gt p foo p bar p baz Calling foo foo Calling bar bar Calling baz baz UPDATE A generic version logall gt gt gt def wrapall method def dec cls dir cls callable getattr cls setattr cls method getattr cls return cls return dec gt gt gt wrapall logit class Pointless def foo self print 'foo ' def bar self print 'bar ' def baz self print 'baz ' gt gt gt p Pointless gt gt gt p foo p bar p baz Calling foo foo Calling bar bar Calling baz baz gt gt gt Full disclosure I 've never I made example",
                  "_deepnote_index_column": 107245
                },
                {
                  "id": 36097678,
                  "question": "Tensorflow set random seed working",
                  "question_body": "Calling tf set random seed SEED effect I tell For example running code several times inside IPython notebook produces different output time import tensorflow tf tf set random seed sess tf InteractiveSession tf constant tf initialize variables run shuf tf random shuffle print eval print shuf eval sess close If I set seed explicitly shuf tf random shuffle seed output run But I need set seed I already call tf set random seed The equivalent code using numpy works import numpy np np random seed np random shuffle print",
                  "answer": "That sets graph level random seed If execute snippet several times row graph change two shuffle statements get different operation level seeds The details described doc string set random seed To get deterministic shuf either Call tf reset default graph invocations Set operation level seed shuffle shuf tf random shuffle seed",
                  "_deepnote_index_column": 874036
                },
                {
                  "id": 22880401,
                  "question": "Displaying Kannada characters fetched MySQL",
                  "question_body": "I English Kannada characters stored MySQL table following format There two columns table IBM Microsoft When I run select statement Kannada characters MySQL Workbench I get output proper Kannada prompt But I try access Kannada characters Python program using MySQLdb module display display question marks Could someone suggest I going wrong",
                  "answer": "Just set database collection field utf general ci",
                  "_deepnote_index_column": 533979
                },
                {
                  "id": 38856487,
                  "question": "Matplotlib adding circle subplot Issue Confused",
                  "question_body": "Bit odd one I 'm clearly missing something I 'm getting really weird behaviour I ca n't work I 'm wrong I plot subplots grid format sake post I 'll say grid I want plot stuff also add circle Should easy 's acting I expect Example Code import matplotlib pyplot plt x circle plt Circle fig axes plt subplots axes plot x axes plot x axes add patch circle axes add patch circle plt show Output Example Code import matplotlib pyplot plt x circle plt Circle fig axes plt subplots axes plot x axes plot x axes add patch circle axes add patch circle plt show Output Example Code import matplotlib pyplot plt x circle plt Circle fig axes plt subplots axes plot x axes plot x axes add patch circle axes add patch circle plt show Output I really n't understand behaviour example work I 'm cause Can anyone shed light Thanks advance",
                  "answer": "using 'circle ' plot two different patches think creating problem throws error Can reset axes You probably trying use artist one Axes supported need create different circles subplots import matplotlib pyplot plt x circle plt Circle circle plt Circle fig axes plt subplots axes plot x axes plot x axes add patch circle axes add patch circle plt show",
                  "_deepnote_index_column": 950155
                },
                {
                  "id": 25508280,
                  "question": "Ca n't work function behaves way",
                  "question_body": "We building web crawler task create function outputs keyword url 's attached keyword The keyword duplicated list This final code index def add index index keyword url entry index entry keyword entry append url return index append keyword url inputs add index index 'udacity ' ' http udacity com ' add index index 'computing ' ' http acm org ' add index index 'udacity ' ' http npr org ' These correct results 'udacity ' 'http udacity com ' 'http npr org ' 'computing ' 'http acm org ' There couple things really struggling understand function The first thing function say duplicate keyword As far tell statement index append keyword url add keyword Udacity twice index list fact add twice put statement loop So really n't understand loop specifing duplicate keyword list The function seems saying append url index list keyword matches go loop add keyword url And second thing really n't understand index append keyword url statement bottom loop If put top gives completely different results Shown index def add index index keyword url index append keyword url entry index entry keyword entry append url return 'udacity ' 'http udacity com ' 'http udacity com ' 'http npr org ' 'computing ' 'http acm org ' 'http acm org ' 'udacity ' 'http npr org ' Why When statement loop nothing returned index empty So n't understand putting statement top would produce results I really struggled understand complete blank Any help would much appreciated Many thanks",
                  "answer": "There return statement causes function exit found matching keyword This means index append keyword url ever executed function could find matching keyword collection index def add index index keyword url entry index entry keyword We found matching keyword add url list urls exit function entry append url return We n't find matching keyword add new keyword url list collection index append keyword url",
                  "_deepnote_index_column": 593928
                },
                {
                  "id": 26422495,
                  "question": "Normalize columns pandas data frame",
                  "question_body": "I data frame pandas column different value range For example df A B C Any idea I normalize columns data frame value My desired output A B C",
                  "answer": "Your problem actually simple transform acting columns def f return max frame apply f axis",
                  "_deepnote_index_column": 614161
                },
                {
                  "id": 16232159,
                  "question": "Load PostgreSQL database data NetCDF file",
                  "question_body": "I netCDF file eight variables sorry share actual file Each variable two dimensions time station Time steps station currently different ids So different locations actually id variables different times ncdump h stationdata nc netcdf stationdata dimensions station name strlen time UNLIMITED currently variables int time time time long name time time units seconds since char station name station name strlen station name long name station name station name cf role timeseries id float var time station var long name Variable var units float var time station var long name Variable var units This data needs loaded PostGres database data join geometries matching station name later visualization Currently I done Python netCDF module Works takes forever Now I looping like times rootgrp variables 'time ' stations rootgrp variables 'station name ' timeindex time enumerate times stations rootgrp variables 'station name ' stationindex stationnamearr enumerate stations var val var timeindex stationindex print INSERT INTO ncdata validtime stationname var VALUES ' ' ' ' time stationnamearr var val This takes several minutes machine run I feeling could done much clever way Anyone idea done smarter way Preferably Python",
                  "answer": "Not sure right way I found good way solve thought I share In first version script took one hour run After rewrite code runs less sec The big thing use numpy arrays transponse variables arrays NetCDF reader become rows stack columns one matrix This matrix loaded db using psycopg copy function I got code question Use binary COPY table FROM psycopg Parts code dates num date rootgrp variables 'time ' units rootgrp variables 'time ' units var rootgrp variables 'var ' var rootgrp variables 'var ' cpy cStringIO StringIO timeindex time enumerate dates validtimes np empty var timeindex size dtype object validtimes fill time Transponse stack arrays parameters b c b b b b gt b c c c c c b c b c np hstack validtimes reshape validtimes size stationnames reshape stationnames size var timeindex reshape var timeindex size var timeindex reshape var timeindex size Fill cStringIO text representation created array row cpy write row strftime Y H M ' ' row ' ' ' ' join str x x row ' n ' conn psycopg connect host postgresserver dbname nc user user password passwd curs conn cursor cpy seek curs copy cpy 'ncdata ' columns 'validtime ' 'stationname ' 'var ' 'var ' conn commit",
                  "_deepnote_index_column": 375945
                },
                {
                  "id": 39173276,
                  "question": "In python self require object type",
                  "question_body": "I reading Class Objects python docs I hoping someone clear following How come scenarios return 'hello world ' The first instance I kind understand least I believe I self referencing object 'MyClass ' I guess passing 'm ' self second instance Does function 'self ' need ANY reference 'MyClass ' object gt gt gt class MyClass A simple example class def f self return 'hello world ' gt gt gt MyClass f MyClass 'hello world ' gt gt gt MyClass gt gt gt MyClass f 'hello world '",
                  "answer": "Python duck typed meaning n't matter type self long provides correct interface Here self n't used body function could pass absolutely anything MyClass f would work gt gt gt MyClass f None 'hello world ' gt gt gt MyClass f 'hello world ' gt gt gt MyClass f foo 'hello world '",
                  "_deepnote_index_column": 959343
                },
                {
                  "id": 1195520,
                  "question": "Installing Django mod wsgi",
                  "question_body": "I wrote application using Django It works fine django test server But I tried get likely production enviroment Apache server fails run app The server I use WAMP I 've PHP programmer years I 've using WAMPServer since long ago I installed mod wsgi seems work fine services error I ca n't configure httpd conf look python scripts located outside server root For I 'm cool overriding document root serve django app document root instead httpd conf line look like WSGIScriptAlias C Users Marcos Documents mysite apache django wsgi server 's response Forbidden",
                  "answer": "mod wsgi 's documentation good Try using quick configuration guide go http code google com p modwsgi wiki QuickConfigurationGuide",
                  "_deepnote_index_column": 33291
                },
                {
                  "id": 28886377,
                  "question": "import scipy signal convolve",
                  "question_body": "I installed Anaconda trying use convolve method scipy convolve I import module 'import scipy signal convolve ' ImportError Traceback recent call last lt ipython input e eecf b gt lt module gt gt import scipy signal convolve ImportError No module named convolve really confuses I installed latest Anaconda worked modules I used like matplotlib pyplot How I install module convolve",
                  "answer": "try instead scipy signal import convolve",
                  "_deepnote_index_column": 675919
                },
                {
                  "id": 26871833,
                  "question": "MAYA Python Script getting position selected object using GetAttr",
                  "question_body": "I trying make simple allign tool maya using Python script far I got import maya cmds cmds selected cmds ls selection True selected cmds getAttr 'Cube translateX ' And seems get X position object names cube scene However I would like get translate object I selected I hope someone help thanks",
                  "answer": "kartikg 's answer work fine As alternative maya 's default behavior use selected objects default commands need objects work So original selection cmds ls sl True item selected cmds select item r True replace original selection one item print cmds getaAttr translateX name attribute name Maya supplies current selection This useful want series commands every object list since n't type string formatter every command However kartikg 's method easier read debug since check replace command print statement",
                  "_deepnote_index_column": 625252
                },
                {
                  "id": 32586500,
                  "question": "Python script runnig boot raspberry",
                  "question_body": "I made python script raspberry home pi bin script py usr bin python urllib import urlopen time import sleep FILE publicip SITE http ipecho net plain DELAY seconds def get ip True wait DELAY seconds sleep DELAY get current public ip try ip urlopen SITE read except IOError continue compare one file file value open FILE read ip file value equal open FILE w write ip update ip file name main get ip It 's propose get public ip store file I need script run loop update file soon ip changes If power fail I want run raspberry restarts So I updated etc rc local file bin sh e home pi bin script py exit After I used sudo reboot restart raspberry I 'm using PuTTY windows computer connect raspberry After logging I used ps e grep script py see script runnig Then I runned script manually worked What would solve problem",
                  "answer": "Your option use cron sudo crontab e open crontab set script run often like put entry reboot home pi bin script py run boot sequence non numeric options yearly Run year annually yearly monthly Run month weekly Run week daily Run day midnight daily hourly Run hour The standard entry Minute Hour Day Month Month Day Week Command home pi bin script py Once hour hour home pi bin script py Every minute Edit reference comment performing cron means take timing within code cron So would end something like usr bin python urllib import urlopen FILE publicip SITE http ipecho net plain def get ip try ip urlopen SITE read except IOError continue compare one file file value open FILE read ip file value equal open FILE w write ip update ip file name main get ip With reference existing code I notice never closing file endless loop opening read opening write I 'm sure quite python handle offhand certainly n't good practice",
                  "_deepnote_index_column": 775064
                },
                {
                  "id": 37006395,
                  "question": "Ca n't save form data Django database",
                  "question_body": "I 'm creating forms Django project I problem I ca n't save form data Django database one forms I add data Wish list model ca n't add comment There error messages changes submitting form Can please tell I mistake This models moders py class Person AbstractUser phone number models CharField max length place work study models CharField max length img models ImageField upload 'Person ' null True blank True class Meta verbose name 'Person ' verbose name plural 'Users ' def unicode self return self username class Wish list models Model person models ForeignKey Person null True types 'Educational ' 'Educational ' 'Cultural ' 'Cultural ' 'Sports ' 'Sports ' 'Fun ' 'Fun ' 'Other ' 'Other ' type models CharField max length choices types default 'Other ' periods 'Up hour ' 'Up hour ' 'From hours ' 'From hours ' 'From hours ' 'From hours ' 'More hours ' 'More hours ' time need models CharField max length choices periods place name models CharField max length blank False null False description models CharField max length def unicode self return unicode self place name class Comment wish list models Model person models ForeignKey Person null True comment models ForeignKey Wish list null True text models CharField max length def published self self published date timezone self save class Meta verbose name plural 'comments wish lists ' def unicode self return unicode self comment This forms py class Wish listForm forms ModelForm place name forms CharField max length help text 'enter place name ' types 'Educational ' 'Educational ' 'Cultural ' 'Cultural ' 'Sports ' 'Sports ' 'Fun ' 'Fun ' 'Other ' 'Other ' type forms ChoiceField choices types help text 'choose type ' periods 'Up hour ' 'Up hour ' 'From hours ' 'From hours ' 'From hours ' 'From hours ' 'More hours ' 'More hours ' time need forms ChoiceField choices periods help text 'period ' description forms CharField max length help text 'description ' views forms IntegerField widget forms HiddenInput initial likes forms IntegerField widget forms HiddenInput initial class Meta model Wish list fields 'place name ' 'type ' 'time need ' 'description ' 'likes ' class Comment wish listForm forms ModelForm text forms CharField max length help text 'enter text ' views forms IntegerField widget forms HiddenInput initial likes forms IntegerField widget forms HiddenInput initial class Meta model Comment wish list fields 'text ' 'views ' 'likes ' This urls py app name 'friends plans ' urlpatterns url r ' ' views index name 'index ' start page url r ' users ' views listing name 'listing ' url r ' P lt person id gt wish list ' views wish list name 'wish list ' url r ' P lt person id gt ' views user name 'user ' url r ' P lt person id gt P lt day id gt ' views day name 'day ' url r ' add wish list ' views add wish list name 'add wish list ' url r ' P lt wish list id gt comment ' views comment name 'comment ' url r ' P lt wish list id gt add comment ' views add comment name 'add comment ' This views py def add comment request wish list id wish list get object Wish list pk wish list id request method 'POST ' form Comment wish listForm request POST instance wish list form valid newform form save commit False newform person request user newform save else print form errors else form Comment wish listForm return render request 'friends plans add comment html ' 'form ' form This template Comment extends 'friends plans base html ' block title Comments endblock block content comment wish list wish list comment wish list set lt div gt comment wish list text lt div gt endfor lt div gt lt href url 'friends plans add comment ' wish list pk gt Add comment lt gt lt div gt lt div gt endblock And template add comment one I problem extends 'friends plans base html ' block content lt h gt Add wish list lt h gt lt form method post action gt csrf token form p lt input type submit value Add comment gt lt form gt endblock",
                  "answer": "The instance must match form 's model Comment wish list It n't make sense pass instance wish list form model n't match You set comment field saving form commit False way set person field wish list get object Wish list pk wish list id request method 'POST ' form Comment wish listForm request POST form valid instance form save commit False instance person request user instance comment wish list instance save",
                  "_deepnote_index_column": 899717
                },
                {
                  "id": 10436963,
                  "question": "With SQLAlchemy I make dynamic relation",
                  "question_body": "I SyncEntities class shown I several classes CommodityTypes also shown related SyncEntities class All Base subclasses column uuidKey Column String primary key True Assume se instance SyncEntities se entityKind name Base subclass How I query object se entityKind class filtering se uuidKey class SyncEntities Base tablename 'SyncEntities ' uuidKey Column String primary key True dateCreated Column DateTime index True dateModified Column DateTime index True dateSynced Column DateTime index True username Column String entityKind Column String deleted Column Boolean def init self entity security self uuidKey newUUID self dateCreated security self dateModified security self dateSynced security self username security username self entityKind entity tablename self deleted False def modified self security self dateModified security self username security username class CommodityTypes Base tablename 'CommodityTypes ' uuidKey Column String ForeignKey 'SyncEntities uuidKey ' primary key True myName Column String unique True sortKey Column Integer unique True mySyncEntity relationship SyncEntities def init self security myName sortKey self syncEntity SyncEntities self security self uuidKey self syncEntity uuidKey self myName myName self sortKey sortKey",
                  "answer": "The structure similar though quite polymorphic association read pattern blog post http techspot zzzeek org polymorphic associations sqlalchemy It 's old post example http techspot zzzeek org files discriminator association py added later updated example This case little different object like CommodityTypes refers single SyncEntities multiple usual polymorphic association The SyncEntities also refer single type related object since entityKind locally I would note potential problem design could rows tables uuidKey pointing particular SyncEntities instance type matches entityKind If relationship CommodityTypes SyncEntities actually one one changes everything pattern really simple joined table inheritance 'd use patterns described http docs sqlalchemy org en rel orm inheritance html You also n't backrefs target SyncEntities often way automate styles lookup But still approximate things using lookup entityKind types classes def lookup related se types 'commodity ' CommodityTypes 'foobar ' FooBarTypes cls types se entityKind session object session se return session query cls filter cls mySyncEntity se 's mixin could also using backref class HasSyncEntity object entity kind None subclasses need populate declared attr def uuidKey cls return Column String ForeignKey SyncEntities uuidKey primary key True declared attr def mySyncEntity cls return relationship SyncEntities backref collection cls entity kind CommodityTypes becomes class CommodityTypes HasSyncEntity Base entity kind commodity You add method like SyncEntities looks appropriate backref 're done def get related self return getattr self collection self entityKind",
                  "_deepnote_index_column": 255234
                },
                {
                  "id": 24819800,
                  "question": "Django rest framework complex query",
                  "question_body": "I database created Each table model django Given tables plus Customer primary key Customer lt Membership Club How I make rest web service using django rest framework showing data tables Do I make non persistent model web service data I 'm new python django rest framework By following code I query tables way I want although I want tables data actually customer club data one single result order send result rest framework I access URL get json response cId Customer objects filter pk memberships Membership objects filter customer id cId clubs Club objects filter pk memberships I 'm order learn make complex web service using rest django Any hint appreciated",
                  "answer": "Did set related name ForeignKey fields You make backward search using related name As I see need ManyToMany relation Customer Club There comes power Django ORM Take look documentation using Many many relationships https docs djangoproject com en topics db queries many many relationships If provide models I 'd give concrete code examples queries",
                  "_deepnote_index_column": 577467
                },
                {
                  "id": 36392636,
                  "question": "Should I store temporary files pycache folder",
                  "question_body": "I writing memoizing decorator Python The plan pickle cache temporary file save time across multiple executions The cache deleted file containing decorated function changed like pyc file pycache So I started thinking uncluttering user 's project directory placing pickled cache pycache Are side effects storing files directory Is misleading confusing",
                  "answer": "You either Have caching happen runtime This beats purpose However way touch filesystem Dedicate special folder like memo something This allow caching across several executions However 'll pollute application 's file structure Reasons never mess pycache pycache CPython specific Although 's likely implementation 're using right 's portable safe good practice assume everyone good reason pycache intended transparent optimization one care exists This design decision CPython folks circumvent Due aforementioned directory may disabled user wants For instance CPython python B myapp py pycache created n't exist otherwise ignored Users often delete pycache two points several reasons I least Messing things inside pycache n't pollute application 's file structure illusion The directory perfectly considered pollution If Python interpreter already pollutes stuff ca n't memo anyway",
                  "_deepnote_index_column": 882346
                },
                {
                  "id": 12559838,
                  "question": "For every x number files create new directory move files using Python",
                  "question_body": "I directory thousand files I 'd like able make sub directories inside larger director move exactly files filtered extension newly created directories I would love guidance get going Here trifle I 'm starting wd os chdir r'foobar ' allgzs file os listdir wd file endswith 'asc gz ' allgzs append file gz allgzs For every gz files Create directory os mkdir Move files directory shutil move",
                  "answer": "If 're keen keeping code already wrote intuitive way finish import os import shutil wd os chdir r'foobar ' allgzs file os listdir wd file endswith 'asc gz ' allgzs append file n name subdir n gz allgzs os path exists name os mkdir name shutil move gz name len os listdir name n name subdir n",
                  "_deepnote_index_column": 302688
                },
                {
                  "id": 982185,
                  "question": "Executing shell commands given UID Python",
                  "question_body": "I need way execute os system module different UID 's It would need behave similar following BASH code note exact commands I executing su user ls mv file su user ls mv file The target platform GNU Linux Generic Of course I could pass os system module send password Of course I could run script root 's sloppy insecure Preferably I would like without requiring passwords plain text",
                  "answer": "Somewhere along line process going need effective UID root process set effective UID arbitrary UID At shell su command SUID root program appropriately privileged POSIX jargon set real effective UID Similarly sudo command job With sudo also configure commands UID allowed The crucial difference su requires target user 's password let sudo requires password user running There course issue whether user know passwords users In general user know user 's password Scripting UID changes hard You su altuser c commands execute altuser sudo u altuser commands execute altuser However su demand password controlling terminal fail controlling terminal If use sudo cache credentials configured get asked password prompt first time like su Working around prompting hard You use tools parallel expect handle pseudo ttys However faced storing passwords scripts good idea somehow stashing sight The tool I use job one I wrote called asroot It allows control precisely UID GID attributes child process But designed allow use compile time authorized username specified course changed However I things like asroot u someone g theirgrp C A othergrp somecmd arg This sets real effective UID 'someone ' sets primary group 'theirgrp ' removes auxilliary groups adds 'othergrp ' process belongs two groups sets umask executes 'somecmd ' arguments given For specific user needs limited limited access user accounts works well As general solution hot sudo better respects still requires password asroot",
                  "_deepnote_index_column": 27207
                },
                {
                  "id": 13941387,
                  "question": "How Python 's super right thing",
                  "question_body": "I 'm running Python question may apply Python When make diamond class hierarchy using multiple inheritance create object derived class Python Right Thing TM It calls constructor derived class parent classes listed left right grandparent I 'm familiar Python 's MRO 's question I 'm curious object returned super actually manages communicate calls super parent classes correct order Consider example code usr bin python class A object def init self print A init class B A def init self print B init super B self init class C A def init self print C init super C self init class D B C def init self print D init super D self init x D The code intuitive thing prints D init B init C init A init However comment call super B 's init function neither A C 's init function called This means B 's call super somehow aware C 's existence overall class hierarchy I know super returns proxy object overloaded get operator object returned super D 's init definition communicate existence C object returned super B 's init definition Is information subsequent calls super use stored object If n't super instead self super Edit Jekke quite rightly pointed 's self super super attribute class instance class Conceptually makes sense practice super n't attribute class either You test interpreter making two classes A B B inherits A calling dir B It super super attributes",
                  "answer": "super knows full class hierarchy This happens inside B 's init gt gt gt super B self lt super lt class ' B ' gt lt D object gt gt This resolves central question object returned super D 's init definition communicate existence C object returned super B 's init definition Namely B 's init definition self instance D thus communicates existence C For example C found type self mro",
                  "_deepnote_index_column": 16569
                },
                {
                  "id": 38964116,
                  "question": "The kernel died automatic restart failed",
                  "question_body": "I getting following error I run ipython notebook directory contains file named cmd py So question WHY everything perfect I rename remove file Traceback recent call last File lt string gt line lt module gt File home virtualenvs demo lib python site packages IPython init py line lt module gt core application import Application File home virtualenvs demo lib python site packages IPython core application py line lt module gt IPython core import release crashhandler File home virtualenvs demo lib python site packages IPython core crashhandler py line lt module gt IPython core import ultratb File home virtualenvs demo lib python site packages IPython core ultratb py line lt module gt IPython core import debugger File home virtualenvs demo lib python site packages IPython core debugger py line lt module gt pdb import Pdb OldPdb File usr local lib python pdb py line lt module gt class Pdb bdb Bdb cmd Cmd AttributeError 'module ' object attribute 'Cmd ' NotebookApp WARNING KernelRestarter restart failed NotebookApp WARNING Kernel e cf b b f af e c cfa died removing map ERROR root kernel e cf b b f af e c cfa restarted failed",
                  "answer": "I ran across problem started frantically search reason kernel dying For least solution came trial error I tried opening new notebook another directory kernel die So I figured kernel dying specific directory path The reason behind I already active session iPython directory path another machine As soon I ended session machine problem solved",
                  "_deepnote_index_column": 651778
                }
              ],
              "rows_bottom": [
                {
                  "id": 26650373,
                  "question": "How show PIL Image ipython notebook",
                  "question_body": "This code PIL import Image pil im Image open 'data empire jpg ' I would like image manipulation show screen I problem showing PIL Image python notebook I tried print pil im And pil im But give lt PIL JpegImagePlugin JpegImageFile image mode RGB size x x ECA gt",
                  "answer": "If using pylab extension could convert image numpy array use matplotlib 's imshow pylab started pylab option imshow array pil im EDIT As mentioned comments pylab module deprecated use matplotlib magic instead import function explicitly matplotlib matplotlib pyplot import imshow imshow array pil im",
                  "_deepnote_index_column": 619637
                },
                {
                  "id": 7924371,
                  "question": "Ca n't save shortcut startup folder windows xp access denied com error",
                  "question_body": "I 've written Python program uses comtypes ctypes create shortcut saves Startup folder In development mode everything works great program built using py exe run following error occurs 'Access denied ' None None None None os winxp sp code goes like shellObj CreateObject ShellLink shortcut shellObj QueryInterface IShellLinkW shortcut SetWorkingDirectory os path dirname sys executable shortcut SetPath link target shortcut SetDescription link desc pf shellObj QueryInterface IPersistFile Try pf Save link loc link file name True except Exception ex print ex finally pf Release shortcut Release If I persist shortcut ordinary folder startup problems occur",
                  "answer": "Run py exe program administrator privileges",
                  "_deepnote_index_column": 201155
                },
                {
                  "id": 3402313,
                  "question": "Python Assign global variable function return requires function global",
                  "question_body": "So I 'm confused I module containing function I use another module Imported like lt module gt import Inside module exist functions whose purpose set global variables main program main py functions import bar print bar changeBar print bar functions py def changeBarHelper variable variable variable return variable def changeBar global bar bar changeBarHelper bar Now simplification least code yields result Traceback recent call last File path main py line changeBar File path functions py line changeBar bar changeBarHelper bar NameError global name 'bar ' defined",
                  "answer": "Well I ca n't comment posts solution n't working I would like clarify bit There two modules main py functions import bar print bar changeBar print bar functions py def changeBarHelper variable variable variable return variable def changeBar global bar bar changeBarHelper bar Now simplification least code yields result Traceback recent call last File path main py line changeBar File path functions py line changeBar bar changeBarHelper bar NameError global name 'bar ' defined Now solution given n't working problem I would really like solution",
                  "_deepnote_index_column": 94146
                },
                {
                  "id": 7762311,
                  "question": "fill start end unique entry value numpy array",
                  "question_body": "D numpy array Lets look following example In array unique entries considered except value We want fill values unique entry resultant look like could easily done Looking pythonic way Thanks lot",
                  "answer": "A shorter numpy based solution import numpy numpy array b numpy argmax len numpy argmax numpy unique lt b b list tuples consisting unique value start index end index",
                  "_deepnote_index_column": 197369
                },
                {
                  "id": 20669136,
                  "question": "Why dictionary automatically printing without telling",
                  "question_body": "I 'm messing around classes dictionaries trying understand use better The idea I came create bunch classes gave bunch different descriptors object I used monsters D amp D create dictionary monsters I could use key dictionary load descriptors classes import dice dice module made import textwrap class Goblin object def init self self name 'Goblin ' self desc 'bla bla bla I 'm going type whole thing ' self health dice roll def describe self print self name print self health 'other random info self desc ' print textwrap fill self desc goblin Goblin So 's class setup When I put print goblin describe everything worked fine Then I set dictionary bestiary 'Goblin ' goblin describe I deleted goblin describe command telling program print anything I run program runs goblin describe shows chunk text describing goblin My question way make I could independently use goblin describe monster I make describe pull description I understand probably easier ways I 'm trying figure 's",
                  "answer": "I 'm sure I follow exactly 're trying I really understand meant deleted goblin describe Do mean removed dict removed method class In either case maybe caching delete pyc files working directory try Or maybe 're trying add method dictionary call describe later point You add method instead calling remember python everything including methods objects Therefore perfectly goblin Goblin bestiary 'Goblin ' goblin describe later call 'describe ' follows bestiary 'Goblin ' though personally I 'd opt following legible goblin Goblin bestiary 'Goblin ' goblin bestiary 'Goblin ' describe",
                  "_deepnote_index_column": 481642
                },
                {
                  "id": 36898315,
                  "question": "How I call variable function within different function",
                  "question_body": "I currently trying create text based game I trying make pick items variable reads 'True ' use items different room The problem I currently one room kill monster I create variable monster dead True But I move onto another function script forgets monster dead difficult explain lot script paste I try pick part script I trouble def room riddle monster alive True riddle monster alive print 'As step room feel someone watching You close door behind hear door click n locked ' print You look center room greeted strange creature Kappa print 'the creature calls You lost You could die I could kill Master fun ' print ' How play game win I go lose I eat right ' import random 'rock ' b 'paper ' c 'scissors ' rockpaperscissorlist b c print 'The Kappa known trickery games best play game ' print ' Rock paper scissors play till one us loses ' game choice raw input 'Pick A Rock B Paper C Scissors b c n gt ' lower kappa choice random choice rockpaperscissorlist elif game choice ' ' kappa choice c print 'Kappa picks scissors ' print 'You Win ' riddle monster alive False break riddle monster alive False room So I new function room monster dead However script gets complicated I let player move back rooms end function room play monster def room print 'The air still Kappa vanished ' print 'You see door right door left ' print 'What n A Take door right n B Take door left n C Go back way came n D Search room ' room choice raw input ' gt ' lower room choice ' ' room elif room choice ' b ' room elif room choice ' c ' room elif room choice 'd ' print 'You searched found nothing puddle water Kappa stood ' room I feel like I making complicated necessary",
                  "answer": "You call variable local function defined within context function outside function This violates scope rules A variable declared function different one defined outside For instance x global variable defined outside function def f x creates new local variable defined inside function return local variable destroyed f print x gt gt gt gt global variable returned unaffected You need declare want variable global e accessible everywhere using global keyword e g x def f global x lets Python know want assign value global variable x 're changing global variable x outside function return f print x gt gt gt gt global variable changed In case want def room global riddle monster alive declares variable global room change global value riddle monster alive False makes variable False everywhere continue That Being Said Using global variables known anti pattern You avoid making use construct much possible As Matt S points comments using objects classes much better solution",
                  "_deepnote_index_column": 896447
                },
                {
                  "id": 32179912,
                  "question": "How I append numpy array without reassigning result new variable",
                  "question_body": "I matrix M dimensions n I need append new columns matrix L dimensions l So basically I end matrix n l No problem I use numpy concatenate numpy vstack numpy append following fashion np command M L return new matrix The problem arises fact I need append many many matrices original matrix size matrices L known beforehand So I ended M original matrix find L matrix M np append M L check I need append matrix Knowing matrix M approximately k rows I add average k columns process super slow takes couple hours I n't know exactly long I gave hours The problem clearly append function I tried vstack nothing changes Also I calculate matrices L without appending I spend less minutes task I assume reassigning matrix makes slow Intuitively makes sense I constantly recreating matrix M removing old matrix But I know get rid reassigning part One idea creating empty matrix beforehand populating correct columns faster problem I know dimensions I create way predict number columns matrix So I improve performance",
                  "answer": "There 's way append existing numpy array without creating copy The reason numpy array must backed contiguous block memory If I create array decide I want append another row I 'd need able extend chunk RAM corresponding array 's big enough accommodate elements In general case impossible since adjacent memory addresses may already allocated objects The way 'concatenate ' arrays get OS allocate another chunk memory big enough new array copy contents original array new row space This obviously inefficient 're repeatedly loop especially since copying step becomes expensive array gets larger larger Here two possible work arounds Use standard Python list accumulate rows inside loop convert list array single step outside loop Appending Python list cheap compared concatenating numpy arrays since list array pointers n't necessarily reference adjacent memory addresses therefore copying required Take educated guess number rows final array allocate numpy array 's slightly bigger fill rows go along If run space concatenate another chunk rows Obviously concatenation step expensive since 'll need make copy 're much better twice every iteration loop When 're choosing initial number rows output array trade avoiding allocating unnecessary concatenation steps Once 're done could 'trim ' unused rows using slice indexing",
                  "_deepnote_index_column": 764250
                },
                {
                  "id": 32237707,
                  "question": "Trying upload data Parse HTTPLib Python",
                  "question_body": "I trying upload several files Parse HTTLib following code connection httplib HTTPSConnection 'api parse com ' connection connect connection request 'POST ' ' files ' fileName open fileName 'rb ' read X Parse Application Id CXB R Q Z vUVbOqAgBNeDe bavqfc QH fJv X Parse REST API Key hBDXavBbm V xXJX MfcWjB lIrx DFTlWTbm Content Type image png result pic json loads connection getresponse read print result pic For first files worked perfectly Then sudden broke First I could n't read responses anymore result pic send exception ResponseNotReady I changed things code around I try establish connection I always get de coding error form Traceback recent call last File Users apple PycharmProjects untitled Angel list request py line lt module gt Content Type image png File System Library Frameworks Python framework Versions lib python httplib py line request self send request method url body headers File System Library Frameworks Python framework Versions lib python httplib py line send request self endheaders body File System Library Frameworks Python framework Versions lib python httplib py line endheaders self send output message body File System Library Frameworks Python framework Versions lib python httplib py line send output msg message body UnicodeDecodeError 'ascii ' codec ca n't decode byte xff position ordinal range No idea happening Something decoding I n't encounter",
                  "answer": "Figured It unicode conversion fileName Even though fileName String I force cast str fileName Everything working",
                  "_deepnote_index_column": 765802
                },
                {
                  "id": 23355398,
                  "question": "Exception handling loop EAFP",
                  "question_body": "I request JSON data may may contain 'items ' key list objects I want process individually So I write something like json data request get json item json data 'items ' process item item But since presence 'items ' key mandatory additional measure needs taken I would like follow EAFP approach wrapping try except statement json data request get json try item json data 'items ' process item item except KeyError e pass Let 's assume KeyError exception happened inside process item function may indicate code error thus go unnoticed I want make sure I catch exceptions coming statement predicate workaround I came json data request get json try item json data 'items ' process item item except KeyError e e message 'items ' raise e pass But It looks ugly It relies knowledge process item implementation assuming KeyError 'items ' raised inside If statement becomes complex e g json data 'raw ' 'items ' except clause making even less readable maintainable Update The suggested alternative json data request get json try items json data items except KeyError items item items process item item essentially json data request get json json data 'items ' items json data 'items ' else items item items process item item So check loop I would like know pythonic EAFP approach",
                  "answer": "You catch exception accessing items json data request get json try items json data items except KeyError items item items process item item However replace try block call get function making much cleaner item request get json get items process item item",
                  "_deepnote_index_column": 545386
                },
                {
                  "id": 20171468,
                  "question": "Turn content file dictionary",
                  "question_body": "I want return dictionary file contains What I code def read report filename new report input filename open filename line input filename lines line new report append lines input filename close return new report It says I ca n't append dictionary So would I go adding lines file dictionary Let 's say filename shorts b c longs b c mosts count avglen b c",
                  "answer": "def read line filename list new report file name open filename file name list append range len list new report list file name close return new report",
                  "_deepnote_index_column": 470476
                },
                {
                  "id": 38237661,
                  "question": "How Properly Format RetroFit Header Django",
                  "question_body": "I trying send HTTP request using Django includes username password header order retrieve token On computer terminal I following command works properly http POST api token auth username 'admin ' password 'whatever ' I trying Retrofit Headers username 'admin ' password 'whatever ' POST api token auth Call lt TokenJSON gt getToken However I presented error Headers value must form Name Value Is correct way format header",
                  "answer": "If values dynamic use Call lt TokenJSON gt getToken Header username String var Header password String var Or static use Headers username Bar password Pong Call lt TokenJSON gt getToken",
                  "_deepnote_index_column": 932995
                },
                {
                  "id": 31002122,
                  "question": "How would I go adding Tkinter program",
                  "question_body": "import sys import time random import randint replies It certain It decidedly Without doubt Yes definitely You may rely As I see yes Most likely Outlook good Yes Signs point yes Reply hazy try Ask later Better tell Can predict Concentrate ask Do n't count My reply My sources say Outlook good Very doubtful def question print What question question raw input print Thinking time sleep print replies randint end def end print Thanks playing Do want try user reply raw input user reply Yes yes question else user reply No print Goodbye sys exit print print Welcome Magic ball print question It 's fine I 'd like something bit challenging I 'd like add GUI Tkinter make bit interesting Where I start",
                  "answer": "In specific case best solution would rewrite program scratch GUI programs n't work top like program GUI programs n't call sleep You need rethink program work event driven perspective",
                  "_deepnote_index_column": 732467
                },
                {
                  "id": 32411204,
                  "question": "TypeError unbound method decode must called JSONDecoder instance first argument got PrintJson instance instead",
                  "question_body": "TypeError unbound method decode must called JSONDecoder instance first argument got PrintJson instance instead I getting error I try parse python object json Using following code import json json import JSONDecoder class TestJson name None pass printJson PrintJson print printJson print JSONDecoder decode printJson line getting error",
                  "answer": "It 's calling method JSONDecoder class instance This would work json import JSONDecoder JSONDecoder decode ' '",
                  "_deepnote_index_column": 770466
                },
                {
                  "id": 38857104,
                  "question": "Pythonic way replace every second comma string space",
                  "question_body": "I string looks like coords What I want bring format coords So every second number replace comma space Is simple pythonic way Right I trying using split function create list loop list But seems rather straightforward",
                  "answer": "This sort works gt gt gt coords split ' ' gt gt gt ' ' ' ' ' ' ' ' ' ' ' ' gt gt gt ' ' join zip ' ' ' ' ' '",
                  "_deepnote_index_column": 950171
                },
                {
                  "id": 15989790,
                  "question": "Python Pylab pcolor options publication quality plots",
                  "question_body": "I trying make DFT discrete fourier transforms plots using pcolor python I previously using Mathematica I find colorbar mathematica bad one one correlation data I try represent For instance data I plotting So lot zeros small numbers DFT matrix small quantity high frequency energies When I plot using mathematica result The color bar I thought I 'd like plot python instead My python code I hijacked numpy import corrcoef sum log arange numpy random import rand pylab import pcolor show colorbar xticks yticks pylab import data np array np float pcolor data colorbar yticks arange range xticks arange range show savefig ' home mydir foo eps ' figsize dpi And python code plots Now question list questions I like python plots would like use How I make blue represents go away like mathematica plot How I rotate plot bright red spot top left corner The way I set dpi correct Any useful references I use strengthen love python I looked questions user manual numpy found much help I plan publishing data rather important I get bits pieces right Edit Modified python code resulting plot What improvements would one suggest make publication worthy numpy import corrcoef sum log arange save numpy random import rand pylab import data np array np float v abs data max v abs data min pcolor data cmap binary colorbar xlabel X fontsize fontweight bold ylabel Y fontsize fontweight bold xticks arange range fontsize yticks arange range fontsize axis show savefig ' home mydir Desktop py dft eps ' figsize dpi",
                  "answer": "Just record Mathematica GraphicsGrid MatrixPlot l ColorFunction gt ColorData TemperatureMap Rescale Min l Max l amp ColorFunctionScaling gt False BarLegend TemperatureMap Max l",
                  "_deepnote_index_column": 375069
                },
                {
                  "id": 14276971,
                  "question": "Specify connection factory SQLAlchemy 's create engine",
                  "question_body": "I custom connection factory class inherits psycopg extensions connection I would like SQLAlchemy use From create engine documentation kwargs takes wide variety options routed towards appropriate components Arguments may specific Engine underlying Dialect well Pool Specific dialects also accept keyword arguments unique dialect When I try specify connection factory parameter like engine create engine dsn engine info connection factory ConnectionEx I get traceback Traceback recent call last File foo py line lt module gt user import test user File vagrant workspace panel panel user py line lt module gt panel helpers import intval File vagrant workspace panel panel init py line lt module gt import panel views File vagrant workspace panel panel views py line lt module gt panel api import api functions File vagrant workspace panel panel api api functions py line lt module gt panel targeting import SavedTargetSet File vagrant workspace panel panel targeting py line lt module gt panel database import panelists tbl us cities tbl income buckets tbl File vagrant workspace panel panel database py line lt module gt engine create engine dsn engine info connection factory ConnectionEx File home vagrant virtualenvs project lib python site packages sqlalchemy engine init py line create engine return strategy create args kwargs File home vagrant virtualenvs project lib python site packages sqlalchemy engine strategies py line create engineclass name TypeError Invalid argument 'connection factory ' sent create engine using configuration PGDialect psycopg QueuePool Engine Please check keyword arguments appropriate combination components",
                  "answer": "When documentation talking appropriate components referring components SQLAlchemy API rather various drivers Since connection factory parameter needs sent connect use keyword connect args call create engine documentation also mentioned Thus engine create engine dsn engine info connect args 'connection factory ' ConnectionEx",
                  "_deepnote_index_column": 339366
                },
                {
                  "id": 22276135,
                  "question": "Django view convert URL PDF PyQt",
                  "question_body": "I trying write Django view return PDF URL I 'm using PyQt webview print create PDF I unsure pass pdf Django response I 've tried QBuffer I ca n't seem get right Here view far def pdf request app QApplication sys argv bufferPdf QBuffer bufferPdf open QBuffer ReadWrite web QWebView web load QUrl http www google com desired url printer QPrinter printer setPageSize QPrinter Letter printer setOrientation QPrinter Landscape printer setOutputFormat QPrinter PdfFormat printer setOutputFileName file pdf def convertIt web print printer print Pdf generated QApplication exit QObject connect web SIGNAL loadFinished bool convertIt bufferPdf seek result bufferPdf readData bufferPdf close sys exit app exec response HttpResponse result mimetype 'application pdf ' response 'Content Disposition ' 'attachment filename coupon pdf ' return response Thanks advance",
                  "answer": "Here 's write example want import sys PyQt import QtCore QtGui QtWebKit class WebPage QtWebKit QWebPage def init self QtWebKit QWebPage init self self printer QtGui QPrinter self printer setPageSize QtGui QPrinter Letter self printer setOrientation QtGui QPrinter Landscape self printer setOutputFormat QtGui QPrinter PdfFormat self mainFrame loadFinished connect self handleLoadFinished def start self url self mainFrame load QtCore QUrl url QtGui qApp exec def handleLoadFinished self temp QtCore QTemporaryFile QtCore QDir temp filePath 'webpage XXXXXX pdf ' must open file get filename file automatically deleted later temp open self printer setOutputFileName temp fileName ensure file written temp close self mainFrame print self printer temp open self pdf temp readAll data QtGui qApp quit def webpage pdf url hasattr WebPage 'app ' one QApplication must created first WebPage app QtGui QApplication sys argv webpage WebPage webpage start url return webpage pdf name ' main ' len sys argv gt url sys argv else url 'http www google com ' result webpage pdf url response HttpResponse result mimetype 'application pdf ' response 'Content Disposition ' 'attachment filename coupon pdf ' stuff response",
                  "_deepnote_index_column": 519231
                },
                {
                  "id": 20332681,
                  "question": "iterating list dictionary names",
                  "question_body": "I trying create breadth first search data set I need iterate data set I 'm sure iterate list dictionaries contain list I know access say node second value I would 'node However I 'm sure iterate name This n't actual code I would want something similar key dict print key dict j key dict print j This pseudo code print key data list respective dict ex 'node ' 'node ' 'node ' 'node ' ' ' ' b ' ' c '",
                  "answer": "'node ' 'node ' 'node ' 'node ' ' ' ' b ' ' c ' python dict key list dict iteritems print ' ' format key list python dict key list dict items print ' ' format key list output node node node node ' ' ' b ' ' c '",
                  "_deepnote_index_column": 474246
                },
                {
                  "id": 38604232,
                  "question": "Weird behavior numpy arrays arrays typing",
                  "question_body": "Why first array converted entirely string type individual types second array remain How would I force first array np array np array np array bb ccc consist dtype np int array dtype np str array I tried setting dtype object entire array caused dtypes individual arrays also change object gt gt gt import numpy np gt gt gt np array np array np array bb ccc array ' ' ' ' ' ' ' ' 'bb ' 'ccc ' dtype ' lt U ' gt gt gt np array np array np array bb ccc array array array ' ' 'bb ' 'ccc ' dtype ' lt U ' dtype object",
                  "answer": "Look outputs gt gt gt np array np array np array bb ccc array ' ' ' ' ' ' ' ' 'bb ' 'ccc ' dtype ' lt U ' gt gt gt np array np array np array bb ccc array array array ' ' 'bb ' 'ccc ' dtype ' lt U ' dtype object The first output concatenates arrays x array cell three elements The second output concatenate arrays Now watch gt gt gt np array np array gt gt gt b np array np array ' ' ' j ' ' k ' gt gt gt np concatenate b array ' ' ' ' ' ' ' ' ' j ' ' k ' dtype ' lt U ' gt gt gt np array np array gt gt gt np concatenate b Traceback recent call last File lt stdin gt line lt module gt ValueError input array dimensions except concatenation axis must match exactly gt gt gt np concatenate b axis array ' ' ' ' ' ' ' ' ' ' ' j ' ' k ' dtype ' lt U ' See difference When Numpy tries concatenate arrays ints strings dimension NumPy convert ints strings If n't equal dimensions wo n't concatenate get errors",
                  "_deepnote_index_column": 943125
                },
                {
                  "id": 23912559,
                  "question": "imshow numpy array working expected Cartopy",
                  "question_body": "I 'm trying use Aster GDEM data cartopy success Say I numpy array I know geographical extent I able plot layer say GoogleTile cartopy io img tiles Sample code proj ccrs Mercator extent data np random rand fig plt figure figsize ax fig add subplot projection proj ax set extent extent ax imshow data extent extent origin 'upper ' transform proj alpha gg tiles GoogleTiles ax add image gg tiles alpha ax coastlines ' ' ax set title 'data Google Tile ' gl ax gridlines draw labels True gl xlabels top None produces data shown If I comment ax set extent extent data shown wrong extent suggestions",
                  "answer": "With cartopy data wrong place first two things I always rule first Have I got right projection Have I confused lons lats projection meters aka eastings northings So first thing I went NASA ASTER site n't seem much projection information jspacesystems site http www jspacesystems jp ersdac GDEM E html It tells us The ASTER GDEM GeoTIFF format geographic lat long coordinates arc second grid elevation postings It referenced WGS EGM geoid This suggest would better use PlateCarree projection note using incorrectly referenced ellipse pretty good resolution Sadly sourcing ASTER data bit headache I 've able test simply changing proj PlateCarree needed case If please feel free send image email address found github profile I 'll take look specific case HTH",
                  "_deepnote_index_column": 557032
                },
                {
                  "id": 9229168,
                  "question": "Checking list different criteria rules",
                  "question_body": "Given list items I want create function check matches certain criteria return true false Here example criteria expected output check criteria langList 'spanish ' 'english ' 'russian ' 'persian ' criteria 'any ' matches language result match langList contain one criteria 'any ' english chinese result match langList contain criteria 'any ' english chinese result match langList contains one criteria 'any ' english chinese result match langList contains criteria 'any ' english chinese result match langList contains one others criteria 'only ' english chinese result match langList contains others criteria 'only ' english chinese result match What 's best way My idea something like I 'm n't mastered list comprehension yet I think key def check criteria match criteria languageList rule criteria criteriaLanguages criteria match True rule 'any ' continue elif rule 'any ' check languageList match False break return match EDIT Based Praveen Gollakota 's answer final function n't pretty def check rule rule p original p pattern rule 'any ' return True elif rule 'any ' return bool set p set elif rule 'any ' return len set p set elif rule 'any ' return len set p set lt elif rule 'any ' return len set p set elif rule 'only ' return len set set p lt elif rule 'only ' return len set set p",
                  "answer": "You want membership testing sets appropriate data structures set operations work well You use sets lambda functions build rule based dispatcher like gt gt gt rule checker 'any ' lambda p True 'any ' lambda p bool set p set 'any ' lambda p len set p set gt gt gt lang list 'spanish ' 'english ' 'russian ' 'persian ' gt gt gt rule checker 'any ' lang list 'english ' 'chinese ' True gt gt gt rule checker 'any ' lang list 'english ' 'chinese ' False Of course need add rest rules EDIT You also write rules inside function like gt gt gt def check rule rule p original p pattern rule 'any ' return True elif rule 'any ' return bool set p set elif rule 'any ' return len set p set gt gt gt check rule 'any ' lang list 'english ' 'chinese ' True",
                  "_deepnote_index_column": 228589
                },
                {
                  "id": 1170017,
                  "question": "Adding Values From Tuples Same Length",
                  "question_body": "In graphical program I 'm writing using pygame I use tuple representing coordinate like Sometimes I call function returns another tuple represents change coordinate What best way add change value coordinate value It would nice I could something like coordinate change appears would simply concatenate two tuples something like Rather adding st value st value nd nd returning resulting tuple Until I 've using rather tiresome method coord coord change coord change What better concise method add together values two tuples length It seems especially important know tuples arbitrary length particularly long length would make previous method even tiresome",
                  "answer": "To get behaviour define class implement add method The following incomplete sample T py class T object def init self args self args def add self return T sum x x zip self def str self return str self def repr self return repr self gt gt gt T import T gt gt gt T gt gt gt b T gt gt gt gt gt gt b gt gt gt b gt gt gt b gt gt gt gt gt gt T gt gt gt b T gt gt gt b gt gt gt b b EDIT I 've found better way Define class T subclass tuple override new add methods This provides interface class tuple different behaviour add instances class T passed anything expects tuple class T tuple def new cls args return tuple new cls args def add self return T sum x x zip self def sub self return self add gt gt gt T gt gt gt b T gt gt gt gt gt gt b gt gt gt b gt gt gt b gt gt gt gt gt gt T gt gt gt b T gt gt gt b gt gt gt b b gt gt gt gt gt gt c b gt gt gt c gt gt gt c gt gt gt x c print x",
                  "_deepnote_index_column": 32626
                },
                {
                  "id": 25478562,
                  "question": "Issue trying use class 's name 's Class Variable section",
                  "question_body": "I 'm writing app Python PyQt right I 've bit issue This problem n't require knowledge PyQt static variables python I 'm tyring add signals class emit instance class signal tripped What I something like class Foo QObject Signals updated pyqtSignal Foo moved pyqtSignal Foo Python giving error NameError name 'Foo ' defined IIRC something class Foo bound globals I also ca n't use self either Any help fix issue would appreciated",
                  "answer": "The problem statement updated pyqtSignal Foo evaluated Foo constructed Foo n't exist statement evaluated In general case 'd move outside class definition although may pyqt magic e g using QObject rather Foo described answer class Foo Foo updated pyqtSignal Foo",
                  "_deepnote_index_column": 593345
                },
                {
                  "id": 20135858,
                  "question": "Python Overwriting List Element",
                  "question_body": "Is quick easy way computationally expensive overwrite element list corresponding element another list length iterates input How many iterates trials input How many trials aggregateList iterates def function recordList range iterates math goes recordList append aggregateList recordList range trials function The problem coming aggregateList recordList Any ideas something else work Say value recordList first iteration second third time aggregateList",
                  "answer": "So iterates number like trials another like aggregateList iterates aggregateList What 's purpose def function recordList range iterates math goes recordList append appending recordList That last line produce error like append takes exactly one argument given aggregateList recordList point The last value iteration e iterates supposed trials iterator How many items expect aggregateList point As written I expect give error IndexError list assignment index range range trials function What 'the problem ' What error message bad result getting I suspect familiar another language trying apply idioms Python Also get calculation working worrying efficiency At point though might want use numpy adds arrays ability math whole array",
                  "_deepnote_index_column": 469470
                },
                {
                  "id": 26552429,
                  "question": "Updating positions colors pyplot scatter",
                  "question_body": "I struggling ca n't get work I reading file chunks scatter plotting data I would like animate updating scatter plot chunk loop also adapt live stream data So something like ugly example works single plot x alpha c np asarray alpha scatter x marker ' ' color c edgecolors c But I update plot without calling remove scatter repeatedly The completely unintuitively named set array set offsets supposed update colors x positions I ca n't figure use type x alpha data I Also better way alpha plot",
                  "answer": "The solution I found involves using Normalize make normalised colour list based relevant data mapping ScalarMappable using set face colour c limits frame animation With scat handle scatter plot speedsList provides colour data n mpl colors Normalize vmin min speedsList vmax max speedsList mpl cm ScalarMappable norm n cmap mpl cm afmhot scat set facecolor rgba speedsList scat set clim vmin min speedsList vmax max speedsList This exactly I expect",
                  "_deepnote_index_column": 617273
                },
                {
                  "id": 31859927,
                  "question": "Capture output bash code run python",
                  "question_body": "I 'm trying capture output bash line I 'm executing python script using following code call bash subprocess Popen ' space jazz users gwarner test sh ' stdout subprocess PIPE output call bash communicate This works fine I 'd like change bash code written directly python script eliminating need separate sh file I know I run bash code python subprocess call I ca n't figure capture output normally gets printed terminal incase I 'm using wrong terminology Can anyone help I 'm running python CentOS",
                  "answer": "The first argument subprocess Popen list arguments unless specify shell True So could example like call bash subprocess Popen 'ssh ' 'me cli globusonline org ' 'scp comp blah text ep comp register ' stdout subprocess PIPE output call bash communicate This invoke ssh command arguments cli globusonline org scp comp blah text ep comp register",
                  "_deepnote_index_column": 755875
                },
                {
                  "id": 20977417,
                  "question": "Is possible access enclosing context manager",
                  "question_body": "There essentially three ways use statement Use existing context manager manager pass Create context manager bind result variable Manager result pass Create context manager discard return value Manager pass If place function get manager inside three blocks implementation return enclosing context manager least exit function It 's obviously easy first case I ca n't think way make work two I doubt 's possible get entire context manager since value stack popped immediately SETUP WITH opcode However since exit function stored block stack SETUP WITH way access",
                  "answer": "Unfortunately discussed comments possible cases When context manager created following code run cPython least I ca n't comment implementations case SETUP WITH static PyObject exit enter w TOP x special lookup w exit amp exit x break SET TOP x code follows The exit method pushed onto stack SET TOP macro defined define SET TOP v stack pointer v The stack pointer turn set top frame 's value stack start frame eval stack pointer f gt f stacktop Where f frame object defined frameobject h Unfortunately us trail stops The python accessible frame object defined following methods static PyMemberDef frame memberlist f back T OBJECT OFF f back RO f code T OBJECT OFF f code RO f builtins T OBJECT OFF f builtins RO f globals T OBJECT OFF f globals RO f lasti T INT OFF f lasti RO NULL Sentinel Which unfortunaltey include f valuestack would need This makes sense since f valuestack type PyObject would need wrapped object accessible python way TL DR The exit method 're looking located one place value stack frame object cPython n't make value stack accessible python code",
                  "_deepnote_index_column": 484186
                },
                {
                  "id": 4252214,
                  "question": "Generate possible numpad keypad sequences",
                  "question_body": "I trying generate possible keypad sequences digit length right For example mobile keypad looks like Some possible sequences The requirement digit number neighbor previous digit Here I planning start The information neighbor changes keypad keypad hardcode like neighbors I traversing digits append one possible neighbors required length achieved EDIT Updated neighbors diagonals allowed EDIT Digits reused",
                  "answer": "states def traverse distance left last state distance left yield else distance left states last state n traverse distance left yield n def produce series return range traverse pprint import pprint pprint produce series",
                  "_deepnote_index_column": 117864
                },
                {
                  "id": 19593821,
                  "question": "Django django admin py windows work",
                  "question_body": "I starting Django days I run command django admin py startproject myproject Well CMD prompt say command recognized Instead open Sublime file django admin py open course folder named myproject created inside current folder I managed start Django project typing commands like python C Python Scripts django admin py startproject myproject But I omit part absolute path information django admin py command work saying python find file inside current directory way I try use shorter commands PS I C Python C Python Scripts PATH",
                  "answer": "In past I similar issue windows I found using django admin listed worked django admin py startproject myproject",
                  "_deepnote_index_column": 455872
                },
                {
                  "id": 30626961,
                  "question": "Proper else syntax Python",
                  "question_body": "In python code I attempting implement else statement See index index x continue else index index x indexdn indexd indadd index index x indexdn indexdn indadd index indexdn indexdn However matter many different ways I attempt write else index x equal index I get syntax error return line I tried using else elif operand 'is ' What proper way write Python statement using equal operand I receive syntax error",
                  "answer": "The correct syntax condition stuff elif stuff elif stuff else stuff Note else get explicit condition catch none conditions True",
                  "_deepnote_index_column": 722347
                },
                {
                  "id": 11010833,
                  "question": "process file one one python",
                  "question_body": "I many many files folder I want process one another I need global dictionary record user identifier flowcount code like second third file processed user dict last file lose Because user id second file first file assigned flowcount instead new one I make one dictionary keep growing open files one one line fd readlines obj json loads line user obj host dst addr ' ' str obj host dst port user user dict user dict user user dict user append obj params flowcount Since size file big I merged one file ran script process computer kill process I process one one instead",
                  "answer": "You open multiple files python script use loop take care filename os listdir folderpath filepath os path join folderpath filename fd open filepath ' r ' code line fd readlines",
                  "_deepnote_index_column": 267909
                },
                {
                  "id": 36297040,
                  "question": "Lexical analyser Python Ignore comment line",
                  "question_body": "So I Lexical Analyser Python Java everything basically working I ca n't seem find way ignore comment lines using regex expressions I created ArrayLists reserved words operating signs comparison signs etc This I far int encontrouLista token token replaceAll token contains write println espa em branco token token replaceAll else token contains n write println quebra de linha token token replaceAll r n r n Entry lt String ArrayList gt entry listas entrySet encontrouLista break token length gt amp amp entry getValue contains token write println token pertence entry getKey encontrouLista encontrouLista amp amp token matches token matches A Za z A Za z write println token identificador encontrouLista else token matches write println token num rico inteiro encontrouLista else token matches write println token num rico real encontrouLista else write println token n reconhecido I tried use line ignore comment lines token token replaceAll But I think code considering comment identificador instead ignoring token matches A Za z A Za z write println token identificador encontrouLista Can somebody please help Am I using correct regex expression Also I need find way define things inside prints",
                  "answer": "n n Here working DEMO",
                  "_deepnote_index_column": 879737
                },
                {
                  "id": 12915959,
                  "question": "Python Compare two dictionaries write identical entries separate file",
                  "question_body": "I two tab delimited files The number lines files I 've put first two columns files dictionaries I want get identical key value pairs files separate output file example dict 'sim orf ' 'gi ref YP ' 'sim orf ' 'gi ref YP ' dict 'gi ref YP ' 'sim orf ' 'gi ref YP ' 'sim orf ' File sim orf gi ref YP File gi ref YP sim orf update Thank responding",
                  "answer": "This write third file ONLY key value pairs present dict However want entire line original files need deal differently One possible way would add lines directly dict faster lookup outfile open 'path output file ' ' w ' k v dict iteritems k dict dict k v outfile write ' ' join k v ' n ' outfile close Hope helps",
                  "_deepnote_index_column": 310052
                },
                {
                  "id": 6807174,
                  "question": "Python run system command exit wo n't exit",
                  "question_body": "I following python code os system C Python python exe C GUI TestGUI py sys exit It runs command fine window pops However n't exit first script It stays I eventually force kill process No errors produced What 's going",
                  "answer": "instead os system use subprocess Popen runs command n't wait exits import subprocess import sys subprocess Popen mupdf home dan Desktop Sieve JFP pdf sys exit note os system command like p subprocess Popen command p wait",
                  "_deepnote_index_column": 177424
                },
                {
                  "id": 35110972,
                  "question": "Why TensorFlow Convnet attempted training result NaN gradients",
                  "question_body": "I modified MNIST x Convnet tutorial code accept larger images x But I try train I receive error see end full stack trace W tensorflow core common runtime executor cc x e Compute status Invalid argument ReluGrad input finite Tensor NaN values Here 's code Worryingly I get error using image data disk generating noisy red blue green squares trying classify colour The code generates RGB data different code scans directories JPG image data So either systematically wrong way I loading data something wrong proposed architecture I could include modules I worry might make post unreadably long EDIT I tried code moderately larger images x DOES work So perhaps error related high dimensionality x problem import tensorflow tf import numpy np import data image loader Set hyperparameters num epochs width height num categories num channels batch size sanity num training examples num test examples num batches num training examples batch size It 's convenient define methods perform frequent routine tasks def weight variable shape `` ' Generates TensorFlow Tensor This Tensor gets initialized values sampled truncated normal distribution Its purpose store model parameters param shape The dimensions desired Tensor return The initialized Tensor `` ' initial tf truncated normal shape stddev return tf Variable initial def bias variable shape `` ' Generates TensorFlow Tensor This Tensor gets initialized values sampled lt gt distribution Its purpose store bias values param shape The dimensions desired Tensor return The initialized Tensor `` ' initial tf constant shape shape return tf Variable initial def conv x W `` ' Generates conv TensorFlow Op This Op flattens weight matrix filter D strides across input Tensor x selecting windows patches For little patch Op performs right multiply W little patch stores result output layer feature maps param x minibatch images dimensions batch size height width param W filter dimensions window height window width input channels output channels e g first conv layer input channels RGB output channels number desired feature maps return A TensorFlow Op convolves input x filter W `` ' return tf nn conv x W strides padding 'SAME ' def max pool x x `` ' Genarates max pool TensorFlow Op This Op strides window across input x In window maximum value selected chosen represent region output Tensor Hence size dimensionality problem reduced param x A Tensor dimensions batch size height width return A TensorFlow Op max pools input Tensor x `` ' return tf nn max pool x ksize strides padding 'SAME ' Set model x tf placeholder float shape None height width num channels x image tf reshape x width height num channels tf placeholder float shape None num categories st conv layer W conv weight variable num channels x conv window colour channels outputted feature maps b conv bias variable h conv tf nn relu conv x image W conv b conv h pool max pool x h conv nd conv layer W conv weight variable b conv bias variable h conv tf nn relu conv h pool W conv b conv h pool max pool x h conv fully connected layer W fc weight variable b fc bias variable h pool flat tf reshape h pool h fc tf nn relu tf matmul h pool flat W fc b fc droupout keep prob tf placeholder float h fc drop tf nn dropout h fc keep prob softmax output layer W fc weight variable num categories b fc bias variable num categories conv tf nn softmax tf matmul h fc drop W fc b fc saving model saver tf train Saver Load data disk dataset data image loader ImageLoad base path home hal Datasets id dataset num categories num categories width width height height data training np asarray np split dataset data training num batches labels training np asarray np split dataset labels training num batches data test np split dataset data test labels test np split dataset labels test Train model evaluate performance tf Session sess cross entropy tf reduce sum tf log conv train step tf train GradientDescentOptimizer minimize cross entropy train step tf train AdamOptimizer minimize cross entropy correct prediction tf equal tf argmax conv tf argmax accuracy tf reduce mean tf cast correct prediction float sess run tf initialize variables j range num epochs range num batches train step run feed dict x np asarray data training np asarray labels training keep prob print EPOCH str j print test accuracy g n accuracy eval feed dict x data test labels test keep prob saver save sess saved models convnet image str j ckpt Error I tensorflow core common runtime local device cc Local device intra op parallelism threads I tensorflow core common runtime direct session cc Direct session inter op parallelism threads W tensorflow core common runtime executor cc xc e Compute status Invalid argument ReluGrad input finite Tensor NaN values Node gradients Relu grad Relu CheckNumerics CheckNumerics T DT FLOAT message ReluGrad input finite device job localhost replica task cpu add W tensorflow core common runtime executor cc xc e Compute status Invalid argument ReluGrad input finite Tensor NaN values Node gradients Relu grad Relu CheckNumerics CheckNumerics T DT FLOAT message ReluGrad input finite device job localhost replica task cpu add W tensorflow core common runtime executor cc xc e Compute status Invalid argument ReluGrad input finite Tensor NaN values Node gradients Relu grad Relu CheckNumerics CheckNumerics T DT FLOAT message ReluGrad input finite device job localhost replica task cpu add Traceback recent call last File home hal PycharmProjects TensorFlow Experiments neural nets image convnet py line lt module gt train step run feed dict x np asarray data training np asarray labels training keep prob File usr local lib python dist packages tensorflow python framework ops py line run run using default session self feed dict self graph session File usr local lib python dist packages tensorflow python framework ops py line run using default session session run operation feed dict File usr local lib python dist packages tensorflow python client session py line run results self run target list unique fetch targets feed dict string File usr local lib python dist packages tensorflow python client session py line run e code tensorflow python framework errors InvalidArgumentError ReluGrad input finite Tensor NaN values Node gradients Relu grad Relu CheckNumerics CheckNumerics T DT FLOAT message ReluGrad input finite device job localhost replica task cpu add Caused op u'gradients Relu grad Relu CheckNumerics ' defined File home hal PycharmProjects TensorFlow Experiments neural nets image convnet py line lt module gt train step tf train AdamOptimizer minimize cross entropy File usr local lib python dist packages tensorflow python training optimizer py line minimize aggregation method aggregation method File usr local lib python dist packages tensorflow python training optimizer py line compute gradients aggregation method aggregation method File usr local lib python dist packages tensorflow python ops gradients py line gradients grads AsList grad fn op wrapper grads File usr local lib python dist packages tensorflow python ops nn grad py line ReluGrad VerifyTensor op inputs op name ReluGrad input finite File usr local lib python dist packages tensorflow python ops nn grad py line VerifyTensor verify input array ops check numerics message msg File usr local lib python dist packages tensorflow python ops gen array ops py line check numerics name name File usr local lib python dist packages tensorflow python ops op def library py line apply op op def op def File usr local lib python dist packages tensorflow python framework ops py line create op original op self default original op op def op def File usr local lib python dist packages tensorflow python framework ops py line init self traceback extract stack originally created op u'Relu ' defined File home hal PycharmProjects TensorFlow Experiments neural nets image convnet py line lt module gt h conv tf nn relu conv x image W conv b conv File usr local lib python dist packages tensorflow python ops gen nn ops py line relu return op def lib apply op Relu features features name name File usr local lib python dist packages tensorflow python ops op def library py line apply op op def op def File usr local lib python dist packages tensorflow python framework ops py line create op original op self default original op op def op def File usr local lib python dist packages tensorflow python framework ops py line init self traceback extract stack Process finished exit code",
                  "answer": "One likely source trouble tf log conv emit NaN values zeroes conv The tf nn softmax cross entropy logits operator offers numerically stable efficient version loss calculation The following work better logits tf matmul h fc drop W fc b fc conv tf nn softmax logits cross entropy tf nn softmax cross entropy logits logits correct prediction tf equal tf argmax conv tf argmax",
                  "_deepnote_index_column": 844951
                },
                {
                  "id": 28238700,
                  "question": "In IPython help raw input returns ' raw input lambda prompt `` ' What meaning",
                  "question_body": "When I try use help get function information raw input I see something rather difficult understand Help function lt lambda gt module IPython kernel zmq ipkernel raw input lambda prompt `` Can anyone help decipher Thank",
                  "answer": "It looks like 're coding Python inside older version IPython notebook raw input function The reason see raw input lambda prompt `` Python autogenerates docstrings help messages lambda functions add docstring lambda function In version IPython IPython kernel zmq ipkernel module contains line makes empty raw input function looks something like raw input lambda prompt `` None In summary fix upgrade latest IPython",
                  "_deepnote_index_column": 659215
                },
                {
                  "id": 22791688,
                  "question": "How get Tor relay info via python stem linux",
                  "question_body": "I trying control tor ubuntu linux using python 's stem library instructed tor 's website However I ran suggested python code stem control import Controller Controller port port controller controller authenticate provide password set one bytes read controller get info traffic read bytes written controller get info traffic written print My Tor relay read bytes written bytes read bytes written I get error Traceback recent call last File littleRelay py line module bytes read controller get info traffic read File usr local lib python dist packages stem control py line get info raise exc stem InvalidArguments GETINFO request contained unrecognized keywords traffic read So I get Tor relay info via python stem linux I think Tor running fine I started tor terminal says notice Tor successfully opened circuit Looks like client functionality working notice Bootstrapped Done Furthermore I run python code terminal says notice New control connection opened P S I also tried code windows pc worked I 'm really puzzled",
                  "answer": "Problem Solved Thank Damian I uninstalled Tor Ubuntu install Tor following detail guideline Now Tor works python code I 'm sure exactly problem arose I suppose problem installing Tor Ubuntu naively using sudo apt get install tor",
                  "_deepnote_index_column": 530834
                },
                {
                  "id": 19577042,
                  "question": "String Object Python",
                  "question_body": "I need able convert string representation object back original state another computer I use class A example class A def init self self data test self name Bob def str self return str self data str self name An object class A must able recreated separate computer So separate computer received A memberData memberName could convert object class A I need possible user defined object Preferably I would like user create toString toObject method",
                  "answer": "Pickle seems right choice You might want use dump load methods save get object string The object pickle object pi myDict Dump data string file pickle dump object pi filename The file serialized data retrieve fileHandler open filename ' r ' The data stored object variable object pickle load fileHandler Source link snip code Using Pickle To Save Objects In Python",
                  "_deepnote_index_column": 169053
                },
                {
                  "id": 38552281,
                  "question": "How scan panda dataframe values greater something returns row column number corresponding value",
                  "question_body": "I problem I huge data set like Correl Coeef matrix A B C D E A B C D E I want fetch values data frame cell value greater along row name column name like row name col name value A C C A C D C E D C E C If also ignore either A C C A would much better I know I using loop method efficient large data set",
                  "answer": "Here 's NumPy based approach Extract values row column names arr df values index names df index col names df columns Get indices threshold crossed avoid diagonal elems R C np np triu arr gt Arrange columns put dataframe arr np column stack index names R col names C arr R C df pd DataFrame arr columns 'row name ' 'col name ' 'value ' Sample run In df Out A B C D E P Q R S T In df Out row name col name value P E Q C Q E R D S E",
                  "_deepnote_index_column": 941625
                },
                {
                  "id": 34757855,
                  "question": "How get longest length string integer float pandas column strings column",
                  "question_body": "I dataframe many columns data different types I encountered one column String Integers contained within I trying find values longest shortest length note largest value NOTE The eg I using integers I could n't work mix dtypes still call int column Name MixedField david b andrew c calvin david e calvin f david The method I using convert df column String Series might double int string combinations I get max min length items series df 'MixedField ' apply str map len max df 'MixedField ' apply str map len min But ca n't work select actual values maximum minimum length ie longest shortest I possibly n't need explain subtle difference largest longest ie aa longer z Appreciate help Thanks",
                  "answer": "I think work df unique indices field length df MixedField astype str map len print df loc field length argmax 'MixedField ' print df loc field length argmin 'MixedField '",
                  "_deepnote_index_column": 835239
                },
                {
                  "id": 4160800,
                  "question": "Creating Dependency Graphs Python",
                  "question_body": "I inherited huge codebase I need make small changes I wondering utilities would parse python code give dependencies functions I make changes function I want sure I dont break functions I could see graph like diagram would make life easier",
                  "answer": "Usually dependency defined module package import What looking visualizing call flow http pycallgraph slowchop com You still guarantee break functionality My experience solution Many times I found call flow data overwhelming diagram complex So usually trace call flow partially function I interested This done utilizing sys settrace function After generating call flows textual data I generate call graph using graphviz http docs python org library sys html On call tracing For generating graphs use graphviz solutions networkX Edit based comments Then piecemeal solution works better Just insert code use decorator function want trace You see gaps deferred comes picture worked You get complete picture directly I trying made post works understanding",
                  "_deepnote_index_column": 115581
                },
                {
                  "id": 36169811,
                  "question": "write multiple inputs text file using python",
                  "question_body": "I 'm writing ham radio logger I want write multiple inputs line breaks Here 's example raw input question ' text ' raw input question ' ' f write question print ' ' f write question print ' ' Is way combine line break I 've tried f write question n question n I get errors I want make shorter I 'm new Python",
                  "answer": "You right path needed make changes code Try size question raw input 'Any question ' question raw input 'What another question ' f open 'filename txt ' 'wb ' f write QUESTION str question nQUESTION str question f close Output look like QUESTION What ham radio QUESTION Do I need license",
                  "_deepnote_index_column": 876081
                },
                {
                  "id": 13139288,
                  "question": "Call Django view template",
                  "question_body": "I want call Django view Django template Is tag For example I want create view manage login form So basically view used send Django form html template Thank help",
                  "answer": "Map url view Redirect url template",
                  "_deepnote_index_column": 314925
                },
                {
                  "id": 9319344,
                  "question": "Check existence string list tuples",
                  "question_body": "If list 'foo ' 'bar ' 'floo ' 'blar ' easily test string first element tuples something like 'foo ' list checking first element tuple list",
                  "answer": "First list tuple list gt gt gt list 'foo ' 'bar ' 'floo ' 'blar ' gt gt gt 'foo ' zip list True You also use itertools prefer gt gt gt itertools import izip gt gt gt 'foo ' next izip list True",
                  "_deepnote_index_column": 230573
                },
                {
                  "id": 20230343,
                  "question": "ImportError No module named lxml etree",
                  "question_body": "I 'm trying import premailer project keeps failing etree import I installed binary lxml The lxml module imports fine 's showing correct path library folder I log lxml module I ca n't import etree There 's etree pyd lxml folder python ca n't seem see read I 'm windows bit Does anyone know 's going wrong",
                  "answer": "Are using Cygwin 's python something else I wrote long answer problems another post ImportError Permission Denied using LXML",
                  "_deepnote_index_column": 413103
                },
                {
                  "id": 14250048,
                  "question": "How many second Keep Alive stays Tornado",
                  "question_body": "'ve two small question What difference EventDriven model Thread model handling open connections How many seconds takes IOLoop closing connection",
                  "answer": "Event driven means client requested information server initiate request The request event A thread process runs outside IO thread ie main thread Depends http www tornadoweb org documentation httpserver html highlight keep alive http server search keep alive If asking long browser sit waiting request finish I believe indefinitely So keeps open finish response However I think browsers may quit request respond timeout I 'm certain I test browser still waiting finish minutes counting",
                  "_deepnote_index_column": 338805
                },
                {
                  "id": 20330319,
                  "question": "keyring module included packaging py exe",
                  "question_body": "I making app using python windows keyring In python code eclipse I used import keyring keyring set password service jsonkey json res json res keyring get password service jsonkey working fine I storing json response keyring But I converted python code exe using py exe shows import error keyring making dist Please suggest include keyring py exe Traceback recent call last File APP py line lt module gt File keyring init pyc line lt module gt File keyring core pyc line lt module gt File keyring util platform pyc line lt module gt File keyring util platform pyc line lt module gt AttributeError 'module ' object attribute 'system ' platform py code future import absolute import import os import platform def data root Windows try root os environ 'LOCALAPPDATA ' except KeyError Windows XP root os path join os environ 'USERPROFILE ' 'Local Settings ' return os path join root 'Python Keyring ' def data root Linux Use freedesktop org Base Dir Specfication determine storage location fallback os path expanduser ' local share ' root os environ get 'XDG DATA HOME ' None fallback return os path join root 'python keyring ' default use Unix convention data root globals get ' data root ' platform system data root Linux platform py code import os import sys While support Python use convoluted technique import platform stdlib With Python later future import absolute import import platform exec ' import platform globals dict ' platform sys modules 'platform ' def data root Windows try root os environ 'LOCALAPPDATA ' except KeyError Windows XP root os path join os environ 'USERPROFILE ' 'Local Settings ' return os path join root 'Python Keyring ' def data root Linux Use freedesktop org Base Dir Specfication determine storage location fallback os path expanduser ' local share ' root os environ get 'XDG DATA HOME ' None fallback return os path join root 'python keyring ' default use Unix convention data root globals get ' data root ' platform system data root Linux",
                  "answer": "The issue 're reporting due environment contains invalid modules perhaps improper installation one version keyring another You want ensure 've removed remnants older version keyring In particular make sure 's file called keyring util platform site packages After however 'll encounter another problem Keyring loads backend modules programmatically py exe wo n't detect To work around 'll want add 'packages ' declaration py exe options specifically include keyring backends package I invoked following setup py script Python convert 'app py ' imports keyring exe distutils core import setup import py exe setup console 'app py ' options dict py exe dict packages 'keyring backends ' The resulting app exe import invoke keyring",
                  "_deepnote_index_column": 474172
                },
                {
                  "id": 27305275,
                  "question": "Index element list",
                  "question_body": "I need process list emails cut make output counter iterations MailList email gmail com email gmail com email gmail com I list emails I need process get next output User number email I 'm using something like c MailList print 'user ' ' ' c I need insert get desirable counter output",
                  "answer": "If I understand correctly want MailList email gmail com email gmail com email gmail com index value enumerate MailList print 'user ' format index value split See docs details enumerate",
                  "_deepnote_index_column": 636007
                },
                {
                  "id": 28256360,
                  "question": "How generate permutations list Python",
                  "question_body": "How generate permutations list Python independently type elements list For example permutations permutations permutations permutations EDIT Eliben pointed solution 's similar mine although simpler I 'm choosing accepted answer although Python builtin solution itertools module import itertools itertools permutations",
                  "answer": "This algorithm effective one avoids array passing manipulation recursive calls works Python def permute items length len items def inner ix yield len ix length range length ix avoid duplicates continue yield yield tuple items ix else p inner ix yield p return inner Usage p permute print p",
                  "_deepnote_index_column": 2365
                },
                {
                  "id": 36910629,
                  "question": "Installing PyQt Python mac",
                  "question_body": "I 'm trouble getting PyQt work Python I able get PyQt work tutorials seem using PyQt web scraping looks like I 'm forced use PyQt I 've followed directions http pyqt sourceforge net Docs PyQt installation html whenever I get 'make install ' part everything copied Python directory works Python I tried setting destination directory python configure py destdir Users ryan anaconda lib python site packages still installed python dir I also tried setting python version python configure py target py version returns configure py error option target py version",
                  "answer": "You use homebrew Once brew installed simply type following commands terminal brew install sip python brew install pyqt python",
                  "_deepnote_index_column": 896817
                },
                {
                  "id": 23276189,
                  "question": "Does StructuredProperty reference parent child",
                  "question_body": "Does StructuredProperty reference parent child class Invoices ndb Model Child class Customers ndb Model Parent invoice ndb StructuredProperty Invoices class Customers ndb Model Parent class Invoices ndb Model Child customer ndb StructuredProperty Customers",
                  "answer": "To answer question context better practice NoSQL Datastore 's I offer First probably want name models singular describe single Invoice Customer entity several Next using StructuredProperty implies 'd like keep information single entity reduce write read ops introduce limitations See docs related question The common relationship would one Customer many Invoice relationship structure class Invoice ndb Model Child invoice id ndb StringProperty required True class Customer ndb Model Parent invoices ndb StructuredProperty Invoices repeated True def get invoice id self invoice id Returns customer Invoice invoice id Raises KeyError invoice present invoice matches iv iv self invoices iv invoice id invoice id invoice matches raise KeyError Customer Invoice ID invoice id return invoice matches could changed return matches Keep mind following restrictions implementation StructuredProperty contain repeated properties inside The complexity keeping invoice id globally unique going higher Invoice entity group invoice key get always better query requires You would need instance method Customer find Invoice invoice id You would need logic prevent invoices ID existing single Customer Here advantages You query Customer Querying Invoice invoice id return Customer instance along invoices This could pro con actually need logic return invoice customer Here common solution means necessarily right solution This solution uses ancestor relationships allow keep writes Invoice related Customer atomic could maintain aggregate invoice statistics Customer level total orders total gross etc class Invoice ndb Model customer ndb ComputedProperty lambda self self key parent indexed False indexed essentially property class Customer ndb Model def get invoice id self invoice id Returns customer Invoice invoice id Raises KeyError invoice present invoice key ndb Key Invoice get kind invoice id parent self key return invoice key get def query invoices self Returns ndb Query invoices Customer return self query ancestor self key invoice Invoice parent customer key invoice properties Good luck Appengine Once get hang truly rewarding platform Update Here additional code transactionally updating customer aggregate totals I mentioned def create invoice customer key gross amount paid Creates invoice given customer Args customer key ndb Key Customer key gross amount paid int Gross amount paid customer ndb transactional def txn customer customer key get invoice Invoice parent customer key gross amount gross amount paid Keep atomic transactional count customer aggregates customer total gross gross amount paid customer total orders batched put API optimization ndb put multi customer invoice return invoice return txn The code works single entity group transaction e g ndb transactional xg False Invoice child entity Customer If connection lost would need xg True I 'm sure 's expensive less optimized",
                  "_deepnote_index_column": 543427
                },
                {
                  "id": 24538216,
                  "question": "download file intranet python",
                  "question_body": "I 'd like download series pdf files intranet I 'm able see files web browser without issue trying automate pulling file via python I run problems After talking proxy set office I download files internet quite easily answer url 'http www sample com fileiwanttodownload pdf ' user 'username ' pswd 'password ' proxy ip ' ' proxy url 'http ' user ' ' pswd ' ' proxy ip proxy support urllib ProxyHandler http proxy url opener urllib build opener proxy support urllib HTTPHandler urllib install opener opener file name url split ' ' u urllib urlopen url f open file name 'wb ' f close whatever reason wo n't work url pointing something intranet The following error returned Traceback recent call last File lt ipython input eaf e gt line lt module gt runfile ' C softwaredev python pdfwrite py ' wdir ' C softwaredev python ' File C Anaconda lib site packages spyderlib widgets externalshell sitecustomize py line runfile execfile filename namespace File C softwaredev python pdfwrite py line lt module gt u urllib urlopen url File C Anaconda lib urllib py line urlopen return opener open url data timeout File C Anaconda lib urllib py line open response meth req response File C Anaconda lib urllib py line http response 'http ' request response code msg hdrs File C Anaconda lib urllib py line error result self call chain args File C Anaconda lib urllib py line call chain result func args File C Anaconda lib urllib py line http error return self parent open new timeout req timeout File C Anaconda lib urllib py line open response meth req response File C Anaconda lib urllib py line http response 'http ' request response code msg hdrs File C Anaconda lib urllib py line error return self call chain args File C Anaconda lib urllib py line call chain result func args File C Anaconda lib urllib py line http error default raise HTTPError req get full url code msg hdrs fp HTTPError Service Unavailable Using requests py following code I successfully pull files internet trying pull pdf office intranet I get connection error sent back html The following code run import requests url 'www intranet sample com layout attachment amp cfapp amp attachmentid ' proxies http http https http local filename 'test pdf ' r requests get url proxies proxies stream True open local filename 'wb ' f chunk r iter content chunk size print chunk chunk f write chunk f flush And html comes back Network Error tcp error A communication error occurred No route host The Web Server may busy experiencing problems preventing responding requests You may wish try later time For assistance contact network support team Is possible network security setting prevents automated requests outside web browser environment",
                  "answer": "Installing openers urllib n't affect requests You need use requests ' support proxies It enough pass proxies argument get set HTTP PROXY HTTPS PROXY environment variables See http docs python requests org en latest user advanced proxies import requests proxies http http https http requests get http example org proxies proxies",
                  "_deepnote_index_column": 570617
                },
                {
                  "id": 22297501,
                  "question": "How escape quotation marks initializing unix shell command python",
                  "question_body": "I using target write command write line line echo geoiplookup f usr share GeoIP GeoIP dat cut ' ' f n sed e 's ' e ' ' gt gt output format name face error File py line target write 'output var www html Result RIPs txt necho gt output nfor cat var www html Result PWIPs txt ndo echo geoiplookup f usr share GeoIP GeoIP dat cut ' ' f n sed e 's ' e ' ' gt gt output ndone ' format name SyntaxError invalid syntax Also removed code sed e 's ' e ' ' got file without ' strings help Thanks",
                  "answer": "Simply wrap unix command shell script string triple quotes e g gt gt gt import os gt gt gt cmd r echo Hello World gt gt gt os system cmd Hello World As pts noted slashes might parsed properly use raw string e g r see http docs python org reference lexical analysis html",
                  "_deepnote_index_column": 519806
                },
                {
                  "id": 17824349,
                  "question": "How extract contents csv file place dict file type without using csv module python",
                  "question_body": "Here information file Part Description Price Sperving Bearing Panametric Fan Converter Exchange I 'm trying figure open file store 's contents dictionary using Part key information value So I want look something like Part Description Price Sperving Bearing Panametric Fan Converter Exchange I able store text file list I 'm sure assign one value key I 'm trying without importing modules I 've using basic str methods list methods dict methods Here code far I 'm assuming filename correctly entered textname input ENter file thetextfile open textname ' r ' print The file successfully opened thetextfile thetextfile read file thetextfile split holder ck c range len file holder append file c ck ck ck holder insert c ' n ' count holder string join holder holder holder string split n wordlist kind stuck",
                  "answer": "Rather reading entire file break apart 's often easier process file line line Python makes easy parts open file name fh Ignore first two lines They n't data next fh next fh Opened files iterable line line line fh Store separate data elements separately munged together p line split parts 'id ' 'desc ' 'price ' p",
                  "_deepnote_index_column": 416324
                },
                {
                  "id": 13711037,
                  "question": "Match mysql data type python load data",
                  "question_body": "I python script load data mysql table problem I running following Warning Incorrect integer value 'user id ' column 'user id ' row 'VALUES ' row Warning Invalid TIMESTAMP value column 'edit time ' row 'VALUES ' row one line many warning lines I understand error based understanding I guess row still string format conversion n't happen properly I thinking cast element row I read tsv file example int row I sure cast correctly match MySQL timestamp type relevant timestamp element load training data def readtsv file name con cur con cursor open 'file tsv ' 'rb ' f row csv reader f delimiter ' ' cur execute 'INSERT INTO mytable user id article id revision id namespace edit time md reverted reverted user id reverted revision id delta cur size ' 'VALUES ' row try con commit except Exception e print 'unable commit ' print e",
                  "answer": "Have checked timestamp value correct one http dev mysql com doc refman en datetime html MySQL see error thus warning exist As hint simply print insert statement string try launch via PhpMyAdmin database interface tool The TIMESTAMP value MySQL format 'YYYYMMDDHHMMSS ' thus today Dec written way ' ' quotes",
                  "_deepnote_index_column": 327429
                },
                {
                  "id": 17067910,
                  "question": "extract certain string URL",
                  "question_body": "I trying extract certain strings mentioned URL sample URL http www ladyblush com buy sarees online html p http www ladyblush com buy ladies suits online html p http www ladyblush com buy women fashion accessories html p want extract productCategory sarees productSubCategory productCategory ladies productSubCategory suits productCategory women productSubCategory fashion accessories And Actually writing spider need extract productCategory productSubCategory URL 's like mentioned trying extract fields inside parse method response url Can someone help please My code import scrapy http import Request eScraper items import EscraperItem scrapy selector import HtmlXPathSelector scrapy contrib spiders import CrawlSpider class ESpider CrawlSpider name ladyblushSpider allowed domains ladyblush com URLSList n range URLSList append 'http www ladyblush com buy sarees online html p ' str n URLSList append 'http www ladyblush com buy ladies suits online html p ' str n URLSList append 'http www ladyblush com buy women fashion accessories html p ' str n URLSList append 'http www ladyblush com buy nightwear lingerie online html p ' str n URLSList append 'http www ladyblush com buy women dress online skirts suits kurtis tops html p ' str n URLSList append 'http www ladyblush com buy decor online wallclock bedsheets cushions bedcovers html p ' str n URLSList append 'http www ladyblush com buy cosmetics online massage oils aromatherapy perfumes soaps html p ' str n URLSList append 'http www ladyblush com buy jewelery online art fashion semi precious antique junk jewellery html p ' str n start urls URLSList def parse self response item EscraperItem hxs HtmlXPathSelector response sites hxs select ' div class third thumbnailSpillLarge ' items site sites item EscraperItem item 'currency ' 'INR ' item 'productCategory ' item 'productSubCategory ' item 'productSite ' http ladyblush com item 'productImage ' site select ' div img src ' extract item 'productTitle ' site select ' div img title ' extract item 'productURL ' site select ' href ' extract replace productMRP site select ' div class salePrice div class price box p class old price span class price text ' extract productPrice site select ' div class salePrice div class price box p class special price span class price text ' extract productMRP productPrice price productMRP strip productPrice strip else price site select ' div class salePrice div class price box span class regular price span class price text ' extract item 'productPrice ' price items append item secondURL item 'productURL ' request Request secondURL callback self parsePage request meta 'item ' item yield request def parsePage self response hxs HtmlXPathSelector response item response meta 'item ' hxs select ' div class addtocart container div text ' extract item 'availability ' False else item 'availability ' True hxs select ' label class required text ' extract item 'hasVariants ' True else item 'hasVariants ' False item 'image urls ' list set item 'productImage ' item 'productDesc ' join sub r ' n r ' strip hxs select ' div class std text ' extract item 'productImage ' item 'productImage ' hxs select ' div class views ul li img src ' extract hxs select ' div class views ul li href ' extract return item",
                  "answer": "get url response url parse method You could parse get url path import os test 'buy women fashion accessories html p ' parts os path splitext test 'buy women fashion accessories ' ' html p ' parts split ' ' 'women ' 'fashion ' 'accessories ' This rather flimsy solution though Are sure data stored somewhere page 's html parsing instead looking url",
                  "_deepnote_index_column": 398812
                },
                {
                  "id": 16429963,
                  "question": "How I NOT truncate long int float printing Python",
                  "question_body": "I long int I n't want truncated I print convert string The following work import pandas pd b pd Series playerid dtype 'float ' print b 'playerid ' print str b 'playerid '",
                  "answer": "If 're looking print OP use format string In print ' ' b 'playerid ' You also use format function In x ' f ' format b 'playerid ' In x Out ' '",
                  "_deepnote_index_column": 384830
                },
                {
                  "id": 1860594,
                  "question": "Inheritance Python Such That All Base Functions Are Called",
                  "question_body": "Basically I want class B def fn self print ' B ' class A def fn self print ' A ' extendInherit class C A B pass c C c fn And output A B How would I implement extendInherit decorator",
                  "answer": "This job decorators You want completely change normal behaviour class actually job metaclass import types class CallAll type MetaClass adds methods call superclass implementations def new meta clsname bases attrs collect list functions defined superclasses funcs base bases name val vars base iteritems type val types FunctionType name funcs funcs name append val else funcs name val methods decorate name funcs def caller self args kwargs calls baseclass implementations func funcs name func self args kwargs attrs name caller return type new meta clsname bases attrs class B def fn self print ' B ' class A def fn self print ' A ' class C A B object metaclass CallAll c C c fn",
                  "_deepnote_index_column": 51939
                },
                {
                  "id": 2023706,
                  "question": "buildbot connect IRC server using SSL",
                  "question_body": "How I use buildbot 's IRC bot connect IRC server wants SSL connections",
                  "answer": "I submitted small patch BuildBot allow IRC bot connect SSL enabled servers Should included next release If want apply setup 's simple patch backport",
                  "_deepnote_index_column": 56308
                },
                {
                  "id": 38040589,
                  "question": "IPython equivalent Clojure find doc",
                  "question_body": "In Clojure repl forget exact function name I use find doc list functions whose documentation name contains name I 'm looking For example user gt xor CompilerException java lang RuntimeException Unable resolve symbol xor context compiling tmp form init clj user gt find doc xor clojure core bit xor x x amp Bitwise exclusive nil user gt bit xor How thing IPython repl Or 's Pythonic way search functions repl Thanks",
                  "answer": "Google 'python xor ' gives several choices official reference page https docs python org reference expressions html page find takes Binary bitwise operations xor expr expr xor expr expr The operator yields bitwise XOR exclusive OR arguments must plain long integers The arguments converted common type That page search box If I type xor I get links pages I see example operator xor I Ipython import operator operator xor In operator xor Type builtin function method String form lt built function xor gt Docstring xor b Same b operator x lt tab gt would also show operator xor x lt tab gt Ipython help n't builtin function called xor Since implemented operator search different something function I use tab completion alot look docs function code Python As far I know Ipython links general Python documentation Since I work lot numpy I could also search 'numpy xor ' get links numpy documentation bitwise xor logical xor np bit lt tab gt leads np bitwise xor lt docs ufunc using operator gt np logical xor shows elementwise array operation",
                  "_deepnote_index_column": 927490
                },
                {
                  "id": 38059066,
                  "question": "SciPy sparse matrix COO CSR Clear row",
                  "question_body": "For creating scipy sparse matrix I array row column indices I J along data array V I use construct matrix COO format convert CSR matrix sparse coo matrix V I J shape n n matrix matrix tocsr I set row indices entry diagonal So far I go I find indices need wiping def find lst From lt http stackoverflow com gt return x enumerate lst x wipe rows something something indices find I wipe rows takes long I numpy delete I indices tolist J numpy delete J indices tolist V numpy delete V indices tolist Add entry diagonal wipe row I extend wipe rows J extend wipe rows V extend numpy ones len wipe rows construct matrix via coo That works alright find tends take Any hints speed Perhaps wiping rows COO CSR format better idea",
                  "answer": "np faster way finding indices In I np arange reshape matrix Out array dtype int In indices x enumerate I x In indices Out In ind np I In ind Out array False False True True True True True True False False False dtype bool In np ind indices Out array dtype int In I ind delete Out array dtype int Direct manipulation coo inputs like often good way But another take advantage csr math abilities You able construct diagonal matrix zeros correct rows adds ones back Here 's I mind In A np arange reshape In M sparse coo matrix A In M A Out array In sparse diags In sparse diags In M A Out array In x np ones bool x False In sparse diags x dtype int In sparse diags x dtype int Doing lil format looks easy In Ml M tolil In Ml data wipe len wipe In Ml rows wipe wipe In Ml A Out array dtype int It 's sort csr format 's easy replace row list appropriate list But conversion times tolil etc hurt run times",
                  "_deepnote_index_column": 927869
                },
                {
                  "id": 28326747,
                  "question": "Display list option choices help text automatically OptionParser",
                  "question_body": "I option OptionParser takes list choices usr bin python optparse import OptionParser def main parser OptionParser usage Usage foo parser add option ' e ' ' env ' type 'choice ' action 'store ' dest 'environment ' choices 'prod ' 'staging ' 'test ' 'dev ' default 'dev ' help 'Environment run ' name ' main ' main When I run help command I see Usage foo Options version show program 's version number exit h help show help message exit e ENVIRONMENT env ENVIRONMENT Environment run I 'd like list choices automatically shows environment 's help text preferably even default Is way access choices object used generate help text",
                  "answer": "You put default help text expanded default value option see docs With choices I 'm afraid put separate list add manually It allows add explanations though env choices 'prod ' 'production use caution ' 'test ' 'used testers break ' 'dev ' 'developers ' safe playgroud ' choices name name env choices help Environment defaults default one n n join name descr name descr env choices",
                  "_deepnote_index_column": 661475
                },
                {
                  "id": 26665103,
                  "question": "Better optimization technique using else dictionary",
                  "question_body": "Which better optimization A series else statement receives 'string ' returns appropriate function Around else statements A dictionary maintaining key value pair key strings values function objects one main function search return function object The main function actually returns function object using method would called millions billions times need intelligently What could better way For e g dict 'str ' func dict 'str ' func def main func str return dict str Or def main func str 'str ' return func elif 'str ' return func Which would better strings process needs billions times Storing function object inside dictionary function def func dict key 'str ' dict 'str ' func something Which better one This looks much cleaner But remember functions would called many times key function would also called many times Thanks",
                  "answer": "Which every solution looks elegant easier maintain It important application programming optimize Human time maintainability optimize computer time Computer time cheap Human time expensive Both solutions advantages The elif solution may provide flexibility need add control flow later like nested else If data coming directly data source like yaml database clearly dict solution elegant",
                  "_deepnote_index_column": 278077
                },
                {
                  "id": 21862975,
                  "question": "Python version PHP 's stripslashes",
                  "question_body": "I wrote piece code convert PHP 's striplashes valid Python backslash escapes cleaned stringwithslashes cleaned cleaned replace ' n ' ' n ' cleaned cleaned replace ' r ' ' n ' cleaned cleaned replace ' ' `` How I condense",
                  "answer": "use decode 'string escape ' cleaned stringwithslashes decode 'string escape ' Using string escape Produce string suitable string literal Python source code concatenate replace like Wilson answer cleaned stringwithslashes replace replace n n replace r n",
                  "_deepnote_index_column": 231
                },
                {
                  "id": 36091850,
                  "question": "How I properly use related name django models get back class name",
                  "question_body": "I application called school inside one django projects Below code models py django db import models class Student models Model name models CharField max length birthday models DateField blank True class Class models Model name models CharField max length student models ForeignKey Student related name 'classes ' null True def str self return self name And views py django shortcuts import render models import def test request obj Student objects get name 'john ' return render request 'test list html ' 'obj ' obj And finally template looks like block content lt h gt obj classes lt h gt endblock In template I using obj classes e responseobject related name I want print class name However I access site http shop gives output shop Class None How I get output Class class name",
                  "answer": "Would obj meta get field 'classes ' related model name job This work view template def test request obj Student objects get name 'john ' classes name obj meta get field 'classes ' related model name return render request 'test list html ' 'obj ' obj 'classes name ' classes name Using method avoid use obj classes hits database retrieve object You also get verbose name obj meta get field 'classes ' related model meta verbose name",
                  "_deepnote_index_column": 873815
                },
                {
                  "id": 8402495,
                  "question": "winappdbg using kernel function",
                  "question_body": "I try use function GetProcessTimes hprocess I use code p debug excel argv bFollow True win kernel GetProcessTimes p But work function takes arguments given Someone could help What I forget Thanks",
                  "answer": "Can suggest call Taken python pybench win process import win process def getprocesstimes systimes win process GetProcessTimes win process GetCurrentProcess return 'UserTime ' WIN PROCESS TIMES TICKS PER SECOND 'KernelTime ' WIN PROCESS TIMES TICKS PER SECOND otherwise ctypes approach import ctypes def getprocesstimes systimes creationtime ctypes c ulonglong exittime ctypes c ulonglong kerneltime ctypes c ulonglong usertime ctypes c ulonglong rc ctypes windll kernel GetProcessTimes ctypes windll kernel GetCurrentProcess ctypes byref creationtime ctypes byref exittime ctypes byref kerneltime ctypes byref usertime rc raise TypeError 'GetProcessTimes returned error ' return usertime value WIN PROCESS TIMES TICKS PER SECOND kerneltime value WIN PROCESS TIMES TICKS PER SECOND",
                  "_deepnote_index_column": 211258
                },
                {
                  "id": 30698598,
                  "question": "How check particular string present List strings also Index",
                  "question_body": "I want know way check string present list strings I want thing like one two three four b three b return index else something else",
                  "answer": "If want return index b inside b present something else try one two three four b three try print index b inside function use return except something",
                  "_deepnote_index_column": 724415
                },
                {
                  "id": 7347414,
                  "question": "What difference gtk builder file libglade file using Glade designer",
                  "question_body": "I 'm using glade interface designer developing simple application I actually following tutorial based libglade format But I want use gtkbuilder format So I switched gtkbuilder format But I want know exact difference libglade format gtkbuilder format Thanks advance",
                  "answer": "Libglade separate library It since deprecated functionnalities integrated GTK uses GTK builder format bit different Both formats allow almost things GtkBuilder one prefered",
                  "_deepnote_index_column": 188980
                },
                {
                  "id": 38399734,
                  "question": "How iterare dict index dict",
                  "question_body": "If I iteration like index dict print index keys Is index possible dictionary case If possible could please give example dict look like",
                  "answer": "index dict dictionary keys must hashable types Since dictionaries hashable serve keys another dictionary index dict iterates dictionary keys yield result index dict keys You however dictionary nested value another dictionary 'parent ' 'nested ' 'some value ' nested dictionary",
                  "_deepnote_index_column": 937374
                },
                {
                  "id": 13790289,
                  "question": "Get last n lines file Python similar tail",
                  "question_body": "I 'm writing log file viewer web application I want paginate lines log file The items file line based newest item bottom So I need tail method read n lines bottom supports offset What I came looks like def tail f n offset Reads n lines f offset offset lines avg line length read n offset try f seek avg line length read except IOError woops apparently file smaller want step back go beginning instead f seek pos f tell lines f read splitlines len lines gt read pos return lines read offset offset None avg line length Is reasonable approach What recommended way tail log files offsets",
                  "answer": "Here answer Pure python Using timeit seems pretty fast Tailing lines log file lines gt gt gt timeit timeit 'tail tail f ' 'import tail f open log txt r ' number gt gt gt timeit timeit 'tail tail f ' 'import tail f open log txt r ' number gt gt gt timeit timeit 'tail tail f ' 'import tail f open log txt r ' number gt gt gt timeit timeit 'tail tail f ' 'import tail f open log txt r ' number gt gt gt timeit timeit 'tail tail f ' 'import tail f open log txt r ' number Here code import os def tail f lines buffer Tail file get X lines end place holder lines found lines found block counter multiplied buffer get block size end block counter loop find X lines len lines found lt lines try f seek block counter buffer os SEEK END except IOError either file small many lines requested f seek lines found f readlines break lines found f readlines found enough lines get len lines found gt lines break decrement block counter get next X bytes block counter return lines found lines",
                  "_deepnote_index_column": 3410
                },
                {
                  "id": 10818083,
                  "question": "How execute two loop simultaneously python",
                  "question_body": "I two lists host list ip value I want check whether data host list present ip value append ip value another list I way check following code host ip zip host list ip value host list ip value list ip list ip append ip But nothing Why list ip returns returns",
                  "answer": "Use set another list list set host list set ip value",
                  "_deepnote_index_column": 263529
                },
                {
                  "id": 24218699,
                  "question": "Matplotlib failure",
                  "question_body": "whenever I try plot simple graph standard python interpreter matplotlib n't plot return memory address message gt gt gt import pylab gt gt gt import numpy np gt gt gt import matplotlib gt gt gt x np linspace gt gt gt np sin x gt gt gt pylab plot x lt matplotlib lines Line D object x ff ac gt I 'm running Kali linux guys think could issue",
                  "answer": "You need call pylab show order render plot rest code correct gt gt gt import pylab gt gt gt import numpy np gt gt gt import matplotlib gt gt gt x np linspace gt gt gt np sin x gt gt gt pylab plot x gt gt gt pylab show",
                  "_deepnote_index_column": 563703
                },
                {
                  "id": 15287942,
                  "question": "Convert rrd file json python",
                  "question_body": "Is python module available converting rrd file json format",
                  "answer": "Following code I tried generating json rrd file usr bin python import rrdtool import sys def printMetric args var lib ganglia rrds SummaryInfo cpu system rrd AVERAGE rrdMetric rrdtool fetch args time rrdMetric step rrdMetric sys stdout write n Key rrdMetric n Key abcd n metric name cpu system n firstDP True sys stdout write datapoints n tuple rrdMetric tuple None firstDP sys stdout write n firstDP False sys stdout write sys stdout write str tuple sys stdout write sys stdout write str time sys stdout write time time step sys stdout write n n printMetric",
                  "_deepnote_index_column": 360518
                },
                {
                  "id": 6789948,
                  "question": "Is python module solve linear equations",
                  "question_body": "I want solve linear equation three variables Is good library python",
                  "answer": "See http sympy org http numpy scipy org Specifically http docs scipy org doc numpy reference routines linalg html And http docs sympy org tutorial html algebra http docs sympy org dev modules solvers solvers html Edit Added solvers link comment",
                  "_deepnote_index_column": 177005
                },
                {
                  "id": 11430479,
                  "question": "Concurrency sqlite database using python",
                  "question_body": "There list data I want deal However I need process data multiple instances increase efficiency Each time instance shall take one item delete list process procedures First I tried store list sqlite database sqlite allows multiple read locks means multiple instances might get item database Is way makes instance get unique item process I could use data structure database file needed By way way check whether DELETE operation successful executing cursor execute delete query",
                  "answer": "How another field db flag e g PROCESSING UNPROCESSED PROCESSED",
                  "_deepnote_index_column": 277727
                },
                {
                  "id": 35135246,
                  "question": "Can I use try except without error",
                  "question_body": "Hoping someone help I think I need use try except function order I need im creating error exception occur When user enters looks dictionary finds x satisfy loop true moves else I need reask question start top loop Is possible trigger exception something false I working board ' ' ' x ' ' ' ' ' ' ' ' ' ' b ' ' ' ' b ' ' ' ' b ' ' ' ' c ' ' ' ' c ' ' ' ' c ' ' ' def move print 'im ' def x move ans raw input 'Player x please Enter location ' ask user location f board ans current value dictionary location selected f ' ' f ' ' board ans ' x ' writes user location selected dictionary move everything good move break break loop else print 'space available Try ' ans raw input 'Player x please Enter location ' ask x move",
                  "answer": "Instead ans raw input ' ' Again put else Print 'space available try ' x move And send start loop",
                  "_deepnote_index_column": 845767
                },
                {
                  "id": 5565728,
                  "question": "Python web service java application",
                  "question_body": "Forgive stupid question I completely new building web services complete web apps I want develop particular functionality java based web application However functionality simpler develop Python So possible If develop web service Python use Java based webapp",
                  "answer": "There many web frameworks java better others For fairly comprehensive reference consider consulting http en wikipedia org wiki Comparison web application frameworks Java Python indeed fairly intuitive language frequently used server side scripting language lot respectable web frameworks like webpy django emerged It depends tasks trying implement If project requires java applet may able embed within web page dynamically compose using python framework However looking interoperability java python wish read Jython 's limitations lacqui suggested Personally I 'm fan webpy cherrypy quick lightweight practical easy web development templating however speed major concern may wish consider adopting dynamically typed interpreted language Python average around times slower Java JVM http shootout alioth debian org u q benchmark php test amp lang python amp lang java For information regarding comparison java versus python take look http pythonconquerstheuniverse wordpress com category java python",
                  "_deepnote_index_column": 148783
                },
                {
                  "id": 8883396,
                  "question": "How prevent subprocess popen get lost Windows",
                  "question_body": "I somehow curious Python x problem Basically want create timer calls external program exe predefined time simplified additionally countdown output time sleep x popen pathto exe If test code everything works exactly want BUT small For large wait hours Python doesnt execute popen command arent Errors well Any normal code popen command example Email notification case works fine Im entirely sure Windows im working bit Windows disabled energy saving features im aware Python problem couldnt find solution far I tried several additional arguments popen Shell Shell etc tried open program define X ahead waiting period close afterwards nothing solved unfortunately Many Thanks Edit detailed code example time mktime trade lt time time break else dif time mktime trade time time visible countdown aus time gmtime dif sys stdout flush print b b b b b b b b b end r print aus aus aus sep end time sleep x subprocess Popen c xyz abc exe print Sending Mail The print ALWAYS executed expected Popen countdown less approx hours",
                  "answer": "Sleep guaranteed wake time According docs sleep may last longer shorter amount time requested I 've answered question SO alternatives",
                  "_deepnote_index_column": 221244
                },
                {
                  "id": 13387308,
                  "question": "Python calling method returns object pointer instead object",
                  "question_body": "I 'm novice programmer I 'm trying use combinations tool itertools module So I try itertools import print combinations ' ' instead expected ' ' ' ' ' ' I get lt itertools combinations object pointer gt I confused calling methods modules returns expected result instance import random print random randrange gt gt gt What I wrong itertools module",
                  "answer": "That 's iterator You convert list tuple using list combinations ' ' tuple combinations ' ' By question I think may confusion sequences iterables iterators I think 's useful fully understand able write understand python code I 'll try give explanation matter The list tuple objects sequences Sequences objects support specific operations Namely iterables elem sequence support item access sequence key valid length len sequence valid check item sequence elem sequence valid There complete list operations constitutes sequence protocol Alas 's specific C API Nevertheless names explanations function give idea complete set operations support In python two kind objects cases used instead sequences iterables iterators An iterable object support iteration Speaking python object iterable iter method returns iterator An iterator object iterates iterable yields values one one In python iterator object implements iter next methods next python iter usually nothing simply returns object The next method returns next value iterable Now combinations ' ' iterable means loop access 's items using iterable key syntax obtain length len Why would use iterators In situations avoid whole sequence values memory iterate For example want loop numbers create list length filled numbers iterate Give value compute next adding So basically iterables way reducing memory usage general abstraction functionality required loop something If want sequence convert stated A special kind iterators called generators Generators simply iterators written using function syntax particular use yield keyword gt gt gt def numbers n n gt yield n n gt gt gt numbers lt generator object numbers xb c gt gt gt gt elem numbers print elem As see call numbers code execute Instead python creates generator object iterator When iterate object code inside function executed yield encountered When happens argument yield returned execution frozen When new iteration begins starts Probably better see flow execution example gt gt gt def flow yield 'Execution stopped ' yield 'Execution continues ' yield 'Execution ended ' gt gt gt generator flow gt gt gt next generator generator next 'Execution stopped ' gt gt gt next generator 'Execution continues ' gt gt gt next generator 'Execution ended ' gt gt gt next generator Traceback recent call last File lt stdin gt line lt module gt StopIteration You may interested reading PEP proposed Actually extended provide coroutines functionalities I think enough",
                  "_deepnote_index_column": 320286
                },
                {
                  "id": 3763162,
                  "question": "Python parse html form",
                  "question_body": "I get input html forms sites I want return dictionary form 'name ' 'somename ' 'type ' 'text ' 'value ' `` ' name ' 'somename ' 'type ' 'submit ' 'value ' ' submit ' Sorry English",
                  "answer": "Yeah mechanize sweet import mechanize Browser br mechanize Browser br set handle equiv True br set handle gzip True br set handle redirect True br set handle referer True br set handle robots False br set handle refresh mechanize http HTTPRefreshProcessor max time br addheaders 'User agent ' 'Mozilla X U Linux en US rv Gecko Fedora fc Firefox ' inspect form element http stackoverflow com br open 'http stackoverflow com ' form br forms print form",
                  "_deepnote_index_column": 99150
                },
                {
                  "id": 25345289,
                  "question": "PythonAnywhere install new module",
                  "question_body": "I trying install html text using command gt gt pip install username html text I keep getting 'syntax error ' arrow pointing last l install",
                  "answer": "Pip flag called username I checked manual Python package installer usr man pip try sudo pip install html text",
                  "_deepnote_index_column": 590434
                },
                {
                  "id": 29142071,
                  "question": "Regex decimal number leading zeros precision fractions allowed",
                  "question_body": "I trying create regex meets following One two three decimal number No leading zeros inside decimal number Precision Proper Fractions allowed numbers No text decimal number Regex match following The regex match following I came following regex lt It meets except fractions I n't want leading zeros case decimal number digits However case proper fraction I want allowed However regex match decimal numbers expects number start due Please advise I modify regex match also numbers",
                  "answer": "Try regex b b See Demo",
                  "_deepnote_index_column": 682550
                },
                {
                  "id": 18544794,
                  "question": "Convert HTML Table JSON",
                  "question_body": "I 'm trying convert table I extracted via BeautifulSoup JSON So far I 've managed isolate rows though I 'm sure work data Any advice would much appreciated lt tr gt lt td gt lt strong gt Balance lt strong gt lt td gt lt td gt lt strong gt lt strong gt lt td gt lt tr gt lt tr gt lt td gt Card name lt td gt lt td gt Name lt td gt lt tr gt lt tr gt lt td gt Account holder lt td gt lt td gt NAME lt td gt lt tr gt lt tr gt lt td gt Card number lt td gt lt td gt lt td gt lt tr gt lt tr gt lt td gt Status lt td gt lt td gt Active lt td gt lt tr gt Line breaks mine readability This attempt result allrows table tbody findAll 'tr ' row allrows result append allcols row findAll 'td ' col allcols thestrings unicode col findAll text True thetext `` join thestrings result append thetext gave following result u'Card balance ' u ' ' u'Card name ' u'NAMEn ' u'Account holder ' u'NAME ' u'Card number ' u ' ' u'Status ' u'Active ' Thanks Declan",
                  "answer": "Probably data something like html data lt table gt lt tr gt lt td gt Card balance lt td gt lt td gt lt td gt lt tr gt lt tr gt lt td gt Card name lt td gt lt td gt NAMEn lt td gt lt tr gt lt tr gt lt td gt Account holder lt td gt lt td gt NAME lt td gt lt tr gt lt tr gt lt td gt Card number lt td gt lt td gt lt td gt lt tr gt lt tr gt lt td gt Status lt td gt lt td gt Active lt td gt lt tr gt lt table gt From get result list using code bs import BeautifulSoup table data cell text cell row td row BeautifulSoup html data tr To convert result JSON n't care order import json print json dumps dict table data Result Status Active Card name NAMEn Account holder NAME Card number Card balance If need order use collections import OrderedDict import json print json dumps OrderedDict table data Which gives Card balance Card name NAMEn Account holder NAME Card number Status Active",
                  "_deepnote_index_column": 432005
                },
                {
                  "id": 33396714,
                  "question": "sqlite avoiding database locked collision",
                  "question_body": "I running two python files one cpu parallel make use sqlite database I handling sqlite database using sqlalchemy understanding sqlalchemy handles threading database issues within one app My question handle access two different apps One two programs flask application cronjob updates database time time It seems even read tasks sqlite database lock database meaning apps want read write time I get error OperationalError sqlite OperationalError database locked Lets assume cronjob app runs every min How I make sure collisions two apps I could write read flag file I check accessing database seems standard way Furthermore I running app gunicorn principle possible multiple jobs running I eventually want parallel jobs flask app thanks carl",
                  "answer": "I 'm sure SQLAlchemy handles connections using Peewee ORM solution quite simple When Flask app initiates request open connection DB Then Flask sends response close DB Similarly cron script open connection start use DB close process finished Another thing might consider using SQLite WAL mode This improve concurrency You set journaling mode PRAGMA query open connection For info see http charlesleifer com blog sqlite small fast reliable choose three",
                  "_deepnote_index_column": 797261
                },
                {
                  "id": 33005044,
                  "question": "How fix loop",
                  "question_body": "I writing program asks user enter password If password matches constant I 've set prints successfully logged message However password incorrect gives number guesses left asks user try The program end incorrect guesses keeps asking even attempts used I think problem loop I unsure Code def main PASSWORD apple ALLOWED password input Enter password password PASSWORD ALLOWED ALLOWED print Wrong You ALLOWED guesses left ALLOWED print You locked password input Enter print You successfully logged system main",
                  "answer": "Change print You locked sys exit You locked otherwise exit main Remember import sys use sys exit",
                  "_deepnote_index_column": 786153
                },
                {
                  "id": 5079482,
                  "question": "Installing PIL use Django Mac OS X",
                  "question_body": "I 'm really annoyed installation PIL Python Imaging Library Mac OS X Does anyone installed could post recipe I 've tried lot posted site lot google always anding missing part ca n't work normally PIL Thanks advance Ignas",
                  "answer": "EDIT This answer getting voted recently I want modify reflect I 'm Firstly I 've switched MacPorts Homebrew package management Mac OS X Secondly I 've switched using package manager using pip virtualenvwrapper manage Python libraries Why I switched At first Django projects easy keep everything date using MacPorts It also fairly easy multiple versions Python using python select What I n't realize I pretty terrible job keeping multiple libraries working side side It became obvious I upgraded packages sometimes I really n't want project 's Django version change After couple Django projects running Django started exhibiting weird behaviour forms failing submit CSRF middleware changes small differences Django libraries admin app assets changing became clear I look better solution What I On Mac OS X I 'm moved using pip virtualenvwrapper First I install virtualenvwrapper pip install virtualenvwrapper This grab virtualenv virtualenvwrapper You need add following bashrc profile source open new shell export WORKON HOME HOME virtualenvs source usr local bin virtualenvwrapper sh Homebrew places export VIRTUALENVWRAPPER VIRTUALENV ARGS ' site packages ' optional Line sets variable workon needs find files Line points main shell script path Homebrew places file might different 're using another package manager Line optional I really like makes sure currently installed libraries main site packages repository leak newly created virtual environment I find keeps things clean leads fewer surprises road things upgraded The next step create new virtual environment mkvirtualenv testEnvironmentName After making environment 'll placed If kept site packages flag type pip freeze see Python library slate blank To escape virtual environment use deactivate command To get virtualenv use workon testEnvironmentName Note use tab completion name environment Also note typing workon give list available environments From pip install libraries want including PIL To learn virtualenvwrapper I recommend checking documentation Here 's another great resource taught lot using virtualenvwrapper view screencast ORIGINAL You also instal PIL using MacPorts The package name py pil Here 's information package I 'm pretty fond MacPorts pip I find gives bit configurability comes keeping several versions python several libraries installed Here installation instructions MacPorts http www macports org install php See also What compatible way install python modules Mac",
                  "_deepnote_index_column": 138093
                },
                {
                  "id": 21948113,
                  "question": "Saving computed Kirchhoff matrix array txt file python",
                  "question_body": "I generated kirchhoff matrix n't show values within matrix cmd prompt Is way output array txt file values shown The array I produce gnm GNM 'synthetase ' gnm buildKirchhoff calphas gnm getKirchhoff array The matrix generated gaussian network model I tried using numpy I n't know select array I need create file first np savetxt filename X",
                  "answer": "If want command line use redirection python script py gt output txt This redirects output script file",
                  "_deepnote_index_column": 511238
                },
                {
                  "id": 4384437,
                  "question": "What could reason class ca n't accessed within another class 's function",
                  "question_body": "I classes import follow class User object def init self pass import user class Follow object def doSomething self u User gt gt f Follow gt gt f doSomething gt gt NameError global name 'User ' defined Is causing problem classes import Is equivalent import Any potential causes Thanks",
                  "answer": "There always problem matter If theoretical question fine But actual design stop following action It function class User make sence class User object def init self print bleh def follow self otheruser following append otheruser makes much sense following obviously list pulled somewhere either variable directly database",
                  "_deepnote_index_column": 121156
                },
                {
                  "id": 19102911,
                  "question": "Python CSV delimeter defaulting ' '",
                  "question_body": "I 'm trying open convert manipulate save test CSV file larger project So far I opened file converted list lists manipulated But I ca n't save properly formatted CSV file At moment saves delimeter column seems ' ' unknown reason My data set based sold house prices locations dates whenever break time data time locations street name town etc I get new column whereas data n't whitespace price id number etc put column screwing data On another note odd reason csv file keeps several empty rows row I idea 's going This questionable part code def write new file lst new file `` ' lst gt CSV file Takes list writes CSV file `` ' writer csv writer new file delimiter ' ' writer writerows lst new file close Here output shell gt gt gt doc ' AACDC E E BCF C ADD ' ' ' ' ' 'AL HX ' ' F ' ' N ' ' L ' ' ' ' ' 'TENNYSON ROAD ' ' ' 'ST ALBANS ' 'ST ALBANS ' 'HERTFORDSHIRE ' Any help appreciated edit I 've programming couple weeks sorry I 'm idiot Edit I 've changed code use csv reader function works great makes programme lot smaller It looks like create empty variable doc open file ' r ' f reader csv reader f delimiter ' ' row reader doc append row Here shell output gt gt gt doc ' AACDC E E BCF C ADD ' ' ' ' ' 'AL HX ' ' F ' ' N ' ' L ' ' ' `` 'TENNYSON ROAD ' `` 'ST ALBANS ' 'ST ALBANS ' 'HERTFORDSHIRE ' ' A ' But CSV output columns separated according whitespace within strings according commas separating list items And still empty row rows My writing function unchanged Final edit Solved calc screwing end Python",
                  "answer": "You may try setting quotechar qutoting also writer csv writer csvfile delimiter ' ' quotechar ' ' quoting csv QUOTE ALL",
                  "_deepnote_index_column": 444126
                },
                {
                  "id": 37912205,
                  "question": "Regex match everything special tag",
                  "question_body": "I following string I need parse get values anything inside defined tags example string The following math equation f x x g x x I want parse whatever tags result contain equations ' f x x ' ' g x x ' I tried something like compile r ' ' didnt work",
                  "answer": "You almost got missing backslash question mark stops soon finds second n't match longest string possible r ' ' gt gt gt pattern r ' ' gt gt gt data The following math equation f x x g x x gt gt gt findall pattern data ' f x x ' ' g x x '",
                  "_deepnote_index_column": 924057
                },
                {
                  "id": 32350227,
                  "question": "Get actual ending testing endswith tuple",
                  "question_body": "I found nice question one search multiple endings string using endswith tuple Check string ends one strings list My question I return value tuple actually found match I multiple matches I choose best match example str ERTYHGFYUUHGFREDFYAAAAAAAAAA endings 'AAAAA ' 'AAAAAA ' 'AAAAAAA ' 'AAAAAAAA ' 'AAAAAAAAA ' str endswith endings return true values inside tuple I get one matches best In case multiple matches found tuple I deal return best biggest match case 'AAAAAAAAA ' I want remove end done regular expression I mean one could loop maybe easier pythonic way",
                  "answer": "str endswith tuple currently implemented simple loop tuple repeatedly running match similarities endings taken account In example case regular expression compile automaton essentially runs linear time regexp ' ' ' ' join escape ending ending sorted endings key len reverse True ' ' Edit As pointed correctly Martijn Pieters Python 's return longest overall match alternates matches first matching subexpression https docs python org library html module When one pattern completely matches branch accepted This means A matches B tested even would produce longer overall match emphasis mine Hence unfortunately need sorting length Note makes Python 's different POSIX regular expressions match longest overall match",
                  "_deepnote_index_column": 768881
                },
                {
                  "id": 9782698,
                  "question": "List loop python",
                  "question_body": "I 'd like edit elements python 's list inside loop How I make proper loop This code n't work X C C",
                  "answer": "Note although following possible may recommended v enumerate X X v C C",
                  "_deepnote_index_column": 240749
                },
                {
                  "id": 11888549,
                  "question": "How export file different directory using Python",
                  "question_body": "I 'm trying save performing old copy past trick saving files Python generates The default saving Python directory however I would like C Program Files Vixen Vixen Routines I tried import os filename raw input 'What would like name file ' filepath os path join C Program Files Vixen Vixen Routines filename open filename 'wb ' frame frames write ' ' join str num num frame write ' ' write ' n ' And error I get Traceback recent call last File stdin line module File comet py line module filepath os path join C Program Files Vixen Vixen Routines filename NameError name 'os ' defined How I get Python save file directly desired path",
                  "answer": "You forgot load os library You import os prior code Edit Another problem defining path variable using anywhere apart assignment Try change following open filename 'wb ' open filepath 'wb '",
                  "_deepnote_index_column": 288127
                },
                {
                  "id": 8357426,
                  "question": "Detrending time series multi dimensional array without loops",
                  "question_body": "I D array time series air sea carbon flux grid point earth 's surface model output I want remove trend linear time series I came across code matplotlib import mlab x xrange xrange cflux detrended x mlab detrend linear cflux x Can I speed using loops",
                  "answer": "I think plain old list comprehension easiest cflux detrended np array mlab detrend linear kk kk cflux T",
                  "_deepnote_index_column": 210261
                },
                {
                  "id": 28704238,
                  "question": "How use pandas DataFrame columns index columns values",
                  "question_body": "I ca n't seem figure ask question searchable way I feel like simple question Given pandas Dataframe object I would like use one column index one column columns third column values For example b c dog cat rat cat dog cat I would like user column ' ' index values column ' b ' columns column ' c ' values row column fill missing values possible For example dog cat rat This would ' ' ' b ' matrix ' c ' filling values",
                  "answer": "http pandas pydata org pandas docs dev reshaping html Starting example dataframe give df pivot index ' ' columns ' b ' values ' c ' produce pretty much exactly output want FWIW df melt opposite transformation",
                  "_deepnote_index_column": 671240
                },
                {
                  "id": 1128277,
                  "question": "django timezones",
                  "question_body": "I trying setup django timezones unfamiliar go The info I found http www ohloh net p django timezones class MyModel Model timezone TimeZoneField datetime LocalizedDateTime 'timezone ' I also tried looking pinax code projects use app n't found anything Does anyone example info share use Thanks Justin",
                  "answer": "Well firs thing need installing Django app add INSTALLED APPS settings py This particular app n't much give handy fields things use parts Django project Your best bet understand reading source I would say",
                  "_deepnote_index_column": 31506
                },
                {
                  "id": 2118630,
                  "question": "ca n't import gdal python",
                  "question_body": "I gdal installed running Ubuntu Jaunty I ca n't run gdal tiles I get error Traceback recent call last File usr local bin gdal tiles py line lt module gt import gdal ImportError No module named gdal When I open python type import gdal I get error I 've set LD LIBRARY PATH without spaces usr local lib n't seem made difference Looks like Python ca n't find gdal Can anyone help Thanks",
                  "answer": "You may also want check GDAL Wiki dedicated bindings Python GdalOgrInPython installation usage Linux Windows platforms discussed",
                  "_deepnote_index_column": 42610
                },
                {
                  "id": 33774697,
                  "question": "Python getting HTML content via 'requests ' returns partial response",
                  "question_body": "I 'm reading web site content using following liners I used example domain sale n't many content url http localbusiness com response requests get url html response text It returns following html content website contains html check view source Am I something wrong Python version lt html gt lt head gt lt head gt lt body gt lt vbe gt lt body gt lt html gt",
                  "answer": "jason answered correctly I extending answer reason Why It happens Some DOM elements code changed Ajax calls JavaScript code seen response call Although 's case already using view source ctrl u compare view element Some sites uses user agent know nature user desktop mobile user provide response accordingly probable case Other alternatives You use mechanize module python mimic browser fool web site come handy site using short authentication cookies A small tutorial Use selenium actually implement browser",
                  "_deepnote_index_column": 807533
                },
                {
                  "id": 5656982,
                  "question": "Read file error Python even though print function printing list",
                  "question_body": "I trying different ways writing code get past Currently program run way write names list function create file print function print sorted list The program refuses get user input search names function print anything I ask Debug highlights index lt len list debug I O states read file error Hopefully someone idea I 'm wrong ' Abstract This program creates list names The list printed ' sorted printed written file searched ' ' define main function def main try open data file read infile open 'names txt ' ' r ' call get names function list get names call print function print names list sort list list sort print sorted list print names list write sorted list new file write names list allow user search list search names list def get names try infile open 'names txt ' ' r ' read file contents list list infile readlines close file infile close strip n element index index lt len list list index list index rstrip ' n ' index return list except IOError print 'Read file error ' def print names list print header print ' ' print list line line index index lt len list print list index index return def write names list open file writing outfile open 'sortedNames txt ' ' w ' write list file item list outfile write str item ' n ' close file outfile close def search names list set user test variable ' Y ' upper ' Y ' get search user search raw input 'Enter name search ' open list search search list try item index list index search print search 'found ' item index except ValueError print search 'not found ' main ' Thanks advance",
                  "answer": "instead strip n element index index lt len list list index list index rstrip ' n ' index return list use list comprehension lines infile readlines infile close return line strip line lines edit It looks like using index loop loop used Instead index lt len list print list index index use using name list instead list name name list print name also search names function looks flawed def search names list set user test variable ' Y ' upper ' Y ' get search user search raw input 'Enter name search ' open list search search list try item index list index search print search 'found ' item index except ValueError print search 'not found ' would never exit never reassigned try def search names names list ' Y ' upper ' Y ' name raw input 'Enter name search ' name names list print name 'found ' names list index name else print search 'not found ' raw input 'Search another name Y N ' def search names names list ' Y ' ' Y ' name raw input 'Enter name search ' try idx names list index name print name 'found ' idx except ValueError print search 'not found ' raw input 'Search another name Y N ' upper Which brings issue catch exceptions vs using statement msdn The method choose depends often expect event occur If event truly exceptional error unexpected end file using exception handling better less code executed normal case If event happens routinely using programmatic method check errors better In case exception occurs exception take longer handle",
                  "_deepnote_index_column": 151960
                },
                {
                  "id": 28319191,
                  "question": "Constantly print Subprocess output process running",
                  "question_body": "To launch programs Python scripts I 'm using following method def execute command process subprocess Popen command shell True stdout subprocess PIPE stderr subprocess STDOUT output process communicate exitCode process returncode exitCode return output else raise ProcessException command exitCode output So launch process like Process execute mvn clean install program waits process finished get complete output program This annoying 'm running process takes finish Can let program write process output line line polling process output finishes loop something EDIT Sorry n't search well posting question Threading actually key Found example shows Python Subprocess Popen thread",
                  "answer": "To print subprocess ' output line line soon stdout buffer flushed Python subprocess import Popen PIPE Popen cmd stdout PIPE bufsize universal newlines True p line p stdout print line end `` Notice need p poll loop ends eof reached And need iter p stdout readline `` read ahead bug fixed Python See also Python read streaming input subprocess communicate",
                  "_deepnote_index_column": 121906
                },
                {
                  "id": 1246858,
                  "question": "How implement state space tree",
                  "question_body": "I 'm trying solve knapsack like problem MIT OCW Its problem set I need use branch bound algorithm find optimal states So I need implement state space tree I understand idea algorithm I find 's easy implement If I find node budget enough I stop Should I add attribute every tree node When I add node I start node largest upper bound How I find node Do I need traverse nodes I add node Or could I save var help Do idea Could implement python",
                  "answer": "I hope I understood correctly problem please direct sorry confusion arising two different meanings state You course add attribute node 's part state since 's tiny amount data Mind mandatory save though since implicitly present rest state given states already chosen compute Personally I 'd add attribute since 's point calculating many times On second question IIRC add nodes n't traverse ALL tree rather fringe set nodes descendants confused deepest level tree Since 're looking upper bound since 're using positive costs three cases looking node highest value last step appended node highest value node added highest value last step adding exceeded budget exclude option try add another state states try add build new node This branch ca n't go Look fringe highest value nodes",
                  "_deepnote_index_column": 34519
                },
                {
                  "id": 33703929,
                  "question": "import error ImportError No module named src adec forms",
                  "question_body": "I trying fix website I enter details form saves database Please let know I phrase question I new When running python manage py runserver I 'm getting error console unknown c src vaijoshi python manage py runserver Unhandled exception thread started lt function wrapper x fbe gt Traceback recent call last File Library Python site packages django utils autoreload py line wrapper fn args kwargs File Library Python site packages django core management commands runserver py line inner run autoreload raise last exception File Library Python site packages django utils autoreload py line raise last exception six reraise exception File Library Python site packages django utils autoreload py line wrapper fn args kwargs File Library Python site packages django init py line setup apps populate settings INSTALLED APPS File Library Python site packages django apps registry py line populate app config ready File Library Python site packages debug toolbar apps py line ready dt settings patch File Library Python site packages debug toolbar settings py line patch patch root urlconf File Library Python site packages debug toolbar settings py line patch root urlconf reverse 'djdt render panel ' File Library Python site packages django core urlresolvers py line reverse app list resolver app dict ns File Library Python site packages django core urlresolvers py line app dict self populate File Library Python site packages django core urlresolvers py line populate pattern reversed self url patterns File Library Python site packages django core urlresolvers py line url patterns patterns getattr self urlconf module urlpatterns self urlconf module File Library Python site packages django core urlresolvers py line urlconf module self urlconf module import module self urlconf name File System Library Frameworks Python framework Versions lib python importlib init py line import module import name File Users vaijoshi PycharmProjects adec src project urls py line lt module gt views import File Users vaijoshi PycharmProjects adec src project views py line lt module gt src adec forms import UserForm ImportError No module named src adec forms Structure projects views py django http import HttpResponseRedirect django shortcuts import render Create views src adec forms import UserForm def home request return render request home html def register professional request return render request registerprofessional html def register user request POST request need process form data request method 'POST ' create form instance populate data request form UserForm request POST check whether 's valid form valid process data form cleaned data required redirect new URL return HttpResponseRedirect ' thanks ' GET method 'll create blank form else form UserForm return render request 'registeruser html ' 'form ' form def terms conditions request return render request termsandconditions html def works request return render request howitworks html forms py django import forms models import class ProfessionalForm forms ModelForm class Meta model Professional fields ' ' class UserForm forms ModelForm class Meta model User fields ' ' Would appreciate guidance Ty After importing views py projects folder src folder It gives error File Library Python site packages django core urlresolvers py line urlconf module self urlconf module import module self urlconf name File System Library Frameworks Python framework Versions lib python importlib init py line import module import name File Users vaijoshi PycharmProjects adec src project urls py line lt module gt url r ' termsandconditions ' terms conditions name 'terms conditions ' NameError name 'terms conditions ' defined",
                  "answer": "Till I know python need import file name since file imported one import directory If directory first adec folder I think import forms That might work Posted answer I mobile n't comment button",
                  "_deepnote_index_column": 805947
                },
                {
                  "id": 22624651,
                  "question": "Loop variables class Python",
                  "question_body": "I know I loop variables class I want loop class MyClass def init self var var var var self var foo self var bar self var spam self var eggs items loop var var item items loop print item MyClass item Does n't work How I",
                  "answer": "First need understand difference class instance class object In code MyClass contain attributes names var var However create instance class instance contain attributes You access attributes using hasattr check attribute exists getattr find value object MyClass attr name 'var ' 'var ' hasattr object attr name print getattr object attr name Note classes allowed attributes 're declared behave differently instance attributes class MyClass object class var 'Hello ' class var Goodbye ' def init self var var self var var self var var Now MyClass singleton attributes class var class var matter many objects type MyClass create one objects attributes called var var values different instance",
                  "_deepnote_index_column": 527756
                },
                {
                  "id": 12748665,
                  "question": "standard deviation python float object iterable",
                  "question_body": "I attempting find standard deviation numbers python This entry level programming class avoiding trying use function since introduced yet This program allows add numbers list analyze said list bring average min max STDev ect I managed successfully display everything except STDev error keep getting float object iterable code related part elif menuchoice sum print std deviation stdev range listcount scorenum eval scorenum scoreaverage scorenum scoreaverage listcount range listcount stdev scorenum eval scorenum stdev scorenum scoreaverage dev sqrt stdev listcount print dev help would geat thank Self edit I removed stdev loop sure I getting answer mathematically Changed dev sqrt stdev listcount fixed math error DSM confirmed fix well Thank Program functioning properly woot Thank everyone advise",
                  "answer": "That 's long winded way calculating standard deviation This pythonic way I dare say 's also readable mean sum scorenum len scorenum mean scorenum std dev math sqrt sum len",
                  "_deepnote_index_column": 306527
                },
                {
                  "id": 26011265,
                  "question": "Changing datetime value python",
                  "question_body": "In Python script I want change date value future time In script I get date values mongodb And format Datetime taken mongodb And next step I formatted date value createdate mongo format Y dT H M SZ format createdate mongo Result T Z My question change datetime value next date changing date value others Nextdate T Z It better use datetime value parameter next date changing parameter value",
                  "answer": "Use datetime timedelta object add day createdate mongo value datetime import timedelta createdate mongo timedelta days",
                  "_deepnote_index_column": 605175
                },
                {
                  "id": 12818237,
                  "question": "Python argparse ignore unrecognised arguments",
                  "question_body": "Optparse old version ignores unrecognised arguments carries In situations n't ideal changed argparse But situations want ignore unrecognised arguments parse ones 've specified For example parser argparse ArgumentParser parser add argument ' foo ' dest foo parser parse args python myscript py foo bar error unrecognized arguments bar Is anyway overwrite",
                  "answer": "Replace args parser parse args args unknown parser parse known args For example import argparse parser argparse ArgumentParser parser add argument ' foo ' args unknown parser parse known args ' foo ' 'BAR ' 'spam ' print args Namespace foo 'BAR ' print unknown 'spam '",
                  "_deepnote_index_column": 307985
                },
                {
                  "id": 28788756,
                  "question": "Find consecutive sub sequences length n sequence",
                  "question_body": "I want find consecutive sub sequences length n sequence E g say n sequence I want function would produce output Thanks advance",
                  "answer": "The following might probably suit def subseqs xs n seqs xs j enumerate xs j enumerate xs return filter lambda seq len seq n seqs gt gt gt xs also range list range gt gt gt list subseqs xs Or simply getting sequences list named 'xs ' xs j enumerate xs j enumerate xs For getting sequences list named 'xs ' length n xs j enumerate xs j enumerate xs len xs j n",
                  "_deepnote_index_column": 174244
                },
                {
                  "id": 32297867,
                  "question": "Basic python coding",
                  "question_body": "Trying simple guessing game program python I 'm comfortable java When correct number entered says high wo n't exit loop Any suggestions import random comp num random randint print comp num players guess raw input Guess number players guess comp num players guess gt comp num print Your guess high elif players guess lt comp num print Your guess low players guess raw input Guess another number print CONGRATULATIONS YOU GUESSED CORRECTLY",
                  "answer": "Try code import random comp num random randint print comp num players guess int raw input Guess number players guess comp num players guess gt comp num print Your guess high elif players guess lt comp num print Your guess low players guess int raw input Guess another number print CONGRATULATIONS YOU GUESSED CORRECTLY",
                  "_deepnote_index_column": 619455
                },
                {
                  "id": 10165418,
                  "question": "Trying subclass getting object init takes parameters",
                  "question_body": "I 'm trying subclass web form Form webpy framework change behavior renders table I tried way class SyssecForm web form Form def init self inputs kw super SyssecForm self init inputs kw def render self ' lt div id form gt ' self inputs html utils safeunicode pre render self rendernote note utils safeunicode post html ' lt div id gt lt div gt ' id net websafe description html lt div gt return Now I 'm getting error object init takes parameters",
                  "answer": "The message tells need know The super class object constructor takes parameters So n't pass parameters constructor since n't know Call like super SyssecForm self init",
                  "_deepnote_index_column": 249544
                },
                {
                  "id": 7537142,
                  "question": "Is JavaScript ECMAScript implementation written Python",
                  "question_body": "Are JavaScript ECMAScript implementations written pure Python It okay even implementation slow",
                  "answer": "There one unknown level completeness written RPython subset Python say runs normal Python https bitbucket org pypy lang js overview",
                  "_deepnote_index_column": 191166
                },
                {
                  "id": 28058819,
                  "question": "python I use ' slots '",
                  "question_body": "Recent I study Python I question ' slots ' In opition limiting parameters Class also limiting method Class For example types import MethodType Class Student object slots 'name ' 'age ' When I run code def set age self age self age age stu Student stu set age MethodType set age stu Student print stu age An error occurred stu set age MethodType set age stu Student AttributeError 'Student ' object attribute 'set age ' I want know use set age class",
                  "answer": "Using slots means n't get dict class instance instance lightweight The downside modify methods add attributes And attempted add methods would adding attributes Also pythonic approach instantiate MethodType simply create function class namespace If 're attempting add modify function fly monkey patching simply assign function class Student set age set age Assigning instance course ca n't uses slots Here 's slots docs https docs python org reference datamodel html slots",
                  "_deepnote_index_column": 654542
                },
                {
                  "id": 33292223,
                  "question": "Getting XPath text div certain class",
                  "question_body": "I 'm trying grab business names Google local search results page Given following I would thought XPath div class rl class rl would suffice return nothing I know I need make query explicit precise exactly I 'm using Python lxml relevance",
                  "answer": "You mention Python based upon screenshot seems perhaps want get xpath browswer In Chrome Developer Tools right click element select Copy XPath",
                  "_deepnote_index_column": 794509
                },
                {
                  "id": 37011483,
                  "question": "How compress single array using Python OpenCV cv PCAProject",
                  "question_body": "Background say I already trained PCA python using PCACompute follows import numpy np import cv cv generate random data data np random sample x xrange data np vstack data np random sample print data shape e arrays dimensions train PCA mean eigenvectors cv PCACompute data maxComponents print mean shape print eigenvectors shape Problem I single array I want compress using PCA sample np random sample print sample shape compressed sample cv PCAProject sample mean eigenvectors OpenCV Error Assertion failed mean data amp amp eigenvectors data amp amp mean rows amp amp mean cols data cols mean cols amp amp mean rows data rows",
                  "answer": "Solution typing I solved may well carry post case anybody else runs issue sample sample reshape compressed sample cv PCAProject sample mean eigenvectors",
                  "_deepnote_index_column": 899906
                },
                {
                  "id": 27127861,
                  "question": "To copy files server local directory using python",
                  "question_body": "I 'm trying write copied files server local directory But finding permission denied access folder I present code Please correct mistake Code ftplib import FTP import os ip ip address password 'pwd ' ftp FTP ip ftp login username password print File List files ftp dir mypath ' C test ' files os makedirs mypath filek files Loop looking matching files file open mypath ' w ' ftp retrbinary 'RETR ' filek file write 'm getting following error IOError Errno Permission denied ' C test November '",
                  "answer": "You create directories os makedirs mypath later want write file file open mypath ' w ' Either edit mypath ' C test ' files mypath ' C test ' filek files Loop looking matching files f open mypath filek ' w ' slash also work windows ftp retrbinary 'RETR ' filek file write f close introduce filenames within loop You also handle case os makedirs mypath fails directory mypath already exists And please n't use file variable name overwrites builtin file",
                  "_deepnote_index_column": 631697
                },
                {
                  "id": 37172425,
                  "question": "Converting list json python",
                  "question_body": "Here code I list I want convert JSON dynamic keys gt gt gt print list list ' ' ' b ' ' c ' 'd ' gt gt gt outfile open ' c users fawads desktop csd Test json ' ' w ' writing data file gt gt gt entry list data 'key ' str entry json dump data outfile gt gt gt outfile close The result following key key b key c key Which valid json",
                  "answer": "Enumerate list call list way shadow built list gt gt gt import json gt gt gt lst ' ' ' b ' ' c ' 'd ' gt gt gt jso 'key ' format k v k v enumerate lst gt gt gt json dumps jso ' key key c key b key '",
                  "_deepnote_index_column": 904256
                },
                {
                  "id": 39696804,
                  "question": "odoo recognizing python modules",
                  "question_body": "installed beautifulsoup using pip install BeautifulSoup normal python project import module bs import BeautifulSoup odoo get error module name bs even though installed anyone solution",
                  "answer": "Check make sure odoo using Python installation think I 'd guess 's import sys print sys path Try python prompt import bs works odoo prompt n't The difference give answer",
                  "_deepnote_index_column": 974262
                },
                {
                  "id": 17698648,
                  "question": "Python Sum element n lists",
                  "question_body": "anybody please give hint aggregate sum specific elements multiple lists For example I lists similar name pattern representing consumption spending time e index corresponding household agent c agent c agent I need something like value sum index whatever c agent whatever Thanks",
                  "answer": "You create list lists use numpy arrays import numpy np c agent c agent c agent mylist c agent c agent c agent mylist sum map np array mylist print mylist Note list comprehension likely faster solution numpy",
                  "_deepnote_index_column": 413282
                },
                {
                  "id": 10248307,
                  "question": "Line buffered serial input",
                  "question_body": "I serial device I 'm trying read input I sent string ID r returns ID XX r r ASCII carriage return hex x Since eol option serial readline longer supported I 'm using TextIOWrapper read serial port return line time My problem instead returning string soon sees carriage return 's waiting twice timeout I set I opened serial port I 'd like return string immediately soon reads entire line since I may hundreds commands send device I n't want wait timeout time If I set timeout I get output presumably script stops waiting device chance output anything I set timeout None script blocks forever Here 's simple test script import serial import io import time ser serial Serial dev ttyUSB baudrate bytesize parity ' N ' stopbits xonxoff rtscts timeout sio io TextIOWrapper io BufferedRWPair ser ser newline None sio write unicode ID r sio flush print reading x sio readline print len x print x The script always takes seconds time says reading prints ID XX string read serial port I 'm certain device outputting carriage return I 've used strace watch reads select left read I select left read D select left read select left read X select left read X select left read r select Timeout select Timeout You see select timeouts give second delay also clearly see carriage return read I 've tried setting newline parameter 'None ' `` automatically allow r n r n ' r ' result time I 've also tried setting buffer size BufferedRWPair call ' ' keep buffering input made difference Any idea I 'm wrong If I ca n't get working next step use serial read read character time line buffering I wanted try right way textiowrapper first",
                  "answer": "Thanks code Keith I wanted keep code somewhat portable I 'd like stick default serial package Plus since I 'm still learning Python I wanted try learn use TextIOWrapper way intended I gave trying make serial readline work I 'll use simple readLine function read character time look carriage return terminator Though I run serial quirkyness I may revisit using code Thanks def readLine ser str ch ser read ch ' r ' ch `` break str ch print str str return str",
                  "_deepnote_index_column": 250731
                },
                {
                  "id": 31629391,
                  "question": "Django Spelling Mismatch Despite written",
                  "question_body": "There 's perplexing issue I resolve The models py class Meetings models Model team id models ForeignKey Team meeting id models AutoField primary key True mentor meeting rating models IntegerField default validators MinValueValidator MaxValueValidator mentee meeting rating models IntegerField default validators MinValueValidator MaxValueValidator meeting date models DateTimeField default django utils timezone blank True TEL 'Telephone ' ONL 'Online ' F F 'Face Face ' MEETING METHODS TEL 'Telephone ' ONL 'Online ' F F 'Face Face ' meeting models CharField max length choices MEETING METHODS default F F The admin py django contrib import admin models import Mentor Mentee Team Admin Meetings Goals Register models admin site register Mentor admin site register Mentee admin site register Team admin site register Meetings admin site register Goals admin site register Admin The urls py django conf urls import include url django contrib import admin urlpatterns url r ' admin ' include admin site urls url r ' dream site ' include 'dream site urls ' The settings py INSTALLED APPS 'django contrib admin ' 'django contrib auth ' 'django contrib contenttypes ' 'django contrib sessions ' 'django contrib messages ' 'django contrib staticfiles ' 'dream site ' 'dream chat ' Yet Meetings 's ' Admin interface I ran grep command n't show anywhere Meetingss I checked double checked I ca n't figure happening",
                  "answer": "What could using verbose name defined could simply define model 'Meeting ' rather 'Meetings ' resolve issue",
                  "_deepnote_index_column": 749648
                },
                {
                  "id": 32269551,
                  "question": "Incorrect number rows returned JOIN query Python script",
                  "question_body": "I wrote following code Python connects DB creates two tables joins Then prints result JOIN query The problem number rows though I expected get rows Also I run query command prompt using sqlite gt number rows returned JOIN correct e import sqlite lite import pandas pd Connecting database The connect method returns connection object con lite connect 'getting started db ' con cur con cursor cur execute DROP TABLE IF EXISTS cities cur execute DROP TABLE IF EXISTS weather cur execute CREATE TABLE cities name text state text cur execute CREATE TABLE weather city text year integer warm month text cold month text average high integer Filling 'cities ' data cur execute INSERT INTO cities VALUES 'Washington ' 'DC ' cur execute INSERT INTO cities VALUES 'Houston ' 'TX ' Filling 'weather ' data cur execute INSERT INTO weather VALUES 'Washington ' 'July ' 'January ' cur execute INSERT INTO weather VALUES 'Houston ' 'July ' 'January ' Joining data together sql SELECT name state year warm month cold month FROM cities INNER JOIN weather ON name city cur execute sql rows cur fetchall cols desc desc cur description Loading data pandas df pd DataFrame rows columns cols index row df iterrows print City The warmest month format row 'name ' row 'warm month ' In Python result City Washington The warmest month July City Washington The warmest month July City Houston The warmest month July However command prompt result different correct City Washington The warmest month July City Houston The warmest month July",
                  "answer": "The issue rows cur fetchall outside con connection context manager something odd happening use cursor 's DB connection closed Ref docs https docs python org library sqlite html using connection context manager suggests con provides transaction might explain strange behaviour executing statement transaction trying use cursor result set outside transaction It still seems odd I would expected use would caused sqllite raise exception telling happening",
                  "_deepnote_index_column": 766658
                },
                {
                  "id": 33944151,
                  "question": "Set timeout xmlrpclib ServerProxy",
                  "question_body": "I using xmlrpclib ServerProxy make RPC calls remote server If network connection server takes default seconds return socket gaierror program This annoying development without network connection remote server Is way update timeout ServerProxy object I ca n't see clear way get access socket update",
                  "answer": "I wanted small clean also explicit version based answers I came import xmlrpclib class TimeoutTransport xmlrpclib Transport def init self timeout use datetime self timeout timeout xmlrpclib uses old style classes use super xmlrpclib Transport init self use datetime def make connection self host connection xmlrpclib Transport make connection self host connection timeout self timeout return connection class TimeoutServerProxy xmlrpclib ServerProxy def init self uri timeout transport None encoding None verbose allow none use datetime TimeoutTransport timeout xmlrpclib ServerProxy init self uri encoding verbose allow none use datetime proxy TimeoutServerProxy url I n't realize first xmlrpclib old style classes I found useful comment otherwise everything pretty self explanatory I n't see httplib HTTP would subclassed well someone enlighten please The solution tried works",
                  "_deepnote_index_column": 9736
                },
                {
                  "id": 19296101,
                  "question": "writing python dictionary text file python",
                  "question_body": "im storing text file python dictionary making changes text file The issue im facing updating dictionary contents text file Code read text file open 'wvtc data txt ' ' r ' x line x line line rstrip ' n ' items line split ' ' key value items items main dic key value choice choice QUIT choice get menu choice choice DISPLAY display main dic elif choice CHANGE change main dic elif choice REMOVE remove main dic elif choice WRITE write main dic I need write function last one update text file changes made dictionary Please help",
                  "answer": "If want keep existing format whatever reason try open 'wvtc data txt ' ' w ' fp p main dic items fp write n p Note n't preserve order keys Also cases 's much better use standard formats serialization",
                  "_deepnote_index_column": 448661
                },
                {
                  "id": 26911519,
                  "question": "Overflow colour bar saved matplotlib figure",
                  "question_body": "This regards colour bar shown picture Why filling colour bar extension overflowing like The figure saved PNG command plt savefig fname dpi bbox inches tight This n't happen default dpi setting I specify higher settings Any solutions Code requested This minimum code reproduces issue import numpy np import matplotlib pyplot plt r np random random ff plt contourf r interpolation nearest extend cb plt colorbar ff format f cb solids set edgecolor face plt savefig test png dpi bbox inches tight And result",
                  "answer": "Apparently cb solids set edgecolor face culprit cb colorer object Taking fixes problem But leads another question command matplotlib render way Could bug code Edit A bug report filed",
                  "_deepnote_index_column": 626232
                },
                {
                  "id": 17831689,
                  "question": "Read excel file StringIO buffer dataframe pandas io parsers ExcelFile",
                  "question_body": "I 'd like read string buffer pandas DataFrame It seems good way would use pandas ' ExcelFile functionality I 've tried something like following pandas import ExcelFile excel handler excel data excel handler StringIO file stream read getvalue From I guess ExcelFile parse used This produces following error lt class 'openpyxl shared exc InvalidFileException ' gt Errno No file directory ' Any ideas read file buffer",
                  "answer": "Fixed Had missed part earlier code file stream read called Consequently time ExcelFile called empty string passed causing error getvalue needed removed Here 's go pandas import ExcelFile excel data ExcelFile StringIO file stream read dataframe excel data parse excel data sheet names",
                  "_deepnote_index_column": 416449
                },
                {
                  "id": 25777357,
                  "question": "How I call python script command line like I would call common shell command cp",
                  "question_body": "Suppose I 've got script I run python hello world py gt gt gt Hello world How I configure hello world py executable without 'python ' ' ' hello world gt gt gt Hello word EDIT Thanks suggestions The shebang path solution python package solution worked I checked python package solution I liked added features tacking script onto path via pip install e without hand editing path variable catching script pip freeze gt requirement txt calls",
                  "answer": "I first time hours ago What turn python script 'package ' install package I followed tutorial worked If follow able type 'runner ' cmd line script run",
                  "_deepnote_index_column": 599966
                }
              ]
            },
            "text/plain": "              id                                           question  \\\n402052  17215239                          Tkinter Format Text Entry   \n840653  34956474  Turning single argument function generator fun...   \n936066  38346428                          Binary search Python list   \n370840  15792990        opencv python Multi Threading Video Capture   \n311412  12984221                  How I run python script file UNIX   \n...          ...                                                ...   \n9736    33944151                  Set timeout xmlrpclib ServerProxy   \n448661  19296101         writing python dictionary text file python   \n626232  26911519        Overflow colour bar saved matplotlib figure   \n416449  17831689  Read excel file StringIO buffer dataframe pand...   \n599966  25777357  How I call python script command line like I w...   \n\n                                            question_body  \\\n402052  Formatting Text Time Format user Types I 'm tr...   \n840653  In David Beazley 's talk generators shows crea...   \n936066  I trying perform binary search list python Lis...   \n370840  I trying read Video Files show separate Window...   \n311412  Basically I want make file called doPython fil...   \n...                                                   ...   \n9736    I using xmlrpclib ServerProxy make RPC calls r...   \n448661  im storing text file python dictionary making ...   \n626232  This regards colour bar shown picture Why fill...   \n416449  I 'd like read string buffer pandas DataFrame ...   \n599966  Suppose I 've got script I run python hello wo...   \n\n                                                   answer  \n402052  Tkinter import class Application Frame def ini...  \n840653  generate generator version map map lambda x x ...  \n936066  In Python Python use bisect written comments R...  \n370840  edit I 'll leave code I guess codec problem I ...  \n311412  usr bin env python says script run Python inte...  \n...                                                   ...  \n9736    I wanted small clean also explicit version bas...  \n448661  If want keep existing format whatever reason t...  \n626232  Apparently cb solids set edgecolor face culpri...  \n416449  Fixed Had missed part earlier code file stream...  \n599966  I first time hours ago What turn python script...  \n\n[10000 rows x 4 columns]",
            "text/html": "<div>\n<style scoped>\n    .dataframe tbody tr th:only-of-type {\n        vertical-align: middle;\n    }\n\n    .dataframe tbody tr th {\n        vertical-align: top;\n    }\n\n    .dataframe thead th {\n        text-align: right;\n    }\n</style>\n<table border=\"1\" class=\"dataframe\">\n  <thead>\n    <tr style=\"text-align: right;\">\n      <th></th>\n      <th>id</th>\n      <th>question</th>\n      <th>question_body</th>\n      <th>answer</th>\n    </tr>\n  </thead>\n  <tbody>\n    <tr>\n      <th>402052</th>\n      <td>17215239</td>\n      <td>Tkinter Format Text Entry</td>\n      <td>Formatting Text Time Format user Types I 'm tr...</td>\n      <td>Tkinter import class Application Frame def ini...</td>\n    </tr>\n    <tr>\n      <th>840653</th>\n      <td>34956474</td>\n      <td>Turning single argument function generator fun...</td>\n      <td>In David Beazley 's talk generators shows crea...</td>\n      <td>generate generator version map map lambda x x ...</td>\n    </tr>\n    <tr>\n      <th>936066</th>\n      <td>38346428</td>\n      <td>Binary search Python list</td>\n      <td>I trying perform binary search list python Lis...</td>\n      <td>In Python Python use bisect written comments R...</td>\n    </tr>\n    <tr>\n      <th>370840</th>\n      <td>15792990</td>\n      <td>opencv python Multi Threading Video Capture</td>\n      <td>I trying read Video Files show separate Window...</td>\n      <td>edit I 'll leave code I guess codec problem I ...</td>\n    </tr>\n    <tr>\n      <th>311412</th>\n      <td>12984221</td>\n      <td>How I run python script file UNIX</td>\n      <td>Basically I want make file called doPython fil...</td>\n      <td>usr bin env python says script run Python inte...</td>\n    </tr>\n    <tr>\n      <th>...</th>\n      <td>...</td>\n      <td>...</td>\n      <td>...</td>\n      <td>...</td>\n    </tr>\n    <tr>\n      <th>9736</th>\n      <td>33944151</td>\n      <td>Set timeout xmlrpclib ServerProxy</td>\n      <td>I using xmlrpclib ServerProxy make RPC calls r...</td>\n      <td>I wanted small clean also explicit version bas...</td>\n    </tr>\n    <tr>\n      <th>448661</th>\n      <td>19296101</td>\n      <td>writing python dictionary text file python</td>\n      <td>im storing text file python dictionary making ...</td>\n      <td>If want keep existing format whatever reason t...</td>\n    </tr>\n    <tr>\n      <th>626232</th>\n      <td>26911519</td>\n      <td>Overflow colour bar saved matplotlib figure</td>\n      <td>This regards colour bar shown picture Why fill...</td>\n      <td>Apparently cb solids set edgecolor face culpri...</td>\n    </tr>\n    <tr>\n      <th>416449</th>\n      <td>17831689</td>\n      <td>Read excel file StringIO buffer dataframe pand...</td>\n      <td>I 'd like read string buffer pandas DataFrame ...</td>\n      <td>Fixed Had missed part earlier code file stream...</td>\n    </tr>\n    <tr>\n      <th>599966</th>\n      <td>25777357</td>\n      <td>How I call python script command line like I w...</td>\n      <td>Suppose I 've got script I run python hello wo...</td>\n      <td>I first time hours ago What turn python script...</td>\n    </tr>\n  </tbody>\n</table>\n<p>10000 rows × 4 columns</p>\n</div>"
          },
          "metadata": {}
        }
      ]
    },
    {
      "cell_type": "markdown",
      "source": "## Split Train/Test",
      "metadata": {
        "tags": [],
        "cell_id": "00005-b2848e46-815f-497c-8559-31578aeaf34c",
        "deepnote_cell_type": "markdown"
      }
    },
    {
      "cell_type": "code",
      "metadata": {
        "tags": [],
        "cell_id": "00004-999b3e95-f8c4-4246-b7ad-bf359031127b",
        "deepnote_to_be_reexecuted": false,
        "source_hash": "78c5652",
        "execution_millis": 0,
        "execution_start": 1615558109069,
        "deepnote_cell_type": "code"
      },
      "source": "X_train = df_X_train['question_body']\nX_val = df_X_val['question_body']",
      "execution_count": 95,
      "outputs": []
    },
    {
      "cell_type": "code",
      "source": "X_val = X_val.values.reshape(-1,1)\nX_val",
      "metadata": {
        "tags": [],
        "cell_id": "00005-430d75f2-c6ff-4b0a-8114-a04b16f0e3d5",
        "deepnote_to_be_reexecuted": false,
        "source_hash": "9febb000",
        "execution_millis": 27,
        "execution_start": 1615558110296,
        "deepnote_cell_type": "code"
      },
      "outputs": [
        {
          "output_type": "execute_result",
          "execution_count": 96,
          "data": {
            "text/plain": "array([[\"Formatting Text Time Format user Types I 'm trying format text standard time format Tk Entry textbox user types numbers I understand Tkinter easiest best optimized framework format text user types I 've managed get far Tkinter import class Application Frame def init self master None Frame init self master self pack self createWidgets def createWidgets self sv StringVar sv trace w lambda name index mode sv sv self entryUpdateEndHour sv endHourEntry Entry self textvariable sv endHourEntry pack def entryUpdateEndHour self sv global x x sv get ' ' x sv get ' ' z sv get sv set z root Tk app Application master root app mainloop This prints exactly I want live formatting bad For example typing two numbers I get textbox skips every rd number I type since replaces I would grateful someone work arounds solutions answer Thanks advance\"],\n       [\"In David Beazley 's talk generators shows create generator function single argument function thus def generate func def gen func item yield func item return gen func illustrates math sqrt gen sqrt generate math sqrt x gen sqrt xrange print x So gen sum generate sum x gen sum print x produce TypeError Traceback recent call last lt ipython input ef f bbfc gt lt module gt gen sum generate sum gt x gen sum print x lt ipython input c ba c gt gen func def generate func def gen func closure gt item yield func item return gen func TypeError 'int ' object iterable Is accurate say function single argument function necessary insufficient condition approach work And necessary condition single argument must single item sequence\"],\n       [\"I trying perform binary search list python List created using command line arguments User inputs number wants look array returned index element For reason program outputs None Code Any help extremely appreciated import sys def search list target min max len list avg min max min lt max list avg target return avg elif list avg lt target return search list avg target else return search list avg target print The location number array avg The command line argument create list strings This list used numeric comparisions This list converted list ints def main number input Please enter number want search array index int number list x sys argv list append int x print The list search list print search list index name ' main ' main CL Anuvrats MacBook Air Python anuvrattiku python binary search py Please enter number want search array The list search Anuvrats MacBook Air Python anuvrattiku\"],\n       ...,\n       [\"This regards colour bar shown picture Why filling colour bar extension overflowing like The figure saved PNG command plt savefig fname dpi bbox inches tight This n't happen default dpi setting I specify higher settings Any solutions Code requested This minimum code reproduces issue import numpy np import matplotlib pyplot plt r np random random ff plt contourf r interpolation nearest extend cb plt colorbar ff format f cb solids set edgecolor face plt savefig test png dpi bbox inches tight And result\"],\n       [\"I 'd like read string buffer pandas DataFrame It seems good way would use pandas ' ExcelFile functionality I 've tried something like following pandas import ExcelFile excel handler excel data excel handler StringIO file stream read getvalue From I guess ExcelFile parse used This produces following error lt class 'openpyxl shared exc InvalidFileException ' gt Errno No file directory ' Any ideas read file buffer\"],\n       [\"Suppose I 've got script I run python hello world py gt gt gt Hello world How I configure hello world py executable without 'python ' ' ' hello world gt gt gt Hello word EDIT Thanks suggestions The shebang path solution python package solution worked I checked python package solution I liked added features tacking script onto path via pip install e without hand editing path variable catching script pip freeze gt requirement txt calls\"]],\n      dtype=object)"
          },
          "metadata": {}
        }
      ],
      "execution_count": 96
    },
    {
      "cell_type": "code",
      "source": "X_train = X_train.values.reshape(-1, 1)\nX_train",
      "metadata": {
        "tags": [],
        "cell_id": "00005-f4f040ba-b1e7-4019-bb9e-92bb6a5bfdb1",
        "deepnote_to_be_reexecuted": false,
        "source_hash": "d48ee18b",
        "execution_millis": 11,
        "execution_start": 1615558112846,
        "deepnote_cell_type": "code"
      },
      "outputs": [
        {
          "output_type": "execute_result",
          "execution_count": 97,
          "data": {
            "text/plain": "array([[\"My problem I list eg lst lst pop lst pop Because lst removed lst longer range This gives error Now I know could say change code lst pop lst pop ill fix error problem actual code 'popping ' random numbers needs done time avoid error Is method 'popping ' time like something similar lst pop Thanks answers\"],\n       ['I looking way create new nested row saving owner row By way django ticket I found Grappelli Nested Inlines I using I test project set based instructions found link django contrib import admin grappelli nested admin import NestedModelAdmin NestedStackedInline NestedTabularInline models import class MyNestedInline NestedTabularInline model C extra class MyInline NestedStackedInline model B extra inlines MyNestedInline class MyAdmin NestedModelAdmin inlines MyInline admin site register A MyAdmin My issue based fact I create child object saving parent That say add another c button functionality saving B Is way achieve I read posts regarding I could find I say answer included anywhere I understand please patient I also note production code grappelli requirement anything clashes work'],\n       [\"I 'm looking nice way process list elements need expanded elements expansion results Standard iterative way would lt len l needs expanding l new expand l l new len new else pretty ugly I could rewrite contents new list nl x l needs expanding x nl expand x else nl append x But seem long Or I could simply passes flatten list later flatten expand x needs expanding x else x x l def try expanding x flatten try expanding x x l n't feel right either Are clear ways\"],\n       ...,\n       [\"This question curiosity anything else I 've reading details implementation int object Python far I see Python int basically C pointer struct right So question basically happens Python internally equaling two int python n't point instance equaling complex types list gt gt gt gt gt gt b gt gt gt print id id b id id b id id b gt gt gt b gt gt gt print b b b gt gt gt print id id b id id b id id b gt gt gt gt gt gt b gt gt gt print id id b id id b id id b gt gt gt b append gt gt gt print b b b gt gt gt print id id b id id b id id b My guess seeing id instances modifying integer creates new instance assigns new memory address variable Is suspicion correct If anyone know historical decision ints behaving like Was programmers n't go nuts int variables assigned variables I 'm totally ok way D As I said mainly curiosity Thank advance\"],\n       ['Is possible increase step range Something like num range print Or step range fixed size'],\n       ['Example number number number similar number print number number input I would like compare two numbers let program notify kind number number similarity happens I would like solution flexible room similarities ust first digit different BTW I using Python X']],\n      dtype=object)"
          },
          "metadata": {}
        }
      ],
      "execution_count": 97
    },
    {
      "cell_type": "markdown",
      "source": "## Preproc",
      "metadata": {
        "tags": [],
        "cell_id": "00005-666d2fb5-9019-4c6b-9908-ff69c89e7158",
        "deepnote_cell_type": "markdown"
      }
    },
    {
      "cell_type": "code",
      "metadata": {
        "tags": [],
        "cell_id": "00006-e8107f01-4fc7-45f4-9e6a-a180d5166c3c",
        "deepnote_to_be_reexecuted": false,
        "source_hash": "abbfcd27",
        "execution_millis": 0,
        "execution_start": 1615558354181,
        "deepnote_cell_type": "code"
      },
      "source": "from sklearn.preprocessing import OneHotEncoder\nenc = OneHotEncoder(handle_unknown='ignore')\n\nX_train_onehot = enc.fit_transform(X_train)\nX_val_onehot = enc.transform(X_val)",
      "execution_count": 116,
      "outputs": []
    },
    {
      "cell_type": "code",
      "metadata": {
        "tags": [],
        "cell_id": "00006-e55c60e1-add8-46b3-9229-3469cc46e07f",
        "deepnote_to_be_reexecuted": false,
        "source_hash": "aed5c39",
        "execution_millis": 12,
        "execution_start": 1615558355441,
        "deepnote_cell_type": "code"
      },
      "source": "X_train_onehot.shape",
      "execution_count": 117,
      "outputs": [
        {
          "output_type": "execute_result",
          "execution_count": 117,
          "data": {
            "text/plain": "(10000, 9910)"
          },
          "metadata": {}
        }
      ]
    },
    {
      "cell_type": "code",
      "metadata": {
        "tags": [],
        "cell_id": "00009-ec8e9f2a-a713-4bf0-b831-eedb144b71c4",
        "deepnote_to_be_reexecuted": false,
        "source_hash": "8d0cf0c7",
        "execution_millis": 9,
        "execution_start": 1615558360487,
        "deepnote_cell_type": "code"
      },
      "source": "X_val_onehot.shape",
      "execution_count": 118,
      "outputs": [
        {
          "output_type": "execute_result",
          "execution_count": 118,
          "data": {
            "text/plain": "(10000, 9910)"
          },
          "metadata": {}
        }
      ]
    },
    {
      "cell_type": "markdown",
      "source": "## Create Model",
      "metadata": {
        "tags": [],
        "cell_id": "00005-80f0eb0e-61b3-4af8-82c3-74a925a397cb",
        "deepnote_cell_type": "markdown"
      }
    },
    {
      "cell_type": "code",
      "metadata": {
        "tags": [],
        "cell_id": "00006-3737ee2b-51fe-4e2c-8b2a-1212a8d3777e",
        "deepnote_to_be_reexecuted": false,
        "source_hash": "d770c8a9",
        "execution_millis": 5,
        "execution_start": 1615558362489,
        "deepnote_cell_type": "code"
      },
      "source": "regr = RandomForestRegressor(max_depth=2, random_state=0)\nregr.fit(X_train_onehot, y_train)\ny_pred = regr.predict(X_val_onehot)",
      "execution_count": 119,
      "outputs": []
    },
    {
      "cell_type": "code",
      "source": "print('Coefficient of determination: ', r2_score(y_val, y_pred))\nprint('mean_squared_error: ', mean_squared_error(y_val, y_pred))",
      "metadata": {
        "tags": [],
        "cell_id": "00015-b2c47b62-30f7-498d-a04b-7e00540c029d",
        "deepnote_to_be_reexecuted": false,
        "source_hash": "47c38446",
        "execution_millis": 44,
        "execution_start": 1615558532283,
        "deepnote_cell_type": "code"
      },
      "outputs": [
        {
          "name": "stdout",
          "text": "Coefficient of determination:  -0.058461126141001296\nmean_squared_error:  147.58852312712375\n",
          "output_type": "stream"
        }
      ],
      "execution_count": 129
    },
    {
      "cell_type": "markdown",
      "source": "<a style='text-decoration:none;line-height:16px;display:flex;color:#5B5B62;padding:10px;justify-content:end;' href='https://deepnote.com?utm_source=created-in-deepnote-cell&projectId=e80043e2-6875-4b65-a196-a0ffb97a1282' target=\"_blank\">\n<img style='display:inline;max-height:16px;margin:0px;margin-right:7.5px;' src='data:image/svg+xml;base64,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' > </img>\nCreated in <span style='font-weight:600;margin-left:4px;'>Deepnote</span></a>",
      "metadata": {
        "tags": [],
        "created_in_deepnote_cell": true,
        "deepnote_cell_type": "markdown"
      }
    }
  ],
  "nbformat": 4,
  "nbformat_minor": 2,
  "metadata": {
    "orig_nbformat": 2,
    "deepnote_notebook_id": "a8ae3cee-4e70-46e4-8657-83f0da8c8844",
    "deepnote": {},
    "deepnote_execution_queue": []
  }
}