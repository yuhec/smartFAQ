{
 "cells": [
  {
   "cell_type": "code",
   "execution_count": 12,
   "metadata": {
    "cell_id": "00000-9a58d884-7a8e-420b-8c28-1e5399ed6c32",
    "deepnote_cell_type": "code",
    "deepnote_to_be_reexecuted": false,
    "execution_millis": 0,
    "execution_start": 1615558514057,
    "source_hash": "5f7f6341",
    "tags": []
   },
   "outputs": [],
   "source": [
    "import pandas as pd\n",
    "import pickle\n",
    "from sklearn.ensemble import RandomForestRegressor\n",
    "from sklearn.metrics import mean_squared_error, mean_absolute_error, mean_absolute_percentage_error\n",
    "from sklearn.metrics import r2_score\n",
    "import sys\n",
    "sys.path.append('../../..')\n",
    "from smartFAQ.src.metrics import evaluation"
   ]
  },
  {
   "cell_type": "code",
   "execution_count": 2,
   "metadata": {
    "cell_id": "00001-e6d35a23-80ea-4db3-9689-56ebb0d0b90b",
    "deepnote_cell_type": "code",
    "deepnote_to_be_reexecuted": false,
    "execution_millis": 34,
    "execution_start": 1615557714382,
    "source_hash": "4b51e598",
    "tags": []
   },
   "outputs": [],
   "source": [
    "with open('../../data/x_train.pickle', 'rb') as handle:\n",
    "    df_X_train = pickle.load(handle)\n",
    "with open('../../data/y_train.pickle', 'rb') as handle:\n",
    "    y_train = pickle.load(handle)\n",
    "with open('../../data/x_val.pickle', 'rb') as handle:\n",
    "    df_X_val = pickle.load(handle)\n",
    "with open('../../data/y_val.pickle', 'rb') as handle:\n",
    "    y_val = pickle.load(handle)"
   ]
  },
  {
   "cell_type": "code",
   "execution_count": 3,
   "metadata": {
    "cell_id": "00002-61224aa3-8766-4cb8-b571-eea5fed565a2",
    "deepnote_cell_type": "code",
    "deepnote_to_be_reexecuted": false,
    "execution_millis": 113,
    "execution_start": 1615557965949,
    "source_hash": "91a022ba",
    "tags": []
   },
   "outputs": [
    {
     "data": {
      "text/html": [
       "<div>\n",
       "<style scoped>\n",
       "    .dataframe tbody tr th:only-of-type {\n",
       "        vertical-align: middle;\n",
       "    }\n",
       "\n",
       "    .dataframe tbody tr th {\n",
       "        vertical-align: top;\n",
       "    }\n",
       "\n",
       "    .dataframe thead th {\n",
       "        text-align: right;\n",
       "    }\n",
       "</style>\n",
       "<table border=\"1\" class=\"dataframe\">\n",
       "  <thead>\n",
       "    <tr style=\"text-align: right;\">\n",
       "      <th></th>\n",
       "      <th>id</th>\n",
       "      <th>question</th>\n",
       "      <th>question_body</th>\n",
       "      <th>answer</th>\n",
       "    </tr>\n",
       "  </thead>\n",
       "  <tbody>\n",
       "    <tr>\n",
       "      <th>402052</th>\n",
       "      <td>17215239</td>\n",
       "      <td>Tkinter Format Text Entry</td>\n",
       "      <td>Formatting Text Time Format user Types I 'm tr...</td>\n",
       "      <td>Tkinter import class Application Frame def ini...</td>\n",
       "    </tr>\n",
       "    <tr>\n",
       "      <th>840653</th>\n",
       "      <td>34956474</td>\n",
       "      <td>Turning single argument function generator fun...</td>\n",
       "      <td>In David Beazley 's talk generators shows crea...</td>\n",
       "      <td>generate generator version map map lambda x x ...</td>\n",
       "    </tr>\n",
       "    <tr>\n",
       "      <th>936066</th>\n",
       "      <td>38346428</td>\n",
       "      <td>Binary search Python list</td>\n",
       "      <td>I trying perform binary search list python Lis...</td>\n",
       "      <td>In Python Python use bisect written comments R...</td>\n",
       "    </tr>\n",
       "    <tr>\n",
       "      <th>370840</th>\n",
       "      <td>15792990</td>\n",
       "      <td>opencv python Multi Threading Video Capture</td>\n",
       "      <td>I trying read Video Files show separate Window...</td>\n",
       "      <td>edit I 'll leave code I guess codec problem I ...</td>\n",
       "    </tr>\n",
       "    <tr>\n",
       "      <th>311412</th>\n",
       "      <td>12984221</td>\n",
       "      <td>How I run python script file UNIX</td>\n",
       "      <td>Basically I want make file called doPython fil...</td>\n",
       "      <td>usr bin env python says script run Python inte...</td>\n",
       "    </tr>\n",
       "    <tr>\n",
       "      <th>...</th>\n",
       "      <td>...</td>\n",
       "      <td>...</td>\n",
       "      <td>...</td>\n",
       "      <td>...</td>\n",
       "    </tr>\n",
       "    <tr>\n",
       "      <th>9736</th>\n",
       "      <td>33944151</td>\n",
       "      <td>Set timeout xmlrpclib ServerProxy</td>\n",
       "      <td>I using xmlrpclib ServerProxy make RPC calls r...</td>\n",
       "      <td>I wanted small clean also explicit version bas...</td>\n",
       "    </tr>\n",
       "    <tr>\n",
       "      <th>448661</th>\n",
       "      <td>19296101</td>\n",
       "      <td>writing python dictionary text file python</td>\n",
       "      <td>im storing text file python dictionary making ...</td>\n",
       "      <td>If want keep existing format whatever reason t...</td>\n",
       "    </tr>\n",
       "    <tr>\n",
       "      <th>626232</th>\n",
       "      <td>26911519</td>\n",
       "      <td>Overflow colour bar saved matplotlib figure</td>\n",
       "      <td>This regards colour bar shown picture Why fill...</td>\n",
       "      <td>Apparently cb solids set edgecolor face culpri...</td>\n",
       "    </tr>\n",
       "    <tr>\n",
       "      <th>416449</th>\n",
       "      <td>17831689</td>\n",
       "      <td>Read excel file StringIO buffer dataframe pand...</td>\n",
       "      <td>I 'd like read string buffer pandas DataFrame ...</td>\n",
       "      <td>Fixed Had missed part earlier code file stream...</td>\n",
       "    </tr>\n",
       "    <tr>\n",
       "      <th>599966</th>\n",
       "      <td>25777357</td>\n",
       "      <td>How I call python script command line like I w...</td>\n",
       "      <td>Suppose I 've got script I run python hello wo...</td>\n",
       "      <td>I first time hours ago What turn python script...</td>\n",
       "    </tr>\n",
       "  </tbody>\n",
       "</table>\n",
       "<p>10000 rows × 4 columns</p>\n",
       "</div>"
      ],
      "text/plain": [
       "              id                                           question  \\\n",
       "402052  17215239                          Tkinter Format Text Entry   \n",
       "840653  34956474  Turning single argument function generator fun...   \n",
       "936066  38346428                          Binary search Python list   \n",
       "370840  15792990        opencv python Multi Threading Video Capture   \n",
       "311412  12984221                  How I run python script file UNIX   \n",
       "...          ...                                                ...   \n",
       "9736    33944151                  Set timeout xmlrpclib ServerProxy   \n",
       "448661  19296101         writing python dictionary text file python   \n",
       "626232  26911519        Overflow colour bar saved matplotlib figure   \n",
       "416449  17831689  Read excel file StringIO buffer dataframe pand...   \n",
       "599966  25777357  How I call python script command line like I w...   \n",
       "\n",
       "                                            question_body  \\\n",
       "402052  Formatting Text Time Format user Types I 'm tr...   \n",
       "840653  In David Beazley 's talk generators shows crea...   \n",
       "936066  I trying perform binary search list python Lis...   \n",
       "370840  I trying read Video Files show separate Window...   \n",
       "311412  Basically I want make file called doPython fil...   \n",
       "...                                                   ...   \n",
       "9736    I using xmlrpclib ServerProxy make RPC calls r...   \n",
       "448661  im storing text file python dictionary making ...   \n",
       "626232  This regards colour bar shown picture Why fill...   \n",
       "416449  I 'd like read string buffer pandas DataFrame ...   \n",
       "599966  Suppose I 've got script I run python hello wo...   \n",
       "\n",
       "                                                   answer  \n",
       "402052  Tkinter import class Application Frame def ini...  \n",
       "840653  generate generator version map map lambda x x ...  \n",
       "936066  In Python Python use bisect written comments R...  \n",
       "370840  edit I 'll leave code I guess codec problem I ...  \n",
       "311412  usr bin env python says script run Python inte...  \n",
       "...                                                   ...  \n",
       "9736    I wanted small clean also explicit version bas...  \n",
       "448661  If want keep existing format whatever reason t...  \n",
       "626232  Apparently cb solids set edgecolor face culpri...  \n",
       "416449  Fixed Had missed part earlier code file stream...  \n",
       "599966  I first time hours ago What turn python script...  \n",
       "\n",
       "[10000 rows x 4 columns]"
      ]
     },
     "execution_count": 3,
     "metadata": {},
     "output_type": "execute_result"
    }
   ],
   "source": [
    "df_X_val"
   ]
  },
  {
   "cell_type": "markdown",
   "metadata": {
    "cell_id": "00005-b2848e46-815f-497c-8559-31578aeaf34c",
    "deepnote_cell_type": "markdown",
    "tags": []
   },
   "source": [
    "## Split Train/Test"
   ]
  },
  {
   "cell_type": "code",
   "execution_count": 4,
   "metadata": {
    "cell_id": "00004-999b3e95-f8c4-4246-b7ad-bf359031127b",
    "deepnote_cell_type": "code",
    "deepnote_to_be_reexecuted": false,
    "execution_millis": 0,
    "execution_start": 1615558109069,
    "source_hash": "78c5652",
    "tags": []
   },
   "outputs": [],
   "source": [
    "X_train = df_X_train['question_body']\n",
    "X_val = df_X_val['question_body']"
   ]
  },
  {
   "cell_type": "code",
   "execution_count": 5,
   "metadata": {
    "cell_id": "00005-430d75f2-c6ff-4b0a-8114-a04b16f0e3d5",
    "deepnote_cell_type": "code",
    "deepnote_to_be_reexecuted": false,
    "execution_millis": 27,
    "execution_start": 1615558110296,
    "source_hash": "9febb000",
    "tags": []
   },
   "outputs": [
    {
     "data": {
      "text/plain": [
       "array([[\"Formatting Text Time Format user Types I 'm trying format text standard time format Tk Entry textbox user types numbers I understand Tkinter easiest best optimized framework format text user types I 've managed get far Tkinter import class Application Frame def init self master None Frame init self master self pack self createWidgets def createWidgets self sv StringVar sv trace w lambda name index mode sv sv self entryUpdateEndHour sv endHourEntry Entry self textvariable sv endHourEntry pack def entryUpdateEndHour self sv global x x sv get ' ' x sv get ' ' z sv get sv set z root Tk app Application master root app mainloop This prints exactly I want live formatting bad For example typing two numbers I get textbox skips every rd number I type since replaces I would grateful someone work arounds solutions answer Thanks advance\"],\n",
       "       [\"In David Beazley 's talk generators shows create generator function single argument function thus def generate func def gen func item yield func item return gen func illustrates math sqrt gen sqrt generate math sqrt x gen sqrt xrange print x So gen sum generate sum x gen sum print x produce TypeError Traceback recent call last lt ipython input ef f bbfc gt lt module gt gen sum generate sum gt x gen sum print x lt ipython input c ba c gt gen func def generate func def gen func closure gt item yield func item return gen func TypeError 'int ' object iterable Is accurate say function single argument function necessary insufficient condition approach work And necessary condition single argument must single item sequence\"],\n",
       "       [\"I trying perform binary search list python List created using command line arguments User inputs number wants look array returned index element For reason program outputs None Code Any help extremely appreciated import sys def search list target min max len list avg min max min lt max list avg target return avg elif list avg lt target return search list avg target else return search list avg target print The location number array avg The command line argument create list strings This list used numeric comparisions This list converted list ints def main number input Please enter number want search array index int number list x sys argv list append int x print The list search list print search list index name ' main ' main CL Anuvrats MacBook Air Python anuvrattiku python binary search py Please enter number want search array The list search Anuvrats MacBook Air Python anuvrattiku\"],\n",
       "       ...,\n",
       "       [\"This regards colour bar shown picture Why filling colour bar extension overflowing like The figure saved PNG command plt savefig fname dpi bbox inches tight This n't happen default dpi setting I specify higher settings Any solutions Code requested This minimum code reproduces issue import numpy np import matplotlib pyplot plt r np random random ff plt contourf r interpolation nearest extend cb plt colorbar ff format f cb solids set edgecolor face plt savefig test png dpi bbox inches tight And result\"],\n",
       "       [\"I 'd like read string buffer pandas DataFrame It seems good way would use pandas ' ExcelFile functionality I 've tried something like following pandas import ExcelFile excel handler excel data excel handler StringIO file stream read getvalue From I guess ExcelFile parse used This produces following error lt class 'openpyxl shared exc InvalidFileException ' gt Errno No file directory ' Any ideas read file buffer\"],\n",
       "       [\"Suppose I 've got script I run python hello world py gt gt gt Hello world How I configure hello world py executable without 'python ' ' ' hello world gt gt gt Hello word EDIT Thanks suggestions The shebang path solution python package solution worked I checked python package solution I liked added features tacking script onto path via pip install e without hand editing path variable catching script pip freeze gt requirement txt calls\"]],\n",
       "      dtype=object)"
      ]
     },
     "execution_count": 5,
     "metadata": {},
     "output_type": "execute_result"
    }
   ],
   "source": [
    "X_val = X_val.values.reshape(-1,1)\n",
    "X_val"
   ]
  },
  {
   "cell_type": "code",
   "execution_count": 6,
   "metadata": {
    "cell_id": "00005-f4f040ba-b1e7-4019-bb9e-92bb6a5bfdb1",
    "deepnote_cell_type": "code",
    "deepnote_to_be_reexecuted": false,
    "execution_millis": 11,
    "execution_start": 1615558112846,
    "source_hash": "d48ee18b",
    "tags": []
   },
   "outputs": [
    {
     "data": {
      "text/plain": [
       "array([[\"My problem I list eg lst lst pop lst pop Because lst removed lst longer range This gives error Now I know could say change code lst pop lst pop ill fix error problem actual code 'popping ' random numbers needs done time avoid error Is method 'popping ' time like something similar lst pop Thanks answers\"],\n",
       "       ['I looking way create new nested row saving owner row By way django ticket I found Grappelli Nested Inlines I using I test project set based instructions found link django contrib import admin grappelli nested admin import NestedModelAdmin NestedStackedInline NestedTabularInline models import class MyNestedInline NestedTabularInline model C extra class MyInline NestedStackedInline model B extra inlines MyNestedInline class MyAdmin NestedModelAdmin inlines MyInline admin site register A MyAdmin My issue based fact I create child object saving parent That say add another c button functionality saving B Is way achieve I read posts regarding I could find I say answer included anywhere I understand please patient I also note production code grappelli requirement anything clashes work'],\n",
       "       [\"I 'm looking nice way process list elements need expanded elements expansion results Standard iterative way would lt len l needs expanding l new expand l l new len new else pretty ugly I could rewrite contents new list nl x l needs expanding x nl expand x else nl append x But seem long Or I could simply passes flatten list later flatten expand x needs expanding x else x x l def try expanding x flatten try expanding x x l n't feel right either Are clear ways\"],\n",
       "       ...,\n",
       "       [\"This question curiosity anything else I 've reading details implementation int object Python far I see Python int basically C pointer struct right So question basically happens Python internally equaling two int python n't point instance equaling complex types list gt gt gt gt gt gt b gt gt gt print id id b id id b id id b gt gt gt b gt gt gt print b b b gt gt gt print id id b id id b id id b gt gt gt gt gt gt b gt gt gt print id id b id id b id id b gt gt gt b append gt gt gt print b b b gt gt gt print id id b id id b id id b My guess seeing id instances modifying integer creates new instance assigns new memory address variable Is suspicion correct If anyone know historical decision ints behaving like Was programmers n't go nuts int variables assigned variables I 'm totally ok way D As I said mainly curiosity Thank advance\"],\n",
       "       ['Is possible increase step range Something like num range print Or step range fixed size'],\n",
       "       ['Example number number number similar number print number number input I would like compare two numbers let program notify kind number number similarity happens I would like solution flexible room similarities ust first digit different BTW I using Python X']],\n",
       "      dtype=object)"
      ]
     },
     "execution_count": 6,
     "metadata": {},
     "output_type": "execute_result"
    }
   ],
   "source": [
    "X_train = X_train.values.reshape(-1, 1)\n",
    "X_train"
   ]
  },
  {
   "cell_type": "markdown",
   "metadata": {
    "cell_id": "00005-666d2fb5-9019-4c6b-9908-ff69c89e7158",
    "deepnote_cell_type": "markdown",
    "tags": []
   },
   "source": [
    "## Preproc"
   ]
  },
  {
   "cell_type": "code",
   "execution_count": 7,
   "metadata": {
    "cell_id": "00006-e8107f01-4fc7-45f4-9e6a-a180d5166c3c",
    "deepnote_cell_type": "code",
    "deepnote_to_be_reexecuted": false,
    "execution_millis": 0,
    "execution_start": 1615558354181,
    "source_hash": "abbfcd27",
    "tags": []
   },
   "outputs": [],
   "source": [
    "from sklearn.preprocessing import OneHotEncoder\n",
    "enc = OneHotEncoder(handle_unknown='ignore')\n",
    "\n",
    "X_train_onehot = enc.fit_transform(X_train)\n",
    "X_val_onehot = enc.transform(X_val)"
   ]
  },
  {
   "cell_type": "code",
   "execution_count": 8,
   "metadata": {
    "cell_id": "00006-e55c60e1-add8-46b3-9229-3469cc46e07f",
    "deepnote_cell_type": "code",
    "deepnote_to_be_reexecuted": false,
    "execution_millis": 12,
    "execution_start": 1615558355441,
    "source_hash": "aed5c39",
    "tags": []
   },
   "outputs": [
    {
     "data": {
      "text/plain": [
       "(10000, 9910)"
      ]
     },
     "execution_count": 8,
     "metadata": {},
     "output_type": "execute_result"
    }
   ],
   "source": [
    "X_train_onehot.shape"
   ]
  },
  {
   "cell_type": "code",
   "execution_count": 9,
   "metadata": {
    "cell_id": "00009-ec8e9f2a-a713-4bf0-b831-eedb144b71c4",
    "deepnote_cell_type": "code",
    "deepnote_to_be_reexecuted": false,
    "execution_millis": 9,
    "execution_start": 1615558360487,
    "source_hash": "8d0cf0c7",
    "tags": []
   },
   "outputs": [
    {
     "data": {
      "text/plain": [
       "(10000, 9910)"
      ]
     },
     "execution_count": 9,
     "metadata": {},
     "output_type": "execute_result"
    }
   ],
   "source": [
    "X_val_onehot.shape"
   ]
  },
  {
   "cell_type": "markdown",
   "metadata": {
    "cell_id": "00005-80f0eb0e-61b3-4af8-82c3-74a925a397cb",
    "deepnote_cell_type": "markdown",
    "tags": []
   },
   "source": [
    "## Create Model"
   ]
  },
  {
   "cell_type": "code",
   "execution_count": 10,
   "metadata": {
    "cell_id": "00006-3737ee2b-51fe-4e2c-8b2a-1212a8d3777e",
    "deepnote_cell_type": "code",
    "deepnote_to_be_reexecuted": false,
    "execution_millis": 5,
    "execution_start": 1615558362489,
    "source_hash": "d770c8a9",
    "tags": []
   },
   "outputs": [],
   "source": [
    "regr = RandomForestRegressor(max_depth=2, random_state=0)\n",
    "regr.fit(X_train_onehot, y_train)\n",
    "y_pred = regr.predict(X_val_onehot)"
   ]
  },
  {
   "cell_type": "markdown",
   "metadata": {
    "cell_id": "00013-7c06450a-af15-4dd8-b17a-ba5e489ca6a8",
    "deepnote_cell_type": "markdown",
    "tags": []
   },
   "source": [
    "## Evaluate model"
   ]
  },
  {
   "cell_type": "code",
   "execution_count": 16,
   "metadata": {
    "cell_id": "00015-b2c47b62-30f7-498d-a04b-7e00540c029d",
    "deepnote_cell_type": "code",
    "deepnote_to_be_reexecuted": false,
    "execution_millis": 44,
    "execution_start": 1615558532283,
    "source_hash": "47c38446",
    "tags": []
   },
   "outputs": [
    {
     "name": "stdout",
     "output_type": "stream",
     "text": [
      "Coefficient of determination:  -0.058461126141001296\n",
      "mean_squared_error:  147.58852312712375\n",
      "mean_absolute_error:  3.16414209149983\n",
      "mean_absolute_percentage_error:  3864202071942958.5\n",
      "Custom metrique : Le résultat doit être le plus proche de 0: 3.16414209149983\n"
     ]
    }
   ],
   "source": [
    "print('Coefficient of determination: ', r2_score(y_val, y_pred))\n",
    "print('mean_squared_error: ', mean_squared_error(y_val, y_pred))\n",
    "\n",
    "print('mean_absolute_error: ', mean_absolute_error(y_val, y_pred))\n",
    "print('mean_absolute_percentage_error: ', mean_absolute_percentage_error(y_val, y_pred))\n",
    "print('Custom metrique :', evaluation(y_val, y_pred))"
   ]
  },
  {
   "cell_type": "code",
   "execution_count": null,
   "metadata": {
    "cell_id": "00015-b539beae-da1e-412b-87a9-638420799cea",
    "deepnote_cell_type": "code",
    "tags": []
   },
   "outputs": [],
   "source": [
    "# © Mouna DAHAMANI 2021"
   ]
  },
  {
   "cell_type": "markdown",
   "metadata": {
    "created_in_deepnote_cell": true,
    "deepnote_cell_type": "markdown",
    "tags": []
   },
   "source": [
    "<a style='text-decoration:none;line-height:16px;display:flex;color:#5B5B62;padding:10px;justify-content:end;' href='https://deepnote.com?utm_source=created-in-deepnote-cell&projectId=e80043e2-6875-4b65-a196-a0ffb97a1282' target=\"_blank\">\n",
    "<img style='display:inline;max-height:16px;margin:0px;margin-right:7.5px;' src='data:image/svg+xml;base64,PD94bWwgdmVyc2lvbj0iMS4wIiBlbmNvZGluZz0iVVRGLTgiPz4KPHN2ZyB3aWR0aD0iODBweCIgaGVpZ2h0PSI4MHB4IiB2aWV3Qm94PSIwIDAgODAgODAiIHZlcnNpb249IjEuMSIgeG1sbnM9Imh0dHA6Ly93d3cudzMub3JnLzIwMDAvc3ZnIiB4bWxuczp4bGluaz0iaHR0cDovL3d3dy53My5vcmcvMTk5OS94bGluayI+CiAgICA8IS0tIEdlbmVyYXRvcjogU2tldGNoIDU0LjEgKDc2NDkwKSAtIGh0dHBzOi8vc2tldGNoYXBwLmNvbSAtLT4KICAgIDx0aXRsZT5Hcm91cCAzPC90aXRsZT4KICAgIDxkZXNjPkNyZWF0ZWQgd2l0aCBTa2V0Y2guPC9kZXNjPgogICAgPGcgaWQ9IkxhbmRpbmciIHN0cm9rZT0ibm9uZSIgc3Ryb2tlLXdpZHRoPSIxIiBmaWxsPSJub25lIiBmaWxsLXJ1bGU9ImV2ZW5vZGQiPgogICAgICAgIDxnIGlkPSJBcnRib2FyZCIgdHJhbnNmb3JtPSJ0cmFuc2xhdGUoLTEyMzUuMDAwMDAwLCAtNzkuMDAwMDAwKSI+CiAgICAgICAgICAgIDxnIGlkPSJHcm91cC0zIiB0cmFuc2Zvcm09InRyYW5zbGF0ZSgxMjM1LjAwMDAwMCwgNzkuMDAwMDAwKSI+CiAgICAgICAgICAgICAgICA8cG9seWdvbiBpZD0iUGF0aC0yMCIgZmlsbD0iIzAyNjVCNCIgcG9pbnRzPSIyLjM3NjIzNzYyIDgwIDM4LjA0NzY2NjcgODAgNTcuODIxNzgyMiA3My44MDU3NTkyIDU3LjgyMTc4MjIgMzIuNzU5MjczOSAzOS4xNDAyMjc4IDMxLjY4MzE2ODMiPjwvcG9seWdvbj4KICAgICAgICAgICAgICAgIDxwYXRoIGQ9Ik0zNS4wMDc3MTgsODAgQzQyLjkwNjIwMDcsNzYuNDU0OTM1OCA0Ny41NjQ5MTY3LDcxLjU0MjI2NzEgNDguOTgzODY2LDY1LjI2MTk5MzkgQzUxLjExMjI4OTksNTUuODQxNTg0MiA0MS42NzcxNzk1LDQ5LjIxMjIyODQgMjUuNjIzOTg0Niw0OS4yMTIyMjg0IEMyNS40ODQ5Mjg5LDQ5LjEyNjg0NDggMjkuODI2MTI5Niw0My4yODM4MjQ4IDM4LjY0NzU4NjksMzEuNjgzMTY4MyBMNzIuODcxMjg3MSwzMi41NTQ0MjUgTDY1LjI4MDk3Myw2Ny42NzYzNDIxIEw1MS4xMTIyODk5LDc3LjM3NjE0NCBMMzUuMDA3NzE4LDgwIFoiIGlkPSJQYXRoLTIyIiBmaWxsPSIjMDAyODY4Ij48L3BhdGg+CiAgICAgICAgICAgICAgICA8cGF0aCBkPSJNMCwzNy43MzA0NDA1IEwyNy4xMTQ1MzcsMC4yNTcxMTE0MzYgQzYyLjM3MTUxMjMsLTEuOTkwNzE3MDEgODAsMTAuNTAwMzkyNyA4MCwzNy43MzA0NDA1IEM4MCw2NC45NjA0ODgyIDY0Ljc3NjUwMzgsNzkuMDUwMzQxNCAzNC4zMjk1MTEzLDgwIEM0Ny4wNTUzNDg5LDc3LjU2NzA4MDggNTMuNDE4MjY3Nyw3MC4zMTM2MTAzIDUzLjQxODI2NzcsNTguMjM5NTg4NSBDNTMuNDE4MjY3Nyw0MC4xMjg1NTU3IDM2LjMwMzk1NDQsMzcuNzMwNDQwNSAyNS4yMjc0MTcsMzcuNzMwNDQwNSBDMTcuODQzMDU4NiwzNy43MzA0NDA1IDkuNDMzOTE5NjYsMzcuNzMwNDQwNSAwLDM3LjczMDQ0MDUgWiIgaWQ9IlBhdGgtMTkiIGZpbGw9IiMzNzkzRUYiPjwvcGF0aD4KICAgICAgICAgICAgPC9nPgogICAgICAgIDwvZz4KICAgIDwvZz4KPC9zdmc+' > </img>\n",
    "Created in <span style='font-weight:600;margin-left:4px;'>Deepnote</span></a>"
   ]
  }
 ],
 "metadata": {
  "deepnote": {},
  "deepnote_execution_queue": [],
  "deepnote_notebook_id": "a8ae3cee-4e70-46e4-8657-83f0da8c8844",
  "kernelspec": {
   "display_name": "Python 3",
   "language": "python",
   "name": "python3"
  },
  "language_info": {
   "codemirror_mode": {
    "name": "ipython",
    "version": 3
   },
   "file_extension": ".py",
   "mimetype": "text/x-python",
   "name": "python",
   "nbconvert_exporter": "python",
   "pygments_lexer": "ipython3",
   "version": "3.8.7"
  }
 },
 "nbformat": 4,
 "nbformat_minor": 4
}
