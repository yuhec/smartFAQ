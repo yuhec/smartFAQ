{
  "cells": [
    {
      "cell_type": "code",
      "metadata": {
        "tags": [],
        "cell_id": "00000-9a58d884-7a8e-420b-8c28-1e5399ed6c32",
        "deepnote_to_be_reexecuted": false,
        "source_hash": "1221ffae",
        "execution_millis": 0,
        "execution_start": 1614964317141,
        "deepnote_cell_type": "code"
      },
      "source": "import pandas as pd\nimport pickle\nfrom sklearn.ensemble import RandomForestRegressor\nfrom sklearn.model_selection import train_test_split\nfrom sklearn.metrics import mean_squared_error\nfrom sklearn.preprocessing import OneHotEncoder",
      "execution_count": null,
      "outputs": []
    },
    {
      "cell_type": "code",
      "metadata": {
        "tags": [],
        "cell_id": "00001-e6d35a23-80ea-4db3-9689-56ebb0d0b90b",
        "deepnote_to_be_reexecuted": false,
        "source_hash": "9d571892",
        "execution_millis": 11567,
        "execution_start": 1614963578076,
        "deepnote_cell_type": "code"
      },
      "source": "with open('../data/train_data.pickle', 'rb') as handle:\n    df = pickle.load(handle)",
      "execution_count": null,
      "outputs": []
    },
    {
      "cell_type": "code",
      "metadata": {
        "tags": [],
        "cell_id": "00002-61224aa3-8766-4cb8-b571-eea5fed565a2",
        "deepnote_to_be_reexecuted": false,
        "source_hash": "c085b6ba",
        "execution_start": 1614963666479,
        "execution_millis": 48,
        "deepnote_cell_type": "code"
      },
      "source": "df.head()",
      "execution_count": null,
      "outputs": [
        {
          "output_type": "execute_result",
          "execution_count": 13,
          "data": {
            "application/vnd.deepnote.dataframe.v2+json": {
              "row_count": 5,
              "column_count": 11,
              "columns": [
                {
                  "name": "Id_x",
                  "dtype": "int64",
                  "stats": {
                    "unique_count": 5,
                    "nan_count": 0,
                    "min": 497,
                    "max": 195170,
                    "histogram": [
                      {
                        "bin_start": 497,
                        "bin_end": 19964.3,
                        "count": 4
                      },
                      {
                        "bin_start": 19964.3,
                        "bin_end": 39431.6,
                        "count": 0
                      },
                      {
                        "bin_start": 39431.6,
                        "bin_end": 58898.899999999994,
                        "count": 0
                      },
                      {
                        "bin_start": 58898.899999999994,
                        "bin_end": 78366.2,
                        "count": 0
                      },
                      {
                        "bin_start": 78366.2,
                        "bin_end": 97833.5,
                        "count": 0
                      },
                      {
                        "bin_start": 97833.5,
                        "bin_end": 117300.79999999999,
                        "count": 0
                      },
                      {
                        "bin_start": 117300.79999999999,
                        "bin_end": 136768.1,
                        "count": 0
                      },
                      {
                        "bin_start": 136768.1,
                        "bin_end": 156235.4,
                        "count": 0
                      },
                      {
                        "bin_start": 156235.4,
                        "bin_end": 175702.69999999998,
                        "count": 0
                      },
                      {
                        "bin_start": 175702.69999999998,
                        "bin_end": 195170,
                        "count": 1
                      }
                    ]
                  }
                },
                {
                  "name": "OwnerUserId_x",
                  "dtype": "float64",
                  "stats": {
                    "unique_count": 5,
                    "nan_count": 0,
                    "min": 50,
                    "max": 745,
                    "histogram": [
                      {
                        "bin_start": 50,
                        "bin_end": 119.5,
                        "count": 1
                      },
                      {
                        "bin_start": 119.5,
                        "bin_end": 189,
                        "count": 2
                      },
                      {
                        "bin_start": 189,
                        "bin_end": 258.5,
                        "count": 0
                      },
                      {
                        "bin_start": 258.5,
                        "bin_end": 328,
                        "count": 0
                      },
                      {
                        "bin_start": 328,
                        "bin_end": 397.5,
                        "count": 0
                      },
                      {
                        "bin_start": 397.5,
                        "bin_end": 467,
                        "count": 1
                      },
                      {
                        "bin_start": 467,
                        "bin_end": 536.5,
                        "count": 0
                      },
                      {
                        "bin_start": 536.5,
                        "bin_end": 606,
                        "count": 0
                      },
                      {
                        "bin_start": 606,
                        "bin_end": 675.5,
                        "count": 0
                      },
                      {
                        "bin_start": 675.5,
                        "bin_end": 745,
                        "count": 1
                      }
                    ]
                  }
                },
                {
                  "name": "CreationDate_x",
                  "dtype": "object",
                  "stats": {
                    "unique_count": 5,
                    "nan_count": 0,
                    "categories": [
                      {
                        "name": "2008-08-02T16:56:53Z",
                        "count": 1
                      },
                      {
                        "name": "2008-08-02T17:42:28Z",
                        "count": 1
                      },
                      {
                        "name": "3 others",
                        "count": 3
                      }
                    ]
                  }
                },
                {
                  "name": "Score_x",
                  "dtype": "int64",
                  "stats": {
                    "unique_count": 5,
                    "nan_count": 0,
                    "min": 1,
                    "max": 12,
                    "histogram": [
                      {
                        "bin_start": 1,
                        "bin_end": 2.1,
                        "count": 2
                      },
                      {
                        "bin_start": 2.1,
                        "bin_end": 3.2,
                        "count": 0
                      },
                      {
                        "bin_start": 3.2,
                        "bin_end": 4.300000000000001,
                        "count": 1
                      },
                      {
                        "bin_start": 4.300000000000001,
                        "bin_end": 5.4,
                        "count": 0
                      },
                      {
                        "bin_start": 5.4,
                        "bin_end": 6.5,
                        "count": 0
                      },
                      {
                        "bin_start": 6.5,
                        "bin_end": 7.6000000000000005,
                        "count": 0
                      },
                      {
                        "bin_start": 7.6000000000000005,
                        "bin_end": 8.700000000000001,
                        "count": 0
                      },
                      {
                        "bin_start": 8.700000000000001,
                        "bin_end": 9.8,
                        "count": 1
                      },
                      {
                        "bin_start": 9.8,
                        "bin_end": 10.9,
                        "count": 0
                      },
                      {
                        "bin_start": 10.9,
                        "bin_end": 12,
                        "count": 1
                      }
                    ]
                  }
                },
                {
                  "name": "Body_x",
                  "dtype": "object",
                  "stats": {
                    "unique_count": 5,
                    "nan_count": 0,
                    "categories": [
                      {
                        "name": "<p>open up a terminal (Applications-&gt;Utilities-&gt;Terminal) and type this in:</p>\r\n\r\n<pre><code>locate InsertFontHere<br></code></pre>\r\n\r\n<p>This will spit out every file that has the name you want.</p>\r\n\r\n<p>Warning: there may be alot to wade through.</p>",
                        "count": 1
                      },
                      {
                        "name": "<p>I haven't been able to find anything that does this directly.  I think you'll have to iterate through the various font folders on the system: <code>/System/Library/Fonts</code>, <code>/Library/Fonts</code>, and there can probably be a user-level directory as well <code>~/Library/Fonts</code>.</p>\n",
                        "count": 1
                      },
                      {
                        "name": "3 others",
                        "count": 3
                      }
                    ]
                  }
                },
                {
                  "name": "Id_y",
                  "dtype": "int64",
                  "stats": {
                    "unique_count": 2,
                    "nan_count": 0,
                    "min": 469,
                    "max": 502,
                    "histogram": [
                      {
                        "bin_start": 469,
                        "bin_end": 472.3,
                        "count": 4
                      },
                      {
                        "bin_start": 472.3,
                        "bin_end": 475.6,
                        "count": 0
                      },
                      {
                        "bin_start": 475.6,
                        "bin_end": 478.9,
                        "count": 0
                      },
                      {
                        "bin_start": 478.9,
                        "bin_end": 482.2,
                        "count": 0
                      },
                      {
                        "bin_start": 482.2,
                        "bin_end": 485.5,
                        "count": 0
                      },
                      {
                        "bin_start": 485.5,
                        "bin_end": 488.8,
                        "count": 0
                      },
                      {
                        "bin_start": 488.8,
                        "bin_end": 492.1,
                        "count": 0
                      },
                      {
                        "bin_start": 492.1,
                        "bin_end": 495.4,
                        "count": 0
                      },
                      {
                        "bin_start": 495.4,
                        "bin_end": 498.7,
                        "count": 0
                      },
                      {
                        "bin_start": 498.7,
                        "bin_end": 502,
                        "count": 1
                      }
                    ]
                  }
                },
                {
                  "name": "OwnerUserId_y",
                  "dtype": "float64",
                  "stats": {
                    "unique_count": 1,
                    "nan_count": 0,
                    "min": 147,
                    "max": 147,
                    "histogram": [
                      {
                        "bin_start": 146.5,
                        "bin_end": 146.6,
                        "count": 0
                      },
                      {
                        "bin_start": 146.6,
                        "bin_end": 146.7,
                        "count": 0
                      },
                      {
                        "bin_start": 146.7,
                        "bin_end": 146.8,
                        "count": 0
                      },
                      {
                        "bin_start": 146.8,
                        "bin_end": 146.9,
                        "count": 0
                      },
                      {
                        "bin_start": 146.9,
                        "bin_end": 147,
                        "count": 0
                      },
                      {
                        "bin_start": 147,
                        "bin_end": 147.1,
                        "count": 5
                      },
                      {
                        "bin_start": 147.1,
                        "bin_end": 147.2,
                        "count": 0
                      },
                      {
                        "bin_start": 147.2,
                        "bin_end": 147.3,
                        "count": 0
                      },
                      {
                        "bin_start": 147.3,
                        "bin_end": 147.4,
                        "count": 0
                      },
                      {
                        "bin_start": 147.4,
                        "bin_end": 147.5,
                        "count": 0
                      }
                    ]
                  }
                },
                {
                  "name": "CreationDate_y",
                  "dtype": "object",
                  "stats": {
                    "unique_count": 2,
                    "nan_count": 0,
                    "categories": [
                      {
                        "name": "2008-08-02T15:11:16Z",
                        "count": 4
                      },
                      {
                        "name": "2008-08-02T17:01:58Z",
                        "count": 1
                      }
                    ]
                  }
                },
                {
                  "name": "Score_y",
                  "dtype": "int64",
                  "stats": {
                    "unique_count": 2,
                    "nan_count": 0,
                    "min": 21,
                    "max": 27,
                    "histogram": [
                      {
                        "bin_start": 21,
                        "bin_end": 21.6,
                        "count": 4
                      },
                      {
                        "bin_start": 21.6,
                        "bin_end": 22.2,
                        "count": 0
                      },
                      {
                        "bin_start": 22.2,
                        "bin_end": 22.8,
                        "count": 0
                      },
                      {
                        "bin_start": 22.8,
                        "bin_end": 23.4,
                        "count": 0
                      },
                      {
                        "bin_start": 23.4,
                        "bin_end": 24,
                        "count": 0
                      },
                      {
                        "bin_start": 24,
                        "bin_end": 24.6,
                        "count": 0
                      },
                      {
                        "bin_start": 24.6,
                        "bin_end": 25.2,
                        "count": 0
                      },
                      {
                        "bin_start": 25.2,
                        "bin_end": 25.8,
                        "count": 0
                      },
                      {
                        "bin_start": 25.8,
                        "bin_end": 26.4,
                        "count": 0
                      },
                      {
                        "bin_start": 26.4,
                        "bin_end": 27,
                        "count": 1
                      }
                    ]
                  }
                },
                {
                  "name": "Title",
                  "dtype": "object",
                  "stats": {
                    "unique_count": 2,
                    "nan_count": 0,
                    "categories": [
                      {
                        "name": "How can I find the full path to a font from its display name on a Mac?",
                        "count": 4
                      },
                      {
                        "name": "Get a preview JPEG of a PDF on Windows?",
                        "count": 1
                      }
                    ]
                  }
                },
                {
                  "name": "Body_y",
                  "dtype": "object",
                  "stats": {
                    "unique_count": 2,
                    "nan_count": 0,
                    "categories": [
                      {
                        "name": "<p>I am using the Photoshop's javascript API to find the fonts in a given PSD.</p>\n\n<p>Given a font name returned by the API, I want to find the actual physical font file that that font name corresponds to on the disc.</p>\n\n<p>This is all happening in a python program running on OSX so I guess I'm looking for one of:</p>\n\n<ul>\n<li>Some Photoshop javascript</li>\n<li>A Python function</li>\n<li>An OSX API that I can call from python</li>\n</ul>\n",
                        "count": 4
                      },
                      {
                        "name": "<p>I have a cross-platform (Python) application which needs to generate a JPEG preview of the first page of a PDF.</p>\n\n<p>On the Mac I am spawning <a href=\"http://developer.apple.com/documentation/Darwin/Reference/ManPages/man1/sips.1.html\">sips</a>.  Is there something similarly simple I can do on Windows?</p>\n",
                        "count": 1
                      }
                    ]
                  }
                },
                {
                  "name": "_deepnote_index_column",
                  "dtype": "int64"
                }
              ],
              "rows_top": [
                {
                  "Id_x": 497,
                  "OwnerUserId_x": 50,
                  "CreationDate_x": "2008-08-02T16:56:53Z",
                  "Score_x": 4,
                  "Body_x": "<p>open up a terminal (Applications-&gt;Utilities-&gt;Terminal) and type this in:</p>\r\n\r\n<pre><code>locate InsertFontHere<br></code></pre>\r\n\r\n<p>This will spit out every file that has the name you want.</p>\r\n\r\n<p>Warning: there may be alot to wade through.</p>",
                  "Id_y": 469,
                  "OwnerUserId_y": 147,
                  "CreationDate_y": "2008-08-02T15:11:16Z",
                  "Score_y": 21,
                  "Title": "How can I find the full path to a font from its display name on a Mac?",
                  "Body_y": "<p>I am using the Photoshop's javascript API to find the fonts in a given PSD.</p>\n\n<p>Given a font name returned by the API, I want to find the actual physical font file that that font name corresponds to on the disc.</p>\n\n<p>This is all happening in a python program running on OSX so I guess I'm looking for one of:</p>\n\n<ul>\n<li>Some Photoshop javascript</li>\n<li>A Python function</li>\n<li>An OSX API that I can call from python</li>\n</ul>\n",
                  "_deepnote_index_column": 0
                },
                {
                  "Id_x": 518,
                  "OwnerUserId_x": 153,
                  "CreationDate_x": "2008-08-02T17:42:28Z",
                  "Score_x": 2,
                  "Body_x": "<p>I haven't been able to find anything that does this directly.  I think you'll have to iterate through the various font folders on the system: <code>/System/Library/Fonts</code>, <code>/Library/Fonts</code>, and there can probably be a user-level directory as well <code>~/Library/Fonts</code>.</p>\n",
                  "Id_y": 469,
                  "OwnerUserId_y": 147,
                  "CreationDate_y": "2008-08-02T15:11:16Z",
                  "Score_y": 21,
                  "Title": "How can I find the full path to a font from its display name on a Mac?",
                  "Body_y": "<p>I am using the Photoshop's javascript API to find the fonts in a given PSD.</p>\n\n<p>Given a font name returned by the API, I want to find the actual physical font file that that font name corresponds to on the disc.</p>\n\n<p>This is all happening in a python program running on OSX so I guess I'm looking for one of:</p>\n\n<ul>\n<li>Some Photoshop javascript</li>\n<li>A Python function</li>\n<li>An OSX API that I can call from python</li>\n</ul>\n",
                  "_deepnote_index_column": 1
                },
                {
                  "Id_x": 3040,
                  "OwnerUserId_x": 457,
                  "CreationDate_x": "2008-08-06T03:01:23Z",
                  "Score_x": 12,
                  "Body_x": "<p>Unfortunately the only API that isn't deprecated is located in the ApplicationServices framework, which doesn't have a bridge support file, and thus isn't available in the bridge. If you're wanting to use ctypes, you can use ATSFontGetFileReference after looking up the ATSFontRef.</p>\r\n\r\n<p>Cocoa doesn't have any native support, at least as of 10.5, for getting the location of a font.</p>",
                  "Id_y": 469,
                  "OwnerUserId_y": 147,
                  "CreationDate_y": "2008-08-02T15:11:16Z",
                  "Score_y": 21,
                  "Title": "How can I find the full path to a font from its display name on a Mac?",
                  "Body_y": "<p>I am using the Photoshop's javascript API to find the fonts in a given PSD.</p>\n\n<p>Given a font name returned by the API, I want to find the actual physical font file that that font name corresponds to on the disc.</p>\n\n<p>This is all happening in a python program running on OSX so I guess I'm looking for one of:</p>\n\n<ul>\n<li>Some Photoshop javascript</li>\n<li>A Python function</li>\n<li>An OSX API that I can call from python</li>\n</ul>\n",
                  "_deepnote_index_column": 2
                },
                {
                  "Id_x": 195170,
                  "OwnerUserId_x": 745,
                  "CreationDate_x": "2008-10-12T07:02:40Z",
                  "Score_x": 1,
                  "Body_x": "<p>There must be a method in Cocoa to get a list of fonts, then you would have to use the PyObjC bindings to call it..</p>\n\n<p>Depending on what you need them for, you could probably just use something like the following..</p>\n\n<pre><code>import os\ndef get_font_list():\n    fonts = []\n    for font_path in [\"/Library/Fonts\", os.path.expanduser(\"~/Library/Fonts\")]:\n        if os.path.isdir(font_path):\n            fonts.extend(\n                [os.path.join(font_path, cur_font) \n                 for cur_font in os.listdir(font_path)\n                ]\n            )\n    return fonts\n</code></pre>\n",
                  "Id_y": 469,
                  "OwnerUserId_y": 147,
                  "CreationDate_y": "2008-08-02T15:11:16Z",
                  "Score_y": 21,
                  "Title": "How can I find the full path to a font from its display name on a Mac?",
                  "Body_y": "<p>I am using the Photoshop's javascript API to find the fonts in a given PSD.</p>\n\n<p>Given a font name returned by the API, I want to find the actual physical font file that that font name corresponds to on the disc.</p>\n\n<p>This is all happening in a python program running on OSX so I guess I'm looking for one of:</p>\n\n<ul>\n<li>Some Photoshop javascript</li>\n<li>A Python function</li>\n<li>An OSX API that I can call from python</li>\n</ul>\n",
                  "_deepnote_index_column": 3
                },
                {
                  "Id_x": 536,
                  "OwnerUserId_x": 161,
                  "CreationDate_x": "2008-08-02T18:49:07Z",
                  "Score_x": 9,
                  "Body_x": "<p>You can use ImageMagick's convert utility for this, see some examples in <a href=\"https://web.archive.org/web/20120413111338/http://studio.imagemagick.org/pipermail/magick-users/2002-May/002636.html\" rel=\"nofollow\">http://studio.imagemagick.org/pipermail/magick-users/2002-May/002636.html</a>\n:</p>\n\n<blockquote>\n<pre><code>Convert taxes.pdf taxes.jpg \n</code></pre>\n  \n  <p>Will convert a two page PDF file into [2] jpeg files: taxes.jpg.0,\n  taxes.jpg.1</p>\n  \n  <p>I can also convert these JPEGS to a thumbnail as follows:</p>\n\n<pre><code>convert -size 120x120 taxes.jpg.0 -geometry 120x120 +profile '*' thumbnail.jpg\n</code></pre>\n  \n  <p>I can even convert the PDF directly to a jpeg thumbnail as follows:</p>\n\n<pre><code>convert -size 120x120 taxes.pdf -geometry 120x120 +profile '*' thumbnail.jpg\n</code></pre>\n  \n  <p>This will result in a thumbnail.jpg.0 and thumbnail.jpg.1 for the two\n  pages.</p>\n</blockquote>\n",
                  "Id_y": 502,
                  "OwnerUserId_y": 147,
                  "CreationDate_y": "2008-08-02T17:01:58Z",
                  "Score_y": 27,
                  "Title": "Get a preview JPEG of a PDF on Windows?",
                  "Body_y": "<p>I have a cross-platform (Python) application which needs to generate a JPEG preview of the first page of a PDF.</p>\n\n<p>On the Mac I am spawning <a href=\"http://developer.apple.com/documentation/Darwin/Reference/ManPages/man1/sips.1.html\">sips</a>.  Is there something similarly simple I can do on Windows?</p>\n",
                  "_deepnote_index_column": 4
                }
              ],
              "rows_bottom": null
            },
            "text/plain": "     Id_x  OwnerUserId_x        CreationDate_x  Score_x  \\\n0     497           50.0  2008-08-02T16:56:53Z        4   \n1     518          153.0  2008-08-02T17:42:28Z        2   \n2    3040          457.0  2008-08-06T03:01:23Z       12   \n3  195170          745.0  2008-10-12T07:02:40Z        1   \n4     536          161.0  2008-08-02T18:49:07Z        9   \n\n                                              Body_x  Id_y  OwnerUserId_y  \\\n0  <p>open up a terminal (Applications-&gt;Utilit...   469          147.0   \n1  <p>I haven't been able to find anything that d...   469          147.0   \n2  <p>Unfortunately the only API that isn't depre...   469          147.0   \n3  <p>There must be a method in Cocoa to get a li...   469          147.0   \n4  <p>You can use ImageMagick's convert utility f...   502          147.0   \n\n         CreationDate_y  Score_y  \\\n0  2008-08-02T15:11:16Z       21   \n1  2008-08-02T15:11:16Z       21   \n2  2008-08-02T15:11:16Z       21   \n3  2008-08-02T15:11:16Z       21   \n4  2008-08-02T17:01:58Z       27   \n\n                                               Title  \\\n0  How can I find the full path to a font from it...   \n1  How can I find the full path to a font from it...   \n2  How can I find the full path to a font from it...   \n3  How can I find the full path to a font from it...   \n4            Get a preview JPEG of a PDF on Windows?   \n\n                                              Body_y  \n0  <p>I am using the Photoshop's javascript API t...  \n1  <p>I am using the Photoshop's javascript API t...  \n2  <p>I am using the Photoshop's javascript API t...  \n3  <p>I am using the Photoshop's javascript API t...  \n4  <p>I have a cross-platform (Python) applicatio...  ",
            "text/html": "<div>\n<style scoped>\n    .dataframe tbody tr th:only-of-type {\n        vertical-align: middle;\n    }\n\n    .dataframe tbody tr th {\n        vertical-align: top;\n    }\n\n    .dataframe thead th {\n        text-align: right;\n    }\n</style>\n<table border=\"1\" class=\"dataframe\">\n  <thead>\n    <tr style=\"text-align: right;\">\n      <th></th>\n      <th>Id_x</th>\n      <th>OwnerUserId_x</th>\n      <th>CreationDate_x</th>\n      <th>Score_x</th>\n      <th>Body_x</th>\n      <th>Id_y</th>\n      <th>OwnerUserId_y</th>\n      <th>CreationDate_y</th>\n      <th>Score_y</th>\n      <th>Title</th>\n      <th>Body_y</th>\n    </tr>\n  </thead>\n  <tbody>\n    <tr>\n      <th>0</th>\n      <td>497</td>\n      <td>50.0</td>\n      <td>2008-08-02T16:56:53Z</td>\n      <td>4</td>\n      <td>&lt;p&gt;open up a terminal (Applications-&amp;gt;Utilit...</td>\n      <td>469</td>\n      <td>147.0</td>\n      <td>2008-08-02T15:11:16Z</td>\n      <td>21</td>\n      <td>How can I find the full path to a font from it...</td>\n      <td>&lt;p&gt;I am using the Photoshop's javascript API t...</td>\n    </tr>\n    <tr>\n      <th>1</th>\n      <td>518</td>\n      <td>153.0</td>\n      <td>2008-08-02T17:42:28Z</td>\n      <td>2</td>\n      <td>&lt;p&gt;I haven't been able to find anything that d...</td>\n      <td>469</td>\n      <td>147.0</td>\n      <td>2008-08-02T15:11:16Z</td>\n      <td>21</td>\n      <td>How can I find the full path to a font from it...</td>\n      <td>&lt;p&gt;I am using the Photoshop's javascript API t...</td>\n    </tr>\n    <tr>\n      <th>2</th>\n      <td>3040</td>\n      <td>457.0</td>\n      <td>2008-08-06T03:01:23Z</td>\n      <td>12</td>\n      <td>&lt;p&gt;Unfortunately the only API that isn't depre...</td>\n      <td>469</td>\n      <td>147.0</td>\n      <td>2008-08-02T15:11:16Z</td>\n      <td>21</td>\n      <td>How can I find the full path to a font from it...</td>\n      <td>&lt;p&gt;I am using the Photoshop's javascript API t...</td>\n    </tr>\n    <tr>\n      <th>3</th>\n      <td>195170</td>\n      <td>745.0</td>\n      <td>2008-10-12T07:02:40Z</td>\n      <td>1</td>\n      <td>&lt;p&gt;There must be a method in Cocoa to get a li...</td>\n      <td>469</td>\n      <td>147.0</td>\n      <td>2008-08-02T15:11:16Z</td>\n      <td>21</td>\n      <td>How can I find the full path to a font from it...</td>\n      <td>&lt;p&gt;I am using the Photoshop's javascript API t...</td>\n    </tr>\n    <tr>\n      <th>4</th>\n      <td>536</td>\n      <td>161.0</td>\n      <td>2008-08-02T18:49:07Z</td>\n      <td>9</td>\n      <td>&lt;p&gt;You can use ImageMagick's convert utility f...</td>\n      <td>502</td>\n      <td>147.0</td>\n      <td>2008-08-02T17:01:58Z</td>\n      <td>27</td>\n      <td>Get a preview JPEG of a PDF on Windows?</td>\n      <td>&lt;p&gt;I have a cross-platform (Python) applicatio...</td>\n    </tr>\n  </tbody>\n</table>\n</div>"
          },
          "metadata": {}
        }
      ]
    },
    {
      "cell_type": "markdown",
      "source": "## Split Train/Test",
      "metadata": {
        "tags": [],
        "cell_id": "00005-b2848e46-815f-497c-8559-31578aeaf34c",
        "deepnote_cell_type": "markdown"
      }
    },
    {
      "cell_type": "code",
      "metadata": {
        "tags": [],
        "cell_id": "00004-999b3e95-f8c4-4246-b7ad-bf359031127b",
        "deepnote_to_be_reexecuted": false,
        "source_hash": "49326a01",
        "execution_millis": 331,
        "execution_start": 1614963805742,
        "deepnote_cell_type": "code"
      },
      "source": "X_train, X_test, y_train, y_test = train_test_split(df[['Body_x']], df['Score_x'], test_size=0.2, random_state=0)",
      "execution_count": null,
      "outputs": []
    },
    {
      "cell_type": "markdown",
      "source": "## Preproc",
      "metadata": {
        "tags": [],
        "cell_id": "00005-666d2fb5-9019-4c6b-9908-ff69c89e7158",
        "deepnote_cell_type": "markdown"
      }
    },
    {
      "cell_type": "code",
      "metadata": {
        "tags": [],
        "cell_id": "00006-e55c60e1-add8-46b3-9229-3469cc46e07f",
        "deepnote_to_be_reexecuted": false,
        "source_hash": "5961b97a",
        "execution_millis": 0,
        "execution_start": 1614964317142,
        "deepnote_cell_type": "code"
      },
      "source": "enc = OneHotEncoder(handle_unknown='ignore')",
      "execution_count": null,
      "outputs": []
    },
    {
      "cell_type": "code",
      "metadata": {
        "tags": [],
        "cell_id": "00007-4a4195b4-7ac1-4609-8d78-0b4c10b7c659",
        "deepnote_to_be_reexecuted": false,
        "source_hash": "bb4d0b1a",
        "execution_start": 1614964664042,
        "execution_millis": 5157,
        "deepnote_cell_type": "code"
      },
      "source": "oneHotTrain = enc.fit_transform(X_train)",
      "execution_count": null,
      "outputs": []
    },
    {
      "cell_type": "code",
      "metadata": {
        "tags": [],
        "cell_id": "00008-bbcd64aa-5ade-46c9-b069-aaeb2d5d791c",
        "deepnote_to_be_reexecuted": false,
        "source_hash": "49a751f8",
        "execution_start": 1614964669202,
        "execution_millis": 6,
        "deepnote_cell_type": "code"
      },
      "source": "oneHotTrain",
      "execution_count": null,
      "outputs": [
        {
          "output_type": "execute_result",
          "execution_count": 25,
          "data": {
            "text/plain": "<789697x789543 sparse matrix of type '<class 'numpy.float64'>'\n\twith 789697 stored elements in Compressed Sparse Row format>"
          },
          "metadata": {}
        }
      ]
    },
    {
      "cell_type": "markdown",
      "source": "## Create Model",
      "metadata": {
        "tags": [],
        "cell_id": "00005-80f0eb0e-61b3-4af8-82c3-74a925a397cb",
        "deepnote_cell_type": "markdown"
      }
    },
    {
      "cell_type": "code",
      "metadata": {
        "tags": [],
        "cell_id": "00006-3737ee2b-51fe-4e2c-8b2a-1212a8d3777e",
        "deepnote_to_be_reexecuted": false,
        "source_hash": "d770c8a9",
        "execution_start": 1614963831001,
        "execution_millis": 1,
        "deepnote_cell_type": "code"
      },
      "source": "regr = RandomForestRegressor(max_depth=2, random_state=0)",
      "execution_count": null,
      "outputs": []
    },
    {
      "cell_type": "code",
      "metadata": {
        "tags": [],
        "cell_id": "00007-3ecd8949-0245-4e8d-90e7-1e48064122fe",
        "deepnote_to_be_reexecuted": false,
        "source_hash": "ab9cc06",
        "execution_start": 1614963850118,
        "execution_millis": 4,
        "deepnote_cell_type": "code"
      },
      "source": "regr.fit(X_train, y_train)",
      "execution_count": null,
      "outputs": [
        {
          "output_type": "error",
          "ename": "ValueError",
          "evalue": "could not convert string to float: '<p>You can use a list comprehension to rebuild the list:</p>\\n\\n<pre><code>indices = {3, 4}\\nnewlist = [v for i, v in enumerate(oldlist) if i not in indices]\\n</code></pre>\\n\\n<p>I used a set for the indices here, as set membership testing is faster than with a list.</p>\\n\\n<p>Note that a delete (best done with <code>del lst[index]</code>) partially rebuilds the list as well; doing so with one loop in a list comprehension can be more efficient.</p>\\n\\n<p>Demo:</p>\\n\\n<pre><code>&gt;&gt;&gt; oldlist = [2, 5, 7, 12, 13]\\n&gt;&gt;&gt; indices = {3, 4}\\n&gt;&gt;&gt; [v for i, v in enumerate(oldlist) if i not in indices]\\n[2, 5, 7]\\n</code></pre>\\n'",
          "traceback": [
            "\u001b[0;31m---------------------------------------------------------------------------\u001b[0m",
            "\u001b[0;31mValueError\u001b[0m                                Traceback (most recent call last)",
            "\u001b[0;32m<ipython-input-19-54b5df3622f8>\u001b[0m in \u001b[0;36m<module>\u001b[0;34m\u001b[0m\n\u001b[0;32m----> 1\u001b[0;31m \u001b[0mregr\u001b[0m\u001b[0;34m.\u001b[0m\u001b[0mfit\u001b[0m\u001b[0;34m(\u001b[0m\u001b[0mX_train\u001b[0m\u001b[0;34m,\u001b[0m \u001b[0my_train\u001b[0m\u001b[0;34m)\u001b[0m\u001b[0;34m\u001b[0m\u001b[0;34m\u001b[0m\u001b[0m\n\u001b[0m",
            "\u001b[0;32m/shared-libs/python3.7/py/lib/python3.7/site-packages/sklearn/ensemble/_forest.py\u001b[0m in \u001b[0;36mfit\u001b[0;34m(self, X, y, sample_weight)\u001b[0m\n\u001b[1;32m    303\u001b[0m             )\n\u001b[1;32m    304\u001b[0m         X, y = self._validate_data(X, y, multi_output=True,\n\u001b[0;32m--> 305\u001b[0;31m                                    accept_sparse=\"csc\", dtype=DTYPE)\n\u001b[0m\u001b[1;32m    306\u001b[0m         \u001b[0;32mif\u001b[0m \u001b[0msample_weight\u001b[0m \u001b[0;32mis\u001b[0m \u001b[0;32mnot\u001b[0m \u001b[0;32mNone\u001b[0m\u001b[0;34m:\u001b[0m\u001b[0;34m\u001b[0m\u001b[0;34m\u001b[0m\u001b[0m\n\u001b[1;32m    307\u001b[0m             \u001b[0msample_weight\u001b[0m \u001b[0;34m=\u001b[0m \u001b[0m_check_sample_weight\u001b[0m\u001b[0;34m(\u001b[0m\u001b[0msample_weight\u001b[0m\u001b[0;34m,\u001b[0m \u001b[0mX\u001b[0m\u001b[0;34m)\u001b[0m\u001b[0;34m\u001b[0m\u001b[0;34m\u001b[0m\u001b[0m\n",
            "\u001b[0;32m/shared-libs/python3.7/py/lib/python3.7/site-packages/sklearn/base.py\u001b[0m in \u001b[0;36m_validate_data\u001b[0;34m(self, X, y, reset, validate_separately, **check_params)\u001b[0m\n\u001b[1;32m    431\u001b[0m                 \u001b[0my\u001b[0m \u001b[0;34m=\u001b[0m \u001b[0mcheck_array\u001b[0m\u001b[0;34m(\u001b[0m\u001b[0my\u001b[0m\u001b[0;34m,\u001b[0m \u001b[0;34m**\u001b[0m\u001b[0mcheck_y_params\u001b[0m\u001b[0;34m)\u001b[0m\u001b[0;34m\u001b[0m\u001b[0;34m\u001b[0m\u001b[0m\n\u001b[1;32m    432\u001b[0m             \u001b[0;32melse\u001b[0m\u001b[0;34m:\u001b[0m\u001b[0;34m\u001b[0m\u001b[0;34m\u001b[0m\u001b[0m\n\u001b[0;32m--> 433\u001b[0;31m                 \u001b[0mX\u001b[0m\u001b[0;34m,\u001b[0m \u001b[0my\u001b[0m \u001b[0;34m=\u001b[0m \u001b[0mcheck_X_y\u001b[0m\u001b[0;34m(\u001b[0m\u001b[0mX\u001b[0m\u001b[0;34m,\u001b[0m \u001b[0my\u001b[0m\u001b[0;34m,\u001b[0m \u001b[0;34m**\u001b[0m\u001b[0mcheck_params\u001b[0m\u001b[0;34m)\u001b[0m\u001b[0;34m\u001b[0m\u001b[0;34m\u001b[0m\u001b[0m\n\u001b[0m\u001b[1;32m    434\u001b[0m             \u001b[0mout\u001b[0m \u001b[0;34m=\u001b[0m \u001b[0mX\u001b[0m\u001b[0;34m,\u001b[0m \u001b[0my\u001b[0m\u001b[0;34m\u001b[0m\u001b[0;34m\u001b[0m\u001b[0m\n\u001b[1;32m    435\u001b[0m \u001b[0;34m\u001b[0m\u001b[0m\n",
            "\u001b[0;32m/shared-libs/python3.7/py/lib/python3.7/site-packages/sklearn/utils/validation.py\u001b[0m in \u001b[0;36minner_f\u001b[0;34m(*args, **kwargs)\u001b[0m\n\u001b[1;32m     61\u001b[0m             \u001b[0mextra_args\u001b[0m \u001b[0;34m=\u001b[0m \u001b[0mlen\u001b[0m\u001b[0;34m(\u001b[0m\u001b[0margs\u001b[0m\u001b[0;34m)\u001b[0m \u001b[0;34m-\u001b[0m \u001b[0mlen\u001b[0m\u001b[0;34m(\u001b[0m\u001b[0mall_args\u001b[0m\u001b[0;34m)\u001b[0m\u001b[0;34m\u001b[0m\u001b[0;34m\u001b[0m\u001b[0m\n\u001b[1;32m     62\u001b[0m             \u001b[0;32mif\u001b[0m \u001b[0mextra_args\u001b[0m \u001b[0;34m<=\u001b[0m \u001b[0;36m0\u001b[0m\u001b[0;34m:\u001b[0m\u001b[0;34m\u001b[0m\u001b[0;34m\u001b[0m\u001b[0m\n\u001b[0;32m---> 63\u001b[0;31m                 \u001b[0;32mreturn\u001b[0m \u001b[0mf\u001b[0m\u001b[0;34m(\u001b[0m\u001b[0;34m*\u001b[0m\u001b[0margs\u001b[0m\u001b[0;34m,\u001b[0m \u001b[0;34m**\u001b[0m\u001b[0mkwargs\u001b[0m\u001b[0;34m)\u001b[0m\u001b[0;34m\u001b[0m\u001b[0;34m\u001b[0m\u001b[0m\n\u001b[0m\u001b[1;32m     64\u001b[0m \u001b[0;34m\u001b[0m\u001b[0m\n\u001b[1;32m     65\u001b[0m             \u001b[0;31m# extra_args > 0\u001b[0m\u001b[0;34m\u001b[0m\u001b[0;34m\u001b[0m\u001b[0;34m\u001b[0m\u001b[0m\n",
            "\u001b[0;32m/shared-libs/python3.7/py/lib/python3.7/site-packages/sklearn/utils/validation.py\u001b[0m in \u001b[0;36mcheck_X_y\u001b[0;34m(X, y, accept_sparse, accept_large_sparse, dtype, order, copy, force_all_finite, ensure_2d, allow_nd, multi_output, ensure_min_samples, ensure_min_features, y_numeric, estimator)\u001b[0m\n\u001b[1;32m    819\u001b[0m                     \u001b[0mensure_min_samples\u001b[0m\u001b[0;34m=\u001b[0m\u001b[0mensure_min_samples\u001b[0m\u001b[0;34m,\u001b[0m\u001b[0;34m\u001b[0m\u001b[0;34m\u001b[0m\u001b[0m\n\u001b[1;32m    820\u001b[0m                     \u001b[0mensure_min_features\u001b[0m\u001b[0;34m=\u001b[0m\u001b[0mensure_min_features\u001b[0m\u001b[0;34m,\u001b[0m\u001b[0;34m\u001b[0m\u001b[0;34m\u001b[0m\u001b[0m\n\u001b[0;32m--> 821\u001b[0;31m                     estimator=estimator)\n\u001b[0m\u001b[1;32m    822\u001b[0m     \u001b[0;32mif\u001b[0m \u001b[0mmulti_output\u001b[0m\u001b[0;34m:\u001b[0m\u001b[0;34m\u001b[0m\u001b[0;34m\u001b[0m\u001b[0m\n\u001b[1;32m    823\u001b[0m         y = check_array(y, accept_sparse='csr', force_all_finite=True,\n",
            "\u001b[0;32m/shared-libs/python3.7/py/lib/python3.7/site-packages/sklearn/utils/validation.py\u001b[0m in \u001b[0;36minner_f\u001b[0;34m(*args, **kwargs)\u001b[0m\n\u001b[1;32m     61\u001b[0m             \u001b[0mextra_args\u001b[0m \u001b[0;34m=\u001b[0m \u001b[0mlen\u001b[0m\u001b[0;34m(\u001b[0m\u001b[0margs\u001b[0m\u001b[0;34m)\u001b[0m \u001b[0;34m-\u001b[0m \u001b[0mlen\u001b[0m\u001b[0;34m(\u001b[0m\u001b[0mall_args\u001b[0m\u001b[0;34m)\u001b[0m\u001b[0;34m\u001b[0m\u001b[0;34m\u001b[0m\u001b[0m\n\u001b[1;32m     62\u001b[0m             \u001b[0;32mif\u001b[0m \u001b[0mextra_args\u001b[0m \u001b[0;34m<=\u001b[0m \u001b[0;36m0\u001b[0m\u001b[0;34m:\u001b[0m\u001b[0;34m\u001b[0m\u001b[0;34m\u001b[0m\u001b[0m\n\u001b[0;32m---> 63\u001b[0;31m                 \u001b[0;32mreturn\u001b[0m \u001b[0mf\u001b[0m\u001b[0;34m(\u001b[0m\u001b[0;34m*\u001b[0m\u001b[0margs\u001b[0m\u001b[0;34m,\u001b[0m \u001b[0;34m**\u001b[0m\u001b[0mkwargs\u001b[0m\u001b[0;34m)\u001b[0m\u001b[0;34m\u001b[0m\u001b[0;34m\u001b[0m\u001b[0m\n\u001b[0m\u001b[1;32m     64\u001b[0m \u001b[0;34m\u001b[0m\u001b[0m\n\u001b[1;32m     65\u001b[0m             \u001b[0;31m# extra_args > 0\u001b[0m\u001b[0;34m\u001b[0m\u001b[0;34m\u001b[0m\u001b[0;34m\u001b[0m\u001b[0m\n",
            "\u001b[0;32m/shared-libs/python3.7/py/lib/python3.7/site-packages/sklearn/utils/validation.py\u001b[0m in \u001b[0;36mcheck_array\u001b[0;34m(array, accept_sparse, accept_large_sparse, dtype, order, copy, force_all_finite, ensure_2d, allow_nd, ensure_min_samples, ensure_min_features, estimator)\u001b[0m\n\u001b[1;32m    614\u001b[0m                     \u001b[0marray\u001b[0m \u001b[0;34m=\u001b[0m \u001b[0marray\u001b[0m\u001b[0;34m.\u001b[0m\u001b[0mastype\u001b[0m\u001b[0;34m(\u001b[0m\u001b[0mdtype\u001b[0m\u001b[0;34m,\u001b[0m \u001b[0mcasting\u001b[0m\u001b[0;34m=\u001b[0m\u001b[0;34m\"unsafe\"\u001b[0m\u001b[0;34m,\u001b[0m \u001b[0mcopy\u001b[0m\u001b[0;34m=\u001b[0m\u001b[0;32mFalse\u001b[0m\u001b[0;34m)\u001b[0m\u001b[0;34m\u001b[0m\u001b[0;34m\u001b[0m\u001b[0m\n\u001b[1;32m    615\u001b[0m                 \u001b[0;32melse\u001b[0m\u001b[0;34m:\u001b[0m\u001b[0;34m\u001b[0m\u001b[0;34m\u001b[0m\u001b[0m\n\u001b[0;32m--> 616\u001b[0;31m                     \u001b[0marray\u001b[0m \u001b[0;34m=\u001b[0m \u001b[0mnp\u001b[0m\u001b[0;34m.\u001b[0m\u001b[0masarray\u001b[0m\u001b[0;34m(\u001b[0m\u001b[0marray\u001b[0m\u001b[0;34m,\u001b[0m \u001b[0morder\u001b[0m\u001b[0;34m=\u001b[0m\u001b[0morder\u001b[0m\u001b[0;34m,\u001b[0m \u001b[0mdtype\u001b[0m\u001b[0;34m=\u001b[0m\u001b[0mdtype\u001b[0m\u001b[0;34m)\u001b[0m\u001b[0;34m\u001b[0m\u001b[0;34m\u001b[0m\u001b[0m\n\u001b[0m\u001b[1;32m    617\u001b[0m             \u001b[0;32mexcept\u001b[0m \u001b[0mComplexWarning\u001b[0m \u001b[0;32mas\u001b[0m \u001b[0mcomplex_warning\u001b[0m\u001b[0;34m:\u001b[0m\u001b[0;34m\u001b[0m\u001b[0;34m\u001b[0m\u001b[0m\n\u001b[1;32m    618\u001b[0m                 raise ValueError(\"Complex data not supported\\n\"\n",
            "\u001b[0;32m/shared-libs/python3.7/py/lib/python3.7/site-packages/numpy/core/_asarray.py\u001b[0m in \u001b[0;36masarray\u001b[0;34m(a, dtype, order)\u001b[0m\n\u001b[1;32m     81\u001b[0m \u001b[0;34m\u001b[0m\u001b[0m\n\u001b[1;32m     82\u001b[0m     \"\"\"\n\u001b[0;32m---> 83\u001b[0;31m     \u001b[0;32mreturn\u001b[0m \u001b[0marray\u001b[0m\u001b[0;34m(\u001b[0m\u001b[0ma\u001b[0m\u001b[0;34m,\u001b[0m \u001b[0mdtype\u001b[0m\u001b[0;34m,\u001b[0m \u001b[0mcopy\u001b[0m\u001b[0;34m=\u001b[0m\u001b[0;32mFalse\u001b[0m\u001b[0;34m,\u001b[0m \u001b[0morder\u001b[0m\u001b[0;34m=\u001b[0m\u001b[0morder\u001b[0m\u001b[0;34m)\u001b[0m\u001b[0;34m\u001b[0m\u001b[0;34m\u001b[0m\u001b[0m\n\u001b[0m\u001b[1;32m     84\u001b[0m \u001b[0;34m\u001b[0m\u001b[0m\n\u001b[1;32m     85\u001b[0m \u001b[0;34m\u001b[0m\u001b[0m\n",
            "\u001b[0;32m/shared-libs/python3.7/py/lib/python3.7/site-packages/pandas/core/generic.py\u001b[0m in \u001b[0;36m__array__\u001b[0;34m(self, dtype)\u001b[0m\n\u001b[1;32m   1896\u001b[0m \u001b[0;34m\u001b[0m\u001b[0m\n\u001b[1;32m   1897\u001b[0m     \u001b[0;32mdef\u001b[0m \u001b[0m__array__\u001b[0m\u001b[0;34m(\u001b[0m\u001b[0mself\u001b[0m\u001b[0;34m,\u001b[0m \u001b[0mdtype\u001b[0m\u001b[0;34m=\u001b[0m\u001b[0;32mNone\u001b[0m\u001b[0;34m)\u001b[0m \u001b[0;34m->\u001b[0m \u001b[0mnp\u001b[0m\u001b[0;34m.\u001b[0m\u001b[0mndarray\u001b[0m\u001b[0;34m:\u001b[0m\u001b[0;34m\u001b[0m\u001b[0;34m\u001b[0m\u001b[0m\n\u001b[0;32m-> 1898\u001b[0;31m         \u001b[0;32mreturn\u001b[0m \u001b[0mnp\u001b[0m\u001b[0;34m.\u001b[0m\u001b[0masarray\u001b[0m\u001b[0;34m(\u001b[0m\u001b[0mself\u001b[0m\u001b[0;34m.\u001b[0m\u001b[0m_values\u001b[0m\u001b[0;34m,\u001b[0m \u001b[0mdtype\u001b[0m\u001b[0;34m=\u001b[0m\u001b[0mdtype\u001b[0m\u001b[0;34m)\u001b[0m\u001b[0;34m\u001b[0m\u001b[0;34m\u001b[0m\u001b[0m\n\u001b[0m\u001b[1;32m   1899\u001b[0m \u001b[0;34m\u001b[0m\u001b[0m\n\u001b[1;32m   1900\u001b[0m     def __array_wrap__(\n",
            "\u001b[0;32m/shared-libs/python3.7/py/lib/python3.7/site-packages/numpy/core/_asarray.py\u001b[0m in \u001b[0;36masarray\u001b[0;34m(a, dtype, order)\u001b[0m\n\u001b[1;32m     81\u001b[0m \u001b[0;34m\u001b[0m\u001b[0m\n\u001b[1;32m     82\u001b[0m     \"\"\"\n\u001b[0;32m---> 83\u001b[0;31m     \u001b[0;32mreturn\u001b[0m \u001b[0marray\u001b[0m\u001b[0;34m(\u001b[0m\u001b[0ma\u001b[0m\u001b[0;34m,\u001b[0m \u001b[0mdtype\u001b[0m\u001b[0;34m,\u001b[0m \u001b[0mcopy\u001b[0m\u001b[0;34m=\u001b[0m\u001b[0;32mFalse\u001b[0m\u001b[0;34m,\u001b[0m \u001b[0morder\u001b[0m\u001b[0;34m=\u001b[0m\u001b[0morder\u001b[0m\u001b[0;34m)\u001b[0m\u001b[0;34m\u001b[0m\u001b[0;34m\u001b[0m\u001b[0m\n\u001b[0m\u001b[1;32m     84\u001b[0m \u001b[0;34m\u001b[0m\u001b[0m\n\u001b[1;32m     85\u001b[0m \u001b[0;34m\u001b[0m\u001b[0m\n",
            "\u001b[0;31mValueError\u001b[0m: could not convert string to float: '<p>You can use a list comprehension to rebuild the list:</p>\\n\\n<pre><code>indices = {3, 4}\\nnewlist = [v for i, v in enumerate(oldlist) if i not in indices]\\n</code></pre>\\n\\n<p>I used a set for the indices here, as set membership testing is faster than with a list.</p>\\n\\n<p>Note that a delete (best done with <code>del lst[index]</code>) partially rebuilds the list as well; doing so with one loop in a list comprehension can be more efficient.</p>\\n\\n<p>Demo:</p>\\n\\n<pre><code>&gt;&gt;&gt; oldlist = [2, 5, 7, 12, 13]\\n&gt;&gt;&gt; indices = {3, 4}\\n&gt;&gt;&gt; [v for i, v in enumerate(oldlist) if i not in indices]\\n[2, 5, 7]\\n</code></pre>\\n'"
          ]
        }
      ]
    },
    {
      "cell_type": "markdown",
      "source": "<a style='text-decoration:none;line-height:16px;display:flex;color:#5B5B62;padding:10px;justify-content:end;' href='https://deepnote.com?utm_source=created-in-deepnote-cell&projectId=e80043e2-6875-4b65-a196-a0ffb97a1282' target=\"_blank\">\n<img style='display:inline;max-height:16px;margin:0px;margin-right:7.5px;' src='data:image/svg+xml;base64,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' > </img>\nCreated in <span style='font-weight:600;margin-left:4px;'>Deepnote</span></a>",
      "metadata": {
        "tags": [],
        "created_in_deepnote_cell": true,
        "deepnote_cell_type": "markdown"
      }
    }
  ],
  "nbformat": 4,
  "nbformat_minor": 2,
  "metadata": {
    "orig_nbformat": 2,
    "deepnote_notebook_id": "a8ae3cee-4e70-46e4-8657-83f0da8c8844",
    "deepnote": {},
    "deepnote_execution_queue": []
  }
}