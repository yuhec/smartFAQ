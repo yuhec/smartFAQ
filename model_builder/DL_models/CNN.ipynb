{
 "cells": [
  {
   "cell_type": "code",
   "execution_count": 1,
   "metadata": {
    "cell_id": "00000-85f19fe7-3c67-4a7f-adb0-aefba0bfb102",
    "deepnote_cell_type": "code"
   },
   "outputs": [],
   "source": [
    "import pickle\n",
    "import tensorflow as tf\n",
    "from keras.preprocessing.text import Tokenizer\n",
    "from keras.preprocessing.sequence import pad_sequences\n",
    "from keras.layers import Input, Embedding, LSTM, Dense, Activation, Conv1D, Flatten, Dropout, MaxPooling1D\n",
    "\n",
    "from tensorflow.keras.callbacks import TensorBoard\n",
    "from tensorflow.keras.callbacks import EarlyStopping\n",
    "import pandas as pd\n",
    "import os\n",
    "\n",
    "import sys\n",
    "sys.path.append('../../..')\n",
    "from smartFAQ.src.tokenPad import tokenization_padding"
   ]
  },
  {
   "cell_type": "markdown",
   "metadata": {
    "cell_id": "00001-19f79011-c3dc-48c5-b5f4-95208f3a8d42",
    "deepnote_cell_type": "markdown"
   },
   "source": [
    "## Load w2v model & Data"
   ]
  },
  {
   "cell_type": "code",
   "execution_count": 2,
   "metadata": {
    "cell_id": "00002-0c1d4b99-c4cd-4a38-8c08-67c5c206fb61",
    "deepnote_cell_type": "code"
   },
   "outputs": [],
   "source": [
    "# with open('../../data/w2v_pretrained_weights.pickle', 'rb') as handle:\n",
    "#     w2v_model = pickle.load(handle)\n",
    "with open('../../data/x_train.pickle', 'rb') as handle:\n",
    "    X_train = pickle.load(handle)\n",
    "with open('../../data/y_train.pickle', 'rb') as handle:\n",
    "    y_train = pickle.load(handle)\n",
    "with open('../../data/x_val.pickle', 'rb') as handle:\n",
    "    X_val = pickle.load(handle)\n",
    "with open('../../data/y_val.pickle', 'rb') as handle:\n",
    "    y_val = pickle.load(handle)"
   ]
  },
  {
   "cell_type": "code",
   "execution_count": 4,
   "metadata": {
    "cell_id": "00003-774ef9ae-d265-44ba-89a6-9183c94d3201",
    "deepnote_cell_type": "code"
   },
   "outputs": [],
   "source": [
    "# pretrained_weights = w2v_model.wv.syn0\n",
    "# vocab_size, embedding_size = pretrained_weights.shape"
   ]
  },
  {
   "cell_type": "code",
   "execution_count": 5,
   "metadata": {},
   "outputs": [],
   "source": [
    "def normalize(arr, t_min, t_max): \n",
    "    norm_arr = [] \n",
    "    diff = t_max - t_min \n",
    "    diff_arr = max(arr) - min(arr) \n",
    "    for i in arr: \n",
    "        temp = (((i - min(arr))*diff)/diff_arr) + t_min \n",
    "        norm_arr.append(temp) \n",
    "    \n",
    "    res = arr.to_frame()\n",
    "    res['norm'] = norm_arr\n",
    "    return res['norm'] "
   ]
  },
  {
   "cell_type": "code",
   "execution_count": 6,
   "metadata": {},
   "outputs": [],
   "source": [
    "y_train = normalize(y_train, 0, 1)\n",
    "y_val = normalize(y_val, 0, 1)"
   ]
  },
  {
   "cell_type": "markdown",
   "metadata": {
    "cell_id": "00004-bc46d2ac-d6aa-46a3-b64a-30c8c82cf215",
    "deepnote_cell_type": "markdown"
   },
   "source": [
    "## Tokenization & Padding"
   ]
  },
  {
   "cell_type": "code",
   "execution_count": 7,
   "metadata": {
    "cell_id": "00005-60838086-5f2d-4f25-8301-86440eacd0dc",
    "deepnote_cell_type": "code"
   },
   "outputs": [],
   "source": [
    "MAX_NUM_WORDS = 20000\n",
    "MAX_LEN = 3000"
   ]
  },
  {
   "cell_type": "code",
   "execution_count": 8,
   "metadata": {},
   "outputs": [],
   "source": [
    "# x_train_pad = tokenization_padding(X_train, 'answer', ['question'], MAX_NUM_WORDS, MAX_LEN)\n",
    "x_train_pad = tokenization_padding(X_train, 'answer', [], MAX_NUM_WORDS, MAX_LEN)"
   ]
  },
  {
   "cell_type": "code",
   "execution_count": 9,
   "metadata": {},
   "outputs": [],
   "source": [
    "# x_val_pad = tokenization_padding(X_val, 'answer', ['question'], MAX_NUM_WORDS, MAX_LEN)\n",
    "x_val_pad = tokenization_padding(X_val, 'answer', [], MAX_NUM_WORDS, MAX_LEN)"
   ]
  },
  {
   "cell_type": "markdown",
   "metadata": {
    "cell_id": "00009-33501c64-a236-423c-a6bd-cdc3b3ff399d",
    "deepnote_cell_type": "markdown"
   },
   "source": [
    "## Keras Model"
   ]
  },
  {
   "cell_type": "code",
   "execution_count": 15,
   "metadata": {
    "cell_id": "00010-458ba6bc-007a-4c3d-ac09-7ecc26c1076d",
    "deepnote_cell_type": "code"
   },
   "outputs": [],
   "source": [
    "# from gensim.models import Word2Vec\n",
    "# from gensim.models.phrases import Phrases, Phraser"
   ]
  },
  {
   "cell_type": "code",
   "execution_count": 16,
   "metadata": {
    "cell_id": "00011-46e6bb7d-208a-4ac3-bdee-4e056c4e375f",
    "deepnote_cell_type": "code"
   },
   "outputs": [],
   "source": [
    "# sent = []\n",
    "# for col in ['question', 'answer']:\n",
    "#     words = [row.split() for row in X_train[col]]\n",
    "#     sent = sent + words\n",
    "# sentences = [[word for word in document.lower().split()] for document in X_train['answer']]"
   ]
  },
  {
   "cell_type": "code",
   "execution_count": 17,
   "metadata": {
    "cell_id": "00013-d89f4618-272f-4a50-81c3-69e2c794ccbb",
    "deepnote_cell_type": "code"
   },
   "outputs": [],
   "source": [
    "# phrases = Phrases(sent)\n",
    "# bigram = Phraser(phrases)\n",
    "# sentences = bigram[sentences]"
   ]
  },
  {
   "cell_type": "code",
   "execution_count": 18,
   "metadata": {
    "cell_id": "00014-dcb2c719-655c-4e21-a990-4f54a5b23763",
    "deepnote_cell_type": "code"
   },
   "outputs": [],
   "source": [
    "# word_model = Word2Vec(sentences, size=200, min_count = 1, window = 5)"
   ]
  },
  {
   "cell_type": "code",
   "execution_count": 19,
   "metadata": {
    "cell_id": "00015-31b16ca3-3113-4a26-b487-b9ae333ac3c9",
    "deepnote_cell_type": "code"
   },
   "outputs": [],
   "source": [
    "# with open('../../data/w2v.pickle', 'wb') as handle:\n",
    "#     pickle.dump(word_model, handle, protocol=pickle.HIGHEST_PROTOCOL)\n",
    "    \n",
    "with open('../../data/w2v.pickle', 'rb') as handle:\n",
    "    word_model = pickle.load(handle)"
   ]
  },
  {
   "cell_type": "code",
   "execution_count": 20,
   "metadata": {},
   "outputs": [],
   "source": [
    "# TOO BIG, KERNEL STOPPED\n",
    "# from gensim.models import KeyedVectors\n",
    "# filename = '../../data/GoogleNews-vectors-negative300.bin'\n",
    "# word_model = KeyedVectors.load_word2vec_format(filename, binary=True)"
   ]
  },
  {
   "cell_type": "code",
   "execution_count": 21,
   "metadata": {
    "cell_id": "00016-e4dad336-6753-4d52-b0da-d97cfa389b6d",
    "deepnote_cell_type": "code"
   },
   "outputs": [
    {
     "name": "stderr",
     "output_type": "stream",
     "text": [
      "/usr/local/lib/python3.6/dist-packages/ipykernel_launcher.py:1: DeprecationWarning: Call to deprecated `syn0` (Attribute will be removed in 4.0.0, use self.vectors instead).\n",
      "  \"\"\"Entry point for launching an IPython kernel.\n"
     ]
    }
   ],
   "source": [
    "pretrained_weights = word_model.wv.syn0\n",
    "vocab_size, embedding_size = pretrained_weights.shape"
   ]
  },
  {
   "cell_type": "code",
   "execution_count": 22,
   "metadata": {},
   "outputs": [
    {
     "name": "stderr",
     "output_type": "stream",
     "text": [
      "/usr/local/lib/python3.6/dist-packages/ipykernel_launcher.py:1: DeprecationWarning: Call to deprecated `most_similar` (Method will be removed in 4.0.0, use self.wv.most_similar() instead).\n",
      "  \"\"\"Entry point for launching an IPython kernel.\n"
     ]
    },
    {
     "data": {
      "text/plain": [
       "[('perl', 0.8226622343063354),\n",
       " ('compiled', 0.8225566744804382),\n",
       " ('vim', 0.7626760601997375),\n",
       " ('versions', 0.7565158605575562),\n",
       " ('compiler', 0.7547906637191772),\n",
       " ('swig', 0.7527791857719421),\n",
       " ('cliche', 0.7517421245574951),\n",
       " ('standard', 0.7496249675750732),\n",
       " ('native', 0.7473969459533691),\n",
       " ('python_interpreter', 0.7460223436355591)]"
      ]
     },
     "execution_count": 22,
     "metadata": {},
     "output_type": "execute_result"
    }
   ],
   "source": [
    "word_model.most_similar(positive=[\"python\"])"
   ]
  },
  {
   "cell_type": "code",
   "execution_count": 23,
   "metadata": {
    "cell_id": "00017-800e1d13-4c58-4825-9d56-29483846c058",
    "deepnote_cell_type": "code"
   },
   "outputs": [],
   "source": [
    "def build_model(vocab_size,embedding_size,pretrained_weights):\n",
    "    \n",
    "           \n",
    "    model = tf.keras.Sequential()\n",
    "    \n",
    "    model.add(Embedding(input_dim=vocab_size, \n",
    "                        output_dim=embedding_size, \n",
    "                        weights=[pretrained_weights],\n",
    "                        input_length=MAX_LEN\n",
    "#                         input_length=max_input_len\n",
    "                       ))\n",
    "\n",
    "    model.add(Conv1D(128,5, activation='relu'))\n",
    "#     model.add(Conv1D(128,5, activation='relu'))\n",
    "    # Flatten layer to reduce the three-dimensional output to two dimensional for concatenation\n",
    "#     model.add(Flatten())\n",
    "#     model.add(Dropout(.2, input_shape=(2,)))\n",
    "    model.add(MaxPooling1D(pool_size=2))\n",
    "    \n",
    "#     model.add(Dense(10, activation='tanh'))\n",
    "#     model.add(Activation('relu'))\n",
    "    model.add(Flatten())\n",
    "    model.add(Dense(1, activation='sigmoid'))\n",
    "\n",
    "    return model"
   ]
  },
  {
   "cell_type": "code",
   "execution_count": 24,
   "metadata": {
    "cell_id": "00018-175b5080-0fac-4127-babd-17cb36e2defd",
    "deepnote_cell_type": "code"
   },
   "outputs": [],
   "source": [
    "# MAE : the average absolute distance between the predicted and target values\n",
    "def compile_model(model):\n",
    "    mse = tf.keras.losses.MeanSquaredError()\n",
    "    model.compile(loss=mse,\n",
    "                  optimizer='adam',\n",
    "                  metrics=['mean_squared_error', 'mean_absolute_error']\n",
    "                  )\n",
    "    return  model"
   ]
  },
  {
   "cell_type": "code",
   "execution_count": 25,
   "metadata": {
    "cell_id": "00019-268a1ff0-29ba-49d1-9404-8c75bb114130",
    "deepnote_cell_type": "code"
   },
   "outputs": [],
   "source": [
    "def fit_model( x_train, y_train, x_val, y_val, model, batch_size,  epochs = 5):\n",
    "    \n",
    "    print('Train...')\n",
    "    os.makedirs(\"./logs/CNN_logs_6\",exist_ok=True)\n",
    "    tensorboard = TensorBoard(log_dir=os.path.join('./logs/CNN_logs_6'), histogram_freq=0,\n",
    "                                  write_graph=True, write_images=False,profile_batch = 100000000)\n",
    "\n",
    "    # This callback will stop the training when there is no improvement in\n",
    "    # the validation loss for 2 consecutive epochs.\n",
    "    Es= EarlyStopping(monitor='loss', patience=2)\n",
    "    \n",
    "    callbacks = [Es, tensorboard]\n",
    "\n",
    "    model.fit(x_train, y_train,\n",
    "              batch_size=batch_size,\n",
    "              epochs=epochs,\n",
    "              verbose=1,\n",
    "              validation_data=(x_val, y_val),\n",
    "              callbacks= callbacks)\n",
    "    return model"
   ]
  },
  {
   "cell_type": "code",
   "execution_count": 26,
   "metadata": {
    "cell_id": "00020-a19ca4da-0270-4223-9581-e66aac8e6fc3",
    "deepnote_cell_type": "code"
   },
   "outputs": [
    {
     "name": "stdout",
     "output_type": "stream",
     "text": [
      "Model: \"sequential\"\n",
      "_________________________________________________________________\n",
      "Layer (type)                 Output Shape              Param #   \n",
      "=================================================================\n",
      "embedding (Embedding)        (None, 3000, 200)         12093600  \n",
      "_________________________________________________________________\n",
      "conv1d (Conv1D)              (None, 2996, 128)         128128    \n",
      "_________________________________________________________________\n",
      "max_pooling1d (MaxPooling1D) (None, 1498, 128)         0         \n",
      "_________________________________________________________________\n",
      "flatten (Flatten)            (None, 191744)            0         \n",
      "_________________________________________________________________\n",
      "dense (Dense)                (None, 1)                 191745    \n",
      "=================================================================\n",
      "Total params: 12,413,473\n",
      "Trainable params: 12,413,473\n",
      "Non-trainable params: 0\n",
      "_________________________________________________________________\n",
      "Train...\n",
      "Epoch 1/3\n",
      "300/300 [==============================] - 423s 1s/step - loss: 0.0202 - mean_squared_error: 0.0202 - mean_absolute_error: 0.0240 - val_loss: 5.3662e-04 - val_mean_squared_error: 5.3662e-04 - val_mean_absolute_error: 0.0104\n",
      "Epoch 2/3\n",
      "300/300 [==============================] - 440s 1s/step - loss: 8.0538e-05 - mean_squared_error: 8.0538e-05 - mean_absolute_error: 0.0035 - val_loss: 5.3662e-04 - val_mean_squared_error: 5.3662e-04 - val_mean_absolute_error: 0.0104\n",
      "Epoch 3/3\n",
      "300/300 [==============================] - 434s 1s/step - loss: 1.8744e-04 - mean_squared_error: 1.8744e-04 - mean_absolute_error: 0.0036 - val_loss: 5.3662e-04 - val_mean_squared_error: 5.3662e-04 - val_mean_absolute_error: 0.0104\n"
     ]
    }
   ],
   "source": [
    "with tf.device(\"/CPU:0\"):\n",
    "    model = build_model(vocab_size, embedding_size, pretrained_weights)\n",
    "    model.summary()\n",
    "    model = compile_model(model)\n",
    "    model = fit_model(\n",
    "        x_train_pad,\n",
    "        y_train, \n",
    "        x_val_pad,\n",
    "        y_val, model, \n",
    "        batch_size=100, \n",
    "        epochs=3)"
   ]
  },
  {
   "cell_type": "code",
   "execution_count": 27,
   "metadata": {
    "cell_id": "00021-9992fc16-a622-4e6a-a988-2ab041be9192",
    "deepnote_cell_type": "code"
   },
   "outputs": [
    {
     "name": "stdout",
     "output_type": "stream",
     "text": [
      "INFO:tensorflow:Assets written to: ./saved_model/CNN_model_6/assets\n"
     ]
    }
   ],
   "source": [
    "# Save the entire model as a SavedModel.\n",
    "!mkdir -p saved_model\n",
    "model.save('./saved_model/CNN_model_6')"
   ]
  },
  {
   "cell_type": "code",
   "execution_count": 28,
   "metadata": {
    "cell_id": "00022-0d8461dc-98b6-4d32-8be0-874feec75f21",
    "deepnote_cell_type": "code"
   },
   "outputs": [
    {
     "name": "stdout",
     "output_type": "stream",
     "text": [
      "438/438 [==============================] - 43s 98ms/step - loss: 5.3662e-04 - mean_squared_error: 5.3662e-04 - mean_absolute_error: 0.0104\n"
     ]
    }
   ],
   "source": [
    "loss, mean_squared_error, mean_ab = model.evaluate(x_val_pad, y_val)"
   ]
  },
  {
   "cell_type": "code",
   "execution_count": 30,
   "metadata": {
    "cell_id": "00025-03872566-fecd-40a7-92ad-be4fd1aedb01",
    "deepnote_cell_type": "code"
   },
   "outputs": [],
   "source": [
    "# © Laëtitia CONSTANTIN 2021"
   ]
  },
  {
   "cell_type": "markdown",
   "metadata": {
    "created_in_deepnote_cell": true,
    "deepnote_cell_type": "markdown",
    "tags": []
   },
   "source": [
    "<a style='text-decoration:none;line-height:16px;display:flex;color:#5B5B62;padding:10px;justify-content:end;' href='https://deepnote.com?utm_source=created-in-deepnote-cell&projectId=e80043e2-6875-4b65-a196-a0ffb97a1282' target=\"_blank\">\n",
    "<img style='display:inline;max-height:16px;margin:0px;margin-right:7.5px;' src='data:image/svg+xml;base64,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' > </img>\n",
    "Created in <span style='font-weight:600;margin-left:4px;'>Deepnote</span></a>"
   ]
  }
 ],
 "metadata": {
  "deepnote": {},
  "deepnote_execution_queue": [],
  "deepnote_notebook_id": "c5fe40e6-aa03-4d3b-a5e7-56b796539873",
  "kernelspec": {
   "display_name": "Python 3",
   "language": "python",
   "name": "python3"
  },
  "language_info": {
   "codemirror_mode": {
    "name": "ipython",
    "version": 3
   },
   "file_extension": ".py",
   "mimetype": "text/x-python",
   "name": "python",
   "nbconvert_exporter": "python",
   "pygments_lexer": "ipython3",
   "version": "3.6.9"
  }
 },
 "nbformat": 4,
 "nbformat_minor": 4
}
