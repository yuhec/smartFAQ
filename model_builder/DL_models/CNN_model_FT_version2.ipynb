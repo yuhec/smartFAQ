{
 "cells": [
  {
   "cell_type": "code",
   "execution_count": 1,
   "metadata": {
    "cell_id": "00000-8c3af8c4-7321-4758-a1ad-b9fdb3bf9871",
    "deepnote_cell_type": "code",
    "deepnote_to_be_reexecuted": false,
    "execution_millis": 2024,
    "execution_start": 1616401943359,
    "source_hash": "6f75b1de"
   },
   "outputs": [
    {
     "name": "stdout",
     "output_type": "stream",
     "text": [
      "Setup is ready\n"
     ]
    },
    {
     "name": "stderr",
     "output_type": "stream",
     "text": [
      "Using TensorFlow backend.\n"
     ]
    }
   ],
   "source": [
    "import numpy as np\n",
    "import pandas as pd\n",
    "import seaborn as sns\n",
    "import matplotlib.pyplot as plt\n",
    "%matplotlib inline\n",
    "\n",
    "import pickle\n",
    "import tensorflow as tf\n",
    "\n",
    "from tensorflow.keras.callbacks import TensorBoard\n",
    "from tensorflow.keras.callbacks import EarlyStopping\n",
    "\n",
    "from keras.preprocessing.text import Tokenizer\n",
    "from keras.preprocessing.sequence import pad_sequences\n",
    "from keras.layers import Input, Embedding, LSTM, Dense, Activation, Conv1D, Flatten, Dropout, MaxPooling1D\n",
    "\n",
    "import sys\n",
    "sys.path.append('../../..')\n",
    "from smartFAQ.src.tokenPad import tokenization_padding\n",
    "\n",
    "import os\n",
    "\n",
    "print('Setup is ready')"
   ]
  },
  {
   "cell_type": "markdown",
   "metadata": {
    "cell_id": "00001-c3b69c3c-e158-432e-a7d5-400f328d1012",
    "deepnote_cell_type": "markdown"
   },
   "source": [
    "# Load Data\n",
    "---\n",
    "## Fast Text model"
   ]
  },
  {
   "cell_type": "code",
   "execution_count": 2,
   "metadata": {
    "cell_id": "00002-4da7fa50-f142-4879-bbe7-423dbde519f9",
    "deepnote_cell_type": "code",
    "deepnote_to_be_reexecuted": false,
    "execution_millis": 885,
    "execution_start": 1616401983118,
    "source_hash": "8313c350"
   },
   "outputs": [],
   "source": [
    "#with open('../../data/fast_text_model_pretrained_weights.pickle', 'rb') as handle:\n",
    "#    fast_text_model = pickle.load(handle)\n",
    "with open('../../data/x_train.pickle', 'rb') as handle:\n",
    "    X_train = pickle.load(handle)\n",
    "with open('../../data/y_train.pickle', 'rb') as handle:\n",
    "    y_train = pickle.load(handle)\n",
    "with open('../../data/x_val.pickle', 'rb') as handle:\n",
    "    X_val = pickle.load(handle)\n",
    "with open('../../data/y_val.pickle', 'rb') as handle:\n",
    "    y_val = pickle.load(handle)"
   ]
  },
  {
   "cell_type": "code",
   "execution_count": 3,
   "metadata": {
    "cell_id": "00003-09c5333f-2db5-4d3d-aeaf-71038ae0b4f9",
    "deepnote_cell_type": "code",
    "deepnote_to_be_reexecuted": false,
    "execution_millis": 4,
    "execution_start": 1616402059294,
    "source_hash": "37986229"
   },
   "outputs": [],
   "source": [
    "#pretrained_weights = fast_text_model.wv.syn0\n",
    "#vocab_size, embedding_size = pretrained_weights.shape"
   ]
  },
  {
   "cell_type": "markdown",
   "metadata": {
    "cell_id": "00004-ea0a31c7-011e-43f9-96d3-5797abf8fcb3",
    "deepnote_cell_type": "markdown"
   },
   "source": [
    "## Tokenization & Padding"
   ]
  },
  {
   "cell_type": "code",
   "execution_count": 4,
   "metadata": {
    "cell_id": "00005-2f8b1be9-fc34-4999-8e2b-a2c05411877e",
    "deepnote_cell_type": "code",
    "deepnote_to_be_reexecuted": false,
    "execution_millis": 0,
    "execution_start": 1616402062323,
    "source_hash": "fdfbf7c5"
   },
   "outputs": [],
   "source": [
    "MAX_NUM_WORDS = 20000\n"
   ]
  },
  {
   "cell_type": "code",
   "execution_count": 5,
   "metadata": {
    "cell_id": "00006-64fe1fa2-8428-4d9d-ace2-e8b571390f3f",
    "deepnote_cell_type": "code",
    "deepnote_to_be_reexecuted": false,
    "execution_millis": 1033,
    "execution_start": 1616402063581,
    "source_hash": "6f98d9c7"
   },
   "outputs": [
    {
     "name": "stdout",
     "output_type": "stream",
     "text": [
      "Total unique words in the input: 30369\n",
      "Length of longest sentence in input: 1688\n"
     ]
    }
   ],
   "source": [
    "input_tokenizer = Tokenizer(num_words=MAX_NUM_WORDS)\n",
    "input_tokenizer.fit_on_texts(X_train['answer'])\n",
    "input_integer_seq = input_tokenizer.texts_to_sequences(X_train['answer'])\n",
    "\n",
    "fast_text_idx_inputs = input_tokenizer.word_index\n",
    "print('Total unique words in the input: %s' % len(fast_text_idx_inputs))\n",
    "\n",
    "max_input_len = max(len(sen) for sen in input_integer_seq)\n",
    "print(\"Length of longest sentence in input: %g\" % max_input_len)"
   ]
  },
  {
   "cell_type": "code",
   "execution_count": 6,
   "metadata": {
    "cell_id": "00007-dab3e261-5200-48fd-9247-bf22b721001d",
    "deepnote_cell_type": "code",
    "deepnote_to_be_reexecuted": false,
    "execution_millis": 121,
    "execution_start": 1616402067114,
    "source_hash": "b8f8b788"
   },
   "outputs": [
    {
     "name": "stdout",
     "output_type": "stream",
     "text": [
      "encoder_input_sequences.shape: (10000, 1688)\n",
      "encoder_input_sequences[172]: [  0   0   0 ... 135 183  86]\n"
     ]
    }
   ],
   "source": [
    "x_train_pad = pad_sequences(input_integer_seq, maxlen=max_input_len)\n",
    "\n",
    "print(\"encoder_input_sequences.shape:\", x_train_pad.shape)\n",
    "print(\"encoder_input_sequences[172]:\", x_train_pad[72])"
   ]
  },
  {
   "cell_type": "code",
   "execution_count": 7,
   "metadata": {
    "cell_id": "00008-c8825e16-060b-4563-8b26-1de8bf471dc7",
    "deepnote_cell_type": "code",
    "deepnote_to_be_reexecuted": false,
    "execution_millis": 1180,
    "execution_start": 1616402068638,
    "source_hash": "32005835"
   },
   "outputs": [
    {
     "name": "stdout",
     "output_type": "stream",
     "text": [
      "encoder_input_sequences.shape: (10000, 1688)\n",
      "encoder_input_sequences[172]: [   0    0    0 ... 5837 5419 5838]\n"
     ]
    }
   ],
   "source": [
    "input_tokenizer = Tokenizer(num_words=MAX_NUM_WORDS)\n",
    "input_tokenizer.fit_on_texts(X_val['answer'])\n",
    "input_integer_seq = input_tokenizer.texts_to_sequences(X_val['answer'])\n",
    "x_val_pad = pad_sequences(input_integer_seq, maxlen=max_input_len)\n",
    "print(\"encoder_input_sequences.shape:\", x_val_pad.shape)\n",
    "print(\"encoder_input_sequences[172]:\", x_val_pad[72])"
   ]
  },
  {
   "cell_type": "markdown",
   "metadata": {
    "cell_id": "00009-3343a70a-fa8e-4153-b31e-e6d954423618",
    "deepnote_cell_type": "markdown"
   },
   "source": [
    "## Keras Model"
   ]
  },
  {
   "cell_type": "code",
   "execution_count": 8,
   "metadata": {
    "cell_id": "00010-81f827bc-b097-49a4-a42b-b60e23f8269c",
    "deepnote_cell_type": "code"
   },
   "outputs": [],
   "source": [
    "import gensim\n",
    "from gensim.models import FastText\n",
    "from gensim.models.phrases import Phrases, Phraser"
   ]
  },
  {
   "cell_type": "code",
   "execution_count": 9,
   "metadata": {
    "cell_id": "00011-a4f98279-5ed1-4aa4-a4b6-33fbe1f9c5fd",
    "deepnote_cell_type": "code"
   },
   "outputs": [],
   "source": [
    "# sent = []\n",
    "# for col in ['question', 'answer']:\n",
    "#     words = [row.split() for row in X_train[col]]\n",
    "#     sent = sent + words\n",
    "# sentences = [[word for word in document.lower().split()] for document in X_train['answer']]"
   ]
  },
  {
   "cell_type": "code",
   "execution_count": 10,
   "metadata": {
    "cell_id": "00012-fa9b619c-62b9-4d75-b21b-97b23c7c3eec",
    "deepnote_cell_type": "code"
   },
   "outputs": [],
   "source": [
    "#sentences = [[word for word in document.lower().split()] for document in X_train['answer']]"
   ]
  },
  {
   "cell_type": "code",
   "execution_count": 11,
   "metadata": {
    "cell_id": "00013-d220115d-ebb8-4899-acb5-c7bd7727a56d",
    "deepnote_cell_type": "code"
   },
   "outputs": [],
   "source": [
    "#phrases = Phrases(sentences)\n",
    "#bigram = Phraser(phrases)\n",
    "#sentences = bigram[sentences]"
   ]
  },
  {
   "cell_type": "code",
   "execution_count": 12,
   "metadata": {
    "cell_id": "00014-2cbd29db-beb8-4a29-8539-505a148215a9",
    "deepnote_cell_type": "code"
   },
   "outputs": [],
   "source": [
    "# fast_text_model = FastText(min_count=50, window=10, size=300, sample=6e-5, alpha=0.03, min_alpha=0.0007, negative=50, workers=cores-1)"
   ]
  },
  {
   "cell_type": "code",
   "execution_count": 13,
   "metadata": {
    "cell_id": "00015-a1fad71a-7117-456b-add8-048e915b9142",
    "deepnote_cell_type": "code"
   },
   "outputs": [],
   "source": [
    "# sentences"
   ]
  },
  {
   "cell_type": "code",
   "execution_count": 14,
   "metadata": {
    "cell_id": "00016-8fde7829-0def-4fc2-8568-7ceaf8fdd0c6",
    "deepnote_cell_type": "code"
   },
   "outputs": [],
   "source": [
    "with open('../../data/fast_text_model_pretrained_weights.pickle', 'rb') as handle:\n",
    "    fast_text_model = pickle.load(handle)"
   ]
  },
  {
   "cell_type": "code",
   "execution_count": 15,
   "metadata": {
    "cell_id": "00017-1e2ee602-527e-4af2-ab46-fb6be86eb287",
    "deepnote_cell_type": "code"
   },
   "outputs": [
    {
     "name": "stderr",
     "output_type": "stream",
     "text": [
      "/Users/axelchenu/Work_directory/DATA_SCIENCE_YNOV/SMART_FAQ/smartFAQ/envs/lib/python3.7/site-packages/ipykernel_launcher.py:1: DeprecationWarning: Call to deprecated `syn0` (Attribute will be removed in 4.0.0, use self.vectors instead).\n",
      "  \"\"\"Entry point for launching an IPython kernel.\n"
     ]
    }
   ],
   "source": [
    "pretrained_weights = fast_text_model.wv.syn0\n",
    "vocab_size, embedding_size = pretrained_weights.shape"
   ]
  },
  {
   "cell_type": "code",
   "execution_count": 16,
   "metadata": {
    "cell_id": "00018-b9810e77-3d47-4a87-85df-b3a8042e0002",
    "deepnote_cell_type": "code"
   },
   "outputs": [],
   "source": [
    "#fast_text_model.most_similar(['import'])"
   ]
  },
  {
   "cell_type": "code",
   "execution_count": 17,
   "metadata": {},
   "outputs": [
    {
     "data": {
      "text/plain": [
       "(10000, 1688)"
      ]
     },
     "execution_count": 17,
     "metadata": {},
     "output_type": "execute_result"
    }
   ],
   "source": [
    "x_train_pad.shape"
   ]
  },
  {
   "cell_type": "code",
   "execution_count": 18,
   "metadata": {},
   "outputs": [
    {
     "data": {
      "text/plain": [
       "'You use list comprehension rebuild list indices newlist v v enumerate oldlist indices I used set indices set membership testing faster list Note delete best done del lst index partially rebuilds list well one loop list comprehension efficient Demo gt gt gt oldlist gt gt gt indices gt gt gt v v enumerate oldlist indices'"
      ]
     },
     "execution_count": 18,
     "metadata": {},
     "output_type": "execute_result"
    }
   ],
   "source": [
    "X_train['answer'].iloc[0]"
   ]
  },
  {
   "cell_type": "code",
   "execution_count": 19,
   "metadata": {
    "scrolled": true
   },
   "outputs": [
    {
     "data": {
      "text/plain": [
       "array([ 0.5499138 ,  0.14493077,  0.06994156,  0.34921375, -0.02642111,\n",
       "       -0.0097463 ,  0.45093492, -0.20186432, -0.30533472, -0.21423948,\n",
       "        0.13659018,  0.20149484,  0.09093372, -0.0784286 , -0.45261833,\n",
       "        0.17564005,  0.11498763,  0.10608989,  0.22079894, -0.02017957,\n",
       "        0.3850254 ,  0.03616932, -0.3220436 , -0.28442326,  0.3687296 ,\n",
       "       -0.04920127,  0.14371724, -0.0987426 ,  0.08710776,  0.04617305,\n",
       "       -0.16039702,  0.21675728, -0.29762214,  0.17865299,  0.15160161,\n",
       "       -0.1965639 ,  0.06691138,  0.08384872, -0.05414282,  0.03437477,\n",
       "        0.12081204, -0.10925934, -0.16254102,  0.24165435,  0.1095176 ,\n",
       "        0.12773256,  0.01760187,  0.20758538, -0.00531439, -0.34692603,\n",
       "        0.25210643,  0.14800027,  0.17874879,  0.00872796, -0.16992536,\n",
       "        0.06981291, -0.15173166,  0.05147651, -0.20842004,  0.1095694 ,\n",
       "        0.10821486, -0.11381464, -0.01745203,  0.06112472, -0.3329582 ,\n",
       "        0.12596047, -0.00137429, -0.07155851, -0.29180777,  0.13818973,\n",
       "        0.09453419, -0.12664951,  0.11294124,  0.42688358, -0.24358748,\n",
       "        0.06409754, -0.04200977,  0.12313928,  0.31352887, -0.42482054,\n",
       "        0.1791443 , -0.0867289 , -0.11499923,  0.20050146, -0.25612172,\n",
       "        0.00553662, -0.02767535, -0.10659224,  0.10691682,  0.00780766,\n",
       "       -0.1448447 , -0.13616128,  0.06629693,  0.22185487, -0.13436896,\n",
       "       -0.05963901,  0.30172357,  0.00433094,  0.02663889, -0.03462036,\n",
       "       -0.0962612 , -0.3356719 , -0.26461735, -0.07344243, -0.01450052,\n",
       "       -0.09201649,  0.1789167 , -0.10839901, -0.02786492, -0.25763288,\n",
       "       -0.03701404, -0.2779023 , -0.522606  , -0.04572025, -0.27690393,\n",
       "       -0.18007118,  0.07178264, -0.10549267, -0.2171547 ,  0.05741334,\n",
       "       -0.3548935 ,  0.10775753,  0.12070031, -0.22133592, -0.36414886,\n",
       "       -0.15552598, -0.16697028,  0.14803988, -0.18826671,  0.3139703 ,\n",
       "       -0.19239832,  0.14846887, -0.07578724,  0.18236047, -0.2622956 ,\n",
       "       -0.12281072, -0.10858517, -0.0141331 ,  0.16372108, -0.2264038 ,\n",
       "        0.497184  ,  0.39424664, -0.03052644, -0.09461828,  0.2946852 ,\n",
       "       -0.01863513,  0.01305838,  0.10304329,  0.26143658, -0.09075206,\n",
       "        0.14986056,  0.04449061, -0.16399986, -0.03441074, -0.0442996 ,\n",
       "        0.15594108,  0.20503573, -0.16117871,  0.14290723,  0.10463953,\n",
       "       -0.10544588, -0.12985623,  0.21485476, -0.0831782 , -0.18993036,\n",
       "       -0.28323284,  0.08781614, -0.12255469,  0.04863918, -0.03385479,\n",
       "       -0.18475032,  0.47119078, -0.2289368 , -0.01036449, -0.07327325,\n",
       "       -0.08256839,  0.11935786, -0.12562563, -0.22508499, -0.1509269 ,\n",
       "       -0.08680928,  0.20242397, -0.07166936,  0.06449103, -0.2714691 ,\n",
       "       -0.07509845,  0.26519358, -0.15636533, -0.09084082, -0.15125634,\n",
       "       -0.1498773 , -0.03326383,  0.1194872 ,  0.18545952, -0.02005625,\n",
       "       -0.09904005,  0.15604703,  0.00731018, -0.24785446, -0.20489301,\n",
       "       -0.03423061, -0.11910284,  0.23733456,  0.10623165, -0.09297988,\n",
       "       -0.14139618, -0.24384518,  0.07426311, -0.02401735, -0.05262372,\n",
       "       -0.0879115 , -0.22095412,  0.23179919,  0.01179423, -0.3214106 ,\n",
       "        0.11101603,  0.08167833,  0.31859565, -0.27793223,  0.16348201,\n",
       "        0.13478169, -0.05910636, -0.09615207, -0.12506261, -0.10712397,\n",
       "       -0.28854802, -0.02647835,  0.18936448, -0.44548663,  0.06932566,\n",
       "        0.32425484, -0.21445629,  0.01990999,  0.21996184, -0.05305436,\n",
       "       -0.04932594, -0.08054367, -0.16765897,  0.06739866, -0.19542538,\n",
       "        0.13602103,  0.13178921,  0.05501473, -0.04385758, -0.21740785,\n",
       "        0.6208431 ,  0.2845482 ,  0.17174631, -0.08058527,  0.04297714,\n",
       "       -0.16826679,  0.0293919 , -0.32284996, -0.01624685, -0.17269106,\n",
       "        0.15325606, -0.1985803 ,  0.08819216, -0.20620964,  0.14030619,\n",
       "        0.1262482 , -0.00280407,  0.12956035,  0.07380722, -0.26135248,\n",
       "       -0.01171434,  0.08379491, -0.20434256,  0.22754525, -0.05562483,\n",
       "       -0.10635643, -0.10545865,  0.0829512 ,  0.11302587, -0.3358861 ,\n",
       "       -0.17247686, -0.24017447, -0.05023285,  0.08432669, -0.03216419,\n",
       "        0.2738566 , -0.04242373, -0.04350958, -0.1646148 ,  0.16325153,\n",
       "       -0.11012325,  0.00314771, -0.12813477, -0.06016143,  0.22323759,\n",
       "        0.08026149,  0.23336826,  0.01637281,  0.18198037, -0.16426611,\n",
       "        0.02944453, -0.1084603 , -0.04249781, -0.1856176 , -0.03713015],\n",
       "      dtype=float32)"
      ]
     },
     "execution_count": 19,
     "metadata": {},
     "output_type": "execute_result"
    }
   ],
   "source": [
    "fast_text_model.wv[X_train['answer'].iloc[0]]"
   ]
  },
  {
   "cell_type": "code",
   "execution_count": 20,
   "metadata": {},
   "outputs": [],
   "source": [
    "matrix = np.zeros((X_train.shape[0], 300))\n",
    "for i in range(X_train.shape[0]):\n",
    "    matrix[i] = fast_text_model.wv[X_train['answer'].iloc[i]]\n",
    "    "
   ]
  },
  {
   "cell_type": "code",
   "execution_count": 21,
   "metadata": {},
   "outputs": [],
   "source": [
    "matrix_val = np.zeros((X_val.shape[0], 300))\n",
    "for i in range(X_val.shape[0]):\n",
    "    matrix_val[i] = fast_text_model.wv[X_val['answer'].iloc[i]]"
   ]
  },
  {
   "cell_type": "code",
   "execution_count": 22,
   "metadata": {},
   "outputs": [],
   "source": [
    "X_train_vec = matrix"
   ]
  },
  {
   "cell_type": "code",
   "execution_count": 23,
   "metadata": {},
   "outputs": [],
   "source": [
    "X_train_vec = X_train_vec.reshape(X_train_vec.shape[0], 1, X_train_vec.shape[1])"
   ]
  },
  {
   "cell_type": "code",
   "execution_count": 24,
   "metadata": {},
   "outputs": [],
   "source": [
    "X_val_vec = matrix_val"
   ]
  },
  {
   "cell_type": "code",
   "execution_count": 25,
   "metadata": {},
   "outputs": [],
   "source": [
    "X_val_vec = X_val_vec.reshape(X_val_vec.shape[0], 1, X_val_vec.shape[1])"
   ]
  },
  {
   "cell_type": "code",
   "execution_count": 26,
   "metadata": {},
   "outputs": [
    {
     "name": "stdout",
     "output_type": "stream",
     "text": [
      "[[[ 0.54991382  0.14493077  0.06994156 ... -0.04249781 -0.1856176\n",
      "   -0.03713015]]\n",
      "\n",
      " [[ 0.12405957  0.0848012  -0.02280761 ... -0.06037292 -0.01156013\n",
      "    0.27493739]]\n",
      "\n",
      " [[ 0.17099953 -0.08276331  0.14694567 ... -0.1271266  -0.10794874\n",
      "   -0.26167229]]\n",
      "\n",
      " ...\n",
      "\n",
      " [[-0.01771358  0.24970101 -0.15886398 ... -0.1035225   0.05642457\n",
      "   -0.11164612]]\n",
      "\n",
      " [[ 0.0084172   0.11862163 -0.01767736 ...  0.07322099  0.04701766\n",
      "   -0.14379349]]\n",
      "\n",
      " [[-0.01478438  0.04485109 -0.15111421 ... -0.25449198  0.05221124\n",
      "   -0.1677798 ]]]\n",
      "(10000, 1, 300)\n"
     ]
    }
   ],
   "source": [
    "print(X_train_vec)\n",
    "print(X_train_vec.shape)"
   ]
  },
  {
   "cell_type": "code",
   "execution_count": 41,
   "metadata": {},
   "outputs": [],
   "source": [
    "def build_model(x_train):\n",
    "    model = tf.keras.Sequential()\n",
    "    input_shape = x_train.shape\n",
    "    model.add(Dense(16, activation=\"relu\", input_shape=input_shape[1:]))\n",
    "    model.add(MaxPooling1D(1))\n",
    "    model.add(Flatten())\n",
    "    model.add(Dense(1, activation='sigmoid'))"
   ]
  },
  {
   "cell_type": "code",
   "execution_count": 42,
   "metadata": {},
   "outputs": [],
   "source": [
    "# MAE : the average absolute distance between the predicted and target values\n",
    "def compile_model(model):\n",
    "    mae = tf.keras.losses.MeanAbsolutePercentageError()\n",
    "    model.compile(loss=mae,\n",
    "                  optimizer='adam',\n",
    "                  metrics=['mean_squared_error', 'mean_absolute_error']\n",
    "                  )\n",
    "    return  model"
   ]
  },
  {
   "cell_type": "code",
   "execution_count": 43,
   "metadata": {
    "cell_id": "00021-998881e8-c77d-4753-a541-cea6c621b8de",
    "deepnote_cell_type": "code",
    "deepnote_to_be_reexecuted": false,
    "execution_millis": 2,
    "execution_start": 1616402078396,
    "source_hash": "47c9b631"
   },
   "outputs": [],
   "source": [
    "def fit_model(x_train, y_train, x_val, y_val, model, batch_size,  epochs = 5):\n",
    "    \n",
    "    print('Train...')\n",
    "    os.makedirs(\"./logs/CNN_logs\",exist_ok=True)\n",
    "    tensorboard = TensorBoard(log_dir=os.path.join('./logs/CNN_logs'), histogram_freq=0,\n",
    "                                  write_graph=True, write_images=False,profile_batch = 100000000)\n",
    "\n",
    "    # This callback will stop the training when there is no improvement in\n",
    "    # the validation loss for 2 consecutive epochs.\n",
    "    Es= EarlyStopping(monitor='loss', patience=2)\n",
    "    \n",
    "    callbacks = [Es, tensorboard]\n",
    "\n",
    "    model.fit(x_train, y_train,\n",
    "              batch_size=batch_size,\n",
    "              epochs=epochs,\n",
    "              validation_data=(X_val, y_val),\n",
    "              callbacks= callbacks)\n",
    "    return model"
   ]
  },
  {
   "cell_type": "code",
   "execution_count": 44,
   "metadata": {},
   "outputs": [
    {
     "ename": "TypeError",
     "evalue": "The added layer must be an instance of class Layer. Found: <keras.layers.core.Dense object at 0x7fedcf1b9410>",
     "output_type": "error",
     "traceback": [
      "\u001b[0;31m---------------------------------------------------------------------------\u001b[0m",
      "\u001b[0;31mTypeError\u001b[0m                                 Traceback (most recent call last)",
      "\u001b[0;32m<ipython-input-44-0123fd659eac>\u001b[0m in \u001b[0;36m<module>\u001b[0;34m\u001b[0m\n\u001b[1;32m      1\u001b[0m \u001b[0;32mwith\u001b[0m \u001b[0mtf\u001b[0m\u001b[0;34m.\u001b[0m\u001b[0mdevice\u001b[0m\u001b[0;34m(\u001b[0m\u001b[0;34m\"/CPU:0\"\u001b[0m\u001b[0;34m)\u001b[0m\u001b[0;34m:\u001b[0m\u001b[0;34m\u001b[0m\u001b[0;34m\u001b[0m\u001b[0m\n\u001b[0;32m----> 2\u001b[0;31m     \u001b[0mmodel\u001b[0m \u001b[0;34m=\u001b[0m \u001b[0mbuild_model\u001b[0m\u001b[0;34m(\u001b[0m\u001b[0mX_train_vec\u001b[0m\u001b[0;34m)\u001b[0m\u001b[0;34m\u001b[0m\u001b[0;34m\u001b[0m\u001b[0m\n\u001b[0m\u001b[1;32m      3\u001b[0m     \u001b[0mmodel\u001b[0m\u001b[0;34m.\u001b[0m\u001b[0msummary\u001b[0m\u001b[0;34m(\u001b[0m\u001b[0;34m)\u001b[0m\u001b[0;34m\u001b[0m\u001b[0;34m\u001b[0m\u001b[0m\n\u001b[1;32m      4\u001b[0m     \u001b[0mmodel\u001b[0m \u001b[0;34m=\u001b[0m \u001b[0mcompile_model\u001b[0m\u001b[0;34m(\u001b[0m\u001b[0mmodel\u001b[0m\u001b[0;34m)\u001b[0m\u001b[0;34m\u001b[0m\u001b[0;34m\u001b[0m\u001b[0m\n\u001b[1;32m      5\u001b[0m     \u001b[0mmodel\u001b[0m \u001b[0;34m=\u001b[0m \u001b[0mfit_model\u001b[0m\u001b[0;34m(\u001b[0m\u001b[0mX_train_vec\u001b[0m\u001b[0;34m,\u001b[0m \u001b[0my_train\u001b[0m\u001b[0;34m,\u001b[0m \u001b[0mX_val_vec\u001b[0m\u001b[0;34m,\u001b[0m \u001b[0my_val\u001b[0m\u001b[0;34m,\u001b[0m \u001b[0mmodel\u001b[0m\u001b[0;34m,\u001b[0m \u001b[0mbatch_size\u001b[0m\u001b[0;34m=\u001b[0m\u001b[0;36m200\u001b[0m\u001b[0;34m,\u001b[0m \u001b[0mepochs\u001b[0m\u001b[0;34m=\u001b[0m\u001b[0;36m3\u001b[0m\u001b[0;34m)\u001b[0m\u001b[0;34m\u001b[0m\u001b[0;34m\u001b[0m\u001b[0m\n",
      "\u001b[0;32m<ipython-input-41-c04583406797>\u001b[0m in \u001b[0;36mbuild_model\u001b[0;34m(x_train)\u001b[0m\n\u001b[1;32m      2\u001b[0m     \u001b[0mmodel\u001b[0m \u001b[0;34m=\u001b[0m \u001b[0mtf\u001b[0m\u001b[0;34m.\u001b[0m\u001b[0mkeras\u001b[0m\u001b[0;34m.\u001b[0m\u001b[0mSequential\u001b[0m\u001b[0;34m(\u001b[0m\u001b[0;34m)\u001b[0m\u001b[0;34m\u001b[0m\u001b[0;34m\u001b[0m\u001b[0m\n\u001b[1;32m      3\u001b[0m     \u001b[0minput_shape\u001b[0m \u001b[0;34m=\u001b[0m \u001b[0mx_train\u001b[0m\u001b[0;34m.\u001b[0m\u001b[0mshape\u001b[0m\u001b[0;34m\u001b[0m\u001b[0;34m\u001b[0m\u001b[0m\n\u001b[0;32m----> 4\u001b[0;31m     \u001b[0mmodel\u001b[0m\u001b[0;34m.\u001b[0m\u001b[0madd\u001b[0m\u001b[0;34m(\u001b[0m\u001b[0mDense\u001b[0m\u001b[0;34m(\u001b[0m\u001b[0;36m16\u001b[0m\u001b[0;34m,\u001b[0m \u001b[0mactivation\u001b[0m\u001b[0;34m=\u001b[0m\u001b[0;34m\"relu\"\u001b[0m\u001b[0;34m,\u001b[0m \u001b[0minput_shape\u001b[0m\u001b[0;34m=\u001b[0m\u001b[0minput_shape\u001b[0m\u001b[0;34m[\u001b[0m\u001b[0;36m1\u001b[0m\u001b[0;34m:\u001b[0m\u001b[0;34m]\u001b[0m\u001b[0;34m)\u001b[0m\u001b[0;34m)\u001b[0m\u001b[0;34m\u001b[0m\u001b[0;34m\u001b[0m\u001b[0m\n\u001b[0m\u001b[1;32m      5\u001b[0m     \u001b[0mmodel\u001b[0m\u001b[0;34m.\u001b[0m\u001b[0madd\u001b[0m\u001b[0;34m(\u001b[0m\u001b[0mMaxPooling1D\u001b[0m\u001b[0;34m(\u001b[0m\u001b[0;36m1\u001b[0m\u001b[0;34m)\u001b[0m\u001b[0;34m)\u001b[0m\u001b[0;34m\u001b[0m\u001b[0;34m\u001b[0m\u001b[0m\n\u001b[1;32m      6\u001b[0m     \u001b[0mmodel\u001b[0m\u001b[0;34m.\u001b[0m\u001b[0madd\u001b[0m\u001b[0;34m(\u001b[0m\u001b[0mFlatten\u001b[0m\u001b[0;34m(\u001b[0m\u001b[0;34m)\u001b[0m\u001b[0;34m)\u001b[0m\u001b[0;34m\u001b[0m\u001b[0;34m\u001b[0m\u001b[0m\n",
      "\u001b[0;32m~/Work_directory/DATA_SCIENCE_YNOV/SMART_FAQ/smartFAQ/envs/lib/python3.7/site-packages/tensorflow_core/python/training/tracking/base.py\u001b[0m in \u001b[0;36m_method_wrapper\u001b[0;34m(self, *args, **kwargs)\u001b[0m\n\u001b[1;32m    455\u001b[0m     \u001b[0mself\u001b[0m\u001b[0;34m.\u001b[0m\u001b[0m_self_setattr_tracking\u001b[0m \u001b[0;34m=\u001b[0m \u001b[0;32mFalse\u001b[0m  \u001b[0;31m# pylint: disable=protected-access\u001b[0m\u001b[0;34m\u001b[0m\u001b[0;34m\u001b[0m\u001b[0m\n\u001b[1;32m    456\u001b[0m     \u001b[0;32mtry\u001b[0m\u001b[0;34m:\u001b[0m\u001b[0;34m\u001b[0m\u001b[0;34m\u001b[0m\u001b[0m\n\u001b[0;32m--> 457\u001b[0;31m       \u001b[0mresult\u001b[0m \u001b[0;34m=\u001b[0m \u001b[0mmethod\u001b[0m\u001b[0;34m(\u001b[0m\u001b[0mself\u001b[0m\u001b[0;34m,\u001b[0m \u001b[0;34m*\u001b[0m\u001b[0margs\u001b[0m\u001b[0;34m,\u001b[0m \u001b[0;34m**\u001b[0m\u001b[0mkwargs\u001b[0m\u001b[0;34m)\u001b[0m\u001b[0;34m\u001b[0m\u001b[0;34m\u001b[0m\u001b[0m\n\u001b[0m\u001b[1;32m    458\u001b[0m     \u001b[0;32mfinally\u001b[0m\u001b[0;34m:\u001b[0m\u001b[0;34m\u001b[0m\u001b[0;34m\u001b[0m\u001b[0m\n\u001b[1;32m    459\u001b[0m       \u001b[0mself\u001b[0m\u001b[0;34m.\u001b[0m\u001b[0m_self_setattr_tracking\u001b[0m \u001b[0;34m=\u001b[0m \u001b[0mprevious_value\u001b[0m  \u001b[0;31m# pylint: disable=protected-access\u001b[0m\u001b[0;34m\u001b[0m\u001b[0;34m\u001b[0m\u001b[0m\n",
      "\u001b[0;32m~/Work_directory/DATA_SCIENCE_YNOV/SMART_FAQ/smartFAQ/envs/lib/python3.7/site-packages/tensorflow_core/python/keras/engine/sequential.py\u001b[0m in \u001b[0;36madd\u001b[0;34m(self, layer)\u001b[0m\n\u001b[1;32m    156\u001b[0m       raise TypeError('The added layer must be '\n\u001b[1;32m    157\u001b[0m                       \u001b[0;34m'an instance of class Layer. '\u001b[0m\u001b[0;34m\u001b[0m\u001b[0;34m\u001b[0m\u001b[0m\n\u001b[0;32m--> 158\u001b[0;31m                       'Found: ' + str(layer))\n\u001b[0m\u001b[1;32m    159\u001b[0m \u001b[0;34m\u001b[0m\u001b[0m\n\u001b[1;32m    160\u001b[0m     \u001b[0mtf_utils\u001b[0m\u001b[0;34m.\u001b[0m\u001b[0massert_no_legacy_layers\u001b[0m\u001b[0;34m(\u001b[0m\u001b[0;34m[\u001b[0m\u001b[0mlayer\u001b[0m\u001b[0;34m]\u001b[0m\u001b[0;34m)\u001b[0m\u001b[0;34m\u001b[0m\u001b[0;34m\u001b[0m\u001b[0m\n",
      "\u001b[0;31mTypeError\u001b[0m: The added layer must be an instance of class Layer. Found: <keras.layers.core.Dense object at 0x7fedcf1b9410>"
     ]
    }
   ],
   "source": [
    "with tf.device(\"/CPU:0\"):\n",
    "    model = build_model(X_train_vec)\n",
    "    model.summary()\n",
    "    model = compile_model(model)\n",
    "    model = fit_model(X_train_vec, y_train, X_val_vec, y_val, model, batch_size=200, epochs=3)"
   ]
  },
  {
   "cell_type": "markdown",
   "metadata": {
    "cell_id": "00023-382b8a68-e787-441d-8859-fc1a35cc4953",
    "deepnote_cell_type": "markdown"
   },
   "source": [
    "## Save model "
   ]
  },
  {
   "cell_type": "code",
   "execution_count": null,
   "metadata": {
    "cell_id": "00024-f99149ff-f946-466c-af04-bc0ac1b5c11c",
    "deepnote_cell_type": "code"
   },
   "outputs": [],
   "source": [
    "# Save the entire model as a SavedModel.\n",
    "!mkdir -p saved_model\n",
    "model.save('./saved_model/CNN_model_FT')"
   ]
  },
  {
   "cell_type": "code",
   "execution_count": null,
   "metadata": {
    "cell_id": "00025-e97f4a55-8f7a-44c9-bb1d-9a5240668fc0",
    "deepnote_cell_type": "code"
   },
   "outputs": [],
   "source": [
    "loss, mean_squared_error, mean_ab = model.evaluate(x_val_pad, y_val)"
   ]
  },
  {
   "cell_type": "code",
   "execution_count": null,
   "metadata": {
    "cell_id": "00026-835c289c-c915-4bcb-bed7-adfe94d204d9",
    "deepnote_cell_type": "code"
   },
   "outputs": [],
   "source": []
  },
  {
   "cell_type": "code",
   "execution_count": null,
   "metadata": {
    "cell_id": "00027-b105cc0b-487f-452b-8783-3d14a9ae6ff6",
    "deepnote_cell_type": "code"
   },
   "outputs": [],
   "source": [
    "# © Laëtitia CONSTANTIN & Axel CHENU 2021"
   ]
  }
 ],
 "metadata": {
  "deepnote": {},
  "deepnote_execution_queue": [],
  "deepnote_notebook_id": "9202850e-a580-446b-856c-77c0e05595c5",
  "kernelspec": {
   "display_name": "Python 3",
   "language": "python",
   "name": "python3"
  },
  "language_info": {
   "codemirror_mode": {
    "name": "ipython",
    "version": 3
   },
   "file_extension": ".py",
   "mimetype": "text/x-python",
   "name": "python",
   "nbconvert_exporter": "python",
   "pygments_lexer": "ipython3",
   "version": "3.7.10"
  }
 },
 "nbformat": 4,
 "nbformat_minor": 4
}
