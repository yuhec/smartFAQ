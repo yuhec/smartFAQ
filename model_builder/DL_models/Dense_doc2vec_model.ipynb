{
 "cells": [
  {
   "cell_type": "code",
   "execution_count": null,
   "metadata": {
    "cell_id": "00000-9aba9cc2-9fd0-4b02-ad6d-8a670b026c76",
    "deepnote_cell_type": "code",
    "deepnote_to_be_reexecuted": false,
    "execution_millis": 2024,
    "execution_start": 1616401943359,
    "source_hash": "6f75b1de"
   },
   "outputs": [],
   "source": [
    "import pandas as pd\n",
    "import pickle\n",
    "import tensorflow as tf\n",
    "import numpy as np\n",
    "\n",
    "from tensorflow.keras.callbacks import TensorBoard\n",
    "from tensorflow.keras.callbacks import EarlyStopping\n",
    "\n",
    "from keras.preprocessing.text import Tokenizer\n",
    "from keras.preprocessing.sequence import pad_sequences\n",
    "from keras.layers import Input, Embedding, LSTM, Dense, Activation, Conv1D, Flatten, Dropout, MaxPooling1D\n",
    "\n",
    "import sys\n",
    "sys.path.append('../../..')\n",
    "from smartFAQ.src.tokenPad import tokenization_padding\n",
    "\n",
    "import os\n",
    "\n",
    "from keras.models import Sequential\n",
    "print('Setup is ready')"
   ]
  },
  {
   "cell_type": "markdown",
   "metadata": {
    "cell_id": "00001-a1ee8adf-7377-43f9-afe2-c720a061af71",
    "deepnote_cell_type": "markdown"
   },
   "source": [
    "# Load Data\n",
    "---\n",
    "## Load Data"
   ]
  },
  {
   "cell_type": "code",
   "execution_count": null,
   "metadata": {
    "cell_id": "00002-2744cbdc-b9d1-49df-915d-a3fe9153f5c9",
    "deepnote_cell_type": "code",
    "deepnote_to_be_reexecuted": false,
    "execution_millis": 885,
    "execution_start": 1616401983118,
    "source_hash": "8313c350"
   },
   "outputs": [],
   "source": [
    "with open('../../data/x_train.pickle', 'rb') as handle:\n",
    "    X_train = pickle.load(handle)\n",
    "with open('../../data/y_train.pickle', 'rb') as handle:\n",
    "    y_train = pickle.load(handle)\n",
    "with open('../../data/x_val.pickle', 'rb') as handle:\n",
    "    X_val = pickle.load(handle)\n",
    "with open('../../data/y_val.pickle', 'rb') as handle:\n",
    "    y_val = pickle.load(handle)"
   ]
  },
  {
   "cell_type": "markdown",
   "metadata": {
    "cell_id": "00004-c19b732f-3e5f-4217-be6d-02037ac808a8",
    "deepnote_cell_type": "markdown"
   },
   "source": [
    "## Tokenization & Padding"
   ]
  },
  {
   "cell_type": "code",
   "execution_count": null,
   "metadata": {
    "cell_id": "00005-debfe3b1-8a13-48a8-97d0-6b917a2e6655",
    "deepnote_cell_type": "code",
    "deepnote_to_be_reexecuted": false,
    "execution_millis": 0,
    "execution_start": 1616402062323,
    "source_hash": "fdfbf7c5"
   },
   "outputs": [],
   "source": [
    "MAX_NUM_WORDS = 20000\n",
    "MAX_LEN = 3000\n",
    "x_train_pad = tokenization_padding(X_train, 'answer', [], MAX_NUM_WORDS, MAX_LEN)\n",
    "x_val_pad = tokenization_padding(X_val, 'answer', [], MAX_NUM_WORDS, MAX_LEN)"
   ]
  },
  {
   "cell_type": "markdown",
   "metadata": {
    "cell_id": "00009-5906f3e8-add9-4438-866e-5450bcf1203e",
    "deepnote_cell_type": "markdown"
   },
   "source": [
    "## Keras Model"
   ]
  },
  {
   "cell_type": "code",
   "execution_count": null,
   "metadata": {
    "cell_id": "00010-e2592307-4083-4ba0-9434-dd39426c3442",
    "deepnote_cell_type": "code"
   },
   "outputs": [],
   "source": [
    "import gensim\n",
    "from gensim.test.utils import common_texts\n",
    "from gensim.models.doc2vec import Doc2Vec, TaggedDocument\n",
    "\n",
    "from gensim.models.phrases import Phrases, Phraser"
   ]
  },
  {
   "cell_type": "code",
   "execution_count": null,
   "metadata": {
    "cell_id": "00016-7050b905-5dcc-4776-848b-8f6b38af6cb2",
    "deepnote_cell_type": "code"
   },
   "outputs": [],
   "source": [
    "with open('../../data/d2v_pretrained_weights.pickle', 'rb') as handle:\n",
    "    d2v_pretrained_weights = pickle.load(handle)"
   ]
  },
  {
   "cell_type": "code",
   "execution_count": null,
   "metadata": {
    "cell_id": "00016-347a5165-3965-45a9-afa3-b343f82947db",
    "deepnote_cell_type": "code"
   },
   "outputs": [],
   "source": [
    "pretrained_weights = d2v_pretrained_weights.wv.syn0\n",
    "vocab_size, embedding_size = pretrained_weights.shape"
   ]
  },
  {
   "cell_type": "code",
   "execution_count": 7,
   "metadata": {
    "cell_id": "00018-9143f555-7f98-4d5d-8ac5-fc480868a0fc",
    "deepnote_cell_type": "code"
   },
   "outputs": [
    {
     "name": "stderr",
     "output_type": "stream",
     "text": [
      "/usr/local/lib/python3.6/dist-packages/ipykernel_launcher.py:1: DeprecationWarning: Call to deprecated `most_similar` (Method will be removed in 4.0.0, use self.wv.most_similar() instead).\n",
      "  \"\"\"Entry point for launching an IPython kernel.\n"
     ]
    },
    {
     "data": {
      "text/plain": [
       "[('import_sys', 0.32976454496383667),\n",
       " ('os', 0.2879202663898468),\n",
       " ('logging_basicConfig', 0.25194600224494934),\n",
       " ('ext_import', 0.24858161807060242),\n",
       " ('Popen_PIPE', 0.24675637483596802),\n",
       " ('pyc_byte', 0.2391386777162552),\n",
       " ('numpy_np', 0.23757658898830414),\n",
       " ('Have_look', 0.2326200157403946),\n",
       " ('env_python', 0.22709797322750092),\n",
       " ('lazy_dog', 0.21828103065490723)]"
      ]
     },
     "execution_count": 7,
     "metadata": {},
     "output_type": "execute_result"
    }
   ],
   "source": [
    "d2v_pretrained_weights.most_similar(['import']) "
   ]
  },
  {
   "cell_type": "code",
   "execution_count": 8,
   "metadata": {},
   "outputs": [],
   "source": [
    "matrix = np.zeros((30000, 300))\n",
    "for i in range(30000):\n",
    "    matrix[i] = d2v_pretrained_weights.infer_vector([X_train['answer'].values[i]])"
   ]
  },
  {
   "cell_type": "code",
   "execution_count": 9,
   "metadata": {},
   "outputs": [],
   "source": [
    "x_train_vec = matrix\n",
    "x_train_vec = x_train_vec.reshape(x_train_vec.shape[0], 1, x_train_vec.shape[1])"
   ]
  },
  {
   "cell_type": "code",
   "execution_count": 10,
   "metadata": {},
   "outputs": [
    {
     "data": {
      "text/plain": [
       "(30000, 1, 300)"
      ]
     },
     "execution_count": 10,
     "metadata": {},
     "output_type": "execute_result"
    }
   ],
   "source": [
    "x_train_vec.shape"
   ]
  },
  {
   "cell_type": "code",
   "execution_count": 11,
   "metadata": {},
   "outputs": [],
   "source": [
    "matrix_val = np.zeros((X_val.shape[0], 300))\n",
    "for i in range(X_val.shape[0]):\n",
    "    matrix_val[i] = d2v_pretrained_weights.infer_vector([X_val['answer'].values[i]])"
   ]
  },
  {
   "cell_type": "code",
   "execution_count": 12,
   "metadata": {},
   "outputs": [],
   "source": [
    "x_val_vec = matrix_val\n",
    "x_val_vec = x_val_vec.reshape(x_val_vec.shape[0], 1, x_val_vec.shape[1])"
   ]
  },
  {
   "cell_type": "code",
   "execution_count": 13,
   "metadata": {},
   "outputs": [
    {
     "data": {
      "text/plain": [
       "(6569, 300)"
      ]
     },
     "execution_count": 13,
     "metadata": {},
     "output_type": "execute_result"
    }
   ],
   "source": [
    "pretrained_weights.shape"
   ]
  },
  {
   "cell_type": "code",
   "execution_count": 78,
   "metadata": {
    "cell_id": "00017-2987e516-dc71-47d9-b26c-26a49f3040ba",
    "deepnote_cell_type": "code",
    "deepnote_to_be_reexecuted": false,
    "execution_millis": 4,
    "execution_start": 1616402074267,
    "source_hash": "17d99fc2"
   },
   "outputs": [],
   "source": [
    "def build_model(x_train): \n",
    "    \n",
    "    model = tf.keras.Sequential()\n",
    "    input_shape = x_train.shape\n",
    "#     model.add(Conv1D(filters=64, kernel_size=1, activation='relu', padding='valid', input_shape=input_shape[1:]))\n",
    "    model.add(Dense(32, activation=\"sigmoid\", input_shape=input_shape[1:]))\n",
    "    model.add(MaxPooling1D(1))\n",
    "    model.add(Dropout(0.2))\n",
    "#     model.add(Conv1D(filters=32, kernel_size=1, padding='same', activation='relu'))\n",
    "    model.add(Flatten())\n",
    "    model.add(Dense(1, activation='sigmoid'))\n",
    "\n",
    "    return model"
   ]
  },
  {
   "cell_type": "code",
   "execution_count": 90,
   "metadata": {
    "cell_id": "00018-1b22a381-b1db-40b1-b61e-633e80a55d8a",
    "deepnote_cell_type": "code",
    "deepnote_to_be_reexecuted": false,
    "execution_millis": 1,
    "execution_start": 1616402076406,
    "source_hash": "7c26ace8"
   },
   "outputs": [],
   "source": [
    "# MAE : the average absolute distance between the predicted and target values\n",
    "def compile_model(model):\n",
    "    mse = tf.keras.losses.MeanSquaredError()\n",
    "    model.compile(loss=mse,\n",
    "                  optimizer='Nadam',\n",
    "                  metrics=['mean_squared_error', 'mean_absolute_error']\n",
    "                  )\n",
    "    return  model"
   ]
  },
  {
   "cell_type": "code",
   "execution_count": 91,
   "metadata": {
    "cell_id": "00019-585f48f7-e50e-4518-8aa0-a59fc85ddcf0",
    "deepnote_cell_type": "code",
    "deepnote_to_be_reexecuted": false,
    "execution_millis": 2,
    "execution_start": 1616402078396,
    "source_hash": "47c9b631"
   },
   "outputs": [],
   "source": [
    "def fit_model( x_train, y_train, x_val, y_val, model, batch_size,  epochs = 5):\n",
    "    \n",
    "    print('Train...')\n",
    "    os.makedirs(\"./logs/Dense_doc2vec_logs_3\",exist_ok=True)\n",
    "    tensorboard = TensorBoard(log_dir=os.path.join('./logs/Dense_doc2vec_logs_3'), histogram_freq=0,\n",
    "                                  write_graph=True, write_images=False,profile_batch = 100000000)\n",
    "\n",
    "    # This callback will stop the training when there is no improvement in\n",
    "    # the validation loss for 2 consecutive epochs.\n",
    "    Es= EarlyStopping(monitor='loss', patience=3)\n",
    "    \n",
    "    callbacks = [Es, tensorboard]\n",
    "\n",
    "    model.fit(x_train, y_train,\n",
    "              batch_size=batch_size,\n",
    "              epochs=epochs,\n",
    "              verbose=1,\n",
    "              validation_data=(x_val, y_val),\n",
    "              callbacks= callbacks)\n",
    "    return model"
   ]
  },
  {
   "cell_type": "code",
   "execution_count": 81,
   "metadata": {},
   "outputs": [
    {
     "data": {
      "text/plain": [
       "(30000, 1, 300)"
      ]
     },
     "execution_count": 81,
     "metadata": {},
     "output_type": "execute_result"
    }
   ],
   "source": [
    "x_train_vec.shape"
   ]
  },
  {
   "cell_type": "code",
   "execution_count": 82,
   "metadata": {},
   "outputs": [
    {
     "data": {
      "text/plain": [
       "(14000, 1, 300)"
      ]
     },
     "execution_count": 82,
     "metadata": {},
     "output_type": "execute_result"
    }
   ],
   "source": [
    "x_val_vec.shape"
   ]
  },
  {
   "cell_type": "code",
   "execution_count": 92,
   "metadata": {
    "cell_id": "00020-87bef7a0-1ab5-4112-bb5c-0f5ff53225e0",
    "deepnote_cell_type": "code",
    "deepnote_to_be_reexecuted": false,
    "execution_millis": 1675,
    "execution_start": 1616402087318,
    "source_hash": "11fef271"
   },
   "outputs": [
    {
     "name": "stdout",
     "output_type": "stream",
     "text": [
      "Model: \"sequential_25\"\n",
      "_________________________________________________________________\n",
      "Layer (type)                 Output Shape              Param #   \n",
      "=================================================================\n",
      "dense_54 (Dense)             (None, 1, 32)             9632      \n",
      "_________________________________________________________________\n",
      "max_pooling1d_33 (MaxPooling (None, 1, 32)             0         \n",
      "_________________________________________________________________\n",
      "dropout_31 (Dropout)         (None, 1, 32)             0         \n",
      "_________________________________________________________________\n",
      "flatten_21 (Flatten)         (None, 32)                0         \n",
      "_________________________________________________________________\n",
      "dense_55 (Dense)             (None, 1)                 33        \n",
      "=================================================================\n",
      "Total params: 9,665\n",
      "Trainable params: 9,665\n",
      "Non-trainable params: 0\n",
      "_________________________________________________________________\n",
      "Train...\n",
      "Epoch 1/10\n",
      "300/300 [==============================] - 1s 2ms/step - loss: 5835.0529 - mean_squared_error: 5835.0529 - mean_absolute_error: 11.4593 - val_loss: 4935.4341 - val_mean_squared_error: 4935.4341 - val_mean_absolute_error: 11.5868\n",
      "Epoch 2/10\n",
      "300/300 [==============================] - 0s 1ms/step - loss: 7386.2435 - mean_squared_error: 7386.2435 - mean_absolute_error: 11.3403 - val_loss: 4935.0635 - val_mean_squared_error: 4935.0635 - val_mean_absolute_error: 11.5774\n",
      "Epoch 3/10\n",
      "300/300 [==============================] - 0s 1ms/step - loss: 4544.7334 - mean_squared_error: 4544.7334 - mean_absolute_error: 11.1847 - val_loss: 4934.9663 - val_mean_squared_error: 4934.9663 - val_mean_absolute_error: 11.5749\n",
      "Epoch 4/10\n",
      "300/300 [==============================] - 0s 1ms/step - loss: 5940.8894 - mean_squared_error: 5940.8894 - mean_absolute_error: 11.3880 - val_loss: 4934.9292 - val_mean_squared_error: 4934.9292 - val_mean_absolute_error: 11.5740\n",
      "Epoch 5/10\n",
      "300/300 [==============================] - 0s 1ms/step - loss: 5709.8160 - mean_squared_error: 5709.8164 - mean_absolute_error: 11.2848 - val_loss: 4934.9106 - val_mean_squared_error: 4934.9106 - val_mean_absolute_error: 11.5735\n",
      "Epoch 6/10\n",
      "300/300 [==============================] - 0s 1ms/step - loss: 7954.4017 - mean_squared_error: 7954.4017 - mean_absolute_error: 11.1073 - val_loss: 4934.9004 - val_mean_squared_error: 4934.9004 - val_mean_absolute_error: 11.5733\n",
      "Epoch 7/10\n",
      "300/300 [==============================] - 0s 1ms/step - loss: 7522.7041 - mean_squared_error: 7522.7041 - mean_absolute_error: 11.6582 - val_loss: 4934.8921 - val_mean_squared_error: 4934.8921 - val_mean_absolute_error: 11.5731\n",
      "Epoch 8/10\n",
      "300/300 [==============================] - 0s 1ms/step - loss: 9497.5716 - mean_squared_error: 9497.5716 - mean_absolute_error: 11.4248 - val_loss: 4934.8882 - val_mean_squared_error: 4934.8882 - val_mean_absolute_error: 11.5730\n",
      "Epoch 9/10\n",
      "300/300 [==============================] - 0s 1ms/step - loss: 9316.5543 - mean_squared_error: 9316.5543 - mean_absolute_error: 11.7572 - val_loss: 4934.8857 - val_mean_squared_error: 4934.8857 - val_mean_absolute_error: 11.5729\n",
      "Epoch 10/10\n",
      "300/300 [==============================] - 0s 1ms/step - loss: 5570.4439 - mean_squared_error: 5570.4439 - mean_absolute_error: 11.2100 - val_loss: 4934.8833 - val_mean_squared_error: 4934.8828 - val_mean_absolute_error: 11.5728\n"
     ]
    }
   ],
   "source": [
    "with tf.device(\"/CPU:0\"):\n",
    "    model = build_model(x_train_vec)\n",
    "    model.summary()\n",
    "    model = compile_model(model)\n",
    "    model = fit_model(\n",
    "        x_train_vec,\n",
    "        y_train, \n",
    "        x_val_vec,\n",
    "        y_val, model, \n",
    "        batch_size=100, \n",
    "        epochs=10)"
   ]
  },
  {
   "cell_type": "markdown",
   "metadata": {
    "cell_id": "00023-46cb6bb8-f2fd-4317-a0b3-3fa9e05492d0",
    "deepnote_cell_type": "markdown"
   },
   "source": [
    "## Save model "
   ]
  },
  {
   "cell_type": "code",
   "execution_count": 93,
   "metadata": {
    "cell_id": "00024-5c45dd40-c531-4825-b931-ff5f54447776",
    "deepnote_cell_type": "code"
   },
   "outputs": [
    {
     "name": "stdout",
     "output_type": "stream",
     "text": [
      "INFO:tensorflow:Assets written to: ./saved_model/CNN_model_d2v_3/assets\n"
     ]
    }
   ],
   "source": [
    "# Save the entire model as a SavedModel.\n",
    "!mkdir -p saved_model\n",
    "model.save('./saved_model/Dense_model_d2v_3')"
   ]
  },
  {
   "cell_type": "markdown",
   "metadata": {
    "cell_id": "00025-a39e5dbe-c170-41eb-a89d-034ed0595285",
    "deepnote_cell_type": "code"
   },
   "source": [
    "© Laëtitia CONSTANTIN & Axel CHENU 2021"
   ]
  },
  {
   "cell_type": "markdown",
   "metadata": {
    "created_in_deepnote_cell": true,
    "deepnote_cell_type": "markdown",
    "tags": []
   },
   "source": [
    "<a style='text-decoration:none;line-height:16px;display:flex;color:#5B5B62;padding:10px;justify-content:end;' href='https://deepnote.com?utm_source=created-in-deepnote-cell&projectId=e80043e2-6875-4b65-a196-a0ffb97a1282' target=\"_blank\">\n",
    "<img style='display:inline;max-height:16px;margin:0px;margin-right:7.5px;' src='data:image/svg+xml;base64,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' > </img>\n",
    "Created in <span style='font-weight:600;margin-left:4px;'>Deepnote</span></a>"
   ]
  }
 ],
 "metadata": {
  "deepnote": {},
  "deepnote_execution_queue": [],
  "deepnote_notebook_id": "e06033b2-10ec-4b2f-9116-80ee4821731b",
  "kernelspec": {
   "display_name": "Python 3",
   "language": "python",
   "name": "python3"
  },
  "language_info": {
   "codemirror_mode": {
    "name": "ipython",
    "version": 3
   },
   "file_extension": ".py",
   "mimetype": "text/x-python",
   "name": "python",
   "nbconvert_exporter": "python",
   "pygments_lexer": "ipython3",
   "version": "3.6.9"
  }
 },
 "nbformat": 4,
 "nbformat_minor": 4
}
