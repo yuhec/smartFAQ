{
 "cells": [
  {
   "cell_type": "code",
   "execution_count": 1,
   "metadata": {
    "cell_id": "00000-e9c04695-e270-435b-bff4-73b73ba80500",
    "deepnote_cell_type": "code",
    "deepnote_to_be_reexecuted": false,
    "execution_millis": 2369,
    "execution_start": 1616401288874,
    "source_hash": "58143c00"
   },
   "outputs": [],
   "source": [
    "import os\n",
    "import pandas as pd \n",
    "import numpy as np \n",
    "import pickle\n",
    "from sklearn.model_selection import train_test_split\n",
    "\n",
    "import pickle\n",
    "import multiprocessing\n",
    "\n",
    "from time import time\n",
    "\n",
    "from gensim.test.utils import common_texts\n",
    "from gensim.models.doc2vec import Doc2Vec, TaggedDocument\n",
    "\n",
    "from gensim.models.phrases import Phrases, Phraser"
   ]
  },
  {
   "cell_type": "markdown",
   "metadata": {
    "cell_id": "00001-b43145c7-cfee-455a-8487-3c87e7031f8a",
    "deepnote_cell_type": "markdown"
   },
   "source": [
    "## Load Data"
   ]
  },
  {
   "cell_type": "code",
   "execution_count": 2,
   "metadata": {
    "cell_id": "00002-a99ed860-5c80-458a-aa99-5c3491993ec8",
    "deepnote_cell_type": "code",
    "deepnote_to_be_reexecuted": false,
    "execution_millis": 48,
    "execution_start": 1616401291243,
    "source_hash": "4f3b8700"
   },
   "outputs": [],
   "source": [
    "with open('../../data/x_train.pickle', 'rb') as handle:\n",
    "    X_train = pickle.load(handle)\n",
    "with open('../../data/y_train.pickle', 'rb') as handle:\n",
    "    y_train = pickle.load(handle)\n",
    "with open('../../data/x_val.pickle', 'rb') as handle:\n",
    "    X_val = pickle.load(handle)\n",
    "with open('../../data/y_val.pickle', 'rb') as handle:\n",
    "    y_val = pickle.load(handle)"
   ]
  },
  {
   "cell_type": "markdown",
   "metadata": {
    "cell_id": "00003-b586f057-7811-4c32-9c11-f2ddab9164df",
    "deepnote_cell_type": "markdown"
   },
   "source": [
    "# DOC2VEC\n",
    "---\n",
    "## variables for DOC2VEC"
   ]
  },
  {
   "cell_type": "code",
   "execution_count": 3,
   "metadata": {
    "cell_id": "00004-45eca34e-6cc0-4205-b030-e06f09b12e1c",
    "deepnote_cell_type": "code",
    "deepnote_to_be_reexecuted": false,
    "execution_millis": 0,
    "execution_start": 1616401291306,
    "source_hash": "8e530434"
   },
   "outputs": [],
   "source": [
    "maxLen = 150\n",
    "BATCH_SIZE = 32 #20\n",
    "MAX_NUM_WORDS = 20000\n",
    "MAX_SEQ_LEN = 200"
   ]
  },
  {
   "cell_type": "code",
   "execution_count": 4,
   "metadata": {
    "cell_id": "00005-a19426b5-6b6f-4cc8-8801-4711e43abbe4",
    "deepnote_cell_type": "code",
    "deepnote_to_be_reexecuted": false,
    "execution_millis": 1,
    "execution_start": 1616401291309,
    "source_hash": "8a1a9716",
    "tags": []
   },
   "outputs": [],
   "source": [
    "size = 300\n",
    "window = 10\n",
    "epochs = 50"
   ]
  },
  {
   "cell_type": "markdown",
   "metadata": {
    "cell_id": "00005-b2dc10fb-a558-447c-ad69-55830c300a83",
    "deepnote_cell_type": "markdown"
   },
   "source": [
    "## Bigrams"
   ]
  },
  {
   "cell_type": "code",
   "execution_count": 5,
   "metadata": {
    "cell_id": "00006-78257fcc-8d15-4ced-b1f1-58485850fc6f",
    "deepnote_cell_type": "code",
    "deepnote_to_be_reexecuted": false,
    "execution_millis": 225,
    "execution_start": 1616401291316,
    "source_hash": "74348954"
   },
   "outputs": [],
   "source": [
    "sent = []\n",
    "for col in ['question', 'question_body', 'answer']:\n",
    "    words = [row.split() for row in X_train[col]]\n",
    "    sent = sent + words"
   ]
  },
  {
   "cell_type": "code",
   "execution_count": 6,
   "metadata": {
    "cell_id": "00007-e3df1ce3-ef05-4c95-a92b-4410924c5755",
    "deepnote_cell_type": "code",
    "deepnote_to_be_reexecuted": false,
    "execution_millis": 4122,
    "execution_start": 1616401291564,
    "source_hash": "6e325aa5"
   },
   "outputs": [],
   "source": [
    "sentences = Phrases(sent)"
   ]
  },
  {
   "cell_type": "code",
   "execution_count": 7,
   "metadata": {
    "cell_id": "00008-e50769a5-f1d3-418b-b890-32c51eb40f8c",
    "deepnote_cell_type": "code",
    "deepnote_to_be_reexecuted": false,
    "execution_millis": 9779,
    "execution_start": 1616401295725,
    "source_hash": "43ee52bf"
   },
   "outputs": [],
   "source": [
    "bigram = Phraser(sentences)"
   ]
  },
  {
   "cell_type": "code",
   "execution_count": 8,
   "metadata": {
    "cell_id": "00009-4ed255c8-7be9-46fb-b053-0d599d629b03",
    "deepnote_cell_type": "code",
    "deepnote_to_be_reexecuted": false,
    "execution_millis": 20,
    "execution_start": 1616401305507,
    "source_hash": "f99f3cba"
   },
   "outputs": [],
   "source": [
    "sentences = bigram[sent]"
   ]
  },
  {
   "cell_type": "markdown",
   "metadata": {
    "cell_id": "00010-2f57a133-daad-44ba-93ec-c28b69bb01c7",
    "deepnote_cell_type": "markdown"
   },
   "source": [
    "## Gensim word to vector"
   ]
  },
  {
   "cell_type": "code",
   "execution_count": 9,
   "metadata": {
    "cell_id": "00011-a9f92ee9-64b7-4294-b250-0e05e6f818cb",
    "deepnote_cell_type": "code",
    "deepnote_to_be_reexecuted": false,
    "execution_millis": 15,
    "execution_start": 1616401305539,
    "source_hash": "ff3d48e1"
   },
   "outputs": [
    {
     "data": {
      "text/plain": [
       "8"
      ]
     },
     "execution_count": 9,
     "metadata": {},
     "output_type": "execute_result"
    }
   ],
   "source": [
    "cores = multiprocessing.cpu_count() \n",
    "cores"
   ]
  },
  {
   "cell_type": "code",
   "execution_count": 10,
   "metadata": {
    "cell_id": "00014-6d573faf-2f90-47d7-be0b-5b67a23f76be",
    "deepnote_cell_type": "code",
    "deepnote_to_be_reexecuted": false,
    "execution_millis": 4,
    "execution_start": 1616401340647,
    "source_hash": "f2764f2d",
    "tags": []
   },
   "outputs": [
    {
     "data": {
      "text/plain": [
       "<gensim.interfaces.TransformedCorpus at 0x206beccdc08>"
      ]
     },
     "execution_count": 10,
     "metadata": {},
     "output_type": "execute_result"
    }
   ],
   "source": [
    "sentences"
   ]
  },
  {
   "cell_type": "code",
   "execution_count": 11,
   "metadata": {
    "cell_id": "00012-bbd54063-a701-4e40-bdc9-8824c5610c45",
    "deepnote_cell_type": "code",
    "deepnote_to_be_reexecuted": false,
    "execution_millis": 6,
    "execution_start": 1616401305552,
    "source_hash": "68849f17"
   },
   "outputs": [
    {
     "data": {
      "text/plain": [
       "30000"
      ]
     },
     "execution_count": 11,
     "metadata": {},
     "output_type": "execute_result"
    }
   ],
   "source": [
    "len(sentences)"
   ]
  },
  {
   "cell_type": "code",
   "execution_count": 12,
   "metadata": {
    "cell_id": "00016-84a64a79-a0e3-415c-99cf-d7ea779b022f",
    "deepnote_cell_type": "code",
    "deepnote_to_be_reexecuted": false,
    "execution_millis": 5001,
    "execution_start": 1616401557289,
    "source_hash": "1a664088",
    "tags": []
   },
   "outputs": [],
   "source": [
    "documents = [TaggedDocument(doc, [i]) for i, doc in enumerate(sentences)]"
   ]
  },
  {
   "cell_type": "code",
   "execution_count": 13,
   "metadata": {
    "cell_id": "00013-ff038020-5a5e-4b5c-9238-2d1a0ce0bdf2",
    "deepnote_cell_type": "code",
    "deepnote_to_be_reexecuted": false,
    "execution_millis": 1,
    "execution_start": 1616401622617,
    "source_hash": "d143affa"
   },
   "outputs": [
    {
     "name": "stderr",
     "output_type": "stream",
     "text": [
      "C:\\Users\\achenu\\Anaconda3\\envs\\FAQ\\lib\\site-packages\\gensim\\models\\doc2vec.py:319: UserWarning: The parameter `size` is deprecated, will be removed in 4.0.0, use `vector_size` instead.\n",
      "  warnings.warn(\"The parameter `size` is deprecated, will be removed in 4.0.0, use `vector_size` instead.\")\n"
     ]
    }
   ],
   "source": [
    "d2v_model = Doc2Vec(min_count=50,\n",
    "                     window=2,\n",
    "                     size=300, \n",
    "                     alpha=0.025, \n",
    "                     min_alpha=0.025)"
   ]
  },
  {
   "cell_type": "code",
   "execution_count": 14,
   "metadata": {
    "cell_id": "00016-6145baf9-4702-479e-9278-48ea007413ca",
    "deepnote_cell_type": "code",
    "deepnote_to_be_reexecuted": false,
    "execution_millis": 7094,
    "execution_start": 1616401626408,
    "source_hash": "e0c64742",
    "tags": []
   },
   "outputs": [
    {
     "name": "stdout",
     "output_type": "stream",
     "text": [
      "time to build vocabulary :  0.13\n"
     ]
    }
   ],
   "source": [
    "t = time() \n",
    "d2v_model.build_vocab(documents, progress_per=10000)\n",
    "print('time to build vocabulary : ', format(round((time() - t) / 60, 2)))"
   ]
  },
  {
   "cell_type": "code",
   "execution_count": 15,
   "metadata": {
    "cell_id": "00014-c52d49b7-6f4a-4ba9-a21e-272d4fc89b54",
    "deepnote_cell_type": "code",
    "deepnote_to_be_reexecuted": false,
    "execution_millis": 1,
    "execution_start": 1616405718978,
    "source_hash": "f70ebf46"
   },
   "outputs": [],
   "source": [
    "#t = time() \n",
    "#d2v_model.build_vocab(sentences)\n",
    "#for epoch in range(50):\n",
    "#    d2v_model.train(sentences)\n",
    "#    d2v_model.alpha -= 0.002  \n",
    "#    d2v_model.min_alpha = model.alpha\n",
    "#print('time to build vocabulary : ', format(round((time() - t) / 60, 2)))"
   ]
  },
  {
   "cell_type": "markdown",
   "metadata": {
    "cell_id": "00015-1d422e9e-6f0f-41af-aa1d-44479792d735",
    "deepnote_cell_type": "markdown"
   },
   "source": [
    "## Training Model"
   ]
  },
  {
   "cell_type": "code",
   "execution_count": 16,
   "metadata": {
    "cell_id": "00016-0cf6c89b-0684-449f-bc61-898f6e80ceae",
    "deepnote_cell_type": "code",
    "deepnote_to_be_reexecuted": false,
    "execution_millis": 246718,
    "execution_start": 1616401647217,
    "source_hash": "60b94eb4"
   },
   "outputs": [
    {
     "name": "stdout",
     "output_type": "stream",
     "text": [
      "Time to train the model: 2.33 mins\n"
     ]
    }
   ],
   "source": [
    "t = time()\n",
    "d2v_model.train(documents, total_examples=d2v_model.corpus_count, epochs=50, report_delay=1)\n",
    "print('Time to train the model: {} mins'.format(round((time() - t) / 60, 2)))"
   ]
  },
  {
   "cell_type": "code",
   "execution_count": 17,
   "metadata": {
    "cell_id": "00018-b610a3b4-ca9a-4c23-8dac-09dc1f6398e2",
    "deepnote_cell_type": "code",
    "deepnote_to_be_reexecuted": false,
    "execution_millis": 147,
    "execution_start": 1616401912318,
    "source_hash": "7f4685cf"
   },
   "outputs": [],
   "source": [
    "with open('../../data/d2v_pretrained_weights.pickle', 'wb') as handle:\n",
    "    pickle.dump(d2v_model, handle, protocol=pickle.HIGHEST_PROTOCOL)"
   ]
  },
  {
   "cell_type": "code",
   "execution_count": 18,
   "metadata": {
    "cell_id": "00019-2a99233b-fc88-4f1f-b0e0-b2c7c2bbd507",
    "deepnote_cell_type": "code",
    "deepnote_to_be_reexecuted": false,
    "execution_millis": 16,
    "execution_start": 1616401915168,
    "source_hash": "8c9bcdd5"
   },
   "outputs": [
    {
     "name": "stderr",
     "output_type": "stream",
     "text": [
      "C:\\Users\\achenu\\Anaconda3\\envs\\FAQ\\lib\\site-packages\\ipykernel_launcher.py:1: DeprecationWarning: Call to deprecated `syn0` (Attribute will be removed in 4.0.0, use self.vectors instead).\n",
      "  \"\"\"Entry point for launching an IPython kernel.\n"
     ]
    }
   ],
   "source": [
    "pretrained_weights = d2v_model.wv.syn0\n",
    "vocab_size, embedding_size = pretrained_weights.shape"
   ]
  },
  {
   "cell_type": "code",
   "execution_count": 19,
   "metadata": {
    "cell_id": "00020-9aecd422-ec9c-4c9d-8e00-148c6d68d8f0",
    "deepnote_cell_type": "code",
    "deepnote_to_be_reexecuted": false,
    "execution_millis": 53,
    "execution_start": 1616401918091,
    "source_hash": "92e2ba41"
   },
   "outputs": [
    {
     "name": "stderr",
     "output_type": "stream",
     "text": [
      "C:\\Users\\achenu\\Anaconda3\\envs\\FAQ\\lib\\site-packages\\ipykernel_launcher.py:1: DeprecationWarning: Call to deprecated `most_similar` (Method will be removed in 4.0.0, use self.wv.most_similar() instead).\n",
      "  \"\"\"Entry point for launching an IPython kernel.\n"
     ]
    },
    {
     "data": {
      "text/plain": [
       "[('Python', 0.3155953288078308),\n",
       " ('dist_packages', 0.24134019017219543),\n",
       " ('appropriate', 0.2262609899044037),\n",
       " ('manual', 0.223725825548172),\n",
       " ('Unix', 0.2166321575641632),\n",
       " ('designed', 0.21517397463321686),\n",
       " ('PyQt', 0.2071758657693863),\n",
       " ('Perl', 0.19983679056167603),\n",
       " ('linux_x', 0.19633597135543823),\n",
       " ('recursively', 0.19388741254806519)]"
      ]
     },
     "execution_count": 19,
     "metadata": {},
     "output_type": "execute_result"
    }
   ],
   "source": [
    "d2v_model.most_similar(['python'])"
   ]
  },
  {
   "cell_type": "code",
   "execution_count": 20,
   "metadata": {
    "cell_id": "00021-9e3ac57c-7feb-4f74-a5db-4e309a43b8c5",
    "deepnote_cell_type": "code",
    "deepnote_to_be_reexecuted": false,
    "execution_millis": 1,
    "execution_start": 1616405996982,
    "source_hash": "56c6af01",
    "tags": []
   },
   "outputs": [],
   "source": [
    "# © Axel CHENU 2021"
   ]
  }
 ],
 "metadata": {
  "deepnote": {},
  "deepnote_execution_queue": [],
  "deepnote_notebook_id": "9722cbea-fe38-4b45-b46d-c06640dd9ec6",
  "kernelspec": {
   "display_name": "Python 3",
   "language": "python",
   "name": "python3"
  },
  "language_info": {
   "codemirror_mode": {
    "name": "ipython",
    "version": 3
   },
   "file_extension": ".py",
   "mimetype": "text/x-python",
   "name": "python",
   "nbconvert_exporter": "python",
   "pygments_lexer": "ipython3",
   "version": "3.7.10"
  }
 },
 "nbformat": 4,
 "nbformat_minor": 4
}
