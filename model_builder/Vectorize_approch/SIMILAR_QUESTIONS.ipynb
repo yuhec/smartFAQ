{
  "cells": [
    {
      "cell_type": "markdown",
      "source": "# IMPORT PACKAGES\n---\n",
      "metadata": {
        "cell_id": "00000-5268c44a-2905-4b07-ae75-727aa2a670d3",
        "deepnote_cell_type": "markdown"
      }
    },
    {
      "cell_type": "code",
      "metadata": {
        "cell_id": "00001-00f8534d-d72d-46e7-a0f8-ad854c0e22b7",
        "deepnote_cell_type": "code"
      },
      "source": "import pandas as pd \nimport numpy as np\nimport joblib\nimport spacy\nimport seaborn as sns\nimport matplotlib as mpl\nimport matplotlib.pyplot as plt\n%matplotlib inline \n\nfrom bs4 import BeautifulSoup\nfrom sklearn.metrics import *\nfrom sklearn.model_selection import train_test_split\nfrom tensorflow import keras\n\nimport nltk\nfrom nltk.corpus import stopwords\n\nimport gensim\nfrom gensim.models import Word2Vec\nfrom gensim.utils import simple_preprocess\nfrom gensim.models import FastText\nfrom gensim.models import TfidfModel\nfrom gensim.corpora import Dictionary\nfrom sklearn.neighbors import NearestNeighbors\n\nfrom sklearn.feature_extraction.text import TfidfVectorizer\n\n\nprint(\" setup complete\")",
      "execution_count": null,
      "outputs": [
        {
          "name": "stdout",
          "output_type": "stream",
          "text": " setup complete\n"
        }
      ]
    },
    {
      "cell_type": "markdown",
      "source": "# LOAD DATA\n---\n",
      "metadata": {
        "cell_id": "00002-41348e46-209a-4550-a4f0-63fcc0806380",
        "deepnote_cell_type": "markdown"
      }
    },
    {
      "cell_type": "code",
      "metadata": {
        "cell_id": "00003-c5db8b3c-29b8-46a7-9f40-68218a399865",
        "deepnote_cell_type": "code"
      },
      "source": "df_questions = pd.read_csv('../data/questions.csv', encoding = \"ISO-8859-1\", nrows=30000, usecols=['Id', 'Title', 'Score','Body'])\ndf_questions.shape",
      "execution_count": null,
      "outputs": [
        {
          "data": {
            "text/plain": "(30000, 4)"
          },
          "execution_count": 2,
          "metadata": {},
          "output_type": "execute_result"
        }
      ]
    },
    {
      "cell_type": "code",
      "metadata": {
        "cell_id": "00004-a7ac952b-ea4f-4d57-af99-ac277edad2f6",
        "deepnote_cell_type": "code"
      },
      "source": "df_questions.head(10)",
      "execution_count": null,
      "outputs": [
        {
          "data": {
            "text/html": "<div>\n<style scoped>\n    .dataframe tbody tr th:only-of-type {\n        vertical-align: middle;\n    }\n\n    .dataframe tbody tr th {\n        vertical-align: top;\n    }\n\n    .dataframe thead th {\n        text-align: right;\n    }\n</style>\n<table border=\"1\" class=\"dataframe\">\n  <thead>\n    <tr style=\"text-align: right;\">\n      <th></th>\n      <th>Id</th>\n      <th>Score</th>\n      <th>Title</th>\n      <th>Body</th>\n    </tr>\n  </thead>\n  <tbody>\n    <tr>\n      <th>0</th>\n      <td>469</td>\n      <td>21</td>\n      <td>How can I find the full path to a font from it...</td>\n      <td>&lt;p&gt;I am using the Photoshop's javascript API t...</td>\n    </tr>\n    <tr>\n      <th>1</th>\n      <td>502</td>\n      <td>27</td>\n      <td>Get a preview JPEG of a PDF on Windows?</td>\n      <td>&lt;p&gt;I have a cross-platform (Python) applicatio...</td>\n    </tr>\n    <tr>\n      <th>2</th>\n      <td>535</td>\n      <td>40</td>\n      <td>Continuous Integration System for a Python Cod...</td>\n      <td>&lt;p&gt;I'm starting work on a hobby project with a...</td>\n    </tr>\n    <tr>\n      <th>3</th>\n      <td>594</td>\n      <td>25</td>\n      <td>cx_Oracle: How do I iterate over a result set?</td>\n      <td>&lt;p&gt;There are several ways to iterate over a re...</td>\n    </tr>\n    <tr>\n      <th>4</th>\n      <td>683</td>\n      <td>28</td>\n      <td>Using 'in' to match an attribute of Python obj...</td>\n      <td>&lt;p&gt;I don't remember whether I was dreaming or ...</td>\n    </tr>\n    <tr>\n      <th>5</th>\n      <td>742</td>\n      <td>30</td>\n      <td>Class views in Django</td>\n      <td>&lt;p&gt;&lt;a href=\"http://www.djangoproject.com/\"&gt;Dja...</td>\n    </tr>\n    <tr>\n      <th>6</th>\n      <td>766</td>\n      <td>20</td>\n      <td>Python and MySQL</td>\n      <td>&lt;p&gt;I can get Python to work with Postgresql bu...</td>\n    </tr>\n    <tr>\n      <th>7</th>\n      <td>773</td>\n      <td>256</td>\n      <td>How do I use Python's itertools.groupby()?</td>\n      <td>&lt;p&gt;I haven't been able to find an understandab...</td>\n    </tr>\n    <tr>\n      <th>8</th>\n      <td>972</td>\n      <td>364</td>\n      <td>Adding a Method to an Existing Object Instance</td>\n      <td>&lt;p&gt;I've read that it is possible to add a meth...</td>\n    </tr>\n    <tr>\n      <th>9</th>\n      <td>1476</td>\n      <td>251</td>\n      <td>How do you express binary literals in Python?</td>\n      <td>&lt;p&gt;How do you express an integer as a binary n...</td>\n    </tr>\n  </tbody>\n</table>\n</div>",
            "text/plain": "     Id  Score                                              Title  \\\n0   469     21  How can I find the full path to a font from it...   \n1   502     27            Get a preview JPEG of a PDF on Windows?   \n2   535     40  Continuous Integration System for a Python Cod...   \n3   594     25     cx_Oracle: How do I iterate over a result set?   \n4   683     28  Using 'in' to match an attribute of Python obj...   \n5   742     30                              Class views in Django   \n6   766     20                                   Python and MySQL   \n7   773    256         How do I use Python's itertools.groupby()?   \n8   972    364     Adding a Method to an Existing Object Instance   \n9  1476    251      How do you express binary literals in Python?   \n\n                                                Body  \n0  <p>I am using the Photoshop's javascript API t...  \n1  <p>I have a cross-platform (Python) applicatio...  \n2  <p>I'm starting work on a hobby project with a...  \n3  <p>There are several ways to iterate over a re...  \n4  <p>I don't remember whether I was dreaming or ...  \n5  <p><a href=\"http://www.djangoproject.com/\">Dja...  \n6  <p>I can get Python to work with Postgresql bu...  \n7  <p>I haven't been able to find an understandab...  \n8  <p>I've read that it is possible to add a meth...  \n9  <p>How do you express an integer as a binary n...  "
          },
          "execution_count": 3,
          "metadata": {},
          "output_type": "execute_result"
        }
      ]
    },
    {
      "cell_type": "code",
      "metadata": {
        "cell_id": "00005-73ad38d1-be05-4664-a150-b50003848cd7",
        "deepnote_cell_type": "code"
      },
      "source": "print('Title 1 : ', df_questions.iloc[0, 2])\nprint('Question 1 : ', df_questions.iloc[0, 3])\n\nprint('Title 2 : ', df_questions.iloc[1, 2])\nprint('Question 2 : ', df_questions.iloc[1, 3])\n\nprint('Title 3 : ', df_questions.iloc[2, 2])\nprint('Question 3 : ', df_questions.iloc[2, 3])\n\nprint('Title 4 : ', df_questions.iloc[3, 2])\nprint('Question 4 : ', df_questions.iloc[3, 3])\n\nprint('Title 5 : ', df_questions.iloc[4, 2])\nprint('Question 5 : ', df_questions.iloc[4, 3])\n",
      "execution_count": null,
      "outputs": [
        {
          "name": "stdout",
          "output_type": "stream",
          "text": "Title 1 :  How can I find the full path to a font from its display name on a Mac?\nQuestion 1 :  <p>I am using the Photoshop's javascript API to find the fonts in a given PSD.</p>\n\n<p>Given a font name returned by the API, I want to find the actual physical font file that that font name corresponds to on the disc.</p>\n\n<p>This is all happening in a python program running on OSX so I guess I'm looking for one of:</p>\n\n<ul>\n<li>Some Photoshop javascript</li>\n<li>A Python function</li>\n<li>An OSX API that I can call from python</li>\n</ul>\n\nTitle 2 :  Get a preview JPEG of a PDF on Windows?\nQuestion 2 :  <p>I have a cross-platform (Python) application which needs to generate a JPEG preview of the first page of a PDF.</p>\n\n<p>On the Mac I am spawning <a href=\"http://developer.apple.com/documentation/Darwin/Reference/ManPages/man1/sips.1.html\">sips</a>.  Is there something similarly simple I can do on Windows?</p>\n\nTitle 3 :  Continuous Integration System for a Python Codebase\nQuestion 3 :  <p>I'm starting work on a hobby project with a python codebase and would like to set up some form of continuous integration (i.e. running a battery of test-cases each time a check-in is made and sending nag e-mails to responsible persons when the tests fail) similar to CruiseControl or TeamCity.</p>\n\n<p>I realize I could do this with hooks in most VCSes, but that requires that the tests run on the same machine as the version control server, which isn't as elegant as I would like. Does anyone have any suggestions for a small, user-friendly, open-source continuous integration system suitable for a Python codebase?</p>\n\nTitle 4 :  cx_Oracle: How do I iterate over a result set?\nQuestion 4 :  <p>There are several ways to iterate over a result set. What are the tradeoff of each?</p>\n\nTitle 5 :  Using 'in' to match an attribute of Python objects in an array\nQuestion 5 :  <p>I don't remember whether I was dreaming or not but I seem to recall there being a function which allowed something like,</p>\r\n\r\n<pre><code>foo in iter_attr(array of python objects, attribute name)</code></pre>\r\n\r\n<p>I've looked over the docs but this kind of thing doesn't fall under any obvious listed headers</p>\n"
        }
      ]
    },
    {
      "cell_type": "markdown",
      "source": "## VARIABLES",
      "metadata": {
        "cell_id": "00006-7f1db18b-4e54-4517-a558-d1c7e46ac22d",
        "deepnote_cell_type": "markdown"
      }
    },
    {
      "cell_type": "code",
      "metadata": {
        "cell_id": "00007-f5f63f53-725a-47ad-baf5-8a853d1e62ad",
        "deepnote_cell_type": "code"
      },
      "source": "",
      "execution_count": null,
      "outputs": []
    },
    {
      "cell_type": "markdown",
      "source": "# PREPROCESSING\n---\nfrom bs4 import BeautifulSoup\n- --> grab the inside 'p'\n- --> concatenate the text ",
      "metadata": {
        "cell_id": "00008-726d1485-f42d-446f-bad7-29ee2077e71b",
        "deepnote_cell_type": "markdown"
      }
    },
    {
      "cell_type": "code",
      "metadata": {
        "cell_id": "00009-6f01acd0-20ec-49aa-942e-470a8ba26d48",
        "deepnote_cell_type": "code"
      },
      "source": "def get_question(html_text):\n  soup = BeautifulSoup(html_text, 'lxml')\n  question = ' '.join([t.text for t in soup.find_all('p')])\n  return question\n\n#Transforming questions to list for ease of processing\nquestion_list = df_questions['Body'].apply(get_question).values.tolist()",
      "execution_count": null,
      "outputs": []
    },
    {
      "cell_type": "code",
      "metadata": {
        "cell_id": "00010-9dafa837-6e72-47ed-8915-8cd8764ce411",
        "deepnote_cell_type": "code"
      },
      "source": "question_list[0]",
      "execution_count": null,
      "outputs": [
        {
          "data": {
            "text/plain": "\"I am using the Photoshop's javascript API to find the fonts in a given PSD. Given a font name returned by the API, I want to find the actual physical font file that that font name corresponds to on the disc. This is all happening in a python program running on OSX so I guess I'm looking for one of:\""
          },
          "execution_count": 6,
          "metadata": {},
          "output_type": "execute_result"
        }
      ]
    },
    {
      "cell_type": "code",
      "metadata": {
        "cell_id": "00011-d39e64f0-6daf-4007-a315-df0161f7a83e",
        "deepnote_cell_type": "code"
      },
      "source": "question_list[1]",
      "execution_count": null,
      "outputs": [
        {
          "data": {
            "text/plain": "'I have a cross-platform (Python) application which needs to generate a JPEG preview of the first page of a PDF. On the Mac I am spawning sips.  Is there something similarly simple I can do on Windows?'"
          },
          "execution_count": 7,
          "metadata": {},
          "output_type": "execute_result"
        }
      ]
    },
    {
      "cell_type": "markdown",
      "source": "## TOKENIZATION : GENSIM PROCESS",
      "metadata": {
        "cell_id": "00012-19af3906-1af5-4364-8f73-e18f2d073dd5",
        "deepnote_cell_type": "markdown"
      }
    },
    {
      "cell_type": "code",
      "metadata": {
        "cell_id": "00013-85d81ec0-a35a-4af1-a59b-7972829abb3b",
        "deepnote_cell_type": "code"
      },
      "source": "def sent_to_words(sentences):\n    for sentence in sentences:\n        yield(simple_preprocess(str(sentence), deacc=True)) \nquestion_words = list(sent_to_words(question_list))",
      "execution_count": null,
      "outputs": []
    },
    {
      "cell_type": "code",
      "metadata": {
        "cell_id": "00014-2126a2df-b60b-49b8-91e1-e78e919d412d",
        "deepnote_cell_type": "code"
      },
      "source": "# QUESTION 1 \n# list of the 10 first caraters\nquestion_list[0][0:9]",
      "execution_count": null,
      "outputs": [
        {
          "data": {
            "text/plain": "'I am usin'"
          },
          "execution_count": 9,
          "metadata": {},
          "output_type": "execute_result"
        }
      ]
    },
    {
      "cell_type": "code",
      "metadata": {
        "cell_id": "00015-f27e34d8-22cc-4cf4-b3f2-14616eed5399",
        "deepnote_cell_type": "code"
      },
      "source": "# QUESTION 1 \n# list of the 10 first Words, without the 'useless\" words, because they are too short'\nquestion_words[0][0:9]",
      "execution_count": null,
      "outputs": [
        {
          "data": {
            "text/plain": "['am', 'using', 'the', 'photoshop', 'javascript', 'api', 'to', 'find', 'the']"
          },
          "execution_count": 10,
          "metadata": {},
          "output_type": "execute_result"
        }
      ]
    },
    {
      "cell_type": "code",
      "metadata": {
        "cell_id": "00016-2822bd02-c5de-4c1c-a46e-f6576fd78d46",
        "deepnote_cell_type": "code"
      },
      "source": "# QUESTION 1 \n# list of the 10 first caraters\nquestion_list[1][0:9]",
      "execution_count": null,
      "outputs": [
        {
          "data": {
            "text/plain": "'I have a '"
          },
          "execution_count": 11,
          "metadata": {},
          "output_type": "execute_result"
        }
      ]
    },
    {
      "cell_type": "code",
      "metadata": {
        "cell_id": "00017-603d917e-d7be-4c20-94f6-ecdeb3fa1c9a",
        "deepnote_cell_type": "code"
      },
      "source": "# QUESTION 1 \n# list of the 10 first Words, without the 'useless\" words, because they are too short'\nquestion_words[1][0:9]",
      "execution_count": null,
      "outputs": [
        {
          "data": {
            "text/plain": "['have',\n 'cross',\n 'platform',\n 'python',\n 'application',\n 'which',\n 'needs',\n 'to',\n 'generate']"
          },
          "execution_count": 12,
          "metadata": {},
          "output_type": "execute_result"
        }
      ]
    },
    {
      "cell_type": "code",
      "metadata": {
        "cell_id": "00018-22e65086-a4cd-4387-8bf4-302f9e10aac5",
        "deepnote_cell_type": "code"
      },
      "source": "lengths = [len(question) for question in question_words]\nfig, ax = plt.subplots(figsize=(7, 5))\nsns.histplot(lengths, bins = 100)\n\nax.set_xlabel('nb words')\nax.set_title('how many words per Questions ?')\n\nplt.show()\n\nprint('Average word count of questions is %s' % np.mean(lengths), 'words per question')",
      "execution_count": null,
      "outputs": [
        {
          "data": {
            "image/png": "[encoded data removed]",
            "text/plain": "<Figure size 504x360 with 1 Axes>"
          },
          "metadata": {
            "needs_background": "light"
          },
          "output_type": "display_data"
        },
        {
          "name": "stdout",
          "output_type": "stream",
          "text": "Average word count of questions is 80.7959 words per question\n"
        }
      ]
    },
    {
      "cell_type": "code",
      "metadata": {
        "cell_id": "00019-da65f126-683d-4f24-a6f7-d597c8e686f4",
        "deepnote_cell_type": "code"
      },
      "source": "lengths = [len(question) for question in question_words]\nfig, ax = plt.subplots(figsize=(7, 5))\nsns.set_theme(style=\"white\", context=\"talk\")\n\nsns.barplot(lengths, palette=\"rocket\")\n\nax.set_xlabel('nb words')\nax.set_title('how many words per Questions ?')\n\nplt.show()\n\nprint('Average word count of questions is %s' % np.mean(lengths), 'words per question')",
      "execution_count": null,
      "outputs": [
        {
          "name": "stderr",
          "output_type": "stream",
          "text": "C:\\Users\\achenu\\Anaconda3\\envs\\FAQ\\lib\\site-packages\\seaborn\\_decorators.py:43: FutureWarning: Pass the following variable as a keyword arg: x. From version 0.12, the only valid positional argument will be `data`, and passing other arguments without an explicit keyword will result in an error or misinterpretation.\n  FutureWarning\n"
        },
        {
          "data": {
            "image/png": "[encoded data removed]",
            "text/plain": "<Figure size 504x360 with 1 Axes>"
          },
          "metadata": {
            "needs_background": "light"
          },
          "output_type": "display_data"
        },
        {
          "name": "stdout",
          "output_type": "stream",
          "text": "Average word count of questions is 80.7959 words per question\n"
        }
      ]
    },
    {
      "cell_type": "markdown",
      "source": "# STOP WORDS",
      "metadata": {
        "cell_id": "00020-06ae0eeb-e75e-4e88-ab3e-0964781dbc83",
        "deepnote_cell_type": "markdown"
      }
    },
    {
      "cell_type": "code",
      "metadata": {
        "cell_id": "00021-5625aadd-5834-4dcc-8690-7fc1d022848e",
        "deepnote_cell_type": "code"
      },
      "source": "import nltk\nnltk.download('stopwords')",
      "execution_count": null,
      "outputs": [
        {
          "name": "stderr",
          "output_type": "stream",
          "text": "[nltk_data] Downloading package stopwords to\n[nltk_data]     C:\\Users\\achenu\\AppData\\Roaming\\nltk_data...\n[nltk_data]   Package stopwords is already up-to-date!\n"
        },
        {
          "data": {
            "text/plain": "True"
          },
          "execution_count": 15,
          "metadata": {},
          "output_type": "execute_result"
        }
      ]
    },
    {
      "cell_type": "code",
      "metadata": {
        "cell_id": "00022-75ba8f99-64e8-49cb-8b3d-eacc9316aa37",
        "deepnote_cell_type": "code"
      },
      "source": "stop_words = stopwords.words('english')",
      "execution_count": null,
      "outputs": []
    },
    {
      "cell_type": "code",
      "metadata": {
        "cell_id": "00023-4765029b-4fed-4f68-bc8c-020ba36be833",
        "deepnote_cell_type": "code"
      },
      "source": "# Remove the stop words \ndef remove_stopwords(sentences):\n    filtered_words = [word for word in sentences if word not in stop_words]\n    return filtered_words",
      "execution_count": null,
      "outputs": []
    },
    {
      "cell_type": "code",
      "metadata": {
        "cell_id": "00024-1c7ba17f-25b7-4db5-b7ee-071975ff978f",
        "deepnote_cell_type": "code"
      },
      "source": "filtered_questions = [remove_stopwords(question) for question in question_words]",
      "execution_count": null,
      "outputs": []
    },
    {
      "cell_type": "code",
      "metadata": {
        "cell_id": "00025-6bd4ea73-8262-47b1-a75c-77d63c116fa9",
        "deepnote_cell_type": "code"
      },
      "source": "lengths = [len(question) for question in filtered_questions]\nfig, ax = plt.subplots(figsize=(7, 5))\nsns.histplot(lengths, bins = 100)\n\nax.set_xlabel('nb words')\nax.set_title('how many words per Questions with the question filtered ?')\n\nplt.show()\n\nprint('Average word count of questions is %s' % np.mean(lengths), 'words per question')",
      "execution_count": null,
      "outputs": [
        {
          "data": {
            "image/png": "[encoded data removed]",
            "text/plain": "<Figure size 504x360 with 1 Axes>"
          },
          "metadata": {},
          "output_type": "display_data"
        },
        {
          "name": "stdout",
          "output_type": "stream",
          "text": "Average word count of questions is 43.86006666666667 words per question\n"
        }
      ]
    },
    {
      "cell_type": "markdown",
      "source": "# WORD2VEC\n--- \n## variables for WORD2VEC",
      "metadata": {
        "cell_id": "00026-40927a0c-15c9-4fb6-bf67-9123d5d8e37d",
        "deepnote_cell_type": "markdown"
      }
    },
    {
      "cell_type": "code",
      "metadata": {
        "cell_id": "00027-b699cf0b-334a-4e65-a0d1-f8c0da5b06da",
        "deepnote_cell_type": "code"
      },
      "source": "size = 100\nwindow = 10\nepochs = 30",
      "execution_count": null,
      "outputs": []
    },
    {
      "cell_type": "code",
      "metadata": {
        "cell_id": "00028-01663a87-751c-4121-b623-fb69f2982f9b",
        "deepnote_cell_type": "code"
      },
      "source": "model_word2vec = Word2Vec(filtered_questions, size = size, window = window)",
      "execution_count": null,
      "outputs": []
    },
    {
      "cell_type": "code",
      "metadata": {
        "cell_id": "00029-50d72e9b-ad47-4c8f-bf07-387bdf5ebc89",
        "deepnote_cell_type": "code"
      },
      "source": "#Training model\nmodel_word2vec.train(filtered_questions, total_examples=len(filtered_questions), epochs=epochs)",
      "execution_count": null,
      "outputs": [
        {
          "data": {
            "text/plain": "(34920382, 39474060)"
          },
          "execution_count": 45,
          "metadata": {},
          "output_type": "execute_result"
        }
      ]
    },
    {
      "cell_type": "markdown",
      "source": "# FAST TEXT\n---\n[A Quick Overview of the Difference Between Word2vec and FastText](https://medium.com/swlh/a-quick-overview-of-the-main-difference-between-word2vec-and-fasttext-b9d3f6e274e9)\n\n- **WORD2VEC** treats each word in corpus like an atomic entity and generates a vector for each word. In this sense Word2vec is very much like Glove — both treat words as the smallest unit to train on.\n- **FastText** (which is essentially an extension of word2vec model), treats each word as composed of character ngrams. So the vector for a word is made of the sum of this character n grams",
      "metadata": {
        "cell_id": "00030-57516c89-2e4e-4ef7-b9f9-a645941e0238",
        "deepnote_cell_type": "markdown"
      }
    },
    {
      "cell_type": "code",
      "metadata": {
        "cell_id": "00031-5fac4417-035b-4567-b124-a68fb2c3659e",
        "deepnote_cell_type": "code"
      },
      "source": "fast_text_model = FastText(filtered_questions, size=size, window=window, min_count=5, workers=2,sg=1)",
      "execution_count": null,
      "outputs": []
    },
    {
      "cell_type": "code",
      "metadata": {
        "cell_id": "00032-3ea56df8-380a-4698-a38c-b8f14e3a5032",
        "deepnote_cell_type": "code"
      },
      "source": "# train model\n",
      "execution_count": null,
      "outputs": []
    },
    {
      "cell_type": "markdown",
      "source": "# TF-IDF \n---\n## Term Frequency – Inverse Document Frequency \nune mesure qui permet, à partir d’un ensemble de textes, de connaître l’importance relative de chaque mot.",
      "metadata": {
        "cell_id": "00033-6582546b-9e3b-42ca-823f-20843e779af0",
        "deepnote_cell_type": "markdown"
      }
    },
    {
      "cell_type": "code",
      "metadata": {
        "cell_id": "00034-a4a153f2-f839-4b97-bfe1-3b283a02c74f",
        "deepnote_cell_type": "code"
      },
      "source": "vectorizer = TfidfVectorizer()\nX = vectorizer.fit_transform(question_list)\nprint(X.shape)",
      "execution_count": null,
      "outputs": [
        {
          "name": "stdout",
          "output_type": "stream",
          "text": "(30000, 46433)\n"
        }
      ]
    },
    {
      "cell_type": "code",
      "metadata": {
        "cell_id": "00035-22de3474-5ad4-4e6d-ac21-4f8475f72b8a",
        "deepnote_cell_type": "code"
      },
      "source": "merged_questions = [' '.join(question) for question in filtered_questions]\ndocument_names = ['Doc {:d}'.format(i) for i in range(len(merged_questions))]",
      "execution_count": null,
      "outputs": []
    },
    {
      "cell_type": "code",
      "metadata": {
        "cell_id": "00036-f82f4a40-2379-4cad-b136-5990f424769b",
        "deepnote_cell_type": "code"
      },
      "source": "def get_tfidf(ngram_range=???, index=None):\n    vect = \n    tfidf =\n    return",
      "execution_count": null,
      "outputs": []
    },
    {
      "cell_type": "code",
      "metadata": {
        "cell_id": "00037-5f036dd8-fc0a-46b6-b710-75dac49d8a0e",
        "deepnote_cell_type": "code"
      },
      "source": "tfidf = ",
      "execution_count": null,
      "outputs": []
    },
    {
      "cell_type": "markdown",
      "source": "# SIMILAR QUESTIONS\n---\n",
      "metadata": {
        "cell_id": "00038-8d101d1e-eef6-4661-bf06-869b5b18cc47",
        "deepnote_cell_type": "markdown"
      }
    },
    {
      "cell_type": "code",
      "metadata": {
        "cell_id": "00039-586e0980-6c94-4935-a5b5-9ac95537f0c7",
        "deepnote_cell_type": "code"
      },
      "source": "# © Axel CHENU 2021",
      "execution_count": null,
      "outputs": []
    },
    {
      "cell_type": "markdown",
      "source": "<a style='text-decoration:none;line-height:16px;display:flex;color:#5B5B62;padding:10px;justify-content:end;' href='https://deepnote.com?utm_source=created-in-deepnote-cell&projectId=e80043e2-6875-4b65-a196-a0ffb97a1282' target=\"_blank\">\n<img style='display:inline;max-height:16px;margin:0px;margin-right:7.5px;' src='data:image/svg+xml;base64,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' > </img>\nCreated in <span style='font-weight:600;margin-left:4px;'>Deepnote</span></a>",
      "metadata": {
        "tags": [],
        "created_in_deepnote_cell": true,
        "deepnote_cell_type": "markdown"
      }
    }
  ],
  "nbformat": 4,
  "nbformat_minor": 4,
  "metadata": {
    "kernelspec": {
      "display_name": "Python 3",
      "language": "python",
      "name": "python3"
    },
    "language_info": {
      "codemirror_mode": {
        "name": "ipython",
        "version": 3
      },
      "file_extension": ".py",
      "mimetype": "text/x-python",
      "name": "python",
      "nbconvert_exporter": "python",
      "pygments_lexer": "ipython3",
      "version": "3.7.10"
    },
    "deepnote_notebook_id": "84e79d39-ff70-47f8-a08d-6911ad1b7b4b",
    "deepnote": {},
    "deepnote_execution_queue": []
  }
}