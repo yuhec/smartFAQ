{
  "cells": [
    {
      "cell_type": "markdown",
      "source": "# IMPORT PACKAGES\n---\n",
      "metadata": {
        "cell_id": "00000-4b442e06-4dee-4d3f-b68d-8f9eff6c0db2",
        "deepnote_cell_type": "markdown"
      }
    },
    {
      "cell_type": "code",
      "metadata": {
        "cell_id": "00001-2ed850e2-002d-48ad-898b-f60ca0ab851e",
        "deepnote_to_be_reexecuted": false,
        "source_hash": "c597760",
        "execution_start": 1616162086883,
        "execution_millis": 9337,
        "deepnote_cell_type": "code"
      },
      "source": "import pandas as pd \nimport numpy as np\nimport joblib\nimport spacy\nimport seaborn as sns\nimport matplotlib as mpl\nimport matplotlib.pyplot as plt\n%matplotlib inline \n\nfrom bs4 import BeautifulSoup\nfrom sklearn.metrics import *\nfrom sklearn.model_selection import train_test_split\nfrom tensorflow import keras\n\nimport nltk\nfrom nltk.corpus import stopwords\n\nimport gensim\nfrom gensim.models import Word2Vec\nfrom gensim.utils import simple_preprocess\nfrom gensim.models import FastText\nfrom gensim.models import TfidfModel\nfrom gensim.corpora import Dictionary\nfrom sklearn.neighbors import NearestNeighbors\nfrom sklearn.feature_extraction.text import TfidfVectorizer\n\nfrom gensim.models.doc2vec import Doc2Vec, TaggedDocument\n\nprint(\" setup complete\")",
      "execution_count": 1,
      "outputs": [
        {
          "name": "stdout",
          "text": " setup complete\n",
          "output_type": "stream"
        }
      ]
    },
    {
      "cell_type": "markdown",
      "source": "# LOAD DATA\n---\n",
      "metadata": {
        "cell_id": "00002-5677885c-1064-4157-acd8-48ee4d3000db",
        "deepnote_cell_type": "markdown"
      }
    },
    {
      "cell_type": "code",
      "metadata": {
        "cell_id": "00003-5131ab03-3f3c-4be6-9f92-99f4c84a701f",
        "deepnote_to_be_reexecuted": false,
        "source_hash": "1752efb",
        "execution_millis": 688,
        "execution_start": 1616162265667,
        "deepnote_cell_type": "code"
      },
      "source": "df_questions = pd.read_csv('../../data/Questions.csv', encoding = \"ISO-8859-1\", nrows=30000, usecols=['Id', 'Title', 'Score','Body'])\ndf_questions.shape",
      "execution_count": 7,
      "outputs": [
        {
          "output_type": "execute_result",
          "execution_count": 7,
          "data": {
            "text/plain": "(30000, 4)"
          },
          "metadata": {}
        }
      ]
    },
    {
      "cell_type": "code",
      "metadata": {
        "cell_id": "00004-3adf5650-34df-43ce-a2a5-ee1f226ad328",
        "deepnote_to_be_reexecuted": false,
        "source_hash": "8d93155f",
        "execution_start": 1616162270543,
        "execution_millis": 33,
        "deepnote_cell_type": "code"
      },
      "source": "df_questions.head(10)",
      "execution_count": 8,
      "outputs": [
        {
          "output_type": "execute_result",
          "execution_count": 8,
          "data": {
            "application/vnd.deepnote.dataframe.v2+json": {
              "row_count": 10,
              "column_count": 4,
              "columns": [
                {
                  "name": "Id",
                  "dtype": "int64",
                  "stats": {
                    "unique_count": 10,
                    "nan_count": 0,
                    "min": 469,
                    "max": 1476,
                    "histogram": [
                      {
                        "bin_start": 469,
                        "bin_end": 569.7,
                        "count": 3
                      },
                      {
                        "bin_start": 569.7,
                        "bin_end": 670.4,
                        "count": 1
                      },
                      {
                        "bin_start": 670.4,
                        "bin_end": 771.1,
                        "count": 3
                      },
                      {
                        "bin_start": 771.1,
                        "bin_end": 871.8,
                        "count": 1
                      },
                      {
                        "bin_start": 871.8,
                        "bin_end": 972.5,
                        "count": 1
                      },
                      {
                        "bin_start": 972.5,
                        "bin_end": 1073.2,
                        "count": 0
                      },
                      {
                        "bin_start": 1073.2,
                        "bin_end": 1173.9,
                        "count": 0
                      },
                      {
                        "bin_start": 1173.9,
                        "bin_end": 1274.6,
                        "count": 0
                      },
                      {
                        "bin_start": 1274.6,
                        "bin_end": 1375.3000000000002,
                        "count": 0
                      },
                      {
                        "bin_start": 1375.3000000000002,
                        "bin_end": 1476,
                        "count": 1
                      }
                    ]
                  }
                },
                {
                  "name": "Score",
                  "dtype": "int64",
                  "stats": {
                    "unique_count": 10,
                    "nan_count": 0,
                    "min": 20,
                    "max": 364,
                    "histogram": [
                      {
                        "bin_start": 20,
                        "bin_end": 54.4,
                        "count": 7
                      },
                      {
                        "bin_start": 54.4,
                        "bin_end": 88.8,
                        "count": 0
                      },
                      {
                        "bin_start": 88.8,
                        "bin_end": 123.19999999999999,
                        "count": 0
                      },
                      {
                        "bin_start": 123.19999999999999,
                        "bin_end": 157.6,
                        "count": 0
                      },
                      {
                        "bin_start": 157.6,
                        "bin_end": 192,
                        "count": 0
                      },
                      {
                        "bin_start": 192,
                        "bin_end": 226.39999999999998,
                        "count": 0
                      },
                      {
                        "bin_start": 226.39999999999998,
                        "bin_end": 260.79999999999995,
                        "count": 2
                      },
                      {
                        "bin_start": 260.79999999999995,
                        "bin_end": 295.2,
                        "count": 0
                      },
                      {
                        "bin_start": 295.2,
                        "bin_end": 329.59999999999997,
                        "count": 0
                      },
                      {
                        "bin_start": 329.59999999999997,
                        "bin_end": 364,
                        "count": 1
                      }
                    ]
                  }
                },
                {
                  "name": "Title",
                  "dtype": "object",
                  "stats": {
                    "unique_count": 10,
                    "nan_count": 0,
                    "categories": [
                      {
                        "name": "How can I find the full path to a font from its display name on a Mac?",
                        "count": 1
                      },
                      {
                        "name": "Get a preview JPEG of a PDF on Windows?",
                        "count": 1
                      },
                      {
                        "name": "8 others",
                        "count": 8
                      }
                    ]
                  }
                },
                {
                  "name": "Body",
                  "dtype": "object",
                  "stats": {
                    "unique_count": 10,
                    "nan_count": 0,
                    "categories": [
                      {
                        "name": "<p>I am using the Photoshop's javascript API to find the fonts in a given PSD.</p>\n\n<p>Given a font name returned by the API, I want to find the actual physical font file that that font name corresponds to on the disc.</p>\n\n<p>This is all happening in a python program running on OSX so I guess I'm looking for one of:</p>\n\n<ul>\n<li>Some Photoshop javascript</li>\n<li>A Python function</li>\n<li>An OSX API that I can call from python</li>\n</ul>\n",
                        "count": 1
                      },
                      {
                        "name": "<p>I have a cross-platform (Python) application which needs to generate a JPEG preview of the first page of a PDF.</p>\n\n<p>On the Mac I am spawning <a href=\"http://developer.apple.com/documentation/Darwin/Reference/ManPages/man1/sips.1.html\">sips</a>.  Is there something similarly simple I can do on Windows?</p>\n",
                        "count": 1
                      },
                      {
                        "name": "8 others",
                        "count": 8
                      }
                    ]
                  }
                },
                {
                  "name": "_deepnote_index_column",
                  "dtype": "int64"
                }
              ],
              "rows_top": [
                {
                  "Id": 469,
                  "Score": 21,
                  "Title": "How can I find the full path to a font from its display name on a Mac?",
                  "Body": "<p>I am using the Photoshop's javascript API to find the fonts in a given PSD.</p>\n\n<p>Given a font name returned by the API, I want to find the actual physical font file that that font name corresponds to on the disc.</p>\n\n<p>This is all happening in a python program running on OSX so I guess I'm looking for one of:</p>\n\n<ul>\n<li>Some Photoshop javascript</li>\n<li>A Python function</li>\n<li>An OSX API that I can call from python</li>\n</ul>\n",
                  "_deepnote_index_column": 0
                },
                {
                  "Id": 502,
                  "Score": 27,
                  "Title": "Get a preview JPEG of a PDF on Windows?",
                  "Body": "<p>I have a cross-platform (Python) application which needs to generate a JPEG preview of the first page of a PDF.</p>\n\n<p>On the Mac I am spawning <a href=\"http://developer.apple.com/documentation/Darwin/Reference/ManPages/man1/sips.1.html\">sips</a>.  Is there something similarly simple I can do on Windows?</p>\n",
                  "_deepnote_index_column": 1
                },
                {
                  "Id": 535,
                  "Score": 40,
                  "Title": "Continuous Integration System for a Python Codebase",
                  "Body": "<p>I'm starting work on a hobby project with a python codebase and would like to set up some form of continuous integration (i.e. running a battery of test-cases each time a check-in is made and sending nag e-mails to responsible persons when the tests fail) similar to CruiseControl or TeamCity.</p>\n\n<p>I realize I could do this with hooks in most VCSes, but that requires that the tests run on the same machine as the version control server, which isn't as elegant as I would like. Does anyone have any suggestions for a small, user-friendly, open-source continuous integration system suitable for a Python codebase?</p>\n",
                  "_deepnote_index_column": 2
                },
                {
                  "Id": 594,
                  "Score": 25,
                  "Title": "cx_Oracle: How do I iterate over a result set?",
                  "Body": "<p>There are several ways to iterate over a result set. What are the tradeoff of each?</p>\n",
                  "_deepnote_index_column": 3
                },
                {
                  "Id": 683,
                  "Score": 28,
                  "Title": "Using 'in' to match an attribute of Python objects in an array",
                  "Body": "<p>I don't remember whether I was dreaming or not but I seem to recall there being a function which allowed something like,</p>\r\n\r\n<pre><code>foo in iter_attr(array of python objects, attribute name)</code></pre>\r\n\r\n<p>I've looked over the docs but this kind of thing doesn't fall under any obvious listed headers</p>",
                  "_deepnote_index_column": 4
                },
                {
                  "Id": 742,
                  "Score": 30,
                  "Title": "Class views in Django",
                  "Body": "<p><a href=\"http://www.djangoproject.com/\">Django</a> view points to a function, which can be a problem if you want to change only a bit of functionality. Yes, I could have million keyword arguments and even more if statements in the function, but I was thinking more of an object oriented approach.</p>\r\n\r\n<p>For example, I have a page that displays a user. This page is very similar to page that displays a group, but it's still not so similar to just use another data model. Group also has members etc...</p>\r\n\r\n<p>One way would be to point views to class methods and then extend that class. Has anyone tried this approach or has any other idea? </p>",
                  "_deepnote_index_column": 5
                },
                {
                  "Id": 766,
                  "Score": 20,
                  "Title": "Python and MySQL",
                  "Body": "<p>I can get Python to work with Postgresql but I cannot get it to work with MySQL. The main problem is that on the shared hosting account I have I do not have the ability to install things such as Django or PySQL, I generally fail when installing them on my computer so maybe it's good I can't install on the host.</p>\r\n\r\n<p>I found <a href=\"http://barryp.org/software/bpgsql/\">bpgsql</a> really good because it does not require an install, it's a single file that I can look at, read and then call the functions of. Does anybody know of something like this for MySQL?</p>",
                  "_deepnote_index_column": 6
                },
                {
                  "Id": 773,
                  "Score": 256,
                  "Title": "How do I use Python's itertools.groupby()?",
                  "Body": "<p>I haven't been able to find an understandable explanation of how to actually use Python's <code>itertools.groupby()</code> function.  What I'm trying to do is this:</p>\n\n<ul>\n<li>Take a list - in this case, the children of an objectified <code>lxml</code> element</li>\n<li>Divide it into groups based on some criteria</li>\n<li>Then later iterate over each of these groups separately.</li>\n</ul>\n\n<p>I've reviewed <a href=\"https://docs.python.org/2/library/itertools.html\">the documentation</a>, and <a href=\"https://docs.python.org/2/library/itertools.html#itertools.groupby\">the examples</a>, but I've had trouble trying to apply them beyond a simple list of numbers. </p>\n\n<p>So, how do I use of <code>itertools.groupby()</code>?  Is there another technique I should be using?  Pointers to good \"prerequisite\" reading would also be appreciated.</p>\n",
                  "_deepnote_index_column": 7
                },
                {
                  "Id": 972,
                  "Score": 364,
                  "Title": "Adding a Method to an Existing Object Instance",
                  "Body": "<p>I've read that it is possible to add a method to an existing object (e.g. not in the class definition) in <strong>Python</strong>, I think this is called <em>Monkey Patching</em> (or in some cases <em>Duck Punching</em>). I understand that it's not always a good decision to do so. But, how might one do this?</p>\n\n<p><strong>UPDATE 8/04/2008 00:21:01 EST:</strong></p>\n\n<p><a href=\"http://stackoverflow.com/a/982\">That</a> looks like a good answer John Downey, I tried it but it appears that it ends up being not a <em>true</em> method.</p>\n\n<p>Your example defines the new patch function with an argument of <strong><code>self</code></strong>, but if you write actual code that way, the now patched class method asks for an argument named <code>self</code> (it doesn't automagically recognize it as the object to which it is supposed to bind, which is what would happen if defined within the class definition), meaning you have to call <strong><code>class.patch(obj)</code></strong> instead of just <strong><code>class.patch()</code></strong> if you want the same functionality as a <em>true</em> method.</p>\n\n<p><strong>It looks like Python isn't really treating it as a method, but more just as a variable which happens to be a function</strong> (and as such is callable).  Is there any way to attach an actual method to a class?</p>\n\n<p>Oh, and Ryan, <a href=\"http://pypi.python.org/pypi/monkey\">that</a> isn't exactly what I was looking for (it isn't a builtin functionality), but it is quite cool nonetheless.</p>\n",
                  "_deepnote_index_column": 8
                },
                {
                  "Id": 1476,
                  "Score": 251,
                  "Title": "How do you express binary literals in Python?",
                  "Body": "<p>How do you express an integer as a binary number with Python literals?</p>\n\n<p>I was easily able to find the answer for hex:</p>\n\n<pre><code>    &gt;&gt;&gt; 0x12AF\n    4783\n    &gt;&gt;&gt; 0x100\n    256\n</code></pre>\n\n<p>and octal:</p>\n\n<pre><code>    &gt;&gt;&gt; 01267\n    695\n    &gt;&gt;&gt; 0100\n    64\n</code></pre>\n\n<p><strong>How do you use literals to express binary in Python?</strong></p>\n\n<hr>\n\n<p><strong><em>Summary of Answers</em></strong></p>\n\n<ul>\n<li>Python 2.5 and earlier: can express binary using <code>int('01010101111',2)</code> but not with a literal.</li>\n<li>Python 2.5 and earlier: there is <em>no way</em> to express binary literals.</li>\n<li>Python 2.6 beta: You can do like so: <code>0b1100111</code> or <code>0B1100111</code>.</li>\n<li>Python 2.6 beta: will also allow <code>0o27</code> or <code>0O27</code> (second character is the letter O) to represent an octal.</li>\n<li>Python 3.0 beta: Same as 2.6, but will no longer allow the older <code>027</code> syntax for octals.</li>\n</ul>\n",
                  "_deepnote_index_column": 9
                }
              ],
              "rows_bottom": null
            },
            "text/plain": "     Id  Score                                              Title  \\\n0   469     21  How can I find the full path to a font from it...   \n1   502     27            Get a preview JPEG of a PDF on Windows?   \n2   535     40  Continuous Integration System for a Python Cod...   \n3   594     25     cx_Oracle: How do I iterate over a result set?   \n4   683     28  Using 'in' to match an attribute of Python obj...   \n5   742     30                              Class views in Django   \n6   766     20                                   Python and MySQL   \n7   773    256         How do I use Python's itertools.groupby()?   \n8   972    364     Adding a Method to an Existing Object Instance   \n9  1476    251      How do you express binary literals in Python?   \n\n                                                Body  \n0  <p>I am using the Photoshop's javascript API t...  \n1  <p>I have a cross-platform (Python) applicatio...  \n2  <p>I'm starting work on a hobby project with a...  \n3  <p>There are several ways to iterate over a re...  \n4  <p>I don't remember whether I was dreaming or ...  \n5  <p><a href=\"http://www.djangoproject.com/\">Dja...  \n6  <p>I can get Python to work with Postgresql bu...  \n7  <p>I haven't been able to find an understandab...  \n8  <p>I've read that it is possible to add a meth...  \n9  <p>How do you express an integer as a binary n...  ",
            "text/html": "<div>\n<style scoped>\n    .dataframe tbody tr th:only-of-type {\n        vertical-align: middle;\n    }\n\n    .dataframe tbody tr th {\n        vertical-align: top;\n    }\n\n    .dataframe thead th {\n        text-align: right;\n    }\n</style>\n<table border=\"1\" class=\"dataframe\">\n  <thead>\n    <tr style=\"text-align: right;\">\n      <th></th>\n      <th>Id</th>\n      <th>Score</th>\n      <th>Title</th>\n      <th>Body</th>\n    </tr>\n  </thead>\n  <tbody>\n    <tr>\n      <th>0</th>\n      <td>469</td>\n      <td>21</td>\n      <td>How can I find the full path to a font from it...</td>\n      <td>&lt;p&gt;I am using the Photoshop's javascript API t...</td>\n    </tr>\n    <tr>\n      <th>1</th>\n      <td>502</td>\n      <td>27</td>\n      <td>Get a preview JPEG of a PDF on Windows?</td>\n      <td>&lt;p&gt;I have a cross-platform (Python) applicatio...</td>\n    </tr>\n    <tr>\n      <th>2</th>\n      <td>535</td>\n      <td>40</td>\n      <td>Continuous Integration System for a Python Cod...</td>\n      <td>&lt;p&gt;I'm starting work on a hobby project with a...</td>\n    </tr>\n    <tr>\n      <th>3</th>\n      <td>594</td>\n      <td>25</td>\n      <td>cx_Oracle: How do I iterate over a result set?</td>\n      <td>&lt;p&gt;There are several ways to iterate over a re...</td>\n    </tr>\n    <tr>\n      <th>4</th>\n      <td>683</td>\n      <td>28</td>\n      <td>Using 'in' to match an attribute of Python obj...</td>\n      <td>&lt;p&gt;I don't remember whether I was dreaming or ...</td>\n    </tr>\n    <tr>\n      <th>5</th>\n      <td>742</td>\n      <td>30</td>\n      <td>Class views in Django</td>\n      <td>&lt;p&gt;&lt;a href=\"http://www.djangoproject.com/\"&gt;Dja...</td>\n    </tr>\n    <tr>\n      <th>6</th>\n      <td>766</td>\n      <td>20</td>\n      <td>Python and MySQL</td>\n      <td>&lt;p&gt;I can get Python to work with Postgresql bu...</td>\n    </tr>\n    <tr>\n      <th>7</th>\n      <td>773</td>\n      <td>256</td>\n      <td>How do I use Python's itertools.groupby()?</td>\n      <td>&lt;p&gt;I haven't been able to find an understandab...</td>\n    </tr>\n    <tr>\n      <th>8</th>\n      <td>972</td>\n      <td>364</td>\n      <td>Adding a Method to an Existing Object Instance</td>\n      <td>&lt;p&gt;I've read that it is possible to add a meth...</td>\n    </tr>\n    <tr>\n      <th>9</th>\n      <td>1476</td>\n      <td>251</td>\n      <td>How do you express binary literals in Python?</td>\n      <td>&lt;p&gt;How do you express an integer as a binary n...</td>\n    </tr>\n  </tbody>\n</table>\n</div>"
          },
          "metadata": {}
        }
      ]
    },
    {
      "cell_type": "code",
      "metadata": {
        "cell_id": "00005-428ef865-8c55-42f7-8221-e613014959ab",
        "deepnote_to_be_reexecuted": false,
        "source_hash": "9b5e323f",
        "execution_start": 1616162278135,
        "execution_millis": 19,
        "deepnote_cell_type": "code"
      },
      "source": "print('Title 1 : ', df_questions.iloc[0, 2])\nprint('Question 1 : ', df_questions.iloc[0, 3])\n\nprint('Title 2 : ', df_questions.iloc[1, 2])\nprint('Question 2 : ', df_questions.iloc[1, 3])\n\nprint('Title 3 : ', df_questions.iloc[2, 2])\nprint('Question 3 : ', df_questions.iloc[2, 3])\n\nprint('Title 4 : ', df_questions.iloc[3, 2])\nprint('Question 4 : ', df_questions.iloc[3, 3])\n\nprint('Title 5 : ', df_questions.iloc[4, 2])\nprint('Question 5 : ', df_questions.iloc[4, 3])\n",
      "execution_count": 9,
      "outputs": [
        {
          "name": "stdout",
          "text": "Title 1 :  How can I find the full path to a font from its display name on a Mac?\nQuestion 1 :  <p>I am using the Photoshop's javascript API to find the fonts in a given PSD.</p>\n\n<p>Given a font name returned by the API, I want to find the actual physical font file that that font name corresponds to on the disc.</p>\n\n<p>This is all happening in a python program running on OSX so I guess I'm looking for one of:</p>\n\n<ul>\n<li>Some Photoshop javascript</li>\n<li>A Python function</li>\n<li>An OSX API that I can call from python</li>\n</ul>\n\nTitle 2 :  Get a preview JPEG of a PDF on Windows?\nQuestion 2 :  <p>I have a cross-platform (Python) application which needs to generate a JPEG preview of the first page of a PDF.</p>\n\n<p>On the Mac I am spawning <a href=\"http://developer.apple.com/documentation/Darwin/Reference/ManPages/man1/sips.1.html\">sips</a>.  Is there something similarly simple I can do on Windows?</p>\n\nTitle 3 :  Continuous Integration System for a Python Codebase\nQuestion 3 :  <p>I'm starting work on a hobby project with a python codebase and would like to set up some form of continuous integration (i.e. running a battery of test-cases each time a check-in is made and sending nag e-mails to responsible persons when the tests fail) similar to CruiseControl or TeamCity.</p>\n\n<p>I realize I could do this with hooks in most VCSes, but that requires that the tests run on the same machine as the version control server, which isn't as elegant as I would like. Does anyone have any suggestions for a small, user-friendly, open-source continuous integration system suitable for a Python codebase?</p>\n\nTitle 4 :  cx_Oracle: How do I iterate over a result set?\nQuestion 4 :  <p>There are several ways to iterate over a result set. What are the tradeoff of each?</p>\n\nTitle 5 :  Using 'in' to match an attribute of Python objects in an array\nQuestion 5 :  <p>I don't remember whether I was dreaming or not but I seem to recall there being a function which allowed something like,</p>\r\n\r\n<pre><code>foo in iter_attr(array of python objects, attribute name)</code></pre>\r\n\r\n<p>I've looked over the docs but this kind of thing doesn't fall under any obvious listed headers</p>\n",
          "output_type": "stream"
        }
      ]
    },
    {
      "cell_type": "markdown",
      "source": "# PREPROCESSING\n---\nfrom bs4 import BeautifulSoup\n- --> grab the inside 'p'\n- --> concatenate the text ",
      "metadata": {
        "cell_id": "00008-8aa71aa3-b5fb-4c00-bcac-bf1f88cea5cd",
        "deepnote_cell_type": "markdown"
      }
    },
    {
      "cell_type": "code",
      "metadata": {
        "cell_id": "00009-eeb16011-cdde-4c53-b4ff-363cefb08a0c",
        "deepnote_to_be_reexecuted": false,
        "source_hash": "a1ed8d4e",
        "execution_start": 1616162289738,
        "execution_millis": 25542,
        "deepnote_cell_type": "code"
      },
      "source": "def get_question(html_text):\n  soup = BeautifulSoup(html_text, 'lxml')\n  question = ' '.join([t.text for t in soup.find_all('p')])\n  return question\n\n#Transforming questions to list for ease of processing\nquestion_list = df_questions['Body'].apply(get_question).values.tolist()",
      "execution_count": 10,
      "outputs": []
    },
    {
      "cell_type": "code",
      "metadata": {
        "cell_id": "00010-1bd5bd77-df0c-4a12-86cf-48231ca02dc6",
        "deepnote_to_be_reexecuted": false,
        "source_hash": "e4eb30aa",
        "execution_start": 1616162315326,
        "execution_millis": 20,
        "deepnote_cell_type": "code"
      },
      "source": "question_list[0]",
      "execution_count": 11,
      "outputs": [
        {
          "output_type": "execute_result",
          "execution_count": 11,
          "data": {
            "text/plain": "\"I am using the Photoshop's javascript API to find the fonts in a given PSD. Given a font name returned by the API, I want to find the actual physical font file that that font name corresponds to on the disc. This is all happening in a python program running on OSX so I guess I'm looking for one of:\""
          },
          "metadata": {}
        }
      ]
    },
    {
      "cell_type": "code",
      "metadata": {
        "cell_id": "00011-678f781e-f543-4979-93f4-7b48836d810d",
        "deepnote_to_be_reexecuted": false,
        "source_hash": "1f421e21",
        "execution_start": 1616162342599,
        "execution_millis": 8,
        "deepnote_cell_type": "code"
      },
      "source": "question_list[1]",
      "execution_count": 12,
      "outputs": [
        {
          "output_type": "execute_result",
          "execution_count": 12,
          "data": {
            "text/plain": "'I have a cross-platform (Python) application which needs to generate a JPEG preview of the first page of a PDF. On the Mac I am spawning sips.  Is there something similarly simple I can do on Windows?'"
          },
          "metadata": {}
        }
      ]
    },
    {
      "cell_type": "markdown",
      "source": "## TOKENIZATION : GENSIM PROCESS",
      "metadata": {
        "cell_id": "00012-c8657c21-8082-45c1-9c13-927110be0245",
        "deepnote_cell_type": "markdown"
      }
    },
    {
      "cell_type": "code",
      "metadata": {
        "cell_id": "00013-874db37c-14c7-45e8-8515-17dd573116c3",
        "deepnote_to_be_reexecuted": false,
        "source_hash": "8f89f0e8",
        "execution_start": 1616162344596,
        "execution_millis": 6607,
        "deepnote_cell_type": "code"
      },
      "source": "def sent_to_words(sentences):\n    for sentence in sentences:\n        yield(simple_preprocess(str(sentence), deacc=True)) \nquestion_words = list(sent_to_words(question_list))",
      "execution_count": 13,
      "outputs": []
    },
    {
      "cell_type": "code",
      "metadata": {
        "cell_id": "00014-8a0d3513-ab35-4c92-91ee-6c03a520bd62",
        "deepnote_to_be_reexecuted": false,
        "source_hash": "c65485a7",
        "execution_start": 1616162353933,
        "execution_millis": 8,
        "deepnote_cell_type": "code"
      },
      "source": "# QUESTION 1 \n# list of the 10 first caraters\nquestion_list[0][0:9]",
      "execution_count": 14,
      "outputs": [
        {
          "output_type": "execute_result",
          "execution_count": 14,
          "data": {
            "text/plain": "'I am usin'"
          },
          "metadata": {}
        }
      ]
    },
    {
      "cell_type": "code",
      "metadata": {
        "cell_id": "00015-cdc5ab50-cd98-4b02-8e89-46ccfbc60fb1",
        "deepnote_to_be_reexecuted": false,
        "source_hash": "479dbc01",
        "execution_start": 1616162354420,
        "execution_millis": 1,
        "deepnote_cell_type": "code"
      },
      "source": "# QUESTION 1 \n# list of the 10 first Words, without the 'useless\" words, because they are too short'\nquestion_words[0][0:9]",
      "execution_count": 15,
      "outputs": [
        {
          "output_type": "execute_result",
          "execution_count": 15,
          "data": {
            "text/plain": "['am', 'using', 'the', 'photoshop', 'javascript', 'api', 'to', 'find', 'the']"
          },
          "metadata": {}
        }
      ]
    },
    {
      "cell_type": "code",
      "metadata": {
        "cell_id": "00016-fcd6f6f2-b600-436b-92d8-73fab5190e9c",
        "deepnote_to_be_reexecuted": false,
        "source_hash": "d77d35a1",
        "execution_start": 1616162356888,
        "execution_millis": 44,
        "deepnote_cell_type": "code"
      },
      "source": "# QUESTION 1 \n# list of the 10 first caraters\nquestion_list[1][0:9]",
      "execution_count": 16,
      "outputs": [
        {
          "output_type": "execute_result",
          "execution_count": 16,
          "data": {
            "text/plain": "'I have a '"
          },
          "metadata": {}
        }
      ]
    },
    {
      "cell_type": "code",
      "metadata": {
        "cell_id": "00017-a09c554b-8383-437c-b813-25acd7f39a3c",
        "deepnote_to_be_reexecuted": false,
        "source_hash": "cfbfd21a",
        "execution_start": 1616162357202,
        "execution_millis": 9,
        "deepnote_cell_type": "code"
      },
      "source": "# QUESTION 1 \n# list of the 10 first Words, without the 'useless\" words, because they are too short'\nquestion_words[1][0:9]",
      "execution_count": 17,
      "outputs": [
        {
          "output_type": "execute_result",
          "execution_count": 17,
          "data": {
            "text/plain": "['have',\n 'cross',\n 'platform',\n 'python',\n 'application',\n 'which',\n 'needs',\n 'to',\n 'generate']"
          },
          "metadata": {}
        }
      ]
    },
    {
      "cell_type": "code",
      "metadata": {
        "cell_id": "00018-3c003a45-ce97-4998-b13c-3b58d3083968",
        "deepnote_to_be_reexecuted": false,
        "source_hash": "44195e70",
        "execution_start": 1616162359491,
        "execution_millis": 462,
        "deepnote_cell_type": "code"
      },
      "source": "lengths = [len(question) for question in question_words]\nfig, ax = plt.subplots(figsize=(7, 5))\nsns.histplot(lengths, bins = 100)\n\nax.set_xlabel('nb words')\nax.set_title('how many words per Questions ?')\n\nplt.show()\n\nprint('Average word count of questions is %s' % np.mean(lengths), 'words per question')",
      "execution_count": 18,
      "outputs": [
        {
          "data": {
            "text/plain": "<Figure size 504x360 with 1 Axes>",
            "image/png": "[encoded data removed]"
          },
          "metadata": {
            "needs_background": "light"
          },
          "output_type": "display_data"
        },
        {
          "name": "stdout",
          "text": "Average word count of questions is 80.7959 words per question\n",
          "output_type": "stream"
        }
      ]
    },
    {
      "cell_type": "code",
      "metadata": {
        "cell_id": "00019-a42d4fec-ac08-491b-9f3d-4e13e941a895",
        "deepnote_to_be_reexecuted": false,
        "source_hash": "2655fcc6",
        "execution_start": 1616162361037,
        "execution_millis": 449,
        "deepnote_cell_type": "code"
      },
      "source": "lengths = [len(question) for question in question_words]\nfig, ax = plt.subplots(figsize=(7, 5))\nsns.set_theme(style=\"white\", context=\"talk\")\n\nsns.barplot(lengths, palette=\"rocket\")\n\nax.set_xlabel('nb words')\nax.set_title('how many words per Questions ?')\n\nplt.show()\n\nprint('Average word count of questions is %s' % np.mean(lengths), 'words per question')",
      "execution_count": 19,
      "outputs": [
        {
          "name": "stderr",
          "text": "/shared-libs/python3.7/py/lib/python3.7/site-packages/seaborn/_decorators.py:43: FutureWarning: Pass the following variable as a keyword arg: x. From version 0.12, the only valid positional argument will be `data`, and passing other arguments without an explicit keyword will result in an error or misinterpretation.\n  FutureWarning\n",
          "output_type": "stream"
        },
        {
          "data": {
            "text/plain": "<Figure size 504x360 with 1 Axes>",
            "image/png": "[encoded data removed]"
          },
          "metadata": {
            "needs_background": "light"
          },
          "output_type": "display_data"
        },
        {
          "name": "stdout",
          "text": "Average word count of questions is 80.7959 words per question\n",
          "output_type": "stream"
        }
      ]
    },
    {
      "cell_type": "markdown",
      "source": "# STOP WORDS",
      "metadata": {
        "cell_id": "00020-10a6579f-af4e-40fb-b329-962721bb4202",
        "deepnote_cell_type": "markdown"
      }
    },
    {
      "cell_type": "code",
      "metadata": {
        "cell_id": "00021-7d0149f9-26f7-4522-81ee-f91ea2c4d901",
        "deepnote_to_be_reexecuted": false,
        "source_hash": "524ca162",
        "execution_start": 1616162365596,
        "execution_millis": 99,
        "deepnote_cell_type": "code"
      },
      "source": "import nltk\nnltk.download('stopwords')",
      "execution_count": 20,
      "outputs": [
        {
          "name": "stderr",
          "text": "[nltk_data] Downloading package stopwords to /root/nltk_data...\n[nltk_data]   Unzipping corpora/stopwords.zip.\n",
          "output_type": "stream"
        },
        {
          "output_type": "execute_result",
          "execution_count": 20,
          "data": {
            "text/plain": "True"
          },
          "metadata": {}
        }
      ]
    },
    {
      "cell_type": "code",
      "metadata": {
        "cell_id": "00022-69f9c45f-44e4-452c-a140-4b968800f279",
        "deepnote_to_be_reexecuted": false,
        "source_hash": "57869d5f",
        "execution_start": 1616162366980,
        "execution_millis": 2,
        "deepnote_cell_type": "code"
      },
      "source": "stop_words = stopwords.words('english')",
      "execution_count": 21,
      "outputs": []
    },
    {
      "cell_type": "code",
      "metadata": {
        "cell_id": "00023-34c15cd9-7b39-4acd-ae72-6a55e91ef5e7",
        "deepnote_to_be_reexecuted": false,
        "source_hash": "51272d87",
        "execution_start": 1616162369011,
        "execution_millis": 1,
        "deepnote_cell_type": "code"
      },
      "source": "# Remove the stop words \ndef remove_stopwords(sentences):\n    filtered_words = [word for word in sentences if word not in stop_words]\n    return filtered_words",
      "execution_count": 22,
      "outputs": []
    },
    {
      "cell_type": "code",
      "metadata": {
        "cell_id": "00024-d3b85e39-c4d4-4c1d-b0e1-b215d85e1766",
        "deepnote_to_be_reexecuted": false,
        "source_hash": "78fcfeff",
        "execution_start": 1616162369444,
        "execution_millis": 7702,
        "deepnote_cell_type": "code"
      },
      "source": "filtered_questions = [remove_stopwords(question) for question in question_words]",
      "execution_count": 23,
      "outputs": []
    },
    {
      "cell_type": "code",
      "metadata": {
        "cell_id": "00025-869dec55-d9bd-45c2-b1b2-d470e17d1a67",
        "deepnote_to_be_reexecuted": false,
        "source_hash": "fe732291",
        "execution_start": 1616162377147,
        "execution_millis": 416,
        "deepnote_cell_type": "code"
      },
      "source": "lengths = [len(question) for question in filtered_questions]\nfig, ax = plt.subplots(figsize=(7, 5))\nsns.histplot(lengths, bins = 100)\n\nax.set_xlabel('nb words')\nax.set_title('how many words per Questions with the question filtered ?')\n\nplt.show()\n\nprint('Average word count of questions is %s' % np.mean(lengths), 'words per question')",
      "execution_count": 24,
      "outputs": [
        {
          "data": {
            "text/plain": "<Figure size 504x360 with 1 Axes>",
            "image/png": "[encoded data removed]"
          },
          "metadata": {},
          "output_type": "display_data"
        },
        {
          "name": "stdout",
          "text": "Average word count of questions is 43.86006666666667 words per question\n",
          "output_type": "stream"
        }
      ]
    },
    {
      "cell_type": "markdown",
      "source": "# WORD2VEC\n--- \n## variables for WORD2VEC",
      "metadata": {
        "cell_id": "00026-c1c3cf4c-bd64-4f3b-ad85-8b318cfabf9b",
        "deepnote_cell_type": "markdown"
      }
    },
    {
      "cell_type": "code",
      "metadata": {
        "cell_id": "00027-f273a685-d551-44ea-9237-2e9928ba86f9",
        "deepnote_to_be_reexecuted": false,
        "source_hash": "9d87567",
        "execution_start": 1616162384830,
        "execution_millis": 1,
        "deepnote_cell_type": "code"
      },
      "source": "size = 100\nwindow = 10\nepochs = 30",
      "execution_count": 25,
      "outputs": []
    },
    {
      "cell_type": "code",
      "metadata": {
        "cell_id": "00028-11843428-fe5f-4d54-9f7a-509f4f1fd2a0",
        "deepnote_to_be_reexecuted": false,
        "source_hash": "aa62be6b",
        "execution_start": 1616162387316,
        "execution_millis": 17749,
        "deepnote_cell_type": "code"
      },
      "source": "model_word2vec = Word2Vec(filtered_questions, size = size, window = window)",
      "execution_count": 26,
      "outputs": []
    },
    {
      "cell_type": "code",
      "metadata": {
        "cell_id": "00029-f973785b-da23-4f32-818f-5cf4b05dce3f",
        "deepnote_to_be_reexecuted": false,
        "source_hash": "9ad2c487",
        "execution_start": 1616162405111,
        "execution_millis": 80872,
        "deepnote_cell_type": "code"
      },
      "source": "#Training model\nmodel_word2vec.train(filtered_questions, total_examples=len(filtered_questions), epochs = epochs)",
      "execution_count": 27,
      "outputs": [
        {
          "output_type": "execute_result",
          "execution_count": 27,
          "data": {
            "text/plain": "(34921208, 39474060)"
          },
          "metadata": {}
        }
      ]
    },
    {
      "cell_type": "markdown",
      "source": "# DOC2VEC\n---\n## variables for DOC2VEC",
      "metadata": {
        "cell_id": "00030-1ac1b23c-9ae6-4e4e-8c4e-151e9b8921f9",
        "deepnote_cell_type": "markdown"
      }
    },
    {
      "cell_type": "code",
      "metadata": {
        "cell_id": "00031-32cd6a3f-e0b7-45a0-918a-c5ae2f42dea7",
        "deepnote_to_be_reexecuted": false,
        "source_hash": "9d87567",
        "execution_start": 1616162485976,
        "execution_millis": 1,
        "deepnote_cell_type": "code"
      },
      "source": "size = 100\nwindow = 10\nepochs = 30",
      "execution_count": 28,
      "outputs": []
    },
    {
      "cell_type": "code",
      "metadata": {
        "cell_id": "00032-a33b19c2-bf81-4769-b770-6dfd35ea77cb",
        "deepnote_to_be_reexecuted": false,
        "source_hash": "f8c28d3a",
        "execution_start": 1616162485977,
        "execution_millis": 149538,
        "deepnote_cell_type": "code"
      },
      "source": "documents = [TaggedDocument(doc, [i]) for i, doc in enumerate(filtered_questions)]\nmodel = Doc2Vec(documents, vector_size = size, window = window, min_count = 5, workers = 2, dm = 1, epochs = epochs)",
      "execution_count": 29,
      "outputs": []
    },
    {
      "cell_type": "code",
      "metadata": {
        "cell_id": "00033-fa807f81-112d-4c0c-a0cd-95abad301723",
        "deepnote_to_be_reexecuted": false,
        "source_hash": "fa44ac2e",
        "execution_start": 1616162635563,
        "execution_millis": 20,
        "deepnote_cell_type": "code"
      },
      "source": "print(question_list[42], ' \\n \\n \\n is similar to \\n \\n \\n')",
      "execution_count": 30,
      "outputs": [
        {
          "name": "stdout",
          "text": "What's the best way to sanitise user input for a Python-based web application? Is there a single function to remove HTML characters and any other necessary characters combinations to prevent an XSS or SQL injection attack?  \n \n \n is similar to \n \n \n\n",
          "output_type": "stream"
        }
      ]
    },
    {
      "cell_type": "code",
      "metadata": {
        "cell_id": "00034-81643cb3-8914-4b8b-b381-d78ab123229a",
        "deepnote_to_be_reexecuted": false,
        "source_hash": "3c9b190b",
        "execution_start": 1616162635564,
        "execution_millis": 19,
        "deepnote_cell_type": "code"
      },
      "source": "print([question_list[similar[0]] for similar in model.docvecs.most_similar(42)])",
      "execution_count": 31,
      "outputs": [
        {
          "name": "stdout",
          "text": "['Is there any way to monitor keyboard events in windows 7 with python without the python program having focus? I would like to run the python script as a background process that monitors certain keyboard events and does certain things on various keyboard input combinations.', 'How to escape HTML with characters like &#8211; in Python?', 'cgi.escape seems like one possible choice.  Does it work well?  Is there something that is considered better?', 'When I have a cursor, I know I can safely execute a query as follows: Is there any way to just get the string safely without executing the query? For example, if important_variable is a string, like \"foo \\'bar\\' \\\\\"baz\", I\\'d want the appropriately escaped one: (or whatever the appropriate escaping is, I\\'m not even sure). I\\'m using psycopg, and sqlobject.', 'and  a.html:', 'I am using Python version 2.5.4 and install MySQL version 5.0 and Django. Django is working fine with Python, but not MySQL. Can anyone help me to solve this issue? I am using it in Vista.', 'Lets say i have a simple array of x rows and y columns with corresponding values,\\nWhat is the best method to do 3 things? \\nHow to insert, update a value at a specific row column? How to select a value for each row and column, ', 'In Google App Engine, is there a tag or other mechanism to get the URL of the current page in a template or is it necessary to pass the url as a variable to the template from the python code?', 'I\\'m planning on writing a web crawler and a web-based front end for it (or, at least, the information it finds). I was wondering if it\\'s possible to use the Django framework to let the web crawler use the same MySQL backend as the website (without making the web crawler a \"website\" in it\\'s self).', 'Is there a function in python to split a word into a list of single letters? e.g: to get']\n",
          "output_type": "stream"
        }
      ]
    },
    {
      "cell_type": "code",
      "metadata": {
        "cell_id": "00035-4972c8b6-b7db-4231-a54f-179d712b1558",
        "deepnote_cell_type": "code"
      },
      "source": "",
      "execution_count": null,
      "outputs": []
    },
    {
      "cell_type": "code",
      "metadata": {
        "cell_id": "00036-77631fde-97be-4058-aab3-55f4bba75453",
        "deepnote_cell_type": "code"
      },
      "source": "# © Axel CHENU 2021",
      "execution_count": null,
      "outputs": []
    },
    {
      "cell_type": "markdown",
      "source": "<a style='text-decoration:none;line-height:16px;display:flex;color:#5B5B62;padding:10px;justify-content:end;' href='https://deepnote.com?utm_source=created-in-deepnote-cell&projectId=e80043e2-6875-4b65-a196-a0ffb97a1282' target=\"_blank\">\n<img style='display:inline;max-height:16px;margin:0px;margin-right:7.5px;' src='data:image/svg+xml;base64,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' > </img>\nCreated in <span style='font-weight:600;margin-left:4px;'>Deepnote</span></a>",
      "metadata": {
        "tags": [],
        "created_in_deepnote_cell": true,
        "deepnote_cell_type": "markdown"
      }
    }
  ],
  "nbformat": 4,
  "nbformat_minor": 4,
  "metadata": {
    "kernelspec": {
      "display_name": "Python 3",
      "language": "python",
      "name": "python3"
    },
    "language_info": {
      "codemirror_mode": {
        "name": "ipython",
        "version": 3
      },
      "file_extension": ".py",
      "mimetype": "text/x-python",
      "name": "python",
      "nbconvert_exporter": "python",
      "pygments_lexer": "ipython3",
      "version": "3.7.10"
    },
    "deepnote_notebook_id": "65b10be6-9844-4078-8ed7-5a92b13edf6c",
    "deepnote": {},
    "deepnote_execution_queue": []
  }
}