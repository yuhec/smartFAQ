{
 "cells": [
  {
   "cell_type": "code",
   "execution_count": 1,
   "metadata": {
    "cell_id": "00000-028f9c18-e9a7-424b-b18f-f38ddce2921a",
    "deepnote_cell_type": "code",
    "deepnote_to_be_reexecuted": false,
    "execution_millis": 2036,
    "execution_start": 1616342725625,
    "source_hash": "c5951c63"
   },
   "outputs": [
    {
     "name": "stdout",
     "output_type": "stream",
     "text": [
      " setup complete\n"
     ]
    }
   ],
   "source": [
    "import pickle\n",
    "import multiprocessing\n",
    "\n",
    "from time import time\n",
    "\n",
    "import gensim\n",
    "from gensim.models import FastText\n",
    "from gensim.models.phrases import Phrases, Phraser\n",
    "\n",
    "print(\" setup complete\")"
   ]
  },
  {
   "cell_type": "markdown",
   "metadata": {
    "cell_id": "00001-949df57d-7cfc-4063-af8e-eff651172742",
    "deepnote_cell_type": "markdown"
   },
   "source": [
    "## Load Data"
   ]
  },
  {
   "cell_type": "code",
   "execution_count": 2,
   "metadata": {
    "cell_id": "00002-269ffdfd-f068-4ae6-834d-5f10ff6792ae",
    "deepnote_cell_type": "code",
    "deepnote_to_be_reexecuted": false,
    "execution_millis": 108,
    "execution_start": 1616342730818,
    "source_hash": "4f3b8700"
   },
   "outputs": [],
   "source": [
    "with open('../../data/x_train.pickle', 'rb') as handle:\n",
    "    X_train = pickle.load(handle)\n",
    "with open('../../data/y_train.pickle', 'rb') as handle:\n",
    "    y_train = pickle.load(handle)\n",
    "with open('../../data/x_val.pickle', 'rb') as handle:\n",
    "    X_val = pickle.load(handle)\n",
    "with open('../../data/y_val.pickle', 'rb') as handle:\n",
    "    y_val = pickle.load(handle)"
   ]
  },
  {
   "cell_type": "markdown",
   "metadata": {
    "cell_id": "00003-cbc04b57-f5be-4cfa-89e7-2835b7b776bb",
    "deepnote_cell_type": "markdown"
   },
   "source": [
    "## Variables"
   ]
  },
  {
   "cell_type": "code",
   "execution_count": 3,
   "metadata": {
    "cell_id": "00004-458f3639-6a98-4846-825a-a36a32df8b71",
    "deepnote_cell_type": "code",
    "deepnote_to_be_reexecuted": false,
    "execution_millis": 1,
    "execution_start": 1616342732394,
    "source_hash": "8e530434"
   },
   "outputs": [],
   "source": [
    "maxLen = 150\n",
    "BATCH_SIZE = 32 #20\n",
    "MAX_NUM_WORDS = 20000\n",
    "MAX_SEQ_LEN = 200"
   ]
  },
  {
   "cell_type": "markdown",
   "metadata": {
    "cell_id": "00005-21262733-ee79-4718-aeea-b2e79bae6833",
    "deepnote_cell_type": "markdown"
   },
   "source": [
    "## Bigrams"
   ]
  },
  {
   "cell_type": "code",
   "execution_count": 4,
   "metadata": {
    "cell_id": "00006-a71864d6-0972-47c0-9954-80886bbe683e",
    "deepnote_cell_type": "code",
    "deepnote_to_be_reexecuted": false,
    "execution_millis": 355,
    "execution_start": 1616342733823,
    "source_hash": "74348954"
   },
   "outputs": [],
   "source": [
    "sent = []\n",
    "for col in ['question', 'question_body', 'answer']:\n",
    "    words = [row.split() for row in X_train[col]]\n",
    "    sent = sent + words"
   ]
  },
  {
   "cell_type": "code",
   "execution_count": 5,
   "metadata": {
    "cell_id": "00007-b5e2eccc-e6e7-4431-bad4-dd96b3cfae1a",
    "deepnote_cell_type": "code",
    "deepnote_to_be_reexecuted": false,
    "execution_millis": 9074,
    "execution_start": 1616342734304,
    "source_hash": "6e325aa5"
   },
   "outputs": [],
   "source": [
    "sentences = Phrases(sent)"
   ]
  },
  {
   "cell_type": "code",
   "execution_count": 6,
   "metadata": {
    "cell_id": "00008-b58af96d-c6ec-40f1-834d-98c6966b0f90",
    "deepnote_cell_type": "code",
    "deepnote_to_be_reexecuted": false,
    "execution_millis": 22253,
    "execution_start": 1616342743418,
    "source_hash": "43ee52bf"
   },
   "outputs": [],
   "source": [
    "bigram = Phraser(sentences)"
   ]
  },
  {
   "cell_type": "code",
   "execution_count": 7,
   "metadata": {
    "cell_id": "00009-cbd971c5-bbc6-422c-a70b-63d1ff6c53b8",
    "deepnote_cell_type": "code",
    "deepnote_to_be_reexecuted": false,
    "execution_millis": 13,
    "execution_start": 1616342765671,
    "source_hash": "f99f3cba"
   },
   "outputs": [],
   "source": [
    "sentences = bigram[sent]"
   ]
  },
  {
   "cell_type": "markdown",
   "metadata": {
    "cell_id": "00010-5e0a7364-8ca1-4f25-b826-6f7b3120a985",
    "deepnote_cell_type": "markdown"
   },
   "source": [
    "## Gensim word to vector"
   ]
  },
  {
   "cell_type": "code",
   "execution_count": 8,
   "metadata": {
    "cell_id": "00011-c88280af-8ef7-4216-ae59-557b5b75b738",
    "deepnote_cell_type": "code",
    "deepnote_to_be_reexecuted": false,
    "execution_millis": 27,
    "execution_start": 1616342765688,
    "source_hash": "ff3d48e1"
   },
   "outputs": [
    {
     "data": {
      "text/plain": [
       "8"
      ]
     },
     "execution_count": 8,
     "metadata": {},
     "output_type": "execute_result"
    }
   ],
   "source": [
    "cores = multiprocessing.cpu_count() \n",
    "cores"
   ]
  },
  {
   "cell_type": "code",
   "execution_count": 9,
   "metadata": {
    "cell_id": "00012-9526c9b1-41a0-4800-bd5a-09b032cda9d4",
    "deepnote_cell_type": "code",
    "deepnote_to_be_reexecuted": false,
    "execution_millis": 13,
    "execution_start": 1616342765716,
    "source_hash": "68849f17"
   },
   "outputs": [
    {
     "data": {
      "text/plain": [
       "30000"
      ]
     },
     "execution_count": 9,
     "metadata": {},
     "output_type": "execute_result"
    }
   ],
   "source": [
    "len(sentences)"
   ]
  },
  {
   "cell_type": "code",
   "execution_count": 10,
   "metadata": {
    "cell_id": "00013-f2c7cc19-3474-4988-89a5-e2af687ab91e",
    "deepnote_cell_type": "code",
    "deepnote_to_be_reexecuted": false,
    "execution_millis": 476,
    "execution_start": 1616342789126,
    "source_hash": "241562c7"
   },
   "outputs": [],
   "source": [
    "fast_text_model = FastText(min_count=50,\n",
    "                     window=10,\n",
    "                     size=300,\n",
    "                     sample=6e-5, \n",
    "                     alpha=0.03, \n",
    "                     min_alpha=0.0007, \n",
    "                     negative=50,\n",
    "                     workers=cores-1)"
   ]
  },
  {
   "cell_type": "code",
   "execution_count": 11,
   "metadata": {
    "cell_id": "00014-00eb809b-6738-4def-a6a1-677cb1e8c574",
    "deepnote_cell_type": "code",
    "deepnote_to_be_reexecuted": false,
    "execution_millis": 1,
    "execution_start": 1616342521946,
    "source_hash": "c0048a34",
    "tags": []
   },
   "outputs": [],
   "source": [
    "#size = 100 \n",
    "#window = 10\n",
    "epochs = 50"
   ]
  },
  {
   "cell_type": "code",
   "execution_count": 12,
   "metadata": {
    "cell_id": "00014-e37cebf2-f529-4010-b9d8-b24f0a91175b",
    "deepnote_cell_type": "code",
    "deepnote_to_be_reexecuted": false,
    "execution_millis": 1200,
    "execution_start": 1616342548059,
    "source_hash": "890dbeae"
   },
   "outputs": [
    {
     "name": "stdout",
     "output_type": "stream",
     "text": [
      "time to build vocabulary :  0.4\n"
     ]
    }
   ],
   "source": [
    "t = time() \n",
    "fast_text_model.build_vocab(sentences, progress_per=10000)\n",
    "print('time to build vocabulary : ', format(round((time() - t) / 60, 2)))"
   ]
  },
  {
   "cell_type": "markdown",
   "metadata": {
    "cell_id": "00015-0fd1c56d-dc7e-4f2f-99dc-452cd30fd12d",
    "deepnote_cell_type": "markdown"
   },
   "source": [
    "## Training Model"
   ]
  },
  {
   "cell_type": "code",
   "execution_count": 13,
   "metadata": {
    "cell_id": "00016-1dfdfbc8-6d3f-44b8-88ab-32e2526e49c5",
    "deepnote_cell_type": "code"
   },
   "outputs": [
    {
     "name": "stdout",
     "output_type": "stream",
     "text": [
      "Time to train the model: 6.76 mins\n"
     ]
    }
   ],
   "source": [
    "t = time()\n",
    "fast_text_model.train(sentences, total_examples=fast_text_model.corpus_count, epochs=50, report_delay=1)\n",
    "print('Time to train the model: {} mins'.format(round((time() - t) / 60, 2)))"
   ]
  },
  {
   "cell_type": "code",
   "execution_count": 14,
   "metadata": {
    "cell_id": "00017-a61519bc-bdc6-4b3a-aa2e-2ab463b5f5dd",
    "deepnote_cell_type": "code"
   },
   "outputs": [
    {
     "name": "stderr",
     "output_type": "stream",
     "text": [
      "C:\\Users\\achenu\\Anaconda3\\envs\\FAQ\\lib\\site-packages\\ipykernel_launcher.py:1: DeprecationWarning: Call to deprecated `syn0` (Attribute will be removed in 4.0.0, use self.vectors instead).\n",
      "  \"\"\"Entry point for launching an IPython kernel.\n"
     ]
    }
   ],
   "source": [
    "pretrained_weights = fast_text_model.wv.syn0\n",
    "vocab_size, embedding_size = pretrained_weights.shape"
   ]
  },
  {
   "cell_type": "code",
   "execution_count": 15,
   "metadata": {
    "cell_id": "00018-79f6e2cd-207e-41f7-b7c5-a77c68758f37",
    "deepnote_cell_type": "code"
   },
   "outputs": [],
   "source": [
    "with open('../../data/fast_text_model_pretrained_weights.pickle', 'wb') as handle:\n",
    "    pickle.dump(fast_text_model, handle, protocol=pickle.HIGHEST_PROTOCOL)"
   ]
  },
  {
   "cell_type": "code",
   "execution_count": 16,
   "metadata": {
    "cell_id": "00020-05239899-825f-4129-af64-0a635d2377f1",
    "deepnote_cell_type": "code"
   },
   "outputs": [
    {
     "name": "stderr",
     "output_type": "stream",
     "text": [
      "C:\\Users\\achenu\\Anaconda3\\envs\\FAQ\\lib\\site-packages\\ipykernel_launcher.py:1: DeprecationWarning: Call to deprecated `most_similar` (Method will be removed in 4.0.0, use self.wv.most_similar() instead).\n",
      "  \"\"\"Entry point for launching an IPython kernel.\n"
     ]
    },
    {
     "data": {
      "text/plain": [
       "[(\"'python\", 0.7581546306610107),\n",
       " ('bin_python', 0.6236727237701416),\n",
       " ('Python', 0.6218990683555603),\n",
       " ('ipython', 0.6028035879135132),\n",
       " ('python_exe', 0.5754696726799011),\n",
       " ('python_script', 0.5735671520233154),\n",
       " ('python_interpreter', 0.541252613067627),\n",
       " ('python_site', 0.5158123970031738),\n",
       " ('python_org', 0.5104994773864746),\n",
       " ('pythonic', 0.5081031322479248)]"
      ]
     },
     "execution_count": 16,
     "metadata": {},
     "output_type": "execute_result"
    }
   ],
   "source": [
    "fast_text_model.most_similar(['python'])"
   ]
  },
  {
   "cell_type": "code",
   "execution_count": 17,
   "metadata": {
    "cell_id": "00021-41995f01-9619-4066-8be8-9e4e5732cccf",
    "deepnote_cell_type": "code",
    "tags": []
   },
   "outputs": [],
   "source": [
    "# © Axel CHENU 2021"
   ]
  }
 ],
 "metadata": {
  "deepnote": {},
  "deepnote_execution_queue": [],
  "deepnote_notebook_id": "60c3ff7e-36bb-4fd3-89df-922d97f85b3b",
  "kernelspec": {
   "display_name": "Python 3",
   "language": "python",
   "name": "python3"
  },
  "language_info": {
   "codemirror_mode": {
    "name": "ipython",
    "version": 3
   },
   "file_extension": ".py",
   "mimetype": "text/x-python",
   "name": "python",
   "nbconvert_exporter": "python",
   "pygments_lexer": "ipython3",
   "version": "3.7.10"
  }
 },
 "nbformat": 4,
 "nbformat_minor": 4
}
