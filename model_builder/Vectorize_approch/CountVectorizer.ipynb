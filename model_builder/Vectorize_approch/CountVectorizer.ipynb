{
 "cells": [
  {
   "cell_type": "code",
   "execution_count": 15,
   "metadata": {
    "cell_id": "00000-0be5ab94-9b51-4b57-9161-dc0757b5f142",
    "deepnote_cell_type": "code",
    "deepnote_to_be_reexecuted": false,
    "execution_millis": 5,
    "execution_start": 1616188058379,
    "source_hash": "e2f49045",
    "tags": []
   },
   "outputs": [],
   "source": [
    "import pandas as pd\n",
    "import numpy as np\n",
    "import pickle\n",
    "import nltk\n",
    "from nltk.corpus import stopwords\n",
    "from nltk.tokenize import TweetTokenizer\n",
    "from sklearn.feature_extraction.text import CountVectorizer\n",
    "from sklearn.ensemble import RandomForestRegressor"
   ]
  },
  {
   "cell_type": "code",
   "execution_count": 14,
   "metadata": {
    "cell_id": "00001-f2551186-0a25-40d7-ae1a-87b2f42f3d26",
    "deepnote_cell_type": "code",
    "deepnote_to_be_reexecuted": false,
    "execution_millis": 85,
    "execution_start": 1616188058293,
    "source_hash": "4f3b8700",
    "tags": []
   },
   "outputs": [],
   "source": [
    "with open('../../data/x_train.pickle', 'rb') as handle:\n",
    "    X_train = pickle.load(handle)\n",
    "with open('../../data/y_train.pickle', 'rb') as handle:\n",
    "    y_train = pickle.load(handle)\n",
    "with open('../../data/x_val.pickle', 'rb') as handle:\n",
    "    X_val = pickle.load(handle)\n",
    "with open('../../data/y_val.pickle', 'rb') as handle:\n",
    "    y_val = pickle.load(handle)"
   ]
  },
  {
   "cell_type": "code",
   "execution_count": 16,
   "metadata": {
    "cell_id": "00002-1d17b60a-99d2-4bef-8592-d15d30f02e63",
    "deepnote_cell_type": "code",
    "deepnote_to_be_reexecuted": false,
    "execution_millis": 37,
    "execution_start": 1616188061453,
    "source_hash": "7c234d23",
    "tags": []
   },
   "outputs": [
    {
     "data": {
      "application/vnd.deepnote.dataframe.v2+json": {
       "column_count": 4,
       "columns": [
        {
         "dtype": "int64",
         "name": "id",
         "stats": {
          "histogram": [
           {
            "bin_end": 5369531.8,
            "bin_start": 2185875,
            "count": 1
           },
           {
            "bin_end": 8553188.6,
            "bin_start": 5369531.8,
            "count": 1
           },
           {
            "bin_end": 11736845.399999999,
            "bin_start": 8553188.6,
            "count": 0
           },
           {
            "bin_end": 14920502.2,
            "bin_start": 11736845.399999999,
            "count": 1
           },
           {
            "bin_end": 18104159,
            "bin_start": 14920502.2,
            "count": 0
           },
           {
            "bin_end": 21287815.799999997,
            "bin_start": 18104159,
            "count": 1
           },
           {
            "bin_end": 24471472.599999998,
            "bin_start": 21287815.799999997,
            "count": 0
           },
           {
            "bin_end": 27655129.4,
            "bin_start": 24471472.599999998,
            "count": 0
           },
           {
            "bin_end": 30838786.2,
            "bin_start": 27655129.4,
            "count": 0
           },
           {
            "bin_end": 34022443,
            "bin_start": 30838786.2,
            "count": 1
           }
          ],
          "max": 34022443,
          "min": 2185875,
          "nan_count": 0,
          "unique_count": 5
         }
        },
        {
         "dtype": "object",
         "name": "question",
         "stats": {
          "categories": [
           {
            "count": 1,
            "name": "Deleting multiple indexes list python"
           },
           {
            "count": 1,
            "name": "Django Grappelli Nested Inlines create new nested lines initial load"
           },
           {
            "count": 3,
            "name": "3 others"
           }
          ],
          "nan_count": 0,
          "unique_count": 5
         }
        },
        {
         "dtype": "object",
         "name": "question_body",
         "stats": {
          "categories": [
           {
            "count": 1,
            "name": "My problem I list eg lst lst pop lst pop Because lst removed lst longer range This gives error Now I know could say change code lst pop lst pop ill fix error problem actual code 'popping ' random numbers needs done time avoid error Is method 'popping ' time like something similar lst pop Thanks answers"
           },
           {
            "count": 1,
            "name": "I looking way create new nested row saving owner row By way django ticket I found Grappelli Nested Inlines I using I test project set based instructions found link django contrib import admin grappelli nested admin import NestedModelAdmin NestedStackedInline NestedTabularInline models import class MyNestedInline NestedTabularInline model C extra class MyInline NestedStackedInline model B extra inlines MyNestedInline class MyAdmin NestedModelAdmin inlines MyInline admin site register A MyAdmin My issue based fact I create child object saving parent That say add another c button functionality saving B Is way achieve I read posts regarding I could find I say answer included anywhere I understand please patient I also note production code grappelli requirement anything clashes work"
           },
           {
            "count": 3,
            "name": "3 others"
           }
          ],
          "nan_count": 0,
          "unique_count": 5
         }
        },
        {
         "dtype": "object",
         "name": "answer",
         "stats": {
          "categories": [
           {
            "count": 1,
            "name": "You use list comprehension rebuild list indices newlist v v enumerate oldlist indices I used set indices set membership testing faster list Note delete best done del lst index partially rebuilds list well one loop list comprehension efficient Demo gt gt gt oldlist gt gt gt indices gt gt gt v v enumerate oldlist indices"
           },
           {
            "count": 1,
            "name": "What take templates django grappelli inline provides use use template django nested inlines class NestedStackedInline NestedInline template 'admin edit inline stacked html ' class NestedTabularInline NestedInline template 'admin edit inline tabular html ' Where templates ones django grappelli inline"
           },
           {
            "count": 3,
            "name": "3 others"
           }
          ],
          "nan_count": 0,
          "unique_count": 5
         }
        },
        {
         "dtype": "int64",
         "name": "_deepnote_index_column"
        }
       ],
       "row_count": 5,
       "rows_bottom": null,
       "rows_top": [
        {
         "_deepnote_index_column": 490144,
         "answer": "You use list comprehension rebuild list indices newlist v v enumerate oldlist indices I used set indices set membership testing faster list Note delete best done del lst index partially rebuilds list well one loop list comprehension efficient Demo gt gt gt oldlist gt gt gt indices gt gt gt v v enumerate oldlist indices",
         "id": 21032057,
         "question": "Deleting multiple indexes list python",
         "question_body": "My problem I list eg lst lst pop lst pop Because lst removed lst longer range This gives error Now I know could say change code lst pop lst pop ill fix error problem actual code 'popping ' random numbers needs done time avoid error Is method 'popping ' time like something similar lst pop Thanks answers"
        },
        {
         "_deepnote_index_column": 815071,
         "answer": "What take templates django grappelli inline provides use use template django nested inlines class NestedStackedInline NestedInline template 'admin edit inline stacked html ' class NestedTabularInline NestedInline template 'admin edit inline tabular html ' Where templates ones django grappelli inline",
         "id": 34022443,
         "question": "Django Grappelli Nested Inlines create new nested lines initial load",
         "question_body": "I looking way create new nested row saving owner row By way django ticket I found Grappelli Nested Inlines I using I test project set based instructions found link django contrib import admin grappelli nested admin import NestedModelAdmin NestedStackedInline NestedTabularInline models import class MyNestedInline NestedTabularInline model C extra class MyInline NestedStackedInline model B extra inlines MyNestedInline class MyAdmin NestedModelAdmin inlines MyInline admin site register A MyAdmin My issue based fact I create child object saving parent That say add another c button functionality saving B Is way achieve I read posts regarding I could find I say answer included anywhere I understand please patient I also note production code grappelli requirement anything clashes work"
        },
        {
         "_deepnote_index_column": 62146,
         "answer": "The last one probably pythonic could try implied loop py generator map flatten map lambda x expand x needs expanding x else x l flatten map try expanding l",
         "id": 2185875,
         "question": "Expanding elements list",
         "question_body": "I 'm looking nice way process list elements need expanded elements expansion results Standard iterative way would lt len l needs expanding l new expand l l new len new else pretty ugly I could rewrite contents new list nl x l needs expanding x nl expand x else nl append x But seem long Or I could simply passes flatten list later flatten expand x needs expanding x else x x l def try expanding x flatten try expanding x x l n't feel right either Are clear ways"
        },
        {
         "_deepnote_index_column": 304024,
         "answer": "Your filenames byte strings contain UTF bytes representing unicode characters The HTML parser normally works unicode data instead byte strings particularly encounters ampersand escape Python automatically trying decode value default uses ASCII decoding This fails UTF data contains bytes fall outside ASCII range You need explicitly decode string unicode object def cleanupString string string urllib unquote string decode 'utf ' return HTMLParser HTMLParser unescape string Your next problem unicode filenames filesystem need kind encoding work filenames You check encoding sys getfilesystemencoding use encode filenames def cleanupString string string urllib unquote string decode 'utf ' return HTMLParser HTMLParser unescape string encode sys getfilesystemencoding You read Python deals Unicode Unicode HOWTO",
         "id": 12626260,
         "question": "UnicodeDecodeError processing filenames",
         "question_body": "I 'm using Python Ubuntu x I files folder filesystem The file names files contain html encoded escaped characters files originally downloaded website Here examples Jamaica jpg thai trip E B E B E A A E B F RAY jpg I wrote simple Python script goes folder renames files encoded characters filename The new filename achieved simply decoding string makes filename The script works files files Python chokes spits following error UnicodeDecodeError 'ascii ' codec ca n't decode byte xe position ordinal range Traceback recent call last File download py line downloadGalleries numDownloaded downloadGallery opener galleryLink File download py line downloadGallery filePathPrefix getFilePath content File download py line getFilePath return cleanupString match group strip ' ' cleanupString match group strip File home abc XYZ common py line cleanupString return HTMLParser HTMLParser unescape string File usr lib python HTMLParser py line unescape return sub r amp xX fA F w replaceEntities File usr lib python py line sub return compile pattern flags sub repl string count Here contents cleanupString function def cleanupString string string urllib unquote string return HTMLParser HTMLParser unescape string And 's snippet code calls cleanupString function code code traceback produces error rootFolder sys argv pattern r ' jpg jpeg ' reobj compile pattern IGNORECASE imgs root dirs files os walk rootFolder filename files foundFile os path join root filename reobj match foundFile imgs append foundFile img imgs print 'Checking file ' img newImg cleanupString img Code blows files Can anyone provide way get around error I 've already tried adding coding utf top script effect Thanks"
        },
        {
         "_deepnote_index_column": 187856,
         "answer": "EDIT I 'm changing answer bit I 'll leave original answer In answer I commented best thing would find built Python module would unpacking I could n't think one perhaps I Google searched one John Machin provided answer showed use Python struct module Since written C faster pure Python solution I n't actually measured anything guess I agree logic original code un Pythonic Returning sentinel value n't best 's better either return valid value raise exception The way return list valid values plus another list invalid values Since John Machin offered code yield valid values I thought I 'd write version returns two lists NOTE Perhaps best possible answer would take John Machin 's answer modify save invalid values file possible later review His answer yields answers one time need build large list parsed records saving bad lines disk means need build possibly large list bad lines import struct def parse records self returns tuple good bad good list valid records tuples bad list tuples line num line err cols self Columns unpack fmt sign checks start colx info enumerate cols clen info columnLength clen lt raise ValueError Column Bad columnLength r colx clen info skipColumn unpack fmt str clen x else unpack fmt str clen info hasSignage sign checks append start start clen expected len start unpack struct Struct unpack fmt unpack good bad line num line enumerate self whatever list lines len line expected len bad append line num line bad length continue line ' ' sign checks bad append line num line sign check failed continue good append unpack line return good bad ORIGINAL ANSWER TEXT This answer lot faster self Columns information identical records We processing self Columns information one time build couple lists contain need process record This code shows compute parsedList n't actually yield return anything Obviously would need change def parse records self cols self Columns slices sign checks start info cols info columnLength lt raise ValueError bad columnLength end start info columnLength info skipColumn tup start end slices append tup info hasSignage sign checks append start expected len end use end count newline try line self whatever list lines len line expected len raise ValueError wrong length line ' ' sign checks raise ValueError wrong input parsedLine line e e slices except ValueError parsedLine False",
         "id": 7288407,
         "question": "Python string manipulation performance problems",
         "question_body": "I following piece code I execute around million times application parse many records This part seems bottleneck I wondering anyone could help suggesting nifty tricks could make simple string manipulations faster try data start end info self Columns end start info columnLength slice line start end slice `` len slice info columnLength raise 'Wrong Input ' info hasSignage slice strip ' ' slice strip ' ' raise 'Wrong Input ' info skipColumn data append slice start end parsedLine data except parsedLine False"
        }
       ]
      },
      "text/html": [
       "<div>\n",
       "<style scoped>\n",
       "    .dataframe tbody tr th:only-of-type {\n",
       "        vertical-align: middle;\n",
       "    }\n",
       "\n",
       "    .dataframe tbody tr th {\n",
       "        vertical-align: top;\n",
       "    }\n",
       "\n",
       "    .dataframe thead th {\n",
       "        text-align: right;\n",
       "    }\n",
       "</style>\n",
       "<table border=\"1\" class=\"dataframe\">\n",
       "  <thead>\n",
       "    <tr style=\"text-align: right;\">\n",
       "      <th></th>\n",
       "      <th>id</th>\n",
       "      <th>question</th>\n",
       "      <th>question_body</th>\n",
       "      <th>answer</th>\n",
       "    </tr>\n",
       "  </thead>\n",
       "  <tbody>\n",
       "    <tr>\n",
       "      <th>490144</th>\n",
       "      <td>21032057</td>\n",
       "      <td>Deleting multiple indexes list python</td>\n",
       "      <td>My problem I list eg lst lst pop lst pop Becau...</td>\n",
       "      <td>You use list comprehension rebuild list indice...</td>\n",
       "    </tr>\n",
       "    <tr>\n",
       "      <th>815071</th>\n",
       "      <td>34022443</td>\n",
       "      <td>Django Grappelli Nested Inlines create new nes...</td>\n",
       "      <td>I looking way create new nested row saving own...</td>\n",
       "      <td>What take templates django grappelli inline pr...</td>\n",
       "    </tr>\n",
       "    <tr>\n",
       "      <th>62146</th>\n",
       "      <td>2185875</td>\n",
       "      <td>Expanding elements list</td>\n",
       "      <td>I 'm looking nice way process list elements ne...</td>\n",
       "      <td>The last one probably pythonic could try impli...</td>\n",
       "    </tr>\n",
       "    <tr>\n",
       "      <th>304024</th>\n",
       "      <td>12626260</td>\n",
       "      <td>UnicodeDecodeError processing filenames</td>\n",
       "      <td>I 'm using Python Ubuntu x I files folder file...</td>\n",
       "      <td>Your filenames byte strings contain UTF bytes ...</td>\n",
       "    </tr>\n",
       "    <tr>\n",
       "      <th>187856</th>\n",
       "      <td>7288407</td>\n",
       "      <td>Python string manipulation performance problems</td>\n",
       "      <td>I following piece code I execute around millio...</td>\n",
       "      <td>EDIT I 'm changing answer bit I 'll leave orig...</td>\n",
       "    </tr>\n",
       "  </tbody>\n",
       "</table>\n",
       "</div>"
      ],
      "text/plain": [
       "              id                                           question  \\\n",
       "490144  21032057              Deleting multiple indexes list python   \n",
       "815071  34022443  Django Grappelli Nested Inlines create new nes...   \n",
       "62146    2185875                            Expanding elements list   \n",
       "304024  12626260            UnicodeDecodeError processing filenames   \n",
       "187856   7288407    Python string manipulation performance problems   \n",
       "\n",
       "                                            question_body  \\\n",
       "490144  My problem I list eg lst lst pop lst pop Becau...   \n",
       "815071  I looking way create new nested row saving own...   \n",
       "62146   I 'm looking nice way process list elements ne...   \n",
       "304024  I 'm using Python Ubuntu x I files folder file...   \n",
       "187856  I following piece code I execute around millio...   \n",
       "\n",
       "                                                   answer  \n",
       "490144  You use list comprehension rebuild list indice...  \n",
       "815071  What take templates django grappelli inline pr...  \n",
       "62146   The last one probably pythonic could try impli...  \n",
       "304024  Your filenames byte strings contain UTF bytes ...  \n",
       "187856  EDIT I 'm changing answer bit I 'll leave orig...  "
      ]
     },
     "execution_count": 16,
     "metadata": {},
     "output_type": "execute_result"
    }
   ],
   "source": [
    "X_train.head()"
   ]
  },
  {
   "cell_type": "code",
   "execution_count": 17,
   "metadata": {
    "cell_id": "00002-4303b8f8-e076-45df-afb1-61fed8650530",
    "deepnote_cell_type": "code",
    "deepnote_to_be_reexecuted": false,
    "execution_millis": 618,
    "execution_start": 1616188066271,
    "source_hash": "ce17a20c",
    "tags": []
   },
   "outputs": [
    {
     "name": "stderr",
     "output_type": "stream",
     "text": [
      "[nltk_data] Downloading package stopwords to /root/nltk_data...\n",
      "[nltk_data]   Unzipping corpora/stopwords.zip.\n",
      "[nltk_data] Downloading package punkt to /root/nltk_data...\n",
      "[nltk_data]   Unzipping tokenizers/punkt.zip.\n",
      "['i', 'me', 'my', 'myself', 'we', 'our', 'ours', 'ourselves', 'you', \"you're\", \"you've\", \"you'll\", \"you'd\", 'your', 'yours', 'yourself', 'yourselves', 'he', 'him', 'his', 'himself', 'she', \"she's\", 'her', 'hers', 'herself', 'it', \"it's\", 'its', 'itself', 'they', 'them', 'their', 'theirs', 'themselves', 'what', 'which', 'who', 'whom', 'this', 'that', \"that'll\", 'these', 'those', 'am', 'is', 'are', 'was', 'were', 'be', 'been', 'being', 'have', 'has', 'had', 'having', 'do', 'does', 'did', 'doing', 'a', 'an', 'the', 'and', 'but', 'if', 'or', 'because', 'as', 'until', 'while', 'of', 'at', 'by', 'for', 'with', 'about', 'against', 'between', 'into', 'through', 'during', 'before', 'after', 'above', 'below', 'to', 'from', 'up', 'down', 'in', 'out', 'on', 'off', 'over', 'under', 'again', 'further', 'then', 'once', 'here', 'there', 'when', 'where', 'why', 'how', 'all', 'any', 'both', 'each', 'few', 'more', 'most', 'other', 'some', 'such', 'no', 'nor', 'not', 'only', 'own', 'same', 'so', 'than', 'too', 'very', 's', 't', 'can', 'will', 'just', 'don', \"don't\", 'should', \"should've\", 'now', 'd', 'll', 'm', 'o', 're', 've', 'y', 'ain', 'aren', \"aren't\", 'couldn', \"couldn't\", 'didn', \"didn't\", 'doesn', \"doesn't\", 'hadn', \"hadn't\", 'hasn', \"hasn't\", 'haven', \"haven't\", 'isn', \"isn't\", 'ma', 'mightn', \"mightn't\", 'mustn', \"mustn't\", 'needn', \"needn't\", 'shan', \"shan't\", 'shouldn', \"shouldn't\", 'wasn', \"wasn't\", 'weren', \"weren't\", 'won', \"won't\", 'wouldn', \"wouldn't\"]\n"
     ]
    }
   ],
   "source": [
    "nltk.download('stopwords')\n",
    "nltk.download('punkt')\n",
    "print(stopwords.words('english'))"
   ]
  },
  {
   "cell_type": "code",
   "execution_count": 18,
   "metadata": {
    "cell_id": "00002-15b16ea4-a93f-41db-aae7-7e61912bd1a7",
    "deepnote_cell_type": "code",
    "deepnote_to_be_reexecuted": false,
    "execution_millis": 25,
    "execution_start": 1616188069125,
    "source_hash": "b457e22c",
    "tags": []
   },
   "outputs": [],
   "source": [
    "def tokenizer_cleaning(sentence):\n",
    "    text_tokens = nltk.word_tokenize(sentence)\n",
    "    token_without_sw = [word for word in text_tokens if not word in stopwords.words()]   \n",
    "    return token_without_sw"
   ]
  },
  {
   "cell_type": "code",
   "execution_count": 19,
   "metadata": {
    "cell_id": "00004-91455e99-ab99-4299-bc12-09cc49a2f222",
    "deepnote_cell_type": "code",
    "deepnote_to_be_reexecuted": false,
    "execution_millis": 16,
    "execution_start": 1616188076630,
    "source_hash": "18f8a5a1",
    "tags": []
   },
   "outputs": [],
   "source": [
    "ngram_size = 5\n",
    "vectorizer = CountVectorizer(ngram_range = (ngram_size, ngram_size),analyzer = tokenizer_cleaning)"
   ]
  },
  {
   "cell_type": "code",
   "execution_count": 20,
   "metadata": {
    "cell_id": "00005-3fb54b93-4fc5-43df-bf98-a923757d9e2b",
    "deepnote_cell_type": "code",
    "deepnote_to_be_reexecuted": false,
    "execution_millis": 5398620,
    "execution_start": 1616188088737,
    "source_hash": "75eff4d3",
    "tags": []
   },
   "outputs": [],
   "source": [
    "smart_vectorizer = vectorizer.fit_transform(X_train['question_body'])"
   ]
  },
  {
   "cell_type": "code",
   "execution_count": 21,
   "metadata": {
    "cell_id": "00007-92670210-027a-4637-b6e8-9c5d24793bb8",
    "deepnote_cell_type": "code",
    "deepnote_to_be_reexecuted": false,
    "execution_millis": 0,
    "execution_start": 1616193653073,
    "source_hash": "38800d8c",
    "tags": []
   },
   "outputs": [
    {
     "data": {
      "text/plain": [
       "(10000, 54199)"
      ]
     },
     "execution_count": 21,
     "metadata": {},
     "output_type": "execute_result"
    }
   ],
   "source": [
    "smart_vectorizer.shape"
   ]
  },
  {
   "cell_type": "code",
   "execution_count": 22,
   "metadata": {
    "cell_id": "00008-0e0790f8-5080-4aeb-a14f-86362f64e686",
    "deepnote_cell_type": "code",
    "deepnote_to_be_reexecuted": false,
    "execution_millis": 41,
    "execution_start": 1616193657896,
    "source_hash": "28280423",
    "tags": []
   },
   "outputs": [],
   "source": [
    "with open('../../data/smart_vectorizer_qb.pickle', 'wb') as handle:\n",
    "    pickle.dump(smart_vectorizer, handle, protocol=pickle.HIGHEST_PROTOCOL)"
   ]
  },
  {
   "cell_type": "code",
   "execution_count": 23,
   "metadata": {
    "cell_id": "00008-8e7fb09b-91fd-42f2-bd2b-9337ee4cb449",
    "deepnote_cell_type": "code",
    "deepnote_to_be_reexecuted": false,
    "execution_millis": 4821750,
    "execution_start": 1616193664989,
    "source_hash": "1a713bde",
    "tags": []
   },
   "outputs": [],
   "source": [
    "vectorizer_test = vectorizer.transform(X_val['question_body'])"
   ]
  },
  {
   "cell_type": "code",
   "execution_count": 27,
   "metadata": {
    "cell_id": "00010-ed79bcca-cd2d-4761-af38-485ddd8d5253",
    "deepnote_cell_type": "code",
    "deepnote_to_be_reexecuted": false,
    "execution_millis": 1,
    "execution_start": 1616198548326,
    "source_hash": "b15861ad",
    "tags": []
   },
   "outputs": [],
   "source": [
    "with open('../../data/smart_vectorizer_test.pickle', 'wb') as handle:\n",
    "    pickle.dump(vectorizer_test, handle, protocol=pickle.HIGHEST_PROTOCOL)"
   ]
  },
  {
   "cell_type": "code",
   "execution_count": 25,
   "metadata": {
    "cell_id": "00008-bf45d806-2c00-4e4c-9bd9-43872d7f4db3",
    "deepnote_cell_type": "code",
    "deepnote_to_be_reexecuted": false,
    "execution_millis": 1,
    "execution_start": 1616198504744,
    "source_hash": "f1521759",
    "tags": []
   },
   "outputs": [],
   "source": [
    "from sklearn.ensemble import RandomForestRegressor\n",
    "model = RandomForestRegressor(max_depth=50, random_state=0, n_estimators = 1000)"
   ]
  },
  {
   "cell_type": "code",
   "execution_count": 28,
   "metadata": {
    "cell_id": "00009-0ec05f6d-b3b0-4916-997f-e9d6daef9e38",
    "deepnote_cell_type": "code",
    "deepnote_to_be_reexecuted": false,
    "execution_millis": 980658,
    "execution_start": 1616198732058,
    "source_hash": "a679486b",
    "tags": []
   },
   "outputs": [
    {
     "data": {
      "text/plain": [
       "RandomForestRegressor(max_depth=50, n_estimators=1000, random_state=0)"
      ]
     },
     "execution_count": 28,
     "metadata": {},
     "output_type": "execute_result"
    }
   ],
   "source": [
    "model.fit(smart_vectorizer, y_train)"
   ]
  },
  {
   "cell_type": "code",
   "execution_count": 29,
   "metadata": {
    "cell_id": "00011-074191f6-d5f8-4f73-85b6-29e39ff7d75b",
    "deepnote_cell_type": "code",
    "deepnote_to_be_reexecuted": false,
    "execution_millis": 2879,
    "execution_start": 1616199855370,
    "source_hash": "3c47113f",
    "tags": []
   },
   "outputs": [],
   "source": [
    "y_pred = model.predict(vectorizer_test)"
   ]
  },
  {
   "cell_type": "code",
   "execution_count": 32,
   "metadata": {
    "cell_id": "00014-a36e4a67-bcde-4106-a9bc-f9d1d4b4a903",
    "deepnote_cell_type": "code",
    "deepnote_to_be_reexecuted": false,
    "execution_millis": 5,
    "execution_start": 1616199947226,
    "source_hash": "cd585639",
    "tags": []
   },
   "outputs": [
    {
     "name": "stdout",
     "output_type": "stream",
     "text": [
      "Coefficient of determination:  -0.2411778679756178\n",
      "mean_squared_error:  173.06597658475656\n",
      "mean_absolute_error:  3.3048534016131597\n",
      "mean_absolute_percentage_error:  3947884699188776.0\n"
     ]
    }
   ],
   "source": [
    "from sklearn.metrics import mean_squared_error, mean_absolute_error, mean_absolute_percentage_error\n",
    "from sklearn.metrics import r2_score\n",
    "print('Coefficient of determination: ', r2_score(y_val, y_pred))\n",
    "print('mean_squared_error: ', mean_squared_error(y_val, y_pred))\n",
    "\n",
    "print('mean_absolute_error: ', mean_absolute_error(y_val, y_pred))\n",
    "print('mean_absolute_percentage_error: ', mean_absolute_percentage_error(y_val, y_pred))"
   ]
  },
  {
   "cell_type": "code",
   "execution_count": null,
   "metadata": {
    "cell_id": "00014-ec3ae2c1-70cd-4fd3-a92a-e7c25ca3b28c",
    "deepnote_cell_type": "code",
    "tags": []
   },
   "outputs": [],
   "source": [
    "# © Mouna DAHAMANI 2021"
   ]
  },
  {
   "cell_type": "markdown",
   "metadata": {
    "created_in_deepnote_cell": true,
    "deepnote_cell_type": "markdown",
    "tags": []
   },
   "source": [
    "<a style='text-decoration:none;line-height:16px;display:flex;color:#5B5B62;padding:10px;justify-content:end;' href='https://deepnote.com?utm_source=created-in-deepnote-cell&projectId=e80043e2-6875-4b65-a196-a0ffb97a1282' target=\"_blank\">\n",
    "<img style='display:inline;max-height:16px;margin:0px;margin-right:7.5px;' src='data:image/svg+xml;base64,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' > </img>\n",
    "Created in <span style='font-weight:600;margin-left:4px;'>Deepnote</span></a>"
   ]
  }
 ],
 "metadata": {
  "deepnote": {},
  "deepnote_execution_queue": [],
  "deepnote_notebook_id": "8d389152-0510-41c5-b414-57c03a355d16",
  "kernelspec": {
   "display_name": "Python 3",
   "language": "python",
   "name": "python3"
  },
  "language_info": {
   "codemirror_mode": {
    "name": "ipython",
    "version": 3
   },
   "file_extension": ".py",
   "mimetype": "text/x-python",
   "name": "python",
   "nbconvert_exporter": "python",
   "pygments_lexer": "ipython3",
   "version": "3.7.0"
  }
 },
 "nbformat": 4,
 "nbformat_minor": 4
}
