{
  "cells": [
    {
      "cell_type": "code",
      "metadata": {
        "cell_id": "00000-e4acd272-35c4-4184-8435-9bb13d60d388",
        "deepnote_cell_type": "code"
      },
      "source": "import pickle\nimport multiprocessing\n\nfrom time import time\n\nfrom gensim.models import Word2Vec\nfrom gensim.models.phrases import Phrases, Phraser",
      "execution_count": 1,
      "outputs": []
    },
    {
      "cell_type": "markdown",
      "source": "## Load Data",
      "metadata": {
        "cell_id": "00001-7054f6ab-a3b5-407c-aa2d-20cc329ff0bc",
        "deepnote_cell_type": "markdown"
      }
    },
    {
      "cell_type": "code",
      "metadata": {
        "cell_id": "00002-f83a60fc-5ba5-4f56-b88f-e7dea4bd18d2",
        "deepnote_cell_type": "code"
      },
      "source": "with open('../../data/x_train.pickle', 'rb') as handle:\n    X_train = pickle.load(handle)\nwith open('../../data/y_train.pickle', 'rb') as handle:\n    y_train = pickle.load(handle)\nwith open('../../data/x_val.pickle', 'rb') as handle:\n    X_val = pickle.load(handle)\nwith open('../../data/y_val.pickle', 'rb') as handle:\n    y_val = pickle.load(handle)",
      "execution_count": 2,
      "outputs": []
    },
    {
      "cell_type": "markdown",
      "source": "## Variables",
      "metadata": {
        "cell_id": "00003-0cc5f481-c11c-49a2-a2b8-bc4c891a8128",
        "deepnote_cell_type": "markdown"
      }
    },
    {
      "cell_type": "code",
      "metadata": {
        "cell_id": "00004-bdcdf416-fbdf-4e30-a209-4493680c7e87",
        "deepnote_cell_type": "code"
      },
      "source": "maxLen = 150\nBATCH_SIZE = 32 #20\nMAX_NUM_WORDS = 20000\nMAX_SEQ_LEN = 200",
      "execution_count": 3,
      "outputs": []
    },
    {
      "cell_type": "markdown",
      "source": "## Bigrams",
      "metadata": {
        "cell_id": "00005-614d2c05-1d88-4fd3-b63d-e6243d69310e",
        "deepnote_cell_type": "markdown"
      }
    },
    {
      "cell_type": "code",
      "metadata": {
        "cell_id": "00006-d944d5ec-92f3-4158-8e0d-253c660c7e5a",
        "deepnote_cell_type": "code"
      },
      "source": "sent = []\nfor col in ['question', 'question_body', 'answer']:\n    words = [row.split() for row in X_train[col]]\n    sent = sent + words",
      "execution_count": 4,
      "outputs": []
    },
    {
      "cell_type": "code",
      "metadata": {
        "cell_id": "00007-7b077f92-54a2-4eb4-8ecd-2d6b5128a3b4",
        "deepnote_cell_type": "code"
      },
      "source": "sentences = Phrases(sent)",
      "execution_count": 6,
      "outputs": []
    },
    {
      "cell_type": "code",
      "metadata": {
        "cell_id": "00008-2ec031de-2988-4688-93ec-390b0b8b966a",
        "deepnote_cell_type": "code"
      },
      "source": "bigram = Phraser(sentences)",
      "execution_count": 6,
      "outputs": []
    },
    {
      "cell_type": "code",
      "metadata": {
        "cell_id": "00009-99e50c84-0d60-4423-8349-ca67ceab0c6f",
        "deepnote_cell_type": "code"
      },
      "source": "sentences = bigram[sent]",
      "execution_count": 7,
      "outputs": []
    },
    {
      "cell_type": "markdown",
      "source": "## Gensim word to vector",
      "metadata": {
        "cell_id": "00010-e6898b58-cac1-44af-a0eb-41a63542eaa0",
        "deepnote_cell_type": "markdown"
      }
    },
    {
      "cell_type": "code",
      "metadata": {
        "cell_id": "00011-01ef44d2-28ff-4e48-8783-eb7ea6fd59a8",
        "deepnote_cell_type": "code"
      },
      "source": "cores = multiprocessing.cpu_count() \ncores",
      "execution_count": 8,
      "outputs": [
        {
          "data": {
            "text/plain": "12"
          },
          "execution_count": 8,
          "metadata": {},
          "output_type": "execute_result"
        }
      ]
    },
    {
      "cell_type": "code",
      "metadata": {
        "cell_id": "00012-c0134149-d1f3-4d4c-8732-f681b9070472",
        "deepnote_cell_type": "code"
      },
      "source": "len(sentences)",
      "execution_count": 9,
      "outputs": []
    },
    {
      "cell_type": "code",
      "metadata": {
        "cell_id": "00013-2fa198d9-bd6a-4aec-a3a5-3d5e7f5e2835",
        "deepnote_cell_type": "code"
      },
      "source": "w2v_model = Word2Vec(min_count=50,\n                     window=2,\n                     size=300,\n                     sample=6e-5, \n                     alpha=0.03, \n                     min_alpha=0.0007, \n                     negative=50,\n                     workers=cores-1)",
      "execution_count": 10,
      "outputs": []
    },
    {
      "cell_type": "code",
      "metadata": {
        "cell_id": "00014-3cb3da30-8971-45ea-9039-03cdc9c20fe4",
        "deepnote_cell_type": "code"
      },
      "source": "t = time() \nw2v_model.build_vocab(sentences, progress_per=10000)\nprint('time to build vocabulary : ', format(round((time() - t) / 60, 2)))",
      "execution_count": 11,
      "outputs": []
    },
    {
      "cell_type": "markdown",
      "source": "## Training Model",
      "metadata": {
        "cell_id": "00015-b7dc72e5-1664-459c-8015-70f8ef57b5b3",
        "deepnote_cell_type": "markdown"
      }
    },
    {
      "cell_type": "code",
      "metadata": {
        "cell_id": "00016-e82942ae-937a-4c1e-a377-a9cce7e759cb",
        "deepnote_cell_type": "code"
      },
      "source": "t = time()\nw2v_model.train(sentences, total_examples=w2v_model.corpus_count, epochs=50, report_delay=1)\nprint('Time to train the model: {} mins'.format(round((time() - t) / 60, 2)))",
      "execution_count": 12,
      "outputs": []
    },
    {
      "cell_type": "code",
      "metadata": {
        "cell_id": "00017-8c874df9-1a11-4195-9c12-9b7989972853",
        "deepnote_cell_type": "code"
      },
      "source": "pretrained_weights = w2v_model.wv.syn0\nvocab_size, embedding_size = pretrained_weights.shape",
      "execution_count": 13,
      "outputs": [
        {
          "name": "stderr",
          "output_type": "stream",
          "text": "/usr/local/lib/python3.6/dist-packages/ipykernel_launcher.py:1: DeprecationWarning: Call to deprecated `syn0` (Attribute will be removed in 4.0.0, use self.vectors instead).\n  \"\"\"Entry point for launching an IPython kernel.\n"
        }
      ]
    },
    {
      "cell_type": "code",
      "metadata": {
        "cell_id": "00018-6da9f9be-fd7a-46c0-a451-4cf20be418d9",
        "deepnote_cell_type": "code"
      },
      "source": "with open('../../data/w2v_pretrained_weights.pickle', 'wb') as handle:\n    pickle.dump(w2v_model, handle, protocol=pickle.HIGHEST_PROTOCOL)",
      "execution_count": 14,
      "outputs": []
    },
    {
      "cell_type": "code",
      "metadata": {
        "cell_id": "00019-ff91eab3-fd1f-4fd3-a699-72c5a79f9347",
        "deepnote_cell_type": "code"
      },
      "source": "pretrained_weights = w2v_model.wv.syn0\nvocab_size, embedding_size = pretrained_weights.shape",
      "execution_count": 16,
      "outputs": [
        {
          "name": "stderr",
          "output_type": "stream",
          "text": "/usr/local/lib/python3.6/dist-packages/ipykernel_launcher.py:1: DeprecationWarning: Call to deprecated `syn0` (Attribute will be removed in 4.0.0, use self.vectors instead).\n  \"\"\"Entry point for launching an IPython kernel.\n"
        }
      ]
    },
    {
      "cell_type": "code",
      "metadata": {
        "cell_id": "00020-f8c75347-eaf2-406c-bcad-7ca66136536d",
        "deepnote_cell_type": "code"
      },
      "source": "w2v_model.most_similar(['python'])",
      "execution_count": 17,
      "outputs": [
        {
          "name": "stderr",
          "output_type": "stream",
          "text": "/usr/local/lib/python3.6/dist-packages/ipykernel_launcher.py:1: DeprecationWarning: Call to deprecated `most_similar` (Method will be removed in 4.0.0, use self.wv.most_similar() instead).\n  \"\"\"Entry point for launching an IPython kernel.\n"
        },
        {
          "data": {
            "text/plain": "[('Python', 0.6817797422409058),\n ('install', 0.4983155131340027),\n ('using', 0.44793903827667236),\n ('library', 0.4355594515800476),\n ('module', 0.42699405550956726),\n ('installed', 0.41153961420059204),\n ('linux', 0.40717512369155884),\n ('libraries', 0.40403202176094055),\n ('virtualenv', 0.390068382024765),\n ('distutils', 0.3893689215183258)]"
          },
          "execution_count": 17,
          "metadata": {},
          "output_type": "execute_result"
        }
      ]
    },
    {
      "cell_type": "code",
      "source": "# © Laëtitia CONSTANTIN & Axel CHENU 2021",
      "metadata": {
        "tags": [],
        "cell_id": "00021-f2f235fa-e93b-41d7-8b29-af1e07ec9c62",
        "deepnote_cell_type": "code"
      },
      "outputs": [],
      "execution_count": null
    },
    {
      "cell_type": "markdown",
      "source": "<a style='text-decoration:none;line-height:16px;display:flex;color:#5B5B62;padding:10px;justify-content:end;' href='https://deepnote.com?utm_source=created-in-deepnote-cell&projectId=e80043e2-6875-4b65-a196-a0ffb97a1282' target=\"_blank\">\n<img style='display:inline;max-height:16px;margin:0px;margin-right:7.5px;' src='data:image/svg+xml;base64,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' > </img>\nCreated in <span style='font-weight:600;margin-left:4px;'>Deepnote</span></a>",
      "metadata": {
        "tags": [],
        "created_in_deepnote_cell": true,
        "deepnote_cell_type": "markdown"
      }
    }
  ],
  "nbformat": 4,
  "nbformat_minor": 4,
  "metadata": {
    "kernelspec": {
      "display_name": "Python 3",
      "language": "python",
      "name": "python3"
    },
    "language_info": {
      "codemirror_mode": {
        "name": "ipython",
        "version": 3
      },
      "file_extension": ".py",
      "mimetype": "text/x-python",
      "name": "python",
      "nbconvert_exporter": "python",
      "pygments_lexer": "ipython3",
      "version": "3.6.9"
    },
    "deepnote_notebook_id": "c5697325-7b2e-4a5d-98d1-474968e72a70",
    "deepnote": {},
    "deepnote_execution_queue": []
  }
}