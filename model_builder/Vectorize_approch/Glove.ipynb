{
  "cells": [
    {
      "cell_type": "markdown",
      "source": "## Import",
      "metadata": {
        "tags": [],
        "cell_id": "00000-93bde0f1-06a5-4087-8a0b-fdb95f1fe4a9",
        "deepnote_cell_type": "markdown"
      }
    },
    {
      "cell_type": "code",
      "metadata": {
        "tags": [],
        "cell_id": "00000-82ea1700-87f3-4a68-99c7-078a8922716e",
        "deepnote_to_be_reexecuted": false,
        "source_hash": "6bd8bb23",
        "execution_millis": 2192,
        "execution_start": 1616703003831,
        "deepnote_cell_type": "code"
      },
      "source": "from keras.models import Model\nfrom keras.layers import Input, LSTM, GRU, Dense, Embedding\nfrom keras.preprocessing.text import Tokenizer\nfrom keras.preprocessing.sequence import pad_sequences\nfrom keras.utils import to_categorical\nimport numpy as np\nimport matplotlib.pyplot as plt\nimport pickle\nfrom gensim.models.phrases import Phrases, Phraser\n\nfrom keras.preprocessing.sequence import pad_sequences\nimport sys\nsys.path.append('../../..')\nfrom smartFAQ.src.tokenPad import tokenization_padding\nimport os",
      "execution_count": null,
      "outputs": [
        {
          "name": "stderr",
          "text": "/root/venv/lib/python3.7/site-packages/gensim/similarities/__init__.py:15: UserWarning: The gensim.similarities.levenshtein submodule is disabled, because the optional Levenshtein package <https://pypi.org/project/python-Levenshtein/> is unavailable. Install Levenhstein (e.g. `pip install python-Levenshtein`) to suppress this warning.\n  warnings.warn(msg)\n",
          "output_type": "stream"
        }
      ]
    },
    {
      "cell_type": "markdown",
      "source": "## Constantes",
      "metadata": {
        "tags": [],
        "cell_id": "00002-84e6ae70-4329-472a-8d0a-6b8dba733032",
        "deepnote_cell_type": "markdown"
      }
    },
    {
      "cell_type": "code",
      "metadata": {
        "tags": [],
        "cell_id": "00003-916f55e3-68fb-4c35-8dc8-2d9c8ef8ab08",
        "deepnote_to_be_reexecuted": false,
        "source_hash": "f86efffe",
        "execution_millis": 0,
        "execution_start": 1616703006018,
        "deepnote_cell_type": "code"
      },
      "source": "BATCH_SIZE = 64\nEPOCHS = 10\nLSTM_NODES =256\nNUM_SENTENCES = 2000 # on commence petit pour la première itération \nMAX_SENTENCE_LENGTH = 50\nMAX_NUM_WORDS = 20000\nEMBEDDING_SIZE = 100",
      "execution_count": null,
      "outputs": []
    },
    {
      "cell_type": "markdown",
      "source": "## Data",
      "metadata": {
        "tags": [],
        "cell_id": "00004-2bc62c25-d761-4aca-9a5f-d3694145d7fc",
        "deepnote_cell_type": "markdown"
      }
    },
    {
      "cell_type": "code",
      "metadata": {
        "tags": [],
        "cell_id": "00005-5738d67e-568f-4e8d-a283-02176eaecb25",
        "deepnote_to_be_reexecuted": false,
        "source_hash": "4f3b8700",
        "execution_millis": 73,
        "execution_start": 1616703006020,
        "deepnote_cell_type": "code"
      },
      "source": "with open('../../data/x_train.pickle', 'rb') as handle:\n    X_train = pickle.load(handle)\nwith open('../../data/y_train.pickle', 'rb') as handle:\n    y_train = pickle.load(handle)\nwith open('../../data/x_val.pickle', 'rb') as handle:\n    X_val = pickle.load(handle)\nwith open('../../data/y_val.pickle', 'rb') as handle:\n    y_val = pickle.load(handle)",
      "execution_count": null,
      "outputs": []
    },
    {
      "cell_type": "markdown",
      "source": "## Data processing",
      "metadata": {
        "tags": [],
        "cell_id": "00006-c03d01b7-4a17-41a3-8476-555c64946804",
        "deepnote_cell_type": "markdown"
      }
    },
    {
      "cell_type": "code",
      "metadata": {
        "tags": [],
        "cell_id": "00007-8513f00b-1cae-4cc4-b612-e6fc2e953e35",
        "deepnote_to_be_reexecuted": false,
        "source_hash": "737cc122",
        "execution_millis": 4,
        "execution_start": 1616703006096,
        "deepnote_cell_type": "code"
      },
      "source": "input_sentences = X_train['answer']\noutput_sentences = X_val['answer']",
      "execution_count": null,
      "outputs": []
    },
    {
      "cell_type": "markdown",
      "source": "## Tokenization et Padding",
      "metadata": {
        "tags": [],
        "cell_id": "00008-6bc57841-5c88-41fb-b87f-66deaa022d71",
        "deepnote_cell_type": "markdown"
      }
    },
    {
      "cell_type": "code",
      "metadata": {
        "tags": [],
        "cell_id": "00009-01b0f4ac-7781-4f5e-9ede-9afa1fc102e5",
        "deepnote_to_be_reexecuted": false,
        "source_hash": "ec8b9c65",
        "execution_millis": 897,
        "execution_start": 1616703006145,
        "deepnote_cell_type": "code"
      },
      "source": "input_tokenizer = Tokenizer(num_words=MAX_NUM_WORDS)\ninput_tokenizer.fit_on_texts(input_sentences)\ninput_integer_seq = input_tokenizer.texts_to_sequences(input_sentences)\n\nword2idx_inputs = input_tokenizer.word_index\nprint('Total unique words in the input: %s' % len(word2idx_inputs))\n\nmax_input_len = max(len(sen) for sen in input_integer_seq)\nprint(\"Length of longest sentence in input: %g\" % max_input_len)",
      "execution_count": null,
      "outputs": [
        {
          "name": "stdout",
          "text": "Total unique words in the input: 30369\nLength of longest sentence in input: 1688\n",
          "output_type": "stream"
        }
      ]
    },
    {
      "cell_type": "code",
      "metadata": {
        "tags": [],
        "cell_id": "00010-8f4c55c4-89cc-4fe4-80e2-364402e10aed",
        "deepnote_to_be_reexecuted": false,
        "source_hash": "53e3017c",
        "execution_millis": 12,
        "execution_start": 1616703007042,
        "deepnote_cell_type": "code"
      },
      "source": "output_sentences",
      "execution_count": null,
      "outputs": [
        {
          "output_type": "execute_result",
          "execution_count": 6,
          "data": {
            "text/plain": "402052    Tkinter import class Application Frame def ini...\n840653    generate generator version map map lambda x x ...\n936066    In Python Python use bisect written comments R...\n370840    edit I 'll leave code I guess codec problem I ...\n311412    usr bin env python says script run Python inte...\n                                ...                        \n9736      I wanted small clean also explicit version bas...\n448661    If want keep existing format whatever reason t...\n626232    Apparently cb solids set edgecolor face culpri...\n416449    Fixed Had missed part earlier code file stream...\n599966    I first time hours ago What turn python script...\nName: answer, Length: 10000, dtype: object"
          },
          "metadata": {}
        }
      ]
    },
    {
      "cell_type": "code",
      "metadata": {
        "tags": [],
        "cell_id": "00010-0396c960-8683-4ed9-92ff-c76225030586",
        "deepnote_to_be_reexecuted": false,
        "source_hash": "179fd2a1",
        "execution_millis": 772,
        "execution_start": 1616703007054,
        "deepnote_cell_type": "code"
      },
      "source": "output_tokenizer = Tokenizer(num_words=MAX_NUM_WORDS, filters='')\noutput_tokenizer.fit_on_texts(output_sentences)\n\noutput_integer_seq = output_tokenizer.texts_to_sequences(output_sentences)\n\nword2idx_outputs = output_tokenizer.word_index\nprint('Total unique words in the output: %s' % len(word2idx_outputs))\n\nnum_words_output = len(word2idx_outputs) + 1\nmax_out_len = max(len(sen) for sen in output_integer_seq)\nprint(\"Length of longest sentence in the output: %g\" % max_out_len)",
      "execution_count": null,
      "outputs": [
        {
          "name": "stdout",
          "text": "Total unique words in the output: 29972\nLength of longest sentence in the output: 2434\n",
          "output_type": "stream"
        }
      ]
    },
    {
      "cell_type": "code",
      "metadata": {
        "tags": [],
        "cell_id": "00012-38ce656e-2517-48e4-8187-c6bacb02c136",
        "deepnote_to_be_reexecuted": false,
        "source_hash": "8da17bb6",
        "execution_millis": 16,
        "execution_start": 1616703007823,
        "deepnote_cell_type": "code"
      },
      "source": "max_out_len",
      "execution_count": null,
      "outputs": [
        {
          "output_type": "execute_result",
          "execution_count": 8,
          "data": {
            "text/plain": "2434"
          },
          "metadata": {}
        }
      ]
    },
    {
      "cell_type": "code",
      "metadata": {
        "tags": [],
        "cell_id": "00013-90b028b0-49de-4ea3-ad20-fbf67de99de1",
        "deepnote_to_be_reexecuted": false,
        "source_hash": "fe43ea63",
        "execution_millis": 167,
        "execution_start": 1616703007832,
        "deepnote_cell_type": "code"
      },
      "source": "encoder_input_sequences = pad_sequences(input_integer_seq, maxlen=max_input_len)\nprint(\"encoder_input_sequences.shape:\", encoder_input_sequences.shape)\nprint(\"encoder_input_sequences[172]:\", encoder_input_sequences[72])",
      "execution_count": null,
      "outputs": [
        {
          "name": "stdout",
          "text": "encoder_input_sequences.shape: (10000, 1688)\nencoder_input_sequences[172]: [  0   0   0 ... 135 183  86]\n",
          "output_type": "stream"
        }
      ]
    },
    {
      "cell_type": "code",
      "metadata": {
        "tags": [],
        "cell_id": "00015-25f48a74-db39-4eca-9d3e-93c47f8af172",
        "deepnote_to_be_reexecuted": false,
        "source_hash": "794775e1",
        "execution_millis": 116,
        "execution_start": 1616703007949,
        "deepnote_cell_type": "code"
      },
      "source": "decoder_input_sequences = pad_sequences(output_integer_seq, maxlen=max_out_len, padding='post')\nprint(\"decoder_input_sequences.shape:\", decoder_input_sequences.shape)\nprint(\"decoder_input_sequences[172]:\", decoder_input_sequences[72])",
      "execution_count": null,
      "outputs": [
        {
          "name": "stdout",
          "text": "decoder_input_sequences.shape: (10000, 2434)\ndecoder_input_sequences[172]: [ 457   37 4819 ...    0    0    0]\n",
          "output_type": "stream"
        }
      ]
    },
    {
      "cell_type": "code",
      "metadata": {
        "tags": [],
        "cell_id": "00009-bf31312a-2076-41c8-97db-6e69c1f50d31",
        "deepnote_to_be_reexecuted": false,
        "source_hash": "54f2121b",
        "execution_millis": 0,
        "execution_start": 1616703008076,
        "deepnote_cell_type": "code"
      },
      "source": "MAX_NUM_WORDS = 20000\nMAX_LEN = 3000",
      "execution_count": null,
      "outputs": []
    },
    {
      "cell_type": "code",
      "metadata": {
        "tags": [],
        "cell_id": "00010-c1a09b43-854a-42e2-b4ca-35a4edf9b679",
        "deepnote_to_be_reexecuted": false,
        "source_hash": "3bc1487b",
        "execution_millis": 0,
        "execution_start": 1616703008077,
        "deepnote_cell_type": "code"
      },
      "source": "# x_train_pad = tokenization_padding(X_train, 'answer', ['question'], MAX_NUM_WORDS, MAX_LEN)\n# = tokenization_padding(X_train, 'answer', [], MAX_NUM_WORDS, MAX_LEN)",
      "execution_count": null,
      "outputs": []
    },
    {
      "cell_type": "code",
      "metadata": {
        "tags": [],
        "cell_id": "00011-dd69601e-3d94-4ade-ad76-8a6aa5267485",
        "deepnote_to_be_reexecuted": false,
        "source_hash": "de6fa9d0",
        "execution_millis": 1,
        "execution_start": 1616703008077,
        "deepnote_cell_type": "code"
      },
      "source": "# x_val_pad = tokenization_padding(X_val, 'answer', ['question'], MAX_NUM_WORDS, MAX_LEN)\n#x_val_pad = tokenization_padding(X_val, 'answer', [], MAX_NUM_WORDS, MAX_LEN)",
      "execution_count": null,
      "outputs": []
    },
    {
      "cell_type": "markdown",
      "source": "## Word Embedding",
      "metadata": {
        "tags": [],
        "cell_id": "00012-6d06ca90-7176-4059-b11d-0c412635a6e3",
        "deepnote_cell_type": "markdown"
      }
    },
    {
      "cell_type": "code",
      "metadata": {
        "tags": [],
        "cell_id": "00013-3850396f-dc8a-4d43-94cd-6a3695ea5783",
        "deepnote_to_be_reexecuted": false,
        "source_hash": "41a6f522",
        "execution_millis": 9987,
        "execution_start": 1616703008078,
        "deepnote_cell_type": "code"
      },
      "source": "from numpy import array\nfrom numpy import asarray\nfrom numpy import zeros\n\nembeddings_dictionary = dict()\n\nglove_file = open(r'../../data/glove.6B.100d.txt', encoding=\"utf8\")\n\n\n#On se crée un dictionnaire pour pouvoir facilement travailler avec les vecteurs de glove, en insérant en cé chaque mot et en valeur la liste des vecteurs\nfor line in glove_file:\n    records = line.split()\n    #le mot\n    word = records[0]\n    vector_dimensions = asarray(records[1:], dtype='float32') # on récupère la liste des valeurs\n    embeddings_dictionary[word] = vector_dimensions\nglove_file.close()",
      "execution_count": null,
      "outputs": []
    },
    {
      "cell_type": "code",
      "metadata": {
        "tags": [],
        "cell_id": "00016-7321501c-2287-43f7-a55e-c9ac58c9ee9f",
        "deepnote_to_be_reexecuted": false,
        "source_hash": "cbaf4bb6",
        "execution_millis": 46,
        "execution_start": 1616703018069,
        "deepnote_cell_type": "code"
      },
      "source": "len(word2idx_inputs)",
      "execution_count": null,
      "outputs": [
        {
          "output_type": "execute_result",
          "execution_count": 15,
          "data": {
            "text/plain": "30369"
          },
          "metadata": {}
        }
      ]
    },
    {
      "cell_type": "code",
      "metadata": {
        "tags": [],
        "cell_id": "00017-36ad11d3-fa43-44da-b33c-8a4212655d0d",
        "deepnote_to_be_reexecuted": false,
        "source_hash": "aaf3aa5f",
        "execution_millis": 6,
        "execution_start": 1616703018110,
        "deepnote_cell_type": "code"
      },
      "source": "type(word2idx_inputs)",
      "execution_count": null,
      "outputs": [
        {
          "output_type": "execute_result",
          "execution_count": 16,
          "data": {
            "text/plain": "dict"
          },
          "metadata": {}
        }
      ]
    },
    {
      "cell_type": "code",
      "metadata": {
        "tags": [],
        "cell_id": "00013-97ffe4f5-26c4-475b-98f9-89a376284d29",
        "deepnote_to_be_reexecuted": false,
        "source_hash": "d6d17687",
        "execution_millis": 51,
        "execution_start": 1616703018111,
        "deepnote_cell_type": "code"
      },
      "source": "num_words = min(MAX_NUM_WORDS, len(word2idx_inputs) + 1)\n# on initilialise une matrice vide que l'on va remplir\nembedding_matrix = zeros((num_words, EMBEDDING_SIZE))\n\nfor word, index in list(word2idx_inputs.items())[:20000]:\n\n    embedding_vector = embeddings_dictionary.get(word)\n#     print(embedding_vector)\n    if embedding_vector is not None:\n        embedding_matrix[index] = embedding_vector",
      "execution_count": null,
      "outputs": []
    },
    {
      "cell_type": "markdown",
      "source": "## Model",
      "metadata": {
        "tags": [],
        "cell_id": "00010-a6ecce70-2771-4d4c-a4b5-5e36d762cdba",
        "deepnote_cell_type": "markdown"
      }
    },
    {
      "cell_type": "code",
      "metadata": {
        "tags": [],
        "cell_id": "00011-f6cf68d6-d94b-4dc4-a6f7-c62311622237",
        "deepnote_to_be_reexecuted": false,
        "source_hash": "d9b73472",
        "execution_millis": 1,
        "execution_start": 1616703018162,
        "deepnote_cell_type": "code"
      },
      "source": "#On crée une matrice vide à l'aide de np.zeros\ndecoder_targets_one_hot = np.zeros((\n        len(input_sentences),\n        MAX_LEN,\n        MAX_NUM_WORDS, # if doesn't looking this --> num_words_output\n    ),\n    dtype='float32'\n)",
      "execution_count": null,
      "outputs": []
    },
    {
      "cell_type": "code",
      "metadata": {
        "tags": [],
        "cell_id": "00017-daa42933-85e4-4ab8-99b7-8c09dab04351",
        "deepnote_to_be_reexecuted": false,
        "source_hash": "ad727bc3",
        "execution_millis": 183,
        "execution_start": 1616703018163,
        "deepnote_cell_type": "code"
      },
      "source": "decoder_output_sequences = pad_sequences(output_integer_seq, maxlen=max_out_len, padding='post')\n# print(decoder_output_sequences)\nfor i, d in enumerate(decoder_output_sequences):\n    for t, word in enumerate(d):\n        print(decoder_targets_one_hot[i, t, word])\n        decoder_targets_one_hot[i, t, word] = 1",
      "execution_count": null,
      "outputs": [
        {
          "name": "stdout",
          "text": "0.0\n0.0\n0.0\n0.0\n0.0\n0.0\n0.0\n0.0\n0.0\n0.0\n0.0\n0.0\n0.0\n0.0\n0.0\n0.0\n0.0\n0.0\n0.0\n0.0\n0.0\n0.0\n0.0\n0.0\n0.0\n0.0\n0.0\n0.0\n0.0\n0.0\n0.0\n0.0\n0.0\n0.0\n0.0\n0.0\n0.0\n0.0\n0.0\n0.0\n0.0\n0.0\n0.0\n0.0\n0.0\n0.0\n0.0\n0.0\n0.0\n0.0\n0.0\n0.0\n0.0\n0.0\n0.0\n0.0\n0.0\n0.0\n0.0\n0.0\n0.0\n0.0\n0.0\n0.0\n0.0\n0.0\n0.0\n0.0\n0.0\n0.0\n0.0\n0.0\n0.0\n0.0\n0.0\n0.0\n0.0\n0.0\n0.0\n0.0\n0.0\n0.0\n0.0\n0.0\n0.0\n0.0\n0.0\n0.0\n0.0\n0.0\n0.0\n0.0\n0.0\n0.0\n0.0\n0.0\n0.0\n0.0\n0.0\n0.0\n0.0\n0.0\n0.0\n0.0\n0.0\n0.0\n0.0\n0.0\n0.0\n0.0\n0.0\n0.0\n0.0\n0.0\n0.0\n0.0\n0.0\n0.0\n0.0\n0.0\n0.0\n0.0\n0.0\n0.0\n0.0\n0.0\n0.0\n0.0\n0.0\n0.0\n0.0\n0.0\n0.0\n0.0\n0.0\n0.0\n0.0\n0.0\n0.0\n0.0\n0.0\n0.0\n0.0\n0.0\n0.0\n0.0\n0.0\n0.0\n0.0\n0.0\n0.0\n0.0\n0.0\n0.0\n0.0\n0.0\n0.0\n0.0\n0.0\n0.0\n0.0\n0.0\n0.0\n0.0\n0.0\n0.0\n0.0\n0.0\n0.0\n0.0\n0.0\n0.0\n0.0\n0.0\n0.0\n0.0\n0.0\n0.0\n0.0\n0.0\n0.0\n0.0\n0.0\n0.0\n0.0\n0.0\n0.0\n0.0\n0.0\n0.0\n0.0\n0.0\n0.0\n0.0\n0.0\n0.0\n0.0\n0.0\n0.0\n0.0\n0.0\n0.0\n0.0\n0.0\n0.0\n0.0\n0.0\n0.0\n0.0\n0.0\n0.0\n0.0\n0.0\n0.0\n0.0\n0.0\n0.0\n0.0\n0.0\n0.0\n0.0\n0.0\n0.0\n0.0\n0.0\n0.0\n0.0\n0.0\n0.0\n0.0\n0.0\n0.0\n0.0\n0.0\n0.0\n0.0\n0.0\n0.0\n0.0\n0.0\n0.0\n0.0\n0.0\n0.0\n0.0\n0.0\n0.0\n0.0\n0.0\n0.0\n0.0\n0.0\n0.0\n0.0\n0.0\n0.0\n0.0\n0.0\n0.0\n0.0\n0.0\n0.0\n0.0\n0.0\n0.0\n0.0\n0.0\n0.0\n0.0\n0.0\n0.0\n0.0\n0.0\n0.0\n0.0\n0.0\n0.0\n0.0\n0.0\n0.0\n0.0\n0.0\n0.0\n0.0\n0.0\n0.0\n0.0\n0.0\n0.0\n0.0\n0.0\n0.0\n0.0\n0.0\n0.0\n0.0\n0.0\n0.0\n0.0\n0.0\n0.0\n0.0\n0.0\n0.0\n0.0\n0.0\n0.0\n0.0\n0.0\n0.0\n0.0\n0.0\n0.0\n0.0\n0.0\n0.0\n0.0\n0.0\n0.0\n0.0\n0.0\n0.0\n0.0\n0.0\n0.0\n0.0\n0.0\n0.0\n0.0\n0.0\n0.0\n0.0\n0.0\n0.0\n0.0\n0.0\n0.0\n0.0\n0.0\n0.0\n0.0\n0.0\n0.0\n0.0\n0.0\n0.0\n0.0\n0.0\n0.0\n0.0\n0.0\n0.0\n0.0\n0.0\n0.0\n0.0\n0.0\n0.0\n0.0\n0.0\n0.0\n0.0\n0.0\n0.0\n0.0\n0.0\n0.0\n0.0\n0.0\n0.0\n0.0\n0.0\n0.0\n0.0\n0.0\n0.0\n0.0\n0.0\n0.0\n0.0\n0.0\n0.0\n0.0\n0.0\n0.0\n0.0\n0.0\n0.0\n0.0\n0.0\n0.0\n0.0\n0.0\n0.0\n0.0\n0.0\n0.0\n0.0\n0.0\n0.0\n0.0\n0.0\n0.0\n0.0\n0.0\n0.0\n0.0\n0.0\n0.0\n0.0\n0.0\n0.0\n0.0\n0.0\n0.0\n0.0\n0.0\n0.0\n0.0\n0.0\n0.0\n0.0\n0.0\n0.0\n0.0\n0.0\n0.0\n0.0\n0.0\n0.0\n0.0\n0.0\n0.0\n0.0\n0.0\n0.0\n0.0\n0.0\n0.0\n0.0\n0.0\n0.0\n0.0\n0.0\n0.0\n0.0\n0.0\n0.0\n0.0\n0.0\n0.0\n0.0\n0.0\n0.0\n0.0\n0.0\n0.0\n0.0\n0.0\n0.0\n0.0\n0.0\n0.0\n0.0\n0.0\n0.0\n0.0\n0.0\n0.0\n0.0\n0.0\n0.0\n0.0\n0.0\n0.0\n0.0\n0.0\n0.0\n0.0\n0.0\n0.0\n0.0\n0.0\n0.0\n0.0\n0.0\n0.0\n0.0\n0.0\n0.0\n0.0\n0.0\n0.0\n0.0\n0.0\n0.0\n0.0\n0.0\n0.0\n0.0\n0.0\n0.0\n0.0\n0.0\n0.0\n0.0\n0.0\n0.0\n0.0\n0.0\n0.0\n0.0\n0.0\n0.0\n0.0\n0.0\n0.0\n0.0\n0.0\n0.0\n0.0\n0.0\n0.0\n0.0\n0.0\n0.0\n0.0\n0.0\n0.0\n0.0\n0.0\n0.0\n0.0\n0.0\n0.0\n0.0\n0.0\n0.0\n0.0\n0.0\n0.0\n0.0\n0.0\n0.0\n0.0\n0.0\n0.0\n0.0\n0.0\n0.0\n0.0\n0.0\n0.0\n0.0\n0.0\n0.0\n0.0\n0.0\n0.0\n0.0\n0.0\n0.0\n0.0\n0.0\n0.0\n0.0\n0.0\n0.0\n0.0\n0.0\n0.0\n0.0\n0.0\n0.0\n0.0\n0.0\n0.0\n0.0\n0.0\n0.0\n0.0\n0.0\n0.0\n0.0\n0.0\n0.0\n0.0\n0.0\n0.0\n0.0\n0.0\n0.0\n0.0\n0.0\n0.0\n0.0\n0.0\n0.0\n0.0\n0.0\n0.0\n0.0\n0.0\n0.0\n0.0\n0.0\n0.0\n0.0\n0.0\n0.0\n0.0\n0.0\n0.0\n0.0\n0.0\n0.0\n0.0\n0.0\n0.0\n0.0\n0.0\n0.0\n0.0\n0.0\n0.0\n0.0\n0.0\n0.0\n0.0\n0.0\n0.0\n0.0\n0.0\n0.0\n0.0\n0.0\n0.0\n0.0\n0.0\n0.0\n0.0\n0.0\n0.0\n0.0\n0.0\n0.0\n0.0\n0.0\n0.0\n0.0\n0.0\n0.0\n0.0\n0.0\n0.0\n0.0\n0.0\n0.0\n0.0\n0.0\n0.0\n0.0\n0.0\n0.0\n0.0\n0.0\n0.0\n0.0\n0.0\n0.0\n0.0\n0.0\n0.0\n0.0\n0.0\n0.0\n0.0\n0.0\n0.0\n0.0\n0.0\n0.0\n0.0\n0.0\n0.0\n0.0\n0.0\n0.0\n0.0\n0.0\n0.0\n0.0\n0.0\n0.0\n0.0\n0.0\n0.0\n0.0\n0.0\n0.0\n0.0\n0.0\n0.0\n0.0\n0.0\n0.0\n0.0\n0.0\n0.0\n0.0\n0.0\n0.0\n0.0\n0.0\n0.0\n0.0\n0.0\n0.0\n0.0\n0.0\n0.0\n0.0\n0.0\n0.0\n0.0\n0.0\n0.0\n0.0\n0.0\n0.0\n0.0\n0.0\n0.0\n0.0\n0.0\n0.0\n0.0\n0.0\n0.0\n0.0\n0.0\n0.0\n0.0\n0.0\n0.0\n0.0\n0.0\n0.0\n0.0\n0.0\n0.0\n0.0\n0.0\n0.0\n0.0\n0.0\n0.0\n0.0\n0.0\n0.0\n0.0\n0.0\n0.0\n0.0\n0.0\n0.0\n0.0\n0.0\n0.0\n0.0\n0.0\n0.0\n0.0\n0.0\n0.0\n0.0\n0.0\n0.0\n0.0\n0.0\n0.0\n0.0\n0.0\n0.0\n0.0\n0.0\n0.0\n0.0\n0.0\n0.0\n0.0\n0.0\n0.0\n0.0\n0.0\n0.0\n0.0\n0.0\n0.0\n0.0\n0.0\n0.0\n0.0\n0.0\n0.0\n0.0\n0.0\n0.0\n0.0\n0.0\n0.0\n0.0\n0.0\n0.0\n0.0\n0.0\n0.0\n0.0\n0.0\n0.0\n0.0\n0.0\n0.0\n0.0\n0.0\n0.0\n0.0\n0.0\n0.0\n0.0\n0.0\n0.0\n0.0\n0.0\n0.0\n0.0\n0.0\n0.0\n0.0\n0.0\n0.0\n0.0\n0.0\n0.0\n0.0\n0.0\n0.0\n0.0\n0.0\n0.0\n0.0\n0.0\n0.0\n0.0\n0.0\n0.0\n0.0\n0.0\n0.0\n0.0\n0.0\n0.0\n0.0\n0.0\n0.0\n0.0\n0.0\n0.0\n0.0\n0.0\n0.0\n0.0\n0.0\n0.0\n0.0\n0.0\n0.0\n0.0\n0.0\n0.0\n0.0\n0.0\n0.0\n0.0\n0.0\n0.0\n0.0\n0.0\n0.0\n0.0\n0.0\n0.0\n0.0\n0.0\n0.0\n0.0\n0.0\n0.0\n0.0\n0.0\n0.0\n0.0\n0.0\n0.0\n0.0\n0.0\n0.0\n0.0\n0.0\n0.0\n0.0\n0.0\n0.0\n0.0\n0.0\n0.0\n0.0\n0.0\n0.0\n0.0\n0.0\n0.0\n0.0\n0.0\n0.0\n0.0\n0.0\n0.0\n0.0\n0.0\n0.0\n0.0\n0.0\n0.0\n0.0\n0.0\n0.0\n0.0\n0.0\n0.0\n0.0\n0.0\n0.0\n0.0\n0.0\n0.0\n0.0\n0.0\n0.0\n0.0\n0.0\n0.0\n0.0\n0.0\n0.0\n0.0\n0.0\n0.0\n0.0\n0.0\n0.0\n0.0\n0.0\n0.0\n0.0\n0.0\n0.0\n0.0\n0.0\n0.0\n0.0\n0.0\n0.0\n0.0\n0.0\n0.0\n0.0\n0.0\n0.0\n0.0\n0.0\n0.0\n0.0\n0.0\n0.0\n0.0\n0.0\n0.0\n0.0\n0.0\n0.0\n0.0\n0.0\n0.0\n0.0\n0.0\n0.0\n0.0\n0.0\n",
          "output_type": "stream"
        },
        {
          "output_type": "error",
          "ename": "KernelInterrupted",
          "evalue": "Execution interrupted by the Jupyter kernel.",
          "traceback": [
            "\u001b[0;31m---------------------------------------------------------------------------\u001b[0m",
            "\u001b[0;31mKernelInterrupted\u001b[0m: Execution interrupted by the Jupyter kernel."
          ]
        }
      ]
    },
    {
      "cell_type": "code",
      "metadata": {
        "tags": [],
        "cell_id": "00012-c162b2b3-330b-46ef-8d52-6db6cae15439",
        "deepnote_to_be_reexecuted": true,
        "source_hash": "b623e53d",
        "execution_millis": 5,
        "deepnote_cell_type": "code"
      },
      "source": "",
      "execution_count": null,
      "outputs": [
        {
          "output_type": "error",
          "ename": "NameError",
          "evalue": "name 'pad_sequences' is not defined",
          "traceback": [
            "\u001b[0;31m---------------------------------------------------------------------------\u001b[0m",
            "\u001b[0;31mNameError\u001b[0m                                 Traceback (most recent call last)",
            "\u001b[0;32m<ipython-input-3-19bf0c044c24>\u001b[0m in \u001b[0;36m<module>\u001b[0;34m\u001b[0m\n\u001b[0;32m----> 1\u001b[0;31m \u001b[0mdecoder_output_sequences\u001b[0m \u001b[0;34m=\u001b[0m \u001b[0mpad_sequences\u001b[0m\u001b[0;34m(\u001b[0m\u001b[0moutput_integer_seq\u001b[0m\u001b[0;34m,\u001b[0m \u001b[0mmaxlen\u001b[0m\u001b[0;34m=\u001b[0m\u001b[0mmax_out_len\u001b[0m\u001b[0;34m,\u001b[0m \u001b[0mpadding\u001b[0m\u001b[0;34m=\u001b[0m\u001b[0;34m'post'\u001b[0m\u001b[0;34m)\u001b[0m\u001b[0;34m\u001b[0m\u001b[0;34m\u001b[0m\u001b[0m\n\u001b[0m\u001b[1;32m      2\u001b[0m \u001b[0;34m\u001b[0m\u001b[0m\n\u001b[1;32m      3\u001b[0m \u001b[0;32mfor\u001b[0m \u001b[0mi\u001b[0m\u001b[0;34m,\u001b[0m \u001b[0md\u001b[0m \u001b[0;32min\u001b[0m \u001b[0menumerate\u001b[0m\u001b[0;34m(\u001b[0m\u001b[0mdecoder_output_sequences\u001b[0m\u001b[0;34m)\u001b[0m\u001b[0;34m:\u001b[0m\u001b[0;34m\u001b[0m\u001b[0;34m\u001b[0m\u001b[0m\n\u001b[1;32m      4\u001b[0m     \u001b[0;32mfor\u001b[0m \u001b[0mt\u001b[0m\u001b[0;34m,\u001b[0m \u001b[0mword\u001b[0m \u001b[0;32min\u001b[0m \u001b[0menumerate\u001b[0m\u001b[0;34m(\u001b[0m\u001b[0md\u001b[0m\u001b[0;34m)\u001b[0m\u001b[0;34m:\u001b[0m\u001b[0;34m\u001b[0m\u001b[0;34m\u001b[0m\u001b[0m\n\u001b[1;32m      5\u001b[0m         \u001b[0mdecoder_targets_one_hot\u001b[0m\u001b[0;34m[\u001b[0m\u001b[0mi\u001b[0m\u001b[0;34m,\u001b[0m \u001b[0mt\u001b[0m\u001b[0;34m,\u001b[0m \u001b[0mword\u001b[0m\u001b[0;34m]\u001b[0m \u001b[0;34m=\u001b[0m \u001b[0;36m1\u001b[0m\u001b[0;34m\u001b[0m\u001b[0;34m\u001b[0m\u001b[0m\n",
            "\u001b[0;31mNameError\u001b[0m: name 'pad_sequences' is not defined"
          ]
        }
      ]
    },
    {
      "cell_type": "code",
      "metadata": {
        "tags": [],
        "cell_id": "00013-4cfcdb8f-579b-4b3a-bcd4-ad1449540096",
        "deepnote_to_be_reexecuted": true,
        "source_hash": "8aa69e45",
        "execution_millis": 27,
        "deepnote_cell_type": "code"
      },
      "source": "decoder_targets_one_hot[0]",
      "execution_count": null,
      "outputs": [
        {
          "output_type": "execute_result",
          "execution_count": 22,
          "data": {
            "text/plain": "array([[0., 0., 0., ..., 0., 0., 0.],\n       [0., 0., 0., ..., 0., 0., 0.],\n       [0., 0., 0., ..., 0., 0., 0.],\n       ...,\n       [0., 0., 0., ..., 0., 0., 0.],\n       [0., 0., 0., ..., 0., 0., 0.],\n       [0., 0., 0., ..., 0., 0., 0.]], dtype=float32)"
          },
          "metadata": {}
        }
      ]
    },
    {
      "cell_type": "markdown",
      "source": "## Encoder",
      "metadata": {
        "tags": [],
        "cell_id": "00011-af68fcb0-4d3e-4c39-8954-e4bc6b424925",
        "deepnote_cell_type": "markdown"
      }
    },
    {
      "cell_type": "code",
      "metadata": {
        "tags": [],
        "cell_id": "00013-afefbec4-2b52-40a7-946b-db51be103f60",
        "deepnote_to_be_reexecuted": true,
        "source_hash": "c2b3e00",
        "execution_millis": 0,
        "deepnote_cell_type": "code"
      },
      "source": "print(LSTM_NODES)",
      "execution_count": null,
      "outputs": [
        {
          "name": "stdout",
          "text": "256\n",
          "output_type": "stream"
        }
      ]
    },
    {
      "cell_type": "code",
      "metadata": {
        "tags": [],
        "cell_id": "00016-270ff8df-4e84-47a5-b126-68c95bb37d82",
        "deepnote_to_be_reexecuted": true,
        "source_hash": "2eb0c239",
        "execution_millis": 411,
        "deepnote_cell_type": "code"
      },
      "source": "encoder_inputs_placeholder = Input(shape=(max_input_len,))\nx = Embedding(MAX_NUM_WORDS, EMBEDDING_SIZE, weights=[embedding_matrix], input_length=max_input_len)(encoder_inputs_placeholder)\nencoder = LSTM(LSTM_NODES, return_state=True)\n\nencoder_outputs, h, c = encoder(x)\nencoder_states = [h, c]",
      "execution_count": null,
      "outputs": []
    },
    {
      "cell_type": "markdown",
      "source": "## Decoder",
      "metadata": {
        "tags": [],
        "cell_id": "00012-3aa6b27e-62de-42f6-ba37-d64e9b8b824c",
        "deepnote_cell_type": "markdown"
      }
    },
    {
      "cell_type": "code",
      "metadata": {
        "tags": [],
        "cell_id": "00028-4d94e1a6-211d-4ab3-992b-aabfab91ca9e",
        "deepnote_to_be_reexecuted": true,
        "source_hash": "8da17bb6",
        "execution_millis": 22,
        "deepnote_cell_type": "code"
      },
      "source": "max_out_len",
      "execution_count": null,
      "outputs": [
        {
          "output_type": "execute_result",
          "execution_count": 23,
          "data": {
            "text/plain": "2434"
          },
          "metadata": {}
        }
      ]
    },
    {
      "cell_type": "code",
      "metadata": {
        "tags": [],
        "cell_id": "00015-791b4682-58a8-48fe-92c5-393599b65311",
        "deepnote_to_be_reexecuted": true,
        "source_hash": "72cae01a",
        "execution_millis": 286,
        "deepnote_cell_type": "code"
      },
      "source": "#on utilise une fois de plus la couche Embedding pour utiliser la prédiction précédente\ndecoder_inputs_placeholder = Input(shape=(max_out_len,))\n\ndecoder_embedding = Embedding(num_words_output, LSTM_NODES)\ndecoder_inputs_x = decoder_embedding(decoder_inputs_placeholder)\n\ndecoder_outputs, _, _ = LSTM(LSTM_NODES, return_sequences=True, return_state=True)(decoder_inputs_x, initial_state=encoder_states)",
      "execution_count": null,
      "outputs": []
    },
    {
      "cell_type": "markdown",
      "source": "## Fully connected final pour générer la prédiction\nOn rajoute une couche dense après le décoder",
      "metadata": {
        "tags": [],
        "cell_id": "00029-a12bdf88-bd99-4d03-8018-1a8069b86572",
        "deepnote_cell_type": "markdown"
      }
    },
    {
      "cell_type": "code",
      "metadata": {
        "tags": [],
        "cell_id": "00030-83cfba93-f766-424a-a294-09b21f59c032",
        "deepnote_to_be_reexecuted": true,
        "source_hash": "60ada18",
        "execution_millis": 101,
        "deepnote_cell_type": "code"
      },
      "source": "decoder_dense = Dense(num_words_output, activation='softmax')\ndecoder_outputs = decoder_dense(decoder_outputs)",
      "execution_count": null,
      "outputs": []
    },
    {
      "cell_type": "markdown",
      "source": "# Reconstruction",
      "metadata": {
        "tags": [],
        "cell_id": "00031-f2b189c2-4ed1-4ab8-8d5a-578a57b96b85",
        "deepnote_cell_type": "markdown"
      }
    },
    {
      "cell_type": "code",
      "metadata": {
        "tags": [],
        "cell_id": "00031-68686b39-9f63-4b1b-85a5-e059e3a00148",
        "deepnote_to_be_reexecuted": true,
        "source_hash": "9a11507b",
        "execution_millis": 0,
        "deepnote_cell_type": "code"
      },
      "source": "#La syntaxe est un peu différente car notre modèle doit avoir deux entrées, la phrase anglaise pour l'encoder et le token sos pour le decoder\nmodel = Model([encoder_inputs_placeholder,\n  decoder_inputs_placeholder], decoder_outputs)",
      "execution_count": null,
      "outputs": []
    },
    {
      "cell_type": "code",
      "metadata": {
        "tags": [],
        "cell_id": "00031-4a0cf45f-a1bc-4d43-99e4-e43415ef8e0f",
        "deepnote_to_be_reexecuted": true,
        "source_hash": "da23b1dc",
        "execution_millis": 0,
        "deepnote_cell_type": "code"
      },
      "source": "model.compile(\n    optimizer='rmsprop',\n    loss='categorical_crossentropy',\n    metrics=['accuracy']\n)",
      "execution_count": null,
      "outputs": []
    },
    {
      "cell_type": "markdown",
      "source": "### Affichage du modèle ",
      "metadata": {
        "tags": [],
        "cell_id": "00034-36cd3047-b4f0-47ff-b506-84eb887e37a0",
        "deepnote_cell_type": "markdown"
      }
    },
    {
      "cell_type": "code",
      "metadata": {
        "tags": [],
        "cell_id": "00035-32884c4a-75d3-4d9d-b8d1-590d6769a32c",
        "deepnote_to_be_reexecuted": true,
        "source_hash": "4e6a3b95",
        "execution_millis": 7,
        "deepnote_cell_type": "code"
      },
      "source": "model.summary()",
      "execution_count": null,
      "outputs": [
        {
          "name": "stdout",
          "text": "Model: \"functional_1\"\n__________________________________________________________________________________________________\nLayer (type)                    Output Shape         Param #     Connected to                     \n==================================================================================================\ninput_1 (InputLayer)            [(None, 1688)]       0                                            \n__________________________________________________________________________________________________\ninput_2 (InputLayer)            [(None, 2434)]       0                                            \n__________________________________________________________________________________________________\nembedding (Embedding)           (None, 1688, 100)    2000000     input_1[0][0]                    \n__________________________________________________________________________________________________\nembedding_1 (Embedding)         (None, 2434, 256)    7673088     input_2[0][0]                    \n__________________________________________________________________________________________________\nlstm (LSTM)                     [(None, 256), (None, 365568      embedding[0][0]                  \n__________________________________________________________________________________________________\nlstm_1 (LSTM)                   [(None, 2434, 256),  525312      embedding_1[0][0]                \n                                                                 lstm[0][1]                       \n                                                                 lstm[0][2]                       \n__________________________________________________________________________________________________\ndense (Dense)                   (None, 2434, 29973)  7703061     lstm_1[0][0]                     \n==================================================================================================\nTotal params: 18,267,029\nTrainable params: 18,267,029\nNon-trainable params: 0\n__________________________________________________________________________________________________\n",
          "output_type": "stream"
        }
      ]
    },
    {
      "cell_type": "markdown",
      "source": "# Entrainement",
      "metadata": {
        "tags": [],
        "cell_id": "00036-f3e7e34e-c4e9-4cf6-a578-ba72e24fb52f",
        "deepnote_cell_type": "markdown"
      }
    },
    {
      "cell_type": "code",
      "metadata": {
        "tags": [],
        "cell_id": "00042-63fee635-9b2b-4f4d-aef1-ea1d7fa877ea",
        "deepnote_to_be_reexecuted": true,
        "source_hash": "29a688de",
        "execution_millis": 26,
        "deepnote_cell_type": "code"
      },
      "source": "decoder_targets_one_hot",
      "execution_count": null,
      "outputs": [
        {
          "output_type": "execute_result",
          "execution_count": 29,
          "data": {
            "text/plain": "array([[[0., 0., 0., ..., 0., 0., 0.],\n        [0., 0., 0., ..., 0., 0., 0.],\n        [0., 0., 0., ..., 0., 0., 0.],\n        ...,\n        [0., 0., 0., ..., 0., 0., 0.],\n        [0., 0., 0., ..., 0., 0., 0.],\n        [0., 0., 0., ..., 0., 0., 0.]],\n\n       [[0., 0., 0., ..., 0., 0., 0.],\n        [0., 0., 0., ..., 0., 0., 0.],\n        [0., 0., 0., ..., 0., 0., 0.],\n        ...,\n        [0., 0., 0., ..., 0., 0., 0.],\n        [0., 0., 0., ..., 0., 0., 0.],\n        [0., 0., 0., ..., 0., 0., 0.]],\n\n       [[0., 0., 0., ..., 0., 0., 0.],\n        [0., 0., 0., ..., 0., 0., 0.],\n        [0., 0., 0., ..., 0., 0., 0.],\n        ...,\n        [0., 0., 0., ..., 0., 0., 0.],\n        [0., 0., 0., ..., 0., 0., 0.],\n        [0., 0., 0., ..., 0., 0., 0.]],\n\n       ...,\n\n       [[0., 0., 0., ..., 0., 0., 0.],\n        [0., 0., 0., ..., 0., 0., 0.],\n        [0., 0., 0., ..., 0., 0., 0.],\n        ...,\n        [0., 0., 0., ..., 0., 0., 0.],\n        [0., 0., 0., ..., 0., 0., 0.],\n        [0., 0., 0., ..., 0., 0., 0.]],\n\n       [[0., 0., 0., ..., 0., 0., 0.],\n        [0., 0., 0., ..., 0., 0., 0.],\n        [0., 0., 0., ..., 0., 0., 0.],\n        ...,\n        [0., 0., 0., ..., 0., 0., 0.],\n        [0., 0., 0., ..., 0., 0., 0.],\n        [0., 0., 0., ..., 0., 0., 0.]],\n\n       [[0., 0., 0., ..., 0., 0., 0.],\n        [0., 0., 0., ..., 0., 0., 0.],\n        [0., 0., 0., ..., 0., 0., 0.],\n        ...,\n        [0., 0., 0., ..., 0., 0., 0.],\n        [0., 0., 0., ..., 0., 0., 0.],\n        [0., 0., 0., ..., 0., 0., 0.]]], dtype=float32)"
          },
          "metadata": {}
        }
      ]
    },
    {
      "cell_type": "code",
      "metadata": {
        "tags": [],
        "cell_id": "00037-5a837f27-4d45-4e22-a0e1-74838c99b146",
        "deepnote_to_be_reexecuted": true,
        "source_hash": "e27d5861",
        "execution_millis": 327,
        "deepnote_cell_type": "code"
      },
      "source": "r = model.fit(\n    [encoder_input_sequences, decoder_input_sequences],\n    decoder_targets_one_hot,\n    batch_size=BATCH_SIZE,\n    epochs=EPOCHS,\n    validation_split=0.1,\n)",
      "execution_count": null,
      "outputs": [
        {
          "output_type": "error",
          "ename": "NameError",
          "evalue": "name 'encoder_input_sequences' is not defined",
          "traceback": [
            "\u001b[0;31m---------------------------------------------------------------------------\u001b[0m",
            "\u001b[0;31mNameError\u001b[0m                                 Traceback (most recent call last)",
            "\u001b[0;32m<ipython-input-28-d6b92e0f93c4>\u001b[0m in \u001b[0;36m<module>\u001b[0;34m\u001b[0m\n\u001b[1;32m      1\u001b[0m r = model.fit(\n\u001b[0;32m----> 2\u001b[0;31m     \u001b[0;34m[\u001b[0m\u001b[0mencoder_input_sequences\u001b[0m\u001b[0;34m,\u001b[0m \u001b[0mdecoder_input_sequences\u001b[0m\u001b[0;34m]\u001b[0m\u001b[0;34m,\u001b[0m\u001b[0;34m\u001b[0m\u001b[0;34m\u001b[0m\u001b[0m\n\u001b[0m\u001b[1;32m      3\u001b[0m     \u001b[0mdecoder_targets_one_hot\u001b[0m\u001b[0;34m,\u001b[0m\u001b[0;34m\u001b[0m\u001b[0;34m\u001b[0m\u001b[0m\n\u001b[1;32m      4\u001b[0m     \u001b[0mbatch_size\u001b[0m\u001b[0;34m=\u001b[0m\u001b[0mBATCH_SIZE\u001b[0m\u001b[0;34m,\u001b[0m\u001b[0;34m\u001b[0m\u001b[0;34m\u001b[0m\u001b[0m\n\u001b[1;32m      5\u001b[0m     \u001b[0mepochs\u001b[0m\u001b[0;34m=\u001b[0m\u001b[0mEPOCHS\u001b[0m\u001b[0;34m,\u001b[0m\u001b[0;34m\u001b[0m\u001b[0;34m\u001b[0m\u001b[0m\n",
            "\u001b[0;31mNameError\u001b[0m: name 'encoder_input_sequences' is not defined"
          ]
        },
        {
          "output_type": "error",
          "ename": "KernelInterrupted",
          "evalue": "Execution interrupted by the Jupyter kernel.",
          "traceback": [
            "\u001b[0;31m---------------------------------------------------------------------------\u001b[0m",
            "\u001b[0;31mKernelInterrupted\u001b[0m: Execution interrupted by the Jupyter kernel."
          ]
        },
        {
          "output_type": "error",
          "ename": "KernelInterrupted",
          "evalue": "Execution interrupted by the Jupyter kernel.",
          "traceback": [
            "\u001b[0;31m---------------------------------------------------------------------------\u001b[0m",
            "\u001b[0;31mKernelInterrupted\u001b[0m: Execution interrupted by the Jupyter kernel."
          ]
        }
      ]
    },
    {
      "cell_type": "code",
      "metadata": {
        "tags": [],
        "cell_id": "00019-f2bf1f50-b43a-4a4d-a79a-a4532d1ba61d",
        "deepnote_to_be_reexecuted": true,
        "source_hash": "8a1ed4a6",
        "deepnote_cell_type": "code"
      },
      "source": "# © Mouna DAHAMANI 2021",
      "execution_count": null,
      "outputs": []
    },
    {
      "cell_type": "markdown",
      "source": "<a style='text-decoration:none;line-height:16px;display:flex;color:#5B5B62;padding:10px;justify-content:end;' href='https://deepnote.com?utm_source=created-in-deepnote-cell&projectId=e80043e2-6875-4b65-a196-a0ffb97a1282' target=\"_blank\">\n<img style='display:inline;max-height:16px;margin:0px;margin-right:7.5px;' src='data:image/svg+xml;base64,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' > </img>\nCreated in <span style='font-weight:600;margin-left:4px;'>Deepnote</span></a>",
      "metadata": {
        "tags": [],
        "created_in_deepnote_cell": true,
        "deepnote_cell_type": "markdown"
      }
    }
  ],
  "nbformat": 4,
  "nbformat_minor": 2,
  "metadata": {
    "orig_nbformat": 2,
    "deepnote_notebook_id": "1c4d1729-3d22-48dd-badd-0d929240bbc1",
    "deepnote": {
      "is_reactive": false
    },
    "deepnote_execution_queue": []
  }
}