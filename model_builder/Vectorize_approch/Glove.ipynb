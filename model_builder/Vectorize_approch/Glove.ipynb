{
  "cells": [
    {
      "cell_type": "markdown",
      "source": "## Import",
      "metadata": {
        "tags": [],
        "cell_id": "00000-93bde0f1-06a5-4087-8a0b-fdb95f1fe4a9",
        "deepnote_cell_type": "markdown"
      }
    },
    {
      "cell_type": "code",
      "metadata": {
        "tags": [],
        "cell_id": "00000-82ea1700-87f3-4a68-99c7-078a8922716e",
        "deepnote_to_be_reexecuted": false,
        "source_hash": "b21a84a6",
        "execution_millis": 776,
        "execution_start": 1616168799781,
        "deepnote_cell_type": "code"
      },
      "source": "from keras.models import Model\nfrom keras.layers import Input, LSTM, GRU, Dense, Embedding\nfrom keras.preprocessing.text import Tokenizer\nfrom keras.preprocessing.sequence import pad_sequences\nfrom keras.utils import to_categorical\nimport numpy as np\nimport matplotlib.pyplot as plt\nimport pickle\nfrom gensim.models.phrases import Phrases, Phraser",
      "execution_count": 10,
      "outputs": []
    },
    {
      "cell_type": "markdown",
      "source": "## Constantes",
      "metadata": {
        "tags": [],
        "cell_id": "00002-84e6ae70-4329-472a-8d0a-6b8dba733032",
        "deepnote_cell_type": "markdown"
      }
    },
    {
      "cell_type": "code",
      "metadata": {
        "tags": [],
        "cell_id": "00003-916f55e3-68fb-4c35-8dc8-2d9c8ef8ab08",
        "deepnote_to_be_reexecuted": false,
        "source_hash": "f86efffe",
        "execution_start": 1616165168575,
        "execution_millis": 0,
        "deepnote_cell_type": "code"
      },
      "source": "BATCH_SIZE = 64\nEPOCHS = 10\nLSTM_NODES =256\nNUM_SENTENCES = 2000 # on commence petit pour la première itération \nMAX_SENTENCE_LENGTH = 50\nMAX_NUM_WORDS = 20000\nEMBEDDING_SIZE = 100",
      "execution_count": 3,
      "outputs": []
    },
    {
      "cell_type": "markdown",
      "source": "## Data",
      "metadata": {
        "tags": [],
        "cell_id": "00004-2bc62c25-d761-4aca-9a5f-d3694145d7fc",
        "deepnote_cell_type": "markdown"
      }
    },
    {
      "cell_type": "code",
      "source": "with open('../../data/x_train.pickle', 'rb') as handle:\n    X_train = pickle.load(handle)\nwith open('../../data/y_train.pickle', 'rb') as handle:\n    y_train = pickle.load(handle)\nwith open('../../data/x_val.pickle', 'rb') as handle:\n    X_val = pickle.load(handle)\nwith open('../../data/y_val.pickle', 'rb') as handle:\n    y_val = pickle.load(handle)",
      "metadata": {
        "tags": [],
        "cell_id": "00005-5738d67e-568f-4e8d-a283-02176eaecb25",
        "deepnote_to_be_reexecuted": false,
        "source_hash": "4f3b8700",
        "execution_millis": 37,
        "execution_start": 1616165192630,
        "deepnote_cell_type": "code"
      },
      "outputs": [],
      "execution_count": 7
    },
    {
      "cell_type": "markdown",
      "source": "## Data processing",
      "metadata": {
        "tags": [],
        "cell_id": "00006-c03d01b7-4a17-41a3-8476-555c64946804",
        "deepnote_cell_type": "markdown"
      }
    },
    {
      "cell_type": "code",
      "source": "",
      "metadata": {
        "tags": [],
        "cell_id": "00007-8513f00b-1cae-4cc4-b612-e6fc2e953e35",
        "deepnote_to_be_reexecuted": false,
        "source_hash": "4f4f9b78",
        "execution_millis": 15313,
        "execution_start": 1616168804576,
        "deepnote_cell_type": "code"
      },
      "outputs": [],
      "execution_count": 11
    },
    {
      "cell_type": "markdown",
      "source": "## Tokenization et Padding",
      "metadata": {
        "tags": [],
        "cell_id": "00008-6bc57841-5c88-41fb-b87f-66deaa022d71",
        "deepnote_cell_type": "markdown"
      }
    },
    {
      "cell_type": "code",
      "source": "",
      "metadata": {
        "tags": [],
        "cell_id": "00009-bf31312a-2076-41c8-97db-6e69c1f50d31",
        "deepnote_to_be_reexecuted": false,
        "source_hash": "ec8b9c65",
        "execution_start": 1616165196872,
        "execution_millis": 33,
        "deepnote_cell_type": "code"
      },
      "outputs": [
        {
          "output_type": "error",
          "ename": "NameError",
          "evalue": "name 'input_sentences' is not defined",
          "traceback": [
            "\u001b[0;31m---------------------------------------------------------------------------\u001b[0m",
            "\u001b[0;31mNameError\u001b[0m                                 Traceback (most recent call last)",
            "\u001b[0;32m<ipython-input-8-79aa71bce0e0>\u001b[0m in \u001b[0;36m<module>\u001b[0;34m\u001b[0m\n\u001b[1;32m      1\u001b[0m \u001b[0minput_tokenizer\u001b[0m \u001b[0;34m=\u001b[0m \u001b[0mTokenizer\u001b[0m\u001b[0;34m(\u001b[0m\u001b[0mnum_words\u001b[0m\u001b[0;34m=\u001b[0m\u001b[0mMAX_NUM_WORDS\u001b[0m\u001b[0;34m)\u001b[0m\u001b[0;34m\u001b[0m\u001b[0;34m\u001b[0m\u001b[0m\n\u001b[0;32m----> 2\u001b[0;31m \u001b[0minput_tokenizer\u001b[0m\u001b[0;34m.\u001b[0m\u001b[0mfit_on_texts\u001b[0m\u001b[0;34m(\u001b[0m\u001b[0minput_sentences\u001b[0m\u001b[0;34m)\u001b[0m\u001b[0;34m\u001b[0m\u001b[0;34m\u001b[0m\u001b[0m\n\u001b[0m\u001b[1;32m      3\u001b[0m \u001b[0minput_integer_seq\u001b[0m \u001b[0;34m=\u001b[0m \u001b[0minput_tokenizer\u001b[0m\u001b[0;34m.\u001b[0m\u001b[0mtexts_to_sequences\u001b[0m\u001b[0;34m(\u001b[0m\u001b[0minput_sentences\u001b[0m\u001b[0;34m)\u001b[0m\u001b[0;34m\u001b[0m\u001b[0;34m\u001b[0m\u001b[0m\n\u001b[1;32m      4\u001b[0m \u001b[0;34m\u001b[0m\u001b[0m\n\u001b[1;32m      5\u001b[0m \u001b[0mword2idx_inputs\u001b[0m \u001b[0;34m=\u001b[0m \u001b[0minput_tokenizer\u001b[0m\u001b[0;34m.\u001b[0m\u001b[0mword_index\u001b[0m\u001b[0;34m\u001b[0m\u001b[0;34m\u001b[0m\u001b[0m\n",
            "\u001b[0;31mNameError\u001b[0m: name 'input_sentences' is not defined"
          ]
        }
      ],
      "execution_count": 8
    },
    {
      "cell_type": "markdown",
      "source": "## Model",
      "metadata": {
        "tags": [],
        "cell_id": "00010-a6ecce70-2771-4d4c-a4b5-5e36d762cdba",
        "deepnote_cell_type": "markdown"
      }
    },
    {
      "cell_type": "code",
      "source": "#On crée une matrice vide à l'aide de np.zeros\ndecoder_targets_one_hot = np.zeros((\n        len(input_sentences),\n        max_out_len,\n        num_words_output\n    ),\n    dtype='float32'\n)",
      "metadata": {
        "tags": [],
        "cell_id": "00011-f6cf68d6-d94b-4dc4-a6f7-c62311622237",
        "deepnote_cell_type": "code"
      },
      "outputs": [],
      "execution_count": null
    },
    {
      "cell_type": "code",
      "source": "decoder_output_sequences = pad_sequences(output_integer_seq, maxlen=max_out_len, padding='post')\nfor i, d in enumerate(decoder_output_sequences):\n    for t, word in enumerate(d):\n        decoder_targets_one_hot[i, t, word] = 1",
      "metadata": {
        "tags": [],
        "cell_id": "00012-c162b2b3-330b-46ef-8d52-6db6cae15439",
        "deepnote_cell_type": "code"
      },
      "outputs": [],
      "execution_count": null
    },
    {
      "cell_type": "code",
      "source": "decoder_targets_one_hot[0]",
      "metadata": {
        "tags": [],
        "cell_id": "00013-4cfcdb8f-579b-4b3a-bcd4-ad1449540096",
        "deepnote_cell_type": "code"
      },
      "outputs": [],
      "execution_count": null
    },
    {
      "cell_type": "markdown",
      "source": "## Encoder",
      "metadata": {
        "tags": [],
        "cell_id": "00011-af68fcb0-4d3e-4c39-8954-e4bc6b424925",
        "deepnote_cell_type": "markdown"
      }
    },
    {
      "cell_type": "code",
      "source": "print(LSTM_NODES)",
      "metadata": {
        "tags": [],
        "cell_id": "00013-afefbec4-2b52-40a7-946b-db51be103f60",
        "deepnote_cell_type": "code"
      },
      "outputs": [],
      "execution_count": null
    },
    {
      "cell_type": "code",
      "source": "encoder_inputs_placeholder = Input(shape=(max_input_len,))\nx = Embedding(num_words, EMBEDDING_SIZE, weights=[embedding_matrix], input_length=max_input_len)(encoder_inputs_placeholder)\nencoder = LSTM(LSTM_NODES, return_state=True)\n\nencoder_outputs, h, c = encoder(x)\nencoder_states = [h, c]",
      "metadata": {
        "tags": [],
        "cell_id": "00016-270ff8df-4e84-47a5-b126-68c95bb37d82",
        "deepnote_cell_type": "code"
      },
      "outputs": [],
      "execution_count": null
    },
    {
      "cell_type": "markdown",
      "source": "## Decoder",
      "metadata": {
        "tags": [],
        "cell_id": "00012-3aa6b27e-62de-42f6-ba37-d64e9b8b824c",
        "deepnote_cell_type": "markdown"
      }
    },
    {
      "cell_type": "code",
      "source": "#on utilise une fois de plus la couche Embedding pour utiliser la prédiction précédente\ndecoder_inputs_placeholder = Input(shape=(max_out_len,))\n\ndecoder_embedding = Embedding(num_words_output, LSTM_NODES)\ndecoder_inputs_x = decoder_embedding(decoder_inputs_placeholder)\n\ndecoder_outputs, _, _ = LSTM(LSTM_NODES, return_sequences=True, return_state=True)(decoder_inputs_x, initial_state=encoder_states)",
      "metadata": {
        "tags": [],
        "cell_id": "00015-791b4682-58a8-48fe-92c5-393599b65311",
        "deepnote_cell_type": "code"
      },
      "outputs": [],
      "execution_count": null
    },
    {
      "cell_type": "code",
      "source": "# © Mouna DAHAMANI 2021",
      "metadata": {
        "tags": [],
        "cell_id": "00019-f2bf1f50-b43a-4a4d-a79a-a4532d1ba61d",
        "deepnote_cell_type": "code"
      },
      "outputs": [],
      "execution_count": null
    },
    {
      "cell_type": "markdown",
      "source": "<a style='text-decoration:none;line-height:16px;display:flex;color:#5B5B62;padding:10px;justify-content:end;' href='https://deepnote.com?utm_source=created-in-deepnote-cell&projectId=e80043e2-6875-4b65-a196-a0ffb97a1282' target=\"_blank\">\n<img style='display:inline;max-height:16px;margin:0px;margin-right:7.5px;' src='data:image/svg+xml;base64,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' > </img>\nCreated in <span style='font-weight:600;margin-left:4px;'>Deepnote</span></a>",
      "metadata": {
        "tags": [],
        "created_in_deepnote_cell": true,
        "deepnote_cell_type": "markdown"
      }
    }
  ],
  "nbformat": 4,
  "nbformat_minor": 2,
  "metadata": {
    "orig_nbformat": 2,
    "deepnote_notebook_id": "1c4d1729-3d22-48dd-badd-0d929240bbc1",
    "deepnote": {},
    "deepnote_execution_queue": []
  }
}