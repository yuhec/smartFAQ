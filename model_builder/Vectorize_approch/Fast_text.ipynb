{
  "cells": [
    {
      "cell_type": "code",
      "metadata": {
        "deepnote_to_be_reexecuted": false,
        "execution_millis": 2036,
        "execution_start": 1616342725625,
        "source_hash": "c5951c63",
        "cell_id": "00000-9b7f32e5-8d8e-4057-b5e7-7ee50a89fd5d",
        "deepnote_cell_type": "code"
      },
      "source": "import pickle\nimport multiprocessing\n\nfrom time import time\n\nimport gensim\nfrom gensim.models import FastText\nfrom gensim.models.phrases import Phrases, Phraser\n\nprint(\" setup complete\")",
      "execution_count": 3,
      "outputs": [
        {
          "name": "stdout",
          "output_type": "stream",
          "text": " setup complete\n"
        }
      ]
    },
    {
      "cell_type": "markdown",
      "source": "## Load Data",
      "metadata": {
        "cell_id": "00001-e2f9585f-88ee-44a4-804c-3ccd874022da",
        "deepnote_cell_type": "markdown"
      }
    },
    {
      "cell_type": "code",
      "metadata": {
        "deepnote_to_be_reexecuted": false,
        "execution_millis": 108,
        "execution_start": 1616342730818,
        "source_hash": "4f3b8700",
        "cell_id": "00002-b6d78b1a-eb35-487c-a7b8-089b0bd3d0b6",
        "deepnote_cell_type": "code"
      },
      "source": "with open('../../data/x_train.pickle', 'rb') as handle:\n    X_train = pickle.load(handle)\nwith open('../../data/y_train.pickle', 'rb') as handle:\n    y_train = pickle.load(handle)\nwith open('../../data/x_val.pickle', 'rb') as handle:\n    X_val = pickle.load(handle)\nwith open('../../data/y_val.pickle', 'rb') as handle:\n    y_val = pickle.load(handle)",
      "execution_count": 4,
      "outputs": []
    },
    {
      "cell_type": "markdown",
      "source": "## Variables",
      "metadata": {
        "cell_id": "00003-0ab80bc7-5f9d-4439-ad1a-5b28ce71538b",
        "deepnote_cell_type": "markdown"
      }
    },
    {
      "cell_type": "code",
      "metadata": {
        "deepnote_to_be_reexecuted": false,
        "execution_millis": 1,
        "execution_start": 1616342732394,
        "source_hash": "8e530434",
        "cell_id": "00004-14d23419-ae8f-4ed3-a856-068406b22903",
        "deepnote_cell_type": "code"
      },
      "source": "maxLen = 150\nBATCH_SIZE = 32 #20\nMAX_NUM_WORDS = 20000\nMAX_SEQ_LEN = 200",
      "execution_count": 5,
      "outputs": []
    },
    {
      "cell_type": "markdown",
      "source": "## Bigrams",
      "metadata": {
        "cell_id": "00005-2b0566b2-74cc-4703-8ef6-005f2b934b36",
        "deepnote_cell_type": "markdown"
      }
    },
    {
      "cell_type": "code",
      "metadata": {
        "deepnote_to_be_reexecuted": false,
        "execution_millis": 355,
        "execution_start": 1616342733823,
        "source_hash": "74348954",
        "cell_id": "00006-19d87008-45f6-4dbe-84e9-eb93a9cdee73",
        "deepnote_cell_type": "code"
      },
      "source": "sent = []\nfor col in ['question', 'question_body', 'answer']:\n    words = [row.split() for row in X_train[col]]\n    sent = sent + words",
      "execution_count": 6,
      "outputs": []
    },
    {
      "cell_type": "code",
      "metadata": {
        "deepnote_to_be_reexecuted": false,
        "execution_millis": 9074,
        "execution_start": 1616342734304,
        "source_hash": "6e325aa5",
        "cell_id": "00007-764212f8-bc5c-4df9-92ae-09b8c5237573",
        "deepnote_cell_type": "code"
      },
      "source": "sentences = Phrases(sent)",
      "execution_count": 7,
      "outputs": []
    },
    {
      "cell_type": "code",
      "metadata": {
        "deepnote_to_be_reexecuted": false,
        "execution_millis": 22253,
        "execution_start": 1616342743418,
        "source_hash": "43ee52bf",
        "cell_id": "00008-c14de08b-d614-405a-ad2e-d309d382d9cf",
        "deepnote_cell_type": "code"
      },
      "source": "bigram = Phraser(sentences)",
      "execution_count": 8,
      "outputs": []
    },
    {
      "cell_type": "code",
      "metadata": {
        "deepnote_to_be_reexecuted": false,
        "execution_millis": 13,
        "execution_start": 1616342765671,
        "source_hash": "f99f3cba",
        "cell_id": "00009-510bb4d0-9e3c-4118-b8b1-4e27c48abe21",
        "deepnote_cell_type": "code"
      },
      "source": "sentences = bigram[sent]",
      "execution_count": 9,
      "outputs": []
    },
    {
      "cell_type": "markdown",
      "source": "## Gensim word to vector",
      "metadata": {
        "cell_id": "00010-3b70185a-6849-4181-a3c3-e38f1ee6ab08",
        "deepnote_cell_type": "markdown"
      }
    },
    {
      "cell_type": "code",
      "metadata": {
        "deepnote_to_be_reexecuted": false,
        "execution_millis": 27,
        "execution_start": 1616342765688,
        "source_hash": "ff3d48e1",
        "cell_id": "00011-e641859a-f24a-4fee-b57a-dfa2113ad32f",
        "deepnote_cell_type": "code"
      },
      "source": "cores = multiprocessing.cpu_count() \ncores",
      "execution_count": 10,
      "outputs": [
        {
          "data": {
            "text/plain": "8"
          },
          "execution_count": 10,
          "metadata": {},
          "output_type": "execute_result"
        }
      ]
    },
    {
      "cell_type": "code",
      "metadata": {
        "deepnote_to_be_reexecuted": false,
        "execution_millis": 13,
        "execution_start": 1616342765716,
        "source_hash": "68849f17",
        "cell_id": "00012-9f8eb5ad-754d-4e46-96f7-b68fa93bec26",
        "deepnote_cell_type": "code"
      },
      "source": "len(sentences)",
      "execution_count": 11,
      "outputs": [
        {
          "data": {
            "text/plain": "30000"
          },
          "execution_count": 11,
          "metadata": {},
          "output_type": "execute_result"
        }
      ]
    },
    {
      "cell_type": "code",
      "metadata": {
        "deepnote_to_be_reexecuted": false,
        "execution_millis": 476,
        "execution_start": 1616342789126,
        "source_hash": "241562c7",
        "cell_id": "00013-8141a0ee-767b-41e2-af26-9689dce43d0a",
        "deepnote_cell_type": "code"
      },
      "source": "fast_text_model = FastText(min_count=50,\n                     window=10,\n                     size=300,\n                     sample=6e-5, \n                     alpha=0.03, \n                     min_alpha=0.0007, \n                     negative=50,\n                     workers=cores-1)",
      "execution_count": 12,
      "outputs": []
    },
    {
      "cell_type": "code",
      "metadata": {
        "deepnote_to_be_reexecuted": false,
        "execution_millis": 1,
        "execution_start": 1616342521946,
        "source_hash": "c0048a34",
        "tags": [],
        "cell_id": "00014-d06fdcf5-3997-4388-9224-f57d6eb1a169",
        "deepnote_cell_type": "code"
      },
      "source": "#size = 100 \n#window = 10\nepochs = 50",
      "execution_count": 13,
      "outputs": []
    },
    {
      "cell_type": "code",
      "metadata": {
        "deepnote_to_be_reexecuted": false,
        "execution_millis": 1200,
        "execution_start": 1616342548059,
        "source_hash": "890dbeae",
        "cell_id": "00015-ca7f21c3-3733-43fc-9a9d-12042cf600b6",
        "deepnote_cell_type": "code"
      },
      "source": "t = time() \nfast_text_model.build_vocab(sentences, progress_per=10000)\nprint('time to build vocabulary : ', format(round((time() - t) / 60, 2)))",
      "execution_count": 14,
      "outputs": [
        {
          "name": "stdout",
          "output_type": "stream",
          "text": "time to build vocabulary :  14.53\n"
        }
      ]
    },
    {
      "cell_type": "markdown",
      "source": "## Training Model",
      "metadata": {
        "cell_id": "00016-245b9260-628a-4959-bb0a-a63e0b727ab0",
        "deepnote_cell_type": "markdown"
      }
    },
    {
      "cell_type": "code",
      "metadata": {
        "cell_id": "00017-b6302c00-a06b-4eae-b6a3-3dfcc46e2c76",
        "deepnote_cell_type": "code"
      },
      "source": "t = time()\nfast_text_model.train(sentences, total_examples=fast_text_model.corpus_count, epochs=50, report_delay=1)\nprint('Time to train the model: {} mins'.format(round((time() - t) / 60, 2)))",
      "execution_count": 15,
      "outputs": [
        {
          "name": "stdout",
          "output_type": "stream",
          "text": "Time to train the model: 11.97 mins\n"
        }
      ]
    },
    {
      "cell_type": "code",
      "metadata": {
        "cell_id": "00018-166f17aa-410c-471e-9b1f-ba0ecb931e97",
        "deepnote_cell_type": "code"
      },
      "source": "pretrained_weights = fast_text_model.wv.syn0\nvocab_size, embedding_size = pretrained_weights.shape",
      "execution_count": 16,
      "outputs": [
        {
          "name": "stderr",
          "output_type": "stream",
          "text": "/Users/axelchenu/Work_directory/DATA_SCIENCE_YNOV/SMART_FAQ/smartFAQ/envs/lib/python3.7/site-packages/ipykernel_launcher.py:1: DeprecationWarning: Call to deprecated `syn0` (Attribute will be removed in 4.0.0, use self.vectors instead).\n  \"\"\"Entry point for launching an IPython kernel.\n"
        }
      ]
    },
    {
      "cell_type": "code",
      "metadata": {
        "cell_id": "00019-8da0de56-d6c5-44dc-b384-2cc61d4079ca",
        "deepnote_cell_type": "code"
      },
      "source": "with open('../../data/fast_text_model_pretrained_weights.pickle', 'wb') as handle:\n    pickle.dump(fast_text_model, handle, protocol=pickle.HIGHEST_PROTOCOL)",
      "execution_count": 17,
      "outputs": []
    },
    {
      "cell_type": "code",
      "metadata": {
        "cell_id": "00020-8ccd3234-75f3-4830-8184-eb0bfaaf58c3",
        "deepnote_cell_type": "code"
      },
      "source": "fast_text_model.most_similar(['python'])",
      "execution_count": 18,
      "outputs": [
        {
          "name": "stderr",
          "output_type": "stream",
          "text": "/Users/axelchenu/Work_directory/DATA_SCIENCE_YNOV/SMART_FAQ/smartFAQ/envs/lib/python3.7/site-packages/ipykernel_launcher.py:1: DeprecationWarning: Call to deprecated `most_similar` (Method will be removed in 4.0.0, use self.wv.most_similar() instead).\n  \"\"\"Entry point for launching an IPython kernel.\n"
        },
        {
          "data": {
            "text/plain": "[(\"'python\", 0.7595863938331604),\n ('bin_python', 0.6522622108459473),\n ('Python', 0.623629629611969),\n ('ipython', 0.6014732122421265),\n ('python_script', 0.5755845904350281),\n ('python_interpreter', 0.5676314234733582),\n ('python_exe', 0.5632917881011963),\n ('python_org', 0.5140905380249023),\n ('python_site', 0.5070676207542419),\n ('pythonic', 0.4951178729534149)]"
          },
          "execution_count": 18,
          "metadata": {},
          "output_type": "execute_result"
        }
      ]
    },
    {
      "cell_type": "code",
      "metadata": {
        "tags": [],
        "cell_id": "00021-7b7ed067-4a09-41e8-899b-9a63a5c1dbff",
        "deepnote_cell_type": "code"
      },
      "source": "# © Axel CHENU 2021",
      "execution_count": null,
      "outputs": []
    },
    {
      "cell_type": "markdown",
      "source": "<a style='text-decoration:none;line-height:16px;display:flex;color:#5B5B62;padding:10px;justify-content:end;' href='https://deepnote.com?utm_source=created-in-deepnote-cell&projectId=e80043e2-6875-4b65-a196-a0ffb97a1282' target=\"_blank\">\n<img style='display:inline;max-height:16px;margin:0px;margin-right:7.5px;' src='data:image/svg+xml;base64,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' > </img>\nCreated in <span style='font-weight:600;margin-left:4px;'>Deepnote</span></a>",
      "metadata": {
        "tags": [],
        "created_in_deepnote_cell": true,
        "deepnote_cell_type": "markdown"
      }
    }
  ],
  "nbformat": 4,
  "nbformat_minor": 4,
  "metadata": {
    "deepnote": {},
    "deepnote_execution_queue": [],
    "deepnote_notebook_id": "96582e15-1b7d-4eb5-be51-667119a2c35c",
    "kernelspec": {
      "display_name": "Python 3",
      "language": "python",
      "name": "python3"
    },
    "language_info": {
      "codemirror_mode": {
        "name": "ipython",
        "version": 3
      },
      "file_extension": ".py",
      "mimetype": "text/x-python",
      "name": "python",
      "nbconvert_exporter": "python",
      "pygments_lexer": "ipython3",
      "version": "3.7.10"
    }
  }
}