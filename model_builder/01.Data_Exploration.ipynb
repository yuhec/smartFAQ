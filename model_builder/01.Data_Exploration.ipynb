{
  "cells": [
    {
      "cell_type": "markdown",
      "source": "# DATA EXPLORATION \n---\n## Leeeet's Goooooo\n",
      "metadata": {
        "tags": [],
        "cell_id": "00000-f65edeb0-c199-4a03-800e-3c224c25d93c",
        "deepnote_cell_type": "markdown"
      }
    },
    {
      "cell_type": "code",
      "metadata": {
        "tags": [],
        "cell_id": "00002-4059b782-547f-4506-bdc6-441c29685c33",
        "deepnote_to_be_reexecuted": false,
        "source_hash": "d2852e99",
        "execution_millis": 1168,
        "execution_start": 1614954345714,
        "deepnote_cell_type": "code"
      },
      "source": "import os\nimport pandas as pd \nimport numpy as np \nimport matplotlib.pyplot as plt\nimport seaborn as sns\nimport pickle\nprint(\"Setup complete\")\n",
      "outputs": [
        {
          "name": "stdout",
          "text": "Setup complete\n",
          "output_type": "stream"
        }
      ],
      "execution_count": null
    },
    {
      "cell_type": "code",
      "metadata": {
        "tags": [],
        "cell_id": "00003-d133598b-25b3-4967-8cb2-008df0d5af2d",
        "deepnote_to_be_reexecuted": false,
        "source_hash": "f3ca3674",
        "execution_millis": 30049,
        "execution_start": 1614954348016,
        "deepnote_cell_type": "code"
      },
      "source": "df_answers = pd.read_csv('../data/Answers.csv')\ndf_questions = pd.read_csv('../data/Questions.csv')\ndf_tags = pd.read_csv('../data/Tags.csv')",
      "outputs": [],
      "execution_count": null
    },
    {
      "cell_type": "code",
      "metadata": {
        "tags": [],
        "cell_id": "00003-54bdb058-9b54-4712-8540-7036db10dc09",
        "deepnote_to_be_reexecuted": false,
        "source_hash": "5aea0cda",
        "execution_millis": 9,
        "execution_start": 1614953912053,
        "deepnote_cell_type": "code"
      },
      "source": "df_questions.head()",
      "outputs": [
        {
          "output_type": "execute_result",
          "execution_count": 10,
          "data": {
            "application/vnd.deepnote.dataframe.v2+json": {
              "row_count": 5,
              "column_count": 6,
              "columns": [
                {
                  "name": "Id",
                  "dtype": "int64",
                  "stats": {
                    "unique_count": 5,
                    "nan_count": 0,
                    "min": 469,
                    "max": 683,
                    "histogram": [
                      {
                        "bin_start": 469,
                        "bin_end": 490.4,
                        "count": 1
                      },
                      {
                        "bin_start": 490.4,
                        "bin_end": 511.8,
                        "count": 1
                      },
                      {
                        "bin_start": 511.8,
                        "bin_end": 533.2,
                        "count": 0
                      },
                      {
                        "bin_start": 533.2,
                        "bin_end": 554.6,
                        "count": 1
                      },
                      {
                        "bin_start": 554.6,
                        "bin_end": 576,
                        "count": 0
                      },
                      {
                        "bin_start": 576,
                        "bin_end": 597.4,
                        "count": 1
                      },
                      {
                        "bin_start": 597.4,
                        "bin_end": 618.8,
                        "count": 0
                      },
                      {
                        "bin_start": 618.8,
                        "bin_end": 640.2,
                        "count": 0
                      },
                      {
                        "bin_start": 640.2,
                        "bin_end": 661.6,
                        "count": 0
                      },
                      {
                        "bin_start": 661.6,
                        "bin_end": 683,
                        "count": 1
                      }
                    ]
                  }
                },
                {
                  "name": "OwnerUserId",
                  "dtype": "float64",
                  "stats": {
                    "unique_count": 4,
                    "nan_count": 0,
                    "min": 116,
                    "max": 199,
                    "histogram": [
                      {
                        "bin_start": 116,
                        "bin_end": 124.3,
                        "count": 1
                      },
                      {
                        "bin_start": 124.3,
                        "bin_end": 132.6,
                        "count": 0
                      },
                      {
                        "bin_start": 132.6,
                        "bin_end": 140.9,
                        "count": 0
                      },
                      {
                        "bin_start": 140.9,
                        "bin_end": 149.2,
                        "count": 2
                      },
                      {
                        "bin_start": 149.2,
                        "bin_end": 157.5,
                        "count": 1
                      },
                      {
                        "bin_start": 157.5,
                        "bin_end": 165.8,
                        "count": 0
                      },
                      {
                        "bin_start": 165.8,
                        "bin_end": 174.10000000000002,
                        "count": 0
                      },
                      {
                        "bin_start": 174.10000000000002,
                        "bin_end": 182.4,
                        "count": 0
                      },
                      {
                        "bin_start": 182.4,
                        "bin_end": 190.7,
                        "count": 0
                      },
                      {
                        "bin_start": 190.7,
                        "bin_end": 199,
                        "count": 1
                      }
                    ]
                  }
                },
                {
                  "name": "CreationDate",
                  "dtype": "object",
                  "stats": {
                    "unique_count": 5,
                    "nan_count": 0,
                    "categories": [
                      {
                        "name": "2008-08-02T15:11:16Z",
                        "count": 1
                      },
                      {
                        "name": "2008-08-02T17:01:58Z",
                        "count": 1
                      },
                      {
                        "name": "3 others",
                        "count": 3
                      }
                    ]
                  }
                },
                {
                  "name": "Score",
                  "dtype": "int64",
                  "stats": {
                    "unique_count": 5,
                    "nan_count": 0,
                    "min": 21,
                    "max": 40,
                    "histogram": [
                      {
                        "bin_start": 21,
                        "bin_end": 22.9,
                        "count": 1
                      },
                      {
                        "bin_start": 22.9,
                        "bin_end": 24.8,
                        "count": 0
                      },
                      {
                        "bin_start": 24.8,
                        "bin_end": 26.7,
                        "count": 1
                      },
                      {
                        "bin_start": 26.7,
                        "bin_end": 28.6,
                        "count": 2
                      },
                      {
                        "bin_start": 28.6,
                        "bin_end": 30.5,
                        "count": 0
                      },
                      {
                        "bin_start": 30.5,
                        "bin_end": 32.4,
                        "count": 0
                      },
                      {
                        "bin_start": 32.4,
                        "bin_end": 34.3,
                        "count": 0
                      },
                      {
                        "bin_start": 34.3,
                        "bin_end": 36.2,
                        "count": 0
                      },
                      {
                        "bin_start": 36.2,
                        "bin_end": 38.099999999999994,
                        "count": 0
                      },
                      {
                        "bin_start": 38.099999999999994,
                        "bin_end": 40,
                        "count": 1
                      }
                    ]
                  }
                },
                {
                  "name": "Title",
                  "dtype": "object",
                  "stats": {
                    "unique_count": 5,
                    "nan_count": 0,
                    "categories": [
                      {
                        "name": "How can I find the full path to a font from its display name on a Mac?",
                        "count": 1
                      },
                      {
                        "name": "Get a preview JPEG of a PDF on Windows?",
                        "count": 1
                      },
                      {
                        "name": "3 others",
                        "count": 3
                      }
                    ]
                  }
                },
                {
                  "name": "Body",
                  "dtype": "object",
                  "stats": {
                    "unique_count": 5,
                    "nan_count": 0,
                    "categories": [
                      {
                        "name": "<p>I am using the Photoshop's javascript API to find the fonts in a given PSD.</p>\n\n<p>Given a font name returned by the API, I want to find the actual physical font file that that font name corresponds to on the disc.</p>\n\n<p>This is all happening in a python program running on OSX so I guess I'm looking for one of:</p>\n\n<ul>\n<li>Some Photoshop javascript</li>\n<li>A Python function</li>\n<li>An OSX API that I can call from python</li>\n</ul>\n",
                        "count": 1
                      },
                      {
                        "name": "<p>I have a cross-platform (Python) application which needs to generate a JPEG preview of the first page of a PDF.</p>\n\n<p>On the Mac I am spawning <a href=\"http://developer.apple.com/documentation/Darwin/Reference/ManPages/man1/sips.1.html\">sips</a>.  Is there something similarly simple I can do on Windows?</p>\n",
                        "count": 1
                      },
                      {
                        "name": "3 others",
                        "count": 3
                      }
                    ]
                  }
                },
                {
                  "name": "_deepnote_index_column",
                  "dtype": "int64"
                }
              ],
              "rows_top": [
                {
                  "Id": 469,
                  "OwnerUserId": 147,
                  "CreationDate": "2008-08-02T15:11:16Z",
                  "Score": 21,
                  "Title": "How can I find the full path to a font from its display name on a Mac?",
                  "Body": "<p>I am using the Photoshop's javascript API to find the fonts in a given PSD.</p>\n\n<p>Given a font name returned by the API, I want to find the actual physical font file that that font name corresponds to on the disc.</p>\n\n<p>This is all happening in a python program running on OSX so I guess I'm looking for one of:</p>\n\n<ul>\n<li>Some Photoshop javascript</li>\n<li>A Python function</li>\n<li>An OSX API that I can call from python</li>\n</ul>\n",
                  "_deepnote_index_column": 0
                },
                {
                  "Id": 502,
                  "OwnerUserId": 147,
                  "CreationDate": "2008-08-02T17:01:58Z",
                  "Score": 27,
                  "Title": "Get a preview JPEG of a PDF on Windows?",
                  "Body": "<p>I have a cross-platform (Python) application which needs to generate a JPEG preview of the first page of a PDF.</p>\n\n<p>On the Mac I am spawning <a href=\"http://developer.apple.com/documentation/Darwin/Reference/ManPages/man1/sips.1.html\">sips</a>.  Is there something similarly simple I can do on Windows?</p>\n",
                  "_deepnote_index_column": 1
                },
                {
                  "Id": 535,
                  "OwnerUserId": 154,
                  "CreationDate": "2008-08-02T18:43:54Z",
                  "Score": 40,
                  "Title": "Continuous Integration System for a Python Codebase",
                  "Body": "<p>I'm starting work on a hobby project with a python codebase and would like to set up some form of continuous integration (i.e. running a battery of test-cases each time a check-in is made and sending nag e-mails to responsible persons when the tests fail) similar to CruiseControl or TeamCity.</p>\n\n<p>I realize I could do this with hooks in most VCSes, but that requires that the tests run on the same machine as the version control server, which isn't as elegant as I would like. Does anyone have any suggestions for a small, user-friendly, open-source continuous integration system suitable for a Python codebase?</p>\n",
                  "_deepnote_index_column": 2
                },
                {
                  "Id": 594,
                  "OwnerUserId": 116,
                  "CreationDate": "2008-08-03T01:15:08Z",
                  "Score": 25,
                  "Title": "cx_Oracle: How do I iterate over a result set?",
                  "Body": "<p>There are several ways to iterate over a result set. What are the tradeoff of each?</p>\n",
                  "_deepnote_index_column": 3
                },
                {
                  "Id": 683,
                  "OwnerUserId": 199,
                  "CreationDate": "2008-08-03T13:19:16Z",
                  "Score": 28,
                  "Title": "Using 'in' to match an attribute of Python objects in an array",
                  "Body": "<p>I don't remember whether I was dreaming or not but I seem to recall there being a function which allowed something like,</p>\r\n\r\n<pre><code>foo in iter_attr(array of python objects, attribute name)</code></pre>\r\n\r\n<p>I've looked over the docs but this kind of thing doesn't fall under any obvious listed headers</p>",
                  "_deepnote_index_column": 4
                }
              ],
              "rows_bottom": null
            },
            "text/plain": "    Id  OwnerUserId          CreationDate  Score  \\\n0  469        147.0  2008-08-02T15:11:16Z     21   \n1  502        147.0  2008-08-02T17:01:58Z     27   \n2  535        154.0  2008-08-02T18:43:54Z     40   \n3  594        116.0  2008-08-03T01:15:08Z     25   \n4  683        199.0  2008-08-03T13:19:16Z     28   \n\n                                               Title  \\\n0  How can I find the full path to a font from it...   \n1            Get a preview JPEG of a PDF on Windows?   \n2  Continuous Integration System for a Python Cod...   \n3     cx_Oracle: How do I iterate over a result set?   \n4  Using 'in' to match an attribute of Python obj...   \n\n                                                Body  \n0  <p>I am using the Photoshop's javascript API t...  \n1  <p>I have a cross-platform (Python) applicatio...  \n2  <p>I'm starting work on a hobby project with a...  \n3  <p>There are several ways to iterate over a re...  \n4  <p>I don't remember whether I was dreaming or ...  ",
            "text/html": "<div>\n<style scoped>\n    .dataframe tbody tr th:only-of-type {\n        vertical-align: middle;\n    }\n\n    .dataframe tbody tr th {\n        vertical-align: top;\n    }\n\n    .dataframe thead th {\n        text-align: right;\n    }\n</style>\n<table border=\"1\" class=\"dataframe\">\n  <thead>\n    <tr style=\"text-align: right;\">\n      <th></th>\n      <th>Id</th>\n      <th>OwnerUserId</th>\n      <th>CreationDate</th>\n      <th>Score</th>\n      <th>Title</th>\n      <th>Body</th>\n    </tr>\n  </thead>\n  <tbody>\n    <tr>\n      <th>0</th>\n      <td>469</td>\n      <td>147.0</td>\n      <td>2008-08-02T15:11:16Z</td>\n      <td>21</td>\n      <td>How can I find the full path to a font from it...</td>\n      <td>&lt;p&gt;I am using the Photoshop's javascript API t...</td>\n    </tr>\n    <tr>\n      <th>1</th>\n      <td>502</td>\n      <td>147.0</td>\n      <td>2008-08-02T17:01:58Z</td>\n      <td>27</td>\n      <td>Get a preview JPEG of a PDF on Windows?</td>\n      <td>&lt;p&gt;I have a cross-platform (Python) applicatio...</td>\n    </tr>\n    <tr>\n      <th>2</th>\n      <td>535</td>\n      <td>154.0</td>\n      <td>2008-08-02T18:43:54Z</td>\n      <td>40</td>\n      <td>Continuous Integration System for a Python Cod...</td>\n      <td>&lt;p&gt;I'm starting work on a hobby project with a...</td>\n    </tr>\n    <tr>\n      <th>3</th>\n      <td>594</td>\n      <td>116.0</td>\n      <td>2008-08-03T01:15:08Z</td>\n      <td>25</td>\n      <td>cx_Oracle: How do I iterate over a result set?</td>\n      <td>&lt;p&gt;There are several ways to iterate over a re...</td>\n    </tr>\n    <tr>\n      <th>4</th>\n      <td>683</td>\n      <td>199.0</td>\n      <td>2008-08-03T13:19:16Z</td>\n      <td>28</td>\n      <td>Using 'in' to match an attribute of Python obj...</td>\n      <td>&lt;p&gt;I don't remember whether I was dreaming or ...</td>\n    </tr>\n  </tbody>\n</table>\n</div>"
          },
          "metadata": {}
        }
      ],
      "execution_count": null
    },
    {
      "cell_type": "code",
      "metadata": {
        "tags": [],
        "cell_id": "00007-efa84a73-48a2-4992-958d-e86bee6e894c",
        "deepnote_to_be_reexecuted": false,
        "source_hash": "7c3bf2ff",
        "execution_millis": 933,
        "execution_start": 1614954378065,
        "deepnote_cell_type": "code"
      },
      "source": "new_data = df_answers.merge(df_questions, how='inner', left_on='ParentId', right_on='Id')",
      "outputs": [],
      "execution_count": null
    },
    {
      "cell_type": "code",
      "metadata": {
        "tags": [],
        "cell_id": "00007-2220dad8-34b7-4eaf-94fc-c0afac400f54",
        "deepnote_to_be_reexecuted": false,
        "source_hash": "176d6db8",
        "execution_millis": 282,
        "execution_start": 1614954378999,
        "deepnote_cell_type": "code"
      },
      "source": "new_data",
      "outputs": [
        {
          "output_type": "execute_result",
          "execution_count": 5,
          "data": {
            "application/vnd.deepnote.dataframe.v2+json": {
              "row_count": 987122,
              "column_count": 12,
              "columns": [
                {
                  "name": "Id_x",
                  "dtype": "int64"
                },
                {
                  "name": "OwnerUserId_x",
                  "dtype": "float64"
                },
                {
                  "name": "CreationDate_x",
                  "dtype": "object"
                },
                {
                  "name": "ParentId",
                  "dtype": "int64"
                },
                {
                  "name": "Score_x",
                  "dtype": "int64"
                },
                {
                  "name": "Body_x",
                  "dtype": "object"
                },
                {
                  "name": "Id_y",
                  "dtype": "int64"
                },
                {
                  "name": "OwnerUserId_y",
                  "dtype": "float64"
                },
                {
                  "name": "CreationDate_y",
                  "dtype": "object"
                },
                {
                  "name": "Score_y",
                  "dtype": "int64"
                },
                {
                  "name": "Title",
                  "dtype": "object"
                },
                {
                  "name": "Body_y",
                  "dtype": "object"
                },
                {
                  "name": "_deepnote_index_column",
                  "dtype": "int64"
                }
              ],
              "rows_top": [
                {
                  "Id_x": 497,
                  "OwnerUserId_x": "50.0",
                  "CreationDate_x": "2008-08-02T16:56:53Z",
                  "ParentId": 469,
                  "Score_x": 4,
                  "Body_x": "<p>open up a terminal (Applications-&gt;Utilities-&gt;Terminal) and type this in:</p>\r\n\r\n<pre><code>locate InsertFontHere<br></code></pre>\r\n\r\n<p>This will spit out every file that has the name you want.</p>\r\n\r\n<p>Warning: there may be alot to wade through.</p>",
                  "Id_y": 469,
                  "OwnerUserId_y": 147,
                  "CreationDate_y": "2008-08-02T15:11:16Z",
                  "Score_y": 21,
                  "Title": "How can I find the full path to a font from its display name on a Mac?",
                  "Body_y": "<p>I am using the Photoshop's javascript API to find the fonts in a given PSD.</p>\n\n<p>Given a font name returned by the API, I want to find the actual physical font file that that font name corresponds to on the disc.</p>\n\n<p>This is all happening in a python program running on OSX so I guess I'm looking for one of:</p>\n\n<ul>\n<li>Some Photoshop javascript</li>\n<li>A Python function</li>\n<li>An OSX API that I can call from python</li>\n</ul>\n",
                  "_deepnote_index_column": 0
                },
                {
                  "Id_x": 518,
                  "OwnerUserId_x": "153.0",
                  "CreationDate_x": "2008-08-02T17:42:28Z",
                  "ParentId": 469,
                  "Score_x": 2,
                  "Body_x": "<p>I haven't been able to find anything that does this directly.  I think you'll have to iterate through the various font folders on the system: <code>/System/Library/Fonts</code>, <code>/Library/Fonts</code>, and there can probably be a user-level directory as well <code>~/Library/Fonts</code>.</p>\n",
                  "Id_y": 469,
                  "OwnerUserId_y": 147,
                  "CreationDate_y": "2008-08-02T15:11:16Z",
                  "Score_y": 21,
                  "Title": "How can I find the full path to a font from its display name on a Mac?",
                  "Body_y": "<p>I am using the Photoshop's javascript API to find the fonts in a given PSD.</p>\n\n<p>Given a font name returned by the API, I want to find the actual physical font file that that font name corresponds to on the disc.</p>\n\n<p>This is all happening in a python program running on OSX so I guess I'm looking for one of:</p>\n\n<ul>\n<li>Some Photoshop javascript</li>\n<li>A Python function</li>\n<li>An OSX API that I can call from python</li>\n</ul>\n",
                  "_deepnote_index_column": 1
                },
                {
                  "Id_x": 3040,
                  "OwnerUserId_x": "457.0",
                  "CreationDate_x": "2008-08-06T03:01:23Z",
                  "ParentId": 469,
                  "Score_x": 12,
                  "Body_x": "<p>Unfortunately the only API that isn't deprecated is located in the ApplicationServices framework, which doesn't have a bridge support file, and thus isn't available in the bridge. If you're wanting to use ctypes, you can use ATSFontGetFileReference after looking up the ATSFontRef.</p>\r\n\r\n<p>Cocoa doesn't have any native support, at least as of 10.5, for getting the location of a font.</p>",
                  "Id_y": 469,
                  "OwnerUserId_y": 147,
                  "CreationDate_y": "2008-08-02T15:11:16Z",
                  "Score_y": 21,
                  "Title": "How can I find the full path to a font from its display name on a Mac?",
                  "Body_y": "<p>I am using the Photoshop's javascript API to find the fonts in a given PSD.</p>\n\n<p>Given a font name returned by the API, I want to find the actual physical font file that that font name corresponds to on the disc.</p>\n\n<p>This is all happening in a python program running on OSX so I guess I'm looking for one of:</p>\n\n<ul>\n<li>Some Photoshop javascript</li>\n<li>A Python function</li>\n<li>An OSX API that I can call from python</li>\n</ul>\n",
                  "_deepnote_index_column": 2
                },
                {
                  "Id_x": 195170,
                  "OwnerUserId_x": "745.0",
                  "CreationDate_x": "2008-10-12T07:02:40Z",
                  "ParentId": 469,
                  "Score_x": 1,
                  "Body_x": "<p>There must be a method in Cocoa to get a list of fonts, then you would have to use the PyObjC bindings to call it..</p>\n\n<p>Depending on what you need them for, you could probably just use something like the following..</p>\n\n<pre><code>import os\ndef get_font_list():\n    fonts = []\n    for font_path in [\"/Library/Fonts\", os.path.expanduser(\"~/Library/Fonts\")]:\n        if os.path.isdir(font_path):\n            fonts.extend(\n                [os.path.join(font_path, cur_font) \n                 for cur_font in os.listdir(font_path)\n                ]\n            )\n    return fonts\n</code></pre>\n",
                  "Id_y": 469,
                  "OwnerUserId_y": 147,
                  "CreationDate_y": "2008-08-02T15:11:16Z",
                  "Score_y": 21,
                  "Title": "How can I find the full path to a font from its display name on a Mac?",
                  "Body_y": "<p>I am using the Photoshop's javascript API to find the fonts in a given PSD.</p>\n\n<p>Given a font name returned by the API, I want to find the actual physical font file that that font name corresponds to on the disc.</p>\n\n<p>This is all happening in a python program running on OSX so I guess I'm looking for one of:</p>\n\n<ul>\n<li>Some Photoshop javascript</li>\n<li>A Python function</li>\n<li>An OSX API that I can call from python</li>\n</ul>\n",
                  "_deepnote_index_column": 3
                },
                {
                  "Id_x": 536,
                  "OwnerUserId_x": "161.0",
                  "CreationDate_x": "2008-08-02T18:49:07Z",
                  "ParentId": 502,
                  "Score_x": 9,
                  "Body_x": "<p>You can use ImageMagick's convert utility for this, see some examples in <a href=\"https://web.archive.org/web/20120413111338/http://studio.imagemagick.org/pipermail/magick-users/2002-May/002636.html\" rel=\"nofollow\">http://studio.imagemagick.org/pipermail/magick-users/2002-May/002636.html</a>\n:</p>\n\n<blockquote>\n<pre><code>Convert taxes.pdf taxes.jpg \n</code></pre>\n  \n  <p>Will convert a two page PDF file into [2] jpeg files: taxes.jpg.0,\n  taxes.jpg.1</p>\n  \n  <p>I can also convert these JPEGS to a thumbnail as follows:</p>\n\n<pre><code>convert -size 120x120 taxes.jpg.0 -geometry 120x120 +profile '*' thumbnail.jpg\n</code></pre>\n  \n  <p>I can even convert the PDF directly to a jpeg thumbnail as follows:</p>\n\n<pre><code>convert -size 120x120 taxes.pdf -geometry 120x120 +profile '*' thumbnail.jpg\n</code></pre>\n  \n  <p>This will result in a thumbnail.jpg.0 and thumbnail.jpg.1 for the two\n  pages.</p>\n</blockquote>\n",
                  "Id_y": 502,
                  "OwnerUserId_y": 147,
                  "CreationDate_y": "2008-08-02T17:01:58Z",
                  "Score_y": 27,
                  "Title": "Get a preview JPEG of a PDF on Windows?",
                  "Body_y": "<p>I have a cross-platform (Python) application which needs to generate a JPEG preview of the first page of a PDF.</p>\n\n<p>On the Mac I am spawning <a href=\"http://developer.apple.com/documentation/Darwin/Reference/ManPages/man1/sips.1.html\">sips</a>.  Is there something similarly simple I can do on Windows?</p>\n",
                  "_deepnote_index_column": 4
                },
                {
                  "Id_x": 7073,
                  "OwnerUserId_x": "878.0",
                  "CreationDate_x": "2008-08-10T07:10:19Z",
                  "ParentId": 502,
                  "Score_x": 2,
                  "Body_x": "<p>Is the PC likely to have Acrobat installed? I think Acrobat installs a shell extension so previews of the first page of a PDF document appear in Windows Explorer's thumbnail view. You can get thumbnails yourself via the IExtractImage COM API, which you'll need to wrap. <a href=\"http://www.vbaccelerator.com/home/net/code/libraries/shell_projects/Thumbnail_Extraction/article.asp\" rel=\"nofollow\" title=\"Domain Specific Development with Visual Studio DSL Tools.\">VBAccelerator has an example in C#</a> that you could port to Python.</p>\n",
                  "Id_y": 502,
                  "OwnerUserId_y": 147,
                  "CreationDate_y": "2008-08-02T17:01:58Z",
                  "Score_y": 27,
                  "Title": "Get a preview JPEG of a PDF on Windows?",
                  "Body_y": "<p>I have a cross-platform (Python) application which needs to generate a JPEG preview of the first page of a PDF.</p>\n\n<p>On the Mac I am spawning <a href=\"http://developer.apple.com/documentation/Darwin/Reference/ManPages/man1/sips.1.html\">sips</a>.  Is there something similarly simple I can do on Windows?</p>\n",
                  "_deepnote_index_column": 5
                },
                {
                  "Id_x": 7090,
                  "OwnerUserId_x": "13.0",
                  "CreationDate_x": "2008-08-10T08:08:33Z",
                  "ParentId": 502,
                  "Score_x": 25,
                  "Body_x": "<p>ImageMagick delegates the PDF->bitmap conversion to GhostScript anyway, so here's a command you can use (it's based on the actual command listed by the <code>ps:alpha</code> delegate in ImageMagick, just adjusted to use JPEG as output):</p>\n\n<pre><code>gs -q -dQUIET -dPARANOIDSAFER -dBATCH -dNOPAUSE -dNOPROMPT \\\n-dMaxBitmap=500000000 -dLastPage=1 -dAlignToPixels=0 -dGridFitTT=0 \\\n-sDEVICE=jpeg -dTextAlphaBits=4 -dGraphicsAlphaBits=4 -r72x72 \\\n-sOutputFile=$OUTPUT -f$INPUT\n</code></pre>\n\n<p>where <code>$OUTPUT</code> and <code>$INPUT</code> are the output and input filenames. Adjust the <code>72x72</code> to whatever resolution you need. (Obviously, strip out the backslashes if you're writing out the whole command as one line.)</p>\n\n<p>This is good for two reasons:</p>\n\n<ol>\n<li>You don't need to have ImageMagick installed anymore. Not that I have anything against ImageMagick (I love it to bits), but I believe in simple solutions.</li>\n<li>ImageMagick does a two-step conversion. First PDF->PPM, then PPM->JPEG. This way, the conversion is one-step.</li>\n</ol>\n\n<p>Other things to consider: with the files I've tested, PNG compresses better than JPEG. If you want to use PNG, change the <code>-sDEVICE=jpeg</code> to <code>-sDEVICE=png16m</code>.</p>\n",
                  "Id_y": 502,
                  "OwnerUserId_y": 147,
                  "CreationDate_y": "2008-08-02T17:01:58Z",
                  "Score_y": 27,
                  "Title": "Get a preview JPEG of a PDF on Windows?",
                  "Body_y": "<p>I have a cross-platform (Python) application which needs to generate a JPEG preview of the first page of a PDF.</p>\n\n<p>On the Mac I am spawning <a href=\"http://developer.apple.com/documentation/Darwin/Reference/ManPages/man1/sips.1.html\">sips</a>.  Is there something similarly simple I can do on Windows?</p>\n",
                  "_deepnote_index_column": 6
                },
                {
                  "Id_x": 538,
                  "OwnerUserId_x": "156.0",
                  "CreationDate_x": "2008-08-02T18:56:56Z",
                  "ParentId": 535,
                  "Score_x": 23,
                  "Body_x": "<p>One possibility is Hudson.  It's written in Java, but there's integration with Python projects:</p>\n\n<blockquote>\n  <p><a href=\"http://redsolo.blogspot.com/2007/11/hudson-embraces-python.html\" rel=\"nofollow\">Hudson embraces Python</a></p>\n</blockquote>\n\n<p>I've never tried it myself, however.</p>\n\n<p>(<strong>Update</strong>, Sept. 2011: After a trademark dispute Hudson has been renamed to <a href=\"http://jenkins-ci.org/\" rel=\"nofollow\">Jenkins</a>.)</p>\n",
                  "Id_y": 535,
                  "OwnerUserId_y": 154,
                  "CreationDate_y": "2008-08-02T18:43:54Z",
                  "Score_y": 40,
                  "Title": "Continuous Integration System for a Python Codebase",
                  "Body_y": "<p>I'm starting work on a hobby project with a python codebase and would like to set up some form of continuous integration (i.e. running a battery of test-cases each time a check-in is made and sending nag e-mails to responsible persons when the tests fail) similar to CruiseControl or TeamCity.</p>\n\n<p>I realize I could do this with hooks in most VCSes, but that requires that the tests run on the same machine as the version control server, which isn't as elegant as I would like. Does anyone have any suggestions for a small, user-friendly, open-source continuous integration system suitable for a Python codebase?</p>\n",
                  "_deepnote_index_column": 7
                },
                {
                  "Id_x": 541,
                  "OwnerUserId_x": "157.0",
                  "CreationDate_x": "2008-08-02T19:06:40Z",
                  "ParentId": 535,
                  "Score_x": 20,
                  "Body_x": "<p>We run <a href=\"http://buildbot.net/trac\">Buildbot - Trac</a> at work, I haven't used it too much since my code base isn't part of the release cycle yet. But we run the tests on different environments (OSX/Linux/Win) and it sends emails --and it's written in python.</p>",
                  "Id_y": 535,
                  "OwnerUserId_y": 154,
                  "CreationDate_y": "2008-08-02T18:43:54Z",
                  "Score_y": 40,
                  "Title": "Continuous Integration System for a Python Codebase",
                  "Body_y": "<p>I'm starting work on a hobby project with a python codebase and would like to set up some form of continuous integration (i.e. running a battery of test-cases each time a check-in is made and sending nag e-mails to responsible persons when the tests fail) similar to CruiseControl or TeamCity.</p>\n\n<p>I realize I could do this with hooks in most VCSes, but that requires that the tests run on the same machine as the version control server, which isn't as elegant as I would like. Does anyone have any suggestions for a small, user-friendly, open-source continuous integration system suitable for a Python codebase?</p>\n",
                  "_deepnote_index_column": 8
                },
                {
                  "Id_x": 660,
                  "OwnerUserId_x": "197.0",
                  "CreationDate_x": "2008-08-03T12:09:18Z",
                  "ParentId": 535,
                  "Score_x": 14,
                  "Body_x": "<p>Second the Buildbot - Trac integration. You can find more information about the integration on the <a href=\"http://buildbot.net/trac/wiki/BuildbotAndTrac\">Buildbot website</a>. At my previous job, we wrote and used the plugin they mention (tracbb).\r\nWhat the plugin does is rewriting all of the Buildbot urls so you can use Buildbot from within Trac. (http://example.com/tracbb).</p>\r\n\r\n<p>The really nice thing about Buildbot is that the configuration is written in Python. You can integrate your own Python code directly to the configuration. It's also very easy to write your own BuildSteps to execute specific tasks.</p>\r\n\r\n<p>We used BuildSteps to get the source from SVN, pull the dependencies, publish test results to WebDAV, etcetera.</p>\r\n\r\n<p>I wrote an X10 interface so we could send signals with build results. When the build failed, we switched on a red lava lamp. When the build succeeded, a green lava lamp switched on. Good times :-)</p>",
                  "Id_y": 535,
                  "OwnerUserId_y": 154,
                  "CreationDate_y": "2008-08-02T18:43:54Z",
                  "Score_y": 40,
                  "Title": "Continuous Integration System for a Python Codebase",
                  "Body_y": "<p>I'm starting work on a hobby project with a python codebase and would like to set up some form of continuous integration (i.e. running a battery of test-cases each time a check-in is made and sending nag e-mails to responsible persons when the tests fail) similar to CruiseControl or TeamCity.</p>\n\n<p>I realize I could do this with hooks in most VCSes, but that requires that the tests run on the same machine as the version control server, which isn't as elegant as I would like. Does anyone have any suggestions for a small, user-friendly, open-source continuous integration system suitable for a Python codebase?</p>\n",
                  "_deepnote_index_column": 9
                },
                {
                  "Id_x": 61746,
                  "OwnerUserId_x": "6372.0",
                  "CreationDate_x": "2008-09-15T00:11:21Z",
                  "ParentId": 535,
                  "Score_x": 13,
                  "Body_x": "<p>We use both Buildbot and Hudson for Jython development.  Both are useful, but have different strengths and weaknesses.</p>\n\n<p>Buildbot's configuration is pure Python and quite simple once you get the hang of it (look at the epydoc-generated API docs for the most current info).  Buildbot makes it easier to define non-testing tasks and distribute the testers.  However, it really has no concept of individual tests, just textual, HTML, and summary output, so if you want to have multi-level browsable test output and so forth you'll have to build it yourself, or just use Hudson.</p>\n\n<p>Hudson has terrific support for drilling down from overall results into test suites and individual tests; it also is great for comparing test output between builds, but the distributed (master/slave) stuff is comparatively more complicated because you need a Java environment on the slaves too; also, Hudson is less tolerant of flaky network links between the master and slaves.</p>\n\n<p>So, to get the benefits of both tools, we run a single instance of Hudson, which catches the common test failures, then we do multi-platform regression with Buildbot.</p>\n\n<p>Here are our instances:</p>\n\n<ul>\n<li><a href=\"http://bob.underboss.org:8080/job/jython/lastBuild/testReport/\">Jython Hudson</a></li>\n<li><a href=\"http://www.acm.uiuc.edu/jython-buildbot/waterfall\">Jython buildbot</a></li>\n</ul>\n",
                  "Id_y": 535,
                  "OwnerUserId_y": 154,
                  "CreationDate_y": "2008-08-02T18:43:54Z",
                  "Score_y": 40,
                  "Title": "Continuous Integration System for a Python Codebase",
                  "Body_y": "<p>I'm starting work on a hobby project with a python codebase and would like to set up some form of continuous integration (i.e. running a battery of test-cases each time a check-in is made and sending nag e-mails to responsible persons when the tests fail) similar to CruiseControl or TeamCity.</p>\n\n<p>I realize I could do this with hooks in most VCSes, but that requires that the tests run on the same machine as the version control server, which isn't as elegant as I would like. Does anyone have any suggestions for a small, user-friendly, open-source continuous integration system suitable for a Python codebase?</p>\n",
                  "_deepnote_index_column": 10
                },
                {
                  "Id_x": 74452,
                  "OwnerUserId_x": "8450.0",
                  "CreationDate_x": "2008-09-16T16:51:46Z",
                  "ParentId": 535,
                  "Score_x": 4,
                  "Body_x": "<p>We are using <a href=\"http://bitten.edgewall.org/\" rel=\"nofollow\">Bitten</a> wich is integrated with trac. And it's python based.</p>\n",
                  "Id_y": 535,
                  "OwnerUserId_y": 154,
                  "CreationDate_y": "2008-08-02T18:43:54Z",
                  "Score_y": 40,
                  "Title": "Continuous Integration System for a Python Codebase",
                  "Body_y": "<p>I'm starting work on a hobby project with a python codebase and would like to set up some form of continuous integration (i.e. running a battery of test-cases each time a check-in is made and sending nag e-mails to responsible persons when the tests fail) similar to CruiseControl or TeamCity.</p>\n\n<p>I realize I could do this with hooks in most VCSes, but that requires that the tests run on the same machine as the version control server, which isn't as elegant as I would like. Does anyone have any suggestions for a small, user-friendly, open-source continuous integration system suitable for a Python codebase?</p>\n",
                  "_deepnote_index_column": 11
                },
                {
                  "Id_x": 117712,
                  "OwnerUserId_x": "nan",
                  "CreationDate_x": "2008-09-22T21:18:15Z",
                  "ParentId": 535,
                  "Score_x": 3,
                  "Body_x": "<p>TeamCity has some Python <a href=\"http://www.jetbrains.net/confluence/display/TW/Python+Unit+Test+Reporting\" rel=\"nofollow\">integration</a>.</p>\n\n<p>But TeamCity is:</p>\n\n<ul>\n<li>not open-source</li>\n<li>is not small, but rather feature rich</li>\n<li>is free for small-mid teams.</li>\n</ul>\n",
                  "Id_y": 535,
                  "OwnerUserId_y": 154,
                  "CreationDate_y": "2008-08-02T18:43:54Z",
                  "Score_y": 40,
                  "Title": "Continuous Integration System for a Python Codebase",
                  "Body_y": "<p>I'm starting work on a hobby project with a python codebase and would like to set up some form of continuous integration (i.e. running a battery of test-cases each time a check-in is made and sending nag e-mails to responsible persons when the tests fail) similar to CruiseControl or TeamCity.</p>\n\n<p>I realize I could do this with hooks in most VCSes, but that requires that the tests run on the same machine as the version control server, which isn't as elegant as I would like. Does anyone have any suggestions for a small, user-friendly, open-source continuous integration system suitable for a Python codebase?</p>\n",
                  "_deepnote_index_column": 12
                },
                {
                  "Id_x": 9120453,
                  "OwnerUserId_x": "218681.0",
                  "CreationDate_x": "2012-02-02T21:42:23Z",
                  "ParentId": 535,
                  "Score_x": 2,
                  "Body_x": "<p>I have very good experiences with <a href=\"http://travis-ci.org/\" rel=\"nofollow\">Travis-CI</a> for smaller code bases.\nThe main advantages are:</p>\n\n<ul>\n<li>setup is done in less than half a screen of config file</li>\n<li>you can do your own installation or just use the free hosted version</li>\n<li>semi-automatic setup for github repositories</li>\n<li>no account needed on website; login via github</li>\n</ul>\n\n<p>Some limitations:</p>\n\n<ul>\n<li><p>Python is not supported as a first class language (as of time of writing; but you can use pip and apt-get to install python dependencies; see <a href=\"http://www.travisswicegood.com/2011/11/11/travis-and-python/\" rel=\"nofollow\">this tutorial</a>)</p></li>\n<li><p>code has to be hosted on github (at least when using the official version)</p></li>\n</ul>\n",
                  "Id_y": 535,
                  "OwnerUserId_y": 154,
                  "CreationDate_y": "2008-08-02T18:43:54Z",
                  "Score_y": 40,
                  "Title": "Continuous Integration System for a Python Codebase",
                  "Body_y": "<p>I'm starting work on a hobby project with a python codebase and would like to set up some form of continuous integration (i.e. running a battery of test-cases each time a check-in is made and sending nag e-mails to responsible persons when the tests fail) similar to CruiseControl or TeamCity.</p>\n\n<p>I realize I could do this with hooks in most VCSes, but that requires that the tests run on the same machine as the version control server, which isn't as elegant as I would like. Does anyone have any suggestions for a small, user-friendly, open-source continuous integration system suitable for a Python codebase?</p>\n",
                  "_deepnote_index_column": 13
                },
                {
                  "Id_x": 595,
                  "OwnerUserId_x": "116.0",
                  "CreationDate_x": "2008-08-03T01:17:36Z",
                  "ParentId": 594,
                  "Score_x": 25,
                  "Body_x": "<p>The canonical way is to use the built-in cursor iterator.</p>\n\n<pre><code>curs.execute('select * from people')\nfor row in curs:\n    print row\n</code></pre>\n\n<hr>\n\n<p>You can use <code>fetchall()</code> to get all rows at once.</p>\n\n<pre><code>for row in curs.fetchall():\n    print row\n</code></pre>\n\n<p>It can be convenient to use this to create a Python list containing the values returned:</p>\n\n<pre><code>curs.execute('select first_name from people')\nnames = [row[0] for row in curs.fetchall()]\n</code></pre>\n\n<p>This can be useful for smaller result sets, but can have bad side effects if the result set is large.</p>\n\n<ul>\n<li><p>You have to wait for the entire result set to be returned to\nyour client process.</p></li>\n<li><p>You may eat up a lot of memory in your client to hold\nthe built-up list.</p></li>\n<li><p>It may take a while for Python to construct and deconstruct the\nlist which you are going to immediately discard anyways.</p></li>\n</ul>\n\n<hr>\n\n<p>If you know there's a single row being returned in the result set you can call <code>fetchone()</code> to get the single row.</p>\n\n<pre><code>curs.execute('select max(x) from t')\nmaxValue = curs.fetchone()[0]\n</code></pre>\n\n<hr>\n\n<p>Finally, you can loop over the result set fetching one row at a time.  In general, there's no particular advantage in doing this over using the iterator.</p>\n\n<pre><code>row = curs.fetchone()\nwhile row:\n    print row\n    row = curs.fetchone()\n</code></pre>\n",
                  "Id_y": 594,
                  "OwnerUserId_y": 116,
                  "CreationDate_y": "2008-08-03T01:15:08Z",
                  "Score_y": 25,
                  "Title": "cx_Oracle: How do I iterate over a result set?",
                  "Body_y": "<p>There are several ways to iterate over a result set. What are the tradeoff of each?</p>\n",
                  "_deepnote_index_column": 14
                },
                {
                  "Id_x": 25213,
                  "OwnerUserId_x": "1421.0",
                  "CreationDate_x": "2008-08-24T17:28:26Z",
                  "ParentId": 594,
                  "Score_x": 4,
                  "Body_x": "<p>There's also the way <code>psyco-pg</code> seems to do it... From what I gather, it seems to create dictionary-like row-proxies to map key lookup into the memory block returned by the query. In that case, fetching the whole answer and working with a similar proxy-factory over the rows seems like useful idea. Come to think of it though, it feels more like Lua than Python.</p>\n\n<p>Also, this should be applicable to all <a href=\"http://www.python.org/dev/peps/pep-0249/\" rel=\"nofollow\">PEP-249 DBAPI2.0</a> interfaces, not just Oracle, or did you mean just <em>fastest</em> using <em>Oracle</em>?</p>\n",
                  "Id_y": 594,
                  "OwnerUserId_y": 116,
                  "CreationDate_y": "2008-08-03T01:15:08Z",
                  "Score_y": 25,
                  "Title": "cx_Oracle: How do I iterate over a result set?",
                  "Body_y": "<p>There are several ways to iterate over a result set. What are the tradeoff of each?</p>\n",
                  "_deepnote_index_column": 15
                },
                {
                  "Id_x": 125140,
                  "OwnerUserId_x": "20037.0",
                  "CreationDate_x": "2008-09-24T02:51:00Z",
                  "ParentId": 594,
                  "Score_x": 17,
                  "Body_x": "<p>My preferred way is the cursor iterator, but setting first the arraysize property of the cursor. </p>\n\n<pre><code>curs.execute('select * from people')\ncurs.arraysize = 256\nfor row in curs:\n    print row\n</code></pre>\n\n<p>In this example, cx_Oracle will fetch rows from Oracle 256 rows at a time, reducing the number of network round trips that need to be performed</p>\n",
                  "Id_y": 594,
                  "OwnerUserId_y": 116,
                  "CreationDate_y": "2008-08-03T01:15:08Z",
                  "Score_y": 25,
                  "Title": "cx_Oracle: How do I iterate over a result set?",
                  "Body_y": "<p>There are several ways to iterate over a result set. What are the tradeoff of each?</p>\n",
                  "_deepnote_index_column": 16
                },
                {
                  "Id_x": 701,
                  "OwnerUserId_x": "111.0",
                  "CreationDate_x": "2008-08-03T14:30:50Z",
                  "ParentId": 683,
                  "Score_x": 3,
                  "Body_x": "<p>No, you were not dreaming.  Python has a pretty excellent list comprehension system that lets you manipulate lists pretty elegantly, and depending on exactly what you want to accomplish, this can be done a couple of ways.  In essence, what you're doing is saying \"For item in list if criteria.matches\", and from that you can just iterate through the results or dump the results into a new list.</p>\n\n<p>I'm going to crib an example from <a href=\"http://diveintopython.net/functional_programming/filtering_lists.html\" rel=\"nofollow\">Dive Into Python</a> here, because it's pretty elegant and they're smarter than I am.  Here they're getting a list of files in a directory, then filtering the list for all files that match a regular expression criteria.</p>\n\n<blockquote>\n<pre><code>    files = os.listdir(path)                               \n    test = re.compile(\"test\\.py$\", re.IGNORECASE)          \n    files = [f for f in files if test.search(f)]\n</code></pre>\n</blockquote>\n\n<p>You could do this without regular expressions, for your example, for anything where your expression at the end returns true for a match.  There are other options like using the filter() function, but if I were going to choose, I'd go with this.</p>\n\n<p>Eric Sipple</p>\n",
                  "Id_y": 683,
                  "OwnerUserId_y": 199,
                  "CreationDate_y": "2008-08-03T13:19:16Z",
                  "Score_y": 28,
                  "Title": "Using 'in' to match an attribute of Python objects in an array",
                  "Body_y": "<p>I don't remember whether I was dreaming or not but I seem to recall there being a function which allowed something like,</p>\r\n\r\n<pre><code>foo in iter_attr(array of python objects, attribute name)</code></pre>\r\n\r\n<p>I've looked over the docs but this kind of thing doesn't fall under any obvious listed headers</p>",
                  "_deepnote_index_column": 17
                },
                {
                  "Id_x": 735,
                  "OwnerUserId_x": "145.0",
                  "CreationDate_x": "2008-08-03T15:47:22Z",
                  "ParentId": 683,
                  "Score_x": -2,
                  "Body_x": "<p>I think:</p>\r\n\r\n<pre><code>#!/bin/python<br>bar in dict(Foo)<br></code></pre>\r\n\r\n<p>Is what you are thinking of.  When trying to see if a certain key exists within a dictionary in python (python's version of a hash table) there are two ways to check.  First is the <strong><code>has_key()</code></strong> method attached to the dictionary and second is the example given above.  It will return a boolean value.</p>\r\n\r\n<p>That should answer your question.</p>\r\n\r\n<p>And now a little off topic to tie this in to the <em>list comprehension</em> answer previously given (for a bit more clarity).  <em>List Comprehensions</em> construct a list from a basic <em>for loop</em> with modifiers.  As an example (to clarify slightly), a way to use the <code>in dict</code> language construct in a _list comprehension_:</p>\r\n\r\n<p>Say you have a two dimensional dictionary <strong><code>foo</code></strong> and you only want the second dimension dictionaries which contain the key <strong><code>bar</code></strong>.  A relatively straightforward way to do so would be to use a <em>list comprehension</em> with a conditional as follows:</p>\r\n\r\n<pre><code>#!/bin/python<br>baz = dict([(key, value) for key, value in foo if bar in value])<br></code></pre>\r\n\r\n<p>Note the <strong><code>if bar in value</code></strong> at the end of the statement<strong>, this is a modifying clause which tells the <em>list comprehension</em> to only keep those key-value pairs which meet the conditional.</strong>  In this case <strong><code>baz</code></strong> is a new dictionary which contains only the dictionaries from foo which contain bar (Hopefully I didn't miss anything in that code example... you may have to take a look at the list comprehension documentation found in <a href=\"http://docs.python.org/tut/node7.html#SECTION007140000000000000000\" rel=\"nofollow\">docs.python.org tutorials</a> and at <a href=\"http://www.secnetix.de/olli/Python/list_comprehensions.hawk\" rel=\"nofollow\">secnetix.de</a>, both sites are good references if you have questions in the future.).</p>",
                  "Id_y": 683,
                  "OwnerUserId_y": 199,
                  "CreationDate_y": "2008-08-03T13:19:16Z",
                  "Score_y": 28,
                  "Title": "Using 'in' to match an attribute of Python objects in an array",
                  "Body_y": "<p>I don't remember whether I was dreaming or not but I seem to recall there being a function which allowed something like,</p>\r\n\r\n<pre><code>foo in iter_attr(array of python objects, attribute name)</code></pre>\r\n\r\n<p>I've looked over the docs but this kind of thing doesn't fall under any obvious listed headers</p>",
                  "_deepnote_index_column": 18
                },
                {
                  "Id_x": 745,
                  "OwnerUserId_x": "154.0",
                  "CreationDate_x": "2008-08-03T15:59:19Z",
                  "ParentId": 683,
                  "Score_x": 8,
                  "Body_x": "<p>Are you looking to get a list of objects that have a certain attribute? If so, a <a href=\"http://docs.python.org/tut/node7.html#SECTION007140000000000000000\">list comprehension</a> is the right way to do this.</p>\r\n\r\n<pre><code>result = [obj for obj in listOfObjs if hasattr(obj, 'attributeName')]<br></code></pre>",
                  "Id_y": 683,
                  "OwnerUserId_y": 199,
                  "CreationDate_y": "2008-08-03T13:19:16Z",
                  "Score_y": 28,
                  "Title": "Using 'in' to match an attribute of Python objects in an array",
                  "Body_y": "<p>I don't remember whether I was dreaming or not but I seem to recall there being a function which allowed something like,</p>\r\n\r\n<pre><code>foo in iter_attr(array of python objects, attribute name)</code></pre>\r\n\r\n<p>I've looked over the docs but this kind of thing doesn't fall under any obvious listed headers</p>",
                  "_deepnote_index_column": 19
                },
                {
                  "Id_x": 750,
                  "OwnerUserId_x": "199.0",
                  "CreationDate_x": "2008-08-03T16:13:29Z",
                  "ParentId": 683,
                  "Score_x": 2,
                  "Body_x": "<p>What I was thinking of can be achieved using list comprehensions, but I thought that there was a function that did this in a slightly neater way.</p>\r\n\r\n<p>i.e. 'bar' is a list of objects, all of which have the attribute 'id'</p>\r\n\r\n<p>The mythical functional way:</p>\r\n\r\n<pre><code>foo = 12<br>foo in iter_attr(bar, 'id')</code></pre>\r\n\r\n<p>The list comprehension way:</p>\r\n\r\n<pre><code>foo = 12<br>foo in [obj.id for obj in bar]</code></pre>\r\n\r\n<p>In retrospect the list comprehension way is pretty neat anyway.</p>",
                  "Id_y": 683,
                  "OwnerUserId_y": 199,
                  "CreationDate_y": "2008-08-03T13:19:16Z",
                  "Score_y": 28,
                  "Title": "Using 'in' to match an attribute of Python objects in an array",
                  "Body_y": "<p>I don't remember whether I was dreaming or not but I seem to recall there being a function which allowed something like,</p>\r\n\r\n<pre><code>foo in iter_attr(array of python objects, attribute name)</code></pre>\r\n\r\n<p>I've looked over the docs but this kind of thing doesn't fall under any obvious listed headers</p>",
                  "_deepnote_index_column": 20
                },
                {
                  "Id_x": 31126,
                  "OwnerUserId_x": "3119.0",
                  "CreationDate_x": "2008-08-27T20:13:49Z",
                  "ParentId": 683,
                  "Score_x": 6,
                  "Body_x": "<p>you could always write one yourself:</p>\n\n<pre><code>def iterattr(iterator, attributename):\n    for obj in iterator:\n        yield getattr(obj, attributename)\n</code></pre>\n\n<p>will work with anything that iterates, be it a tuple, list, or whatever.</p>\n\n<p>I love python, it makes stuff like this very simple and no more of a hassle than neccessary, and in use stuff like this is hugely elegant.</p>\n",
                  "Id_y": 683,
                  "OwnerUserId_y": 199,
                  "CreationDate_y": "2008-08-03T13:19:16Z",
                  "Score_y": 28,
                  "Title": "Using 'in' to match an attribute of Python objects in an array",
                  "Body_y": "<p>I don't remember whether I was dreaming or not but I seem to recall there being a function which allowed something like,</p>\r\n\r\n<pre><code>foo in iter_attr(array of python objects, attribute name)</code></pre>\r\n\r\n<p>I've looked over the docs but this kind of thing doesn't fall under any obvious listed headers</p>",
                  "_deepnote_index_column": 21
                },
                {
                  "Id_x": 31188,
                  "OwnerUserId_x": "2147.0",
                  "CreationDate_x": "2008-08-27T20:30:22Z",
                  "ParentId": 683,
                  "Score_x": 2,
                  "Body_x": "<p>If you plan on searching anything of remotely decent size, your best bet is going to be to use a dictionary or a set.  Otherwise, you basically have to iterate through every element of the iterator until you get to the one you want.</p>\n\n<p>If this isn't necessarily performance sensitive code, then the list comprehension way should work.  But note that it is fairly inefficient because it goes over every element of the iterator and then goes BACK over it again until it finds what it wants.</p>\n\n<p>Remember, python has one of the most efficient hashing algorithms around.  Use it to your advantage.</p>\n",
                  "Id_y": 683,
                  "OwnerUserId_y": 199,
                  "CreationDate_y": "2008-08-03T13:19:16Z",
                  "Score_y": 28,
                  "Title": "Using 'in' to match an attribute of Python objects in an array",
                  "Body_y": "<p>I don't remember whether I was dreaming or not but I seem to recall there being a function which allowed something like,</p>\r\n\r\n<pre><code>foo in iter_attr(array of python objects, attribute name)</code></pre>\r\n\r\n<p>I've looked over the docs but this kind of thing doesn't fall under any obvious listed headers</p>",
                  "_deepnote_index_column": 22
                },
                {
                  "Id_x": 57833,
                  "OwnerUserId_x": "4702.0",
                  "CreationDate_x": "2008-09-11T22:42:14Z",
                  "ParentId": 683,
                  "Score_x": 29,
                  "Body_x": "<p>Using a list comprehension would build a temporary list, which could eat all your memory if the sequence being searched is large. Even if the sequence is not large, building the list means iterating over the whole of the sequence before <code>in</code> could start its search.</p>\n\n<p>The temporary list can be avoiding by using a generator expression:</p>\n\n<pre><code>foo = 12\nfoo in (obj.id for obj in bar)\n</code></pre>\n\n<p>Now, as long as <code>obj.id == 12</code> near the start of <code>bar</code>, the search will be fast, even if <code>bar</code> is infinitely long.</p>\n\n<p>As @Matt suggested, it's a good idea to use <code>hasattr</code> if any of the objects in <code>bar</code> can be missing an <code>id</code> attribute:</p>\n\n<pre><code>foo = 12\nfoo in (obj.id for obj in bar if hasattr(obj, 'id'))\n</code></pre>\n",
                  "Id_y": 683,
                  "OwnerUserId_y": 199,
                  "CreationDate_y": "2008-08-03T13:19:16Z",
                  "Score_y": 28,
                  "Title": "Using 'in' to match an attribute of Python objects in an array",
                  "Body_y": "<p>I don't remember whether I was dreaming or not but I seem to recall there being a function which allowed something like,</p>\r\n\r\n<pre><code>foo in iter_attr(array of python objects, attribute name)</code></pre>\r\n\r\n<p>I've looked over the docs but this kind of thing doesn't fall under any obvious listed headers</p>",
                  "_deepnote_index_column": 23
                },
                {
                  "Id_x": 4905822,
                  "OwnerUserId_x": "572606.0",
                  "CreationDate_x": "2011-02-05T08:10:41Z",
                  "ParentId": 683,
                  "Score_x": 3,
                  "Body_x": "<p>The function you are thinking of is probably <code>operator.attrgettter</code>. For example, to get a list that contains the value of each object's \"id\" attribute:</p>\n\n<pre><code>import operator\nids = map(operator.attrgetter(\"id\"), bar)</code></pre>\n\n<p>If you want to check whether the list contains an object with an id == 12, then a neat and efficient (i.e. doesn't iterate the whole list unnecessarily) way to do it is:</p>\n\n<pre><code>any(obj.id == 12 for obj in bar)</code></pre>\n\n<p>If you want to use 'in' with attrgetter, while still retaining lazy iteration of the list:</p>\n\n<p><pre><code>import operator,itertools\nfoo = 12\nfoo in itertools.imap(operator.attrgetter(\"id\"), bar)\n</pre></code></p>\n",
                  "Id_y": 683,
                  "OwnerUserId_y": 199,
                  "CreationDate_y": "2008-08-03T13:19:16Z",
                  "Score_y": 28,
                  "Title": "Using 'in' to match an attribute of Python objects in an array",
                  "Body_y": "<p>I don't remember whether I was dreaming or not but I seem to recall there being a function which allowed something like,</p>\r\n\r\n<pre><code>foo in iter_attr(array of python objects, attribute name)</code></pre>\r\n\r\n<p>I've looked over the docs but this kind of thing doesn't fall under any obvious listed headers</p>",
                  "_deepnote_index_column": 24
                },
                {
                  "Id_x": 764,
                  "OwnerUserId_x": "nan",
                  "CreationDate_x": "2008-08-03T17:40:25Z",
                  "ParentId": 742,
                  "Score_x": 0,
                  "Body_x": "<p>Sounds to me like you're trying to combine things that shouldn't be combined.  If you need to do different processing in your view depending on if it's a User or Group object you're trying to look at then you should use two different view functions.</p>\r\n\r\n<p>On the other hand there can be common idioms you'd want to extract out of your object_detail type views... perhaps you could use a decorator or just helper functions?</p>\r\n\r\n<p>-Dan</p>",
                  "Id_y": 742,
                  "OwnerUserId_y": 189,
                  "CreationDate_y": "2008-08-03T15:55:28Z",
                  "Score_y": 30,
                  "Title": "Class views in Django",
                  "Body_y": "<p><a href=\"http://www.djangoproject.com/\">Django</a> view points to a function, which can be a problem if you want to change only a bit of functionality. Yes, I could have million keyword arguments and even more if statements in the function, but I was thinking more of an object oriented approach.</p>\r\n\r\n<p>For example, I have a page that displays a user. This page is very similar to page that displays a group, but it's still not so similar to just use another data model. Group also has members etc...</p>\r\n\r\n<p>One way would be to point views to class methods and then extend that class. Has anyone tried this approach or has any other idea? </p>",
                  "_deepnote_index_column": 25
                },
                {
                  "Id_x": 4572,
                  "OwnerUserId_x": "612.0",
                  "CreationDate_x": "2008-08-07T10:44:23Z",
                  "ParentId": 742,
                  "Score_x": 7,
                  "Body_x": "<p>If you're simply displaying data from models, why not use the <a href=\"https://docs.djangoproject.com/en/1.2/ref/generic-views/\" rel=\"nofollow\">Django Generic Views</a>? They're designed to let you easy show data from a model without having to write your own view and stuff about mapping URL paramaters to views, fetching data, handling edge cases, rendering output, etc.</p>\n",
                  "Id_y": 742,
                  "OwnerUserId_y": 189,
                  "CreationDate_y": "2008-08-03T15:55:28Z",
                  "Score_y": 30,
                  "Title": "Class views in Django",
                  "Body_y": "<p><a href=\"http://www.djangoproject.com/\">Django</a> view points to a function, which can be a problem if you want to change only a bit of functionality. Yes, I could have million keyword arguments and even more if statements in the function, but I was thinking more of an object oriented approach.</p>\r\n\r\n<p>For example, I have a page that displays a user. This page is very similar to page that displays a group, but it's still not so similar to just use another data model. Group also has members etc...</p>\r\n\r\n<p>One way would be to point views to class methods and then extend that class. Has anyone tried this approach or has any other idea? </p>",
                  "_deepnote_index_column": 26
                },
                {
                  "Id_x": 8320,
                  "OwnerUserId_x": "1057.0",
                  "CreationDate_x": "2008-08-11T22:59:42Z",
                  "ParentId": 742,
                  "Score_x": 1,
                  "Body_x": "<p>Unless you want to do something a little complex, using the generic views are the way to go.  They are far more powerful than their name implies, and if you are just displaying model data generic views will do the job.</p>\n",
                  "Id_y": 742,
                  "OwnerUserId_y": 189,
                  "CreationDate_y": "2008-08-03T15:55:28Z",
                  "Score_y": 30,
                  "Title": "Class views in Django",
                  "Body_y": "<p><a href=\"http://www.djangoproject.com/\">Django</a> view points to a function, which can be a problem if you want to change only a bit of functionality. Yes, I could have million keyword arguments and even more if statements in the function, but I was thinking more of an object oriented approach.</p>\r\n\r\n<p>For example, I have a page that displays a user. This page is very similar to page that displays a group, but it's still not so similar to just use another data model. Group also has members etc...</p>\r\n\r\n<p>One way would be to point views to class methods and then extend that class. Has anyone tried this approach or has any other idea? </p>",
                  "_deepnote_index_column": 27
                },
                {
                  "Id_x": 27780,
                  "OwnerUserId_x": "2990.0",
                  "CreationDate_x": "2008-08-26T11:30:50Z",
                  "ParentId": 742,
                  "Score_x": 0,
                  "Body_x": "<p>If you want to share common functionality between pages I suggest you look at custom tags. They're quite <a href=\"https://docs.djangoproject.com/en/1.1/howto/custom-template-tags/\" rel=\"nofollow\">easy to create</a>, and are very powerful.</p>\n\n<p>Also, <a href=\"https://code.djangoproject.com/wiki/ExtendingTemplates\" rel=\"nofollow\">templates can extend from other templates</a>. This allows you to have a base template to set up the layout of the page and to share this between other templates which fill in the blanks. You can nest templates to any depth; allowing you to specify the layout on separate groups of related pages in one place.</p>\n",
                  "Id_y": 742,
                  "OwnerUserId_y": 189,
                  "CreationDate_y": "2008-08-03T15:55:28Z",
                  "Score_y": 30,
                  "Title": "Class views in Django",
                  "Body_y": "<p><a href=\"http://www.djangoproject.com/\">Django</a> view points to a function, which can be a problem if you want to change only a bit of functionality. Yes, I could have million keyword arguments and even more if statements in the function, but I was thinking more of an object oriented approach.</p>\r\n\r\n<p>For example, I have a page that displays a user. This page is very similar to page that displays a group, but it's still not so similar to just use another data model. Group also has members etc...</p>\r\n\r\n<p>One way would be to point views to class methods and then extend that class. Has anyone tried this approach or has any other idea? </p>",
                  "_deepnote_index_column": 28
                },
                {
                  "Id_x": 27792,
                  "OwnerUserId_x": "2384.0",
                  "CreationDate_x": "2008-08-26T11:38:36Z",
                  "ParentId": 742,
                  "Score_x": 2,
                  "Body_x": "<p>You can always create a class, override the <em><code>__call__</code></em> function and then point the URL file to an instance of the class. You can take a look at the <a href=\"http://code.djangoproject.com/browser/django/trunk/django/contrib/formtools/wizard.py\" rel=\"nofollow\">FormWizard</a> class to see how this is done.</p>\n",
                  "Id_y": 742,
                  "OwnerUserId_y": 189,
                  "CreationDate_y": "2008-08-03T15:55:28Z",
                  "Score_y": 30,
                  "Title": "Class views in Django",
                  "Body_y": "<p><a href=\"http://www.djangoproject.com/\">Django</a> view points to a function, which can be a problem if you want to change only a bit of functionality. Yes, I could have million keyword arguments and even more if statements in the function, but I was thinking more of an object oriented approach.</p>\r\n\r\n<p>For example, I have a page that displays a user. This page is very similar to page that displays a group, but it's still not so similar to just use another data model. Group also has members etc...</p>\r\n\r\n<p>One way would be to point views to class methods and then extend that class. Has anyone tried this approach or has any other idea? </p>",
                  "_deepnote_index_column": 29
                },
                {
                  "Id_x": 33957,
                  "OwnerUserId_x": "3207.0",
                  "CreationDate_x": "2008-08-29T04:29:22Z",
                  "ParentId": 742,
                  "Score_x": 36,
                  "Body_x": "<p>I've created and used my own generic view classes, defining <strong><code>__call__</code></strong> so an instance of the class is callable.  I really like it; while Django's generic views allow some customization through keyword arguments, OO generic views (if their behavior is split into a number of separate methods) can have much more fine-grained customization via subclassing, which lets me repeat myself a lot less.  (I get tired of rewriting the same create/update view logic anytime I need to tweak something Django's generic views don't quite allow).</p>\n\n<p>I've posted some code at <a href=\"http://www.djangosnippets.org/snippets/1009/\">djangosnippets.org</a>.</p>\n\n<p>The only real downside I see is the proliferation of internal method calls, which may impact performance somewhat. I don't think this is much of a concern; it's rare that Python code execution would be your performance bottleneck in a web app.</p>\n\n<p><strong>UPDATE</strong>: Django's own <a href=\"http://docs.djangoproject.com/en/dev/topics/class-based-views/\">generic views</a> are now class-based.</p>\n\n<p><strong>UPDATE</strong>: FWIW, I've changed my opinion on class-based views since this answer was written. After having used them extensively on a couple of projects, I feel they tend to lead to code that is satisfyingly DRY to write, but very hard to read and maintain later, because functionality is spread across so many different places, and subclasses are so dependent on every implementation detail of the superclasses and mixins. I now feel that <a href=\"https://docs.djangoproject.com/en/dev/ref/template-response/\">TemplateResponse</a> and view decorators is a better answer for decomposing view code.</p>\n",
                  "Id_y": 742,
                  "OwnerUserId_y": 189,
                  "CreationDate_y": "2008-08-03T15:55:28Z",
                  "Score_y": 30,
                  "Title": "Class views in Django",
                  "Body_y": "<p><a href=\"http://www.djangoproject.com/\">Django</a> view points to a function, which can be a problem if you want to change only a bit of functionality. Yes, I could have million keyword arguments and even more if statements in the function, but I was thinking more of an object oriented approach.</p>\r\n\r\n<p>For example, I have a page that displays a user. This page is very similar to page that displays a group, but it's still not so similar to just use another data model. Group also has members etc...</p>\r\n\r\n<p>One way would be to point views to class methods and then extend that class. Has anyone tried this approach or has any other idea? </p>",
                  "_deepnote_index_column": 30
                },
                {
                  "Id_x": 123090,
                  "OwnerUserId_x": "15687.0",
                  "CreationDate_x": "2008-09-23T19:05:51Z",
                  "ParentId": 742,
                  "Score_x": 0,
                  "Body_x": "<p>Generic views will usually be the way to go, but ultimately you're free to handle URLs however you want. FormWizard does things in a class-based way, as do some apps for RESTful APIs.</p>\n\n<p>Basically with a URL you are given a bunch of variables and place to provide a callable, what callable you provide is completely up to you - the standard way is to provide a function - but ultimately Django puts no restrictions on what you do.</p>\n\n<p>I do agree that a few more examples of how to do this would be good, FormWizard is probably the place to start though.</p>\n",
                  "Id_y": 742,
                  "OwnerUserId_y": 189,
                  "CreationDate_y": "2008-08-03T15:55:28Z",
                  "Score_y": 30,
                  "Title": "Class views in Django",
                  "Body_y": "<p><a href=\"http://www.djangoproject.com/\">Django</a> view points to a function, which can be a problem if you want to change only a bit of functionality. Yes, I could have million keyword arguments and even more if statements in the function, but I was thinking more of an object oriented approach.</p>\r\n\r\n<p>For example, I have a page that displays a user. This page is very similar to page that displays a group, but it's still not so similar to just use another data model. Group also has members etc...</p>\r\n\r\n<p>One way would be to point views to class methods and then extend that class. Has anyone tried this approach or has any other idea? </p>",
                  "_deepnote_index_column": 31
                },
                {
                  "Id_x": 2921293,
                  "OwnerUserId_x": "351981.0",
                  "CreationDate_x": "2010-05-27T13:02:08Z",
                  "ParentId": 742,
                  "Score_x": 11,
                  "Body_x": "<p>I needed to use class based views, but I wanted to be able to use the full name of the class in my URLconf without always having to instantiate the view class before using it. What helped me was a surprisingly simple metaclass:</p>\n\n<pre><code>class CallableViewClass(type):\n    def __call__(cls, *args, **kwargs):\n        if args and isinstance(args[0], HttpRequest):\n            instance = super(CallableViewClass, cls).__call__()\n            return instance.__call__(*args, **kwargs)\n        else:\n            instance = super(CallableViewClass, cls).__call__(*args, **kwargs)\n            return instance\n\n\nclass View(object):\n    __metaclass__ = CallableViewClass\n\n    def __call__(self, request, *args, **kwargs):\n        if hasattr(self, request.method):\n            handler = getattr(self, request.method)\n            if hasattr(handler, '__call__'):\n                return handler(request, *args, **kwargs)\n        return HttpResponseBadRequest('Method Not Allowed', status=405)\n</code></pre>\n\n<p>I can now both instantiate view classes and use the instances as view functions, OR I can simply point my URLconf to my class and have the metaclass instantiate (and call) the view class for me. This works by checking the first argument to <code>__call__</code> – if it's a <code>HttpRequest</code>, it must be an actual HTTP request because it would be nonsense to attept to instantiate a view class with an <code>HttpRequest</code> instance.</p>\n\n<pre><code>class MyView(View):\n    def __init__(self, arg=None):\n        self.arg = arg\n    def GET(request):\n        return HttpResponse(self.arg or 'no args provided')\n\n@login_required\nclass MyOtherView(View):\n    def POST(request):\n        pass\n\n# And all the following work as expected.\nurlpatterns = patterns(''\n    url(r'^myview1$', 'myapp.views.MyView', name='myview1'),\n    url(r'^myview2$', myapp.views.MyView, name='myview2'),\n    url(r'^myview3$', myapp.views.MyView('foobar'), name='myview3'),\n    url(r'^myotherview$', 'myapp.views.MyOtherView', name='otherview'),\n)\n</code></pre>\n\n<p>(I posted a snippet for this at <a href=\"http://djangosnippets.org/snippets/2041/\">http://djangosnippets.org/snippets/2041/</a>)</p>\n",
                  "Id_y": 742,
                  "OwnerUserId_y": 189,
                  "CreationDate_y": "2008-08-03T15:55:28Z",
                  "Score_y": 30,
                  "Title": "Class views in Django",
                  "Body_y": "<p><a href=\"http://www.djangoproject.com/\">Django</a> view points to a function, which can be a problem if you want to change only a bit of functionality. Yes, I could have million keyword arguments and even more if statements in the function, but I was thinking more of an object oriented approach.</p>\r\n\r\n<p>For example, I have a page that displays a user. This page is very similar to page that displays a group, but it's still not so similar to just use another data model. Group also has members etc...</p>\r\n\r\n<p>One way would be to point views to class methods and then extend that class. Has anyone tried this approach or has any other idea? </p>",
                  "_deepnote_index_column": 32
                },
                {
                  "Id_x": 26250049,
                  "OwnerUserId_x": "3408904.0",
                  "CreationDate_x": "2014-10-08T05:53:09Z",
                  "ParentId": 742,
                  "Score_x": 0,
                  "Body_x": "<p>You can use the Django Generic Views. You can easily achieve desired functionality thorough Django generic Views</p>\n",
                  "Id_y": 742,
                  "OwnerUserId_y": 189,
                  "CreationDate_y": "2008-08-03T15:55:28Z",
                  "Score_y": 30,
                  "Title": "Class views in Django",
                  "Body_y": "<p><a href=\"http://www.djangoproject.com/\">Django</a> view points to a function, which can be a problem if you want to change only a bit of functionality. Yes, I could have million keyword arguments and even more if statements in the function, but I was thinking more of an object oriented approach.</p>\r\n\r\n<p>For example, I have a page that displays a user. This page is very similar to page that displays a group, but it's still not so similar to just use another data model. Group also has members etc...</p>\r\n\r\n<p>One way would be to point views to class methods and then extend that class. Has anyone tried this approach or has any other idea? </p>",
                  "_deepnote_index_column": 33
                },
                {
                  "Id_x": 777,
                  "OwnerUserId_x": "150.0",
                  "CreationDate_x": "2008-08-03T18:32:27Z",
                  "ParentId": 766,
                  "Score_x": 5,
                  "Body_x": "<p>I don't have any experience with <a href=\"http://www.SiteGround.com\" rel=\"nofollow\">http://www.SiteGround.com</a> as a web host personally.  </p>\r\n\r\n<p>This is just a guess, but it's common for a shared host to support Python and MySQL with the MySQLdb module (e.g., GoDaddy does this).  Try the following CGI script to see if MySQLdb is installed.</p>\r\n\r\n<pre><code>#!/usr/bin/python<br><br>module_name = 'MySQLdb'<br>head = '''Content-Type: text/html<br><br>%s is ''' % module_name<br><br>try:<br>    __import__(module_name)<br>    print head + 'installed'<br>except ImportError:<br>    print head + 'not installed'<br></code></pre>",
                  "Id_y": 766,
                  "OwnerUserId_y": 1384652,
                  "CreationDate_y": "2008-08-03T17:44:07Z",
                  "Score_y": 20,
                  "Title": "Python and MySQL",
                  "Body_y": "<p>I can get Python to work with Postgresql but I cannot get it to work with MySQL. The main problem is that on the shared hosting account I have I do not have the ability to install things such as Django or PySQL, I generally fail when installing them on my computer so maybe it's good I can't install on the host.</p>\r\n\r\n<p>I found <a href=\"http://barryp.org/software/bpgsql/\">bpgsql</a> really good because it does not require an install, it's a single file that I can look at, read and then call the functions of. Does anybody know of something like this for MySQL?</p>",
                  "_deepnote_index_column": 34
                },
                {
                  "Id_x": 802,
                  "OwnerUserId_x": "1384652.0",
                  "CreationDate_x": "2008-08-03T20:07:05Z",
                  "ParentId": 766,
                  "Score_x": 4,
                  "Body_x": "<p>I uploaded it and got an internal error</p>\r\n\r\n<pre><code>Premature end of script headers<br></code></pre>\r\n\r\n<p>After much playing around, I found that if I had</p>\r\n\r\n<pre><code>import cgi<br>import cgitb; cgitb.enable()<br>import MySQLdb<br></code></pre>\r\n\r\n<p>It would give me a much more useful answer and say that it was not installed, you can see it yourself -> <a href=\"http://woarl.com/db.py\" rel=\"nofollow\">http://woarl.com/db.py</a></p>\r\n\r\n<p>Oddly enough, this would produce an error</p>\r\n\r\n<pre><code>import MySQLdb<br>import cgi<br>import cgitb; cgitb.enable()<br></code></pre>\r\n\r\n<p>I looked at some of the other files I had up there and it seems that library was one of the ones I had already tried.</p>",
                  "Id_y": 766,
                  "OwnerUserId_y": 1384652,
                  "CreationDate_y": "2008-08-03T17:44:07Z",
                  "Score_y": 20,
                  "Title": "Python and MySQL",
                  "Body_y": "<p>I can get Python to work with Postgresql but I cannot get it to work with MySQL. The main problem is that on the shared hosting account I have I do not have the ability to install things such as Django or PySQL, I generally fail when installing them on my computer so maybe it's good I can't install on the host.</p>\r\n\r\n<p>I found <a href=\"http://barryp.org/software/bpgsql/\">bpgsql</a> really good because it does not require an install, it's a single file that I can look at, read and then call the functions of. Does anybody know of something like this for MySQL?</p>",
                  "_deepnote_index_column": 35
                },
                {
                  "Id_x": 1619,
                  "OwnerUserId_x": "92.0",
                  "CreationDate_x": "2008-08-04T21:54:11Z",
                  "ParentId": 766,
                  "Score_x": 17,
                  "Body_x": "<p>MySQLdb is what I have used before.</p>\r\n\r\n<p>If you host is using Python version 2.5 or higher, support for sqlite3 databases is built in (sqlite allows you to have a relational database that is simply a file in your filesystem).  But buyer beware, sqlite is not suited for production, so it may depend what you are trying to do with it.</p>\r\n\r\n<p>Another option may be to call your host and complain, or change hosts.  Honestly these days, any self respecting web host that supports python and mysql ought to have MySQLdb pre installed.</p>",
                  "Id_y": 766,
                  "OwnerUserId_y": 1384652,
                  "CreationDate_y": "2008-08-03T17:44:07Z",
                  "Score_y": 20,
                  "Title": "Python and MySQL",
                  "Body_y": "<p>I can get Python to work with Postgresql but I cannot get it to work with MySQL. The main problem is that on the shared hosting account I have I do not have the ability to install things such as Django or PySQL, I generally fail when installing them on my computer so maybe it's good I can't install on the host.</p>\r\n\r\n<p>I found <a href=\"http://barryp.org/software/bpgsql/\">bpgsql</a> really good because it does not require an install, it's a single file that I can look at, read and then call the functions of. Does anybody know of something like this for MySQL?</p>",
                  "_deepnote_index_column": 36
                },
                {
                  "Id_x": 8332,
                  "OwnerUserId_x": "1057.0",
                  "CreationDate_x": "2008-08-11T23:16:33Z",
                  "ParentId": 766,
                  "Score_x": 4,
                  "Body_x": "<p>You could try setting up your own python installation using <a href=\"http://peak.telecommunity.com/DevCenter/EasyInstall#creating-a-virtual-python\" rel=\"nofollow\">Virtual Python</a>.  Check out how to setup Django using it <a href=\"http://forums.site5.com/showthread.php?t=10236\" rel=\"nofollow\">here</a>.  That was written a long time ago, but it shows how I got MySQLdb setup without having root access or anything like it.  Once you've got the basics going, you can install any python library you want.</p>\n",
                  "Id_y": 766,
                  "OwnerUserId_y": 1384652,
                  "CreationDate_y": "2008-08-03T17:44:07Z",
                  "Score_y": 20,
                  "Title": "Python and MySQL",
                  "Body_y": "<p>I can get Python to work with Postgresql but I cannot get it to work with MySQL. The main problem is that on the shared hosting account I have I do not have the ability to install things such as Django or PySQL, I generally fail when installing them on my computer so maybe it's good I can't install on the host.</p>\r\n\r\n<p>I found <a href=\"http://barryp.org/software/bpgsql/\">bpgsql</a> really good because it does not require an install, it's a single file that I can look at, read and then call the functions of. Does anybody know of something like this for MySQL?</p>",
                  "_deepnote_index_column": 37
                },
                {
                  "Id_x": 4813530,
                  "OwnerUserId_x": "499257.0",
                  "CreationDate_x": "2011-01-27T06:48:31Z",
                  "ParentId": 766,
                  "Score_x": 3,
                  "Body_x": "<p>You really want MySQLdb for any MySQL + Python code.  However, you shouldn't need root access or anything to use it.  You can build/install it in a user directory (~/lib/python2.x/site-packages), and just add that to your PYTHON_PATH env variable.  This should work for just about any python library.</p>\n\n<p>Give it a shot, there really isn't a good alternative.</p>\n",
                  "Id_y": 766,
                  "OwnerUserId_y": 1384652,
                  "CreationDate_y": "2008-08-03T17:44:07Z",
                  "Score_y": 20,
                  "Title": "Python and MySQL",
                  "Body_y": "<p>I can get Python to work with Postgresql but I cannot get it to work with MySQL. The main problem is that on the shared hosting account I have I do not have the ability to install things such as Django or PySQL, I generally fail when installing them on my computer so maybe it's good I can't install on the host.</p>\r\n\r\n<p>I found <a href=\"http://barryp.org/software/bpgsql/\">bpgsql</a> really good because it does not require an install, it's a single file that I can look at, read and then call the functions of. Does anybody know of something like this for MySQL?</p>",
                  "_deepnote_index_column": 38
                },
                {
                  "Id_x": 33058407,
                  "OwnerUserId_x": "546822.0",
                  "CreationDate_x": "2015-10-10T20:00:39Z",
                  "ParentId": 766,
                  "Score_x": 1,
                  "Body_x": "<p>Take a pick at</p>\n\n<p><a href=\"https://docs.djangoproject.com/en/1.8/ref/databases/\" rel=\"nofollow\">https://docs.djangoproject.com/en/1.8/ref/databases/</a></p>\n\n<p>MySQLdb is mostly used driver, but if you are using python3 and django 1.8.x that will not work, then you should use mysqlclient that is a folk of MySQLdb on the following link</p>\n\n<p><a href=\"https://pypi.python.org/pypi/mysqlclient\" rel=\"nofollow\">https://pypi.python.org/pypi/mysqlclient</a></p>\n",
                  "Id_y": 766,
                  "OwnerUserId_y": 1384652,
                  "CreationDate_y": "2008-08-03T17:44:07Z",
                  "Score_y": 20,
                  "Title": "Python and MySQL",
                  "Body_y": "<p>I can get Python to work with Postgresql but I cannot get it to work with MySQL. The main problem is that on the shared hosting account I have I do not have the ability to install things such as Django or PySQL, I generally fail when installing them on my computer so maybe it's good I can't install on the host.</p>\r\n\r\n<p>I found <a href=\"http://barryp.org/software/bpgsql/\">bpgsql</a> really good because it does not require an install, it's a single file that I can look at, read and then call the functions of. Does anybody know of something like this for MySQL?</p>",
                  "_deepnote_index_column": 39
                },
                {
                  "Id_x": 783,
                  "OwnerUserId_x": "189.0",
                  "CreationDate_x": "2008-08-03T18:40:09Z",
                  "ParentId": 773,
                  "Score_x": 52,
                  "Body_x": "<p>Can you show us your code?</p>\n\n<p>The example on the Python docs is quite straightforward:</p>\n\n<pre><code>groups = []\nuniquekeys = []\nfor k, g in groupby(data, keyfunc):\n    groups.append(list(g))      # Store group iterator as a list\n    uniquekeys.append(k)\n</code></pre>\n\n<p>So in your case, data is a list of nodes, keyfunc is where the logic of your criteria function goes and then <code>groupby()</code> groups the data.</p>\n\n<p>You must be careful to <strong>sort the data</strong> by the criteria before you call <code>groupby</code> or it won't work. <code>groupby</code> method actually just iterates through a list and whenever the key changes it creates a new group.</p>\n",
                  "Id_y": 773,
                  "OwnerUserId_y": 207,
                  "CreationDate_y": "2008-08-03T18:27:09Z",
                  "Score_y": 256,
                  "Title": "How do I use Python's itertools.groupby()?",
                  "Body_y": "<p>I haven't been able to find an understandable explanation of how to actually use Python's <code>itertools.groupby()</code> function.  What I'm trying to do is this:</p>\n\n<ul>\n<li>Take a list - in this case, the children of an objectified <code>lxml</code> element</li>\n<li>Divide it into groups based on some criteria</li>\n<li>Then later iterate over each of these groups separately.</li>\n</ul>\n\n<p>I've reviewed <a href=\"https://docs.python.org/2/library/itertools.html\">the documentation</a>, and <a href=\"https://docs.python.org/2/library/itertools.html#itertools.groupby\">the examples</a>, but I've had trouble trying to apply them beyond a simple list of numbers. </p>\n\n<p>So, how do I use of <code>itertools.groupby()</code>?  Is there another technique I should be using?  Pointers to good \"prerequisite\" reading would also be appreciated.</p>\n",
                  "_deepnote_index_column": 40
                }
              ],
              "rows_bottom": [
                {
                  "Id_x": 40142209,
                  "OwnerUserId_x": 1832058,
                  "CreationDate_x": "2016-10-19T21:59:32Z",
                  "ParentId": 40139628,
                  "Score_x": 0,
                  "Body_x": "<p>Problem is because you use always <code>if left == 0: namel = \"Rash\" even if</code>\"Rash\"<code>was deleted from listbox and now</code>left == 0<code>means</code>\"Untss\".</p>\n\n<p>You have to get selected name instead of index </p>\n\n<pre><code>    namel = lbox.get(lbox.curselection()[0])\n    namer = rbox.get(rbox.curselection()[0])\n</code></pre>\n\n<p>and use it </p>\n\n<pre><code>    if namel == \"Rush\":\n       totalleft = Rash.total\n</code></pre>\n\n<p>But you could use dictionary to get data </p>\n\n<pre><code>left_characters = {        \n    \"Rash\": Character(\"Rash\", 42, 50, 80),\n    \"Untss\": Character(\"Untss\", 15, 54, 100),\n    \"Ilora\": Character(\"Ilora\", 60, 35, 80),\n}\n\nright_characters = {\n    \"Zys\": Character(\"Zys\", 12, 97, 83),\n    \"Eentha\": Character(\"Eentha\", 55, 17, 90),\n    \"Dant\": Character(\"Dant\", 73, 28, 88),\n}\n\nleftnames = list(left_characters.keys())\nrightnames = list(right_characters.keys())\n</code></pre>\n\n<p>and then</p>\n\n<pre><code>def fight():\n\n    try:\n        namel = lbox.get(lbox.curselection()[0])\n        namer = rbox.get(rbox.curselection()[0])\n\n        print(namel)\n        print(namer)\n\n        totalleft = left_characters[namel].total\n        totalright = right_characters[namer].total\n\n        lbox.delete(lbox.curselection()[0])\n        rbox.delete(rbox.curselection()[0])\n\n        if totalleft &gt; totalright : #Checks if won or lost\n            wins.set(wins.get()+\"\\n\"+namel)\n            loss.set(loss.get()+\"\\n\"+namer)\n        else:\n            wins.set(wins.get()+\"\\n\"+namer)\n            loss.set(loss.get()+\"\\n\"+namel)\n    except IndexError as e:\n        print(\"ERROR:\", e)\n</code></pre>\n\n<p>If you add new characters to dictionary then you don't have to change code.</p>\n\n<p>BTW: don't use <code>pass</code> in <code>except</code> because you don't see error if there is something wrong with code.</p>\n",
                  "Id_y": 40139628,
                  "OwnerUserId_y": 6570334,
                  "CreationDate_y": "2016-10-19T19:08:33Z",
                  "Score_y": 1,
                  "Title": "Characters from listbox are still recorded even when deleted from listbox",
                  "Body_y": "<p>So my little game is programmed to have two characters fight each other. One from the left side and one from the right side. After they fight both should be deleted regardless of who wins or loses. They are in fact deleted from listboxes, but after you have two more charachters from each side fight those previous characters sometimes show up. If you start with Zys and Rash fighting no other names are printed in the win and loss section besides theirs. Only when you go backwards from Dant and Ilora does it work the way it should with each character making a place in either wins or loss only once. If you start with some other characters they could be put in the wins and loss section more then once. It is also possible for a character to be placed as a win or loss even if it hasnt been selected to fight. The bottomline is each character gets to fight  a character on the opposite side ONCE and after that it is placed and then deleted with no use in the later part of the program. For some apparent reason it does not do that.</p>\n\n<pre><code>from tkinter import *\nfrom tkinter import ttk\nfrom tkinter import messagebox\n\nclass Character: \n    def __init__(self, name, attack, defense, health):\n        self.name = name\n        self.attack = attack\n        self.defense = defense\n        self.health = health\n        self.total = attack+defense+health\n\n#Left side characters\nRash = Character(\"Rash\", 42, 50, 80)\nUntss = Character(\"Untss\", 15, 54, 100)\nIlora = Character(\"Ilora\", 60, 35, 80)\n                                    #Both sides have totals of 165 168 and 175\n#Right side characters\nZys = Character(\"Zys\", 12, 97, 83)\nEentha = Character(\"Eentha\", 55, 17, 90)\nDant = Character(\"Dant\", 73, 28, 88)\n\ndef fight(): #Part of code that checks for wins and loss checks which has greater total stats and deletes from list box\n\n    try:\n        namel = \"\"\n        namer=\"\"\n        left = lbox.curselection()[0]\n        right = rbox.curselection()[0]\n\n        totalleft = 0\n        totalright = 0\n        if left == 0:\n            namel = \"Rash\"\n            totalleft = Rash.total\n        elif left==1:\n            namel = \"Untss\"\n            totalleft = Untss.total\n        elif left==2:\n            namel = \"Ilora\"\n            totalleft = 60+35+80\n\n        if right == 0:\n            namer = \"Zys\"\n            totalright = Zys.total\n        elif right==1:\n            namer = \"Eentha\"\n            totalright = Eentha.total\n        elif right==2:\n            namer = \"Dant\"\n            totalright = Dant.total\n\n        lbox.delete(lbox.curselection()[0])\n        rbox.delete(rbox.curselection()[0])\n        print(namel)\n        print(namer)\n        if (totalleft&gt;totalright): #Checks if won or lost\n            wins.set(wins.get()+\"\\n\"+namel)\n            loss.set(loss.get()+\"\\n\"+namer)\n        else:\n            wins.set(wins.get()+\"\\n\"+namer)\n            loss.set(loss.get()+\"\\n\"+namel)\n    except IndexError:\n            pass\n\n\n#The left listbox and its characters\nleftnames = ('Rash', 'Untss', 'Ilora')\nlnames = StringVar(value=leftnames)\nlbox = Listbox(mainframe, listvariable=lnames, exportselection=0, height=3)\nlbox.grid(column=0, row=0)\n\n\n#Right listboxes characters\nrightnames = ('Zys', 'Eentha', 'Dant')\nrnames = StringVar(value=rightnames)\nrbox = Listbox(mainframe, listvariable=rnames, exportselection=0, height=3)\nrbox.grid(column=1, row=0)\n\n\n#Shows users wins and lossses\n\nwins = StringVar()\nloss = StringVar()\n\n#Label that \nttk.Label(mainframe, text=\"Wins\", width=13).grid(column=2, row=0, sticky=N)\nttk.Label(mainframe, text=\"Loss\", width=13).grid(column=2, row=1, sticky=N)\nttk.Label(mainframe, textvariable=wins).grid(column=2, row=0, sticky=(S,E))\nttk.Label(mainframe, textvariable=loss).grid(column=2, row=1, sticky=(S, E))\n\n#Button for fighting\nfightbttn= ttk.Button(mainframe, text=\"Fight\", command=fight)\nfightbttn.grid(column=3, row=3, sticky=(E))\n\nroot.mainloop()\n</code></pre>\n\n<p>This is only the part of the code that could relate to the problem not the code as a whole.</p>\n\n<p>This is not the same question from yesterday just the same code. I thought it would be more appropriate to work with the bugs one at a time as different problems so they could be more organized.</p>\n",
                  "_deepnote_index_column": 987080
                },
                {
                  "Id_x": 40142263,
                  "OwnerUserId_x": 3125566,
                  "CreationDate_x": "2016-10-19T22:02:47Z",
                  "ParentId": 40142166,
                  "Score_x": 1,
                  "Body_x": "<p>Use the arrays' <a href=\"https://docs.scipy.org/doc/numpy/reference/generated/numpy.ndarray.size.html\" rel=\"nofollow\"><code>size</code></a> attribute instead:</p>\n\n<pre><code>nv = v.size\nnu = u.size\n</code></pre>\n\n<hr>\n\n<p>You also probably want to use <a href=\"https://docs.scipy.org/doc/numpy/reference/generated/numpy.fromstring.html#numpy.fromstring\" rel=\"nofollow\"><code>numpy.fromstring</code></a> to take and convert the input string into an array:</p>\n\n<pre><code>&gt;&gt;&gt; v = np.fromstring(input('enter the elements of the vector separated by comma: '), dtype=int, sep=',')\nenter the elements of the vector separated by comma: 1, 2, 3\n&gt;&gt;&gt; v\narray([1, 2, 3])\n&gt;&gt;&gt; len(v)\n3\n&gt;&gt;&gt; v.size\n3\n</code></pre>\n",
                  "Id_y": 40142166,
                  "OwnerUserId_y": 7044761,
                  "CreationDate_y": "2016-10-19T21:56:19Z",
                  "Score_y": -1,
                  "Title": "How to fix \"TypeError: len() of unsized object\"",
                  "Body_y": "<p>I am getting:</p>\n\n<p><strong>TypeError: len() of unsized object</strong></p>\n\n<p>after running the following script:</p>\n\n<pre><code>from numpy import *\n\nv=array(input('Introduce un vector v: '))\nu=array(input('Introduce un vector u: '))\n\nnv= len(v)\nnu= len(u)\n\ndiferenza= 0; i=0\n\nif nv==nu:\n\n    while i&lt;nv:\n        diferenza=diferenza + ((v[i+1]-u[i+1]))**2\n\n    modulo= sqrt(diferenza)\n    print('Distancia', v)\nelse:\n    print('Vectores de diferente dimensión')\n</code></pre>\n\n<p>How can I fix this?</p>\n",
                  "_deepnote_index_column": 987081
                },
                {
                  "Id_x": 40142305,
                  "OwnerUserId_x": 5393381,
                  "CreationDate_x": "2016-10-19T22:06:11Z",
                  "ParentId": 40142166,
                  "Score_x": -2,
                  "Body_x": "<p>The problem is that a <code>numpy</code>-<strong>scalar</strong> has no length. When you use <code>input</code> it returns a string (assuming Python3 here) and that's just converted to a numpy-string when you pass it to <code>numpy.array</code>:</p>\n\n<pre><code>&gt;&gt;&gt; import numpy as np\n&gt;&gt;&gt; np.array('abcdefg')\narray('abcdefg', \n      dtype='&lt;U7')\n\n&gt;&gt;&gt; len(np.array('abcdefg'))\nTypeError\n</code></pre>\n\n<p>You need to parse it before you pass it to <code>numpy.array</code>. For example with <code>ast.literal_eval</code> (Thanks @PaulRooney for mentioning it):</p>\n\n<pre><code>&gt;&gt;&gt; import ast\n&gt;&gt;&gt; np.array(ast.literal_eval(input('Enter vector'))) # input \"[1, 2, 3]\"\narray([1, 2, 3])\n&gt;&gt;&gt; len(_)\n3\n</code></pre>\n\n<p>If you're dealing with multidimensional <code>array</code> you have to use <code>array.size</code> instead of <code>len</code>.</p>\n",
                  "Id_y": 40142166,
                  "OwnerUserId_y": 7044761,
                  "CreationDate_y": "2016-10-19T21:56:19Z",
                  "Score_y": -1,
                  "Title": "How to fix \"TypeError: len() of unsized object\"",
                  "Body_y": "<p>I am getting:</p>\n\n<p><strong>TypeError: len() of unsized object</strong></p>\n\n<p>after running the following script:</p>\n\n<pre><code>from numpy import *\n\nv=array(input('Introduce un vector v: '))\nu=array(input('Introduce un vector u: '))\n\nnv= len(v)\nnu= len(u)\n\ndiferenza= 0; i=0\n\nif nv==nu:\n\n    while i&lt;nv:\n        diferenza=diferenza + ((v[i+1]-u[i+1]))**2\n\n    modulo= sqrt(diferenza)\n    print('Distancia', v)\nelse:\n    print('Vectores de diferente dimensión')\n</code></pre>\n\n<p>How can I fix this?</p>\n",
                  "_deepnote_index_column": 987082
                },
                {
                  "Id_x": 40142356,
                  "OwnerUserId_x": 2063361,
                  "CreationDate_x": "2016-10-19T22:11:17Z",
                  "ParentId": 40142302,
                  "Score_x": 3,
                  "Body_x": "<p><a href=\"https://docs.python.org/3/tutorial/controlflow.html#lambda-expressions\" rel=\"nofollow\"><code>lambda</code></a> functions work like normal function but are used in cases where they will be executed just once. Then, why to create the message body and define the function? For example, sorting the list of tuples:</p>\n\n<pre><code>&gt;&gt;&gt; my_list = [(1, 3) , (4, 8), (2, 3), (1, 6)]\n&gt;&gt;&gt; my_list.sort(key=lambda x: (x[0], -x[1]))\n&gt;&gt;&gt; my_list\n[(1, 6), (1, 3), (2, 3), (4, 8)]\n</code></pre>\n\n<p>Here, I am sorting <code>my_list</code> in increasing order of index <code>0</code> and then decreasing order of index <code>1</code>. But <code>list.sort()</code> accepts value of <code>key</code> as function. Instead of defining the function and then pass that function over here, it is cleaner to make a <code>lambda</code> call within it. </p>\n\n<p>Since these can be written as an expression, they are termed as <a href=\"https://docs.python.org/3/tutorial/controlflow.html#lambda-expressions\" rel=\"nofollow\"><code>Lambda Expression</code></a> in document, instead of <em>Lambda Function</em>.</p>\n\n<p>Also read: <a href=\"http://stackoverflow.com/questions/890128/why-are-python-lambdas-useful\">Why are Python lambdas useful?</a></p>\n\n<p>In the example that you have given, I do not think that using <code>lambda</code> there is any useful.</p>\n",
                  "Id_y": 40142302,
                  "OwnerUserId_y": 1107049,
                  "CreationDate_y": "2016-10-19T22:05:58Z",
                  "Score_y": 1,
                  "Title": "Why to use Lambda to send Function as Argument to Another Function",
                  "Body_y": "<p>While digging into <code>lambda</code> I defined this code below:</p>\n\n<pre><code>def f2(number, lambda_function):\n    return lambda_function(number)\n\ndef f1(number):\n    return f2(number, lambda x: x*2) \n\nnumber = 2\nprint f1(number)\n</code></pre>\n\n<p>While I do agree the code like this looks pretty cool I wonder why wouldn't I just put it down using a more traditional approach, like so:</p>\n\n<pre><code>def f1(number):\n    return number*2\n\nnumber = 2\nprint f1(number)\n</code></pre>\n\n<p>I understand that some languages rely on the functional programming more than Python. But in Python I end up with less lines and more readable friendly code if I just avoid <code>lambda</code> and the function programming tricks. Can the code above be modified to illustrate a situation when a task could not be completed without using <code>lambda</code>? What is the purpose of <code>lambda</code> in Python? Can you show me the example of where <code>lambda</code> really \"shines\"? May be an example where the use of <code>lambda</code> simplified the code?</p>\n",
                  "_deepnote_index_column": 987083
                },
                {
                  "Id_x": 40142433,
                  "OwnerUserId_x": 7040139,
                  "CreationDate_x": "2016-10-19T22:18:29Z",
                  "ParentId": 40142259,
                  "Score_x": -1,
                  "Body_x": "<p>I'm bad at python but I think like this\nwhen you result.get('rows'):\nrow is [url1] not url1\nWhy don't you try extend?\nSorry about my silly English ( I'm bat at English too)</p>\n",
                  "Id_y": 40142259,
                  "OwnerUserId_y": 6273496,
                  "CreationDate_y": "2016-10-19T22:02:40Z",
                  "Score_y": 0,
                  "Title": "Build a single list of element from bi-dimensional array list",
                  "Body_y": "<p>I'm totally noob to python so please forgive my mistake and lack of vocabulary. Long Story Short, I have the following list of array :</p>\n\n<pre><code>[url1, data1][url2, data2][url3, data3]etc...\n</code></pre>\n\n<p>I want to build a simple list of element by only keeping the url. So I'm doing this :</p>\n\n<pre><code>  if results:\n    for row in results.get('rows'):\n      data.append(row[:1])\n    print data\n</code></pre>\n\n<p>for this result:</p>\n\n<pre><code>[[url1][url2][url3]etc...]\n</code></pre>\n\n<p>However I would like to have something like this :</p>\n\n<pre><code>[[url1, url2, url3,etc...]\n</code></pre>\n\n<p>I've imported numpy and tried this but doesn't work :</p>\n\n<pre><code>np.array(data).tolist()\n</code></pre>\n\n<p>Any help ?  </p>\n\n<p>thanks.</p>\n",
                  "_deepnote_index_column": 987084
                },
                {
                  "Id_x": 40142482,
                  "OwnerUserId_x": 1664675,
                  "CreationDate_x": "2016-10-19T22:22:50Z",
                  "ParentId": 40142259,
                  "Score_x": 1,
                  "Body_x": "<p>If you just want the <code>url</code>, and your data is basically a list of lists then you can just use the <code>index</code> number, in this case <code>[0]</code> as url is the 1st element in a nested list</p>\n\n<pre><code>l = [['url1', 'data1'],['url2', 'data2'],['url3', 'data3']]\nendlist = []\nfor i in l:\n    endlist.append(i[0])\n\nprint endlist\n</code></pre>\n\n<p>Output:</p>\n\n<pre><code>['url1', 'url2', 'url3']\n</code></pre>\n\n<p>However, make sure how your data is structured. A list of lists looks like <code>[[],[],[]]</code>, where each nested list is seperated by a <code>,</code> (comma) which is absent in the example you posted. </p>\n",
                  "Id_y": 40142259,
                  "OwnerUserId_y": 6273496,
                  "CreationDate_y": "2016-10-19T22:02:40Z",
                  "Score_y": 0,
                  "Title": "Build a single list of element from bi-dimensional array list",
                  "Body_y": "<p>I'm totally noob to python so please forgive my mistake and lack of vocabulary. Long Story Short, I have the following list of array :</p>\n\n<pre><code>[url1, data1][url2, data2][url3, data3]etc...\n</code></pre>\n\n<p>I want to build a simple list of element by only keeping the url. So I'm doing this :</p>\n\n<pre><code>  if results:\n    for row in results.get('rows'):\n      data.append(row[:1])\n    print data\n</code></pre>\n\n<p>for this result:</p>\n\n<pre><code>[[url1][url2][url3]etc...]\n</code></pre>\n\n<p>However I would like to have something like this :</p>\n\n<pre><code>[[url1, url2, url3,etc...]\n</code></pre>\n\n<p>I've imported numpy and tried this but doesn't work :</p>\n\n<pre><code>np.array(data).tolist()\n</code></pre>\n\n<p>Any help ?  </p>\n\n<p>thanks.</p>\n",
                  "_deepnote_index_column": 987085
                },
                {
                  "Id_x": 40142487,
                  "OwnerUserId_x": 2948159,
                  "CreationDate_x": "2016-10-19T22:23:02Z",
                  "ParentId": 40142259,
                  "Score_x": 1,
                  "Body_x": "<p>If I understood you correctly, you need this:</p>\n\n<pre><code>results = [[url_1, data_1], [url_2, data_2], ...]\nurls = list()\nfor r in results:\n    # r = [url_i, data_i]\n    urls.append(r[0])\n</code></pre>\n",
                  "Id_y": 40142259,
                  "OwnerUserId_y": 6273496,
                  "CreationDate_y": "2016-10-19T22:02:40Z",
                  "Score_y": 0,
                  "Title": "Build a single list of element from bi-dimensional array list",
                  "Body_y": "<p>I'm totally noob to python so please forgive my mistake and lack of vocabulary. Long Story Short, I have the following list of array :</p>\n\n<pre><code>[url1, data1][url2, data2][url3, data3]etc...\n</code></pre>\n\n<p>I want to build a simple list of element by only keeping the url. So I'm doing this :</p>\n\n<pre><code>  if results:\n    for row in results.get('rows'):\n      data.append(row[:1])\n    print data\n</code></pre>\n\n<p>for this result:</p>\n\n<pre><code>[[url1][url2][url3]etc...]\n</code></pre>\n\n<p>However I would like to have something like this :</p>\n\n<pre><code>[[url1, url2, url3,etc...]\n</code></pre>\n\n<p>I've imported numpy and tried this but doesn't work :</p>\n\n<pre><code>np.array(data).tolist()\n</code></pre>\n\n<p>Any help ?  </p>\n\n<p>thanks.</p>\n",
                  "_deepnote_index_column": 987086
                },
                {
                  "Id_x": 40142467,
                  "OwnerUserId_x": 5932638,
                  "CreationDate_x": "2016-10-19T22:21:22Z",
                  "ParentId": 40142236,
                  "Score_x": 0,
                  "Body_x": "<p>Following uses plain Python 3 (without NumPy)</p>\n\n<pre><code># open file\nwith open('file.txt') as fp:\n    # 1. iterate over file line-by-line\n    # 2. strip line of newline symbols\n    # 3. split line by spaces into list (of number strings)\n    # 4. convert number substrings to int values\n    # 5. convert map object to list\n    data = [list(map(int, line.strip().split(' '))) for line in fp]\n</code></pre>\n\n<p>This provides the result you're looking for:</p>\n\n<pre><code>&gt;&gt;&gt; with open('data.txt') as fp:\n...     data = [list(map(int, line.strip().split(' '))) for line in fp]\n... \n&gt;&gt;&gt; print(data)\n[[1, 2, 3, 4, 5], [6, 7, 8, 9, 10]]\n</code></pre>\n",
                  "Id_y": 40142236,
                  "OwnerUserId_y": 7044735,
                  "CreationDate_y": "2016-10-19T22:01:05Z",
                  "Score_y": -3,
                  "Title": "Numbers separated by spaces in txt file into python list",
                  "Body_y": "<p>I am trying to convert a txt file containing lines of numbers separated by spaces into numbers separated by commas in lists, where each line is a new list of these numbers using Python 3.</p>\n\n<p>E.g. txt file contains </p>\n\n<blockquote>\n  <p>1  2  3  4  5</p>\n  \n  <p>6  7  8  9  10</p>\n</blockquote>\n\n<p>and I want this in python:</p>\n\n<pre><code>[1,2,3,4,5]\n\n[6,7,8,9,10]\n</code></pre>\n\n<p>I can't seem to find a good solution, I used numpy and obtained the list of lists but not comma separated, e.g.:\n<code>[[1  2  3  4  5],[6  7  8  9 10]]</code></p>\n\n<p>Here is the example code I've used that doesn't quite work:</p>\n\n<pre><code>import numpy as np\n\nmymatrix = np.loadtxt('file')\n</code></pre>\n\n<p>Grateful for any input! (ps I'm a beginner but want to use the lists in a programme I am developing)</p>\n",
                  "_deepnote_index_column": 987087
                },
                {
                  "Id_x": 40142490,
                  "OwnerUserId_x": 5741205,
                  "CreationDate_x": "2016-10-19T22:23:15Z",
                  "ParentId": 40141856,
                  "Score_x": 1,
                  "Body_x": "<p>I found the following method, but i think/hope there must be a more elegant way to achieve that:</p>\n\n<pre><code>In [101]: index_saved = df.index\n</code></pre>\n\n<p>Let's sort index in order to get rid of <code>KeyError: 'MultiIndex Slicing requires the index to be fully lexsorted tuple len (3), lexsort depth (0)'</code> error:</p>\n\n<pre><code>In [102]: df = df.sort_index()\n\nIn [103]: df\nOut[103]:\n                              metric\nsensor variable side\nbar    Speed    Left      Left_Speed\n                Right    Right_Speed\n       Support  Left    Left_support\n                Right  Right_support\nbaz    Speed    Left           speed\n       Support  Left         support\nfoo    Speed    Left      Left speed\n                Right    Right speed\n       Support  Left    Left support\n                Right  Right support\n\nIn [119]: df.loc[pd.IndexSlice['baz', :, 'Left'], 'metric'] = \\\n     ...:     'AAA__' + df.loc[pd.IndexSlice['baz', :, 'Left'], 'metric']\n\nIn [120]: df\nOut[120]:\n                              metric\nsensor variable side\nbar    Speed    Left      Left_Speed\n                Right    Right_Speed\n       Support  Left    Left_support\n                Right  Right_support\nbaz    Speed    Left      AAA__speed\n       Support  Left    AAA__support\nfoo    Speed    Left      Left speed\n                Right    Right speed\n       Support  Left    Left support\n                Right  Right support\n</code></pre>\n\n<p>set back old (saved) index:</p>\n\n<pre><code>In [121]: df = df.reindex(index_saved)\n\nIn [122]: df\nOut[122]:\n                              metric\nsensor variable side\nfoo    Speed    Left      Left speed\n                Right    Right speed\nbar    Speed    Left      Left_Speed\n                Right    Right_Speed\nbaz    Speed    Left      AAA__speed\nfoo    Support  Left    Left support\n                Right  Right support\nbar    Support  Left    Left_support\n                Right  Right_support\nbaz    Support  Left    AAA__support\n</code></pre>\n",
                  "Id_y": 40141856,
                  "OwnerUserId_y": 512652,
                  "CreationDate_y": "2016-10-19T21:31:52Z",
                  "Score_y": 2,
                  "Title": "How can I manipulate strings in a slice of a pandas MultiIndex",
                  "Body_y": "<p>I have a <code>MultiIndex</code> like this:</p>\n\n<pre><code>                                 metric\nsensor  variable   side  \nfoo        Speed   Left      Left speed\n                  Right     Right speed\nbar        Speed   Left      Left_Speed\n                  Right     Right_Speed\nbaz        Speed   Left           speed\nfoo      Support   Left    Left support\n                  Right   Right support\nbar      Support   Left    Left_support\n                  Right   Right_support\nbaz      Support   Left         support\n</code></pre>\n\n<p>I'm trying to apply a string mapping to a slice of this dataframe:</p>\n\n<pre><code>df.loc['baz',:,'Left'].metric.map(lambda s: \"Left_\" + s)\n</code></pre>\n\n<p>How can I apply this map to just the <code>baz-Left</code> rows, and get back the resulting <code>DataFrame</code>?</p>\n\n<pre><code>                                 metric\nsensor  variable   side  \nfoo        Speed   Left      Left speed\n                  Right     Right speed\nbar        Speed   Left      Left_Speed\n                  Right     Right_Speed\nbaz        Speed   Left      Left_speed\nfoo      Support   Left    Left support\n                  Right   Right support\nbar      Support   Left    Left_support\n                  Right   Right_support\nbaz      Support   Left    Left_support\n</code></pre>\n",
                  "_deepnote_index_column": 987088
                },
                {
                  "Id_x": 40142510,
                  "OwnerUserId_x": 1445024,
                  "CreationDate_x": "2016-10-19T22:24:59Z",
                  "ParentId": 40142476,
                  "Score_x": 1,
                  "Body_x": "<p>Check this:</p>\n\n<pre><code>ch[len(ch)-1]+inverse(ch[0:len(ch)-1]) \n</code></pre>\n",
                  "Id_y": 40142476,
                  "OwnerUserId_y": 6661072,
                  "CreationDate_y": "2016-10-19T22:21:57Z",
                  "Score_y": 1,
                  "Title": "Recursive functions : Inversing word",
                  "Body_y": "<p>I'm trying to make a simple function that inverses a string using recursion.</p>\n\n<p>this is what i tried : </p>\n\n<pre><code>    def inverse(ch):\n        if ch=='' :\n            return ''\n        else:\n            return ch[len(ch)]+inverse(ch[1:len(ch)-1])\n\n    print inverse('hello')\n</code></pre>\n\n<p>And this is what i get : </p>\n\n<blockquote>\n  <p>line 13, in inverse\n      return ch[len(ch)]+inverse(ch[1:len(ch)-1]) IndexError: string index out of range</p>\n</blockquote>\n",
                  "_deepnote_index_column": 987089
                },
                {
                  "Id_x": 40142514,
                  "OwnerUserId_x": 3125566,
                  "CreationDate_x": "2016-10-19T22:25:06Z",
                  "ParentId": 40142476,
                  "Score_x": 3,
                  "Body_x": "<p>You're indexing the string at its length, but remember that indexing is zero based so you'll have to slice at length minus 1 which is the maximum index you can safely use.</p>\n\n<p>You can however choose to be oblivious of the length by using <code>[-1]</code> to index the last item:</p>\n\n<pre><code>def inverse(ch):\n    if ch=='' :\n        return ''\n    else:\n        return ch[-1]+inverse(ch[:-1])\n\nprint inverse('hello')\n# olleh\n</code></pre>\n\n<p>And you also probably want to keep in mind that slicing with <code>[::-1]</code> provides the same result as your recursive function.</p>\n",
                  "Id_y": 40142476,
                  "OwnerUserId_y": 6661072,
                  "CreationDate_y": "2016-10-19T22:21:57Z",
                  "Score_y": 1,
                  "Title": "Recursive functions : Inversing word",
                  "Body_y": "<p>I'm trying to make a simple function that inverses a string using recursion.</p>\n\n<p>this is what i tried : </p>\n\n<pre><code>    def inverse(ch):\n        if ch=='' :\n            return ''\n        else:\n            return ch[len(ch)]+inverse(ch[1:len(ch)-1])\n\n    print inverse('hello')\n</code></pre>\n\n<p>And this is what i get : </p>\n\n<blockquote>\n  <p>line 13, in inverse\n      return ch[len(ch)]+inverse(ch[1:len(ch)-1]) IndexError: string index out of range</p>\n</blockquote>\n",
                  "_deepnote_index_column": 987090
                },
                {
                  "Id_x": 40143066,
                  "OwnerUserId_x": 375649,
                  "CreationDate_x": "2016-10-19T23:23:17Z",
                  "ParentId": 40142476,
                  "Score_x": 1,
                  "Body_x": "<p>You don't really need recursion here.</p>\n\n<pre><code>def inverse(chars):\n    char_list = list(chars)\n    char_list.reverse()\n    return ''.join(char_list)\n</code></pre>\n",
                  "Id_y": 40142476,
                  "OwnerUserId_y": 6661072,
                  "CreationDate_y": "2016-10-19T22:21:57Z",
                  "Score_y": 1,
                  "Title": "Recursive functions : Inversing word",
                  "Body_y": "<p>I'm trying to make a simple function that inverses a string using recursion.</p>\n\n<p>this is what i tried : </p>\n\n<pre><code>    def inverse(ch):\n        if ch=='' :\n            return ''\n        else:\n            return ch[len(ch)]+inverse(ch[1:len(ch)-1])\n\n    print inverse('hello')\n</code></pre>\n\n<p>And this is what i get : </p>\n\n<blockquote>\n  <p>line 13, in inverse\n      return ch[len(ch)]+inverse(ch[1:len(ch)-1]) IndexError: string index out of range</p>\n</blockquote>\n",
                  "_deepnote_index_column": 987091
                },
                {
                  "Id_x": 40142525,
                  "OwnerUserId_x": 4056181,
                  "CreationDate_x": "2016-10-19T22:26:55Z",
                  "ParentId": 40142380,
                  "Score_x": 0,
                  "Body_x": "<p>This shell script should do the trick:</p>\n\n<pre><code>#!/usr/bin/env bash\n\nfilename=\"data.txt\"\nwhile read line; do\n    id=$(echo \"${line}\" | awk '{print $1}')\n    sequence=$(echo \"${line}\" | awk '{print $2}')\n    group=$(echo \"${line}\" | awk '{print $3}')\n    printf \"&gt;${id}\\n${sequence}\\n\" &gt;&gt; \"${group}.txt\"\ndone &lt; \"${filename}\"\n</code></pre>\n\n<p>where <code>data.txt</code> is the name of the file containing the original data.</p>\n\n<p>Importantly, the Group-files should not exist prior to running the script.</p>\n",
                  "Id_y": 40142380,
                  "OwnerUserId_y": 4495740,
                  "CreationDate_y": "2016-10-19T22:13:40Z",
                  "Score_y": 0,
                  "Title": "How to split files according to a field and edit content",
                  "Body_y": "<p>I am not sure if I can do this using unix commands or I need a more complicated code, like python.</p>\n\n<p>I have a big input file with 3 columns - id, different sequences (second column) grouped in different groups (3rd column).</p>\n\n<pre><code>Seq1        MVRWNARGQPVKEASQVFVSYIGVINCREVPISMEN       Group1\nSeq2        PSLFIAGWLFVSTGLRPNEYFTESRQGIPLITDRFDSLEQLDEFSRSF  Group1\nSeq3        HQAPAPAPTVISPPAPPTDTTLNLNGAPSNHLQGGNIWTTIGFAITVFLAVTGYSF  Group20\n</code></pre>\n\n<p>I would like:\nsplit this file according the group id, and create separate files for each group; edit the info in each file, adding a \">\" sign in the beginning of the id;  and then create a new row for the sequence</p>\n\n<pre><code>Group1.txt file\n&gt;Seq1\nMVRWNARGQPVKEASQVFVSYIGVINCREVPISMEN       \n&gt;Seq2\nPSLFIAGWLFVSTGLRPNEYFTESRQGIPLITDRFDSLEQLDEFSRSF\n\nGroup20.txt file\n&gt;Seq3\nHQAPAPAPTVISPPAPPTDTTLNLNGAPSNHLQGGNIWTTIGFAITVFLAVTGYSF\n</code></pre>\n\n<p>How can I do that?  </p>\n",
                  "_deepnote_index_column": 987092
                },
                {
                  "Id_x": 40142998,
                  "OwnerUserId_x": 6942565,
                  "CreationDate_x": "2016-10-19T23:15:05Z",
                  "ParentId": 40142380,
                  "Score_x": 0,
                  "Body_x": "<p>AWK will do the trick:</p>\n\n<pre><code>awk '{ print \"&gt;\"$1 \"\\n\" $2 &gt;&gt; $3\".txt\"}' input.txt\n</code></pre>\n",
                  "Id_y": 40142380,
                  "OwnerUserId_y": 4495740,
                  "CreationDate_y": "2016-10-19T22:13:40Z",
                  "Score_y": 0,
                  "Title": "How to split files according to a field and edit content",
                  "Body_y": "<p>I am not sure if I can do this using unix commands or I need a more complicated code, like python.</p>\n\n<p>I have a big input file with 3 columns - id, different sequences (second column) grouped in different groups (3rd column).</p>\n\n<pre><code>Seq1        MVRWNARGQPVKEASQVFVSYIGVINCREVPISMEN       Group1\nSeq2        PSLFIAGWLFVSTGLRPNEYFTESRQGIPLITDRFDSLEQLDEFSRSF  Group1\nSeq3        HQAPAPAPTVISPPAPPTDTTLNLNGAPSNHLQGGNIWTTIGFAITVFLAVTGYSF  Group20\n</code></pre>\n\n<p>I would like:\nsplit this file according the group id, and create separate files for each group; edit the info in each file, adding a \">\" sign in the beginning of the id;  and then create a new row for the sequence</p>\n\n<pre><code>Group1.txt file\n&gt;Seq1\nMVRWNARGQPVKEASQVFVSYIGVINCREVPISMEN       \n&gt;Seq2\nPSLFIAGWLFVSTGLRPNEYFTESRQGIPLITDRFDSLEQLDEFSRSF\n\nGroup20.txt file\n&gt;Seq3\nHQAPAPAPTVISPPAPPTDTTLNLNGAPSNHLQGGNIWTTIGFAITVFLAVTGYSF\n</code></pre>\n\n<p>How can I do that?  </p>\n",
                  "_deepnote_index_column": 987093
                },
                {
                  "Id_x": 40142543,
                  "OwnerUserId_x": 5922180,
                  "CreationDate_x": "2016-10-19T22:28:30Z",
                  "ParentId": 40142494,
                  "Score_x": 2,
                  "Body_x": "<p>try this:</p>\n\n<pre><code>my_list.sort(key=lambda my_dict: my_dict[\"num_gurus\"], reverse=True)\n</code></pre>\n\n<p>what this does is basically two things:</p>\n\n<ul>\n<li>key paramater expects an anonymous function (lambda in python) and then sorts\nthe original list values by the values returned by\nlambda function. <code>lambda my_dict: my_dict[\"num_gurus\"]</code> returns the \"num_gurus\" item within each dictionary hence the list is sorted by those values.</li>\n<li><code>reverse=True</code> by default sort function sorts from min to max, hence\nthis simply reverses that</li>\n</ul>\n\n<p>also I find this very \"unsafe\" as you have no guarentee for \"num_gurus\" key within your dictionaries, or a dictionary as a key value, hence I'd personally wrap this with some exception handler:  <code>try</code> \\ <code>except</code></p>\n\n<p>read more here: <a href=\"https://docs.python.org/2.7/tutorial/errors.html\" rel=\"nofollow\">https://docs.python.org/2.7/tutorial/errors.html</a>, remember better safe than sorry!</p>\n",
                  "Id_y": 40142494,
                  "OwnerUserId_y": 6930377,
                  "CreationDate_y": "2016-10-19T22:23:40Z",
                  "Score_y": 1,
                  "Title": "Sorting list with dictionaries values(Maximum to Minimum)",
                  "Body_y": "<p>I have an array with loads of dictionaries in it. However I want to sort dictionaries in a way where I have maximum value to a specific key in a dictionary.\nFor example I have a list that looks like this</p>\n\n<pre><code>[\n    {\n        \"num_gurus\": 40,\n        \"id\": 119749,\n        \"code\": null,\n        \"name\": \"ART 198P\",\n        \"short_name\": \"ART 198P\",\n        \"title\": \"Directed Group Study\",\n        \"department_long\": null,\n        \"full_name\": \"Directed Group Study\",\n        \"department_short\": \"ART\"\n    },\n    {\n        \"num_gurus\": 3,\n        \"id\": 119825,\n        \"code\": null,\n        \"name\": \"ASAMST 198P\",\n        \"short_name\": \"ASAMST 198P\",\n        \"title\": \"Supervised Group Study\",\n        \"department_long\": null,\n        \"full_name\": \"Supervised Group Study\",\n        \"department_short\": \"ASAMST\"\n    },\n    {\n        \"num_gurus\": 200,\n        \"id\": 119904,\n        \"code\": null,\n        \"name\": \"AST 636\",\n        \"short_name\": \"AST 636\",\n        \"title\": \"Baudelaire: Art Poetry Modernity\",\n        \"department_long\": null,\n        \"full_name\": \"Baudelaire: Art Poetry Modernity\",\n        \"department_short\": \"AST\"\n    }\n]\n</code></pre>\n\n<p>I want my output to sort my dictionaries where the value of a key attribute 'num_gurus' is maximum to minimum. Expected output would be.</p>\n\n<pre><code>[\n    {\n        \"num_gurus\": 200,\n        \"id\": 119904,\n        \"code\": null,\n        \"name\": \"AST 636\",\n        \"short_name\": \"AST 636\",\n        \"title\": \"Baudelaire: Art Poetry Modernity\",\n        \"department_long\": null,\n        \"full_name\": \"Baudelaire: Art Poetry Modernity\",\n        \"department_short\": \"AST\"\n    }\n    {\n        \"num_gurus\": 40,\n        \"id\": 119749,\n        \"code\": null,\n        \"name\": \"ART 198P\",\n        \"short_name\": \"ART 198P\",\n        \"title\": \"Directed Group Study\",\n        \"department_long\": null,\n        \"full_name\": \"Directed Group Study\",\n        \"department_short\": \"ART\"\n    },\n    {\n        \"num_gurus\": 3,\n        \"id\": 119825,\n        \"code\": null,\n        \"name\": \"ASAMST 198P\",\n        \"short_name\": \"ASAMST 198P\",\n        \"title\": \"Supervised Group Study\",\n        \"department_long\": null,\n        \"full_name\": \"Supervised Group Study\",\n        \"department_short\": \"ASAMST\"\n    }\n\n]\n</code></pre>\n\n<p>I have tried this so far</p>\n\n<pre><code>    for items in load_as_json:\n            for key, val in sorted(items['num_gurus'].iteritems(), key=lambda (k,v): (v,k), reverse=True):\n                print key,val\n\nThis throws me error and doesn't do what I actually want to.\nThis is the error I got.\n  File \"utils.py\", line 61, in GetPopularCoursesBasedOnGurus\n    for key, val in sorted(str(items['num_gurus']).iteritems(), key=lambda (k,v): (v,k)):\nAttributeError: 'str' object has no attribute 'iteritems'\n</code></pre>\n",
                  "_deepnote_index_column": 987094
                },
                {
                  "Id_x": 40142577,
                  "OwnerUserId_x": 2063361,
                  "CreationDate_x": "2016-10-19T22:31:14Z",
                  "ParentId": 40142494,
                  "Score_x": 1,
                  "Body_x": "<p>For <strong><em>storing the sorted list as new list</em></strong>, you can do it using <a href=\"https://docs.python.org/2/library/functions.html#sorted\" rel=\"nofollow\"><code>sorted()</code></a> as:</p>\n\n<pre><code>sorted(my_list, key=lambda x: x['num_gurus'], reverse=True)\n# returns sorted list\n</code></pre>\n\n<p>where <code>my_list</code> is your <code>list</code> of <code>dict</code> objects.</p>\n\n<p>Else, if you want to <strong><em>sort the content of original list</em></strong>, i.e <code>my_list</code>, then use <code>list.sort()</code> as:</p>\n\n<pre><code>my_list.sort(key=lambda x: x[\"num_gurus\"], reverse=True)\n# sorts the original list\n</code></pre>\n\n<p>Check document on: <a href=\"https://wiki.python.org/moin/HowTo/Sorting\" rel=\"nofollow\">How to do Sorting in list</a></p>\n",
                  "Id_y": 40142494,
                  "OwnerUserId_y": 6930377,
                  "CreationDate_y": "2016-10-19T22:23:40Z",
                  "Score_y": 1,
                  "Title": "Sorting list with dictionaries values(Maximum to Minimum)",
                  "Body_y": "<p>I have an array with loads of dictionaries in it. However I want to sort dictionaries in a way where I have maximum value to a specific key in a dictionary.\nFor example I have a list that looks like this</p>\n\n<pre><code>[\n    {\n        \"num_gurus\": 40,\n        \"id\": 119749,\n        \"code\": null,\n        \"name\": \"ART 198P\",\n        \"short_name\": \"ART 198P\",\n        \"title\": \"Directed Group Study\",\n        \"department_long\": null,\n        \"full_name\": \"Directed Group Study\",\n        \"department_short\": \"ART\"\n    },\n    {\n        \"num_gurus\": 3,\n        \"id\": 119825,\n        \"code\": null,\n        \"name\": \"ASAMST 198P\",\n        \"short_name\": \"ASAMST 198P\",\n        \"title\": \"Supervised Group Study\",\n        \"department_long\": null,\n        \"full_name\": \"Supervised Group Study\",\n        \"department_short\": \"ASAMST\"\n    },\n    {\n        \"num_gurus\": 200,\n        \"id\": 119904,\n        \"code\": null,\n        \"name\": \"AST 636\",\n        \"short_name\": \"AST 636\",\n        \"title\": \"Baudelaire: Art Poetry Modernity\",\n        \"department_long\": null,\n        \"full_name\": \"Baudelaire: Art Poetry Modernity\",\n        \"department_short\": \"AST\"\n    }\n]\n</code></pre>\n\n<p>I want my output to sort my dictionaries where the value of a key attribute 'num_gurus' is maximum to minimum. Expected output would be.</p>\n\n<pre><code>[\n    {\n        \"num_gurus\": 200,\n        \"id\": 119904,\n        \"code\": null,\n        \"name\": \"AST 636\",\n        \"short_name\": \"AST 636\",\n        \"title\": \"Baudelaire: Art Poetry Modernity\",\n        \"department_long\": null,\n        \"full_name\": \"Baudelaire: Art Poetry Modernity\",\n        \"department_short\": \"AST\"\n    }\n    {\n        \"num_gurus\": 40,\n        \"id\": 119749,\n        \"code\": null,\n        \"name\": \"ART 198P\",\n        \"short_name\": \"ART 198P\",\n        \"title\": \"Directed Group Study\",\n        \"department_long\": null,\n        \"full_name\": \"Directed Group Study\",\n        \"department_short\": \"ART\"\n    },\n    {\n        \"num_gurus\": 3,\n        \"id\": 119825,\n        \"code\": null,\n        \"name\": \"ASAMST 198P\",\n        \"short_name\": \"ASAMST 198P\",\n        \"title\": \"Supervised Group Study\",\n        \"department_long\": null,\n        \"full_name\": \"Supervised Group Study\",\n        \"department_short\": \"ASAMST\"\n    }\n\n]\n</code></pre>\n\n<p>I have tried this so far</p>\n\n<pre><code>    for items in load_as_json:\n            for key, val in sorted(items['num_gurus'].iteritems(), key=lambda (k,v): (v,k), reverse=True):\n                print key,val\n\nThis throws me error and doesn't do what I actually want to.\nThis is the error I got.\n  File \"utils.py\", line 61, in GetPopularCoursesBasedOnGurus\n    for key, val in sorted(str(items['num_gurus']).iteritems(), key=lambda (k,v): (v,k)):\nAttributeError: 'str' object has no attribute 'iteritems'\n</code></pre>\n",
                  "_deepnote_index_column": 987095
                },
                {
                  "Id_x": 40142613,
                  "OwnerUserId_x": 5466926,
                  "CreationDate_x": "2016-10-19T22:34:49Z",
                  "ParentId": 40142024,
                  "Score_x": 2,
                  "Body_x": "<p>Wouldn't <code>f.set_index('ticker').groupby('sector').groups</code> be what you want?</p>\n\n<p>For example:</p>\n\n<pre><code>f = DataFrame({\n        'ticker': ('t1', 't2', 't3'),\n        'sector': ('sa', 'sb', 'sb'),\n        'name': ('n1', 'n2', 'n3')})\n\ngroups = f.set_index('ticker').groupby('sector').groups\n# {'sa': Index(['t1']), 'sb': Index(['t2', 't3'])}\n</code></pre>\n\n<p>To ensure that they have the type you want:</p>\n\n<pre><code>{k: list(v) for k, v in f.set_index('ticker').groupby('sector').groups.items()}\n</code></pre>\n\n<p>or:</p>\n\n<pre><code>f.set_index('ticker').groupby('sector').apply(lambda g: list(g.index)).to_dict()\n</code></pre>\n",
                  "Id_y": 40142024,
                  "OwnerUserId_y": 1290147,
                  "CreationDate_y": "2016-10-19T21:44:57Z",
                  "Score_y": 1,
                  "Title": "Pandas df to dictionary with values as python lists aggregated from a df column",
                  "Body_y": "<p>I have a pandas df containing 'features' for stocks, which looks like this: </p>\n\n<p><a href=\"https://i.stack.imgur.com/fekQs.png\" rel=\"nofollow\"><img src=\"https://i.stack.imgur.com/fekQs.png\" alt=\"features for stocks previous to training neural net\"></a></p>\n\n<p>I am now trying to create a dictionary with <strong>unique sector</strong> as <strong>key</strong>, and a <strong>python list of tickers</strong> for that unique sector as <strong>values</strong>, so I end up having something that looks like this:</p>\n\n<pre><code>{'consumer_discretionary': ['AAP',\n  'AMZN',\n  'AN',\n  'AZO',\n  'BBBY',\n  'BBY',\n  'BWA',\n  'KMX',\n  'CCL',\n  'CBS',\n  'CHTR',\n  'CMG',\n</code></pre>\n\n<p>etc.</p>\n\n<p>I could iterate over the pandas df rows to create the dictionary, but I prefer a  more pythonic solution. Thus far, this code is a partial solution:</p>\n\n<pre><code>df.set_index('sector')['ticker'].to_dict()\n</code></pre>\n\n<p>Any feedback is appreciated.</p>\n\n<p><strong>UPDATE:</strong></p>\n\n<p>The solution by @wrwrwr </p>\n\n<pre><code>df.set_index('ticker').groupby('sector').groups\n</code></pre>\n\n<p>partially works, but it returns a <strong>pandas series</strong> as a the value, instead of a <strong>python list</strong>. Any ideas about how to transform the pandas series into a python list in the same line and w/o having to iterate the dictionary?</p>\n",
                  "_deepnote_index_column": 987096
                },
                {
                  "Id_x": 40142636,
                  "OwnerUserId_x": 3946040,
                  "CreationDate_x": "2016-10-19T22:37:16Z",
                  "ParentId": 40138527,
                  "Score_x": 0,
                  "Body_x": "<p><strong>For anyone else facing this issue, I have found the following solution.</strong></p>\n\n<p>According to <a href=\"http://uwsgi-docs.readthedocs.io/en/latest/ThingsToKnow.html\" rel=\"nofollow\">http://uwsgi-docs.readthedocs.io/en/latest/ThingsToKnow.html</a>.</p>\n\n<blockquote>\n  <p>uWSGI tries to (ab)use the Copy On Write semantics of the fork() call whenever possible. By default it will fork after having loaded your applications to share as much of their memory as possible. If this behavior is undesirable for some reason, use the lazy-apps option. This will instruct uWSGI to load the applications after each worker’s fork().</p>\n</blockquote>\n\n<p>After taking a look at <a href=\"http://stackoverflow.com/questions/22752521/uwsgi-flask-sqlalchemy-and-postgres-ssl-error-decryption-failed-or-bad-reco\">uWSGI, Flask, sqlalchemy, and postgres: SSL error: decryption failed or bad record mac</a>, I realised my problem was to do with the fact that multiple processes were being created.</p>\n\n<p>However, because uWSGI loads all the processes from one master worker by default (and doesn't run the whole of the Flask application each time), it turns out that all the workers end up sharing a database connection (which doesn't end well!).</p>\n\n<p>The solution is to include the <code>lazy-apps</code> parameter, which forces all the code to be run when each worker is created.</p>\n",
                  "Id_y": 40138527,
                  "OwnerUserId_y": 3946040,
                  "CreationDate_y": "2016-10-19T18:01:25Z",
                  "Score_y": 1,
                  "Title": "Querying MySQL from multiple uWSGI workers returns mismatched rows",
                  "Body_y": "<p>I am running a query against a MySQL database from a Flask app being run with uWSGI with multiple workers. I've noticed that sometimes when I query a resource by id, the id of the returned row is different than the one I queried with.</p>\n\n<p>I thought that query isolation meant that this was not possible. However, it appears that MySQL is getting the queries mixed up. I am not able to reproduce this when not using uWSGI, but this may just be because it is running on localhost rather than a server when testing the Flask server by itself.</p>\n\n<p>Why is there a mismatch between the input id and the result id?</p>\n\n<pre><code>from flask import Flask\nimport pymysql.cursor, random\n\nclass Database:\n    def __init__(self, user, password, host, database):\n        self.connection = pymysql.connect(\n            user=user,\n            password=password,\n            host=host,\n            database=database,\n            cursorclass=pymysql.cursors.DictCursor\n        )\n\n    def query(self, sql, **kwargs):\n        with self.connection.cursor() as cursor:\n            cursor.execute(sql, kwargs)\n            return cursor\n\napp = Flask(__name__)\ndatabase = Database('user', 'password', 'localhost', 'database')\n\n@app.route('/resources/&lt;path:id&gt;')\ndef resource(id):\n    item = database.query(\n        'SELECT resources.id FROM resources WHERE resources.id = %(id)s',\n        id=id\n    ).fetchone()\n\n    identifier = random.random()\n    print(identifier, 'ID 1:', id)\n    print(identifier, 'ID 2:', item['id'])\n\n    if int(item['id']) != int(id):\n        print('Error found!!!')\n\n    return 'Done', 200\n\nif __name__ == '__main__':\n    app.run()\n</code></pre>\n\n<pre class=\"lang-none prettyprint-override\"><code>[pid: 2824|app: 0|req: 1/1] xxx.xxx.xxx.xxx () {44 vars in 737 bytes} [Wed Oct 19 18:38:07 2016] GET /resources/10 =&gt; generated 4 bytes in 6 msecs (HTTP/1.1 200) 2 headers in 78 bytes (1 switches on core 0)\n0.687535338604848 ID 1: 11\n0.687535338604848 ID 2: 11\n[pid: 2821|app: 0|req: 1/2] xxx.xxx.xxx.xxx () {44 vars in 737 bytes} [Wed Oct 19 18:38:07 2016] GET /resources/11 =&gt; generated 4 bytes in 5 msecs (HTTP/1.1 200) 2 headers in 78 bytes (1 switches on core 0)\n0.9216930740141296 ID 1: 13\n0.9216930740141296 ID 2: 13\n[pid: 2823|app: 0|req: 1/3] xxx.xxx.xxx.xxx () {44 vars in 737 bytes} [Wed Oct 19 18:38:07 2016] GET /resources/13 =&gt; generated 4 bytes in 6 msecs (HTTP/1.1 200) 2 headers in 78 bytes (1 switches on core 0)\n0.9053128320497649 ID 1: 12\n0.9053128320497649 ID 2: 14\nError found!!!\n0.794023616025622 ID 1: 15\n0.794023616025622 ID 2: 15\n[pid: 2824|app: 0|req: 2/4] xxx.xxx.xxx.xxx () {44 vars in 737 bytes} [Wed Oct 19 18:38:07 2016] GET /resources/15 =&gt; generated 4 bytes in 1 msecs (HTTP/1.1 200) 2 headers in 78 bytes (1 switches on core 0)\n[pid: 2822|app: 0|req: 1/5] xxx.xxx.xxx.xxx () {44 vars in 737 bytes} [Wed Oct 19 18:38:07 2016] GET /resources/12 =&gt; generated 4 bytes in 31 msecs (HTTP/1.1 200) 2 headers in 78 bytes (1 switches on core 0)\n0.3608322871408709 ID 1: 14\n0.3608322871408709 ID 2: 16\nError found!!!\n[pid: 2825|app: 0|req: 1/6] xxx.xxx.xxx.xxx () {44 vars in 737 bytes} [Wed Oct 19 18:38:07 2016] GET /resources/14 =&gt; generated 4 bytes in 18 msecs (HTTP/1.1 200) 2 headers in 78 bytes (1 switches on core 0)\n0.8346421078513786 ID 1: 16\n0.8346421078513786 ID 2: 17\nError found!!!\n</code></pre>\n",
                  "_deepnote_index_column": 987097
                },
                {
                  "Id_x": 40142703,
                  "OwnerUserId_x": 7039394,
                  "CreationDate_x": "2016-10-19T22:44:31Z",
                  "ParentId": 40120210,
                  "Score_x": 0,
                  "Body_x": "<p>Due to an error in the script, worked two instance celery and this error occurred during the operation instance, who has worked with the old code.</p>\n",
                  "Id_y": 40120210,
                  "OwnerUserId_y": 7039394,
                  "CreationDate_y": "2016-10-19T00:36:05Z",
                  "Score_y": -2,
                  "Title": "Python runs the commented-out code",
                  "Body_y": "<p>I have a problem that sometimes <code>docker-py</code> returns an error:</p>\n\n<pre><code>Permission denied.\n</code></pre>\n\n<p>I'm trying to fix it. I commented out the piece of code, and received the following picture.</p>\n\n<pre><code>File \"/opt/dst/src/utils/runner.py\", line 48, in run_code\n\n\\#if len(cli.containers(filters={'status': ['running', 'created']})) &gt;= settings.DOCKER_CONTAINER_COUNT:\n</code></pre>\n\n<pre class=\"lang-html prettyprint-override\"><code>Traceback (most recent call last):\n  File \"/opt/dst/env/lib/python2.7/site-packages/celery/app/trace.py\", line 240, in trace_task\n    R = retval = fun(*args, **kwargs)\n  File \"/opt/dst/env/lib/python2.7/site-packages/celery/app/trace.py\", line 438, in __protected_call__\n    return self.run(*args, **kwargs)\n  File \"/opt/dst/src/core/tasks.py\", line 12, in run\n    return 'Solution not found'\n  File \"/opt/dst/src/utils/runner.py\", line 48, in run_code\n    #if len(cli.containers(filters={'status': ['running', 'created']})) &gt;= settings.DOCKER_CONTAINER_COUNT:\n  File \"/opt/dst/env/lib/python2.7/site-packages/docker/api/container.py\", line 85, in containers\n    res = self._result(self._get(u, params=params), True)\n  File \"/opt/dst/env/lib/python2.7/site-packages/docker/utils/decorators.py\", line 47, in inner\n    return f(self, *args, **kwargs)\n  File \"/opt/dst/env/lib/python2.7/site-packages/docker/client.py\", line 132, in _get\n    return self.get(url, **self._set_request_timeout(kwargs))\n  File \"/opt/dst/env/lib/python2.7/site-packages/requests/sessions.py\", line 487, in get\n    return self.request('GET', url, **kwargs)\n  File \"/opt/dst/env/lib/python2.7/site-packages/requests/sessions.py\", line 475, in request\n    resp = self.send(prep, **send_kwargs)\n  File \"/opt/dst/env/lib/python2.7/site-packages/requests/sessions.py\", line 585, in send\n    r = adapter.send(request, **kwargs)\n  File \"/opt/dst/env/lib/python2.7/site-packages/requests/adapters.py\", line 453, in send\n    raise ConnectionError(err, request=request)\nConnectionError: ('Connection aborted.', error(13, 'Permission denied'))\n</code></pre>\n\n\n\n<p>The runner.pyc file is updated.\nWhat could be the problem?\nThank you for your help and sorry for my bad english</p>\n\n<p>UPDATE:</p>\n\n<pre><code>cli = Client('unix://var/run/docker.sock', version='1.19')\nkill_client = Client('unix://var/run/docker.sock', version='1.19', timeout=0.5)\nconfig = cli.create_host_config(**get_host_config(file_path))\n#if len(cli.containers(filters={'status': ['running', 'created']})) &gt;= settings.DOCKER_CONTAINER_COUNT:\n#    return 'must retry', None\nrun_string = 'timeout {} python /tmp/script.py'.format(settings.DOCKER_EXECUTE_TIME)\ncontainer = cli.create_container('python:2', run_string, user=uid, host_config=config)\n</code></pre>\n",
                  "_deepnote_index_column": 987098
                },
                {
                  "Id_x": 40142718,
                  "OwnerUserId_x": 7040139,
                  "CreationDate_x": "2016-10-19T22:45:47Z",
                  "ParentId": 40142646,
                  "Score_x": -2,
                  "Body_x": "<p>Tuples are immutable.I Think it's impossible.</p>\n",
                  "Id_y": 40142646,
                  "OwnerUserId_y": 4808466,
                  "CreationDate_y": "2016-10-19T22:38:43Z",
                  "Score_y": 0,
                  "Title": "Django choices and dictionary",
                  "Body_y": "<p>I have code</p>\n\n<pre><code>JOBS = 1\nCATEGORY_CHOICES = ((JOBS, \"Jobs\"),)\n</code></pre>\n\n<p>And code in the model</p>\n\n<pre><code>category = models.IntegerField(choices=CATEGORY_CHOICES, default=JOBS)\n</code></pre>\n\n<p>Instead of \"jobs\" I want to add a dictionary and have access to it in the template. For example</p>\n\n<pre><code>JOBS = 1\nCATEGORY_CHOICES = ((JOBS, {'title':\"Jobs\",'icon':\"fa fa-briefcase\",'slug':\"jobs\"}),)\n</code></pre>\n\n<p>But instead I get the following</p>\n\n<p><a href=\"https://i.stack.imgur.com/Oc7Jw.png\" rel=\"nofollow\"><img src=\"https://i.stack.imgur.com/Oc7Jw.png\" alt=\"enter image description here\"></a></p>\n\n<p>How to add the dictionary into the choices?\nI was able to create a model, which would be set up: title and icon. But instead, I decided to create a choice. Title I can add, but for the selected item to set the icon?</p>\n",
                  "_deepnote_index_column": 987099
                },
                {
                  "Id_x": 40142877,
                  "OwnerUserId_x": 46914,
                  "CreationDate_x": "2016-10-19T23:02:43Z",
                  "ParentId": 40142646,
                  "Score_x": 2,
                  "Body_x": "<p>Choices in Django models are <code>(key, value)</code> tuples. The key is what's meant to be stored in the model's field when saved and the value is meant to be what's displayed as an option. You can't simply jam a dictionary into the value.</p>\n\n<p>For example, the below choices would store <code>human</code> in the database and display <code>Humans</code> in a select field.</p>\n\n<pre><code>species = [\n    ('human', 'Humans'),\n    ('reptile', 'Reptiles'),\n    ('cylons', 'Aliens'),\n]\n</code></pre>\n\n<p>Instead, you need to restructure how your model your data. You should create a separate <code>Category</code> model that represents the choices which will contain fields for a slug, icon and title.</p>\n\n<pre><code>class Category(models.Model):\n    slug  = models.SlugField()\n    title = models.CharField()\n    icon  = models.CharField()\n</code></pre>\n\n<p>You then point your current model at the <code>Category</code> model using a <code>ForeignKey()</code>. </p>\n\n<pre><code>class MyModel(models.Model):\n    category = models.ForeignKey(Category)\n</code></pre>\n\n<p>Finally, you can use a <a href=\"https://docs.djangoproject.com/en/1.10/ref/forms/fields/#modelchoicefield\" rel=\"nofollow\"><code>ModelChoiceField</code></a> when rendering the form to render the related category models (related across the foreign key) as choices in a list. If you use a <a href=\"https://docs.djangoproject.com/en/1.10/topics/forms/modelforms/\" rel=\"nofollow\"><code>ModelForm</code></a>, all foreign keys will be represented as <a href=\"https://docs.djangoproject.com/en/1.10/ref/forms/fields/#modelchoicefield\" rel=\"nofollow\"><code>ModelChoiceField</code></a>s by default.</p>\n",
                  "Id_y": 40142646,
                  "OwnerUserId_y": 4808466,
                  "CreationDate_y": "2016-10-19T22:38:43Z",
                  "Score_y": 0,
                  "Title": "Django choices and dictionary",
                  "Body_y": "<p>I have code</p>\n\n<pre><code>JOBS = 1\nCATEGORY_CHOICES = ((JOBS, \"Jobs\"),)\n</code></pre>\n\n<p>And code in the model</p>\n\n<pre><code>category = models.IntegerField(choices=CATEGORY_CHOICES, default=JOBS)\n</code></pre>\n\n<p>Instead of \"jobs\" I want to add a dictionary and have access to it in the template. For example</p>\n\n<pre><code>JOBS = 1\nCATEGORY_CHOICES = ((JOBS, {'title':\"Jobs\",'icon':\"fa fa-briefcase\",'slug':\"jobs\"}),)\n</code></pre>\n\n<p>But instead I get the following</p>\n\n<p><a href=\"https://i.stack.imgur.com/Oc7Jw.png\" rel=\"nofollow\"><img src=\"https://i.stack.imgur.com/Oc7Jw.png\" alt=\"enter image description here\"></a></p>\n\n<p>How to add the dictionary into the choices?\nI was able to create a model, which would be set up: title and icon. But instead, I decided to create a choice. Title I can add, but for the selected item to set the icon?</p>\n",
                  "_deepnote_index_column": 987100
                },
                {
                  "Id_x": 40142938,
                  "OwnerUserId_x": 6515554,
                  "CreationDate_x": "2016-10-19T23:08:29Z",
                  "ParentId": 40142646,
                  "Score_x": 1,
                  "Body_x": "<p>I would comment, but sadly not enough rep. The way <a href=\"https://docs.djangoproject.com/en/1.10/ref/models/fields/#django.db.models.IntegerField\" rel=\"nofollow\">IntegerField</a> is setup, it displays the dictionary value and returns the dictionary key.</p>\n\n<p>What it seems you want to do is have that key determine the results of several other values. What you should do then is in whatever view you submit that form to, set those other values based on the key returned by your IntegerField.</p>\n\n<p>In other words:</p>\n\n<pre><code>CATEGORY_CHOICES = ((1, 'Jobs'),(2, 'Cities'),)\n</code></pre>\n\n<p>Then later in the class or view that this form is submitted to:</p>\n\n<pre><code>if CATEGORY_CHOICES  == 1:\n    title = 'Jobs'\n    icon = 'fa fa-briefcase'\n    slug = 'jobs'\nelif CATEGORY_CHOICES == 2:\n    title = 'Cities'\n`   icon = 'fa fa-city'\n    slug = 'cities'\n</code></pre>\n",
                  "Id_y": 40142646,
                  "OwnerUserId_y": 4808466,
                  "CreationDate_y": "2016-10-19T22:38:43Z",
                  "Score_y": 0,
                  "Title": "Django choices and dictionary",
                  "Body_y": "<p>I have code</p>\n\n<pre><code>JOBS = 1\nCATEGORY_CHOICES = ((JOBS, \"Jobs\"),)\n</code></pre>\n\n<p>And code in the model</p>\n\n<pre><code>category = models.IntegerField(choices=CATEGORY_CHOICES, default=JOBS)\n</code></pre>\n\n<p>Instead of \"jobs\" I want to add a dictionary and have access to it in the template. For example</p>\n\n<pre><code>JOBS = 1\nCATEGORY_CHOICES = ((JOBS, {'title':\"Jobs\",'icon':\"fa fa-briefcase\",'slug':\"jobs\"}),)\n</code></pre>\n\n<p>But instead I get the following</p>\n\n<p><a href=\"https://i.stack.imgur.com/Oc7Jw.png\" rel=\"nofollow\"><img src=\"https://i.stack.imgur.com/Oc7Jw.png\" alt=\"enter image description here\"></a></p>\n\n<p>How to add the dictionary into the choices?\nI was able to create a model, which would be set up: title and icon. But instead, I decided to create a choice. Title I can add, but for the selected item to set the icon?</p>\n",
                  "_deepnote_index_column": 987101
                },
                {
                  "Id_x": 40142816,
                  "OwnerUserId_x": 2334254,
                  "CreationDate_x": "2016-10-19T22:55:57Z",
                  "ParentId": 40142752,
                  "Score_x": 0,
                  "Body_x": "<pre><code>import numpy as np\nfrom scipy.optimize import curve_fit\n\nxdata= np.array([1, 8, 8, 21, 31, 42, 63, 64, 81, 110, 156, 211, 301, 336, 735])\nydata = np.array([0.018, 0.0164, 0.0042, 0.0072, 0.0108, 0.0044, 0.0035, 0.0036, 0.0042, 0.0051, 0.0019, 0.0042, 0.0019, 8e-4, 2e-4])\n\ndef func(x,a,b,m,n):\n    return a*np.exp(m*x)+b*np.exp(n*x)\n\ncurve_fit(func, xdata, ydata)\n</code></pre>\n\n<p>unfortunatly <code>Covariance of the parameters could not be estimated</code></p>\n",
                  "Id_y": 40142752,
                  "OwnerUserId_y": 6934489,
                  "CreationDate_y": "2016-10-19T22:49:06Z",
                  "Score_y": 0,
                  "Title": "How to do curvefitting using scipy.optimize.curve_fit",
                  "Body_y": "<p>I am quite new to Python. I wanted to do a sum of exponentials fit to my data using curve_fit. Here's my code:</p>\n\n<pre><code>import numpy as np\nfrom scipy.optimize import curve_fit\n\nxdata= np.array('1, 8, 8, 21, 31, 42, 63, 64, 81, 110, 156, 211, 301, 336, 735')\nydata = np.array('0.018, 0.0164, 0.0042, 0.0072, 0.0108, 0.0044, 0.0035, 0.0036, 0.0042, 0.0051, 0.0019, 0.0042, 0.0019, 8e-4, 2e-4')\n\ndef func(x,a,b,m,n):\n    return a*np.exp(m*x)+b*np.exp(n*x)\n\ncurve_fit(func, xdata, ydata)\n</code></pre>\n\n<p>I get the typeerror stating: \"ufunc 'multiply' did not contain a loop with signature matching types dtype('\n\n<p>Can somebody please help me with this? Also, I would like to set a constraint such that parameters a and b add to 1.</p>\n\n<p>Thank you.</p>\n",
                  "_deepnote_index_column": 987102
                },
                {
                  "Id_x": 40142832,
                  "OwnerUserId_x": 674039,
                  "CreationDate_x": "2016-10-19T22:57:44Z",
                  "ParentId": 40142804,
                  "Score_x": 0,
                  "Body_x": "<p>This is an error in the library code, because <code>(None, 192)</code> is an invalid shape for a numpy array - the shape must be a tuple of integers.  </p>\n\n<p>To investigate any further, we'll have to see the traceback and/or the code which is raising that exception.  </p>\n",
                  "Id_y": 40142804,
                  "OwnerUserId_y": 6902762,
                  "CreationDate_y": "2016-10-19T22:54:26Z",
                  "Score_y": 0,
                  "Title": "Python Array Reshaping Issue to Array with Shape (None, 192)",
                  "Body_y": "<p>I have this error and I'm not sure how do I reshape where there's a dimension with <code>None</code>.</p>\n\n<pre><code>Exception: Error when checking : expected input_1 to have shape (None, 192) but got array with shape (192, 1)\n</code></pre>\n\n<p>How do I reshape an array to (None, 192)? </p>\n\n<p>I've the array <code>accuracy</code> with shape <code>(12, 16)</code> and I did <code>accuracy.reshape(-1)</code> that gives <code>(192,)</code>. However this is not <code>(None, 192)</code>.</p>\n",
                  "_deepnote_index_column": 987103
                },
                {
                  "Id_x": 40142876,
                  "OwnerUserId_x": 674039,
                  "CreationDate_x": "2016-10-19T23:02:41Z",
                  "ParentId": 40142811,
                  "Score_x": 0,
                  "Body_x": "<p>That is actually how your data is:</p>\n\n<pre><code>&gt;&gt;&gt; s = '{\"92\": {\"children\": [{\"87\": {\"children\": [87, 96]}}, {\"96\": {\"children\": [90, 105]}}]}}'\n&gt;&gt;&gt; print(json.dumps(json.loads(s), indent=2))\n{\n  \"92\": {\n    \"children\": [\n      {\n        \"87\": {\n          \"children\": [\n            87, \n            96\n          ]\n        }\n      }, \n      {\n        \"96\": {\n          \"children\": [\n            90, \n            105\n          ]\n        }\n      }\n    ]\n  }\n}\n</code></pre>\n\n<p><code>87</code> is listed as a child of <code>87</code>.</p>\n",
                  "Id_y": 40142811,
                  "OwnerUserId_y": 2679662,
                  "CreationDate_y": "2016-10-19T22:55:05Z",
                  "Score_y": 2,
                  "Title": "Different result for String and Integers using JSON in python",
                  "Body_y": "<p><strong>EDIT:</strong>\nAs @Alfe suggested in the comments, the exact problem in this case is that the following code is unable to handle nodes with same values. So, How do I get the expected output, without changing the value of the nodes?</p>\n\n<p>I'm executing following code to make a tree from JSON data:</p>\n\n<pre><code>from __future__ import print_function\nimport json\nimport sys\n\n# Tree in JSON format\ns = '{\"Harry\": {\"children\": [\"Bill\", {\"Jane\": {\"children\": [{\"Diane\": {\"children\": [\"Mary\"]}}, \"Mark\"]}}]}}'\n\n# Convert JSON tree to a Python dict\ndata = json.loads(s)\n\n# Extract tree edges from the dict\nedges = []\n\ndef get_edges(treedict, parent=None):\n    name = next(iter(treedict.keys()))\n    if parent is not None:\n        edges.append((parent, name))\n    for item in treedict[name][\"children\"]:\n        if isinstance(item, dict):\n            get_edges(item, parent=name)\n        else:\n            edges.append((name, item))\n\nget_edges(data)\n\n# Dump edge list in Graphviz DOT format\nprint('strict digraph tree {')\nfor row in edges:\n    print('    {0} -&gt; {1};'.format(*row))\nprint('}')\n</code></pre>\n\n<p>Command used at terminal: <code>python filename.py | dot -Tpng -otree.png</code></p>\n\n<p>With String input, as shown in the code above, the output is:\n<a href=\"https://i.stack.imgur.com/zFvic.png\" rel=\"nofollow\"><img src=\"https://i.stack.imgur.com/zFvic.png\" alt=\"enter image description here\"></a></p>\n\n<p>But if I enter JSON data with integers:</p>\n\n<p><code>s = '{\"92\": {\"children\": [{\"87\": {\"children\": [87, 96]}}, {\"96\": {\"children\": [90, 105]}}]}}'</code></p>\n\n<p>I get following output: (which is wrong!)</p>\n\n<p><a href=\"https://i.stack.imgur.com/aTnbF.png\" rel=\"nofollow\"><img src=\"https://i.stack.imgur.com/aTnbF.png\" alt=\"enter image description here\"></a></p>\n\n<p>Expected output:\n<a href=\"https://i.stack.imgur.com/MVkyL.jpg\" rel=\"nofollow\"><img src=\"https://i.stack.imgur.com/MVkyL.jpg\" alt=\"enter image description here\"></a></p>\n\n<p>What am I doing wrong here? How to solve this issue?</p>\n",
                  "_deepnote_index_column": 987104
                },
                {
                  "Id_x": 40142893,
                  "OwnerUserId_x": 2063361,
                  "CreationDate_x": "2016-10-19T23:04:26Z",
                  "ParentId": 40142811,
                  "Score_x": 2,
                  "Body_x": "<p>Editting based on the <em>edit</em> in the question:</p>\n\n<p>As far as your output is considered, it is giving me:</p>\n\n<pre><code>92 -&gt; 87;\n87 -&gt; 87;\n87 -&gt; 96;\n92 -&gt; 96;\n96 -&gt; 90;\n96 -&gt; 105;\n</code></pre>\n\n<p>It is showing <code>\"87\"</code> and <code>87</code> as same because you are using <code>.format()</code> with <code>print</code> which inserts the value in string independent of maintaing the quotes <code>\"</code>. For example:</p>\n\n<pre><code>&gt;&gt;&gt; '{}'.format(1)\n'1'\n&gt;&gt;&gt; '{}'.format('1')\n'1'\n</code></pre>\n\n<p>In order to fix this, you may do:</p>\n\n<pre><code>for parent, child in edges:\n    parent = '\"{}\"'.format(parent)  if isinstance(parent, str) else parent\n    child = '\"{}\"'.format(child)  if isinstance(child, str) else child\n    print('    {0} -&gt; {1};'.format(parent, child))\n</code></pre>\n\n<p>which prints:</p>\n\n<pre><code>\"92\" -&gt; \"87\";\n\"87\" -&gt; 87;\n\"87\" -&gt; 96;\n\"92\" -&gt; \"96\";\n\"96\" -&gt; 90;\n\"96\" -&gt; 105;\n</code></pre>\n",
                  "Id_y": 40142811,
                  "OwnerUserId_y": 2679662,
                  "CreationDate_y": "2016-10-19T22:55:05Z",
                  "Score_y": 2,
                  "Title": "Different result for String and Integers using JSON in python",
                  "Body_y": "<p><strong>EDIT:</strong>\nAs @Alfe suggested in the comments, the exact problem in this case is that the following code is unable to handle nodes with same values. So, How do I get the expected output, without changing the value of the nodes?</p>\n\n<p>I'm executing following code to make a tree from JSON data:</p>\n\n<pre><code>from __future__ import print_function\nimport json\nimport sys\n\n# Tree in JSON format\ns = '{\"Harry\": {\"children\": [\"Bill\", {\"Jane\": {\"children\": [{\"Diane\": {\"children\": [\"Mary\"]}}, \"Mark\"]}}]}}'\n\n# Convert JSON tree to a Python dict\ndata = json.loads(s)\n\n# Extract tree edges from the dict\nedges = []\n\ndef get_edges(treedict, parent=None):\n    name = next(iter(treedict.keys()))\n    if parent is not None:\n        edges.append((parent, name))\n    for item in treedict[name][\"children\"]:\n        if isinstance(item, dict):\n            get_edges(item, parent=name)\n        else:\n            edges.append((name, item))\n\nget_edges(data)\n\n# Dump edge list in Graphviz DOT format\nprint('strict digraph tree {')\nfor row in edges:\n    print('    {0} -&gt; {1};'.format(*row))\nprint('}')\n</code></pre>\n\n<p>Command used at terminal: <code>python filename.py | dot -Tpng -otree.png</code></p>\n\n<p>With String input, as shown in the code above, the output is:\n<a href=\"https://i.stack.imgur.com/zFvic.png\" rel=\"nofollow\"><img src=\"https://i.stack.imgur.com/zFvic.png\" alt=\"enter image description here\"></a></p>\n\n<p>But if I enter JSON data with integers:</p>\n\n<p><code>s = '{\"92\": {\"children\": [{\"87\": {\"children\": [87, 96]}}, {\"96\": {\"children\": [90, 105]}}]}}'</code></p>\n\n<p>I get following output: (which is wrong!)</p>\n\n<p><a href=\"https://i.stack.imgur.com/aTnbF.png\" rel=\"nofollow\"><img src=\"https://i.stack.imgur.com/aTnbF.png\" alt=\"enter image description here\"></a></p>\n\n<p>Expected output:\n<a href=\"https://i.stack.imgur.com/MVkyL.jpg\" rel=\"nofollow\"><img src=\"https://i.stack.imgur.com/MVkyL.jpg\" alt=\"enter image description here\"></a></p>\n\n<p>What am I doing wrong here? How to solve this issue?</p>\n",
                  "_deepnote_index_column": 987105
                },
                {
                  "Id_x": 40142930,
                  "OwnerUserId_x": 4384797,
                  "CreationDate_x": "2016-10-19T23:07:47Z",
                  "ParentId": 40142686,
                  "Score_x": 1,
                  "Body_x": "<p>To encode non-numeric data to numeric you can use scikit-learn's <a href=\"http://scikit-learn.org/stable/modules/generated/sklearn.preprocessing.LabelEncoder.html#sklearn.preprocessing.LabelEncoder\" rel=\"nofollow\">LabelEncoder</a>. It will encode each category such as COL1's <code>a</code>, <code>b</code>, <code>c</code> to integers.</p>\n\n<p>Assuming df is your dataframe, try:</p>\n\n<pre><code>from sklearn.preprocessing import LabelEncoder\nenc = LabelEncoder()\nenc.fit(df['COL1'])\ndf['COL1'] = enc.transform(df['col1'])\n</code></pre>\n\n<ul>\n<li><code>enc.fit()</code> creates the corresponding integer values.</li>\n<li><code>enc.transform()</code> applies the encoding to the df values.</li>\n</ul>\n\n<p>For the second column, using Pandas <a href=\"http://pandas.pydata.org/pandas-docs/stable/generated/pandas.to_datetime.html\" rel=\"nofollow\">to_datetime()</a> function should do the trick, like @quinn-weber mentioned, try:</p>\n\n<pre><code>df['COL2'] = pd.to_datetime(df['COL2'])\n</code></pre>\n",
                  "Id_y": 40142686,
                  "OwnerUserId_y": 4150912,
                  "CreationDate_y": "2016-10-19T22:42:47Z",
                  "Score_y": 1,
                  "Title": "converting non-numeric to numeric value using Panda libraries",
                  "Body_y": "<p>I am a machine learning beginner and wan't to learn ML using python and it's pandas module. So I have a Dataframe like this:</p>\n\n<pre><code>COL1    COL2      COL3\na     9/8/2016     2\nb     12/4/2016    23\n         ...\nn     1/1/2015     21\n</code></pre>\n\n<p>COL1 is a String, Col2 is a timestamp and Col3 is a number. Now I need to do some analysis on this Dataframe and I want to convert all the non-numeric data to numeric. I tried using <a href=\"http://scikit-learn.org/stable/modules/feature_extraction.html#dict-feature-extraction\" rel=\"nofollow\">DictVectorizer()</a> to convert COL1 and 2 to numeric but first of all I am not sure if this is the best way doing such a thing and second I don't know what to do with the timestamp.\nWhen I use DictVectorizer the output would be like:</p>\n\n<pre><code>{u'COL3: {0:2, 1:23 , ...,n:21}, 'COL1': {0: u'a', 1:'b', ... , n:'n'}, 'COL2': {0: u'9/8/2016' , 1: u'12/4/2016' , ... , n:u'1/1/2016'}}\n</code></pre>\n\n<p>but from what I learned it should be like this or at least I know I need something like this:</p>\n\n<pre><code> {COL1:'a', COL2: '9/8/2016' , COL3: 2  and so on}   \n</code></pre>\n\n<p>so, questions:\n1-what is the best way of converting non- numeric (including date) to numeric values to use in sklearn libraries\n2- what is the right way of using DictVectorize()</p>\n\n<p>Any help would be appreciated. </p>\n",
                  "_deepnote_index_column": 987106
                },
                {
                  "Id_x": 40142943,
                  "OwnerUserId_x": 4784545,
                  "CreationDate_x": "2016-10-19T23:08:47Z",
                  "ParentId": 40142686,
                  "Score_x": 1,
                  "Body_x": "<p>You could convert COL1 with something like this: </p>\n\n<pre><code>import pandas as pd\nimport string\ntable = pd.DataFrame([\n    ['a','9/8/2016',2],\n    ['b','12/4/2016',23],\n    ['n','1/1/2015',21],\n], columns=['COL1', 'COL2', 'COL3'])\ntable['COL1'] = table['COL1'].map(dict(zip(list(string.lowercase), xrange(0,25))))\n</code></pre>\n\n<p>As for the timestamp, you could do:</p>\n\n<pre><code>table['COL2'] = pd.to_datetime(\n    table['COL2'], format='%m/%d/%Y'\n).dt.strftime(date_format='%Y%m%d')\n</code></pre>\n",
                  "Id_y": 40142686,
                  "OwnerUserId_y": 4150912,
                  "CreationDate_y": "2016-10-19T22:42:47Z",
                  "Score_y": 1,
                  "Title": "converting non-numeric to numeric value using Panda libraries",
                  "Body_y": "<p>I am a machine learning beginner and wan't to learn ML using python and it's pandas module. So I have a Dataframe like this:</p>\n\n<pre><code>COL1    COL2      COL3\na     9/8/2016     2\nb     12/4/2016    23\n         ...\nn     1/1/2015     21\n</code></pre>\n\n<p>COL1 is a String, Col2 is a timestamp and Col3 is a number. Now I need to do some analysis on this Dataframe and I want to convert all the non-numeric data to numeric. I tried using <a href=\"http://scikit-learn.org/stable/modules/feature_extraction.html#dict-feature-extraction\" rel=\"nofollow\">DictVectorizer()</a> to convert COL1 and 2 to numeric but first of all I am not sure if this is the best way doing such a thing and second I don't know what to do with the timestamp.\nWhen I use DictVectorizer the output would be like:</p>\n\n<pre><code>{u'COL3: {0:2, 1:23 , ...,n:21}, 'COL1': {0: u'a', 1:'b', ... , n:'n'}, 'COL2': {0: u'9/8/2016' , 1: u'12/4/2016' , ... , n:u'1/1/2016'}}\n</code></pre>\n\n<p>but from what I learned it should be like this or at least I know I need something like this:</p>\n\n<pre><code> {COL1:'a', COL2: '9/8/2016' , COL3: 2  and so on}   \n</code></pre>\n\n<p>so, questions:\n1-what is the best way of converting non- numeric (including date) to numeric values to use in sklearn libraries\n2- what is the right way of using DictVectorize()</p>\n\n<p>Any help would be appreciated. </p>\n",
                  "_deepnote_index_column": 987107
                },
                {
                  "Id_x": 40142953,
                  "OwnerUserId_x": 674039,
                  "CreationDate_x": "2016-10-19T23:09:42Z",
                  "ParentId": 40142906,
                  "Score_x": 2,
                  "Body_x": "<p>Your error is here:</p>\n\n<pre><code>for barcode(a) in s:\n</code></pre>\n\n<p>It's invalid syntax because the name bound in a for loop has to be a python identifier.  </p>\n\n<p>You were probably trying for something like this instead:</p>\n\n<pre><code>for the_zipcode in s:\n    print(barcode(the_zipcode))\n</code></pre>\n",
                  "Id_y": 40142906,
                  "OwnerUserId_y": 7044946,
                  "CreationDate_y": "2016-10-19T23:05:34Z",
                  "Score_y": 2,
                  "Title": "can't assign to function call Error-Python",
                  "Body_y": "<p>So I'm working on a project to create a postal bar code out of an inputted 5 digit zipcode\nthis is what i have so far and i'm not sure why i'm getting this error or how to approach fixing it, appreciate the help!</p>\n\n<pre><code>zipcode=input(\"What is your 5 digit zipcode?\")\ns=zipcode.split(\",\")\n\ndef correctiondigit(zipcode):     #LAST BLOCK OF 6 BLOCK BARCODE\n    zipcode.split()\n    total=int(zipcode[0])+int(zipcode[1])+int(zipcode[2])+int(zipcode[3])+int(zipcode[4])\n    if total % 10!=0:\n        total=total+(10-total%10)  \n\n\nprint(correctiondigit(zipcode))    #not working on this yet        \n\ndef barcode(a):                                                        \n    if a==0:\n        print(\"||:::\") \n    elif a==1:\n        print(\":::||\")\n    elif a==2:\n        print(\"::|:|\")\n    elif a==3:\n        print(\"::||:\")\n    elif a==4:\n        print(\":|::|\")\n    elif a==5:\n        print(\":|:|:\")\n    elif a==6:\n        print(\":||::\")\n    elif a==7:\n        print(\"|:::|\")\n    elif a==8:\n        print(\"|::|:\")\n    elif a==9:\n        print(\"|:|::\")\n\n\n\nfor the_zipcode in s:\n    print(barcode(the_zipcode))  \n</code></pre>\n",
                  "_deepnote_index_column": 987108
                },
                {
                  "Id_x": 40143290,
                  "OwnerUserId_x": 3831,
                  "CreationDate_x": "2016-10-19T23:46:58Z",
                  "ParentId": 40142906,
                  "Score_x": 0,
                  "Body_x": "<p>I am fairly certain your problem is your use of <code>s=zipcode.split(\",\")</code>. What that does is split the string that is put in by the user (if you're using python 3) into an array of strings, where each element is delimited by a comma. For example:</p>\n\n<pre><code>'11111'.split(',') # ['11111']\n'11111,12345'.split(',') # ['11111', '12345']\n</code></pre>\n\n<p>That is almost certainly not what you want, since you're asking the user to input a 5-digit zip code. If you just use the input directly, I think you'll get what you want.</p>\n\n<p>That is:</p>\n\n<pre><code>zipcode=input(\"What is your 5 digit zipcode?\")\n# . . .\nfor digit in zipcode:\n  print(barcode(digit)) \n</code></pre>\n",
                  "Id_y": 40142906,
                  "OwnerUserId_y": 7044946,
                  "CreationDate_y": "2016-10-19T23:05:34Z",
                  "Score_y": 2,
                  "Title": "can't assign to function call Error-Python",
                  "Body_y": "<p>So I'm working on a project to create a postal bar code out of an inputted 5 digit zipcode\nthis is what i have so far and i'm not sure why i'm getting this error or how to approach fixing it, appreciate the help!</p>\n\n<pre><code>zipcode=input(\"What is your 5 digit zipcode?\")\ns=zipcode.split(\",\")\n\ndef correctiondigit(zipcode):     #LAST BLOCK OF 6 BLOCK BARCODE\n    zipcode.split()\n    total=int(zipcode[0])+int(zipcode[1])+int(zipcode[2])+int(zipcode[3])+int(zipcode[4])\n    if total % 10!=0:\n        total=total+(10-total%10)  \n\n\nprint(correctiondigit(zipcode))    #not working on this yet        \n\ndef barcode(a):                                                        \n    if a==0:\n        print(\"||:::\") \n    elif a==1:\n        print(\":::||\")\n    elif a==2:\n        print(\"::|:|\")\n    elif a==3:\n        print(\"::||:\")\n    elif a==4:\n        print(\":|::|\")\n    elif a==5:\n        print(\":|:|:\")\n    elif a==6:\n        print(\":||::\")\n    elif a==7:\n        print(\"|:::|\")\n    elif a==8:\n        print(\"|::|:\")\n    elif a==9:\n        print(\"|:|::\")\n\n\n\nfor the_zipcode in s:\n    print(barcode(the_zipcode))  \n</code></pre>\n",
                  "_deepnote_index_column": 987109
                },
                {
                  "Id_x": 40142985,
                  "OwnerUserId_x": 3659578,
                  "CreationDate_x": "2016-10-19T23:13:49Z",
                  "ParentId": 39954098,
                  "Score_x": 0,
                  "Body_x": "<p>I personally tried to do that and it didn't worth the trouble at all so I ended up installing it on Ubuntu 14.04.</p>\n\n<p>In case you have no other choice, try watching this <a href=\"https://www.youtube.com/watch?v=SckgZkBg-Oc\" rel=\"nofollow\">tutorial</a></p>\n",
                  "Id_y": 39954098,
                  "OwnerUserId_y": 6729024,
                  "CreationDate_y": "2016-10-10T08:23:52Z",
                  "Score_y": 0,
                  "Title": "install ns3.21 in ubuntu16.04 error",
                  "Body_y": "<ol>\n<li><p>When I try to \"sudo apt-get install gsl-bin libgsl0-dev libgsl0ldbl\" 16.04 cannot find the package libgsl0ldbl for the reason that libgsl0-dev is replaced by libgsl-dev and libgsl0ldbl is obslolete, now replaced by libgsl2. I don't know if it matters.</p></li>\n<li><p>When I run the command \"./build.py –enable-examples –enable-tests\".\nIt failed with the message :</p>\n\n<h1>Build NS-3</h1></li>\n</ol>\n\n<p>Entering directory <code>./ns-3.25'\nTraceback (most recent call last):\n</code>File \"./build.py\", line 171, in \n    sys.exit(main(sys.argv))\n  File \"./build.py\", line 162, in main\n    build_ns3(config, build_examples, build_tests, args, build_options)\n  File \"./build.py\", line 81, in build_ns3\n    run_command(cmd) # waf configure ...\n  File \"/home/limeng/ns3/ns-allinone-3.25/util.py\", line 20, in run_command\n    print(\" => \", ' '.join(argv))` \nUnicodeDecodeError: 'ascii' codec can't decode byte 0xe2 in position 0: ordinal not in range(128)</p>\n",
                  "_deepnote_index_column": 987110
                },
                {
                  "Id_x": 40143003,
                  "OwnerUserId_x": 7033655,
                  "CreationDate_x": "2016-10-19T23:15:34Z",
                  "ParentId": 40137243,
                  "Score_x": 0,
                  "Body_x": "<p>In <code>self.form = MyForm</code> you assign a class object to self.form.\nIn <code>self.form = MyForm(my_id=obj_id)</code> you instantiate an object of class MyForm and assign it to self.form. </p>\n\n<p>Django expect to find a class in <a href=\"https://docs.djangoproject.com/en/1.10/ref/contrib/admin/#django.contrib.admin.ModelAdmin.form\" rel=\"nofollow\">self.form</a>, not an instance.</p>\n",
                  "Id_y": 40137243,
                  "OwnerUserId_y": 5328669,
                  "CreationDate_y": "2016-10-19T16:47:39Z",
                  "Score_y": 0,
                  "Title": "Error when passing parameter to form",
                  "Body_y": "<p>I'm trying to pass a parameter to a form, in this case is an object_id.\nThe form gets used only on the <em>change_view</em>, this code works:</p>\n\n<p>My form:</p>\n\n<pre><code>class MyForm(forms.ModelForm):\n    def __init__(self, *args, **kwargs):\n        self.my_id = kwargs.pop('my_id', None)\n        super(MyForm, self).__init__(*args, **kwargs)\n\nclass Meta:\n    model = MyModel\n    fields = ('thing_to_show_a',)\n</code></pre>\n\n<p>My admin model: </p>\n\n<pre><code>class MyModelAdmin(admin.ModelAdmin):\n    def change_view(self, request, obj_id):\n        self.form = MyForm\n        return super(MyModelAdmin, self).change_view(request, obj_id)\n...\n</code></pre>\n\n<p>But if I try to pass the id as a parameter in the form:</p>\n\n<pre><code>class MyModelAdmin(admin.ModelAdmin):\n    def change_view(self, request, obj_id):\n        self.form = MyForm(my_id=obj_id)\n        return super(MyModelAdmin, self).change_view(request, obj_id)\n...\n</code></pre>\n\n<p>I get:</p>\n\n<pre><code>'MyForm' object has no attribute '__name__'\n</code></pre>\n",
                  "_deepnote_index_column": 987111
                },
                {
                  "Id_x": 40143037,
                  "OwnerUserId_x": 6043170,
                  "CreationDate_x": "2016-10-19T23:19:40Z",
                  "ParentId": 40142901,
                  "Score_x": 1,
                  "Body_x": "<p>To capture the return of the <code>modMode</code> function, <strong>just make sure you return something at the end</strong>:</p>\n\n<pre><code>score = 0;\nmodPassword = \"200605015\"\ndef modMode(score):\n   print(\"Entering Overide Mode\")\n   print(\"Opening Overide Console\")\n   cmd = input(\"Enter Command:  \")\n   if cmd == \"corr\":\n      print(\"Adding one point\")\n      score = score+1\n   elif cmd == \"manScoreChng\":\n      score = int(input(\"What do want the score to be?\"))\n   elif cmd == 'exit':\n      raise Exception('Bye!')\n   return int(score) # MAKE SURE YOU HAVE THIS LINE HERE\n</code></pre>\n\n<hr>\n\n<p>To call the <code>modScore</code> command over and over again, use a loop.</p>\n\n<pre><code>try:\n  while True:\n    score = modMode(score) # grab the returned value from modMode by using `=`\n    print(score)\nexcept Exception:\n  pass\n</code></pre>\n\n<p>This will run until the user types in exit.</p>\n",
                  "Id_y": 40142901,
                  "OwnerUserId_y": 7044936,
                  "CreationDate_y": "2016-10-19T23:05:07Z",
                  "Score_y": -2,
                  "Title": "Restarting a function in Python 3.4",
                  "Body_y": "<p>I need help for my python assignment. We have to make a quiz program and I am having trouble with restarting a function.</p>\n\n<p>I need something like continue, but instead runs the function again. Also, some tips on returning values from functions cant hurt! Thanks! ~Also, I just started using python 2 weeks ago, so this is pretty advanced to me. EDIT: Thanks to user: 2ps! :D</p>\n\n<pre><code>#Quiz YAY!\n#\n#Name Removed\n#\n#Version 1.0\n#\nscore = 0;\nmodPassword = \"200605015\"\ndef modMode(score):\n   print(\"Entering Overide Mode\");\n   print(\"Opening Overide Console\")\n   cmd = input(\"Enter Command call exit{} to exit:  \")\n   if cmd == \"corr\":\n      print(\"Adding one point\")\n      score=score+1\n      return(score);\n   elif cmd== \"manScoreChng\":\n      score=int(input(\"What do want the score to be?\"));\n   elif cmd == 'stop{}':\n      raise Exception('Quit by User')\n\nscore = modMode(score);\nprint(score);\n</code></pre>\n",
                  "_deepnote_index_column": 987112
                },
                {
                  "Id_x": 40143096,
                  "OwnerUserId_x": 6043170,
                  "CreationDate_x": "2016-10-19T23:26:15Z",
                  "ParentId": 40142948,
                  "Score_x": 0,
                  "Body_x": "<p>Here’s the quick and dirty way:</p>\n\n<pre><code>def formatted_tuple(x):\n    st = '%s' % (x,)\n    return st.replace('),', '),\\n')\n\n# now you can call formatted_tuple(hello)\n</code></pre>\n",
                  "Id_y": 40142948,
                  "OwnerUserId_y": 4307777,
                  "CreationDate_y": "2016-10-19T23:09:22Z",
                  "Score_y": -2,
                  "Title": "How do you make it so that a function returns a tuple divided in multiple lines?",
                  "Body_y": "<p>Basically I have a tuple which has 5 tuples in it. How do I make it so that my function returns that same tuple in multiple lines instead of one?</p>\n\n<p>Example:</p>\n\n<pre><code>&gt;&gt;&gt; hello = (('1','2'),('3','4'),('5','6'),('7','8'),('9','10'))\n&gt;&gt;&gt; function(hello)\n    (('1','2'),\n     ('3','4'),\n     ('5','6'),\n     ('7','8'),\n     ('9','10'))\n</code></pre>\n\n<p>Thank you</p>\n",
                  "_deepnote_index_column": 987113
                },
                {
                  "Id_x": 40143212,
                  "OwnerUserId_x": 1491895,
                  "CreationDate_x": "2016-10-19T23:38:17Z",
                  "ParentId": 40143190,
                  "Score_x": 5,
                  "Body_x": "<p>Use a here-doc:</p>\n\n<pre><code>result=$(python &lt;&lt;EOF\nimport stuff\nprint('all $code in one very long line')\nEOF\n)\n</code></pre>\n",
                  "Id_y": 40143190,
                  "OwnerUserId_y": 333403,
                  "CreationDate_y": "2016-10-19T23:36:01Z",
                  "Score_y": 1,
                  "Title": "How to execute multiline python code from a bash script?",
                  "Body_y": "<p>I need to extend a shell script (bash). As I am much more familiar with python I want to do this by writing some lines of python code which depends on variables from the shell script. Adding an extra python file is not an option.</p>\n\n<pre><code>result=`python -c \"import stuff; print('all $code in one very long line')\"` \n</code></pre>\n\n<p>is not very readable.</p>\n\n<p>I would prefer to specify my python code as a multiline string and then execute it.</p>\n",
                  "_deepnote_index_column": 987114
                },
                {
                  "Id_x": 40143247,
                  "OwnerUserId_x": 333403,
                  "CreationDate_x": "2016-10-19T23:42:35Z",
                  "ParentId": 40143190,
                  "Score_x": 0,
                  "Body_x": "<p>Tanks to <a href=\"http://stackoverflow.com/a/37222377/333403\">this SO answer</a> I found the answer myself:</p>\n\n<pre><code>#!/bin/bash\n\n# some bash code\nEND_VALUE=10\n\nPYTHON_CODE=$(cat &lt;&lt;END\n# python code starts here\nimport math\n\nfor i in range($END_VALUE):\n    print(i, math.sqrt(i))\n\n# python code ends here\nEND\n)\n\n# use the \nres=\"$(python3 -c \"$PYTHON_CODE\")\"\n\n# continue with bash code\necho \"$res\"\n</code></pre>\n",
                  "Id_y": 40143190,
                  "OwnerUserId_y": 333403,
                  "CreationDate_y": "2016-10-19T23:36:01Z",
                  "Score_y": 1,
                  "Title": "How to execute multiline python code from a bash script?",
                  "Body_y": "<p>I need to extend a shell script (bash). As I am much more familiar with python I want to do this by writing some lines of python code which depends on variables from the shell script. Adding an extra python file is not an option.</p>\n\n<pre><code>result=`python -c \"import stuff; print('all $code in one very long line')\"` \n</code></pre>\n\n<p>is not very readable.</p>\n\n<p>I would prefer to specify my python code as a multiline string and then execute it.</p>\n",
                  "_deepnote_index_column": 987115
                },
                {
                  "Id_x": 40143231,
                  "OwnerUserId_x": 771848,
                  "CreationDate_x": "2016-10-19T23:40:22Z",
                  "ParentId": 40143133,
                  "Score_x": 1,
                  "Body_x": "<p>You may check the value of <code>name_box</code> variable - it would be <code>None</code> if nothing found:</p>\n\n<pre><code>for row in urllist[4:8]:  \n    page = urllib2.urlopen(row)\n    soup = BeautifulSoup(page, 'html.parser')\n\n    name_box = soup.find(attrs={'class': 'nb-shares'})\n    if name_box is None:\n        continue\n\n    # ...\n</code></pre>\n",
                  "Id_y": 40143133,
                  "OwnerUserId_y": 6273496,
                  "CreationDate_y": "2016-10-19T23:29:37Z",
                  "Score_y": 1,
                  "Title": "error handling with BeautifulSoup when scraped url doesn't respond",
                  "Body_y": "<p>I'm totally noob to python so please forgive my mistake and lack of vocabulary. I'm trying to scrap some url with BeautifulSoup. My url are coming from a GA api call and some of them doesn't respond. </p>\n\n<p>How do I build my script so that BeautifulSoup ignore the url that doesn't return anything ? </p>\n\n<p>Here is my code :</p>\n\n<pre><code>  if results:\n    for row in results.get('rows'):\n      rawdata.append(row[0])\n  else:\n    print 'No results found'\n\n  urllist = [mystring + x for x in rawdata]\n\n  for row in urllist[4:8]:  \n\n    page = urllib2.urlopen(row)\n    soup = BeautifulSoup(page, 'html.parser')\n\n\n    name_box = soup.find(attrs={'class': 'nb-shares'})\n    share = name_box.text.strip() \n\n    # save the data in tuple\n    sharelist.append((row,share))\n\n  print(sharelist)\n</code></pre>\n\n<p>I tried to use this :</p>\n\n<pre><code>  except Exception: \n  pass\n</code></pre>\n\n<p>but I don't know where and got some syntax error. I've look at other questions, but cannot find any answers for me. </p>\n",
                  "_deepnote_index_column": 987116
                },
                {
                  "Id_x": 40143239,
                  "OwnerUserId_x": 6640099,
                  "CreationDate_x": "2016-10-19T23:41:38Z",
                  "ParentId": 40142731,
                  "Score_x": 2,
                  "Body_x": "<p>Well there are many different ways to detect collision, And it might be worth looking at libraries that would do so, but the simplest method by far is to use <code>pygame.sprite.spritecollide()</code>.</p>\n\n<p>But before I can show how to use the function, you need to know what a <code>pygame.sprite.Group()</code> is and what a sprite class is.</p>\n\n<p>Basicly, what a <code>pygame.sprite.Group()</code> is, is a way to keep track of and hold multiple sprites. In your case, it seems making a missile group for your missiles would be the best choice.</p>\n\n<p>So I would create a group to hold your missiles:\n<code>missiles_group = pygame.sprite.Group()</code>. You can add missiles to the group by saying <code>missiles_group.add(&lt;sprite instance name&gt;)</code>.</p>\n\n<p>As for the sprite class, please see this answer I gave to a question. To be terse, a Sprite class is a modular way to create a sprite. Instead of using just  a plain image, a sprite class would hold necessary methods and attributes of a sprite. I will be using a sprite class in my example below, so if more detail is needed, please read the answer I linked to above. </p>\n\n<hr>\n\n<p>With that out of the way, and without going into too much detail, here is how you fill in each function parameter to the above function.</p>\n\n<ul>\n<li><code>sprite</code>: This is the sprite that will be tested against a group of sprites</li>\n<li><code>group</code>: This is the group that will be used to test with the sprite.</li>\n<li><code>dokill</code>: This is a boolean value. If set to true, each time the <code>sprite</code> parameter collides with something in the <code>group</code> parameter, and object from the group parameter will be deleted. And visa versa if the <code>dokill</code> argument is set to false.\nThe is one more parameter that the function takes, but for what you're trying to do, it is not needed.</li>\n</ul>\n\n<p>Incorporating the above information, here is an example. The example creates a sprite and a list of sprites. Each time the sprite collides with a sprite from the group, <code>HIT</code> is printed to the screen:</p>\n\n<pre><code>import pygame #import the pygame module into the namespace &lt;module&gt;\n\nWIDTH = 640 # define a constant width for our window\nHEIGHT = 480 # define a constant height for our window\n\n#create a pygame window, and\n#initialize it with our WIDTH and HEIGHT constants\ndisplay = pygame.display.set_mode((WIDTH, HEIGHT))\nclock = pygame.time.Clock() # create a game clock\n\nclass Sprite(pygame.sprite.Sprite):\n    def __init__(self):\n        pygame.sprite.Sprite.__init__(self)\n        self.image = pygame.Surface((20, 20))\n        self.image.fill((255, 0, 0))\n        self.rect = self.image.get_rect()\n        self.rect.x = WIDTH / 2\n        self.rect.y = HEIGHT / 2\n        self.vx = 0\n        self.vy = 0\n\n    def update(self):\n        self.vx = 0\n        self.vy = 0\n        key = pygame.key.get_pressed()\n        if key[pygame.K_LEFT]:\n            self.vx = -1\n        elif key[pygame.K_RIGHT]:\n            self.vx = 1\n        if key[pygame.K_UP]:\n            self.vy = -1\n        elif key[pygame.K_DOWN]:\n            self.vy = 1\n        self.rect.x += self.vx\n        self.rect.y += self.vy\n\n# cretae a player sprite\nplayer = Sprite()\n\n# create a group to hold all of our sprites\nsprites = pygame.sprite.Group()\n\n# create a group to hold sprites we want to\n# test collions against. These sprites will\n# still be added to the sprites list\n# but we need a seperate group to test for\n# collisions against\ncollision_sprites = pygame.sprite.Group()\n\n# add a sprite to out collison sprite group\n# We also add the sprite to our sprites group\n# that holds all sprites\ntmp = Sprite()\ntmp.update = lambda: None\nsprites.add(tmp)\ncollision_sprites.add(tmp)\n\n# add a player sprites to the player group\nplayer.rect.x = 10\nsprites.add(player)\n\n\nrunning = True # our variable for controlling our game loop\nwhile running:\n    for e in pygame.event.get(): # iterate ofver all the events pygame is tracking\n        clock.tick(60) # make our clock keep pour game at 60 FPS\n        if e.type == pygame.QUIT: # is the user trying to close the window?\n            running = False # if so break the loop\n            pygame.quit() # quit the pygame module\n            quit() # quit is for IDLE friendliness\n\n    sprites.update()\n\n    # here is where we test for collision\n    if pygame.sprite.spritecollide(player, collision_sprites, False):\n        print(\"HIT!\")\n\n    display.fill((180, 180, 180)) # fill the pygame screen with white\n    sprites.draw(display)\n    pygame.display.flip() # update the screen\n</code></pre>\n\n<p>My example if fairly big, so take your time and step through it carefully. I tried to add as many good comments as I could. Good luck!</p>\n",
                  "Id_y": 40142731,
                  "OwnerUserId_y": 6875348,
                  "CreationDate_y": "2016-10-19T22:46:59Z",
                  "Score_y": 0,
                  "Title": "Collision Between two sprites - Python 3.5.2",
                  "Body_y": "<p>I have an image of a ufo and a missile. I'm trying to get it to where if the missile hits the ufo they both would explode and disappear and then a few moments later another ufo would respawn but the collision code isn't working. can someone explain to me how to make the code work?</p>\n\n<pre><code>pygame.display.init()\npygame.font.init()\nscreen = pygame.display.set_mode((800, 600))\nclock = pygame.time.Clock()\nufo = pygame.image.load(\"ufo.png\")\nrocket = pygame.image.load(\"rocket.png\")\ndone = False\ndebug = False\nfontObj = pygame.font.SysFont(\"Courier New\", 20)\n\n#Making my Empty Lists\nmissiles = [] #[x,y]\nufo_list = [] #[x,y,hspeed]\nparticle_list = []\n\n#UFO Respawn Info\nufoRespawn = True\nufoHits = 0\nufoSpawnTimer = 0.0\nufoSpeed = 500.0\n\n#MISSILE Info\nlaunchX = 400\nlaunchY = 550\nmissileSpeed = 100.0\nmissileDirection = 0\n\n#creating the Starfield\nmyStars = []            # An (initially) empty list\nfor i in range(1000):\n    x = random.randint(0, 800)\n    y = random.randint(0, 600)\n    newStar = [x, y]    # A 2-element list\n    myStars.append(newStar)\nstarSpeed = 100.0       # Rate of star movement (px / s)\nstarDirection = 0       # 0 = not moving, -1 = left, +1 = right\n\n#input\nwhile not done: \n    event = pygame.event.poll()\n    if event.type == pygame.QUIT:\n        done = True\n\n    keys = pygame.key.get_pressed()\n    if keys[pygame.K_ESCAPE]:\n        done = True\n\n    if event.type == pygame.KEYDOWN:\n        if event.key == pygame.K_d:\n            debug = not debug\n\n\n    dt = clock.tick() /1000.0\n\n#the missile range (making it disappear after it hits the top)\n    for missile in missiles:\n        missile[1] -= missileSpeed * dt \n        if missile[1] &lt; 0:    missiles.remove(missle)\n\n\n#triangle following mouse position\n    mx, my = pygame.mouse.get_pos()\n    if mx &gt; launchX:\n        launchX += .3\n    if mx &lt; launchX:\n        launchX -= .3\n\n\n#bullets firing when pressing with mouse\n    mbuttons = pygame.mouse.get_pressed()\n    if mbuttons [0]:\n        x = launchX\n        y = launchY\n        newMissiles = [x,y]\n        missiles.append(newMissiles)\n\n#Creating the UFOs\n    ufoSpawnTimer -= dt\n    if ufoSpawnTimer &lt;= 0:\n        if random.choice ((\"head\", \"tail\")) == \"head\":\n            x = 0\n            hspeed = random.randint (10,50)\n        else:\n            x = 800\n            hspeed = random.randint (-50, -10)\n        y = random.randint (0,300)\n        new_ufo = [x,y,hspeed]\n        ufo_list.append(new_ufo)\n        ufoSpawnTimer = 5.0\n\n\n#Moving the Starfield\n    for i in range(len(myStars)):\n        myStars[i][0] += starSpeed * dt * starDirection\n        if myStars[i][0] &lt; 0:       myStars[i][0] = 800\n        if myStars[i][0] &gt; 800:     myStars[i][0] = 0   \n\n\n\n    screen.fill ((0,0,0))\n#drawing the triangle  a.k.a missle launcher :D\n    pygame.draw.polygon(screen, (255,255,255), [[launchX, launchY], [launchX + 10, launchY + 10], \\\n                        [launchX - 10, launchY + 10]], 3)\n\n    for missile in missiles:\n        x = int(missile[0])\n        y = int(missile[1])\n        screen.blit(rocket, (x,y))\n\n\n    #drawing the ufo\n    for v in ufo_list:\n        v[0] += v[2] * dt\n        screen.blit(ufo,(v[0],v[1]))\n\n\n    #Missle distance from UFO  - NEED HELP ON THIS PORTION\n    #Hit Detection\n    missileDist = ((x - v[0]) ** 2 + (y - v[1]) ** 2) ** 0.5\n    if **????** :\n        ufoRespawn = True\n        ufoHits += 10\n\n    #drawing th starfield\n    for star in myStars:\n        x = int(star[0])\n        y = int(star[1])\n        pygame.draw.circle(screen, (255,255,255), (x,y), 2)\n\n\n\n    pygame.display.flip()\npygame.font.quit()\npygame.display.quit()\n</code></pre>\n",
                  "_deepnote_index_column": 987117
                },
                {
                  "Id_x": 40143315,
                  "OwnerUserId_x": 3125566,
                  "CreationDate_x": "2016-10-19T23:49:43Z",
                  "ParentId": 40143166,
                  "Score_x": 2,
                  "Body_x": "<p>First thing, you should use <code>if/elif</code> instead of separate <code>if</code> blocks. </p>\n\n<p>Consider the following:\nwhen <code>guess**3 &gt; num</code> is <code>True</code>, you update <code>guess</code> by reducing its value so that <code>guess**3 &lt; num</code> (the next if condition) becomes <code>True</code> again, which reverses the initial update. In summary, the value of <code>guess</code> is never changed in that loop, and the loop whirls to infinity.</p>\n\n<p>Secondly you want to regularize the <code>delta</code> value (penalize it) as it can be come alarming large as the value of <code>num</code> increases.</p>\n\n<pre><code>num = 100\n\nepsilon = 0.01\nguess = num/3.0\n\nwhile abs(guess**3 - num) &gt;= epsilon:\n    delta = abs(guess**3 - num)/num\n    if guess**3 &gt; num:\n        guess = (guess - delta*epsilon**0.5)\n    elif guess**3 &lt; num:\n        guess = (guess + delta*epsilon**0.5)\nprint(\"Guess:\", guess)\n</code></pre>\n",
                  "Id_y": 40143166,
                  "OwnerUserId_y": 7044992,
                  "CreationDate_y": "2016-10-19T23:33:31Z",
                  "Score_y": 1,
                  "Title": "finding cubed root using delta and epsilon in Python",
                  "Body_y": "<p>I am trying to write a program that finds cubed root using delta and epsilon but i'm stuck because i cant figure out why my program runs in an infinite loop</p>\n\n<pre><code>    num = 100\n\n    epsilon = 0.01\n    guess = num/3.0\n\n\n    while abs(guess**3 - num) &gt;= epsilon:\n        delta = abs(guess**3 - num)/100\n        if guess**3 &gt; num:\n            guess = (guess - delta)\n        if guess**3 &lt; num:\n            guess = (guess + delta)\n    print(\"Guess:\", guess)\n</code></pre>\n",
                  "_deepnote_index_column": 987118
                },
                {
                  "Id_x": 40143317,
                  "OwnerUserId_x": 2350575,
                  "CreationDate_x": "2016-10-19T23:50:04Z",
                  "ParentId": 40142194,
                  "Score_x": 0,
                  "Body_x": "<p>If you are using firefox ver >47.0.1 you need to have the <code>[geckodriver][1]</code> executable in your system path. For earlier versions you want to turn marionette off. You can to so like this:</p>\n\n<pre><code>from selenium import webdriver\nfrom selenium.webdriver.common.keys import Keys\nfrom selenium.webdriver.common.desired_capabilities import DesiredCapabilities\ncapabilities = DesiredCapabilities.FIREFOX.copy()\ncapabilities['marionette'] = False\ndriver = webdriver.Firefox(capabilities=capabilities)\n</code></pre>\n",
                  "Id_y": 40142194,
                  "OwnerUserId_y": 7044759,
                  "CreationDate_y": "2016-10-19T21:58:32Z",
                  "Score_y": 1,
                  "Title": "errors with webdriver.Firefox() with selenium",
                  "Body_y": "<p>I am using python 3.5, firefox 45 (also tried 49) and selenium 3.0.1</p>\n\n<p>I tried:</p>\n\n<pre><code>from selenium import webdriver\nfrom selenium.webdriver.common.keys import Keys\ndriver = webdriver.Firefox()\n</code></pre>\n\n<p>Then I got the error message:</p>\n\n<pre><code>C:\\Users\\A\\AppData\\Local\\Programs\\Python\\Python35\\python.exe\nC:/Users/A/Desktop/car/test.py\nTraceback (most recent call last):\nFile \"C:\\Users\\A\\AppData\\Local\\Programs\\Python\\Python35\\lib\\site-packages\\selenium\\webdriver\\common\\service.py\", line 64, in start\nstdout=self.log_file, stderr=self.log_file)\nFile \"C:\\Users\\A\\AppData\\Local\\Programs\\Python\\Python35\\lib\\subprocess.py\", line 950, in __init__\nrestore_signals, start_new_session)\nFile \"C:\\Users\\A\\AppData\\Local\\Programs\\Python\\Python35\\lib\\subprocess.py\", line 1220, in _execute_child\nstartupinfo)\nFileNotFoundError: [WinError 2] The system cannot find the file specified\nDuring handling of the above exception, another exception occurred:\nTraceback (most recent call last):\nFile \"C:/Users/A/Desktop/car/test.py\", line 4, in &lt;module&gt;\ndriver = webdriver.Firefox()\nFile \"C:\\Users\\A\\AppData\\Local\\Programs\\Python\\Python35\\lib\\site-packages\\selenium\\webdriver\\firefox\\webdriver.py\", line 135, in __init__\nself.service.start()\nFile \"C:\\Users\\A\\AppData\\Local\\Programs\\Python\\Python35\\lib\\site-packages\\selenium\\webdriver\\common\\service.py\", line 71, in start\nos.path.basename(self.path), self.start_error_message)\nselenium.common.exceptions.WebDriverException: Message: 'geckodriver' executable needs to be in PATH. \nException ignored in: &lt;bound method Service.__del__ of &lt;selenium.webdriver.firefox.service.Service object at 0x0000000000EB8278&gt;&gt;\nTraceback (most recent call last):\nFile \"C:\\Users\\A\\AppData\\Local\\Programs\\Python\\Python35\\lib\\site-packages\\selenium\\webdriver\\common\\service.py\", line 163, in __del__\nself.stop()\nFile \"C:\\Users\\A\\AppData\\Local\\Programs\\Python\\Python35\\lib\\site-packages\\selenium\\webdriver\\common\\service.py\", line 135, in stop\nif self.process is None:\nAttributeError: 'Service' object has no attribute 'process'\n</code></pre>\n\n<p>What can I do? Any help is much appreciated!</p>\n",
                  "_deepnote_index_column": 987119
                },
                {
                  "Id_x": 40143349,
                  "OwnerUserId_x": 6934347,
                  "CreationDate_x": "2016-10-19T23:54:02Z",
                  "ParentId": 40077010,
                  "Score_x": 0,
                  "Body_x": "<p>I solved my own problem defining the following function. I adjusted the code provided in tf.image.central_crop(image, central_fraction).\nThe function RandomCrop will crop an image taking a central_fraction drawn from a uniform distribution. You can just specify the min and max fraction you want. \nYou can replace random_uniform distribution to a different one obviously.</p>\n\n<pre><code>def RandomCrop(image,fMin, fMax):\n  from tensorflow.python.ops import math_ops\n  from tensorflow.python.ops import array_ops\n  from tensorflow.python.framework import ops\n  image = ops.convert_to_tensor(image, name='image')\n\n  if fMin &lt;= 0.0 or fMin &gt; 1.0:\n    raise ValueError('fMin must be within (0, 1]')\n  if fMax &lt;= 0.0 or fMax &gt; 1.0:\n    raise ValueError('fMin must be within (0, 1]')\n\n  img_shape = array_ops.shape(image)\n  depth = image.get_shape()[2]\n  my_frac2 = tf.random_uniform([1], minval=fMin, maxval=fMax, dtype=tf.float32, seed=42, name=\"uniform_dist\") \n  fraction_offset = tf.cast(math_ops.div(1.0 , math_ops.div(math_ops.sub(1.0,my_frac2[0]), 2.0)),tf.int32)\n  bbox_h_start = math_ops.div(img_shape[0], fraction_offset)\n  bbox_w_start = math_ops.div(img_shape[1], fraction_offset)\n  bbox_h_size = img_shape[0] - bbox_h_start * 2\n  bbox_w_size = img_shape[1] - bbox_w_start * 2\n\n  bbox_begin = array_ops.pack([bbox_h_start, bbox_w_start, 0])\n  bbox_size = array_ops.pack([bbox_h_size, bbox_w_size, -1])\n  image = array_ops.slice(image, bbox_begin, bbox_size)\n\n  # The first two dimensions are dynamic and unknown.\n  image.set_shape([None, None, depth])\n  return(image)\n</code></pre>\n",
                  "Id_y": 40077010,
                  "OwnerUserId_y": 6934347,
                  "CreationDate_y": "2016-10-17T00:33:51Z",
                  "Score_y": 2,
                  "Title": "Can't pass random variable to tf.image.central_crop() in Tensorflow",
                  "Body_y": "<p>In Tensorflow I am training from a set of PNG files and I wish to apply data augmentation. I have successfully used <code>tf.image.random_flip_left_right()</code></p>\n\n<p>But I get an error when I try to use <code>tf.image.central_crop()</code>.\nbasically I would like the central_fraction to be drawn from a uniform distribution (0.8,1.0].</p>\n\n<p>Here is my code. Where did I go wrong? Should <code>frac</code> be a <code>tf.random_uniform()</code>?</p>\n\n<pre><code>filename_queue = tf.train.string_input_producer( tf.train.match_filenames_once(\"./images/*.png\"))\nimage_reader = tf.WholeFileReader() # Read an entire image file \n_, image_file = image_reader.read(filename_queue)\nimage = tf.image.decode_png(image_file, channels=3, dtype=tf.uint8, name=\"PNGDecompressor\")\nimage.set_shape([800,400,3])\n\nfrac = random.uniform(0.8,1.0)\nimage = tf.image.central_crop(image, central_fraction = frac) # THIS FAILS\n# image = tf.image.central_crop(image, central_fraction = 0.8) # THIS WORKS \n\nimage = tf.image.resize_images(image, [256, 128])\nimage.set_shape([256,128,3])\nimage = tf.cast(image, tf.float32) * (1. / 255) - 0.5 # Convert from [0, 255] -&gt; [-0.5, 0.5] floats.\nimage = tf.image.per_image_whitening(image)\nimage = tf.image.random_flip_left_right(image, seed=42)\n# Start a new session to show example output.\nwith tf.Session() as sess:\n    tf.initialize_all_variables().run()\n    coord = tf.train.Coordinator()\n    threads = tf.train.start_queue_runners(coord=coord)\n    t_image= sess.run([image])\n    [...]\n    coord.request_stop()\n    coord.join(threads)\n</code></pre>\n\n<p>Fails with error:</p>\n\n<pre><code>TypeError: Fetch argument 0.9832154064713503 has invalid type &lt;class 'float'&gt;, must be a string or Tensor. (Can not convert a float into a Tensor or Operation.)\n</code></pre>\n",
                  "_deepnote_index_column": 987120
                },
                {
                  "Id_x": 40143370,
                  "OwnerUserId_x": 6502500,
                  "CreationDate_x": "2016-10-19T23:56:31Z",
                  "ParentId": 40142538,
                  "Score_x": 0,
                  "Body_x": "<p>I can't seem to reproduce your error but upon copying your code, I got a key error which pertains to your yield statement. See the code below:</p>\n\n<pre><code>import scrapy\nimport json\n\n\nclass SpidyQuotesSpider(scrapy.Spider):\n    name = \"hotelspider\"\n    allowed_domains = [\"tr.hotels.com\"]\n    start_urls = (\n        'https://tr.hotels.com/search/listings.json?destination-id=1648683&amp;q-check-out=2016-10-22&amp;q-destination=Didim,+T%C3%BCrkiye&amp;q-room-0-adults=2&amp;pg=2&amp;q-rooms=1&amp;start-index=7&amp;q-check-in=2016-10-21&amp;resolved-location=CITY:1648683:UNKNOWN:UNKNOWN&amp;q-room-0-children=0&amp;pn=1',\n    )\n\n    def parse(self, response):\n        myresponse = json.loads(response.body)\n        data = myresponse.get('data')\n        body = data.get('body')\n        searchresults = body.get('searchResults')\n\n        for item in searchresults.get('results', []):\n            yield {\n                'text': item['altText']\n            }\n</code></pre>\n\n<p>Make sure you are indenting using the same amount of spaces or just use TAB. Though the indentation shown in your code seems fine. Try pasting mine and see what comes up.</p>\n",
                  "Id_y": 40142538,
                  "OwnerUserId_y": 5992039,
                  "CreationDate_y": "2016-10-19T22:28:03Z",
                  "Score_y": 0,
                  "Title": "Scrapy spider for JSON response is giving me error",
                  "Body_y": "<pre><code>import json\nimport scrapy\n\nclass SpidyQuotesSpider(scrapy.Spider):\n\n    name = 'hotelspider'\n    start_urls = [\n     'https://tr.hotels.com/search/listings.json?destination-id=1648683&amp;q-check-out=2016-10-22&amp;q-destination=Didim,+T%C3%BCrkiye&amp;q-room-0-adults=2&amp;pg=2&amp;q-rooms=1&amp;start-index=7&amp;q-check-in=2016-10-21&amp;resolved-location=CITY:1648683:UNKNOWN:UNKNOWN&amp;q-room-0-children=0&amp;pn=1'\n               ]\n\n\n    def parse(self, response):\n        myresponse = json.loads(response.body)\n        data = myresponse.get('data')\n        body = data.get('body')\n        searchresults = body.get('searchResults')\n\n         for item in searchresults.get('results', []):\n            yield {\n                'text': item[0]['altText']\n            }\n</code></pre>\n\n<p><a href=\"https://i.stack.imgur.com/QzKuk.png\" rel=\"nofollow\">this is the screenshot of the error</a></p>\n\n<p>I always get error when I run this script. Can anybody help me where I am doing wrong ? </p>\n",
                  "_deepnote_index_column": 987121
                }
              ]
            },
            "text/plain": "            Id_x  OwnerUserId_x        CreationDate_x  ParentId  Score_x  \\\n0            497           50.0  2008-08-02T16:56:53Z       469        4   \n1            518          153.0  2008-08-02T17:42:28Z       469        2   \n2           3040          457.0  2008-08-06T03:01:23Z       469       12   \n3         195170          745.0  2008-10-12T07:02:40Z       469        1   \n4            536          161.0  2008-08-02T18:49:07Z       502        9   \n...          ...            ...                   ...       ...      ...   \n987117  40143239      6640099.0  2016-10-19T23:41:38Z  40142731        2   \n987118  40143315      3125566.0  2016-10-19T23:49:43Z  40143166        2   \n987119  40143317      2350575.0  2016-10-19T23:50:04Z  40142194        0   \n987120  40143349      6934347.0  2016-10-19T23:54:02Z  40077010        0   \n987121  40143370      6502500.0  2016-10-19T23:56:31Z  40142538        0   \n\n                                                   Body_x      Id_y  \\\n0       <p>open up a terminal (Applications-&gt;Utilit...       469   \n1       <p>I haven't been able to find anything that d...       469   \n2       <p>Unfortunately the only API that isn't depre...       469   \n3       <p>There must be a method in Cocoa to get a li...       469   \n4       <p>You can use ImageMagick's convert utility f...       502   \n...                                                   ...       ...   \n987117  <p>Well there are many different ways to detec...  40142731   \n987118  <p>First thing, you should use <code>if/elif</...  40143166   \n987119  <p>If you are using firefox ver >47.0.1 you ne...  40142194   \n987120  <p>I solved my own problem defining the follow...  40077010   \n987121  <p>I can't seem to reproduce your error but up...  40142538   \n\n        OwnerUserId_y        CreationDate_y  Score_y  \\\n0               147.0  2008-08-02T15:11:16Z       21   \n1               147.0  2008-08-02T15:11:16Z       21   \n2               147.0  2008-08-02T15:11:16Z       21   \n3               147.0  2008-08-02T15:11:16Z       21   \n4               147.0  2008-08-02T17:01:58Z       27   \n...               ...                   ...      ...   \n987117      6875348.0  2016-10-19T22:46:59Z        0   \n987118      7044992.0  2016-10-19T23:33:31Z        1   \n987119      7044759.0  2016-10-19T21:58:32Z        1   \n987120      6934347.0  2016-10-17T00:33:51Z        2   \n987121      5992039.0  2016-10-19T22:28:03Z        0   \n\n                                                    Title  \\\n0       How can I find the full path to a font from it...   \n1       How can I find the full path to a font from it...   \n2       How can I find the full path to a font from it...   \n3       How can I find the full path to a font from it...   \n4                 Get a preview JPEG of a PDF on Windows?   \n...                                                   ...   \n987117       Collision Between two sprites - Python 3.5.2   \n987118  finding cubed root using delta and epsilon in ...   \n987119      errors with webdriver.Firefox() with selenium   \n987120  Can't pass random variable to tf.image.central...   \n987121  Scrapy spider for JSON response is giving me e...   \n\n                                                   Body_y  \n0       <p>I am using the Photoshop's javascript API t...  \n1       <p>I am using the Photoshop's javascript API t...  \n2       <p>I am using the Photoshop's javascript API t...  \n3       <p>I am using the Photoshop's javascript API t...  \n4       <p>I have a cross-platform (Python) applicatio...  \n...                                                   ...  \n987117  <p>I have an image of a ufo and a missile. I'm...  \n987118  <p>I am trying to write a program that finds c...  \n987119  <p>I am using python 3.5, firefox 45 (also tri...  \n987120  <p>In Tensorflow I am training from a set of P...  \n987121  <pre><code>import json\\nimport scrapy\\n\\nclass...  \n\n[987122 rows x 12 columns]",
            "text/html": "<div>\n<style scoped>\n    .dataframe tbody tr th:only-of-type {\n        vertical-align: middle;\n    }\n\n    .dataframe tbody tr th {\n        vertical-align: top;\n    }\n\n    .dataframe thead th {\n        text-align: right;\n    }\n</style>\n<table border=\"1\" class=\"dataframe\">\n  <thead>\n    <tr style=\"text-align: right;\">\n      <th></th>\n      <th>Id_x</th>\n      <th>OwnerUserId_x</th>\n      <th>CreationDate_x</th>\n      <th>ParentId</th>\n      <th>Score_x</th>\n      <th>Body_x</th>\n      <th>Id_y</th>\n      <th>OwnerUserId_y</th>\n      <th>CreationDate_y</th>\n      <th>Score_y</th>\n      <th>Title</th>\n      <th>Body_y</th>\n    </tr>\n  </thead>\n  <tbody>\n    <tr>\n      <th>0</th>\n      <td>497</td>\n      <td>50.0</td>\n      <td>2008-08-02T16:56:53Z</td>\n      <td>469</td>\n      <td>4</td>\n      <td>&lt;p&gt;open up a terminal (Applications-&amp;gt;Utilit...</td>\n      <td>469</td>\n      <td>147.0</td>\n      <td>2008-08-02T15:11:16Z</td>\n      <td>21</td>\n      <td>How can I find the full path to a font from it...</td>\n      <td>&lt;p&gt;I am using the Photoshop's javascript API t...</td>\n    </tr>\n    <tr>\n      <th>1</th>\n      <td>518</td>\n      <td>153.0</td>\n      <td>2008-08-02T17:42:28Z</td>\n      <td>469</td>\n      <td>2</td>\n      <td>&lt;p&gt;I haven't been able to find anything that d...</td>\n      <td>469</td>\n      <td>147.0</td>\n      <td>2008-08-02T15:11:16Z</td>\n      <td>21</td>\n      <td>How can I find the full path to a font from it...</td>\n      <td>&lt;p&gt;I am using the Photoshop's javascript API t...</td>\n    </tr>\n    <tr>\n      <th>2</th>\n      <td>3040</td>\n      <td>457.0</td>\n      <td>2008-08-06T03:01:23Z</td>\n      <td>469</td>\n      <td>12</td>\n      <td>&lt;p&gt;Unfortunately the only API that isn't depre...</td>\n      <td>469</td>\n      <td>147.0</td>\n      <td>2008-08-02T15:11:16Z</td>\n      <td>21</td>\n      <td>How can I find the full path to a font from it...</td>\n      <td>&lt;p&gt;I am using the Photoshop's javascript API t...</td>\n    </tr>\n    <tr>\n      <th>3</th>\n      <td>195170</td>\n      <td>745.0</td>\n      <td>2008-10-12T07:02:40Z</td>\n      <td>469</td>\n      <td>1</td>\n      <td>&lt;p&gt;There must be a method in Cocoa to get a li...</td>\n      <td>469</td>\n      <td>147.0</td>\n      <td>2008-08-02T15:11:16Z</td>\n      <td>21</td>\n      <td>How can I find the full path to a font from it...</td>\n      <td>&lt;p&gt;I am using the Photoshop's javascript API t...</td>\n    </tr>\n    <tr>\n      <th>4</th>\n      <td>536</td>\n      <td>161.0</td>\n      <td>2008-08-02T18:49:07Z</td>\n      <td>502</td>\n      <td>9</td>\n      <td>&lt;p&gt;You can use ImageMagick's convert utility f...</td>\n      <td>502</td>\n      <td>147.0</td>\n      <td>2008-08-02T17:01:58Z</td>\n      <td>27</td>\n      <td>Get a preview JPEG of a PDF on Windows?</td>\n      <td>&lt;p&gt;I have a cross-platform (Python) applicatio...</td>\n    </tr>\n    <tr>\n      <th>...</th>\n      <td>...</td>\n      <td>...</td>\n      <td>...</td>\n      <td>...</td>\n      <td>...</td>\n      <td>...</td>\n      <td>...</td>\n      <td>...</td>\n      <td>...</td>\n      <td>...</td>\n      <td>...</td>\n      <td>...</td>\n    </tr>\n    <tr>\n      <th>987117</th>\n      <td>40143239</td>\n      <td>6640099.0</td>\n      <td>2016-10-19T23:41:38Z</td>\n      <td>40142731</td>\n      <td>2</td>\n      <td>&lt;p&gt;Well there are many different ways to detec...</td>\n      <td>40142731</td>\n      <td>6875348.0</td>\n      <td>2016-10-19T22:46:59Z</td>\n      <td>0</td>\n      <td>Collision Between two sprites - Python 3.5.2</td>\n      <td>&lt;p&gt;I have an image of a ufo and a missile. I'm...</td>\n    </tr>\n    <tr>\n      <th>987118</th>\n      <td>40143315</td>\n      <td>3125566.0</td>\n      <td>2016-10-19T23:49:43Z</td>\n      <td>40143166</td>\n      <td>2</td>\n      <td>&lt;p&gt;First thing, you should use &lt;code&gt;if/elif&lt;/...</td>\n      <td>40143166</td>\n      <td>7044992.0</td>\n      <td>2016-10-19T23:33:31Z</td>\n      <td>1</td>\n      <td>finding cubed root using delta and epsilon in ...</td>\n      <td>&lt;p&gt;I am trying to write a program that finds c...</td>\n    </tr>\n    <tr>\n      <th>987119</th>\n      <td>40143317</td>\n      <td>2350575.0</td>\n      <td>2016-10-19T23:50:04Z</td>\n      <td>40142194</td>\n      <td>0</td>\n      <td>&lt;p&gt;If you are using firefox ver &gt;47.0.1 you ne...</td>\n      <td>40142194</td>\n      <td>7044759.0</td>\n      <td>2016-10-19T21:58:32Z</td>\n      <td>1</td>\n      <td>errors with webdriver.Firefox() with selenium</td>\n      <td>&lt;p&gt;I am using python 3.5, firefox 45 (also tri...</td>\n    </tr>\n    <tr>\n      <th>987120</th>\n      <td>40143349</td>\n      <td>6934347.0</td>\n      <td>2016-10-19T23:54:02Z</td>\n      <td>40077010</td>\n      <td>0</td>\n      <td>&lt;p&gt;I solved my own problem defining the follow...</td>\n      <td>40077010</td>\n      <td>6934347.0</td>\n      <td>2016-10-17T00:33:51Z</td>\n      <td>2</td>\n      <td>Can't pass random variable to tf.image.central...</td>\n      <td>&lt;p&gt;In Tensorflow I am training from a set of P...</td>\n    </tr>\n    <tr>\n      <th>987121</th>\n      <td>40143370</td>\n      <td>6502500.0</td>\n      <td>2016-10-19T23:56:31Z</td>\n      <td>40142538</td>\n      <td>0</td>\n      <td>&lt;p&gt;I can't seem to reproduce your error but up...</td>\n      <td>40142538</td>\n      <td>5992039.0</td>\n      <td>2016-10-19T22:28:03Z</td>\n      <td>0</td>\n      <td>Scrapy spider for JSON response is giving me e...</td>\n      <td>&lt;pre&gt;&lt;code&gt;import json\\nimport scrapy\\n\\nclass...</td>\n    </tr>\n  </tbody>\n</table>\n<p>987122 rows × 12 columns</p>\n</div>"
          },
          "metadata": {}
        }
      ],
      "execution_count": null
    },
    {
      "cell_type": "code",
      "metadata": {
        "tags": [],
        "cell_id": "00008-e8ede64e-fe94-44db-bc8b-d333a073060d",
        "deepnote_to_be_reexecuted": false,
        "source_hash": "e81c6591",
        "execution_millis": 461,
        "execution_start": 1614953915151,
        "deepnote_cell_type": "code"
      },
      "source": "new_data = new_data.drop(['ParentId'], axis=1)",
      "outputs": [],
      "execution_count": null
    },
    {
      "cell_type": "code",
      "metadata": {
        "tags": [],
        "cell_id": "00009-c47de4c5-447f-4d45-97d5-8104727da009",
        "deepnote_to_be_reexecuted": false,
        "source_hash": "420b4198",
        "execution_millis": 24,
        "execution_start": 1614953917621,
        "deepnote_cell_type": "code"
      },
      "source": "new_data['Body_x'][0]",
      "outputs": [
        {
          "output_type": "execute_result",
          "execution_count": 14,
          "data": {
            "text/plain": "'<p>open up a terminal (Applications-&gt;Utilities-&gt;Terminal) and type this in:</p>\\r\\n\\r\\n<pre><code>locate InsertFontHere<br></code></pre>\\r\\n\\r\\n<p>This will spit out every file that has the name you want.</p>\\r\\n\\r\\n<p>Warning: there may be alot to wade through.</p>'"
          },
          "metadata": {}
        }
      ],
      "execution_count": null
    },
    {
      "cell_type": "code",
      "metadata": {
        "tags": [],
        "cell_id": "00010-32743bd2-ca2a-467e-aca3-8ae5c89ba576",
        "deepnote_to_be_reexecuted": false,
        "source_hash": "853c1e40",
        "execution_millis": 9,
        "execution_start": 1614953919327,
        "deepnote_cell_type": "code"
      },
      "source": "df_tags.columns",
      "outputs": [
        {
          "output_type": "execute_result",
          "execution_count": 15,
          "data": {
            "text/plain": "Index(['Id', 'Tag'], dtype='object')"
          },
          "metadata": {}
        }
      ],
      "execution_count": null
    },
    {
      "cell_type": "code",
      "metadata": {
        "tags": [],
        "cell_id": "00011-7ad5ae7f-ae23-47ae-8988-7df44abce910",
        "deepnote_to_be_reexecuted": false,
        "source_hash": "1f42633c",
        "execution_millis": 1021,
        "execution_start": 1614953920722,
        "deepnote_cell_type": "code"
      },
      "source": "for col_name in df_questions.columns:\n    print(df_questions.isna()[col_name].value_counts())\n    print ('--- --- --- ')",
      "outputs": [
        {
          "name": "stdout",
          "text": "False    607282\nName: Id, dtype: int64\n--- --- --- \nFalse    601070\nTrue       6212\nName: OwnerUserId, dtype: int64\n--- --- --- \nFalse    607282\nName: CreationDate, dtype: int64\n--- --- --- \nFalse    607282\nName: Score, dtype: int64\n--- --- --- \nFalse    607282\nName: Title, dtype: int64\n--- --- --- \nFalse    607282\nName: Body, dtype: int64\n--- --- --- \n",
          "output_type": "stream"
        }
      ],
      "execution_count": null
    },
    {
      "cell_type": "code",
      "metadata": {
        "tags": [],
        "cell_id": "00012-85979547-48ae-473f-a9cd-b7c7a829048e",
        "deepnote_to_be_reexecuted": false,
        "source_hash": "feb6a5cb",
        "execution_millis": 1263,
        "execution_start": 1614953921749,
        "deepnote_cell_type": "code"
      },
      "source": "for col_name in df_answers.columns:\n    print(df_answers.isna()[col_name].value_counts())\n    print ('--- --- --- ')",
      "outputs": [
        {
          "name": "stdout",
          "text": "False    987122\nName: Id, dtype: int64\n--- --- --- \nFalse    981755\nTrue       5367\nName: OwnerUserId, dtype: int64\n--- --- --- \nFalse    987122\nName: CreationDate, dtype: int64\n--- --- --- \nFalse    987122\nName: ParentId, dtype: int64\n--- --- --- \nFalse    987122\nName: Score, dtype: int64\n--- --- --- \nFalse    987122\nName: Body, dtype: int64\n--- --- --- \n",
          "output_type": "stream"
        }
      ],
      "execution_count": null
    },
    {
      "cell_type": "code",
      "metadata": {
        "tags": [],
        "cell_id": "00012-fe6e2cff-1e95-4e0c-a497-bc60bdac4621",
        "deepnote_to_be_reexecuted": false,
        "source_hash": "4d6aacb8",
        "execution_millis": 103,
        "execution_start": 1614953923753,
        "deepnote_cell_type": "code"
      },
      "source": "for col_name in df_tags.columns:\n    print(df_tags.isna()[col_name].value_counts())\n    print ('--- --- --- ')",
      "outputs": [
        {
          "name": "stdout",
          "text": "False    1885078\nName: Id, dtype: int64\n--- --- --- \nFalse    1884635\nTrue         443\nName: Tag, dtype: int64\n--- --- --- \n",
          "output_type": "stream"
        }
      ],
      "execution_count": null
    },
    {
      "cell_type": "markdown",
      "source": "# EXPLORATION ",
      "metadata": {
        "tags": [],
        "cell_id": "00013-78449ef3-a069-4a1b-9089-358b77b19dff",
        "deepnote_cell_type": "markdown"
      }
    },
    {
      "cell_type": "code",
      "source": "sns.swarmplot(x=new_data['Score_x'], y=new_data['Score_y'])",
      "metadata": {
        "tags": [],
        "cell_id": "00013-a557f663-419c-438c-b1ba-a1cfc3bab382",
        "deepnote_to_be_reexecuted": false,
        "source_hash": "35821582",
        "execution_millis": 120,
        "execution_start": 1614954379265,
        "deepnote_cell_type": "code"
      },
      "outputs": [
        {
          "output_type": "error",
          "ename": "NameError",
          "evalue": "name 'sns' is not defined",
          "traceback": [
            "\u001b[0;31m---------------------------------------------------------------------------\u001b[0m",
            "\u001b[0;31mNameError\u001b[0m                                 Traceback (most recent call last)",
            "\u001b[0;32m<ipython-input-1-27037cc73916>\u001b[0m in \u001b[0;36m<module>\u001b[0;34m\u001b[0m\n\u001b[0;32m----> 1\u001b[0;31m \u001b[0msns\u001b[0m\u001b[0;34m.\u001b[0m\u001b[0mswarmplot\u001b[0m\u001b[0;34m(\u001b[0m\u001b[0mx\u001b[0m\u001b[0;34m=\u001b[0m\u001b[0mnew_data\u001b[0m\u001b[0;34m[\u001b[0m\u001b[0;34m'Score_x'\u001b[0m\u001b[0;34m]\u001b[0m\u001b[0;34m,\u001b[0m \u001b[0my\u001b[0m\u001b[0;34m=\u001b[0m\u001b[0mnew_data\u001b[0m\u001b[0;34m[\u001b[0m\u001b[0;34m'Score_y'\u001b[0m\u001b[0;34m]\u001b[0m\u001b[0;34m)\u001b[0m\u001b[0;34m\u001b[0m\u001b[0;34m\u001b[0m\u001b[0m\n\u001b[0m",
            "\u001b[0;31mNameError\u001b[0m: name 'sns' is not defined"
          ]
        },
        {
          "output_type": "error",
          "ename": "KernelInterrupted",
          "evalue": "Execution interrupted by the Jupyter kernel.",
          "traceback": [
            "\u001b[0;31m---------------------------------------------------------------------------\u001b[0m",
            "\u001b[0;31mKernelInterrupted\u001b[0m: Execution interrupted by the Jupyter kernel."
          ]
        }
      ],
      "execution_count": null
    },
    {
      "cell_type": "markdown",
      "source": "## Save Data",
      "metadata": {
        "tags": [],
        "cell_id": "00015-335c558c-9bc6-47dc-a883-ae786d88985e",
        "deepnote_cell_type": "markdown"
      }
    },
    {
      "cell_type": "code",
      "source": "df_train = df_answers.merge(df_questions, how='inner', left_on='ParentId', right_on='Id')\ndf_train = df_train.drop(['ParentId'], axis=1)",
      "metadata": {
        "tags": [],
        "cell_id": "00016-b0c6e2da-e48e-4241-b4ae-fc4a6bbd9275",
        "deepnote_to_be_reexecuted": false,
        "source_hash": "915ba2a7",
        "execution_start": 1614952577861,
        "execution_millis": 1564,
        "deepnote_cell_type": "code"
      },
      "outputs": [],
      "execution_count": null
    },
    {
      "cell_type": "code",
      "source": "with open('../data/train_data.pickle', 'wb') as handle:\n    pickle.dump(df_train, handle, protocol=pickle.HIGHEST_PROTOCOL)",
      "metadata": {
        "tags": [],
        "cell_id": "00016-a496ec6e-3616-4f11-b231-e6f2a892c880",
        "deepnote_to_be_reexecuted": false,
        "source_hash": "181c56ca",
        "execution_start": 1614952581325,
        "execution_millis": 14197,
        "deepnote_cell_type": "code"
      },
      "outputs": [],
      "execution_count": null
    },
    {
      "cell_type": "code",
      "source": "",
      "metadata": {
        "tags": [],
        "cell_id": "00017-f15bbeb2-fa7a-4e31-8441-59ba3af16b6b",
        "deepnote_cell_type": "code"
      },
      "outputs": [],
      "execution_count": null
    },
    {
      "cell_type": "markdown",
      "source": "<a style='text-decoration:none;line-height:16px;display:flex;color:#5B5B62;padding:10px;justify-content:end;' href='https://deepnote.com?utm_source=created-in-deepnote-cell&projectId=e80043e2-6875-4b65-a196-a0ffb97a1282' target=\"_blank\">\n<img style='display:inline;max-height:16px;margin:0px;margin-right:7.5px;' src='data:image/svg+xml;base64,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' > </img>\nCreated in <span style='font-weight:600;margin-left:4px;'>Deepnote</span></a>",
      "metadata": {
        "tags": [],
        "created_in_deepnote_cell": true,
        "deepnote_cell_type": "markdown"
      }
    }
  ],
  "nbformat": 4,
  "nbformat_minor": 2,
  "metadata": {
    "orig_nbformat": 2,
    "deepnote_notebook_id": "1e3ca19e-26cb-4006-b171-4d690986f081",
    "deepnote": {},
    "deepnote_execution_queue": []
  }
}