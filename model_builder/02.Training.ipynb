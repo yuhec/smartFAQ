{
  "cells": [
    {
      "cell_type": "markdown",
      "source": "# TRAINING \n---\n## IMPORT ",
      "metadata": {
        "tags": [],
        "cell_id": "00000-ecbaccda-1ce0-45cc-93ce-6fe73cdbde97",
        "deepnote_cell_type": "markdown"
      }
    },
    {
      "cell_type": "code",
      "metadata": {
        "tags": [],
        "cell_id": "00000-353d797a-e96d-42e4-822b-dbf556a9734e",
        "deepnote_to_be_reexecuted": false,
        "source_hash": "eddf3931",
        "execution_millis": 2748,
        "execution_start": 1614956805767,
        "deepnote_cell_type": "code"
      },
      "source": "import pickle\nfrom sklearn.model_selection import train_test_split\nfrom tensorflow.keras.preprocessing import sequence\nfrom tensorflow.keras.optimizers import Adam\nfrom sklearn.feature_extraction.text import CountVectorizer\n\nfrom tensorflow.python.keras import models\nfrom tensorflow.python.keras.layers import Dense\nfrom tensorflow import keras\nfrom tensorflow.keras.callbacks import TensorBoard\n\nimport os",
      "outputs": [],
      "execution_count": null
    },
    {
      "cell_type": "markdown",
      "source": "## Load Data",
      "metadata": {
        "tags": [],
        "cell_id": "00001-d38d7c11-88ee-4842-a8f8-7ac54218b194",
        "deepnote_cell_type": "markdown"
      }
    },
    {
      "cell_type": "code",
      "source": "with open('../data/train_data.pickle', 'rb') as handle:\n    df = pickle.load(handle)",
      "metadata": {
        "tags": [],
        "cell_id": "00002-bff9edcc-316d-44db-89b7-9335048420ac",
        "deepnote_to_be_reexecuted": false,
        "source_hash": "4cae02c2",
        "execution_millis": 3778,
        "execution_start": 1614956811688,
        "deepnote_cell_type": "code"
      },
      "outputs": [],
      "execution_count": null
    },
    {
      "cell_type": "code",
      "source": "df.head()",
      "metadata": {
        "tags": [],
        "cell_id": "00003-72ba4141-1e8f-407c-acec-5f9dff5b17b5",
        "deepnote_to_be_reexecuted": false,
        "source_hash": "c085b6ba",
        "execution_millis": 49,
        "execution_start": 1614956817555,
        "deepnote_cell_type": "code"
      },
      "outputs": [
        {
          "output_type": "execute_result",
          "execution_count": 3,
          "data": {
            "application/vnd.deepnote.dataframe.v2+json": {
              "row_count": 5,
              "column_count": 11,
              "columns": [
                {
                  "name": "Id_x",
                  "dtype": "int64",
                  "stats": {
                    "unique_count": 5,
                    "nan_count": 0,
                    "min": 497,
                    "max": 195170,
                    "histogram": [
                      {
                        "bin_start": 497,
                        "bin_end": 19964.3,
                        "count": 4
                      },
                      {
                        "bin_start": 19964.3,
                        "bin_end": 39431.6,
                        "count": 0
                      },
                      {
                        "bin_start": 39431.6,
                        "bin_end": 58898.899999999994,
                        "count": 0
                      },
                      {
                        "bin_start": 58898.899999999994,
                        "bin_end": 78366.2,
                        "count": 0
                      },
                      {
                        "bin_start": 78366.2,
                        "bin_end": 97833.5,
                        "count": 0
                      },
                      {
                        "bin_start": 97833.5,
                        "bin_end": 117300.79999999999,
                        "count": 0
                      },
                      {
                        "bin_start": 117300.79999999999,
                        "bin_end": 136768.1,
                        "count": 0
                      },
                      {
                        "bin_start": 136768.1,
                        "bin_end": 156235.4,
                        "count": 0
                      },
                      {
                        "bin_start": 156235.4,
                        "bin_end": 175702.69999999998,
                        "count": 0
                      },
                      {
                        "bin_start": 175702.69999999998,
                        "bin_end": 195170,
                        "count": 1
                      }
                    ]
                  }
                },
                {
                  "name": "OwnerUserId_x",
                  "dtype": "float64",
                  "stats": {
                    "unique_count": 5,
                    "nan_count": 0,
                    "min": 50,
                    "max": 745,
                    "histogram": [
                      {
                        "bin_start": 50,
                        "bin_end": 119.5,
                        "count": 1
                      },
                      {
                        "bin_start": 119.5,
                        "bin_end": 189,
                        "count": 2
                      },
                      {
                        "bin_start": 189,
                        "bin_end": 258.5,
                        "count": 0
                      },
                      {
                        "bin_start": 258.5,
                        "bin_end": 328,
                        "count": 0
                      },
                      {
                        "bin_start": 328,
                        "bin_end": 397.5,
                        "count": 0
                      },
                      {
                        "bin_start": 397.5,
                        "bin_end": 467,
                        "count": 1
                      },
                      {
                        "bin_start": 467,
                        "bin_end": 536.5,
                        "count": 0
                      },
                      {
                        "bin_start": 536.5,
                        "bin_end": 606,
                        "count": 0
                      },
                      {
                        "bin_start": 606,
                        "bin_end": 675.5,
                        "count": 0
                      },
                      {
                        "bin_start": 675.5,
                        "bin_end": 745,
                        "count": 1
                      }
                    ]
                  }
                },
                {
                  "name": "CreationDate_x",
                  "dtype": "object",
                  "stats": {
                    "unique_count": 5,
                    "nan_count": 0,
                    "categories": [
                      {
                        "name": "2008-08-02T16:56:53Z",
                        "count": 1
                      },
                      {
                        "name": "2008-08-02T17:42:28Z",
                        "count": 1
                      },
                      {
                        "name": "3 others",
                        "count": 3
                      }
                    ]
                  }
                },
                {
                  "name": "Score_x",
                  "dtype": "int64",
                  "stats": {
                    "unique_count": 5,
                    "nan_count": 0,
                    "min": 1,
                    "max": 12,
                    "histogram": [
                      {
                        "bin_start": 1,
                        "bin_end": 2.1,
                        "count": 2
                      },
                      {
                        "bin_start": 2.1,
                        "bin_end": 3.2,
                        "count": 0
                      },
                      {
                        "bin_start": 3.2,
                        "bin_end": 4.300000000000001,
                        "count": 1
                      },
                      {
                        "bin_start": 4.300000000000001,
                        "bin_end": 5.4,
                        "count": 0
                      },
                      {
                        "bin_start": 5.4,
                        "bin_end": 6.5,
                        "count": 0
                      },
                      {
                        "bin_start": 6.5,
                        "bin_end": 7.6000000000000005,
                        "count": 0
                      },
                      {
                        "bin_start": 7.6000000000000005,
                        "bin_end": 8.700000000000001,
                        "count": 0
                      },
                      {
                        "bin_start": 8.700000000000001,
                        "bin_end": 9.8,
                        "count": 1
                      },
                      {
                        "bin_start": 9.8,
                        "bin_end": 10.9,
                        "count": 0
                      },
                      {
                        "bin_start": 10.9,
                        "bin_end": 12,
                        "count": 1
                      }
                    ]
                  }
                },
                {
                  "name": "Body_x",
                  "dtype": "object",
                  "stats": {
                    "unique_count": 5,
                    "nan_count": 0,
                    "categories": [
                      {
                        "name": "<p>open up a terminal (Applications-&gt;Utilities-&gt;Terminal) and type this in:</p>\r\n\r\n<pre><code>locate InsertFontHere<br></code></pre>\r\n\r\n<p>This will spit out every file that has the name you want.</p>\r\n\r\n<p>Warning: there may be alot to wade through.</p>",
                        "count": 1
                      },
                      {
                        "name": "<p>I haven't been able to find anything that does this directly.  I think you'll have to iterate through the various font folders on the system: <code>/System/Library/Fonts</code>, <code>/Library/Fonts</code>, and there can probably be a user-level directory as well <code>~/Library/Fonts</code>.</p>\n",
                        "count": 1
                      },
                      {
                        "name": "3 others",
                        "count": 3
                      }
                    ]
                  }
                },
                {
                  "name": "Id_y",
                  "dtype": "int64",
                  "stats": {
                    "unique_count": 2,
                    "nan_count": 0,
                    "min": 469,
                    "max": 502,
                    "histogram": [
                      {
                        "bin_start": 469,
                        "bin_end": 472.3,
                        "count": 4
                      },
                      {
                        "bin_start": 472.3,
                        "bin_end": 475.6,
                        "count": 0
                      },
                      {
                        "bin_start": 475.6,
                        "bin_end": 478.9,
                        "count": 0
                      },
                      {
                        "bin_start": 478.9,
                        "bin_end": 482.2,
                        "count": 0
                      },
                      {
                        "bin_start": 482.2,
                        "bin_end": 485.5,
                        "count": 0
                      },
                      {
                        "bin_start": 485.5,
                        "bin_end": 488.8,
                        "count": 0
                      },
                      {
                        "bin_start": 488.8,
                        "bin_end": 492.1,
                        "count": 0
                      },
                      {
                        "bin_start": 492.1,
                        "bin_end": 495.4,
                        "count": 0
                      },
                      {
                        "bin_start": 495.4,
                        "bin_end": 498.7,
                        "count": 0
                      },
                      {
                        "bin_start": 498.7,
                        "bin_end": 502,
                        "count": 1
                      }
                    ]
                  }
                },
                {
                  "name": "OwnerUserId_y",
                  "dtype": "float64",
                  "stats": {
                    "unique_count": 1,
                    "nan_count": 0,
                    "min": 147,
                    "max": 147,
                    "histogram": [
                      {
                        "bin_start": 146.5,
                        "bin_end": 146.6,
                        "count": 0
                      },
                      {
                        "bin_start": 146.6,
                        "bin_end": 146.7,
                        "count": 0
                      },
                      {
                        "bin_start": 146.7,
                        "bin_end": 146.8,
                        "count": 0
                      },
                      {
                        "bin_start": 146.8,
                        "bin_end": 146.9,
                        "count": 0
                      },
                      {
                        "bin_start": 146.9,
                        "bin_end": 147,
                        "count": 0
                      },
                      {
                        "bin_start": 147,
                        "bin_end": 147.1,
                        "count": 5
                      },
                      {
                        "bin_start": 147.1,
                        "bin_end": 147.2,
                        "count": 0
                      },
                      {
                        "bin_start": 147.2,
                        "bin_end": 147.3,
                        "count": 0
                      },
                      {
                        "bin_start": 147.3,
                        "bin_end": 147.4,
                        "count": 0
                      },
                      {
                        "bin_start": 147.4,
                        "bin_end": 147.5,
                        "count": 0
                      }
                    ]
                  }
                },
                {
                  "name": "CreationDate_y",
                  "dtype": "object",
                  "stats": {
                    "unique_count": 2,
                    "nan_count": 0,
                    "categories": [
                      {
                        "name": "2008-08-02T15:11:16Z",
                        "count": 4
                      },
                      {
                        "name": "2008-08-02T17:01:58Z",
                        "count": 1
                      }
                    ]
                  }
                },
                {
                  "name": "Score_y",
                  "dtype": "int64",
                  "stats": {
                    "unique_count": 2,
                    "nan_count": 0,
                    "min": 21,
                    "max": 27,
                    "histogram": [
                      {
                        "bin_start": 21,
                        "bin_end": 21.6,
                        "count": 4
                      },
                      {
                        "bin_start": 21.6,
                        "bin_end": 22.2,
                        "count": 0
                      },
                      {
                        "bin_start": 22.2,
                        "bin_end": 22.8,
                        "count": 0
                      },
                      {
                        "bin_start": 22.8,
                        "bin_end": 23.4,
                        "count": 0
                      },
                      {
                        "bin_start": 23.4,
                        "bin_end": 24,
                        "count": 0
                      },
                      {
                        "bin_start": 24,
                        "bin_end": 24.6,
                        "count": 0
                      },
                      {
                        "bin_start": 24.6,
                        "bin_end": 25.2,
                        "count": 0
                      },
                      {
                        "bin_start": 25.2,
                        "bin_end": 25.8,
                        "count": 0
                      },
                      {
                        "bin_start": 25.8,
                        "bin_end": 26.4,
                        "count": 0
                      },
                      {
                        "bin_start": 26.4,
                        "bin_end": 27,
                        "count": 1
                      }
                    ]
                  }
                },
                {
                  "name": "Title",
                  "dtype": "object",
                  "stats": {
                    "unique_count": 2,
                    "nan_count": 0,
                    "categories": [
                      {
                        "name": "How can I find the full path to a font from its display name on a Mac?",
                        "count": 4
                      },
                      {
                        "name": "Get a preview JPEG of a PDF on Windows?",
                        "count": 1
                      }
                    ]
                  }
                },
                {
                  "name": "Body_y",
                  "dtype": "object",
                  "stats": {
                    "unique_count": 2,
                    "nan_count": 0,
                    "categories": [
                      {
                        "name": "<p>I am using the Photoshop's javascript API to find the fonts in a given PSD.</p>\n\n<p>Given a font name returned by the API, I want to find the actual physical font file that that font name corresponds to on the disc.</p>\n\n<p>This is all happening in a python program running on OSX so I guess I'm looking for one of:</p>\n\n<ul>\n<li>Some Photoshop javascript</li>\n<li>A Python function</li>\n<li>An OSX API that I can call from python</li>\n</ul>\n",
                        "count": 4
                      },
                      {
                        "name": "<p>I have a cross-platform (Python) application which needs to generate a JPEG preview of the first page of a PDF.</p>\n\n<p>On the Mac I am spawning <a href=\"http://developer.apple.com/documentation/Darwin/Reference/ManPages/man1/sips.1.html\">sips</a>.  Is there something similarly simple I can do on Windows?</p>\n",
                        "count": 1
                      }
                    ]
                  }
                },
                {
                  "name": "_deepnote_index_column",
                  "dtype": "int64"
                }
              ],
              "rows_top": [
                {
                  "Id_x": 497,
                  "OwnerUserId_x": 50,
                  "CreationDate_x": "2008-08-02T16:56:53Z",
                  "Score_x": 4,
                  "Body_x": "<p>open up a terminal (Applications-&gt;Utilities-&gt;Terminal) and type this in:</p>\r\n\r\n<pre><code>locate InsertFontHere<br></code></pre>\r\n\r\n<p>This will spit out every file that has the name you want.</p>\r\n\r\n<p>Warning: there may be alot to wade through.</p>",
                  "Id_y": 469,
                  "OwnerUserId_y": 147,
                  "CreationDate_y": "2008-08-02T15:11:16Z",
                  "Score_y": 21,
                  "Title": "How can I find the full path to a font from its display name on a Mac?",
                  "Body_y": "<p>I am using the Photoshop's javascript API to find the fonts in a given PSD.</p>\n\n<p>Given a font name returned by the API, I want to find the actual physical font file that that font name corresponds to on the disc.</p>\n\n<p>This is all happening in a python program running on OSX so I guess I'm looking for one of:</p>\n\n<ul>\n<li>Some Photoshop javascript</li>\n<li>A Python function</li>\n<li>An OSX API that I can call from python</li>\n</ul>\n",
                  "_deepnote_index_column": 0
                },
                {
                  "Id_x": 518,
                  "OwnerUserId_x": 153,
                  "CreationDate_x": "2008-08-02T17:42:28Z",
                  "Score_x": 2,
                  "Body_x": "<p>I haven't been able to find anything that does this directly.  I think you'll have to iterate through the various font folders on the system: <code>/System/Library/Fonts</code>, <code>/Library/Fonts</code>, and there can probably be a user-level directory as well <code>~/Library/Fonts</code>.</p>\n",
                  "Id_y": 469,
                  "OwnerUserId_y": 147,
                  "CreationDate_y": "2008-08-02T15:11:16Z",
                  "Score_y": 21,
                  "Title": "How can I find the full path to a font from its display name on a Mac?",
                  "Body_y": "<p>I am using the Photoshop's javascript API to find the fonts in a given PSD.</p>\n\n<p>Given a font name returned by the API, I want to find the actual physical font file that that font name corresponds to on the disc.</p>\n\n<p>This is all happening in a python program running on OSX so I guess I'm looking for one of:</p>\n\n<ul>\n<li>Some Photoshop javascript</li>\n<li>A Python function</li>\n<li>An OSX API that I can call from python</li>\n</ul>\n",
                  "_deepnote_index_column": 1
                },
                {
                  "Id_x": 3040,
                  "OwnerUserId_x": 457,
                  "CreationDate_x": "2008-08-06T03:01:23Z",
                  "Score_x": 12,
                  "Body_x": "<p>Unfortunately the only API that isn't deprecated is located in the ApplicationServices framework, which doesn't have a bridge support file, and thus isn't available in the bridge. If you're wanting to use ctypes, you can use ATSFontGetFileReference after looking up the ATSFontRef.</p>\r\n\r\n<p>Cocoa doesn't have any native support, at least as of 10.5, for getting the location of a font.</p>",
                  "Id_y": 469,
                  "OwnerUserId_y": 147,
                  "CreationDate_y": "2008-08-02T15:11:16Z",
                  "Score_y": 21,
                  "Title": "How can I find the full path to a font from its display name on a Mac?",
                  "Body_y": "<p>I am using the Photoshop's javascript API to find the fonts in a given PSD.</p>\n\n<p>Given a font name returned by the API, I want to find the actual physical font file that that font name corresponds to on the disc.</p>\n\n<p>This is all happening in a python program running on OSX so I guess I'm looking for one of:</p>\n\n<ul>\n<li>Some Photoshop javascript</li>\n<li>A Python function</li>\n<li>An OSX API that I can call from python</li>\n</ul>\n",
                  "_deepnote_index_column": 2
                },
                {
                  "Id_x": 195170,
                  "OwnerUserId_x": 745,
                  "CreationDate_x": "2008-10-12T07:02:40Z",
                  "Score_x": 1,
                  "Body_x": "<p>There must be a method in Cocoa to get a list of fonts, then you would have to use the PyObjC bindings to call it..</p>\n\n<p>Depending on what you need them for, you could probably just use something like the following..</p>\n\n<pre><code>import os\ndef get_font_list():\n    fonts = []\n    for font_path in [\"/Library/Fonts\", os.path.expanduser(\"~/Library/Fonts\")]:\n        if os.path.isdir(font_path):\n            fonts.extend(\n                [os.path.join(font_path, cur_font) \n                 for cur_font in os.listdir(font_path)\n                ]\n            )\n    return fonts\n</code></pre>\n",
                  "Id_y": 469,
                  "OwnerUserId_y": 147,
                  "CreationDate_y": "2008-08-02T15:11:16Z",
                  "Score_y": 21,
                  "Title": "How can I find the full path to a font from its display name on a Mac?",
                  "Body_y": "<p>I am using the Photoshop's javascript API to find the fonts in a given PSD.</p>\n\n<p>Given a font name returned by the API, I want to find the actual physical font file that that font name corresponds to on the disc.</p>\n\n<p>This is all happening in a python program running on OSX so I guess I'm looking for one of:</p>\n\n<ul>\n<li>Some Photoshop javascript</li>\n<li>A Python function</li>\n<li>An OSX API that I can call from python</li>\n</ul>\n",
                  "_deepnote_index_column": 3
                },
                {
                  "Id_x": 536,
                  "OwnerUserId_x": 161,
                  "CreationDate_x": "2008-08-02T18:49:07Z",
                  "Score_x": 9,
                  "Body_x": "<p>You can use ImageMagick's convert utility for this, see some examples in <a href=\"https://web.archive.org/web/20120413111338/http://studio.imagemagick.org/pipermail/magick-users/2002-May/002636.html\" rel=\"nofollow\">http://studio.imagemagick.org/pipermail/magick-users/2002-May/002636.html</a>\n:</p>\n\n<blockquote>\n<pre><code>Convert taxes.pdf taxes.jpg \n</code></pre>\n  \n  <p>Will convert a two page PDF file into [2] jpeg files: taxes.jpg.0,\n  taxes.jpg.1</p>\n  \n  <p>I can also convert these JPEGS to a thumbnail as follows:</p>\n\n<pre><code>convert -size 120x120 taxes.jpg.0 -geometry 120x120 +profile '*' thumbnail.jpg\n</code></pre>\n  \n  <p>I can even convert the PDF directly to a jpeg thumbnail as follows:</p>\n\n<pre><code>convert -size 120x120 taxes.pdf -geometry 120x120 +profile '*' thumbnail.jpg\n</code></pre>\n  \n  <p>This will result in a thumbnail.jpg.0 and thumbnail.jpg.1 for the two\n  pages.</p>\n</blockquote>\n",
                  "Id_y": 502,
                  "OwnerUserId_y": 147,
                  "CreationDate_y": "2008-08-02T17:01:58Z",
                  "Score_y": 27,
                  "Title": "Get a preview JPEG of a PDF on Windows?",
                  "Body_y": "<p>I have a cross-platform (Python) application which needs to generate a JPEG preview of the first page of a PDF.</p>\n\n<p>On the Mac I am spawning <a href=\"http://developer.apple.com/documentation/Darwin/Reference/ManPages/man1/sips.1.html\">sips</a>.  Is there something similarly simple I can do on Windows?</p>\n",
                  "_deepnote_index_column": 4
                }
              ],
              "rows_bottom": null
            },
            "text/plain": "     Id_x  OwnerUserId_x        CreationDate_x  Score_x  \\\n0     497           50.0  2008-08-02T16:56:53Z        4   \n1     518          153.0  2008-08-02T17:42:28Z        2   \n2    3040          457.0  2008-08-06T03:01:23Z       12   \n3  195170          745.0  2008-10-12T07:02:40Z        1   \n4     536          161.0  2008-08-02T18:49:07Z        9   \n\n                                              Body_x  Id_y  OwnerUserId_y  \\\n0  <p>open up a terminal (Applications-&gt;Utilit...   469          147.0   \n1  <p>I haven't been able to find anything that d...   469          147.0   \n2  <p>Unfortunately the only API that isn't depre...   469          147.0   \n3  <p>There must be a method in Cocoa to get a li...   469          147.0   \n4  <p>You can use ImageMagick's convert utility f...   502          147.0   \n\n         CreationDate_y  Score_y  \\\n0  2008-08-02T15:11:16Z       21   \n1  2008-08-02T15:11:16Z       21   \n2  2008-08-02T15:11:16Z       21   \n3  2008-08-02T15:11:16Z       21   \n4  2008-08-02T17:01:58Z       27   \n\n                                               Title  \\\n0  How can I find the full path to a font from it...   \n1  How can I find the full path to a font from it...   \n2  How can I find the full path to a font from it...   \n3  How can I find the full path to a font from it...   \n4            Get a preview JPEG of a PDF on Windows?   \n\n                                              Body_y  \n0  <p>I am using the Photoshop's javascript API t...  \n1  <p>I am using the Photoshop's javascript API t...  \n2  <p>I am using the Photoshop's javascript API t...  \n3  <p>I am using the Photoshop's javascript API t...  \n4  <p>I have a cross-platform (Python) applicatio...  ",
            "text/html": "<div>\n<style scoped>\n    .dataframe tbody tr th:only-of-type {\n        vertical-align: middle;\n    }\n\n    .dataframe tbody tr th {\n        vertical-align: top;\n    }\n\n    .dataframe thead th {\n        text-align: right;\n    }\n</style>\n<table border=\"1\" class=\"dataframe\">\n  <thead>\n    <tr style=\"text-align: right;\">\n      <th></th>\n      <th>Id_x</th>\n      <th>OwnerUserId_x</th>\n      <th>CreationDate_x</th>\n      <th>Score_x</th>\n      <th>Body_x</th>\n      <th>Id_y</th>\n      <th>OwnerUserId_y</th>\n      <th>CreationDate_y</th>\n      <th>Score_y</th>\n      <th>Title</th>\n      <th>Body_y</th>\n    </tr>\n  </thead>\n  <tbody>\n    <tr>\n      <th>0</th>\n      <td>497</td>\n      <td>50.0</td>\n      <td>2008-08-02T16:56:53Z</td>\n      <td>4</td>\n      <td>&lt;p&gt;open up a terminal (Applications-&amp;gt;Utilit...</td>\n      <td>469</td>\n      <td>147.0</td>\n      <td>2008-08-02T15:11:16Z</td>\n      <td>21</td>\n      <td>How can I find the full path to a font from it...</td>\n      <td>&lt;p&gt;I am using the Photoshop's javascript API t...</td>\n    </tr>\n    <tr>\n      <th>1</th>\n      <td>518</td>\n      <td>153.0</td>\n      <td>2008-08-02T17:42:28Z</td>\n      <td>2</td>\n      <td>&lt;p&gt;I haven't been able to find anything that d...</td>\n      <td>469</td>\n      <td>147.0</td>\n      <td>2008-08-02T15:11:16Z</td>\n      <td>21</td>\n      <td>How can I find the full path to a font from it...</td>\n      <td>&lt;p&gt;I am using the Photoshop's javascript API t...</td>\n    </tr>\n    <tr>\n      <th>2</th>\n      <td>3040</td>\n      <td>457.0</td>\n      <td>2008-08-06T03:01:23Z</td>\n      <td>12</td>\n      <td>&lt;p&gt;Unfortunately the only API that isn't depre...</td>\n      <td>469</td>\n      <td>147.0</td>\n      <td>2008-08-02T15:11:16Z</td>\n      <td>21</td>\n      <td>How can I find the full path to a font from it...</td>\n      <td>&lt;p&gt;I am using the Photoshop's javascript API t...</td>\n    </tr>\n    <tr>\n      <th>3</th>\n      <td>195170</td>\n      <td>745.0</td>\n      <td>2008-10-12T07:02:40Z</td>\n      <td>1</td>\n      <td>&lt;p&gt;There must be a method in Cocoa to get a li...</td>\n      <td>469</td>\n      <td>147.0</td>\n      <td>2008-08-02T15:11:16Z</td>\n      <td>21</td>\n      <td>How can I find the full path to a font from it...</td>\n      <td>&lt;p&gt;I am using the Photoshop's javascript API t...</td>\n    </tr>\n    <tr>\n      <th>4</th>\n      <td>536</td>\n      <td>161.0</td>\n      <td>2008-08-02T18:49:07Z</td>\n      <td>9</td>\n      <td>&lt;p&gt;You can use ImageMagick's convert utility f...</td>\n      <td>502</td>\n      <td>147.0</td>\n      <td>2008-08-02T17:01:58Z</td>\n      <td>27</td>\n      <td>Get a preview JPEG of a PDF on Windows?</td>\n      <td>&lt;p&gt;I have a cross-platform (Python) applicatio...</td>\n    </tr>\n  </tbody>\n</table>\n</div>"
          },
          "metadata": {}
        }
      ],
      "execution_count": null
    },
    {
      "cell_type": "markdown",
      "source": "## Split train/ test",
      "metadata": {
        "tags": [],
        "cell_id": "00004-59dcc8d1-7e3e-4ad1-9638-09f51b532467",
        "deepnote_cell_type": "markdown"
      }
    },
    {
      "cell_type": "code",
      "source": "# Target = pertinence donnée à la réponse\nX_train, X_test, y_train, y_test = train_test_split(df[['Id_x', 'Title', 'Body_y', 'Body_x']], df['Score_x'], test_size=0.2, random_state=0)",
      "metadata": {
        "tags": [],
        "cell_id": "00004-8bb7dae7-64ab-4365-b0f0-117b96c53652",
        "deepnote_to_be_reexecuted": false,
        "source_hash": "332ff8a5",
        "execution_millis": 634,
        "execution_start": 1614956821529,
        "deepnote_cell_type": "code"
      },
      "outputs": [],
      "execution_count": null
    },
    {
      "cell_type": "code",
      "source": "# Mean length of body x and y\naverage_x = sum(len(word) for word in X_train['Body_x']) / len(X_train['Body_x'])\naverage_y = sum(len(word) for word in X_train['Body_y']) / len(X_train['Body_y'])\naverage_title = sum(len(word) for word in X_train['Title']) / len(X_train['Title'])\nprint(average_x)\nprint(average_y)\nprint(average_title)",
      "metadata": {
        "tags": [],
        "cell_id": "00006-375f8dd5-5d2a-46dc-9a6f-478262ff7655",
        "deepnote_to_be_reexecuted": false,
        "source_hash": "a5ed259c",
        "execution_millis": 747,
        "execution_start": 1614956823073,
        "deepnote_cell_type": "code"
      },
      "outputs": [
        {
          "name": "stdout",
          "text": "774.0200697229444\n1212.5857537764484\n51.093487755430246\n",
          "output_type": "stream"
        }
      ],
      "execution_count": null
    },
    {
      "cell_type": "markdown",
      "source": "## Preprocessing",
      "metadata": {
        "tags": [],
        "cell_id": "00008-e50c71c5-c82b-4ad6-9818-ab5bc70999e7",
        "deepnote_cell_type": "markdown"
      }
    },
    {
      "cell_type": "code",
      "source": "def vectorize_data(X_train, X_test, max_features=1000):    \n    vectorizer = CountVectorizer(max_features=max_features)\n\n    X_train_vect = X_train\n    X_test_vect = X_test\n\n    X_train_vect['Title'] = vectorizer.fit_transform(X_train_vect['Title'])\n    X_test_vect['Title'] = vectorizer.transform(X_test_vect['Title'])\n\n    X_train_vect['Body_x'] = vectorizer.fit_transform(X_train_vect['Body_x'])\n    X_test_vect['Body_x'] = vectorizer.transform(X_test_vect['Body_x'])\n\n    X_train_vect['Body_y'] = vectorizer.fit_transform(X_train_vect['Body_y'])\n    X_test_vect['Body_y'] = vectorizer.transform(X_test_vect['Body_y'])\n\n    return X_train_vect, X_test_vect",
      "metadata": {
        "tags": [],
        "cell_id": "00009-7b8cf100-45b0-45d8-b2ee-e8a545ec2449",
        "deepnote_to_be_reexecuted": false,
        "source_hash": "df800b13",
        "execution_millis": 0,
        "execution_start": 1614957289741,
        "deepnote_cell_type": "code"
      },
      "outputs": [],
      "execution_count": null
    },
    {
      "cell_type": "code",
      "source": "X_train_vect, X_test_vect = vectorize_data(X_train, X_test, max_features=1000)",
      "metadata": {
        "tags": [],
        "cell_id": "00010-566eed88-00d1-4986-96ed-3e3c64860e86",
        "deepnote_to_be_reexecuted": false,
        "source_hash": "f70cbd92",
        "execution_millis": 0,
        "execution_start": 1614957291920,
        "deepnote_cell_type": "code"
      },
      "outputs": [
        {
          "output_type": "error",
          "ename": "KernelInterrupted",
          "evalue": "Execution interrupted by the Jupyter kernel.",
          "traceback": [
            "\u001b[0;31m---------------------------------------------------------------------------\u001b[0m",
            "\u001b[0;31mKernelInterrupted\u001b[0m: Execution interrupted by the Jupyter kernel."
          ]
        }
      ],
      "execution_count": null
    },
    {
      "cell_type": "code",
      "source": "# Même longeur de texte\n# maxlenBodyX = 750\n# maxlenBodyY = 750\n# maxLenTitle = 60\n\n# x_train_pad = X_train_vect\n# x_test_pad = X_test_vect\n\n# x_train_pad['Title'] = sequence.pad_sequences(x_train_pad['Title'], maxLenTitle)\n# x_train_pad['Body_x'] = sequence.pad_sequences(x_train_pad['Body_x'], maxlenBodyX)\n# x_train_pad['Body_y'] = sequence.pad_sequences(x_train_pad['Body_y'], maxlenBodyY)\n\n# x_test_pad['Title'] = sequence.pad_sequences(x_test_pad['Title'], maxLenTitle)\n# x_test_pad['Body_x'] = sequence.pad_sequences(x_test_pad['Body_x'], maxlenBodyX)\n# x_test_pad['Body_y'] = sequence.pad_sequences(x_test_pad['Body_y'], maxlenBodyY)\n",
      "metadata": {
        "tags": [],
        "cell_id": "00008-41ec81cd-f1e6-4fa1-abf1-2bd8973ff9b0",
        "deepnote_to_be_reexecuted": false,
        "source_hash": "291e2db8",
        "execution_millis": 0,
        "is_code_hidden": false,
        "execution_start": 1614956827621,
        "deepnote_cell_type": "code"
      },
      "outputs": [],
      "execution_count": null
    },
    {
      "cell_type": "markdown",
      "source": "## Create model",
      "metadata": {
        "tags": [],
        "cell_id": "00008-48bbdf72-cdfb-404f-8167-3e1c64216364",
        "deepnote_cell_type": "markdown"
      }
    },
    {
      "cell_type": "code",
      "source": "def build_model(input_shape, DROPOUT_RATE = 0.2, UNITS = 64, NUM_CLASSES = 2):\n\n    model = keras.Sequential()\n    model.add(Dense(units=50, activation='relu'))\n    model.add(Dense(units=1, activation='sigmoid'))\n    model.build(input_shape)\n    model.summary()\n    return model",
      "metadata": {
        "tags": [],
        "cell_id": "00010-756cf652-750b-43e9-be8f-44dab171d1e7",
        "deepnote_to_be_reexecuted": false,
        "source_hash": "476c5132",
        "execution_millis": 0,
        "execution_start": 1614957115391,
        "deepnote_cell_type": "code"
      },
      "outputs": [],
      "execution_count": null
    },
    {
      "cell_type": "code",
      "source": "X_train_vect[0].shape[1]",
      "metadata": {
        "tags": [],
        "cell_id": "00014-a0090821-576b-4418-a0e0-674398290470",
        "deepnote_to_be_reexecuted": false,
        "source_hash": "fe46666f",
        "execution_millis": 10,
        "execution_start": 1614957202971,
        "deepnote_cell_type": "code"
      },
      "outputs": [
        {
          "output_type": "execute_result",
          "execution_count": 23,
          "data": {
            "text/plain": "4"
          },
          "metadata": {}
        }
      ],
      "execution_count": null
    },
    {
      "cell_type": "code",
      "source": "model = build_model(X_train_vect.shape)",
      "metadata": {
        "tags": [],
        "cell_id": "00016-5705b92b-d1f4-4990-a2e6-cec7a0f43a83",
        "deepnote_to_be_reexecuted": false,
        "source_hash": "c31c8209",
        "execution_millis": 10,
        "execution_start": 1614957130886,
        "deepnote_cell_type": "code"
      },
      "outputs": [
        {
          "name": "stdout",
          "text": "Model: \"sequential_3\"\n_________________________________________________________________\nLayer (type)                 Output Shape              Param #   \n=================================================================\ndense_6 (Dense)              (4, 50)                   250       \n_________________________________________________________________\ndense_7 (Dense)              (4, 1)                    51        \n=================================================================\nTotal params: 301\nTrainable params: 301\nNon-trainable params: 0\n_________________________________________________________________\n",
          "output_type": "stream"
        }
      ],
      "execution_count": null
    },
    {
      "cell_type": "markdown",
      "source": "## Compilation",
      "metadata": {
        "tags": [],
        "cell_id": "00020-68063ecb-625d-4f82-823a-39dd8fbe8756",
        "deepnote_cell_type": "markdown"
      }
    },
    {
      "cell_type": "code",
      "source": "INIT_LR = 0.001\nEPOCHS = 10",
      "metadata": {
        "tags": [],
        "cell_id": "00021-cb71b516-e5b6-4bc1-ab87-6eafc8d073ae",
        "deepnote_to_be_reexecuted": true,
        "source_hash": "d4d2218e",
        "execution_millis": 3,
        "deepnote_cell_type": "code"
      },
      "outputs": [],
      "execution_count": null
    },
    {
      "cell_type": "code",
      "source": "optimizer = Adam(learning_rate=INIT_LR, decay=INIT_LR/EPOCHS)",
      "metadata": {
        "tags": [],
        "cell_id": "00022-ca5b0b91-220e-4fbe-bdf6-1ca0143878e3",
        "deepnote_to_be_reexecuted": true,
        "source_hash": "6e8ca5fc",
        "execution_millis": 2,
        "deepnote_cell_type": "code"
      },
      "outputs": [],
      "execution_count": null
    },
    {
      "cell_type": "code",
      "source": "model.compile(\n  optimizer = optimizer,\n  loss = \"binary_crossentropy\",\n  metrics = [\"accuracy\"]\n)",
      "metadata": {
        "tags": [],
        "cell_id": "00016-152fd300-aeae-4fe8-888e-e035b33229e8",
        "deepnote_to_be_reexecuted": true,
        "source_hash": "635ba474",
        "execution_millis": 8,
        "deepnote_cell_type": "code"
      },
      "outputs": [],
      "execution_count": null
    },
    {
      "cell_type": "markdown",
      "source": "## Entrainement",
      "metadata": {
        "tags": [],
        "cell_id": "00025-93d170d2-d504-44e1-a4d5-79cd8d0a9d99",
        "deepnote_cell_type": "markdown"
      }
    },
    {
      "cell_type": "code",
      "source": "def train_model(X_train, y_train, EPOCHS = 100, BATCH_SIZE = 128, patience=5):\n    # For tensorboard\n    os.makedirs(\"./logs\",exist_ok=True)\n    tensorboard = TensorBoard(log_dir=os.path.join('./logs'), histogram_freq=0,\n                                write_graph=True, write_images=False,profile_batch = 100000000)\n\n    callbacks = [tensorboard]\n\n    history = model.fit(X_train, y_train, callbacks=callbacks)\n    return history",
      "metadata": {
        "tags": [],
        "cell_id": "00026-ad408f9f-6f71-4afb-b5be-c6e83ba7710a",
        "deepnote_to_be_reexecuted": true,
        "source_hash": "847f7517",
        "execution_millis": 1,
        "deepnote_cell_type": "code"
      },
      "outputs": [],
      "execution_count": null
    },
    {
      "cell_type": "code",
      "source": "X_train_vect",
      "metadata": {
        "tags": [],
        "cell_id": "00024-fd337192-76e9-4bc7-a2d0-548d390d36cc",
        "deepnote_to_be_reexecuted": true,
        "source_hash": "e68f1b12",
        "execution_millis": 8,
        "deepnote_cell_type": "code"
      },
      "outputs": [
        {
          "output_type": "execute_result",
          "execution_count": 32,
          "data": {
            "text/plain": "<4x4 sparse matrix of type '<class 'numpy.int64'>'\n\twith 4 stored elements in Compressed Sparse Row format>"
          },
          "metadata": {}
        }
      ],
      "execution_count": null
    },
    {
      "cell_type": "code",
      "source": "history = train_model(X_train_vect, y_train, EPOCHS = 100, BATCH_SIZE = 128, patience=5)",
      "metadata": {
        "tags": [],
        "cell_id": "00027-caa858ad-1540-4156-a698-1d8fe3c3b760",
        "deepnote_to_be_reexecuted": true,
        "source_hash": "b1cf47d1",
        "execution_millis": 61,
        "deepnote_cell_type": "code"
      },
      "outputs": [
        {
          "name": "stdout",
          "text": "WARNING:tensorflow:Keras is training/fitting/evaluating on array-like data. Keras may not be optimized for this format, so if your input data format is supported by TensorFlow I/O (https://github.com/tensorflow/io) we recommend using that to load a Dataset instead.\n",
          "output_type": "stream"
        },
        {
          "output_type": "error",
          "ename": "ValueError",
          "evalue": "Data cardinality is ambiguous:\n  x sizes: 4\n  y sizes: 789697\nPlease provide data which shares the same first dimension.",
          "traceback": [
            "\u001b[0;31m---------------------------------------------------------------------------\u001b[0m",
            "\u001b[0;31mValueError\u001b[0m                                Traceback (most recent call last)",
            "\u001b[0;32m<ipython-input-43-03bea82bca7c>\u001b[0m in \u001b[0;36m<module>\u001b[0;34m\u001b[0m\n\u001b[0;32m----> 1\u001b[0;31m \u001b[0mhistory\u001b[0m \u001b[0;34m=\u001b[0m \u001b[0mtrain_model\u001b[0m\u001b[0;34m(\u001b[0m\u001b[0mX_train_vect\u001b[0m\u001b[0;34m,\u001b[0m \u001b[0my_train\u001b[0m\u001b[0;34m,\u001b[0m \u001b[0mEPOCHS\u001b[0m \u001b[0;34m=\u001b[0m \u001b[0;36m100\u001b[0m\u001b[0;34m,\u001b[0m \u001b[0mBATCH_SIZE\u001b[0m \u001b[0;34m=\u001b[0m \u001b[0;36m128\u001b[0m\u001b[0;34m,\u001b[0m \u001b[0mpatience\u001b[0m\u001b[0;34m=\u001b[0m\u001b[0;36m5\u001b[0m\u001b[0;34m)\u001b[0m\u001b[0;34m\u001b[0m\u001b[0;34m\u001b[0m\u001b[0m\n\u001b[0m",
            "\u001b[0;32m<ipython-input-21-9a7dc65f4ea2>\u001b[0m in \u001b[0;36mtrain_model\u001b[0;34m(X_train, y_train, EPOCHS, BATCH_SIZE, patience)\u001b[0m\n\u001b[1;32m      7\u001b[0m     \u001b[0mcallbacks\u001b[0m \u001b[0;34m=\u001b[0m \u001b[0;34m[\u001b[0m\u001b[0mtensorboard\u001b[0m\u001b[0;34m]\u001b[0m\u001b[0;34m\u001b[0m\u001b[0;34m\u001b[0m\u001b[0m\n\u001b[1;32m      8\u001b[0m \u001b[0;34m\u001b[0m\u001b[0m\n\u001b[0;32m----> 9\u001b[0;31m     \u001b[0mhistory\u001b[0m \u001b[0;34m=\u001b[0m \u001b[0mmodel\u001b[0m\u001b[0;34m.\u001b[0m\u001b[0mfit\u001b[0m\u001b[0;34m(\u001b[0m\u001b[0mX_train\u001b[0m\u001b[0;34m,\u001b[0m \u001b[0my_train\u001b[0m\u001b[0;34m,\u001b[0m \u001b[0mcallbacks\u001b[0m\u001b[0;34m=\u001b[0m\u001b[0mcallbacks\u001b[0m\u001b[0;34m)\u001b[0m\u001b[0;34m\u001b[0m\u001b[0;34m\u001b[0m\u001b[0m\n\u001b[0m\u001b[1;32m     10\u001b[0m     \u001b[0;32mreturn\u001b[0m \u001b[0mhistory\u001b[0m\u001b[0;34m\u001b[0m\u001b[0;34m\u001b[0m\u001b[0m\n",
            "\u001b[0;32m~/venv/lib/python3.7/site-packages/tensorflow/python/keras/engine/training.py\u001b[0m in \u001b[0;36m_method_wrapper\u001b[0;34m(self, *args, **kwargs)\u001b[0m\n\u001b[1;32m    106\u001b[0m   \u001b[0;32mdef\u001b[0m \u001b[0m_method_wrapper\u001b[0m\u001b[0;34m(\u001b[0m\u001b[0mself\u001b[0m\u001b[0;34m,\u001b[0m \u001b[0;34m*\u001b[0m\u001b[0margs\u001b[0m\u001b[0;34m,\u001b[0m \u001b[0;34m**\u001b[0m\u001b[0mkwargs\u001b[0m\u001b[0;34m)\u001b[0m\u001b[0;34m:\u001b[0m\u001b[0;34m\u001b[0m\u001b[0;34m\u001b[0m\u001b[0m\n\u001b[1;32m    107\u001b[0m     \u001b[0;32mif\u001b[0m \u001b[0;32mnot\u001b[0m \u001b[0mself\u001b[0m\u001b[0;34m.\u001b[0m\u001b[0m_in_multi_worker_mode\u001b[0m\u001b[0;34m(\u001b[0m\u001b[0;34m)\u001b[0m\u001b[0;34m:\u001b[0m  \u001b[0;31m# pylint: disable=protected-access\u001b[0m\u001b[0;34m\u001b[0m\u001b[0;34m\u001b[0m\u001b[0m\n\u001b[0;32m--> 108\u001b[0;31m       \u001b[0;32mreturn\u001b[0m \u001b[0mmethod\u001b[0m\u001b[0;34m(\u001b[0m\u001b[0mself\u001b[0m\u001b[0;34m,\u001b[0m \u001b[0;34m*\u001b[0m\u001b[0margs\u001b[0m\u001b[0;34m,\u001b[0m \u001b[0;34m**\u001b[0m\u001b[0mkwargs\u001b[0m\u001b[0;34m)\u001b[0m\u001b[0;34m\u001b[0m\u001b[0;34m\u001b[0m\u001b[0m\n\u001b[0m\u001b[1;32m    109\u001b[0m \u001b[0;34m\u001b[0m\u001b[0m\n\u001b[1;32m    110\u001b[0m     \u001b[0;31m# Running inside `run_distribute_coordinator` already.\u001b[0m\u001b[0;34m\u001b[0m\u001b[0;34m\u001b[0m\u001b[0;34m\u001b[0m\u001b[0m\n",
            "\u001b[0;32m~/venv/lib/python3.7/site-packages/tensorflow/python/keras/engine/training.py\u001b[0m in \u001b[0;36mfit\u001b[0;34m(self, x, y, batch_size, epochs, verbose, callbacks, validation_split, validation_data, shuffle, class_weight, sample_weight, initial_epoch, steps_per_epoch, validation_steps, validation_batch_size, validation_freq, max_queue_size, workers, use_multiprocessing)\u001b[0m\n\u001b[1;32m   1061\u001b[0m           \u001b[0muse_multiprocessing\u001b[0m\u001b[0;34m=\u001b[0m\u001b[0muse_multiprocessing\u001b[0m\u001b[0;34m,\u001b[0m\u001b[0;34m\u001b[0m\u001b[0;34m\u001b[0m\u001b[0m\n\u001b[1;32m   1062\u001b[0m           \u001b[0mmodel\u001b[0m\u001b[0;34m=\u001b[0m\u001b[0mself\u001b[0m\u001b[0;34m,\u001b[0m\u001b[0;34m\u001b[0m\u001b[0;34m\u001b[0m\u001b[0m\n\u001b[0;32m-> 1063\u001b[0;31m           steps_per_execution=self._steps_per_execution)\n\u001b[0m\u001b[1;32m   1064\u001b[0m \u001b[0;34m\u001b[0m\u001b[0m\n\u001b[1;32m   1065\u001b[0m       \u001b[0;31m# Container that configures and calls `tf.keras.Callback`s.\u001b[0m\u001b[0;34m\u001b[0m\u001b[0;34m\u001b[0m\u001b[0;34m\u001b[0m\u001b[0m\n",
            "\u001b[0;32m~/venv/lib/python3.7/site-packages/tensorflow/python/keras/engine/data_adapter.py\u001b[0m in \u001b[0;36m__init__\u001b[0;34m(self, x, y, sample_weight, batch_size, steps_per_epoch, initial_epoch, epochs, shuffle, class_weight, max_queue_size, workers, use_multiprocessing, model, steps_per_execution)\u001b[0m\n\u001b[1;32m   1115\u001b[0m         \u001b[0muse_multiprocessing\u001b[0m\u001b[0;34m=\u001b[0m\u001b[0muse_multiprocessing\u001b[0m\u001b[0;34m,\u001b[0m\u001b[0;34m\u001b[0m\u001b[0;34m\u001b[0m\u001b[0m\n\u001b[1;32m   1116\u001b[0m         \u001b[0mdistribution_strategy\u001b[0m\u001b[0;34m=\u001b[0m\u001b[0mds_context\u001b[0m\u001b[0;34m.\u001b[0m\u001b[0mget_strategy\u001b[0m\u001b[0;34m(\u001b[0m\u001b[0;34m)\u001b[0m\u001b[0;34m,\u001b[0m\u001b[0;34m\u001b[0m\u001b[0;34m\u001b[0m\u001b[0m\n\u001b[0;32m-> 1117\u001b[0;31m         model=model)\n\u001b[0m\u001b[1;32m   1118\u001b[0m \u001b[0;34m\u001b[0m\u001b[0m\n\u001b[1;32m   1119\u001b[0m     \u001b[0mstrategy\u001b[0m \u001b[0;34m=\u001b[0m \u001b[0mds_context\u001b[0m\u001b[0;34m.\u001b[0m\u001b[0mget_strategy\u001b[0m\u001b[0;34m(\u001b[0m\u001b[0;34m)\u001b[0m\u001b[0;34m\u001b[0m\u001b[0;34m\u001b[0m\u001b[0m\n",
            "\u001b[0;32m~/venv/lib/python3.7/site-packages/tensorflow/python/keras/engine/data_adapter.py\u001b[0m in \u001b[0;36m__init__\u001b[0;34m(self, *args, **kwargs)\u001b[0m\n\u001b[1;32m    474\u001b[0m         \"recommend using that to load a Dataset instead.\")\n\u001b[1;32m    475\u001b[0m \u001b[0;34m\u001b[0m\u001b[0m\n\u001b[0;32m--> 476\u001b[0;31m     \u001b[0msuper\u001b[0m\u001b[0;34m(\u001b[0m\u001b[0mGenericArrayLikeDataAdapter\u001b[0m\u001b[0;34m,\u001b[0m \u001b[0mself\u001b[0m\u001b[0;34m)\u001b[0m\u001b[0;34m.\u001b[0m\u001b[0m__init__\u001b[0m\u001b[0;34m(\u001b[0m\u001b[0;34m*\u001b[0m\u001b[0margs\u001b[0m\u001b[0;34m,\u001b[0m \u001b[0;34m**\u001b[0m\u001b[0mkwargs\u001b[0m\u001b[0;34m)\u001b[0m\u001b[0;34m\u001b[0m\u001b[0;34m\u001b[0m\u001b[0m\n\u001b[0m\u001b[1;32m    477\u001b[0m \u001b[0;34m\u001b[0m\u001b[0m\n\u001b[1;32m    478\u001b[0m   \u001b[0;32mdef\u001b[0m \u001b[0mslice_inputs\u001b[0m\u001b[0;34m(\u001b[0m\u001b[0mself\u001b[0m\u001b[0;34m,\u001b[0m \u001b[0mindices_dataset\u001b[0m\u001b[0;34m,\u001b[0m \u001b[0minputs\u001b[0m\u001b[0;34m)\u001b[0m\u001b[0;34m:\u001b[0m\u001b[0;34m\u001b[0m\u001b[0;34m\u001b[0m\u001b[0m\n",
            "\u001b[0;32m~/venv/lib/python3.7/site-packages/tensorflow/python/keras/engine/data_adapter.py\u001b[0m in \u001b[0;36m__init__\u001b[0;34m(self, x, y, sample_weights, sample_weight_modes, batch_size, epochs, steps, shuffle, **kwargs)\u001b[0m\n\u001b[1;32m    280\u001b[0m             label, \", \".join(str(i.shape[0]) for i in nest.flatten(data)))\n\u001b[1;32m    281\u001b[0m       \u001b[0mmsg\u001b[0m \u001b[0;34m+=\u001b[0m \u001b[0;34m\"Please provide data which shares the same first dimension.\"\u001b[0m\u001b[0;34m\u001b[0m\u001b[0;34m\u001b[0m\u001b[0m\n\u001b[0;32m--> 282\u001b[0;31m       \u001b[0;32mraise\u001b[0m \u001b[0mValueError\u001b[0m\u001b[0;34m(\u001b[0m\u001b[0mmsg\u001b[0m\u001b[0;34m)\u001b[0m\u001b[0;34m\u001b[0m\u001b[0;34m\u001b[0m\u001b[0m\n\u001b[0m\u001b[1;32m    283\u001b[0m     \u001b[0mnum_samples\u001b[0m \u001b[0;34m=\u001b[0m \u001b[0mnum_samples\u001b[0m\u001b[0;34m.\u001b[0m\u001b[0mpop\u001b[0m\u001b[0;34m(\u001b[0m\u001b[0;34m)\u001b[0m\u001b[0;34m\u001b[0m\u001b[0;34m\u001b[0m\u001b[0m\n\u001b[1;32m    284\u001b[0m \u001b[0;34m\u001b[0m\u001b[0m\n",
            "\u001b[0;31mValueError\u001b[0m: Data cardinality is ambiguous:\n  x sizes: 4\n  y sizes: 789697\nPlease provide data which shares the same first dimension."
          ]
        }
      ],
      "execution_count": null
    },
    {
      "cell_type": "code",
      "source": "",
      "metadata": {
        "tags": [],
        "cell_id": "00028-66cddc8e-84b0-4560-ba89-ea3c6db05fdc",
        "deepnote_to_be_reexecuted": true,
        "source_hash": "b623e53d",
        "deepnote_cell_type": "code"
      },
      "outputs": [],
      "execution_count": null
    },
    {
      "cell_type": "code",
      "source": "",
      "metadata": {
        "tags": [],
        "cell_id": "00029-52ffadf1-379a-475c-8b9d-fa6a25f7a1ab",
        "deepnote_to_be_reexecuted": true,
        "source_hash": "b623e53d",
        "deepnote_cell_type": "code"
      },
      "outputs": [],
      "execution_count": null
    },
    {
      "cell_type": "markdown",
      "source": "## Analyse des résultats",
      "metadata": {
        "tags": [],
        "cell_id": "00028-71783900-aacc-4f4c-8357-8397cba8fd63",
        "deepnote_cell_type": "markdown"
      }
    },
    {
      "cell_type": "code",
      "source": "y_test_pred = model.predict_classes(X_test_vect)",
      "metadata": {
        "tags": [],
        "cell_id": "00029-d44f71dc-57c2-4bd3-9411-62135a91131e",
        "deepnote_to_be_reexecuted": true,
        "source_hash": "fe2a7821",
        "deepnote_cell_type": "code"
      },
      "outputs": [],
      "execution_count": null
    },
    {
      "cell_type": "code",
      "source": "from sklearn.metrics import confusion_matrix\n\ncf_matrix = confusion_matrix(y_test, y_test_pred)\nprint(cf_matrix)",
      "metadata": {
        "tags": [],
        "cell_id": "00030-ca0f510d-d472-4e75-ad2b-0d56c50de0b9",
        "deepnote_to_be_reexecuted": true,
        "source_hash": "96960f07",
        "deepnote_cell_type": "code"
      },
      "outputs": [],
      "execution_count": null
    },
    {
      "cell_type": "code",
      "source": "import seaborn as sns\nsns.heatmap(cf_matrix/np.sum(cf_matrix), annot=True, fmt='.2%', cmap='Blues')",
      "metadata": {
        "tags": [],
        "cell_id": "00031-1919d388-f30e-4701-9991-1411a3a2e5d8",
        "deepnote_to_be_reexecuted": true,
        "source_hash": "a69e652c",
        "deepnote_cell_type": "code"
      },
      "outputs": [],
      "execution_count": null
    },
    {
      "cell_type": "markdown",
      "source": "<a style='text-decoration:none;line-height:16px;display:flex;color:#5B5B62;padding:10px;justify-content:end;' href='https://deepnote.com?utm_source=created-in-deepnote-cell&projectId=e80043e2-6875-4b65-a196-a0ffb97a1282' target=\"_blank\">\n<img style='display:inline;max-height:16px;margin:0px;margin-right:7.5px;' src='data:image/svg+xml;base64,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' > </img>\nCreated in <span style='font-weight:600;margin-left:4px;'>Deepnote</span></a>",
      "metadata": {
        "tags": [],
        "created_in_deepnote_cell": true,
        "deepnote_cell_type": "markdown"
      }
    }
  ],
  "nbformat": 4,
  "nbformat_minor": 2,
  "metadata": {
    "orig_nbformat": 2,
    "deepnote_notebook_id": "0b4e3a73-6956-48d7-93fc-201636057e4d",
    "deepnote": {},
    "deepnote_execution_queue": []
  }
}