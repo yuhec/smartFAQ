{
  "cells": [
    {
      "cell_type": "code",
      "metadata": {
        "cell_id": "00000-55c302bb-1af3-4107-98b9-eab4afd9085c",
        "deepnote_cell_type": "code"
      },
      "source": "import pandas as pd\nfrom tensorflow import keras\nimport pickle\nfrom time import time\n\nimport sys\nsys.path.append('../..')\nfrom smartFAQ.src.cleanTxt import brief_cleaning\nfrom smartFAQ.src.tokenPad import tokenization_padding",
      "execution_count": 1,
      "outputs": [
        {
          "name": "stderr",
          "output_type": "stream",
          "text": "[nltk_data] Downloading package punkt to /root/nltk_data...\n[nltk_data]   Package punkt is already up-to-date!\n[nltk_data] Downloading package stopwords to /root/nltk_data...\n[nltk_data]   Package stopwords is already up-to-date!\n"
        }
      ]
    },
    {
      "cell_type": "markdown",
      "source": "# Load test data and model",
      "metadata": {
        "cell_id": "00001-e6964cec-006a-4179-8ae0-a6b2c3a2db08",
        "deepnote_cell_type": "markdown"
      }
    },
    {
      "cell_type": "code",
      "metadata": {
        "cell_id": "00002-87837ccc-afc3-4ef7-86a9-5dff051f49a5",
        "deepnote_cell_type": "code"
      },
      "source": "with open('../data/x_test.pickle', 'rb') as handle:\n    X_test = pickle.load(handle)",
      "execution_count": 2,
      "outputs": []
    },
    {
      "cell_type": "code",
      "metadata": {
        "cell_id": "00003-cd03f2b2-a1ff-4763-972d-98cff1990258",
        "deepnote_cell_type": "code"
      },
      "source": "MAX_NUM_WORDS = 20000\nMAX_LEN = 3000",
      "execution_count": 3,
      "outputs": []
    },
    {
      "cell_type": "code",
      "metadata": {
        "cell_id": "00004-36264194-55de-480b-a832-e23e030ff5e5",
        "deepnote_cell_type": "code"
      },
      "source": "# Get the best answer of the question\n# @param df : Dataframe\n# @param model : a previous saved model\n#\n# return answer, score\ndef best_answer(df, model):\n    \n    df_clean = brief_cleaning(df, ['question', 'answer'])\n#     df_pad = tokenization_padding(df_clean, 'answer', ['question'], MAX_NUM_WORDS)\n    df_pad = tokenization_padding(df_clean, 'answer', [], MAX_NUM_WORDS, MAX_LEN)\n    print(df_pad.shape)\n    \n    pred = model.predict(df_pad)\n    print(pred)\n    return pred",
      "execution_count": 4,
      "outputs": []
    },
    {
      "cell_type": "markdown",
      "source": "## Selection a question with its answers",
      "metadata": {
        "cell_id": "00005-c699823a-48cf-4bfb-807b-e8bdd568d46a",
        "deepnote_cell_type": "markdown"
      }
    },
    {
      "cell_type": "code",
      "metadata": {
        "cell_id": "00006-6e5c628a-2e38-4ef2-897a-3db9c0fbcd07",
        "deepnote_cell_type": "code"
      },
      "source": "X_test.sort_values(by=['question'])",
      "execution_count": 5,
      "outputs": [
        {
          "data": {
            "text/html": "<div>\n<style scoped>\n    .dataframe tbody tr th:only-of-type {\n        vertical-align: middle;\n    }\n\n    .dataframe tbody tr th {\n        vertical-align: top;\n    }\n\n    .dataframe thead th {\n        text-align: right;\n    }\n</style>\n<table border=\"1\" class=\"dataframe\">\n  <thead>\n    <tr style=\"text-align: right;\">\n      <th></th>\n      <th>id</th>\n      <th>question</th>\n      <th>question_body</th>\n      <th>answer</th>\n    </tr>\n  </thead>\n  <tbody>\n    <tr>\n      <th>10084</th>\n      <td>1196886</td>\n      <td>'Connection reset peer ' socket error When clo...</td>\n      <td>We 're developing Python web service client we...</td>\n      <td>I realize using python I found Java article us...</td>\n    </tr>\n    <tr>\n      <th>4701</th>\n      <td>186636</td>\n      <td>'from X import ' versus 'import X X '</td>\n      <td>I 've seen Python programmers use following st...</td>\n      <td>I prefer import X use X much possible My excep...</td>\n    </tr>\n    <tr>\n      <th>46702</th>\n      <td>1683591</td>\n      <td>'getattr attribute name must string ' error ad...</td>\n      <td>I following model set class UserProfile models...</td>\n      <td>Your problem height field width field contain ...</td>\n    </tr>\n    <tr>\n      <th>19531</th>\n      <td>19185936</td>\n      <td>'import module ' 'from module import '</td>\n      <td>I 've tried find comprehensive guide whether b...</td>\n      <td>There 's another detail mentioned related writ...</td>\n    </tr>\n    <tr>\n      <th>40995</th>\n      <td>15942290</td>\n      <td>'s good way combinate set</td>\n      <td>Given set b c 's good way produce b c ab ac ad...</td>\n      <td>This wild none answers actually provide return...</td>\n    </tr>\n    <tr>\n      <th>...</th>\n      <td>...</td>\n      <td>...</td>\n      <td>...</td>\n      <td>...</td>\n    </tr>\n    <tr>\n      <th>16154</th>\n      <td>597107</td>\n      <td>xml dom minidom Getting CDATA values</td>\n      <td>I 'm able get value image tag see XML Category...</td>\n      <td>p getElementsByTagName 'Category ' firstChild ...</td>\n    </tr>\n    <tr>\n      <th>46222</th>\n      <td>1662458</td>\n      <td>xml etree ElementTree equivalent Java</td>\n      <td>I 've quite bit simple XML processing python g...</td>\n      <td>You might look following alternatives dom j xo...</td>\n    </tr>\n    <tr>\n      <th>46225</th>\n      <td>1663217</td>\n      <td>xml etree ElementTree equivalent Java</td>\n      <td>I 've quite bit simple XML processing python g...</td>\n      <td>It true Java XML APIs greatest terms usability...</td>\n    </tr>\n    <tr>\n      <th>46224</th>\n      <td>1662607</td>\n      <td>xml etree ElementTree equivalent Java</td>\n      <td>I 've quite bit simple XML processing python g...</td>\n      <td>To honest XML APIs Java suck vary level suckag...</td>\n    </tr>\n    <tr>\n      <th>31807</th>\n      <td>1140753</td>\n      <td>xml parsers expat ExpatError parsing XML</td>\n      <td>I trying parse XML Python getting far I think ...</td>\n      <td>The main problem XML code returned service n't...</td>\n    </tr>\n  </tbody>\n</table>\n<p>6000 rows × 4 columns</p>\n</div>",
            "text/plain": "             id                                           question  \\\n10084   1196886  'Connection reset peer ' socket error When clo...   \n4701     186636              'from X import ' versus 'import X X '   \n46702   1683591  'getattr attribute name must string ' error ad...   \n19531  19185936             'import module ' 'from module import '   \n40995  15942290                          's good way combinate set   \n...         ...                                                ...   \n16154    597107               xml dom minidom Getting CDATA values   \n46222   1662458              xml etree ElementTree equivalent Java   \n46225   1663217              xml etree ElementTree equivalent Java   \n46224   1662607              xml etree ElementTree equivalent Java   \n31807   1140753           xml parsers expat ExpatError parsing XML   \n\n                                           question_body  \\\n10084  We 're developing Python web service client we...   \n4701   I 've seen Python programmers use following st...   \n46702  I following model set class UserProfile models...   \n19531  I 've tried find comprehensive guide whether b...   \n40995  Given set b c 's good way produce b c ab ac ad...   \n...                                                  ...   \n16154  I 'm able get value image tag see XML Category...   \n46222  I 've quite bit simple XML processing python g...   \n46225  I 've quite bit simple XML processing python g...   \n46224  I 've quite bit simple XML processing python g...   \n31807  I trying parse XML Python getting far I think ...   \n\n                                                  answer  \n10084  I realize using python I found Java article us...  \n4701   I prefer import X use X much possible My excep...  \n46702  Your problem height field width field contain ...  \n19531  There 's another detail mentioned related writ...  \n40995  This wild none answers actually provide return...  \n...                                                  ...  \n16154  p getElementsByTagName 'Category ' firstChild ...  \n46222  You might look following alternatives dom j xo...  \n46225  It true Java XML APIs greatest terms usability...  \n46224  To honest XML APIs Java suck vary level suckag...  \n31807  The main problem XML code returned service n't...  \n\n[6000 rows x 4 columns]"
          },
          "execution_count": 5,
          "metadata": {},
          "output_type": "execute_result"
        }
      ]
    },
    {
      "cell_type": "markdown",
      "source": "# Main",
      "metadata": {
        "cell_id": "00007-d24bd636-2c92-44f4-8d5c-fefef4fa4274",
        "deepnote_cell_type": "markdown"
      }
    },
    {
      "cell_type": "markdown",
      "source": "## Try with CNN Model",
      "metadata": {
        "cell_id": "00008-3b412f20-1ed4-4e76-b721-45fc7ad998ce",
        "deepnote_cell_type": "markdown"
      }
    },
    {
      "cell_type": "code",
      "metadata": {
        "cell_id": "00009-deb9dce4-d378-4730-821a-a0673764175b",
        "deepnote_cell_type": "code"
      },
      "source": "xml_q = X_test['question'] == 'xml etree ElementTree equivalent Java'\nxml_q = X_test[xml_q]\nxml_q = xml_q[['question', 'answer']]",
      "execution_count": 6,
      "outputs": []
    },
    {
      "cell_type": "code",
      "metadata": {
        "cell_id": "00010-1dfea8e5-8663-4404-8bec-77b678f721cd",
        "deepnote_cell_type": "code"
      },
      "source": "xml_q",
      "execution_count": 7,
      "outputs": [
        {
          "data": {
            "text/html": "<div>\n<style scoped>\n    .dataframe tbody tr th:only-of-type {\n        vertical-align: middle;\n    }\n\n    .dataframe tbody tr th {\n        vertical-align: top;\n    }\n\n    .dataframe thead th {\n        text-align: right;\n    }\n</style>\n<table border=\"1\" class=\"dataframe\">\n  <thead>\n    <tr style=\"text-align: right;\">\n      <th></th>\n      <th>question</th>\n      <th>answer</th>\n    </tr>\n  </thead>\n  <tbody>\n    <tr>\n      <th>46225</th>\n      <td>xml etree ElementTree equivalent Java</td>\n      <td>It true Java XML APIs greatest terms usability...</td>\n    </tr>\n    <tr>\n      <th>46222</th>\n      <td>xml etree ElementTree equivalent Java</td>\n      <td>You might look following alternatives dom j xo...</td>\n    </tr>\n    <tr>\n      <th>46224</th>\n      <td>xml etree ElementTree equivalent Java</td>\n      <td>To honest XML APIs Java suck vary level suckag...</td>\n    </tr>\n  </tbody>\n</table>\n</div>",
            "text/plain": "                                    question  \\\n46225  xml etree ElementTree equivalent Java   \n46222  xml etree ElementTree equivalent Java   \n46224  xml etree ElementTree equivalent Java   \n\n                                                  answer  \n46225  It true Java XML APIs greatest terms usability...  \n46222  You might look following alternatives dom j xo...  \n46224  To honest XML APIs Java suck vary level suckag...  "
          },
          "execution_count": 7,
          "metadata": {},
          "output_type": "execute_result"
        }
      ]
    },
    {
      "cell_type": "code",
      "metadata": {
        "cell_id": "00011-9f55ebcb-4c11-4f5c-b2f2-8a1a23f678c5",
        "deepnote_cell_type": "code"
      },
      "source": "CNN_model = keras.models.load_model('../model_builder/DL_models/saved_model/CNN_model_5')",
      "execution_count": 8,
      "outputs": []
    },
    {
      "cell_type": "code",
      "metadata": {
        "cell_id": "00012-5eda46ba-05f0-4110-ae33-f3e724d8856b",
        "deepnote_cell_type": "code"
      },
      "source": "t = time()\nanswer = best_answer(xml_q, CNN_model)\nprint('Time to predict: {} mins'.format(round((time() - t) / 60, 2)))",
      "execution_count": 9,
      "outputs": [
        {
          "name": "stdout",
          "output_type": "stream",
          "text": "Time to clean up everything: 0.0 mins\n(3, 3000)\n[[0.]\n [0.]\n [0.]]\nTime to predict: 0.0 mins\n"
        }
      ]
    },
    {
      "cell_type": "markdown",
      "source": "## Try with Decision Tree Model",
      "metadata": {
        "cell_id": "00013-7f29d5e2-1067-4816-923b-6c1f0abdd862",
        "deepnote_cell_type": "markdown"
      }
    },
    {
      "cell_type": "code",
      "metadata": {
        "cell_id": "00014-160efb12-4d96-424b-8531-b258f4fc4563",
        "deepnote_cell_type": "code"
      },
      "source": "with open('../data/decision_tree_model.pickle', 'rb') as handle:\n    decision_tree_model = pickle.load(handle)\nwith open('../data/decision_tree_enc.pickle', 'rb') as handle:\n    decision_tree_enc = pickle.load(handle)",
      "execution_count": 10,
      "outputs": []
    },
    {
      "cell_type": "code",
      "metadata": {
        "cell_id": "00015-bee6e73d-6b00-4195-bb28-85c06ce6aa3e",
        "deepnote_cell_type": "code"
      },
      "source": "t = time()\n\ndf_selected_question = X_test['question'] == 'xml etree ElementTree equivalent Java'\ndf_test = X_test[df_selected_question]\ndf_test = brief_cleaning(df_test, ['question', 'question_body', 'answer'])\n\ndf_test = decision_tree_enc.transform(df_test)\npred = decision_tree_model.predict(df_test)\nprint(pred)\nprint('Time to predict: {} mins'.format(round((time() - t) / 60, 2)))",
      "execution_count": 11,
      "outputs": [
        {
          "name": "stdout",
          "output_type": "stream",
          "text": "Time to clean up everything: 0.0 mins\n"
        },
        {
          "name": "stderr",
          "output_type": "stream",
          "text": "../../smartFAQ/src/cleanTxt.py:52: SettingWithCopyWarning: \nA value is trying to be set on a copy of a slice from a DataFrame.\nTry using .loc[row_indexer,col_indexer] = value instead\n\nSee the caveats in the documentation: https://pandas.pydata.org/pandas-docs/stable/user_guide/indexing.html#returning-a-view-versus-a-copy\n  df[col] = sentences\n"
        },
        {
          "name": "stdout",
          "output_type": "stream",
          "text": "[5.05583827 5.05583827 5.05583827]\nTime to predict: 0.0 mins\n"
        }
      ]
    },
    {
      "cell_type": "markdown",
      "source": "<a style='text-decoration:none;line-height:16px;display:flex;color:#5B5B62;padding:10px;justify-content:end;' href='https://deepnote.com?utm_source=created-in-deepnote-cell&projectId=e80043e2-6875-4b65-a196-a0ffb97a1282' target=\"_blank\">\n<img style='display:inline;max-height:16px;margin:0px;margin-right:7.5px;' src='data:image/svg+xml;base64,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' > </img>\nCreated in <span style='font-weight:600;margin-left:4px;'>Deepnote</span></a>",
      "metadata": {
        "tags": [],
        "created_in_deepnote_cell": true,
        "deepnote_cell_type": "markdown"
      }
    }
  ],
  "nbformat": 4,
  "nbformat_minor": 4,
  "metadata": {
    "kernelspec": {
      "display_name": "Python 3",
      "language": "python",
      "name": "python3"
    },
    "language_info": {
      "codemirror_mode": {
        "name": "ipython",
        "version": 3
      },
      "file_extension": ".py",
      "mimetype": "text/x-python",
      "name": "python",
      "nbconvert_exporter": "python",
      "pygments_lexer": "ipython3",
      "version": "3.6.9"
    },
    "deepnote_notebook_id": "b3964212-0ce9-4654-b927-14a6aec63f89",
    "deepnote": {},
    "deepnote_execution_queue": []
  }
}