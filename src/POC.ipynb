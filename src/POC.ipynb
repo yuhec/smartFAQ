{
 "cells": [
  {
   "cell_type": "code",
   "execution_count": 1,
   "metadata": {},
   "outputs": [
    {
     "name": "stderr",
     "output_type": "stream",
     "text": [
      "[nltk_data] Downloading package punkt to /root/nltk_data...\n",
      "[nltk_data]   Package punkt is already up-to-date!\n",
      "[nltk_data] Downloading package stopwords to /root/nltk_data...\n",
      "[nltk_data]   Package stopwords is already up-to-date!\n"
     ]
    }
   ],
   "source": [
    "import pandas as pd\n",
    "from tensorflow import keras\n",
    "import pickle\n",
    "from time import time\n",
    "\n",
    "import sys\n",
    "sys.path.append('../..')\n",
    "from smartFAQ.src.cleanTxt import brief_cleaning\n",
    "from smartFAQ.src.tokenPad import tokenization_padding"
   ]
  },
  {
   "cell_type": "markdown",
   "metadata": {},
   "source": [
    "# Load test data and model"
   ]
  },
  {
   "cell_type": "code",
   "execution_count": 2,
   "metadata": {},
   "outputs": [],
   "source": [
    "with open('../data/x_test.pickle', 'rb') as handle:\n",
    "    X_test = pickle.load(handle)"
   ]
  },
  {
   "cell_type": "code",
   "execution_count": 3,
   "metadata": {},
   "outputs": [],
   "source": [
    "MAX_NUM_WORDS = 20000\n",
    "MAX_LEN = 3000"
   ]
  },
  {
   "cell_type": "code",
   "execution_count": 4,
   "metadata": {},
   "outputs": [],
   "source": [
    "# Get the best answer of the question\n",
    "# @param df : Dataframe\n",
    "# @param model : a previous saved model\n",
    "#\n",
    "# return answer, score\n",
    "def best_answer(df, model):\n",
    "    \n",
    "    df_clean = brief_cleaning(df, ['question', 'answer'])\n",
    "#     df_pad = tokenization_padding(df_clean, 'answer', ['question'], MAX_NUM_WORDS)\n",
    "    df_pad = tokenization_padding(df_clean, 'answer', [], MAX_NUM_WORDS, MAX_LEN)\n",
    "    print(df_pad.shape)\n",
    "    \n",
    "    pred = model.predict(df_pad)\n",
    "    print(pred)\n",
    "    return pred"
   ]
  },
  {
   "cell_type": "markdown",
   "metadata": {},
   "source": [
    "## Selection a question with its answers"
   ]
  },
  {
   "cell_type": "code",
   "execution_count": 5,
   "metadata": {},
   "outputs": [
    {
     "data": {
      "text/html": [
       "<div>\n",
       "<style scoped>\n",
       "    .dataframe tbody tr th:only-of-type {\n",
       "        vertical-align: middle;\n",
       "    }\n",
       "\n",
       "    .dataframe tbody tr th {\n",
       "        vertical-align: top;\n",
       "    }\n",
       "\n",
       "    .dataframe thead th {\n",
       "        text-align: right;\n",
       "    }\n",
       "</style>\n",
       "<table border=\"1\" class=\"dataframe\">\n",
       "  <thead>\n",
       "    <tr style=\"text-align: right;\">\n",
       "      <th></th>\n",
       "      <th>id</th>\n",
       "      <th>question</th>\n",
       "      <th>question_body</th>\n",
       "      <th>answer</th>\n",
       "    </tr>\n",
       "  </thead>\n",
       "  <tbody>\n",
       "    <tr>\n",
       "      <th>10084</th>\n",
       "      <td>1196886</td>\n",
       "      <td>'Connection reset peer ' socket error When clo...</td>\n",
       "      <td>We 're developing Python web service client we...</td>\n",
       "      <td>I realize using python I found Java article us...</td>\n",
       "    </tr>\n",
       "    <tr>\n",
       "      <th>4701</th>\n",
       "      <td>186636</td>\n",
       "      <td>'from X import ' versus 'import X X '</td>\n",
       "      <td>I 've seen Python programmers use following st...</td>\n",
       "      <td>I prefer import X use X much possible My excep...</td>\n",
       "    </tr>\n",
       "    <tr>\n",
       "      <th>46702</th>\n",
       "      <td>1683591</td>\n",
       "      <td>'getattr attribute name must string ' error ad...</td>\n",
       "      <td>I following model set class UserProfile models...</td>\n",
       "      <td>Your problem height field width field contain ...</td>\n",
       "    </tr>\n",
       "    <tr>\n",
       "      <th>19531</th>\n",
       "      <td>19185936</td>\n",
       "      <td>'import module ' 'from module import '</td>\n",
       "      <td>I 've tried find comprehensive guide whether b...</td>\n",
       "      <td>There 's another detail mentioned related writ...</td>\n",
       "    </tr>\n",
       "    <tr>\n",
       "      <th>40995</th>\n",
       "      <td>15942290</td>\n",
       "      <td>'s good way combinate set</td>\n",
       "      <td>Given set b c 's good way produce b c ab ac ad...</td>\n",
       "      <td>This wild none answers actually provide return...</td>\n",
       "    </tr>\n",
       "    <tr>\n",
       "      <th>...</th>\n",
       "      <td>...</td>\n",
       "      <td>...</td>\n",
       "      <td>...</td>\n",
       "      <td>...</td>\n",
       "    </tr>\n",
       "    <tr>\n",
       "      <th>16154</th>\n",
       "      <td>597107</td>\n",
       "      <td>xml dom minidom Getting CDATA values</td>\n",
       "      <td>I 'm able get value image tag see XML Category...</td>\n",
       "      <td>p getElementsByTagName 'Category ' firstChild ...</td>\n",
       "    </tr>\n",
       "    <tr>\n",
       "      <th>46222</th>\n",
       "      <td>1662458</td>\n",
       "      <td>xml etree ElementTree equivalent Java</td>\n",
       "      <td>I 've quite bit simple XML processing python g...</td>\n",
       "      <td>You might look following alternatives dom j xo...</td>\n",
       "    </tr>\n",
       "    <tr>\n",
       "      <th>46225</th>\n",
       "      <td>1663217</td>\n",
       "      <td>xml etree ElementTree equivalent Java</td>\n",
       "      <td>I 've quite bit simple XML processing python g...</td>\n",
       "      <td>It true Java XML APIs greatest terms usability...</td>\n",
       "    </tr>\n",
       "    <tr>\n",
       "      <th>46224</th>\n",
       "      <td>1662607</td>\n",
       "      <td>xml etree ElementTree equivalent Java</td>\n",
       "      <td>I 've quite bit simple XML processing python g...</td>\n",
       "      <td>To honest XML APIs Java suck vary level suckag...</td>\n",
       "    </tr>\n",
       "    <tr>\n",
       "      <th>31807</th>\n",
       "      <td>1140753</td>\n",
       "      <td>xml parsers expat ExpatError parsing XML</td>\n",
       "      <td>I trying parse XML Python getting far I think ...</td>\n",
       "      <td>The main problem XML code returned service n't...</td>\n",
       "    </tr>\n",
       "  </tbody>\n",
       "</table>\n",
       "<p>6000 rows × 4 columns</p>\n",
       "</div>"
      ],
      "text/plain": [
       "             id                                           question  \\\n",
       "10084   1196886  'Connection reset peer ' socket error When clo...   \n",
       "4701     186636              'from X import ' versus 'import X X '   \n",
       "46702   1683591  'getattr attribute name must string ' error ad...   \n",
       "19531  19185936             'import module ' 'from module import '   \n",
       "40995  15942290                          's good way combinate set   \n",
       "...         ...                                                ...   \n",
       "16154    597107               xml dom minidom Getting CDATA values   \n",
       "46222   1662458              xml etree ElementTree equivalent Java   \n",
       "46225   1663217              xml etree ElementTree equivalent Java   \n",
       "46224   1662607              xml etree ElementTree equivalent Java   \n",
       "31807   1140753           xml parsers expat ExpatError parsing XML   \n",
       "\n",
       "                                           question_body  \\\n",
       "10084  We 're developing Python web service client we...   \n",
       "4701   I 've seen Python programmers use following st...   \n",
       "46702  I following model set class UserProfile models...   \n",
       "19531  I 've tried find comprehensive guide whether b...   \n",
       "40995  Given set b c 's good way produce b c ab ac ad...   \n",
       "...                                                  ...   \n",
       "16154  I 'm able get value image tag see XML Category...   \n",
       "46222  I 've quite bit simple XML processing python g...   \n",
       "46225  I 've quite bit simple XML processing python g...   \n",
       "46224  I 've quite bit simple XML processing python g...   \n",
       "31807  I trying parse XML Python getting far I think ...   \n",
       "\n",
       "                                                  answer  \n",
       "10084  I realize using python I found Java article us...  \n",
       "4701   I prefer import X use X much possible My excep...  \n",
       "46702  Your problem height field width field contain ...  \n",
       "19531  There 's another detail mentioned related writ...  \n",
       "40995  This wild none answers actually provide return...  \n",
       "...                                                  ...  \n",
       "16154  p getElementsByTagName 'Category ' firstChild ...  \n",
       "46222  You might look following alternatives dom j xo...  \n",
       "46225  It true Java XML APIs greatest terms usability...  \n",
       "46224  To honest XML APIs Java suck vary level suckag...  \n",
       "31807  The main problem XML code returned service n't...  \n",
       "\n",
       "[6000 rows x 4 columns]"
      ]
     },
     "execution_count": 5,
     "metadata": {},
     "output_type": "execute_result"
    }
   ],
   "source": [
    "X_test.sort_values(by=['question'])"
   ]
  },
  {
   "cell_type": "markdown",
   "metadata": {},
   "source": [
    "# Main"
   ]
  },
  {
   "cell_type": "markdown",
   "metadata": {},
   "source": [
    "## Try with CNN Model"
   ]
  },
  {
   "cell_type": "code",
   "execution_count": 6,
   "metadata": {},
   "outputs": [],
   "source": [
    "xml_q = X_test['question'] == 'xml etree ElementTree equivalent Java'\n",
    "xml_q = X_test[xml_q]\n",
    "xml_q = xml_q[['question', 'answer']]"
   ]
  },
  {
   "cell_type": "code",
   "execution_count": 7,
   "metadata": {},
   "outputs": [
    {
     "data": {
      "text/html": [
       "<div>\n",
       "<style scoped>\n",
       "    .dataframe tbody tr th:only-of-type {\n",
       "        vertical-align: middle;\n",
       "    }\n",
       "\n",
       "    .dataframe tbody tr th {\n",
       "        vertical-align: top;\n",
       "    }\n",
       "\n",
       "    .dataframe thead th {\n",
       "        text-align: right;\n",
       "    }\n",
       "</style>\n",
       "<table border=\"1\" class=\"dataframe\">\n",
       "  <thead>\n",
       "    <tr style=\"text-align: right;\">\n",
       "      <th></th>\n",
       "      <th>question</th>\n",
       "      <th>answer</th>\n",
       "    </tr>\n",
       "  </thead>\n",
       "  <tbody>\n",
       "    <tr>\n",
       "      <th>46225</th>\n",
       "      <td>xml etree ElementTree equivalent Java</td>\n",
       "      <td>It true Java XML APIs greatest terms usability...</td>\n",
       "    </tr>\n",
       "    <tr>\n",
       "      <th>46222</th>\n",
       "      <td>xml etree ElementTree equivalent Java</td>\n",
       "      <td>You might look following alternatives dom j xo...</td>\n",
       "    </tr>\n",
       "    <tr>\n",
       "      <th>46224</th>\n",
       "      <td>xml etree ElementTree equivalent Java</td>\n",
       "      <td>To honest XML APIs Java suck vary level suckag...</td>\n",
       "    </tr>\n",
       "  </tbody>\n",
       "</table>\n",
       "</div>"
      ],
      "text/plain": [
       "                                    question  \\\n",
       "46225  xml etree ElementTree equivalent Java   \n",
       "46222  xml etree ElementTree equivalent Java   \n",
       "46224  xml etree ElementTree equivalent Java   \n",
       "\n",
       "                                                  answer  \n",
       "46225  It true Java XML APIs greatest terms usability...  \n",
       "46222  You might look following alternatives dom j xo...  \n",
       "46224  To honest XML APIs Java suck vary level suckag...  "
      ]
     },
     "execution_count": 7,
     "metadata": {},
     "output_type": "execute_result"
    }
   ],
   "source": [
    "xml_q"
   ]
  },
  {
   "cell_type": "code",
   "execution_count": 8,
   "metadata": {},
   "outputs": [],
   "source": [
    "CNN_model = keras.models.load_model('../model_builder/DL_models/saved_model/CNN_model_5')"
   ]
  },
  {
   "cell_type": "code",
   "execution_count": 9,
   "metadata": {},
   "outputs": [
    {
     "name": "stdout",
     "output_type": "stream",
     "text": [
      "Time to clean up everything: 0.0 mins\n",
      "(3, 3000)\n",
      "[[0.]\n",
      " [0.]\n",
      " [0.]]\n",
      "Time to predict: 0.0 mins\n"
     ]
    }
   ],
   "source": [
    "t = time()\n",
    "answer = best_answer(xml_q, CNN_model)\n",
    "print('Time to predict: {} mins'.format(round((time() - t) / 60, 2)))"
   ]
  },
  {
   "cell_type": "markdown",
   "metadata": {},
   "source": [
    "## Try with Decision Tree Model"
   ]
  },
  {
   "cell_type": "code",
   "execution_count": 10,
   "metadata": {},
   "outputs": [],
   "source": [
    "with open('../data/decision_tree_model.pickle', 'rb') as handle:\n",
    "    decision_tree_model = pickle.load(handle)\n",
    "with open('../data/decision_tree_enc.pickle', 'rb') as handle:\n",
    "    decision_tree_enc = pickle.load(handle)"
   ]
  },
  {
   "cell_type": "code",
   "execution_count": 11,
   "metadata": {},
   "outputs": [
    {
     "name": "stdout",
     "output_type": "stream",
     "text": [
      "Time to clean up everything: 0.0 mins\n"
     ]
    },
    {
     "name": "stderr",
     "output_type": "stream",
     "text": [
      "../../smartFAQ/src/cleanTxt.py:52: SettingWithCopyWarning: \n",
      "A value is trying to be set on a copy of a slice from a DataFrame.\n",
      "Try using .loc[row_indexer,col_indexer] = value instead\n",
      "\n",
      "See the caveats in the documentation: https://pandas.pydata.org/pandas-docs/stable/user_guide/indexing.html#returning-a-view-versus-a-copy\n",
      "  df[col] = sentences\n"
     ]
    },
    {
     "name": "stdout",
     "output_type": "stream",
     "text": [
      "[5.05583827 5.05583827 5.05583827]\n",
      "Time to predict: 0.0 mins\n"
     ]
    }
   ],
   "source": [
    "t = time()\n",
    "\n",
    "df_selected_question = X_test['question'] == 'xml etree ElementTree equivalent Java'\n",
    "df_test = X_test[df_selected_question]\n",
    "df_test = brief_cleaning(df_test, ['question', 'question_body', 'answer'])\n",
    "\n",
    "df_test = decision_tree_enc.transform(df_test)\n",
    "pred = decision_tree_model.predict(df_test)\n",
    "print(pred)\n",
    "print('Time to predict: {} mins'.format(round((time() - t) / 60, 2)))"
   ]
  }
 ],
 "metadata": {
  "kernelspec": {
   "display_name": "Python 3",
   "language": "python",
   "name": "python3"
  },
  "language_info": {
   "codemirror_mode": {
    "name": "ipython",
    "version": 3
   },
   "file_extension": ".py",
   "mimetype": "text/x-python",
   "name": "python",
   "nbconvert_exporter": "python",
   "pygments_lexer": "ipython3",
   "version": "3.6.9"
  }
 },
 "nbformat": 4,
 "nbformat_minor": 4
}
